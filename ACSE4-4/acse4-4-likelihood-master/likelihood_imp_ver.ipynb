{
  "nbformat": 4,
  "nbformat_minor": 0,
  "metadata": {
    "kernelspec": {
      "display_name": "Python 3",
      "language": "python",
      "name": "python3"
    },
    "language_info": {
      "codemirror_mode": {
        "name": "ipython",
        "version": 3
      },
      "file_extension": ".py",
      "mimetype": "text/x-python",
      "name": "python",
      "nbconvert_exporter": "python",
      "pygments_lexer": "ipython3",
      "version": "3.7.6"
    },
    "colab": {
      "name": "likelihood_imp_ver.ipynb",
      "provenance": [],
      "collapsed_sections": [],
      "toc_visible": true,
      "machine_shape": "hm"
    },
    "accelerator": "GPU"
  },
  "cells": [
    {
      "cell_type": "code",
      "metadata": {
        "id": "ve6YuUQk_rgb",
        "colab_type": "code",
        "outputId": "523fd998-6890-455d-f02b-c58497242ca8",
        "colab": {
          "base_uri": "https://localhost:8080/",
          "height": 598
        }
      },
      "source": [
        "import torch\n",
        "import torch.nn as nn\n",
        "import torch.nn.functional as F\n",
        "from torch.utils.data import TensorDataset, DataLoader, Dataset, random_split\n",
        "import torchvision\n",
        "import torchvision.transforms as transforms\n",
        "from torchvision.transforms import Compose, ToTensor, Normalize, RandomRotation, ToPILImage\n",
        "from torchvision import models\n",
        "import torch.optim as optim\n",
        "\n",
        "import matplotlib.pyplot as plt\n",
        "import numpy as np\n",
        "\n",
        "from sklearn.metrics import accuracy_score, f1_score\n",
        "from sklearn.model_selection import StratifiedShuffleSplit\n",
        "\n",
        "!pip install pycm livelossplot\n",
        "%pylab inline\n",
        "\n",
        "from livelossplot import PlotLosses\n",
        "from pycm import *\n",
        "\n",
        "import matplotlib.pyplot as plt"
      ],
      "execution_count": 1,
      "outputs": [
        {
          "output_type": "stream",
          "text": [
            "Collecting pycm\n",
            "\u001b[?25l  Downloading https://files.pythonhosted.org/packages/ee/f1/47adb10e9e0a112fe601645de8ff9174cd5ded8728ac8e720532ab78503c/pycm-2.7-py2.py3-none-any.whl (57kB)\n",
            "\u001b[K     |████████████████████████████████| 61kB 2.9MB/s \n",
            "\u001b[?25hCollecting livelossplot\n",
            "  Downloading https://files.pythonhosted.org/packages/7c/e4/a7884b57113dfe84d3565418820feae7a20964438beb1088b2b08820ad94/livelossplot-0.5.0-py3-none-any.whl\n",
            "Collecting art>=1.8\n",
            "\u001b[?25l  Downloading https://files.pythonhosted.org/packages/22/dd/f7be08119239db50f80285444323e58c81d6443158ac5f8b401b3fedb4d0/art-4.7-py2.py3-none-any.whl (547kB)\n",
            "\u001b[K     |████████████████████████████████| 552kB 11.7MB/s \n",
            "\u001b[?25hRequirement already satisfied: numpy>=1.9.0 in /usr/local/lib/python3.6/dist-packages (from pycm) (1.18.4)\n",
            "Requirement already satisfied: ipython in /usr/local/lib/python3.6/dist-packages (from livelossplot) (5.5.0)\n",
            "Requirement already satisfied: matplotlib; python_version >= \"3.6\" in /usr/local/lib/python3.6/dist-packages (from livelossplot) (3.2.1)\n",
            "Requirement already satisfied: pygments in /usr/local/lib/python3.6/dist-packages (from ipython->livelossplot) (2.1.3)\n",
            "Requirement already satisfied: pexpect; sys_platform != \"win32\" in /usr/local/lib/python3.6/dist-packages (from ipython->livelossplot) (4.8.0)\n",
            "Requirement already satisfied: decorator in /usr/local/lib/python3.6/dist-packages (from ipython->livelossplot) (4.4.2)\n",
            "Requirement already satisfied: prompt-toolkit<2.0.0,>=1.0.4 in /usr/local/lib/python3.6/dist-packages (from ipython->livelossplot) (1.0.18)\n",
            "Requirement already satisfied: setuptools>=18.5 in /usr/local/lib/python3.6/dist-packages (from ipython->livelossplot) (46.3.0)\n",
            "Requirement already satisfied: traitlets>=4.2 in /usr/local/lib/python3.6/dist-packages (from ipython->livelossplot) (4.3.3)\n",
            "Requirement already satisfied: simplegeneric>0.8 in /usr/local/lib/python3.6/dist-packages (from ipython->livelossplot) (0.8.1)\n",
            "Requirement already satisfied: pickleshare in /usr/local/lib/python3.6/dist-packages (from ipython->livelossplot) (0.7.5)\n",
            "Requirement already satisfied: kiwisolver>=1.0.1 in /usr/local/lib/python3.6/dist-packages (from matplotlib; python_version >= \"3.6\"->livelossplot) (1.2.0)\n",
            "Requirement already satisfied: python-dateutil>=2.1 in /usr/local/lib/python3.6/dist-packages (from matplotlib; python_version >= \"3.6\"->livelossplot) (2.8.1)\n",
            "Requirement already satisfied: cycler>=0.10 in /usr/local/lib/python3.6/dist-packages (from matplotlib; python_version >= \"3.6\"->livelossplot) (0.10.0)\n",
            "Requirement already satisfied: pyparsing!=2.0.4,!=2.1.2,!=2.1.6,>=2.0.1 in /usr/local/lib/python3.6/dist-packages (from matplotlib; python_version >= \"3.6\"->livelossplot) (2.4.7)\n",
            "Requirement already satisfied: ptyprocess>=0.5 in /usr/local/lib/python3.6/dist-packages (from pexpect; sys_platform != \"win32\"->ipython->livelossplot) (0.6.0)\n",
            "Requirement already satisfied: wcwidth in /usr/local/lib/python3.6/dist-packages (from prompt-toolkit<2.0.0,>=1.0.4->ipython->livelossplot) (0.1.9)\n",
            "Requirement already satisfied: six>=1.9.0 in /usr/local/lib/python3.6/dist-packages (from prompt-toolkit<2.0.0,>=1.0.4->ipython->livelossplot) (1.12.0)\n",
            "Requirement already satisfied: ipython-genutils in /usr/local/lib/python3.6/dist-packages (from traitlets>=4.2->ipython->livelossplot) (0.2.0)\n",
            "Installing collected packages: art, pycm, livelossplot\n",
            "Successfully installed art-4.7 livelossplot-0.5.0 pycm-2.7\n",
            "Populating the interactive namespace from numpy and matplotlib\n"
          ],
          "name": "stdout"
        },
        {
          "output_type": "stream",
          "text": [
            "/usr/local/lib/python3.6/dist-packages/IPython/core/magics/pylab.py:161: UserWarning: pylab import has clobbered these variables: ['Normalize']\n",
            "`%matplotlib` prevents importing * from pylab and numpy\n",
            "  \"\\n`%matplotlib` prevents importing * from pylab and numpy\"\n"
          ],
          "name": "stderr"
        }
      ]
    },
    {
      "cell_type": "code",
      "metadata": {
        "id": "FrfkAe0D_rgk",
        "colab_type": "code",
        "outputId": "8b3d91fd-0010-4791-8f4a-714017c60245",
        "colab": {
          "base_uri": "https://localhost:8080/",
          "height": 122
        }
      },
      "source": [
        "from google.colab import drive\n",
        "drive.mount('/content/gdrive/')"
      ],
      "execution_count": 2,
      "outputs": [
        {
          "output_type": "stream",
          "text": [
            "Go to this URL in a browser: https://accounts.google.com/o/oauth2/auth?client_id=947318989803-6bn6qk8qdgf4n4g3pfee6491hc0brc4i.apps.googleusercontent.com&redirect_uri=urn%3aietf%3awg%3aoauth%3a2.0%3aoob&response_type=code&scope=email%20https%3a%2f%2fwww.googleapis.com%2fauth%2fdocs.test%20https%3a%2f%2fwww.googleapis.com%2fauth%2fdrive%20https%3a%2f%2fwww.googleapis.com%2fauth%2fdrive.photos.readonly%20https%3a%2f%2fwww.googleapis.com%2fauth%2fpeopleapi.readonly\n",
            "\n",
            "Enter your authorization code:\n",
            "··········\n",
            "Mounted at /content/gdrive/\n"
          ],
          "name": "stdout"
        }
      ]
    },
    {
      "cell_type": "code",
      "metadata": {
        "id": "Op9QYdji_5kV",
        "colab_type": "code",
        "colab": {}
      },
      "source": [
        "!unzip -q \"/content/gdrive/My Drive/acse-miniproject.zip\""
      ],
      "execution_count": 0,
      "outputs": []
    },
    {
      "cell_type": "code",
      "metadata": {
        "id": "KPTlDhmF_rgq",
        "colab_type": "code",
        "outputId": "1830e8c2-b816-4c09-d684-a9e92f852eec",
        "colab": {
          "base_uri": "https://localhost:8080/",
          "height": 34
        }
      },
      "source": [
        "def set_seed(seed):\n",
        "    \"\"\"\n",
        "    Use this to set ALL the random seeds to a fixed value \n",
        "    and take out any randomness from cuda kernels\n",
        "    \"\"\"\n",
        "    random.seed(seed)\n",
        "    np.random.seed(seed)\n",
        "    torch.manual_seed(seed)\n",
        "    torch.cuda.manual_seed_all(seed)\n",
        "\n",
        "    torch.backends.cudnn.benchmark = False  ##uses the inbuilt cudnn auto-tuner to find the fastest convolution algorithms. -\n",
        "    torch.backends.cudnn.enabled   = False\n",
        "\n",
        "    return True\n",
        "\n",
        "set_seed(42)"
      ],
      "execution_count": 4,
      "outputs": [
        {
          "output_type": "execute_result",
          "data": {
            "text/plain": [
              "True"
            ]
          },
          "metadata": {
            "tags": []
          },
          "execution_count": 4
        }
      ]
    },
    {
      "cell_type": "code",
      "metadata": {
        "id": "fJolfn2L_rgu",
        "colab_type": "code",
        "outputId": "95f804b6-5584-4649-d925-176d751fd738",
        "colab": {
          "base_uri": "https://localhost:8080/",
          "height": 34
        }
      },
      "source": [
        "device = 'cpu'\n",
        "if torch.cuda.device_count() > 0 and torch.cuda.is_available():\n",
        "    print(\"Cuda installed! Running on GPU!\")\n",
        "    device = 'cuda'\n",
        "else:\n",
        "    print(\"No GPU available!\")"
      ],
      "execution_count": 5,
      "outputs": [
        {
          "output_type": "stream",
          "text": [
            "Cuda installed! Running on GPU!\n"
          ],
          "name": "stdout"
        }
      ]
    },
    {
      "cell_type": "markdown",
      "metadata": {
        "id": "Msn6oAYL_rgx",
        "colab_type": "text"
      },
      "source": [
        "# 1. get data"
      ]
    },
    {
      "cell_type": "markdown",
      "metadata": {
        "id": "4LH7iq2H_rgy",
        "colab_type": "text"
      },
      "source": [
        "### Load classes"
      ]
    },
    {
      "cell_type": "code",
      "metadata": {
        "id": "HDg9zmS3_rgz",
        "colab_type": "code",
        "colab": {}
      },
      "source": [
        "import json\n",
        "import os\n",
        "from os.path import join as pjoin\n",
        "from scipy import misc\n",
        "from PIL import Image"
      ],
      "execution_count": 0,
      "outputs": []
    },
    {
      "cell_type": "code",
      "metadata": {
        "id": "tjEyB87R_rg1",
        "colab_type": "code",
        "colab": {}
      },
      "source": [
        "def load_mapping(fname):\n",
        "    '''\n",
        "    Load the classes from the json file.\n",
        "    ------\n",
        "    fname:  the path of the json file.  \n",
        "    ------\n",
        "    return: get folders\n",
        "    '''\n",
        "    with open(fname, mode=\"r\") as f:\n",
        "        folder_to_class = json.load(f)\n",
        "    \n",
        "    return folder_to_class\n",
        "\n",
        "classes = load_mapping(\"./mapping.json\")"
      ],
      "execution_count": 0,
      "outputs": []
    },
    {
      "cell_type": "code",
      "metadata": {
        "id": "wUSh2Skt_rg8",
        "colab_type": "code",
        "colab": {}
      },
      "source": [
        "def load_train_data(data_dir):\n",
        "    '''\n",
        "    Load the training data and its lables from the file directory.\n",
        "    Count the number of gray images to see their proportion and \n",
        "    change them to 3-channel images.\n",
        "    ------\n",
        "    data_dir: the directory of training data.  \n",
        "    '''\n",
        "\n",
        "    count = 0\n",
        "    gray_count = 0\n",
        "    all_images = []\n",
        "    labels = []\n",
        "    tmp_label = 0\n",
        "    \n",
        "    for guy in os.listdir(data_dir):\n",
        "        # something in files but shouldn't be included\n",
        "        if guy == '.DS_Store':\n",
        "            continue\n",
        "        \n",
        "        # set the corresponding label for different images\n",
        "        tmp_label = classes[guy]\n",
        "            \n",
        "        person_dir_1 = pjoin(data_dir, guy)\n",
        "        person_dir = pjoin(person_dir_1, \"images\")\n",
        "        for i in os.listdir(person_dir):\n",
        "            image_dir = pjoin(person_dir, i)\n",
        "            img2 = Image.open(image_dir)\n",
        "            img2=np.array(img2)\n",
        "            \n",
        "            # process the gray-image\n",
        "            if len(img2.shape) == 2:\n",
        "                img2 = np.stack((img2, img2, img2), axis=-1)\n",
        "                gray_count+=1\n",
        "        \n",
        "            all_images.append(img2)\n",
        "            labels.append(tmp_label)\n",
        "            count = count+1\n",
        "    print(count)\n",
        "    \n",
        "    return count, all_images, gray_count, labels\n",
        "\n",
        "class MiniDataset(Dataset):\n",
        "    \"\"\"\n",
        "    Initialize the arguments of a dataset.\n",
        "    ------\n",
        "    data (Tensor):    a tensor containing the data e.g. images\n",
        "    targets (Tensor): a tensor containing all the labels\n",
        "    transform:         ptional transform to be applied on a sample.\n",
        "    \"\"\"\n",
        "    def __init__(self, data, targets, transform=None):\n",
        "        \"\"\"\n",
        "        Args:\n",
        "            data (Tensor): A tensor containing the data e.g. images\n",
        "            targets (Tensor): A tensor containing all the labels\n",
        "            transform (callable, optional): Optional transform to be applied\n",
        "                on a sample.\n",
        "        \"\"\"\n",
        "        self.data = data\n",
        "        self.targets = targets\n",
        "        self.transform = transform\n",
        "\n",
        "    def __len__(self):\n",
        "        return len(self.data)\n",
        "\n",
        "    def __getitem__(self, idx):\n",
        "        sample, label = self.data[idx], self.targets[idx]\n",
        "\n",
        "        if self.transform:\n",
        "            sample = self.transform(sample)\n",
        "\n",
        "        return sample, label\n",
        "\n",
        "# taken from: https://discuss.pytorch.org/t/torch-utils-data-dataset-random-split/32209/4 (Thanks ptrblk!)\n",
        "class Subset2Dataset(Dataset):\n",
        "    \"\"\"\n",
        "    Initialize the arguments of a sub dataset.\n",
        "    ------\n",
        "    subset (Tensor): a tensor containing the data \n",
        "    transform:       optional transform to be applied on a sample.\n",
        "    \"\"\"\n",
        "    def __init__(self, subset, transform=None):\n",
        "        self.subset = subset\n",
        "        self.transform = transform\n",
        "        \n",
        "    def __getitem__(self, index):\n",
        "        x, y = self.subset[index]\n",
        "        if self.transform:\n",
        "            x = self.transform(x)\n",
        "        return x, y\n",
        "        \n",
        "    def __len__(self):\n",
        "        return len(self.subset)"
      ],
      "execution_count": 0,
      "outputs": []
    },
    {
      "cell_type": "code",
      "metadata": {
        "id": "bd8axBtV_rg5",
        "colab_type": "code",
        "outputId": "c0fcde18-d324-49e9-f51c-75220fed9d37",
        "colab": {
          "base_uri": "https://localhost:8080/",
          "height": 34
        }
      },
      "source": [
        "all_count, images, gray_count,  labels = load_train_data(\"./train\")"
      ],
      "execution_count": 9,
      "outputs": [
        {
          "output_type": "stream",
          "text": [
            "100000\n"
          ],
          "name": "stdout"
        }
      ]
    },
    {
      "cell_type": "code",
      "metadata": {
        "id": "mj_-K8Z1IGnJ",
        "colab_type": "code",
        "colab": {
          "base_uri": "https://localhost:8080/",
          "height": 51
        },
        "outputId": "8604e183-466a-40a4-ed9f-28d8d300bbb8"
      },
      "source": [
        "'''\n",
        "# Calculate the mean and standard deviation of images\n",
        "means = [(images[:, i, :, :]/255).mean() for i in range(3)]\n",
        "std = [(images[:, i, :, :]/255).std() for i in range(3)]\n",
        "'''\n",
        "\n",
        "means = [0.48024578664981976, 0.44807218089384243, 0.3975477478649683]\n",
        "stds = [0.27698640690882403, 0.26906448510256065, 0.28208190621058304]\n",
        "\n",
        "train_transform = Compose([\n",
        "    ToPILImage(),\n",
        "    # transforms.ColorJitter(brightness=0.3),\n",
        "    transforms.RandomHorizontalFlip(0.5),\n",
        "    # transforms.RandomRotation(10),\n",
        "    # transforms.RandomCrop(224, padding=4)\n",
        "    transforms.Resize(224),\n",
        "    ToTensor(),\n",
        "    transforms.Normalize(means, stds)\n",
        "])\n",
        "\n",
        "val_transform = Compose([\n",
        "    ToPILImage(),\n",
        "    transforms.Resize(224),\n",
        "    ToTensor(),\n",
        "    transforms.Normalize(means, stds),\n",
        "])\n",
        "\n",
        "MiniTrain_train = MiniDataset(images, labels)\n",
        "full_set = MiniDataset(images, labels, transform=train_transform)\n",
        "print(\"Non-transform full training set length: \", len(MiniTrain_train))\n",
        "print(\"Train-transform full training set length: \", len(full_set))"
      ],
      "execution_count": 13,
      "outputs": [
        {
          "output_type": "stream",
          "text": [
            "Non-transform full training set length:  100000\n",
            "Train-transform full training set length:  100000\n"
          ],
          "name": "stdout"
        }
      ]
    },
    {
      "cell_type": "markdown",
      "metadata": {
        "id": "uohNgae4RZ5k",
        "colab_type": "text"
      },
      "source": [
        "## Run the following cell only once for ***EACH RUNTIME***"
      ]
    },
    {
      "cell_type": "code",
      "metadata": {
        "id": "IgrygBgqFjHy",
        "colab_type": "code",
        "outputId": "7d6d493c-0370-4c2d-daae-17661c8d3d26",
        "colab": {
          "base_uri": "https://localhost:8080/",
          "height": 68
        }
      },
      "source": [
        "# Split the whole training data to training, validation and test sets\n",
        "train_size, val_size, test_size = 80000, 10000, 10000\n",
        "train_subset, val_subset, test_subset = random_split(MiniTrain_train, [train_size, val_size, test_size])\n",
        "\n",
        "# Do the corresponding transforms to the three subsets\n",
        "train_set = Subset2Dataset(train_subset, transform=train_transform)\n",
        "val_set   = Subset2Dataset(val_subset, transform=val_transform)\n",
        "test_set  = Subset2Dataset(test_subset, transform=val_transform)\n",
        "\n",
        "print(\"Train set length: \", len(train_set))\n",
        "print(\"Validation set length: \", len(val_set))\n",
        "print(\"Test set length: \", len(test_set))"
      ],
      "execution_count": 14,
      "outputs": [
        {
          "output_type": "stream",
          "text": [
            "Train set length:  80000\n",
            "Validation set length:  10000\n",
            "Test set length:  10000\n"
          ],
          "name": "stdout"
        }
      ]
    },
    {
      "cell_type": "code",
      "metadata": {
        "id": "wXF-Nn32TvMJ",
        "colab_type": "code",
        "outputId": "5de41d50-8216-44eb-d069-cf31275c4659",
        "colab": {
          "base_uri": "https://localhost:8080/",
          "height": 187
        }
      },
      "source": [
        "# Check seed fixed, remember information below\n",
        "print(\"Tensor first channel: \\n\", train_set.__getitem__(0)[0][0])\n",
        "print(\"Tensor shape: \", train_set.__getitem__(0)[0].shape)\n",
        "print(\"Label: \", train_set.__getitem__(0)[1])"
      ],
      "execution_count": 15,
      "outputs": [
        {
          "output_type": "stream",
          "text": [
            "Tensor first channel: \n",
            " tensor([[-0.9410, -0.9410, -0.9835,  ..., -0.5870, -0.5446, -0.5446],\n",
            "        [-0.9410, -0.9410, -0.9835,  ..., -0.5870, -0.5446, -0.5446],\n",
            "        [-0.9551, -0.9551, -0.9976,  ..., -0.6295, -0.5870, -0.5870],\n",
            "        ...,\n",
            "        [ 0.8996,  0.8996,  0.9137,  ..., -0.1057, -0.2472, -0.2472],\n",
            "        [ 0.8996,  0.8996,  0.9137,  ..., -0.0773, -0.1764, -0.1764],\n",
            "        [ 0.8996,  0.8996,  0.9137,  ..., -0.0773, -0.1764, -0.1764]])\n",
            "Tensor shape:  torch.Size([3, 224, 224])\n",
            "Label:  61\n"
          ],
          "name": "stdout"
        }
      ]
    },
    {
      "cell_type": "code",
      "metadata": {
        "id": "Aa36HcTE_rhE",
        "colab_type": "code",
        "colab": {}
      },
      "source": [
        "def load_test_data(data_dir):\n",
        "    '''\n",
        "    Load the test data from the file directory.\n",
        "    Count the number of gray images to see their proportion and \n",
        "    change them to 3-channel images.\n",
        "    ------\n",
        "    data_dir: the directory of test data.  \n",
        "    '''\n",
        "\n",
        "    count = 0\n",
        "    gray_count = 0\n",
        "    all_images = []\n",
        "    file_name = []\n",
        "\n",
        "    person_dir = pjoin(data_dir, \"images\")\n",
        "    for i in os.listdir(person_dir):\n",
        "        image_dir = pjoin(person_dir, i)  \n",
        "        \n",
        "        # something in files but shouldn't be included\n",
        "        if i == \".ipynb_checkpoints\":\n",
        "            continue\n",
        "        tmp_file = i\n",
        "        file_name.append(i.lower())\n",
        "        \n",
        "        img2 = Image.open(image_dir)\n",
        "        img2=np.array(img2)\n",
        "\n",
        "        if len(img2.shape) == 2:\n",
        "            img2 = np.stack((img2, img2, img2), axis=-1)\n",
        "            gray_count+=1\n",
        "\n",
        "        all_images.append(img2)\n",
        "        \n",
        "        count = count+1\n",
        "    print(count)\n",
        "    \n",
        "    return count, all_images, gray_count, file_name"
      ],
      "execution_count": 0,
      "outputs": []
    },
    {
      "cell_type": "code",
      "metadata": {
        "id": "hAjuWsZj_rhH",
        "colab_type": "code",
        "outputId": "27f66c7c-cb63-4c82-fe74-87303c352a81",
        "colab": {
          "base_uri": "https://localhost:8080/",
          "height": 51
        }
      },
      "source": [
        "all_count, test_images, gray_count, file_name = load_test_data(\"./test\")\n",
        "\n",
        "test_labels = torch.zeros([10000], dtype=torch.int32)\n",
        "MiniTest = MiniDataset(test_images, test_labels, transform=val_transform)\n",
        "print(\"Unlabelled test set length: \", len(MiniTest))"
      ],
      "execution_count": 17,
      "outputs": [
        {
          "output_type": "stream",
          "text": [
            "10000\n",
            "Unlabelled test set length:  10000\n"
          ],
          "name": "stdout"
        }
      ]
    },
    {
      "cell_type": "code",
      "metadata": {
        "id": "Z6TND878NN4C",
        "colab_type": "code",
        "colab": {}
      },
      "source": [
        "def train(model, optimizer, criterion, data_loader):\n",
        "    '''\n",
        "    Train the model with provided training data.\n",
        "    ------\n",
        "    model:       the neutral network\n",
        "    optimizer:   optimizer used to update the weight parameters\n",
        "    criterion:   criterion used to calculate the loss\n",
        "    data_loader: the training dataloader\n",
        "    '''\n",
        "    model.train()\n",
        "    train_loss, train_accuracy = 0, 0\n",
        "    for X, y in data_loader:\n",
        "        X, y = X.to(device), y.to(device)\n",
        "        optimizer.zero_grad()\n",
        "        a2 = model(X)\n",
        "        loss = criterion(a2, y)\n",
        "        loss.backward()\n",
        "        train_loss += loss*X.size(0)\n",
        "        y_pred = F.log_softmax(a2, dim=1).max(1)[1]\n",
        "        train_accuracy += f1_score(y.cpu().numpy(), y_pred.detach().cpu().numpy(), average='macro')*X.size(0)\n",
        "        optimizer.step()  \n",
        "        \n",
        "    return train_loss/len(data_loader.dataset), train_accuracy/len(data_loader.dataset)\n",
        "  \n",
        "def validate(model, criterion, data_loader):\n",
        "    '''\n",
        "    Test the model with provided validation data.\n",
        "    ------\n",
        "    model:       the neutral network\n",
        "    criterion:   criterion used to calculate the loss\n",
        "    data_loader: the validation dataloader\n",
        "    '''\n",
        "    model.eval()\n",
        "    validation_loss, validation_accuracy = 0., 0.\n",
        "    for X, y in data_loader:\n",
        "        with torch.no_grad():\n",
        "            X, y = X.to(device), y.to(device)\n",
        "            a2 = model(X)\n",
        "            loss = criterion(a2, y)\n",
        "            validation_loss += loss*X.size(0)\n",
        "            y_pred = F.log_softmax(a2, dim=1).max(1)[1]\n",
        "            validation_accuracy += f1_score(y.cpu().numpy(), y_pred.cpu().numpy(), average='macro')*X.size(0)\n",
        "            \n",
        "    return validation_loss/len(data_loader.dataset), validation_accuracy/len(data_loader.dataset)\n",
        "\n",
        "def evaluate(model, data_loader):\n",
        "    '''\n",
        "    Evaluate the model with test data(no label) and output a .csv file.\n",
        "    ------\n",
        "    model:       the trained model\n",
        "    data_loader: the test dataloader\n",
        "    '''\n",
        "    model.eval()\n",
        "    f = open('test_result.csv', 'w+')\n",
        "    with f:\n",
        "        fnames = ['Filename', 'Label']\n",
        "        writer = csv.DictWriter(f, fieldnames=fnames)    \n",
        "        writer.writeheader()\n",
        "        i=0\n",
        "        for X, y in data_loader:\n",
        "            with torch.no_grad():\n",
        "                X, y = X.to(device), y.to(device)\n",
        "                a2 = model(X) #What does this have to look like for our conv-net? Make the changes!\n",
        "                y_pred = F.log_softmax(a2, dim=1).max(1)[1]\n",
        "                for x in range(1000):\n",
        "                    writer.writerow({'Filename' : file_name[i], 'Label': y_pred[x].item()}) \n",
        "                    i+=1"
      ],
      "execution_count": 0,
      "outputs": []
    },
    {
      "cell_type": "code",
      "metadata": {
        "id": "Snxp54baIXIq",
        "colab_type": "code",
        "colab": {}
      },
      "source": [
        "def train_model(model, \n",
        "                momentum=0.5, \n",
        "                weight_decay=0, \n",
        "                lr=0.02, \n",
        "                n_epochs=5, \n",
        "                batch_size=64, \n",
        "                test_batch_size=1000, \n",
        "                best_accuracy=0, \n",
        "                save_file=False, \n",
        "                model_save_name=None):\n",
        "    '''\n",
        "    Train the model with training dataset and validate dataset.\n",
        "    ------\n",
        "    model:           the neutral network\n",
        "    momentum:        the parameter that helps accelerate optimizer\n",
        "    weight_deacy:    the parameter of L2-Regularization\n",
        "    lr:              the learning rate of optimizer\n",
        "    n_epochs:        the number of epochs\n",
        "    batch_size:      the batch size of training set\n",
        "    test_batch_size: the batch size of validation and test sets\n",
        "    best_accuracy:   the best accuracy if previously trained model used\n",
        "    save_file:       whether to save the model file of this training\n",
        "    model_save_name: the path of file you want to save\n",
        "    '''\n",
        "    # set_seed(42)\n",
        "    if save_file and not model_save_name:\n",
        "        print(\"No file name specified.\")\n",
        "        return\n",
        "        \n",
        "    model = model.to(device)\n",
        "    optimizer = torch.optim.SGD(model.parameters(), lr=lr, momentum=momentum, weight_decay=weight_decay)\n",
        "    criterion = nn.CrossEntropyLoss()\n",
        "\n",
        "    train_loader = DataLoader(train_set, batch_size=batch_size, shuffle=True, num_workers=0)\n",
        "    validation_loader = DataLoader(val_set, batch_size=test_batch_size, shuffle=False, num_workers=0)\n",
        "\n",
        "    liveloss = PlotLosses()\n",
        "    for epoch in range(n_epochs):\n",
        "        print(\"Epoch %s started...\" % (epoch + 1))\n",
        "\n",
        "        logs = {}\n",
        "        train_loss, train_accuracy = train(model, optimizer, criterion, train_loader)\n",
        "\n",
        "        logs['' + 'log loss'] = train_loss.item()\n",
        "        logs['' + 'accuracy'] = train_accuracy.item()\n",
        "\n",
        "        validation_loss, validation_accuracy = validate(model, criterion, validation_loader)\n",
        "        logs['val_' + 'log loss'] = validation_loss.item()\n",
        "        logs['val_' + 'accuracy'] = validation_accuracy.item()\n",
        "\n",
        "        liveloss.update(logs)\n",
        "        liveloss.draw()\n",
        "\n",
        "        if save_file and validation_accuracy.item() > best_accuracy:\n",
        "            best_accuracy = validation_accuracy.item()\n",
        "            path = F\"/content/gdrive/My Drive/{model_save_name}\" \n",
        "            torch.save(model.state_dict(), path)\n",
        "            print(\"Model %s saved (epoch: %s)\" % (model_save_name, epoch + 1))\n",
        "        \n",
        "    return model"
      ],
      "execution_count": 0,
      "outputs": []
    },
    {
      "cell_type": "code",
      "metadata": {
        "id": "NNvbDhJw39SD",
        "colab_type": "code",
        "colab": {}
      },
      "source": [
        "def train_full_model(model, \n",
        "                     momentum=0.5, \n",
        "                     weight_decay=0, \n",
        "                     lr=0.02, \n",
        "                     n_epochs=10, \n",
        "                     batch_size=64, \n",
        "                     test_batch_size=1000,\n",
        "                     save_file=False, \n",
        "                     model_save_name=None):\n",
        "    \"\"\"\n",
        "    Train the model with entire training set.\n",
        "    ------\n",
        "    model:           the neutral network\n",
        "    momentum:        the parameter that helps accelerate optimizer\n",
        "    weight_deacy:    the parameter of L2-Regularization\n",
        "    lr:              the learning rate of optimizer\n",
        "    n_epochs:        the number of epochs\n",
        "    batch_size:      the batch size of training set\n",
        "    test_batch_size: the batch size of validation and test sets\n",
        "    save_file:       whether to save the model file of this training\n",
        "    model_save_name: the path of file you want to save\n",
        "    \"\"\"\n",
        "    # set_seed(42)\n",
        "    model = model.to(device)\n",
        "    optimizer = torch.optim.SGD(model.parameters(), lr=lr, momentum=momentum, weight_decay=weight_decay)\n",
        "    criterion = nn.CrossEntropyLoss()\n",
        "\n",
        "    train_loader = DataLoader(full_set, batch_size=batch_size, shuffle=True, num_workers=0)\n",
        "\n",
        "    liveloss = PlotLosses()\n",
        "    for epoch in range(n_epochs):\n",
        "        logs = {}\n",
        "        train_loss, train_accuracy = train(model, optimizer, criterion, train_loader)\n",
        "\n",
        "        logs['' + 'log loss'] = train_loss.item()\n",
        "        logs['' + 'accuracy'] = train_accuracy.item()\n",
        "\n",
        "        logs['val_' + 'log loss'] = 0\n",
        "        logs['val_' + 'accuracy'] = 0\n",
        "\n",
        "        liveloss.update(logs)\n",
        "        liveloss.draw()\n",
        "\n",
        "        if save_file:\n",
        "            path = F\"/content/gdrive/My Drive/{model_save_name}\" \n",
        "            torch.save(model.state_dict(), path)\n",
        "            print(\"Model %s saved (epoch: %s)\" % (model_save_name, epoch + 1))\n",
        "    \n",
        "    return model"
      ],
      "execution_count": 0,
      "outputs": []
    },
    {
      "cell_type": "code",
      "metadata": {
        "id": "G0IQkA22bBSf",
        "colab_type": "code",
        "colab": {}
      },
      "source": [
        "def get_predictions(model, \n",
        "                    test_batch_size=1000):\n",
        "    '''\n",
        "    Get predictions for test dataset.\n",
        "    ------\n",
        "    model:           the neutral network\n",
        "    test_batch_size: the batch size of validation and test sets\n",
        "    '''\n",
        "    test_loader = DataLoader(MiniTest, batch_size=test_batch_size, shuffle=False, num_workers=0)\n",
        "    evaluate(model, test_loader)"
      ],
      "execution_count": 0,
      "outputs": []
    },
    {
      "cell_type": "markdown",
      "metadata": {
        "id": "refxyPZ6dcjr",
        "colab_type": "text"
      },
      "source": [
        "# ***Train ResNet Wide 101 with:***\n",
        "\n",
        "* RandomHorizontalFlip(0.5)\n",
        "* Learning rate = 0.005\n",
        "* 3 epochs per time"
      ]
    },
    {
      "cell_type": "code",
      "metadata": {
        "id": "D3VLR5fWP8lJ",
        "colab_type": "code",
        "outputId": "51c25fd5-2529-43c1-83f8-9b4a73c82f27",
        "colab": {
          "base_uri": "https://localhost:8080/",
          "height": 34
        }
      },
      "source": [
        "reswide101 = models.wide_resnet101_2(pretrained=True)\n",
        "fc_in = reswide101.fc.in_features\n",
        "reswide101.fc = nn.Linear(fc_in, 200)\n",
        "print(reswide101.fc)\n",
        "\n",
        "fname = \"ResWide101_lr5e-3_full.pth\"\n",
        "\n",
        "reswide101 = train_full_model(reswide101, \n",
        "                              lr=0.005, \n",
        "                              n_epochs=4, \n",
        "                              save_file=True,\n",
        "                              model_save_name=fname\n",
        "                              )"
      ],
      "execution_count": 0,
      "outputs": [
        {
          "output_type": "stream",
          "text": [
            "Linear(in_features=2048, out_features=200, bias=True)\n"
          ],
          "name": "stdout"
        }
      ]
    },
    {
      "cell_type": "markdown",
      "metadata": {
        "id": "x3g3kjg3eK_f",
        "colab_type": "text"
      },
      "source": [
        "# Get predictions on unlabelled data"
      ]
    },
    {
      "cell_type": "code",
      "metadata": {
        "id": "3Lh3bzqRePFk",
        "colab_type": "code",
        "colab": {}
      },
      "source": [
        "get_predictions(reswide101)"
      ],
      "execution_count": 0,
      "outputs": []
    },
    {
      "cell_type": "markdown",
      "metadata": {
        "id": "5d3oliCBeQMW",
        "colab_type": "text"
      },
      "source": [
        "# Previous plots"
      ]
    },
    {
      "cell_type": "code",
      "metadata": {
        "id": "7AxG9M0SMAOV",
        "colab_type": "code",
        "outputId": "82c8e3bb-49c7-472b-88ae-13397058fd5c",
        "colab": {
          "base_uri": "https://localhost:8080/",
          "height": 428
        }
      },
      "source": [
        "reswide101 = models.wide_resnet101_2(pretrained=True)\n",
        "fc_in = reswide101.fc.in_features\n",
        "reswide101.fc = nn.Linear(fc_in, 200)\n",
        "print(reswide101.fc)\n",
        "\n",
        "fname = \"ResWide101_lr1e-2.pth\"\n",
        "reswide101 = train_model(reswide101, lr=0.01, n_epochs=3, best_accuracy=0, save_file=True, model_save_name=fname)"
      ],
      "execution_count": 0,
      "outputs": [
        {
          "output_type": "display_data",
          "data": {
            "image/png": "[encoded data removed]",
            "text/plain": [
              "<Figure size 864x576 with 2 Axes>"
            ]
          },
          "metadata": {
            "tags": [],
            "needs_background": "light"
          }
        },
        {
          "output_type": "stream",
          "text": [
            "accuracy\n",
            "\ttraining         \t (min:    0.688, max:    0.925, cur:    0.925)\n",
            "\tvalidation       \t (min:    0.819, max:    0.837, cur:    0.837)\n",
            "log loss\n",
            "\ttraining         \t (min:    0.306, max:    1.629, cur:    0.306)\n",
            "\tvalidation       \t (min:    0.617, max:    0.709, cur:    0.617)\n"
          ],
          "name": "stdout"
        }
      ]
    },
    {
      "cell_type": "code",
      "metadata": {
        "id": "2vikCnIPMLF_",
        "colab_type": "code",
        "colab": {}
      },
      "source": [
        ""
      ],
      "execution_count": 0,
      "outputs": []
    },
    {
      "cell_type": "markdown",
      "metadata": {
        "id": "-nz5PVlQL8v2",
        "colab_type": "text"
      },
      "source": [
        "## ResNet50"
      ]
    },
    {
      "cell_type": "code",
      "metadata": {
        "id": "RHXj0F0mVqdz",
        "colab_type": "code",
        "outputId": "4a48d581-d29f-4739-8460-d3bf76a03de1",
        "colab": {
          "base_uri": "https://localhost:8080/",
          "height": 51
        }
      },
      "source": [
        "resnet50 = models.resnet50() \n",
        "fc_in = resnet50.fc.in_features\n",
        "resnet50.fc = nn.Linear(fc_in, 200)\n",
        "print(resnet50.fc)\n",
        "resnet50.load_state_dict(torch.load(\"/content/gdrive/My Drive/models/resnet50.pth\"))"
      ],
      "execution_count": 0,
      "outputs": [
        {
          "output_type": "stream",
          "text": [
            "Linear(in_features=2048, out_features=200, bias=True)\n"
          ],
          "name": "stdout"
        },
        {
          "output_type": "execute_result",
          "data": {
            "text/plain": [
              "<All keys matched successfully>"
            ]
          },
          "metadata": {
            "tags": []
          },
          "execution_count": 19
        }
      ]
    },
    {
      "cell_type": "code",
      "metadata": {
        "id": "i5IZVods5D-O",
        "colab_type": "code",
        "outputId": "6a476a45-d31d-4e0e-e063-a1e2f8f27917",
        "colab": {
          "base_uri": "https://localhost:8080/",
          "height": 445
        }
      },
      "source": [
        "last_best_accuracy = 0.744\n",
        "resnet50 = train_model(resnet50, lr=0.01, n_epochs=3, best_accuracy=last_best_accuracy, save_file=True, model_save_name=\"resnet50.pth\")"
      ],
      "execution_count": 0,
      "outputs": [
        {
          "output_type": "display_data",
          "data": {
            "image/png": "[encoded data removed]",
            "text/plain": [
              "<Figure size 864x576 with 2 Axes>"
            ]
          },
          "metadata": {
            "tags": [],
            "needs_background": "light"
          }
        },
        {
          "output_type": "stream",
          "text": [
            "accuracy\n",
            "\ttraining         \t (min:    0.929, max:    0.976, cur:    0.976)\n",
            "\tvalidation       \t (min:    0.780, max:    0.784, cur:    0.784)\n",
            "log loss\n",
            "\ttraining         \t (min:    0.114, max:    0.283, cur:    0.114)\n",
            "\tvalidation       \t (min:    0.853, max:    0.863, cur:    0.863)\n",
            "Model resnet50.pth saved (epoch: 3)\n"
          ],
          "name": "stdout"
        }
      ]
    },
    {
      "cell_type": "code",
      "metadata": {
        "id": "k9SQRNqKbuUD",
        "colab_type": "code",
        "outputId": "6b8ae6fe-9cfc-4514-85d6-589c287d8178",
        "colab": {
          "base_uri": "https://localhost:8080/",
          "height": 462
        }
      },
      "source": [
        "fname = \"ResNet50_lr1e-2_aug.pth\"\n",
        "resnet50 = train_model(resnet50, lr=0.01, n_epochs=6, save_file=True, model_save_name=\"resnet50.pth\")"
      ],
      "execution_count": 0,
      "outputs": [
        {
          "output_type": "display_data",
          "data": {
            "image/png": "[encoded data removed]",
            "text/plain": [
              "<Figure size 864x576 with 2 Axes>"
            ]
          },
          "metadata": {
            "tags": [],
            "needs_background": "light"
          }
        },
        {
          "output_type": "stream",
          "text": [
            "accuracy\n",
            "\ttraining         \t (min:    0.602, max:    0.893, cur:    0.893)\n",
            "\tvalidation       \t (min:    0.747, max:    0.774, cur:    0.774)\n",
            "log loss\n",
            "\ttraining         \t (min:    0.417, max:    1.923, cur:    0.417)\n",
            "\tvalidation       \t (min:    0.859, max:    1.006, cur:    0.859)\n",
            "Model resnet50.pth saved (epoch: 4)\n",
            "Epoch 4 started...\n"
          ],
          "name": "stdout"
        }
      ]
    },
    {
      "cell_type": "code",
      "metadata": {
        "id": "bwKghlCjSZ5E",
        "colab_type": "code",
        "colab": {}
      },
      "source": [
        "model_save_name = \"try_save.pth\"\n",
        "path = F\"/content/gdrive/My Drive/models/{model_save_name}\" \n",
        "torch.save(resnet50.state_dict(), path)"
      ],
      "execution_count": 0,
      "outputs": []
    },
    {
      "cell_type": "code",
      "metadata": {
        "id": "_32AofmMSzZs",
        "colab_type": "code",
        "colab": {}
      },
      "source": [
        ""
      ],
      "execution_count": 0,
      "outputs": []
    },
    {
      "cell_type": "code",
      "metadata": {
        "id": "_7tb5f1flZ-H",
        "colab_type": "code",
        "outputId": "0ddb0d7b-e095-4d6e-a67b-12f8c5a622d5",
        "colab": {
          "base_uri": "https://localhost:8080/",
          "height": 720
        }
      },
      "source": [
        "resnet50_try = train_model(resnet50, lr=0.01, n_epochs=10, save_file=True, model_save_name=\"ResNet50\")"
      ],
      "execution_count": 0,
      "outputs": [
        {
          "output_type": "display_data",
          "data": {
            "image/png": "[encoded data removed]",
            "text/plain": [
              "<Figure size 864x576 with 2 Axes>"
            ]
          },
          "metadata": {
            "tags": [],
            "needs_background": "light"
          }
        },
        {
          "output_type": "stream",
          "text": [
            "accuracy\n",
            "\ttraining         \t (min:    0.760, max:    0.822, cur:    0.822)\n",
            "\tvalidation       \t (min:    0.808, max:    0.851, cur:    0.851)\n",
            "log loss\n",
            "\ttraining         \t (min:    0.647, max:    0.896, cur:    0.647)\n",
            "\tvalidation       \t (min:    0.543, max:    0.677, cur:    0.543)\n"
          ],
          "name": "stdout"
        },
        {
          "output_type": "error",
          "ename": "KeyboardInterrupt",
          "evalue": "ignored",
          "traceback": [
            "\u001b[0;31m---------------------------------------------------------------------------\u001b[0m",
            "\u001b[0;31mKeyboardInterrupt\u001b[0m                         Traceback (most recent call last)",
            "\u001b[0;32m<ipython-input-15-c5136e310cdd>\u001b[0m in \u001b[0;36m<module>\u001b[0;34m()\u001b[0m\n\u001b[0;32m----> 1\u001b[0;31m \u001b[0mresnet50_try\u001b[0m \u001b[0;34m=\u001b[0m \u001b[0mtrain_model\u001b[0m\u001b[0;34m(\u001b[0m\u001b[0mresnet50\u001b[0m\u001b[0;34m)\u001b[0m\u001b[0;34m\u001b[0m\u001b[0;34m\u001b[0m\u001b[0m\n\u001b[0m",
            "\u001b[0;32m<ipython-input-12-3cd3d57b68db>\u001b[0m in \u001b[0;36mtrain_model\u001b[0;34m(model, momentum, weight_decay, lr, n_epochs, batch_size, test_batch_size)\u001b[0m\n\u001b[1;32m     11\u001b[0m     \u001b[0;32mfor\u001b[0m \u001b[0mepoch\u001b[0m \u001b[0;32min\u001b[0m \u001b[0mrange\u001b[0m\u001b[0;34m(\u001b[0m\u001b[0mn_epochs\u001b[0m\u001b[0;34m)\u001b[0m\u001b[0;34m:\u001b[0m\u001b[0;34m\u001b[0m\u001b[0;34m\u001b[0m\u001b[0m\n\u001b[1;32m     12\u001b[0m         \u001b[0mlogs\u001b[0m \u001b[0;34m=\u001b[0m \u001b[0;34m{\u001b[0m\u001b[0;34m}\u001b[0m\u001b[0;34m\u001b[0m\u001b[0;34m\u001b[0m\u001b[0m\n\u001b[0;32m---> 13\u001b[0;31m         \u001b[0mtrain_loss\u001b[0m\u001b[0;34m,\u001b[0m \u001b[0mtrain_accuracy\u001b[0m \u001b[0;34m=\u001b[0m \u001b[0mtrain\u001b[0m\u001b[0;34m(\u001b[0m\u001b[0mmodel\u001b[0m\u001b[0;34m,\u001b[0m \u001b[0moptimizer\u001b[0m\u001b[0;34m,\u001b[0m \u001b[0mcriterion\u001b[0m\u001b[0;34m,\u001b[0m \u001b[0mtrain_loader\u001b[0m\u001b[0;34m)\u001b[0m\u001b[0;34m\u001b[0m\u001b[0;34m\u001b[0m\u001b[0m\n\u001b[0m\u001b[1;32m     14\u001b[0m \u001b[0;34m\u001b[0m\u001b[0m\n\u001b[1;32m     15\u001b[0m         \u001b[0mlogs\u001b[0m\u001b[0;34m[\u001b[0m\u001b[0;34m''\u001b[0m \u001b[0;34m+\u001b[0m \u001b[0;34m'log loss'\u001b[0m\u001b[0;34m]\u001b[0m \u001b[0;34m=\u001b[0m \u001b[0mtrain_loss\u001b[0m\u001b[0;34m.\u001b[0m\u001b[0mitem\u001b[0m\u001b[0;34m(\u001b[0m\u001b[0;34m)\u001b[0m\u001b[0;34m\u001b[0m\u001b[0;34m\u001b[0m\u001b[0m\n",
            "\u001b[0;32m<ipython-input-11-f0bee65cc8f1>\u001b[0m in \u001b[0;36mtrain\u001b[0;34m(model, optimizer, criterion, data_loader)\u001b[0m\n\u001b[1;32m      5\u001b[0m         \u001b[0mX\u001b[0m\u001b[0;34m,\u001b[0m \u001b[0my\u001b[0m \u001b[0;34m=\u001b[0m \u001b[0mX\u001b[0m\u001b[0;34m.\u001b[0m\u001b[0mto\u001b[0m\u001b[0;34m(\u001b[0m\u001b[0mdevice\u001b[0m\u001b[0;34m)\u001b[0m\u001b[0;34m,\u001b[0m \u001b[0my\u001b[0m\u001b[0;34m.\u001b[0m\u001b[0mto\u001b[0m\u001b[0;34m(\u001b[0m\u001b[0mdevice\u001b[0m\u001b[0;34m)\u001b[0m\u001b[0;34m\u001b[0m\u001b[0;34m\u001b[0m\u001b[0m\n\u001b[1;32m      6\u001b[0m         \u001b[0moptimizer\u001b[0m\u001b[0;34m.\u001b[0m\u001b[0mzero_grad\u001b[0m\u001b[0;34m(\u001b[0m\u001b[0;34m)\u001b[0m\u001b[0;34m\u001b[0m\u001b[0;34m\u001b[0m\u001b[0m\n\u001b[0;32m----> 7\u001b[0;31m         \u001b[0ma2\u001b[0m \u001b[0;34m=\u001b[0m \u001b[0mmodel\u001b[0m\u001b[0;34m(\u001b[0m\u001b[0mX\u001b[0m\u001b[0;34m)\u001b[0m\u001b[0;34m\u001b[0m\u001b[0;34m\u001b[0m\u001b[0m\n\u001b[0m\u001b[1;32m      8\u001b[0m         \u001b[0mloss\u001b[0m \u001b[0;34m=\u001b[0m \u001b[0mcriterion\u001b[0m\u001b[0;34m(\u001b[0m\u001b[0ma2\u001b[0m\u001b[0;34m,\u001b[0m \u001b[0my\u001b[0m\u001b[0;34m)\u001b[0m\u001b[0;34m\u001b[0m\u001b[0;34m\u001b[0m\u001b[0m\n\u001b[1;32m      9\u001b[0m         \u001b[0mloss\u001b[0m\u001b[0;34m.\u001b[0m\u001b[0mbackward\u001b[0m\u001b[0;34m(\u001b[0m\u001b[0;34m)\u001b[0m\u001b[0;34m\u001b[0m\u001b[0;34m\u001b[0m\u001b[0m\n",
            "\u001b[0;32m/usr/local/lib/python3.6/dist-packages/torch/nn/modules/module.py\u001b[0m in \u001b[0;36m__call__\u001b[0;34m(self, *input, **kwargs)\u001b[0m\n\u001b[1;32m    548\u001b[0m             \u001b[0mresult\u001b[0m \u001b[0;34m=\u001b[0m \u001b[0mself\u001b[0m\u001b[0;34m.\u001b[0m\u001b[0m_slow_forward\u001b[0m\u001b[0;34m(\u001b[0m\u001b[0;34m*\u001b[0m\u001b[0minput\u001b[0m\u001b[0;34m,\u001b[0m \u001b[0;34m**\u001b[0m\u001b[0mkwargs\u001b[0m\u001b[0;34m)\u001b[0m\u001b[0;34m\u001b[0m\u001b[0;34m\u001b[0m\u001b[0m\n\u001b[1;32m    549\u001b[0m         \u001b[0;32melse\u001b[0m\u001b[0;34m:\u001b[0m\u001b[0;34m\u001b[0m\u001b[0;34m\u001b[0m\u001b[0m\n\u001b[0;32m--> 550\u001b[0;31m             \u001b[0mresult\u001b[0m \u001b[0;34m=\u001b[0m \u001b[0mself\u001b[0m\u001b[0;34m.\u001b[0m\u001b[0mforward\u001b[0m\u001b[0;34m(\u001b[0m\u001b[0;34m*\u001b[0m\u001b[0minput\u001b[0m\u001b[0;34m,\u001b[0m \u001b[0;34m**\u001b[0m\u001b[0mkwargs\u001b[0m\u001b[0;34m)\u001b[0m\u001b[0;34m\u001b[0m\u001b[0;34m\u001b[0m\u001b[0m\n\u001b[0m\u001b[1;32m    551\u001b[0m         \u001b[0;32mfor\u001b[0m \u001b[0mhook\u001b[0m \u001b[0;32min\u001b[0m \u001b[0mself\u001b[0m\u001b[0;34m.\u001b[0m\u001b[0m_forward_hooks\u001b[0m\u001b[0;34m.\u001b[0m\u001b[0mvalues\u001b[0m\u001b[0;34m(\u001b[0m\u001b[0;34m)\u001b[0m\u001b[0;34m:\u001b[0m\u001b[0;34m\u001b[0m\u001b[0;34m\u001b[0m\u001b[0m\n\u001b[1;32m    552\u001b[0m             \u001b[0mhook_result\u001b[0m \u001b[0;34m=\u001b[0m \u001b[0mhook\u001b[0m\u001b[0;34m(\u001b[0m\u001b[0mself\u001b[0m\u001b[0;34m,\u001b[0m \u001b[0minput\u001b[0m\u001b[0;34m,\u001b[0m \u001b[0mresult\u001b[0m\u001b[0;34m)\u001b[0m\u001b[0;34m\u001b[0m\u001b[0;34m\u001b[0m\u001b[0m\n",
            "\u001b[0;32m/usr/local/lib/python3.6/dist-packages/torchvision/models/resnet.py\u001b[0m in \u001b[0;36mforward\u001b[0;34m(self, x)\u001b[0m\n\u001b[1;32m    218\u001b[0m \u001b[0;34m\u001b[0m\u001b[0m\n\u001b[1;32m    219\u001b[0m     \u001b[0;32mdef\u001b[0m \u001b[0mforward\u001b[0m\u001b[0;34m(\u001b[0m\u001b[0mself\u001b[0m\u001b[0;34m,\u001b[0m \u001b[0mx\u001b[0m\u001b[0;34m)\u001b[0m\u001b[0;34m:\u001b[0m\u001b[0;34m\u001b[0m\u001b[0;34m\u001b[0m\u001b[0m\n\u001b[0;32m--> 220\u001b[0;31m         \u001b[0;32mreturn\u001b[0m \u001b[0mself\u001b[0m\u001b[0;34m.\u001b[0m\u001b[0m_forward_impl\u001b[0m\u001b[0;34m(\u001b[0m\u001b[0mx\u001b[0m\u001b[0;34m)\u001b[0m\u001b[0;34m\u001b[0m\u001b[0;34m\u001b[0m\u001b[0m\n\u001b[0m\u001b[1;32m    221\u001b[0m \u001b[0;34m\u001b[0m\u001b[0m\n\u001b[1;32m    222\u001b[0m \u001b[0;34m\u001b[0m\u001b[0m\n",
            "\u001b[0;32m/usr/local/lib/python3.6/dist-packages/torchvision/models/resnet.py\u001b[0m in \u001b[0;36m_forward_impl\u001b[0;34m(self, x)\u001b[0m\n\u001b[1;32m    207\u001b[0m \u001b[0;34m\u001b[0m\u001b[0m\n\u001b[1;32m    208\u001b[0m         \u001b[0mx\u001b[0m \u001b[0;34m=\u001b[0m \u001b[0mself\u001b[0m\u001b[0;34m.\u001b[0m\u001b[0mlayer1\u001b[0m\u001b[0;34m(\u001b[0m\u001b[0mx\u001b[0m\u001b[0;34m)\u001b[0m\u001b[0;34m\u001b[0m\u001b[0;34m\u001b[0m\u001b[0m\n\u001b[0;32m--> 209\u001b[0;31m         \u001b[0mx\u001b[0m \u001b[0;34m=\u001b[0m \u001b[0mself\u001b[0m\u001b[0;34m.\u001b[0m\u001b[0mlayer2\u001b[0m\u001b[0;34m(\u001b[0m\u001b[0mx\u001b[0m\u001b[0;34m)\u001b[0m\u001b[0;34m\u001b[0m\u001b[0;34m\u001b[0m\u001b[0m\n\u001b[0m\u001b[1;32m    210\u001b[0m         \u001b[0mx\u001b[0m \u001b[0;34m=\u001b[0m \u001b[0mself\u001b[0m\u001b[0;34m.\u001b[0m\u001b[0mlayer3\u001b[0m\u001b[0;34m(\u001b[0m\u001b[0mx\u001b[0m\u001b[0;34m)\u001b[0m\u001b[0;34m\u001b[0m\u001b[0;34m\u001b[0m\u001b[0m\n\u001b[1;32m    211\u001b[0m         \u001b[0mx\u001b[0m \u001b[0;34m=\u001b[0m \u001b[0mself\u001b[0m\u001b[0;34m.\u001b[0m\u001b[0mlayer4\u001b[0m\u001b[0;34m(\u001b[0m\u001b[0mx\u001b[0m\u001b[0;34m)\u001b[0m\u001b[0;34m\u001b[0m\u001b[0;34m\u001b[0m\u001b[0m\n",
            "\u001b[0;32m/usr/local/lib/python3.6/dist-packages/torch/nn/modules/module.py\u001b[0m in \u001b[0;36m__call__\u001b[0;34m(self, *input, **kwargs)\u001b[0m\n\u001b[1;32m    548\u001b[0m             \u001b[0mresult\u001b[0m \u001b[0;34m=\u001b[0m \u001b[0mself\u001b[0m\u001b[0;34m.\u001b[0m\u001b[0m_slow_forward\u001b[0m\u001b[0;34m(\u001b[0m\u001b[0;34m*\u001b[0m\u001b[0minput\u001b[0m\u001b[0;34m,\u001b[0m \u001b[0;34m**\u001b[0m\u001b[0mkwargs\u001b[0m\u001b[0;34m)\u001b[0m\u001b[0;34m\u001b[0m\u001b[0;34m\u001b[0m\u001b[0m\n\u001b[1;32m    549\u001b[0m         \u001b[0;32melse\u001b[0m\u001b[0;34m:\u001b[0m\u001b[0;34m\u001b[0m\u001b[0;34m\u001b[0m\u001b[0m\n\u001b[0;32m--> 550\u001b[0;31m             \u001b[0mresult\u001b[0m \u001b[0;34m=\u001b[0m \u001b[0mself\u001b[0m\u001b[0;34m.\u001b[0m\u001b[0mforward\u001b[0m\u001b[0;34m(\u001b[0m\u001b[0;34m*\u001b[0m\u001b[0minput\u001b[0m\u001b[0;34m,\u001b[0m \u001b[0;34m**\u001b[0m\u001b[0mkwargs\u001b[0m\u001b[0;34m)\u001b[0m\u001b[0;34m\u001b[0m\u001b[0;34m\u001b[0m\u001b[0m\n\u001b[0m\u001b[1;32m    551\u001b[0m         \u001b[0;32mfor\u001b[0m \u001b[0mhook\u001b[0m \u001b[0;32min\u001b[0m \u001b[0mself\u001b[0m\u001b[0;34m.\u001b[0m\u001b[0m_forward_hooks\u001b[0m\u001b[0;34m.\u001b[0m\u001b[0mvalues\u001b[0m\u001b[0;34m(\u001b[0m\u001b[0;34m)\u001b[0m\u001b[0;34m:\u001b[0m\u001b[0;34m\u001b[0m\u001b[0;34m\u001b[0m\u001b[0m\n\u001b[1;32m    552\u001b[0m             \u001b[0mhook_result\u001b[0m \u001b[0;34m=\u001b[0m \u001b[0mhook\u001b[0m\u001b[0;34m(\u001b[0m\u001b[0mself\u001b[0m\u001b[0;34m,\u001b[0m \u001b[0minput\u001b[0m\u001b[0;34m,\u001b[0m \u001b[0mresult\u001b[0m\u001b[0;34m)\u001b[0m\u001b[0;34m\u001b[0m\u001b[0;34m\u001b[0m\u001b[0m\n",
            "\u001b[0;32m/usr/local/lib/python3.6/dist-packages/torch/nn/modules/container.py\u001b[0m in \u001b[0;36mforward\u001b[0;34m(self, input)\u001b[0m\n\u001b[1;32m     98\u001b[0m     \u001b[0;32mdef\u001b[0m \u001b[0mforward\u001b[0m\u001b[0;34m(\u001b[0m\u001b[0mself\u001b[0m\u001b[0;34m,\u001b[0m \u001b[0minput\u001b[0m\u001b[0;34m)\u001b[0m\u001b[0;34m:\u001b[0m\u001b[0;34m\u001b[0m\u001b[0;34m\u001b[0m\u001b[0m\n\u001b[1;32m     99\u001b[0m         \u001b[0;32mfor\u001b[0m \u001b[0mmodule\u001b[0m \u001b[0;32min\u001b[0m \u001b[0mself\u001b[0m\u001b[0;34m:\u001b[0m\u001b[0;34m\u001b[0m\u001b[0;34m\u001b[0m\u001b[0m\n\u001b[0;32m--> 100\u001b[0;31m             \u001b[0minput\u001b[0m \u001b[0;34m=\u001b[0m \u001b[0mmodule\u001b[0m\u001b[0;34m(\u001b[0m\u001b[0minput\u001b[0m\u001b[0;34m)\u001b[0m\u001b[0;34m\u001b[0m\u001b[0;34m\u001b[0m\u001b[0m\n\u001b[0m\u001b[1;32m    101\u001b[0m         \u001b[0;32mreturn\u001b[0m \u001b[0minput\u001b[0m\u001b[0;34m\u001b[0m\u001b[0;34m\u001b[0m\u001b[0m\n\u001b[1;32m    102\u001b[0m \u001b[0;34m\u001b[0m\u001b[0m\n",
            "\u001b[0;32m/usr/local/lib/python3.6/dist-packages/torch/nn/modules/module.py\u001b[0m in \u001b[0;36m__call__\u001b[0;34m(self, *input, **kwargs)\u001b[0m\n\u001b[1;32m    548\u001b[0m             \u001b[0mresult\u001b[0m \u001b[0;34m=\u001b[0m \u001b[0mself\u001b[0m\u001b[0;34m.\u001b[0m\u001b[0m_slow_forward\u001b[0m\u001b[0;34m(\u001b[0m\u001b[0;34m*\u001b[0m\u001b[0minput\u001b[0m\u001b[0;34m,\u001b[0m \u001b[0;34m**\u001b[0m\u001b[0mkwargs\u001b[0m\u001b[0;34m)\u001b[0m\u001b[0;34m\u001b[0m\u001b[0;34m\u001b[0m\u001b[0m\n\u001b[1;32m    549\u001b[0m         \u001b[0;32melse\u001b[0m\u001b[0;34m:\u001b[0m\u001b[0;34m\u001b[0m\u001b[0;34m\u001b[0m\u001b[0m\n\u001b[0;32m--> 550\u001b[0;31m             \u001b[0mresult\u001b[0m \u001b[0;34m=\u001b[0m \u001b[0mself\u001b[0m\u001b[0;34m.\u001b[0m\u001b[0mforward\u001b[0m\u001b[0;34m(\u001b[0m\u001b[0;34m*\u001b[0m\u001b[0minput\u001b[0m\u001b[0;34m,\u001b[0m \u001b[0;34m**\u001b[0m\u001b[0mkwargs\u001b[0m\u001b[0;34m)\u001b[0m\u001b[0;34m\u001b[0m\u001b[0;34m\u001b[0m\u001b[0m\n\u001b[0m\u001b[1;32m    551\u001b[0m         \u001b[0;32mfor\u001b[0m \u001b[0mhook\u001b[0m \u001b[0;32min\u001b[0m \u001b[0mself\u001b[0m\u001b[0;34m.\u001b[0m\u001b[0m_forward_hooks\u001b[0m\u001b[0;34m.\u001b[0m\u001b[0mvalues\u001b[0m\u001b[0;34m(\u001b[0m\u001b[0;34m)\u001b[0m\u001b[0;34m:\u001b[0m\u001b[0;34m\u001b[0m\u001b[0;34m\u001b[0m\u001b[0m\n\u001b[1;32m    552\u001b[0m             \u001b[0mhook_result\u001b[0m \u001b[0;34m=\u001b[0m \u001b[0mhook\u001b[0m\u001b[0;34m(\u001b[0m\u001b[0mself\u001b[0m\u001b[0;34m,\u001b[0m \u001b[0minput\u001b[0m\u001b[0;34m,\u001b[0m \u001b[0mresult\u001b[0m\u001b[0;34m)\u001b[0m\u001b[0;34m\u001b[0m\u001b[0;34m\u001b[0m\u001b[0m\n",
            "\u001b[0;32m/usr/local/lib/python3.6/dist-packages/torchvision/models/resnet.py\u001b[0m in \u001b[0;36mforward\u001b[0;34m(self, x)\u001b[0m\n\u001b[1;32m    102\u001b[0m         \u001b[0midentity\u001b[0m \u001b[0;34m=\u001b[0m \u001b[0mx\u001b[0m\u001b[0;34m\u001b[0m\u001b[0;34m\u001b[0m\u001b[0m\n\u001b[1;32m    103\u001b[0m \u001b[0;34m\u001b[0m\u001b[0m\n\u001b[0;32m--> 104\u001b[0;31m         \u001b[0mout\u001b[0m \u001b[0;34m=\u001b[0m \u001b[0mself\u001b[0m\u001b[0;34m.\u001b[0m\u001b[0mconv1\u001b[0m\u001b[0;34m(\u001b[0m\u001b[0mx\u001b[0m\u001b[0;34m)\u001b[0m\u001b[0;34m\u001b[0m\u001b[0;34m\u001b[0m\u001b[0m\n\u001b[0m\u001b[1;32m    105\u001b[0m         \u001b[0mout\u001b[0m \u001b[0;34m=\u001b[0m \u001b[0mself\u001b[0m\u001b[0;34m.\u001b[0m\u001b[0mbn1\u001b[0m\u001b[0;34m(\u001b[0m\u001b[0mout\u001b[0m\u001b[0;34m)\u001b[0m\u001b[0;34m\u001b[0m\u001b[0;34m\u001b[0m\u001b[0m\n\u001b[1;32m    106\u001b[0m         \u001b[0mout\u001b[0m \u001b[0;34m=\u001b[0m \u001b[0mself\u001b[0m\u001b[0;34m.\u001b[0m\u001b[0mrelu\u001b[0m\u001b[0;34m(\u001b[0m\u001b[0mout\u001b[0m\u001b[0;34m)\u001b[0m\u001b[0;34m\u001b[0m\u001b[0;34m\u001b[0m\u001b[0m\n",
            "\u001b[0;32m/usr/local/lib/python3.6/dist-packages/torch/nn/modules/module.py\u001b[0m in \u001b[0;36m__call__\u001b[0;34m(self, *input, **kwargs)\u001b[0m\n\u001b[1;32m    548\u001b[0m             \u001b[0mresult\u001b[0m \u001b[0;34m=\u001b[0m \u001b[0mself\u001b[0m\u001b[0;34m.\u001b[0m\u001b[0m_slow_forward\u001b[0m\u001b[0;34m(\u001b[0m\u001b[0;34m*\u001b[0m\u001b[0minput\u001b[0m\u001b[0;34m,\u001b[0m \u001b[0;34m**\u001b[0m\u001b[0mkwargs\u001b[0m\u001b[0;34m)\u001b[0m\u001b[0;34m\u001b[0m\u001b[0;34m\u001b[0m\u001b[0m\n\u001b[1;32m    549\u001b[0m         \u001b[0;32melse\u001b[0m\u001b[0;34m:\u001b[0m\u001b[0;34m\u001b[0m\u001b[0;34m\u001b[0m\u001b[0m\n\u001b[0;32m--> 550\u001b[0;31m             \u001b[0mresult\u001b[0m \u001b[0;34m=\u001b[0m \u001b[0mself\u001b[0m\u001b[0;34m.\u001b[0m\u001b[0mforward\u001b[0m\u001b[0;34m(\u001b[0m\u001b[0;34m*\u001b[0m\u001b[0minput\u001b[0m\u001b[0;34m,\u001b[0m \u001b[0;34m**\u001b[0m\u001b[0mkwargs\u001b[0m\u001b[0;34m)\u001b[0m\u001b[0;34m\u001b[0m\u001b[0;34m\u001b[0m\u001b[0m\n\u001b[0m\u001b[1;32m    551\u001b[0m         \u001b[0;32mfor\u001b[0m \u001b[0mhook\u001b[0m \u001b[0;32min\u001b[0m \u001b[0mself\u001b[0m\u001b[0;34m.\u001b[0m\u001b[0m_forward_hooks\u001b[0m\u001b[0;34m.\u001b[0m\u001b[0mvalues\u001b[0m\u001b[0;34m(\u001b[0m\u001b[0;34m)\u001b[0m\u001b[0;34m:\u001b[0m\u001b[0;34m\u001b[0m\u001b[0;34m\u001b[0m\u001b[0m\n\u001b[1;32m    552\u001b[0m             \u001b[0mhook_result\u001b[0m \u001b[0;34m=\u001b[0m \u001b[0mhook\u001b[0m\u001b[0;34m(\u001b[0m\u001b[0mself\u001b[0m\u001b[0;34m,\u001b[0m \u001b[0minput\u001b[0m\u001b[0;34m,\u001b[0m \u001b[0mresult\u001b[0m\u001b[0;34m)\u001b[0m\u001b[0;34m\u001b[0m\u001b[0;34m\u001b[0m\u001b[0m\n",
            "\u001b[0;32m/usr/local/lib/python3.6/dist-packages/torch/nn/modules/conv.py\u001b[0m in \u001b[0;36mforward\u001b[0;34m(self, input)\u001b[0m\n\u001b[1;32m    347\u001b[0m \u001b[0;34m\u001b[0m\u001b[0m\n\u001b[1;32m    348\u001b[0m     \u001b[0;32mdef\u001b[0m \u001b[0mforward\u001b[0m\u001b[0;34m(\u001b[0m\u001b[0mself\u001b[0m\u001b[0;34m,\u001b[0m \u001b[0minput\u001b[0m\u001b[0;34m)\u001b[0m\u001b[0;34m:\u001b[0m\u001b[0;34m\u001b[0m\u001b[0;34m\u001b[0m\u001b[0m\n\u001b[0;32m--> 349\u001b[0;31m         \u001b[0;32mreturn\u001b[0m \u001b[0mself\u001b[0m\u001b[0;34m.\u001b[0m\u001b[0m_conv_forward\u001b[0m\u001b[0;34m(\u001b[0m\u001b[0minput\u001b[0m\u001b[0;34m,\u001b[0m \u001b[0mself\u001b[0m\u001b[0;34m.\u001b[0m\u001b[0mweight\u001b[0m\u001b[0;34m)\u001b[0m\u001b[0;34m\u001b[0m\u001b[0;34m\u001b[0m\u001b[0m\n\u001b[0m\u001b[1;32m    350\u001b[0m \u001b[0;34m\u001b[0m\u001b[0m\n\u001b[1;32m    351\u001b[0m \u001b[0;32mclass\u001b[0m \u001b[0mConv3d\u001b[0m\u001b[0;34m(\u001b[0m\u001b[0m_ConvNd\u001b[0m\u001b[0;34m)\u001b[0m\u001b[0;34m:\u001b[0m\u001b[0;34m\u001b[0m\u001b[0;34m\u001b[0m\u001b[0m\n",
            "\u001b[0;32m/usr/local/lib/python3.6/dist-packages/torch/nn/modules/conv.py\u001b[0m in \u001b[0;36m_conv_forward\u001b[0;34m(self, input, weight)\u001b[0m\n\u001b[1;32m    344\u001b[0m                             _pair(0), self.dilation, self.groups)\n\u001b[1;32m    345\u001b[0m         return F.conv2d(input, weight, self.bias, self.stride,\n\u001b[0;32m--> 346\u001b[0;31m                         self.padding, self.dilation, self.groups)\n\u001b[0m\u001b[1;32m    347\u001b[0m \u001b[0;34m\u001b[0m\u001b[0m\n\u001b[1;32m    348\u001b[0m     \u001b[0;32mdef\u001b[0m \u001b[0mforward\u001b[0m\u001b[0;34m(\u001b[0m\u001b[0mself\u001b[0m\u001b[0;34m,\u001b[0m \u001b[0minput\u001b[0m\u001b[0;34m)\u001b[0m\u001b[0;34m:\u001b[0m\u001b[0;34m\u001b[0m\u001b[0;34m\u001b[0m\u001b[0m\n",
            "\u001b[0;31mKeyboardInterrupt\u001b[0m: "
          ]
        }
      ]
    },
    {
      "cell_type": "code",
      "metadata": {
        "id": "outyL7bGQdS8",
        "colab_type": "code",
        "outputId": "b8844cf8-0567-48ab-a201-9f8f82fa6eac",
        "colab": {
          "base_uri": "https://localhost:8080/",
          "height": 51
        }
      },
      "source": [
        "test_model(resnet50)"
      ],
      "execution_count": 0,
      "outputs": [
        {
          "output_type": "stream",
          "text": [
            "Avg. Test Loss: 0.376  Avg. Test Accuracy: 0.905\n",
            "\n"
          ],
          "name": "stdout"
        }
      ]
    }
  ]
}