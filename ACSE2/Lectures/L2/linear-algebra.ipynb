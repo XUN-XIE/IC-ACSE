{
 "cells": [
  {
   "cell_type": "markdown",
   "metadata": {},
   "source": [
    "# ACSE-2  <a class=\"tocSkip\">\n",
    "\n",
    "## Linear Algebra (introduction/reminder/revision)  <a class=\"tocSkip\">"
   ]
  },
  {
   "cell_type": "markdown",
   "metadata": {},
   "source": [
    "## Learning objectives  <a class=\"tocSkip\">\n",
    "   \n",
    "   \n",
    "1. Hopefully for most of you much of this lecture will provide a refresher/reminder on matrices and linear algebra.\n",
    "\n",
    "\n",
    "2. This lecture will focus on matrix arithmetic, linear systems and their solution; the next lecture will move on to eigenvalues and the solution of systems of ODEs.\n",
    "\n",
    "\n",
    "3. Again there is ample opportunity here for us to practice our coding and plotting, and we will think a bit about code complexity and run times.\n",
    "\n",
    "\n",
    "4. To gain a further/firmer understanding of some of the key concepts we will make use of geometrical interpretations and examples as much as possible."
   ]
  },
  {
   "cell_type": "markdown",
   "metadata": {
    "toc": true
   },
   "source": [
    "<h1>Table of Contents<span class=\"tocSkip\"></span></h1>\n",
    "<div class=\"toc\"><ul class=\"toc-item\"><li><span><a href=\"#Introductory-comments\" data-toc-modified-id=\"Introductory-comments-1\"><span class=\"toc-item-num\">1&nbsp;&nbsp;</span>Introductory comments</a></span><ul class=\"toc-item\"><li><span><a href=\"#Notation-&amp;-terminology\" data-toc-modified-id=\"Notation-&amp;-terminology-1.1\"><span class=\"toc-item-num\">1.1&nbsp;&nbsp;</span>Notation &amp; terminology</a></span></li><li><span><a href=\"#Matrix-dimension\" data-toc-modified-id=\"Matrix-dimension-1.2\"><span class=\"toc-item-num\">1.2&nbsp;&nbsp;</span>Matrix dimension</a></span></li><li><span><a href=\"#Arithmetic-and-other-simple-matrix-operations-(and-some-other-introductory-NumPy-comments)\" data-toc-modified-id=\"Arithmetic-and-other-simple-matrix-operations-(and-some-other-introductory-NumPy-comments)-1.3\"><span class=\"toc-item-num\">1.3&nbsp;&nbsp;</span>Arithmetic and other simple matrix operations (and some other introductory NumPy comments)</a></span><ul class=\"toc-item\"><li><span><a href=\"#Matrix-equivalence\" data-toc-modified-id=\"Matrix-equivalence-1.3.1\"><span class=\"toc-item-num\">1.3.1&nbsp;&nbsp;</span>Matrix equivalence</a></span></li><li><span><a href=\"#Addition-and-subtraction\" data-toc-modified-id=\"Addition-and-subtraction-1.3.2\"><span class=\"toc-item-num\">1.3.2&nbsp;&nbsp;</span>Addition and subtraction</a></span></li><li><span><a href=\"#Code\" data-toc-modified-id=\"Code-1.3.3\"><span class=\"toc-item-num\">1.3.3&nbsp;&nbsp;</span>Code</a></span></li><li><span><a href=\"#Scalar-multiplication\" data-toc-modified-id=\"Scalar-multiplication-1.3.4\"><span class=\"toc-item-num\">1.3.4&nbsp;&nbsp;</span>Scalar multiplication</a></span></li><li><span><a href=\"#Be-careful-about-assignments-vs-copies\" data-toc-modified-id=\"Be-careful-about-assignments-vs-copies-1.3.5\"><span class=\"toc-item-num\">1.3.5&nbsp;&nbsp;</span>Be careful about assignments vs copies</a></span></li><li><span><a href=\"#Matrix-transpose-and-complex-conjugate\" data-toc-modified-id=\"Matrix-transpose-and-complex-conjugate-1.3.6\"><span class=\"toc-item-num\">1.3.6&nbsp;&nbsp;</span>Matrix transpose and complex conjugate</a></span></li><li><span><a href=\"#Indexing,-slicing-etc\" data-toc-modified-id=\"Indexing,-slicing-etc-1.3.7\"><span class=\"toc-item-num\">1.3.7&nbsp;&nbsp;</span>Indexing, slicing etc</a></span></li><li><span><a href=\"#Other-useful-NumPy-attributes\" data-toc-modified-id=\"Other-useful-NumPy-attributes-1.3.8\"><span class=\"toc-item-num\">1.3.8&nbsp;&nbsp;</span>Other useful NumPy attributes</a></span></li></ul></li></ul></li><li><span><a href=\"#Matrix-vector-multiplication\" data-toc-modified-id=\"Matrix-vector-multiplication-2\"><span class=\"toc-item-num\">2&nbsp;&nbsp;</span>Matrix-vector multiplication</a></span><ul class=\"toc-item\"><li><span><a href=\"#Mathematical-definition\" data-toc-modified-id=\"Mathematical-definition-2.1\"><span class=\"toc-item-num\">2.1&nbsp;&nbsp;</span>Mathematical definition</a></span></li><li><span><a href=\"#Code\" data-toc-modified-id=\"Code-2.2\"><span class=\"toc-item-num\">2.2&nbsp;&nbsp;</span>Code</a></span></li><li><span><a href=\"#Properties\" data-toc-modified-id=\"Properties-2.3\"><span class=\"toc-item-num\">2.3&nbsp;&nbsp;</span>Properties</a></span></li><li><span><a href=\"#Matrix-multiplication-using-NumPy\" data-toc-modified-id=\"Matrix-multiplication-using-NumPy-2.4\"><span class=\"toc-item-num\">2.4&nbsp;&nbsp;</span>Matrix multiplication using NumPy</a></span><ul class=\"toc-item\"><li><span><a href=\"#Aside:-matrix-objects-[*]\" data-toc-modified-id=\"Aside:-matrix-objects-[*]-2.4.1\"><span class=\"toc-item-num\">2.4.1&nbsp;&nbsp;</span>Aside: matrix objects [*]</a></span></li></ul></li><li><span><a href=\"#Testing-our-code\" data-toc-modified-id=\"Testing-our-code-2.5\"><span class=\"toc-item-num\">2.5&nbsp;&nbsp;</span>Testing our code</a></span></li><li><span><a href=\"#Another-useful-interpretation\" data-toc-modified-id=\"Another-useful-interpretation-2.6\"><span class=\"toc-item-num\">2.6&nbsp;&nbsp;</span>Another useful interpretation</a></span></li></ul></li><li><span><a href=\"#Motivation---linear-(or-matrix)-systems\" data-toc-modified-id=\"Motivation---linear-(or-matrix)-systems-3\"><span class=\"toc-item-num\">3&nbsp;&nbsp;</span>Motivation - linear (or matrix) systems</a></span><ul class=\"toc-item\"><li><span><a href=\"#A-simple-example\" data-toc-modified-id=\"A-simple-example-3.1\"><span class=\"toc-item-num\">3.1&nbsp;&nbsp;</span>A simple example</a></span></li><li><span><a href=\"#The-general-case\" data-toc-modified-id=\"The-general-case-3.2\"><span class=\"toc-item-num\">3.2&nbsp;&nbsp;</span>The general case</a></span></li><li><span><a href=\"#A-geometric-interpretation\" data-toc-modified-id=\"A-geometric-interpretation-3.3\"><span class=\"toc-item-num\">3.3&nbsp;&nbsp;</span>A geometric interpretation</a></span></li><li><span><a href=\"#Solving-a-general-linear-system\" data-toc-modified-id=\"Solving-a-general-linear-system-3.4\"><span class=\"toc-item-num\">3.4&nbsp;&nbsp;</span>Solving a general linear system</a></span></li></ul></li><li><span><a href=\"#Matrix-inverse\" data-toc-modified-id=\"Matrix-inverse-4\"><span class=\"toc-item-num\">4&nbsp;&nbsp;</span>Matrix inverse</a></span><ul class=\"toc-item\"><li><span><a href=\"#Properties-of-the-matrix-inverse\" data-toc-modified-id=\"Properties-of-the-matrix-inverse-4.1\"><span class=\"toc-item-num\">4.1&nbsp;&nbsp;</span>Properties of the matrix inverse</a></span></li><li><span><a href=\"#Using-the-inverse-matrix-to-solve-a-linear-system\" data-toc-modified-id=\"Using-the-inverse-matrix-to-solve-a-linear-system-4.2\"><span class=\"toc-item-num\">4.2&nbsp;&nbsp;</span>Using the inverse matrix to solve a linear system</a></span><ul class=\"toc-item\"><li><span><a href=\"#The-inverse-for-our-simple-example\" data-toc-modified-id=\"The-inverse-for-our-simple-example-4.2.1\"><span class=\"toc-item-num\">4.2.1&nbsp;&nbsp;</span>The inverse for our simple example</a></span></li><li><span><a href=\"#Row-operations-and-a-glimpse-at-Gaussian-elimination\" data-toc-modified-id=\"Row-operations-and-a-glimpse-at-Gaussian-elimination-4.2.2\"><span class=\"toc-item-num\">4.2.2&nbsp;&nbsp;</span>Row operations and a glimpse at Gaussian elimination</a></span></li><li><span><a href=\"#Solving-our-simple-example-using-the-inverse-matrix\" data-toc-modified-id=\"Solving-our-simple-example-using-the-inverse-matrix-4.2.3\"><span class=\"toc-item-num\">4.2.3&nbsp;&nbsp;</span>Solving our simple example using the inverse matrix</a></span></li></ul></li><li><span><a href=\"#Aside:-constructing-some-useful-simple-matrices-in-NumPy-[*]\" data-toc-modified-id=\"Aside:-constructing-some-useful-simple-matrices-in-NumPy-[*]-4.3\"><span class=\"toc-item-num\">4.3&nbsp;&nbsp;</span>Aside: constructing some useful simple matrices in NumPy [*]</a></span><ul class=\"toc-item\"><li><span><a href=\"#The-identity-matrix\" data-toc-modified-id=\"The-identity-matrix-4.3.1\"><span class=\"toc-item-num\">4.3.1&nbsp;&nbsp;</span>The identity matrix</a></span></li><li><span><a href=\"#Diagonal-matrices\" data-toc-modified-id=\"Diagonal-matrices-4.3.2\"><span class=\"toc-item-num\">4.3.2&nbsp;&nbsp;</span>Diagonal matrices</a></span></li><li><span><a href=\"#Matrices-of-zeros-or-ones,-empty-matrices\" data-toc-modified-id=\"Matrices-of-zeros-or-ones,-empty-matrices-4.3.3\"><span class=\"toc-item-num\">4.3.3&nbsp;&nbsp;</span>Matrices of zeros or ones, empty matrices</a></span></li></ul></li></ul></li><li><span><a href=\"#The-determinant\" data-toc-modified-id=\"The-determinant-5\"><span class=\"toc-item-num\">5&nbsp;&nbsp;</span>The determinant</a></span></li><li><span><a href=\"#Matrix-vector-multiplication-(again)-[*]\" data-toc-modified-id=\"Matrix-vector-multiplication-(again)-[*]-6\"><span class=\"toc-item-num\">6&nbsp;&nbsp;</span>Matrix-vector multiplication (again) [*]</a></span><ul class=\"toc-item\"><li><span><a href=\"#Testing-our-code\" data-toc-modified-id=\"Testing-our-code-6.1\"><span class=\"toc-item-num\">6.1&nbsp;&nbsp;</span>Testing our code</a></span></li><li><span><a href=\"#Checking-the-speed-of-our-code!\" data-toc-modified-id=\"Checking-the-speed-of-our-code!-6.2\"><span class=\"toc-item-num\">6.2&nbsp;&nbsp;</span>Checking the speed of our code!</a></span></li></ul></li><li><span><a href=\"#Matrix-matrix-product-[*]\" data-toc-modified-id=\"Matrix-matrix-product-[*]-7\"><span class=\"toc-item-num\">7&nbsp;&nbsp;</span>Matrix-matrix product [*]</a></span><ul class=\"toc-item\"><li><span><a href=\"#Conformable-dimensions\" data-toc-modified-id=\"Conformable-dimensions-7.1\"><span class=\"toc-item-num\">7.1&nbsp;&nbsp;</span>Conformable dimensions</a></span></li><li><span><a href=\"#Properties\" data-toc-modified-id=\"Properties-7.2\"><span class=\"toc-item-num\">7.2&nbsp;&nbsp;</span>Properties</a></span></li><li><span><a href=\"#Code-[*]\" data-toc-modified-id=\"Code-[*]-7.3\"><span class=\"toc-item-num\">7.3&nbsp;&nbsp;</span>Code [*]</a></span><ul class=\"toc-item\"><li><span><a href=\"#Testing-our-code\" data-toc-modified-id=\"Testing-our-code-7.3.1\"><span class=\"toc-item-num\">7.3.1&nbsp;&nbsp;</span>Testing our code</a></span></li></ul></li></ul></li><li><span><a href=\"#Some-linear-algebra-theory\" data-toc-modified-id=\"Some-linear-algebra-theory-8\"><span class=\"toc-item-num\">8&nbsp;&nbsp;</span>Some linear algebra theory</a></span><ul class=\"toc-item\"><li><span><a href=\"#The-determinant-(again)\" data-toc-modified-id=\"The-determinant-(again)-8.1\"><span class=\"toc-item-num\">8.1&nbsp;&nbsp;</span>The determinant (again)</a></span><ul class=\"toc-item\"><li><span><a href=\"#Properties\" data-toc-modified-id=\"Properties-8.1.1\"><span class=\"toc-item-num\">8.1.1&nbsp;&nbsp;</span>Properties</a></span></li><li><span><a href=\"#Full-definition\" data-toc-modified-id=\"Full-definition-8.1.2\"><span class=\"toc-item-num\">8.1.2&nbsp;&nbsp;</span>Full definition</a></span></li></ul></li><li><span><a href=\"#The-inverse-matrix\" data-toc-modified-id=\"The-inverse-matrix-8.2\"><span class=\"toc-item-num\">8.2&nbsp;&nbsp;</span>The inverse matrix</a></span><ul class=\"toc-item\"><li><span><a href=\"#$2\\times-2$-case\" data-toc-modified-id=\"$2\\times-2$-case-8.2.1\"><span class=\"toc-item-num\">8.2.1&nbsp;&nbsp;</span>$2\\times 2$ case</a></span></li><li><span><a href=\"#$n\\times-n$-case\" data-toc-modified-id=\"$n\\times-n$-case-8.2.2\"><span class=\"toc-item-num\">8.2.2&nbsp;&nbsp;</span>$n\\times n$ case</a></span></li></ul></li><li><span><a href=\"#Using-SciPy-to-compute-the-inverse-matrix\" data-toc-modified-id=\"Using-SciPy-to-compute-the-inverse-matrix-8.3\"><span class=\"toc-item-num\">8.3&nbsp;&nbsp;</span>Using SciPy to compute the inverse matrix</a></span></li><li><span><a href=\"#Singular-matrices\" data-toc-modified-id=\"Singular-matrices-8.4\"><span class=\"toc-item-num\">8.4&nbsp;&nbsp;</span>Singular matrices</a></span></li><li><span><a href=\"#Solvability-of-linear-systems\" data-toc-modified-id=\"Solvability-of-linear-systems-8.5\"><span class=\"toc-item-num\">8.5&nbsp;&nbsp;</span>Solvability of linear systems</a></span><ul class=\"toc-item\"><li><span><a href=\"#Linear-(in)dependence\" data-toc-modified-id=\"Linear-(in)dependence-8.5.1\"><span class=\"toc-item-num\">8.5.1&nbsp;&nbsp;</span>Linear (in)dependence</a></span></li><li><span><a href=\"#Equivalent-properties\" data-toc-modified-id=\"Equivalent-properties-8.5.2\"><span class=\"toc-item-num\">8.5.2&nbsp;&nbsp;</span>Equivalent properties</a></span></li><li><span><a href=\"#Rank,-range-and-null-Space\" data-toc-modified-id=\"Rank,-range-and-null-Space-8.5.3\"><span class=\"toc-item-num\">8.5.3&nbsp;&nbsp;</span>Rank, range and null-Space</a></span></li><li><span><a href=\"#Another-geometrical-interpretation\" data-toc-modified-id=\"Another-geometrical-interpretation-8.5.4\"><span class=\"toc-item-num\">8.5.4&nbsp;&nbsp;</span>Another geometrical interpretation</a></span></li><li><span><a href=\"#Solving-our-simple-example-(again)-[*]\" data-toc-modified-id=\"Solving-our-simple-example-(again)-[*]-8.5.5\"><span class=\"toc-item-num\">8.5.5&nbsp;&nbsp;</span>Solving our simple example (again) [*]</a></span></li></ul></li></ul></li><li><span><a href=\"#Cramer's-rule-[**]\" data-toc-modified-id=\"Cramer's-rule-[**]-9\"><span class=\"toc-item-num\">9&nbsp;&nbsp;</span>Cramer's rule [**]</a></span></li><li><span><a href=\"#Geometric-interpretation-of-linear-transformations-[*---assuming-we-have-run-out-of-time,-please-read-through-this-section-as-we-will-pick-up-the-next-lecture-from-this-stuff]\" data-toc-modified-id=\"Geometric-interpretation-of-linear-transformations-[*---assuming-we-have-run-out-of-time,-please-read-through-this-section-as-we-will-pick-up-the-next-lecture-from-this-stuff]-10\"><span class=\"toc-item-num\">10&nbsp;&nbsp;</span>Geometric interpretation of linear transformations [* - assuming we have run out of time, please read through this section as we will pick up the next lecture from this stuff]</a></span><ul class=\"toc-item\"><li><span><a href=\"#Some-examples\" data-toc-modified-id=\"Some-examples-10.1\"><span class=\"toc-item-num\">10.1&nbsp;&nbsp;</span>Some examples</a></span></li></ul></li><li><span><a href=\"#An-animation-[*]\" data-toc-modified-id=\"An-animation-[*]-11\"><span class=\"toc-item-num\">11&nbsp;&nbsp;</span>An animation [*]</a></span></li><li><span><a href=\"#Summary\" data-toc-modified-id=\"Summary-12\"><span class=\"toc-item-num\">12&nbsp;&nbsp;</span>Summary</a></span><ul class=\"toc-item\"><li><span><a href=\"#Next-lecture\" data-toc-modified-id=\"Next-lecture-12.1\"><span class=\"toc-item-num\">12.1&nbsp;&nbsp;</span>Next lecture</a></span></li></ul></li></ul></div>"
   ]
  },
  {
   "cell_type": "markdown",
   "metadata": {},
   "source": [
    "# Introductory comments\n",
    "\n",
    "Linear algebra comes up everywhere in computational science (and elsewhere!)\n",
    "\n",
    "It's important that we have a firm grasp of the mathematical/conceptual aspects, as well as the numerical aspects and the software tools at our disposal.\n",
    "\n",
    "In this lecture we're going to briefly review the former and make a start at some of the latter.\n",
    "\n",
    "**As said previously - your backgrounds are quite varied so for some of you much of this material will already be very familiar, while for some of you some parts may be new. There is a lot of material here,  we will start simply but try to move quite rapidly.**\n",
    "\n",
    "You touched on some of this material in ACSE-1 and will make use of it later in this and other modules.\n",
    "\n",
    "This material will give us ample opportunity to practice our use of NumPy and SciPy, and to gain further experience in plotting."
   ]
  },
  {
   "cell_type": "markdown",
   "metadata": {},
   "source": [
    "If nothing else, at the end of this lecture you should understand how to create animations like this using linear algebra\n",
    "\n",
    "<video controls loop width=\"400\" src=\"animations/logo.mp4\"/>"
   ]
  },
  {
   "cell_type": "markdown",
   "metadata": {},
   "source": [
    "and then be able to extend to things like this\n",
    "\n",
    "<video controls loop width=\"400\" src=\"animations/logo-drunk.mp4\"/>"
   ]
  },
  {
   "cell_type": "markdown",
   "metadata": {},
   "source": [
    "## Notation & terminology\n",
    "\n",
    "\n",
    "- We will use bold fonts to indicate vectors, e.g. $\\boldsymbol{x } $ :\n",
    "\n",
    "$$ \\boldsymbol{x} = (x_1,x_2,\\ldots, x_m)^T$$\n",
    "\n",
    "(the transpose is here since we generally assume a vector is a *column* vector (i.e. has dimension, or shape, $m\\times 1$), but it's clearly easier and more compact to display it as the transpose of a *row* vector in writing - note that when writing on paper it's common to indicate a bold symbol with an underline: $\\boldsymbol{x} \\equiv \\underline{x} $. Sometimes people will use $\\vec{x}$.)\n",
    "\n",
    "- and capital letters to indicate matrices, e.g. $A$:\n",
    "\n",
    "$$A = \n",
    "\\begin{pmatrix}\n",
    "a_{11} & a_{12} \\\\\n",
    "a_{21} & a_{22}\n",
    "\\end{pmatrix}$$\n",
    "\n",
    "\n",
    "- Subscript letters or numbers will be used to indicate components of arrays or matrices, e.g. $x_i$ is the $i$-th component of the vector $\\boldsymbol{x}$, and $a_{ij}$ is the entry from the $i$-th row and the $j$-th column of the matrix $A$, with of course us needing to be careful over our numbering which starts from zero in our Python implementations.\n",
    "\n",
    "\n",
    "- We will identify column vectors of the matrix $A$ as\n",
    "\n",
    "$$A = \\begin{pmatrix}\n",
    "      &     &         &     \\\\\n",
    "  \\boldsymbol{a}_{\\,:1} & \\boldsymbol{a}_{\\,:2} &  \\ldots & \\boldsymbol{a}_{\\,:n} \\\\\n",
    "      &     &         &     \n",
    "\\end{pmatrix}$$\n",
    "i.e. $\\boldsymbol{a}_{\\,:j}$ indicates the $j$-th column of matrix $A$."
   ]
  },
  {
   "cell_type": "markdown",
   "metadata": {},
   "source": [
    "Note that I've made the choice to start my indices at '1' for the purposes of writing things down mathematically. \n",
    "\n",
    "You could choose to start with '0' to better match Python indexing if you want, you just need to be consistent."
   ]
  },
  {
   "cell_type": "markdown",
   "metadata": {},
   "source": [
    "## Matrix dimension\n",
    "\n",
    "A general [matrix](https://en.wikipedia.org/wiki/Matrix_(mathematics)) of dimension (shape in NumPy) $m \\times n$ is\n",
    "\n",
    "\\begin{pmatrix}\n",
    "    a_{11} & a_{12} & \\dots & a_{1n} \\\\\n",
    "    a_{21} & a_{22} & \\dots & a_{2n} \\\\\n",
    "    \\vdots & \\vdots & \\ddots & \\vdots \\\\\n",
    "    a_{m1} & a_{m2} & \\dots & a_{mn}   \n",
    "\\end{pmatrix}\n",
    "\n",
    "where for a real matrix all *entries* $a_{ij}\\in\\mathbb{R}$, i.e. are real numbers, and for a complex matrix $a_{ij}\\in\\mathbb{C}$.  \n",
    "\n",
    "Mathematically we could also write $A\\in\\mathbb{R}^{m\\times n}$ or $\\in\\mathbb{C}^{m\\times n}$.\n",
    "\n",
    "We would say out loud that the matrix is of dimension \"m rows by n columns\" or just \"m by n\".\n",
    "\n",
    "The convention is to state the number of rows first, and columns second - we will see why this is sensible when we talk about matrix multiplication - indeed thinking about matrix multiplication is exactly how I remember that incrementing the first index ($i$) means we move down, and incrementing the second index ($j$) means we move to the right.\n",
    "\n",
    "A *square* matrix is one where $m=n$.\n",
    "\n",
    "An $m\\times 1$ matrix is also a *column vector*.\n",
    "\n",
    "A $1\\times n$ matrix is also a *row vector*."
   ]
  },
  {
   "cell_type": "markdown",
   "metadata": {},
   "source": [
    "## Arithmetic and other simple matrix operations (and some other introductory NumPy comments)\n",
    "\n",
    "We can also use the notation\n",
    "\n",
    "$$A = [a_{ij}]_{m\\times n}$$\n",
    "\n",
    "as shorthand to indicate that matrix $A$ is of dimension ${m\\times n}$ with entries signified by the variables $a_{ij}$."
   ]
  },
  {
   "cell_type": "markdown",
   "metadata": {},
   "source": [
    "### Matrix equivalence\n",
    "\n",
    "We can use this notation to define how two matrices are equivalent - there individually entires each need to be equivalent:\n",
    "\n",
    "$$A = B \\iff  a_{ij} = b_{ij}, \\quad \\forall\\; 1\\leq i \\leq m,\\;\\; 1\\leq j \\leq n$$\n",
    "\n",
    "Note that this definition only make sense if we are comparing matrices of the same size.\n",
    "\n",
    "$\\forall$ is mathematical notation for \"for all\""
   ]
  },
  {
   "cell_type": "code",
   "execution_count": 14,
   "metadata": {},
   "outputs": [],
   "source": [
    "%matplotlib inline\n",
    "%precision 6\n",
    "import numpy as np\n",
    "import matplotlib.pyplot as plt\n",
    "import scipy.linalg as sl\n",
    "from pprint import pprint"
   ]
  },
  {
   "cell_type": "code",
   "execution_count": 16,
   "metadata": {},
   "outputs": [
    {
     "name": "stdout",
     "output_type": "stream",
     "text": [
      "[[ True  True]\n",
      " [ True  True]]\n",
      "True\n",
      "[[ True  True]\n",
      " [ True False]]\n",
      "False\n"
     ]
    }
   ],
   "source": [
    "A = np.array([[1, 2], [3, 4]])\n",
    "B = np.array([[1, 2], [3, 4]])\n",
    "\n",
    "# the following compares element-wise\n",
    "print(A==B)\n",
    "# above works on pairs of entries element-wise, \n",
    "\n",
    "# while array_equal looks at the whole array.\n",
    "print(np.array_equal(A,B))\n",
    "\n",
    "# change one of the entries\n",
    "B = np.array([[1, 2], [3, 5]])\n",
    "\n",
    "print(A==B)\n",
    "print(np.array_equal(A,B))"
   ]
  },
  {
   "cell_type": "markdown",
   "metadata": {},
   "source": [
    "### Addition and subtraction\n",
    "\n",
    "With this notation we can also succinctly define the operation of adding two matrices (with the implicit requirement that the two matrices are of the same dimension)\n",
    "\n",
    "$$A + B = [a_{ij} + b_{ij}]_{m\\times n}$$\n",
    "\n",
    "and similar for subtraction.\n",
    "\n",
    "Let's check the mathematical description agrees with NumPy!"
   ]
  },
  {
   "cell_type": "code",
   "execution_count": 17,
   "metadata": {},
   "outputs": [
    {
     "name": "stdout",
     "output_type": "stream",
     "text": [
      "A =\n",
      " [[1 2]\n",
      " [3 4]] \n",
      "\n",
      "B =\n",
      " [[ 6 -2]\n",
      " [ 1 -7]] \n",
      "\n",
      "A+B =\n",
      " [[ 7  0]\n",
      " [ 4 -3]] \n",
      "\n",
      "A-B =\n",
      " [[-5  4]\n",
      " [ 2 11]] \n",
      "\n"
     ]
    }
   ],
   "source": [
    "# any old matrix\n",
    "A = np.array([[1, 2], [3, 4]])\n",
    "\n",
    "print('A =\\n', A, '\\n')\n",
    "# The '\\n's start new lines and are used just to make the printed text easier to read.\n",
    "\n",
    "# and another one\n",
    "B = np.array([[6, -2], [1, -7]])\n",
    "\n",
    "print('B =\\n', B, '\\n')\n",
    "\n",
    "C = A+B \n",
    "\n",
    "print('A+B =\\n', C, '\\n')\n",
    "\n",
    "print('A-B =\\n', A-B, '\\n')"
   ]
  },
  {
   "cell_type": "markdown",
   "metadata": {},
   "source": [
    "What happens when we try to perform arithmetic with matrices of different sizes?\n",
    "\n",
    "Remember that error/warning messages should be designed to help you - when you get an error/warning read it and try to understand what it's telling you!\n",
    "\n",
    "If you're note sure Google it!"
   ]
  },
  {
   "cell_type": "code",
   "execution_count": 18,
   "metadata": {},
   "outputs": [
    {
     "name": "stdout",
     "output_type": "stream",
     "text": [
      "A =\n",
      " [[1 2]\n",
      " [3 4]] \n",
      "\n",
      "B =\n",
      " [[ 6 -2]\n",
      " [ 1 -7]\n",
      " [ 5 -1]] \n",
      "\n"
     ]
    },
    {
     "ename": "ValueError",
     "evalue": "operands could not be broadcast together with shapes (2,2) (3,2) ",
     "output_type": "error",
     "traceback": [
      "\u001b[1;31m---------------------------------------------------------------------------\u001b[0m",
      "\u001b[1;31mValueError\u001b[0m                                Traceback (most recent call last)",
      "\u001b[1;32m<ipython-input-18-79181494f20b>\u001b[0m in \u001b[0;36m<module>\u001b[1;34m\u001b[0m\n\u001b[0;32m      3\u001b[0m \u001b[0mB\u001b[0m \u001b[1;33m=\u001b[0m \u001b[0mnp\u001b[0m\u001b[1;33m.\u001b[0m\u001b[0marray\u001b[0m\u001b[1;33m(\u001b[0m\u001b[1;33m[\u001b[0m\u001b[1;33m[\u001b[0m\u001b[1;36m6\u001b[0m\u001b[1;33m,\u001b[0m \u001b[1;33m-\u001b[0m\u001b[1;36m2\u001b[0m\u001b[1;33m]\u001b[0m\u001b[1;33m,\u001b[0m \u001b[1;33m[\u001b[0m\u001b[1;36m1\u001b[0m\u001b[1;33m,\u001b[0m \u001b[1;33m-\u001b[0m\u001b[1;36m7\u001b[0m\u001b[1;33m]\u001b[0m\u001b[1;33m,\u001b[0m \u001b[1;33m[\u001b[0m\u001b[1;36m5\u001b[0m\u001b[1;33m,\u001b[0m \u001b[1;33m-\u001b[0m\u001b[1;36m1\u001b[0m\u001b[1;33m]\u001b[0m\u001b[1;33m]\u001b[0m\u001b[1;33m)\u001b[0m\u001b[1;33m\u001b[0m\u001b[1;33m\u001b[0m\u001b[0m\n\u001b[0;32m      4\u001b[0m \u001b[0mprint\u001b[0m\u001b[1;33m(\u001b[0m\u001b[1;34m'B =\\n'\u001b[0m\u001b[1;33m,\u001b[0m \u001b[0mB\u001b[0m\u001b[1;33m,\u001b[0m\u001b[1;34m'\\n'\u001b[0m\u001b[1;33m)\u001b[0m\u001b[1;33m\u001b[0m\u001b[1;33m\u001b[0m\u001b[0m\n\u001b[1;32m----> 5\u001b[1;33m \u001b[0mC\u001b[0m \u001b[1;33m=\u001b[0m \u001b[0mA\u001b[0m\u001b[1;33m+\u001b[0m\u001b[0mB\u001b[0m\u001b[1;33m\u001b[0m\u001b[1;33m\u001b[0m\u001b[0m\n\u001b[0m",
      "\u001b[1;31mValueError\u001b[0m: operands could not be broadcast together with shapes (2,2) (3,2) "
     ]
    }
   ],
   "source": [
    "A = np.array([[1, 2], [3, 4]])\n",
    "print('A =\\n', A, '\\n')\n",
    "B = np.array([[6, -2], [1, -7], [5, -1]])\n",
    "print('B =\\n', B,'\\n')\n",
    "C = A+B"
   ]
  },
  {
   "cell_type": "markdown",
   "metadata": {},
   "source": [
    "### Code\n",
    "\n",
    "For practice, let's code up our own function to perform matrix addition and check it against the NumPy result for some examples.\n",
    "\n",
    "We'll also look a bit more at the use of some NumPy functions to check for the equivalence of arrays."
   ]
  },
  {
   "cell_type": "code",
   "execution_count": 19,
   "metadata": {},
   "outputs": [
    {
     "name": "stdout",
     "output_type": "stream",
     "text": [
      "mat_mat_addition(A,B) == A+B (using allclose): True\n",
      "mat_mat_addition(A,B) == A+B (allclose with tighter tols): True\n",
      "mat_mat_addition(A,B) == A+B (using array_equal):  True\n",
      "mat_mat_addition(A,B) == A+B+very small perturbation (using array_equal):  False\n",
      "mat_mat_addition(A,B) == A+B+very small perturbation (using allclose):  True\n"
     ]
    }
   ],
   "source": [
    "def mat_mat_addition(A,B):\n",
    "    \"\"\" Return the addition A+B\n",
    "    \"\"\"\n",
    "    mA, nA = np.shape(A)\n",
    "    mB, nB = np.shape(B)\n",
    "    # add a check that the two provided matrices are the same size\n",
    "    assert mA==mB and nA==nB \n",
    "    # initialise some space for the result\n",
    "    C = np.zeros((mA, mB))\n",
    "    # loop over the rows\n",
    "    for i in range(mA):\n",
    "        # loop over the columns\n",
    "        for j in range(nA):\n",
    "            C[i, j] = A[i, j] + B[i, j]\n",
    "    return C\n",
    "\n",
    "# check with a simple 2x2 case\n",
    "A = np.array([[1, 2], [3, 4]])\n",
    "B = np.array([[6, -2], [1, -7]])\n",
    "\n",
    "# we can use numpy.allclose to check if our function's result agrees with NumPy\n",
    "print('mat_mat_addition(A,B) == A+B (using allclose):', np.allclose(mat_mat_addition(A,B), A+B))\n",
    "# numpy.allclose returns True provided that \n",
    "# absolute(`a` - `b`) <= (`atol` + `rtol` * absolute(`b`))\n",
    "# in an elementwise-sense, i.e. if it is true for all elements.\n",
    "\n",
    "# we can tighten up tolerances as follows (the default values are rtol=1e-05, atol=1e-08)\n",
    "print('mat_mat_addition(A,B) == A+B (allclose with tighter tols):', \n",
    "      np.allclose(mat_mat_addition(A,B), A+B, rtol=1e-14, atol=1e-14))\n",
    "\n",
    "# alternatively you could use array_equal - read the docs to see what the difference is\n",
    "print('mat_mat_addition(A,B) == A+B (using array_equal): ',\n",
    "      np.array_equal(mat_mat_addition(A,B), A+B))\n",
    "\n",
    "# when performing arithmetic operations round-off could mean that array_equal fails,\n",
    "# lets add a very small perturbation to one of the entries to demonstrate\n",
    "pert = np.array([[1.e-15, 0],[0,0]])\n",
    "print('mat_mat_addition(A,B) == A+B+very small perturbation (using array_equal): ',\n",
    "      np.array_equal(mat_mat_addition(A,B), A+B+pert))\n",
    "\n",
    "# but allclose lets us get away with this difference\n",
    "print('mat_mat_addition(A,B) == A+B+very small perturbation (using allclose): ',\n",
    "      np.allclose(mat_mat_addition(A,B), A+B+pert))"
   ]
  },
  {
   "cell_type": "markdown",
   "metadata": {},
   "source": [
    "So we do need to be a little bit careful on what equality means when using floating point arithmetic!\n",
    "\n",
    "You touched on this in ACSE-1 and we will do a bit more on this in L4.\n",
    "\n",
    "We can get our code to do subtraction just by adding minus the second matrix:"
   ]
  },
  {
   "cell_type": "code",
   "execution_count": 20,
   "metadata": {},
   "outputs": [
    {
     "name": "stdout",
     "output_type": "stream",
     "text": [
      "mat_mat_addition(A,-B) == A-B: True\n"
     ]
    }
   ],
   "source": [
    "# we can check it can do subtraction as well\n",
    "A = np.array([[1, 2], [3, 4]])\n",
    "B = np.array([[6, -2], [1, -7]])\n",
    "\n",
    "print('mat_mat_addition(A,-B) == A-B:', np.allclose(mat_mat_addition(A,-B), A-B))"
   ]
  },
  {
   "cell_type": "code",
   "execution_count": 21,
   "metadata": {},
   "outputs": [
    {
     "ename": "AssertionError",
     "evalue": "",
     "output_type": "error",
     "traceback": [
      "\u001b[1;31m---------------------------------------------------------------------------\u001b[0m",
      "\u001b[1;31mAssertionError\u001b[0m                            Traceback (most recent call last)",
      "\u001b[1;32m<ipython-input-21-a2e83bbc2397>\u001b[0m in \u001b[0;36m<module>\u001b[1;34m\u001b[0m\n\u001b[0;32m      3\u001b[0m \u001b[0mB\u001b[0m \u001b[1;33m=\u001b[0m \u001b[0mnp\u001b[0m\u001b[1;33m.\u001b[0m\u001b[0marray\u001b[0m\u001b[1;33m(\u001b[0m\u001b[1;33m[\u001b[0m\u001b[1;33m[\u001b[0m\u001b[1;36m6\u001b[0m\u001b[1;33m,\u001b[0m \u001b[1;33m-\u001b[0m\u001b[1;36m2\u001b[0m\u001b[1;33m]\u001b[0m\u001b[1;33m,\u001b[0m \u001b[1;33m[\u001b[0m\u001b[1;36m1\u001b[0m\u001b[1;33m,\u001b[0m \u001b[1;33m-\u001b[0m\u001b[1;36m7\u001b[0m\u001b[1;33m]\u001b[0m\u001b[1;33m,\u001b[0m \u001b[1;33m[\u001b[0m\u001b[1;36m5\u001b[0m\u001b[1;33m,\u001b[0m \u001b[1;33m-\u001b[0m\u001b[1;36m1\u001b[0m\u001b[1;33m]\u001b[0m\u001b[1;33m]\u001b[0m\u001b[1;33m)\u001b[0m\u001b[1;33m\u001b[0m\u001b[1;33m\u001b[0m\u001b[0m\n\u001b[0;32m      4\u001b[0m \u001b[1;33m\u001b[0m\u001b[0m\n\u001b[1;32m----> 5\u001b[1;33m \u001b[0mprint\u001b[0m\u001b[1;33m(\u001b[0m\u001b[1;34m'mat_mat_addition(A,B) == A+B:'\u001b[0m\u001b[1;33m,\u001b[0m \u001b[0mnp\u001b[0m\u001b[1;33m.\u001b[0m\u001b[0mallclose\u001b[0m\u001b[1;33m(\u001b[0m\u001b[0mmat_mat_addition\u001b[0m\u001b[1;33m(\u001b[0m\u001b[0mA\u001b[0m\u001b[1;33m,\u001b[0m\u001b[0mB\u001b[0m\u001b[1;33m)\u001b[0m\u001b[1;33m,\u001b[0m \u001b[0mA\u001b[0m\u001b[1;33m+\u001b[0m\u001b[0mB\u001b[0m\u001b[1;33m)\u001b[0m\u001b[1;33m)\u001b[0m\u001b[1;33m\u001b[0m\u001b[1;33m\u001b[0m\u001b[0m\n\u001b[0m",
      "\u001b[1;32m<ipython-input-19-8c4b6ffe0383>\u001b[0m in \u001b[0;36mmat_mat_addition\u001b[1;34m(A, B)\u001b[0m\n\u001b[0;32m      5\u001b[0m     \u001b[0mmB\u001b[0m\u001b[1;33m,\u001b[0m \u001b[0mnB\u001b[0m \u001b[1;33m=\u001b[0m \u001b[0mnp\u001b[0m\u001b[1;33m.\u001b[0m\u001b[0mshape\u001b[0m\u001b[1;33m(\u001b[0m\u001b[0mB\u001b[0m\u001b[1;33m)\u001b[0m\u001b[1;33m\u001b[0m\u001b[1;33m\u001b[0m\u001b[0m\n\u001b[0;32m      6\u001b[0m     \u001b[1;31m# add a check that the two provided matrices are the same size\u001b[0m\u001b[1;33m\u001b[0m\u001b[1;33m\u001b[0m\u001b[1;33m\u001b[0m\u001b[0m\n\u001b[1;32m----> 7\u001b[1;33m     \u001b[1;32massert\u001b[0m \u001b[0mmA\u001b[0m\u001b[1;33m==\u001b[0m\u001b[0mmB\u001b[0m \u001b[1;32mand\u001b[0m \u001b[0mnA\u001b[0m\u001b[1;33m==\u001b[0m\u001b[0mnB\u001b[0m\u001b[1;33m\u001b[0m\u001b[1;33m\u001b[0m\u001b[0m\n\u001b[0m\u001b[0;32m      8\u001b[0m     \u001b[1;31m# initialise some space for the result\u001b[0m\u001b[1;33m\u001b[0m\u001b[1;33m\u001b[0m\u001b[1;33m\u001b[0m\u001b[0m\n\u001b[0;32m      9\u001b[0m     \u001b[0mC\u001b[0m \u001b[1;33m=\u001b[0m \u001b[0mnp\u001b[0m\u001b[1;33m.\u001b[0m\u001b[0mzeros\u001b[0m\u001b[1;33m(\u001b[0m\u001b[1;33m(\u001b[0m\u001b[0mmA\u001b[0m\u001b[1;33m,\u001b[0m \u001b[0mmB\u001b[0m\u001b[1;33m)\u001b[0m\u001b[1;33m)\u001b[0m\u001b[1;33m\u001b[0m\u001b[1;33m\u001b[0m\u001b[0m\n",
      "\u001b[1;31mAssertionError\u001b[0m: "
     ]
    }
   ],
   "source": [
    "# what does OUR function do when the matrices are of different size\n",
    "A = np.array([[1, 2], [3, 4]])\n",
    "B = np.array([[6, -2], [1, -7], [5, -1]])\n",
    "\n",
    "print('mat_mat_addition(A,B) == A+B:', np.allclose(mat_mat_addition(A,B), A+B))"
   ]
  },
  {
   "cell_type": "markdown",
   "metadata": {},
   "source": [
    "### Scalar multiplication\n",
    "\n",
    "We can multiply through by a scalar simply by multiplying each entry by that scalar:\n",
    "\n",
    "$$\\alpha A = [\\alpha A_{ij}]_{m\\times n}$$"
   ]
  },
  {
   "cell_type": "code",
   "execution_count": 22,
   "metadata": {},
   "outputs": [
    {
     "name": "stdout",
     "output_type": "stream",
     "text": [
      "alpha * A =\n",
      " [[ 4  8]\n",
      " [12 16]] \n",
      "\n"
     ]
    }
   ],
   "source": [
    "alpha = 4\n",
    "\n",
    "# The * operator is the correct thing to use here - cf. later when we introduce @!\n",
    "print('alpha * A =\\n', alpha*A, '\\n')"
   ]
  },
  {
   "cell_type": "markdown",
   "metadata": {},
   "source": [
    "### Be careful about assignments vs copies\n",
    "\n",
    "This was mentioned in ACSE-1.\n",
    "\n",
    "See the two examples below, and discussions at \n",
    "\n",
    "<https://www.jessicayung.com/numpy-views-vs-copies-avoiding-costly-mistakes/>\n",
    "\n",
    "<https://numpy.org/devdocs/user/quickstart.html#copies-and-views>"
   ]
  },
  {
   "cell_type": "code",
   "execution_count": 23,
   "metadata": {},
   "outputs": [
    {
     "name": "stdout",
     "output_type": "stream",
     "text": [
      "True\n",
      "True\n"
     ]
    }
   ],
   "source": [
    "A = np.array([[1, 2], [3, 4]])\n",
    "B = A\n",
    "# the following should of course be true\n",
    "print(np.array_equal(A,B))\n",
    "# is it still true if we update one of the entries of ONE of the matrices?\n",
    "B[0]=2\n",
    "print(np.array_equal(A,B))"
   ]
  },
  {
   "cell_type": "code",
   "execution_count": 24,
   "metadata": {},
   "outputs": [
    {
     "name": "stdout",
     "output_type": "stream",
     "text": [
      "True\n",
      "False\n"
     ]
    }
   ],
   "source": [
    "# we may or may not want the above behaviour,\n",
    "# alternatively we can make a copy:\n",
    "A = np.array([[1, 2], [3, 4]])\n",
    "B = np.copy(A)\n",
    "print(np.array_equal(A,B))\n",
    "B[0]=2\n",
    "print(np.array_equal(A,B))"
   ]
  },
  {
   "cell_type": "markdown",
   "metadata": {},
   "source": [
    "### Matrix transpose and complex conjugate\n",
    "\n",
    "The transpose of a matrix $A$ is written as $A^T$ and defined as\n",
    "\n",
    "$$\\text{if} \\quad A = [a_{ij}]_{m\\times n}, \\qquad \\text{then}\\quad A^T = [a_{ji}]_{n\\times m} $$\n",
    "\n",
    "i.e. we just swap the rows and columns - for a non-square matrix note that this operation is perfectly allowed, the dimensions will then also swap:"
   ]
  },
  {
   "cell_type": "code",
   "execution_count": 25,
   "metadata": {},
   "outputs": [
    {
     "name": "stdout",
     "output_type": "stream",
     "text": [
      "[[1 2]\n",
      " [3 4]\n",
      " [5 6]]\n",
      "\n",
      " [[1 3 5]\n",
      " [2 4 6]]\n",
      "\n",
      " [[1 3 5]\n",
      " [2 4 6]]\n"
     ]
    }
   ],
   "source": [
    "A = np.array([[1, 2], [3, 4], [5,6]])\n",
    "print(A)\n",
    "# two NumPy ways to take the transpose:\n",
    "print('\\n',A.T)\n",
    "print('\\n',np.transpose(A))"
   ]
  },
  {
   "cell_type": "code",
   "execution_count": 27,
   "metadata": {},
   "outputs": [
    {
     "name": "stdout",
     "output_type": "stream",
     "text": [
      "\n",
      " [[1 3]\n",
      " [2 4]]\n",
      "\n",
      " [[ 1  3]\n",
      " [10  4]]\n"
     ]
    }
   ],
   "source": [
    "# again be careful about views vs copies:\n",
    "\n",
    "A = np.array([[1, 2], [3, 4]])\n",
    "B = A.T\n",
    "print('\\n',B)\n",
    "\n",
    "# updating the [0,1] entry of A\n",
    "A[0,1]=10\n",
    "\n",
    "# has the effect of changing the [1,0] entry of B!\n",
    "print('\\n',B)"
   ]
  },
  {
   "cell_type": "markdown",
   "metadata": {},
   "source": [
    "We won't generally deal with complex valued matrices, but in this case the [conjugate transpose (or Hermitian transpose)](https://en.wikipedia.org/wiki/Conjugate_transpose) is defined by additionally taking the complex conjugate of the entries:\n",
    "\n",
    "$$A^H = \\overline{A^T} = \\left(\\overline{A}\\right)^T = [\\overline{a}_{ji}]_{n\\times m} $$\n",
    "\n",
    "where $\\overline{(\\cdot)}$ indicates the complex conjugate:  \n",
    "\n",
    "$$\\overline{a+ bi} = a-bi,\\qquad \\text{where}\\qquad i=\\sqrt{-1}$$."
   ]
  },
  {
   "cell_type": "code",
   "execution_count": null,
   "metadata": {},
   "outputs": [],
   "source": [
    "# if we have a complex matrix the complex conjugate (i.e. no transpose) is sometimes useful:\n",
    "\n",
    "A = np.array( [[1+1j, 3], [4-4j, -1+2j]])\n",
    "print(A)\n",
    "print('\\n',np.conjugate(A))"
   ]
  },
  {
   "cell_type": "markdown",
   "metadata": {},
   "source": [
    "If you're wondering why `j` and not `i` is used for the square root of -1 see the discussion here:\n",
    "<https://stackoverflow.com/questions/24812444/why-are-complex-numbers-in-python-denoted-with-j-instead-of-i?>"
   ]
  },
  {
   "cell_type": "code",
   "execution_count": 31,
   "metadata": {},
   "outputs": [
    {
     "name": "stdout",
     "output_type": "stream",
     "text": [
      "[[ 1.+1.j  3.+0.j]\n",
      " [ 4.-4.j -1.+2.j]]\n",
      "\n",
      " [[ 1.-1.j  4.+4.j]\n",
      " [ 3.-0.j -1.-2.j]]\n"
     ]
    }
   ],
   "source": [
    "# and the conjugate transpose (sometimes the Hermitian transpose):\n",
    "\n",
    "A = np.array( [[1+1j, 3], [4-4j, -1+2j]])\n",
    "print(A)\n",
    "print('\\n',np.conjugate(A).T)\n",
    "# If A was a matrix object rather than just a numpy array we could also use A.H, but we won't use these"
   ]
  },
  {
   "cell_type": "markdown",
   "metadata": {},
   "source": [
    "To initialise an array of complex type we can specify the `dtype`"
   ]
  },
  {
   "cell_type": "code",
   "execution_count": 34,
   "metadata": {},
   "outputs": [
    {
     "name": "stdout",
     "output_type": "stream",
     "text": [
      "[[0.+0.j 0.+0.j]\n",
      " [0.+0.j 0.+0.j]]\n",
      "\n",
      " [[0. 0.]\n",
      " [0. 0.]]\n"
     ]
    }
   ],
   "source": [
    "A = np.zeros((2,2), dtype=complex)\n",
    "print(A)\n",
    "\n",
    "# and if we only wanted the real part of this\n",
    "print('\\n',np.real(A))"
   ]
  },
  {
   "cell_type": "markdown",
   "metadata": {},
   "source": [
    "- If $A=A^T$ we say that $A$ is symmetric.\n",
    "\n",
    "\n",
    "- If $A=-A^T$ we say that $A$ is skew-symmetric (what does this imply the diagonal must be?)\n",
    "\n",
    "\n",
    "- If $A=A^H$ then we say that $A$ is [Hermitian](https://en.wikipedia.org/wiki/Hermitian_matrix) (so real symmetric matrices are a subset of Hermitian matrices)"
   ]
  },
  {
   "cell_type": "markdown",
   "metadata": {},
   "source": [
    "#### Properties of the transpose operator\n",
    "\n",
    "The following properties are easy to establish:\n",
    "\n",
    "For matrices $A$ and $B$ of appropriate sizes (i.e. [*conformable*](https://en.wikipedia.org/wiki/Conformable_matrix) for the given operation - addition or multiplication - see later) and a scalar $\\alpha$:\n",
    "\n",
    "\n",
    "1. $(A+B)^T = A^T + B^T$\n",
    "\n",
    "\n",
    "2. $(\\alpha A)^T = \\alpha (A^T)$\n",
    "\n",
    "\n",
    "3. $(AB)^T = B^T A^T$\n",
    "\n",
    "\n",
    "4. $(A^T)^T = A$\n",
    "\n",
    "\n",
    "As an exercise you can try and prove these from the mathematical definitions, and also demonstrate for some simple matrices using appropriate NumPy commands. The third is particularly interesting and perhaps non-obvious so worth trying to prove/verify - see the homework exercises.\n",
    "\n",
    "NB. We haven't actually defined matrix multiplication ($AB$) yet, but we will do so shortly.\n",
    "\n",
    "How does the multiplicative property expand to more matrices, i.e. what is $(ABC)^T$?"
   ]
  },
  {
   "cell_type": "markdown",
   "metadata": {},
   "source": [
    "### Indexing, slicing etc\n",
    "\n",
    "You covered some of this in ACSE-1.\n",
    "\n",
    "For more examples see\n",
    "[https://docs.scipy.org/doc/numpy/reference/arrays.indexing.html](https://docs.scipy.org/doc/numpy/reference/arrays.indexing.html)"
   ]
  },
  {
   "cell_type": "markdown",
   "metadata": {},
   "source": [
    "### Other useful NumPy attributes"
   ]
  },
  {
   "cell_type": "code",
   "execution_count": 35,
   "metadata": {},
   "outputs": [
    {
     "name": "stdout",
     "output_type": "stream",
     "text": [
      "A = \n",
      " [[10.  2.  1.]\n",
      " [ 6.  5.  4.]\n",
      " [ 1.  4.  7.]] \n",
      "\n",
      "array([[10.,  2.,  1.],\n",
      "       [ 6.,  5.,  4.],\n",
      "       [ 1.,  4.,  7.]])\n",
      "\n",
      "Size of the array storing A: np.size(A) =  9\n",
      "\n",
      "The number of dimensions of the matrix A: np.ndim(A) =  2\n",
      "\n",
      "The shape of the matrix A: np.shape(A) =  (3, 3)\n",
      "\n",
      "The number of rows: np.shape(A)[0] =  3\n"
     ]
    }
   ],
   "source": [
    "A = np.array([[10., 2., 1.], [6., 5., 4.], [1., 4., 7.]])\n",
    "\n",
    "print('A = \\n', A, '\\n')\n",
    "\n",
    "# pretty printing - useful for cutting and pasting directly into code.\n",
    "pprint(A)\n",
    "\n",
    "print('\\nSize of the array storing A: np.size(A) = ', np.size(A)) # also print(A.size) \n",
    "\n",
    "print('\\nThe number of dimensions of the matrix A: np.ndim(A) = ', np.ndim(A)) # also print(A.ndim)  \n",
    "# so note that there is a bit of a difference between NumPy and my use of \"dimension\"\n",
    "\n",
    "print('\\nThe shape of the matrix A: np.shape(A) = ', np.shape(A)) # also print(A.shape)\n",
    "\n",
    "print('\\nThe number of rows: np.shape(A)[0] = ', np.shape(A)[0]) # also print(A.shape[0]),   etc...."
   ]
  },
  {
   "cell_type": "markdown",
   "metadata": {},
   "source": [
    "# Matrix-vector multiplication\n",
    "\n",
    "## Mathematical definition\n",
    "\n",
    "This is a good point to review how we can pre-multiply a vector by a matrix, and code up this operation ourselves.\n",
    "\n",
    "[Note that matrix-vector multiplication is just a special case of the more general matrix-matrix multiplication that we will return to a little later].\n",
    "\n",
    "Given an $m\\times n$ matrix $A$ and a vector $\\boldsymbol{x}$ the product is a new vector we will call $\\boldsymbol{b}$:\n",
    "\n",
    "$$ A\\boldsymbol{x}=\\boldsymbol{b}$$\n",
    "\n",
    "The size of $A$ dictates the size of $\\boldsymbol{x}$ where this product makes sense (is defined), and tells us the resulting size of $\\boldsymbol{b}$: \n",
    "\n",
    "if $A$ is $m\\times n$, then \n",
    "$\\boldsymbol{x}$ has to be $n\\times 1$  and $\\boldsymbol{b}$ will then be  $m\\times 1$.\n",
    "\n",
    "\n",
    "$$b_i = \\sum_{j=1}^n a_{ij} x_j \\quad\\text{for}\\quad i=1,\\ldots, m $$\n"
   ]
  },
  {
   "cell_type": "markdown",
   "metadata": {},
   "source": [
    "## Code\n",
    "\n",
    "Let's implement our own matrix vector product function"
   ]
  },
  {
   "cell_type": "code",
   "execution_count": 28,
   "metadata": {},
   "outputs": [],
   "source": [
    "def mat_vec_product(A, x):\n",
    "    \"\"\" Return the matrix vector product Ax\n",
    "    \"\"\"\n",
    "    m, n = np.shape(A)\n",
    "    assert x.ndim == 1 # restrict to the case where x is 1D\n",
    "    assert n == len(x) # as 1D we can check the length of x is consistent with A\n",
    "    b = np.zeros(m) # and then initialise the appropriate length array for b\n",
    "    for i in range(m):\n",
    "        for j in range(n):\n",
    "            b[i] += A[i, j] * x[j]\n",
    "    return b"
   ]
  },
  {
   "cell_type": "markdown",
   "metadata": {},
   "source": [
    "We'll test this shortly, but first well think about some properties and see how to do this in NumPy."
   ]
  },
  {
   "cell_type": "markdown",
   "metadata": {},
   "source": [
    "## Properties\n",
    "\n",
    "Note that the action of multiplying by a matrix is what is called a [linear operator](https://en.wikipedia.org/wiki/Linear_map). This means that matrix multiplication satisfies the properties (for a matrix $A$, vectors $\\boldsymbol{x}$ and $\\boldsymbol{y}$, and scalar $\\alpha$)\n",
    "\n",
    "\n",
    "1. $A (x + y) = Ax + Ay$\n",
    "\n",
    "\n",
    "2. $A (\\alpha x) = \\alpha A x$"
   ]
  },
  {
   "cell_type": "markdown",
   "metadata": {},
   "source": [
    "## Matrix multiplication using NumPy\n",
    "\n",
    "OK, so we know that for a $2 \\times 2$ matrix $A$ and\n",
    "\n",
    "$$\\boldsymbol{x} = \\begin{pmatrix}\n",
    "    1\\\\\n",
    "    1\n",
    "\\end{pmatrix}$$ \n",
    "\n",
    "$A\\boldsymbol{x}$ will just be the summation of the columns of $A$.\n",
    "\n",
    "Let's test this using NumPy."
   ]
  },
  {
   "cell_type": "code",
   "execution_count": 29,
   "metadata": {},
   "outputs": [
    {
     "name": "stdout",
     "output_type": "stream",
     "text": [
      "[[ 2  3]\n",
      " [ 1 -4]]\n",
      "\n",
      " [[ 2  3]\n",
      " [ 1 -4]]\n"
     ]
    }
   ],
   "source": [
    "A = np.array([[2, 3], [1, -4]])\n",
    "x = np.array([1, 1])\n",
    "\n",
    "print(A)\n",
    "print('\\n',A*x)"
   ]
  },
  {
   "cell_type": "markdown",
   "metadata": {},
   "source": [
    "Not what we were expecting.  \n",
    "\n",
    "The `*` operator is equivalent to `np.multiply` <https://docs.scipy.org/doc/numpy/reference/generated/numpy.multiply.html>, \n",
    "\n",
    "this is the same as the elementwise product in Matlab: `.*`. \n",
    "\n",
    "We want the `@` operator:"
   ]
  },
  {
   "cell_type": "code",
   "execution_count": 6,
   "metadata": {},
   "outputs": [
    {
     "name": "stdout",
     "output_type": "stream",
     "text": [
      "[[ 2  3]\n",
      " [ 1 -4]]\n",
      "\n",
      " [ 8 -7]\n"
     ]
    }
   ],
   "source": [
    "A = np.array([[2, 3], [1, -4]])\n",
    "x = np.array([1, 2])\n",
    "\n",
    "print(A)\n",
    "print('\\n',A@x)"
   ]
  },
  {
   "cell_type": "markdown",
   "metadata": {},
   "source": [
    "Note that the `@` operator was introduced relatively recently. If you look at older code you may see the use of \n",
    "`numpy.dot` <https://numpy.org/devdocs/reference/generated/numpy.dot.html> or `numpy.matmul` <https://numpy.org/devdocs/reference/generated/numpy.matmul.html#numpy.matmul>"
   ]
  },
  {
   "cell_type": "code",
   "execution_count": 7,
   "metadata": {},
   "outputs": [
    {
     "name": "stdout",
     "output_type": "stream",
     "text": [
      "[ 8 -7]\n",
      "\n",
      " [ 8 -7]\n"
     ]
    }
   ],
   "source": [
    "A = np.array([[2, 3], [1, -4]])\n",
    "x = np.array([1, 2])\n",
    "\n",
    "print(np.dot(A,x))   #  or   print('\\n',A.dot(x))\n",
    "print('\\n',np.matmul(A,x))   #  or print('\\n',A.matmul(x))"
   ]
  },
  {
   "cell_type": "markdown",
   "metadata": {},
   "source": [
    "### Aside: matrix objects [*]\n",
    "\n",
    "Note that NumPy does possess a matrix object as a sub-class of the NumPy array.  \n",
    "\n",
    "If needed we can cast the above two-dimensional arrays into matrix objects (with `np.mat(A)`), one consequence of this is that the `*` operator now will yield the expected matrix product. (Note that this may also be the case with certain libraries - we will see this in lecture 4 when we make use of `mpmath`, so be careful.)\n",
    "\n",
    "However, since the introduction of the `@` operator for NumPy arrays use of matrix data types is not recommended. We won't use them here."
   ]
  },
  {
   "cell_type": "markdown",
   "metadata": {},
   "source": [
    "## Testing our code\n",
    "\n",
    "OK, so now we know how to do matrix-vector multiplication properly with NumPy, let's use it to check our code."
   ]
  },
  {
   "cell_type": "code",
   "execution_count": 30,
   "metadata": {},
   "outputs": [
    {
     "name": "stdout",
     "output_type": "stream",
     "text": [
      "[ 5. -3.]\n",
      "mat_vec_product(A, x) == A@x:   True\n",
      "[ 5. -3.  2.]\n",
      "mat_vec_product(A, x) == A@x:   True\n"
     ]
    }
   ],
   "source": [
    "A = np.array([[2, 3], [1, -4]])\n",
    "x = np.array([1, 1])\n",
    "\n",
    "print(mat_vec_product(A,x))\n",
    "print('mat_vec_product(A, x) == A@x:  ', np.allclose(mat_vec_product(A, x), A@x))\n",
    "\n",
    "# Check a non-square matrix\n",
    "A = np.array([[2, 3], [1, -4], [1,1]])\n",
    "# based on the above weighted sum of columns, what should Ax be for the following x?\n",
    "x = np.array([1, 1])\n",
    "\n",
    "print(mat_vec_product(A,x))\n",
    "print('mat_vec_product(A, x) == A@x:  ', np.allclose(mat_vec_product(A, x), A@x))"
   ]
  },
  {
   "cell_type": "markdown",
   "metadata": {},
   "source": [
    "## Another useful interpretation\n",
    "\n",
    "If you think about it, the vector $\\boldsymbol{b}$ is the weighted sum (i.e. a linear combination) of the columns of $A$, where the weighting of each column comes from the entries of $\\boldsymbol{x}$:\n",
    "\n",
    "$$\n",
    "\\begin{pmatrix}\n",
    "    b_1\\\\\n",
    "    b_2\\\\\n",
    "    \\vdots\\\\\n",
    "    b_m\n",
    "\\end{pmatrix}\n",
    "=\n",
    "\\begin{pmatrix}\n",
    "      &     &         &     \\\\\n",
    "  \\boldsymbol{a}_{\\,:1} & \\boldsymbol{a}_{\\,:2} &  \\ldots & \\boldsymbol{a}_{\\,:n} \\\\\n",
    "      &     &         &     \\\\\n",
    "      &     &         &     \n",
    "\\end{pmatrix}\n",
    "\\begin{pmatrix}\n",
    "    x_1\\\\\n",
    "    x_2\\\\\n",
    "    \\vdots\\\\\n",
    "    x_n\n",
    "\\end{pmatrix}\n",
    "=\n",
    "x_1 \n",
    "\\begin{pmatrix}\n",
    "       \\\\\n",
    "   \\boldsymbol{a}_{\\,:1} \\\\\n",
    "       \\\\\n",
    "    ~   \n",
    "\\end{pmatrix}\n",
    "+\n",
    "x_2 \n",
    "\\begin{pmatrix}\n",
    "       \\\\\n",
    "   \\boldsymbol{a}_{\\,:2} \\\\\n",
    "       \\\\\n",
    "    ~   \n",
    "\\end{pmatrix}\n",
    "+ \\cdots +\n",
    "x_n\n",
    "\\begin{pmatrix}\n",
    "       \\\\\n",
    "   \\boldsymbol{a}_{\\,:n} \\\\\n",
    "       \\\\\n",
    "    ~   \n",
    "\\end{pmatrix}\n",
    "$$\n",
    "\n",
    "where we have used the notation $\\boldsymbol{a}_{\\,:j}$ to indicate the $j$-th column of matrix $A$.\n",
    "\n",
    "If you find it easier to think about things geometrically, then you will see later that this is a very useful way to think about what's going on when you multiply a matrix by a vector.\n",
    "\n",
    "<br>\n",
    "\n",
    "A homework exercise asks you to code up a version of matrix-vector multiplication based on this mathematical interpretation."
   ]
  },
  {
   "cell_type": "markdown",
   "metadata": {},
   "source": [
    "# Motivation - linear (or matrix) systems\n",
    "\n",
    "Almost every topic in this course, at some point (which may be hidden under the hood), requires the solution of a linear (or matrix) system of the form\n",
    "\n",
    "$$A\\boldsymbol{x}=\\boldsymbol{b},$$\n",
    "\n",
    "where for a given $m\\times n$ matrix $A$ and a given $m\\times 1$ right hand side vector $\\boldsymbol{b}$ we want to find an $n\\times 1$ vector $\\boldsymbol{x}$.\n",
    "\n",
    "[Remember that the product of an $m\\times n$ and an $n\\times p$ matrix (in that order) results in an $m\\times p$ matrix - we'll see this below.]  \n",
    "\n",
    "Often, but not always, we will be considering a square problem, i.e. where $m=n$.\n",
    "\n",
    "For many methods or algorithms the solution of linear systems such as this also turns out to be the most costly component of that method.  And also where sensible vs stupid algorithm choices can lead to terrible run times and even instability (e.g. not being able to obtain a solution at all).\n",
    "\n",
    "Hence, it is vitally important for us to understand the methods available to us to solve this problem accurately and efficiently.\n",
    "\n",
    "We also need to understand situations where the solution of this problem may be more difficult - that is more expensive and/or more difficult to achieve an accurate solution."
   ]
  },
  {
   "cell_type": "markdown",
   "metadata": {},
   "source": [
    "## A simple example\n",
    "\n",
    "Recall that we can re-write a system of simultaneous (linear) equations in matrix form.  \n",
    "\n",
    "For example, consider the following example:\n",
    "\n",
    "\\begin{eqnarray*}\n",
    "  2x + 3y &=& 7 \\\\[5pt]\n",
    "   x - 4y &=& 3,\n",
    "\\end{eqnarray*} \n",
    "\n",
    "this is completely equivalent to the following problem written in matrix form:\n",
    "\n",
    "$$\n",
    "\\begin{pmatrix}\n",
    "    2 & 3 \\\\\n",
    "    1 & -4  \n",
    "\\end{pmatrix}  \n",
    "\\begin{pmatrix}\n",
    "    x \\\\\n",
    "    y \n",
    "\\end{pmatrix}  =\n",
    "\\begin{pmatrix}\n",
    "    7 \\\\\n",
    "    3 \n",
    "\\end{pmatrix}.\n",
    "$$\n",
    "\n",
    "A collection of multiple linear equations for multiple unknowns is the general situation that will lead us to need to solve a matrix system; we may easily have a scenario where we have billions of unknowns."
   ]
  },
  {
   "cell_type": "markdown",
   "metadata": {},
   "source": [
    "## The general case\n",
    "\n",
    "More generally, consider the arbitrary system of $n$ linear equations for $n$ unknowns\n",
    "\n",
    "\\begin{eqnarray*}\n",
    "  a_{11}x_1 + a_{12}x_2 + \\dots + a_{1n}x_n &=& b_1 \\\\[5pt] \n",
    "  a_{21}x_1 + a_{22}x_2 + \\dots + a_{2n}x_n &=& b_2 \\\\[5pt]\n",
    "  \\vdots &=& \\vdots \\\\ \n",
    "  a_{n1}x_1 + a_{n2}x_2 + \\dots + a_{nn}x_n &=& b_n,\n",
    "\\end{eqnarray*}\n",
    "\n",
    "where $a_{ij}$ are the constant coefficients of the linear system, $x_j$ are the unknown variables, and $b_i$\n",
    "are the terms on the right hand side (RHS).  \n",
    "\n",
    "Here the index $i$ is referring to the equation number (equivalently the row in the matrix below), with the index $j$ referring to the component of the unknown vector $\\boldsymbol{x}$ (equivalently the column of the matrix).\n",
    "\n",
    "This system of equations can be represented as the matrix equation $A\\boldsymbol{x}=\\boldsymbol{b}$: \n",
    "\n",
    "$$\n",
    "\\left(\n",
    "  \\begin{array}{cccc}\n",
    "    a_{11} & a_{12} & \\dots & a_{1n} \\\\\n",
    "    a_{21} & a_{22} & \\dots & a_{2n} \\\\\n",
    "    \\vdots & \\vdots & \\ddots & \\vdots \\\\\n",
    "    a_{n1} & a_{n2} & \\dots & a_{nn} \n",
    "  \\end{array}\n",
    "\\right)\\left(\n",
    "         \\begin{array}{c}\n",
    "           x_1 \\\\\n",
    "           x_2 \\\\\n",
    "           \\vdots \\\\\n",
    "           x_n \n",
    "         \\end{array}\n",
    "       \\right)  = \\left(\n",
    "                   \\begin{array}{c}\n",
    "                     b_1 \\\\\n",
    "                     b_2 \\\\\n",
    "                     \\vdots \\\\\n",
    "                     b_n \n",
    "                   \\end{array}\n",
    "                 \\right).\n",
    "$$\n",
    "\n",
    "We've written it here as a square matrix (of *dimension* $n\\times n$) - the same number of equations as unknowns, but this doesn't necessarily need to be the case - we may have $m$ equations and $n$ unknowns and then our matrix would be of *dimension* $m \\times n$."
   ]
  },
  {
   "cell_type": "markdown",
   "metadata": {},
   "source": [
    "## A geometric interpretation\n",
    "\n",
    "Let's go back to our simple example\n",
    "\n",
    "\\begin{eqnarray*}\n",
    "  2x + 3y &=& 7 \\\\[5pt]\n",
    "   x - 4y &=& 3\n",
    "\\end{eqnarray*} \n",
    "\n",
    "We can rearrange the first of these to\n",
    "\n",
    "$$y = -\\frac{2}{3} x + \\frac{7}{3}$$\n",
    "\n",
    "which we recognise as the equation of a straight line in 2D space: $y=mx +c$ where $m$ is the slope and $c$ is the intercept.\n",
    "\n",
    "Another interpretation: Consider all of $(x,y)$ space where $x$ and $y$ are independent variables that are free to vary arbitrarily - they will map out, or cover/span, all of 2D space.  By stating that $ 2x + 3y = 7 $ we are now saying that $x$ and $y$ are not both independent - they cannot vary arbitrarily, one is effectively dependent on the other. \n",
    "\n",
    "For a linear system this one equation restricts us to a line in 2D (or a plane in 3D etc). \n",
    "\n",
    "In ACSE-3 you will encounter nonlinear equations where the situation is a bit more complicated but the equations can still be considered as constraints.\n",
    "\n",
    "Above we wrote this as $y\\equiv y(x)$ ($y$ is a function of $x$) to emphasise a point, but of course we could have just as easily rearranged to $x\\equiv x(y)$. If instead of $2x + 3y = 7$ we had the equation  $2x = 7$ then of course we couldn't rearrange into the form $y\\equiv y(x)$, but trivially can into the form $x\\equiv x(y)$ (a constant in this case) - this just reflects the fact that this particular equation example represents a vertical line in 2D space ($m=\\infty$)!\n",
    "\n",
    "Of course our second equation can also be interpreted as a line in 2D space.\n",
    "\n",
    "Let's go back to our original example and plot the two lines."
   ]
  },
  {
   "cell_type": "code",
   "execution_count": 43,
   "metadata": {},
   "outputs": [
    {
     "data": {
      "text/plain": [
       "<matplotlib.legend.Legend at 0x19952468cf8>"
      ]
     },
     "execution_count": 43,
     "metadata": {},
     "output_type": "execute_result"
    },
    {
     "data": {
      "image/png": "[encoded data removed]",
      "text/plain": [
       "<Figure size 360x360 with 1 Axes>"
      ]
     },
     "metadata": {
      "needs_background": "light"
     },
     "output_type": "display_data"
    }
   ],
   "source": [
    "x = np.linspace(-1,5,100)\n",
    "y1 = -(2./3.)*x + (7./3.)\n",
    "y2 = (1./4.)*x - (3./4.)\n",
    "\n",
    "fig = plt.figure(figsize=(5, 5))\n",
    "\n",
    "ax1 = fig.add_subplot(111)\n",
    "\n",
    "ax1.set_xlabel(\"$x$\", fontsize=14)\n",
    "ax1.set_ylabel(\"$y$\", fontsize=14)\n",
    "ax1.set_title('Two lines', fontsize=14)\n",
    "ax1.grid(True)\n",
    "\n",
    "ax1.plot(x,y1,'b', label='$2x+3y=7$')\n",
    "ax1.plot(x,y2,'r', label='$x-4y=3$')\n",
    "\n",
    "ax1.legend(loc='best', fontsize=14)"
   ]
  },
  {
   "cell_type": "markdown",
   "metadata": {},
   "source": [
    "So in solving the system of simultaneous equations, or equivalently solving the corresponding matrix system, we are asking the question what $x$ and $y$ values satisfy BOTH equations (or constraints)?\n",
    "\n",
    "We have two unknowns ($x$ and $y$) and two equations (equivalently two constraints, two pieces of information).\n",
    "\n",
    "From the image above we see that there is a solution (at the intersection) and it is clearly unique (there is only one intersection), for these particular equations. This is the only combination of $x$ and $y$ values that satisfy both equations.\n",
    "\n",
    "But of course in 2D there are two other possible scenarios - what are these?  Can you construct suitable pairs of equations that demonstrate these possibilities, and the corresponding plots to help explain what is going in visually?  .... see the exercises."
   ]
  },
  {
   "cell_type": "markdown",
   "metadata": {},
   "source": [
    "## Solving a general linear system\n",
    "\n",
    "In this simple $2\\times 2$ case we can find the solution via the above geometric method, or we can substitute one equation into the other to solve the system:\n",
    "\n",
    "\\begin{eqnarray*}\n",
    "  2x + 3y &=& 7 \\\\[5pt]\n",
    "   x - 4y &=& 3\n",
    "\\end{eqnarray*} \n",
    "\n",
    "Lots of ways we could do this, but as $x$ is already on its own in the second equation perhaps easiest (as it delays the need to deal with fractions) to rearrange and substitute $x=3+4y$ into the first:\n",
    "\n",
    "$$ 2x + 3y = 7 \\quad\\implies\\quad 2(3+4y)+3y=7 \\quad\\implies\\quad  (2\\times 4 + 3)y=7 - 2\\times 3  \\quad\\implies\\quad y = \\frac{1}{11} $$\n",
    "\n",
    "Then substitute this back into one of the equations to find $x$, again easiest option is the second:\n",
    "\n",
    "$$x=3+4y = 3+4\\times \\frac{1}{11} = \\frac{37}{11}$$\n",
    "\n",
    "But we can't really use either of these approaches (plotting or substitution) if our system is much larger in dimension - what if we had billions of unknowns (which on today's computers are problem sizes we would certainly be wanting to solve.)\n",
    "\n",
    "We can check our solution to the $2\\times 2$ problem by adding this point to our plot:"
   ]
  },
  {
   "cell_type": "code",
   "execution_count": 44,
   "metadata": {},
   "outputs": [
    {
     "data": {
      "text/plain": [
       "<matplotlib.legend.Legend at 0x1995292ea20>"
      ]
     },
     "execution_count": 44,
     "metadata": {},
     "output_type": "execute_result"
    },
    {
     "data": {
      "image/png": "[encoded data removed]",
      "text/plain": [
       "<Figure size 360x360 with 1 Axes>"
      ]
     },
     "metadata": {
      "needs_background": "light"
     },
     "output_type": "display_data"
    }
   ],
   "source": [
    "x = np.linspace(-1,5,100)\n",
    "y1 = -(2./3.)*x + (7./3.)\n",
    "y2 = (1./4.)*x - (3./4.)\n",
    "\n",
    "fig = plt.figure(figsize=(5, 5))\n",
    "\n",
    "ax1 = fig.add_subplot(111)\n",
    "\n",
    "ax1.set_xlabel(\"$x$\", fontsize=14)\n",
    "ax1.set_ylabel(\"$y$\", fontsize=14)\n",
    "ax1.set_title('Two lines', fontsize=14)\n",
    "ax1.grid(True)\n",
    "\n",
    "ax1.plot(x,y1,'b', label='$2x+3y=7$')\n",
    "ax1.plot(x,y2,'r', label='$x-4y=3$')\n",
    "ax1.plot(37./11,1./11, 'ko', label='Solution')\n",
    "\n",
    "ax1.legend(loc='best', fontsize=14)"
   ]
  },
  {
   "cell_type": "markdown",
   "metadata": {},
   "source": [
    "Success!!"
   ]
  },
  {
   "cell_type": "markdown",
   "metadata": {},
   "source": [
    "# Matrix inverse\n",
    "\n",
    "For a square $n\\times n$ matrix $A$, its inverse is defined as the matrix $B$ with the same dimensions as $A$ that satisfies\n",
    "\n",
    "$$AB = BA = I$$\n",
    "\n",
    "where $I$ is the identity matrix of size $n\\times n$ (sometimes to explicitly indicate its dimension we would write $I_n$) - see a couple of cells below for the formal definition.\n",
    "\n",
    "That is if we pre- or post-multiply $A$ by this matrix we get the simple identity matrix. "
   ]
  },
  {
   "cell_type": "markdown",
   "metadata": {},
   "source": [
    "**Aside:**\n",
    "\n",
    "To understand this we need to understand what it means to multiple two matrices together. \n",
    "\n",
    "We'll go through this in detail in an optional section below rather than getting bogged down in the details here, for now we just state that mat-mat multiplication is just a straightforward extension of matrix-vector multiplication applied to each column of the matrix on the right of the pair:\n",
    "\n",
    "\n",
    "$$C=AB \\qquad \\iff \\qquad c_{ij} = \\sum_{k=1}^n a_{ik} b_{kj}$$\n"
   ]
  },
  {
   "cell_type": "markdown",
   "metadata": {},
   "source": [
    "Such a matrix $B$, if its exists (more on this later), is called the inverse of $A$ and denoted $A^{-1}$. Note that  $(A^{-1})^{-1} = A$.\n",
    "\n",
    "The action of taking the inverse can be written $\\text{inv}(A)$, so for example $\\text{inv}(\\text{inv}(A)) = A$.\n",
    "\n",
    "Note that since we established above that $AB \\ne BA$ in general, then for non-square matrices it is certainly possible to find a matrix $B$ such that $AB=I$ but $BA\\ne I$. In this case we say that $B$ is a *right inverse*. Similar definition for *left inverse*. For square matrices a left inverse is also the right inverse and vice-versa."
   ]
  },
  {
   "cell_type": "markdown",
   "metadata": {},
   "source": [
    "## Properties of the matrix inverse\n",
    "\n",
    "If a matrix has an inverse, then that inverse is unique.\n",
    "\n",
    "How could you prove a result like this:\n",
    "\n",
    "Consider a matrix $A$ and suppose $B$ and $C$ are both inverses, i.e.\n",
    "\n",
    "$$AB = BA = I\\quad\\text{and}\\quad AC = CA = I$$\n",
    "\n",
    "then it must follow that\n",
    "\n",
    "$$B = BI = B(AC) = (BA)C = IC = C$$\n",
    "\n",
    "Hence the inverse is unique."
   ]
  },
  {
   "cell_type": "markdown",
   "metadata": {},
   "source": [
    "The following properties of inverses hold\n",
    "\n",
    "For invertible matrices $A$ and $B$ (of the same square size) and scalar $\\alpha\\ne 0$\n",
    "\n",
    "\n",
    "1. $\\alpha A$ is invertible and $(\\alpha A)^{-1} = \\alpha^{-1} A^{-1}$\n",
    "\n",
    "\n",
    "2. $AB$ is invertible and $(AB)^{-1} = B^{-1}A^{-1}$\n",
    "\n",
    "\n",
    "3. $A^{-1}$ is invertible and $(A^{-1})^{-1}=A$\n",
    "\n",
    "\n",
    "4. $A^{T}$ is invertible and $(A^{T})^{-1}=(A^{-1})^T$\n",
    "\n",
    "\n",
    "As an exercise you can check these through some example using NumPy."
   ]
  },
  {
   "cell_type": "markdown",
   "metadata": {},
   "source": [
    "## Using the inverse matrix to solve a linear system\n",
    "\n",
    "**IF** we have the inverse matrix, then to solve the matrix equation \n",
    "\n",
    "$$ A\\boldsymbol{x}=\\boldsymbol{b} $$\n",
    "\n",
    "we can simply multiply both sides by the inverse of the matrix $A$:\n",
    "\n",
    "\\begin{align}\n",
    "A\\boldsymbol{x} & = \\boldsymbol{b}\\\\\n",
    "\\implies A^{-1}A\\boldsymbol{x} & = A^{-1}\\boldsymbol{b}\\\\\n",
    "\\implies I\\boldsymbol{x} & = A^{-1}\\boldsymbol{b}\\\\\n",
    "\\implies \\boldsymbol{x} & = A^{-1}\\boldsymbol{b}\n",
    "\\end{align}\n",
    "\n",
    "so we can find the solution $\\boldsymbol{x}$ by multiplying the inverse of $A$ with the RHS vector $\\boldsymbol{b}$."
   ]
  },
  {
   "cell_type": "markdown",
   "metadata": {},
   "source": [
    "### The inverse for our simple example\n",
    "\n",
    "Note that for our $2\\times 2$ case, when we went through the steps of substituting one equation into another to solve the system, this actually pretty much gave us enough information to write down the inverse matrix.\n",
    "\n",
    "Let's check that we do indeed have an inverse:"
   ]
  },
  {
   "cell_type": "code",
   "execution_count": 31,
   "metadata": {},
   "outputs": [
    {
     "name": "stdout",
     "output_type": "stream",
     "text": [
      "[[1. 0.]\n",
      " [0. 1.]]\n",
      "[[1. 0.]\n",
      " [0. 1.]]\n"
     ]
    }
   ],
   "source": [
    "# our matrix\n",
    "A = np.array([[2, 3], [1, -4]])\n",
    "\n",
    "# I claim this is the inverse to that matrix\n",
    "B = (-1./11)*np.array([[-4, -3], [-1, 2]])\n",
    "\n",
    "# let's check\n",
    "print(A@B)\n",
    "print(B@A)"
   ]
  },
  {
   "cell_type": "markdown",
   "metadata": {},
   "source": [
    "### Row operations and a glimpse at Gaussian elimination\n",
    "\n",
    "What did we do when we used substitution to solve our problem\n",
    "\n",
    "$$\n",
    "\\begin{align*}\n",
    "  2x + 3y &= 7 \\\\[5pt]\n",
    "   x - 4y &= 3 \n",
    "\\end{align*}\n",
    "   \\quad \\iff \\quad\n",
    "  \\begin{pmatrix}\n",
    "    2 & 3 \\\\\n",
    "    1 & -4  \n",
    "  \\end{pmatrix}\n",
    "  \\begin{pmatrix}\n",
    "    x \\\\\n",
    "    y \n",
    "  \\end{pmatrix}=\n",
    "  \\begin{pmatrix}\n",
    "    7 \\\\\n",
    "    3 \n",
    "  \\end{pmatrix}   \n",
    "$$\n",
    "\n",
    "We rearranged the second equation to yield $x=3+4y$ and substituted it into the first to obtain an equation that contained $y$'s only. \n",
    "\n",
    "We can achieve exactly the same thing if we subtract twice the second equation from the first: the $x$'s cancel, we get $3-2\\times (-4)$ (i.e. 11) $y$'s on the LHS, and on the RHS we get $7-2\\times 3$, i.e. 1.  \n",
    "\n",
    "Hence, we have $11y=1$ and so $y=1/11$.\n",
    "\n",
    "We effectively performed what are called row operations on the matrix and the RHS vector. Recalling that each row of the matrix encodes an algebraic equation, we can multiply each row by a non-zero scalar, add multiples of one row to another, and swap rows, without changing the overall information that the rows (or equations) are telling us (as long as we remember to apply the same operation to the RHS value!).\n",
    "\n",
    "We can perform these operations in a way that is easy to keep track of by forming an augmented matrix (we add the RHS vector as an additional column). \n",
    "\n",
    "In this demonstration where we also want to form the inverse matrix let's additionally add columns corresponding to the inverse matrix. \n",
    "\n",
    "The notation above the arrows should hopefully be clear, it's encoding the operations we are performing on the rows, with '(1)' and '(2)' identifying the first and second row, respectively. '$(1)\\leftarrow (1)-2(2)$' means replace the first row with the first row minus twice the second row - the operation we performed above.\n",
    "\n",
    "When we perform these operations on the rows of the matrix $A$, we also apply them to the additional columns in our augmented matrix:\n",
    "\n",
    "\\begin{align*}\n",
    "[A \\, | \\, \\boldsymbol{b} \\, | \\, I] = \n",
    "&\\left[\n",
    "  \\begin{array}{cc|c|cc}\n",
    "    2 & 3 & 7 & 1 & 0 \\\\\n",
    "    1 & -4 & 3 & 0 & 1  \n",
    "  \\end{array}\n",
    "\\right]\n",
    "\\xrightarrow{(1)\\leftarrow (1)-2(2)}\n",
    "\\left[\n",
    "  \\begin{array}{cc|c|cc}\n",
    "    0 & 11 & 1 & 1 & -2 \\\\\n",
    "    1 & -4 & 3 & 0 & 1  \n",
    "  \\end{array}\n",
    "\\right]\n",
    "\\xrightarrow{(1)\\leftarrow (1)/11}\n",
    "\\left[\n",
    "  \\begin{array}{cc|c|cc}\n",
    "    0 & 1 & 1/11 & 1/11 & -2/11 \\\\\n",
    "    1 & -4 & 3 & 0 & 1  \n",
    "  \\end{array}\n",
    "\\right]\\\\\n",
    "&\\xrightarrow{(2)\\leftarrow (2)+4(1)}\n",
    "\\left[\n",
    "  \\begin{array}{cc|c|cc}\n",
    "    0 & 1 & 1/11 & 1/11 & -2/11 \\\\\n",
    "    1 & 0 & 3+4/11 & 4/11 & 1-8/11  \n",
    "  \\end{array}\n",
    "\\right]\n",
    "\\xrightarrow{(1)\\leftrightarrow (2)}\n",
    "\\left[\n",
    "  \\begin{array}{cc|c|cc}\n",
    "    1 & 0 & 3+4/11 & 4/11 & 1-8/11  \\\\\n",
    "    0 & 1 & 1/11 & 1/11 & -2/11 \n",
    "  \\end{array}\n",
    "\\right]\n",
    "\\end{align*}\n",
    "\n",
    "Now the fact that we have transformed $A$ into $I$ via these so-called *row operations* means that what was originally in the $\\boldsymbol{b}$ position is now the solution $\\boldsymbol{x}$, and what was originally $I$ is now $A^{-1}$:\n",
    "\n",
    "$$\\boldsymbol{x} =\n",
    "\\begin{pmatrix}\n",
    "3+4/11\\\\\n",
    "1/11\n",
    "\\end{pmatrix}=\n",
    "\\begin{pmatrix}\n",
    "37/11\\\\\n",
    "1/11\n",
    "\\end{pmatrix},\\qquad\n",
    "A^{-1} = \n",
    "\\begin{pmatrix}\n",
    "    4/11 & 1-8/11  \\\\\n",
    "    1/11 & -2/11 \n",
    "\\end{pmatrix}= \n",
    "\\begin{pmatrix}\n",
    "    4/11 & 3/11  \\\\\n",
    "    1/11 & -2/11 \n",
    "\\end{pmatrix}= \\frac{-1}{11}\n",
    "\\begin{pmatrix}\n",
    "    -4 & -3  \\\\\n",
    "    -1 & 2 \n",
    "\\end{pmatrix}\n",
    "$$\n",
    "\n",
    "A homework exercise asks you to repeat these steps to derive the inverse of the completely general $2\\times 2$ matrix\n",
    "\n",
    "$$A = \\begin{pmatrix}\n",
    "a & b\\\\\n",
    "c & d\n",
    "\\end{pmatrix}$$"
   ]
  },
  {
   "cell_type": "markdown",
   "metadata": {},
   "source": [
    "### Solving our simple example using the inverse matrix\n",
    "\n",
    "So we have enough information now to solve our problem\n",
    "\n",
    "$$\n",
    "\\begin{align*}\n",
    "  2x + 3y &= 7 \\\\[5pt]\n",
    "   x - 4y &= 3 \n",
    "\\end{align*}\n",
    "   \\quad \\iff \\quad\n",
    "  \\begin{pmatrix}\n",
    "    2 & 3 \\\\\n",
    "    1 & -4  \n",
    "  \\end{pmatrix}\n",
    "  \\begin{pmatrix}\n",
    "    x \\\\\n",
    "    y \n",
    "  \\end{pmatrix}=\n",
    "  \\begin{pmatrix}\n",
    "    7 \\\\\n",
    "    3 \n",
    "  \\end{pmatrix}   \n",
    "$$\n",
    "\n",
    "\n",
    "Recalling the solution we calculated through substitution: $x=37/11$ and $y=1/11$, we can use to check our numerical solution.\n",
    "\n",
    "Let's calculate \n",
    "\n",
    "$$\\boldsymbol{x} = A^{-1}\\boldsymbol{b}$$"
   ]
  },
  {
   "cell_type": "code",
   "execution_count": 32,
   "metadata": {},
   "outputs": [
    {
     "name": "stdout",
     "output_type": "stream",
     "text": [
      "x =  [3.363636 0.090909]\n",
      "\n",
      "Our computed solution solves the linear system (Ax == b):  True\n",
      "\n",
      "and agrees with the exact solution we computed by hand:  True\n"
     ]
    }
   ],
   "source": [
    "# form the LHS matrix\n",
    "A = np.array([[2., 3.], [1., -4.]])\n",
    "\n",
    "# form the RHS vector\n",
    "b = np.array([7., 3.])\n",
    "\n",
    "# the inverse matrix from above:\n",
    "invA = (-1./11)*np.array([[-4, -3], [-1, 2]])\n",
    "\n",
    "# compute and print our solution\n",
    "x = invA@b\n",
    "print('x = ',x)\n",
    "\n",
    "# Check our two numerical solutions using the numpy allclose function\n",
    "print('\\nOur computed solution solves the linear system (Ax == b): ', np.allclose(A@x, b))\n",
    "\n",
    "# and check further that this agrees with the solution we computed by hand\n",
    "print('\\nand agrees with the exact solution we computed by hand: ', np.allclose(x, [37./11., 1./11.]))"
   ]
  },
  {
   "cell_type": "markdown",
   "metadata": {},
   "source": [
    "## Aside: constructing some useful simple matrices in NumPy [*]\n",
    "\n",
    "Now is perhaps a good opportunity to review some more useful NumPy commands to construct certain common matrices.\n",
    "\n",
    "[NB. Everything below can be extended to higher rank tensors]"
   ]
  },
  {
   "cell_type": "markdown",
   "metadata": {},
   "source": [
    "### The identity matrix\n",
    "\n",
    "The identity matrix $I$ (sometimes to indicate dimension we would write $I_n$ or even $I(n)$) is of size $n\\times n$ and is zero everywhere except for the main diagonal where all entries are 1 (sometimes you will see people use the word unity)."
   ]
  },
  {
   "cell_type": "code",
   "execution_count": 47,
   "metadata": {
    "scrolled": true
   },
   "outputs": [
    {
     "name": "stdout",
     "output_type": "stream",
     "text": [
      "[[1. 0. 0.]\n",
      " [0. 1. 0.]\n",
      " [0. 0. 1.]]\n"
     ]
    }
   ],
   "source": [
    "# how to initialise the identity matrix, I or Id\n",
    "print(np.eye(3))"
   ]
  },
  {
   "cell_type": "markdown",
   "metadata": {},
   "source": [
    "### Diagonal matrices\n",
    "\n",
    "Diagonal matrices are very useful and occur a lot.\n",
    "\n",
    "The command `numpy.diag` can be used to both extract diagonals from matrices, and to place vectors in place on the diagonals of matrices.\n",
    "\n",
    "For example"
   ]
  },
  {
   "cell_type": "code",
   "execution_count": 48,
   "metadata": {},
   "outputs": [
    {
     "name": "stdout",
     "output_type": "stream",
     "text": [
      "[1. 1. 1.]\n",
      "\n",
      " [1. 1. 1.]\n",
      "\n",
      " [0. 0.]\n"
     ]
    }
   ],
   "source": [
    "# extract a diagonal of given a matrix (2D array)\n",
    "print(np.diag(np.eye(3)))\n",
    "# the default is to extract the leading diagonal (k=0)\n",
    "print('\\n',np.diag(np.eye(3),k=0))\n",
    "# can also extract off diagonals with positive/negative integer k's:\n",
    "print('\\n',np.diag(np.eye(3),k=1))"
   ]
  },
  {
   "cell_type": "code",
   "execution_count": 49,
   "metadata": {},
   "outputs": [
    {
     "name": "stdout",
     "output_type": "stream",
     "text": [
      "[[1 0 0]\n",
      " [0 2 0]\n",
      " [0 0 3]]\n",
      "\n",
      " [[0 0 0 0]\n",
      " [1 0 0 0]\n",
      " [0 2 0 0]\n",
      " [0 0 3 0]]\n"
     ]
    }
   ],
   "source": [
    "# given a 1D array diag constructs a 2D array:\n",
    "print(np.diag(np.array([1,2,3])))\n",
    "# again default is to place on the leading diagonal, but we can specify other diagonals:\n",
    "print('\\n',np.diag(np.array([1,2,3]), k=-1))"
   ]
  },
  {
   "cell_type": "markdown",
   "metadata": {},
   "source": [
    "### Matrices of zeros or ones, empty matrices\n",
    "\n",
    "The matrix $\\boldsymbol{0}$ made up of zero entries is termed the zero matrix or the null matrix.\n",
    "\n",
    "Mathematically, we will see it's use when we talk about eigenvalues next lecture, as well as null spaces.\n",
    "\n",
    "Computationally, we will often initialise an array or matrix to zero if we subsequently perform operations which add entries to it."
   ]
  },
  {
   "cell_type": "code",
   "execution_count": 50,
   "metadata": {},
   "outputs": [
    {
     "name": "stdout",
     "output_type": "stream",
     "text": [
      "[0. 0. 0.]\n",
      "\n",
      " [0. 0.]\n",
      "\n",
      " [[0 0]\n",
      " [0 0]]\n"
     ]
    }
   ],
   "source": [
    "# how to initialise a vector of zeros \n",
    "print(np.zeros(3))\n",
    "# vector of zeros of length the same as number of rows in A\n",
    "A = np.array([[2, 3], [1, -4]])\n",
    "print('\\n', np.zeros(np.shape(A)[0]))\n",
    "# matrix of zeros of length the same shape as A\n",
    "print('\\n', np.zeros_like(A))"
   ]
  },
  {
   "cell_type": "code",
   "execution_count": 51,
   "metadata": {},
   "outputs": [
    {
     "name": "stdout",
     "output_type": "stream",
     "text": [
      "[[0. 0. 0.]\n",
      " [0. 0. 0.]\n",
      " [0. 0. 0.]]\n"
     ]
    }
   ],
   "source": [
    "# how to initialise a matrix of zeros\n",
    "print(np.zeros((3,3)))\n",
    "\n",
    "# also\n",
    "\n",
    "#print('\\n', np.zeros(np.shape(A)))\n",
    "#print('\\n', np.zeros_like(A))"
   ]
  },
  {
   "cell_type": "code",
   "execution_count": 52,
   "metadata": {},
   "outputs": [
    {
     "name": "stdout",
     "output_type": "stream",
     "text": [
      "[[[0. 0. 0.]\n",
      "  [0. 0. 0.]\n",
      "  [0. 0. 0.]]\n",
      "\n",
      " [[0. 0. 0.]\n",
      "  [0. 0. 0.]\n",
      "  [0. 0. 0.]]\n",
      "\n",
      " [[0. 0. 0.]\n",
      "  [0. 0. 0.]\n",
      "  [0. 0. 0.]]]\n",
      "27\n",
      "(3, 3, 3)\n"
     ]
    }
   ],
   "source": [
    "# how to initialise a 3rd-order tensor of zeros\n",
    "print(np.zeros((3,3,3)))\n",
    "\n",
    "print(np.size(np.zeros((3,3,3))))\n",
    "\n",
    "print(np.shape(np.zeros((3,3,3))))"
   ]
  },
  {
   "cell_type": "markdown",
   "metadata": {},
   "source": [
    "Initialising an array or matrix to have all entries one (unity) is useful if we subsequently apply multiplicative operations on its entries."
   ]
  },
  {
   "cell_type": "code",
   "execution_count": 53,
   "metadata": {},
   "outputs": [
    {
     "name": "stdout",
     "output_type": "stream",
     "text": [
      "[1. 1. 1.]\n",
      "\n",
      " [[1. 1. 1.]\n",
      " [1. 1. 1.]\n",
      " [1. 1. 1.]]\n",
      "\n",
      " [[1 1]\n",
      " [1 1]]\n"
     ]
    }
   ],
   "source": [
    "# how to initialise a vector of ones \n",
    "print(np.ones(3))\n",
    "print('\\n',np.ones((3,3)))\n",
    "# A matrix of ones, the same size as A\n",
    "A = np.array([[2, 3], [1, -4]])\n",
    "print('\\n', np.ones_like(A))"
   ]
  },
  {
   "cell_type": "code",
   "execution_count": 54,
   "metadata": {},
   "outputs": [
    {
     "name": "stdout",
     "output_type": "stream",
     "text": [
      "\n",
      " [1. 1. 1.]\n"
     ]
    }
   ],
   "source": [
    "# if you don't care about initialise to zero you can use\n",
    "print('\\n', np.empty(3))\n",
    "# but the entries will be random\n",
    "\n",
    "# (they might appear as zeros but you can't guarantee this)\n",
    "# as you're not setting values on initialisation this will be\n",
    "# slightly faster - but not enough to really warrant use in this course."
   ]
  },
  {
   "cell_type": "markdown",
   "metadata": {},
   "source": [
    "# The determinant \n",
    "\n",
    "So for linear systems (and next lecture we will see also for eigenvalues), we need a method to determine whether a given matrix is invertible or not - the determinant of the matrix tells us this.\n",
    "\n",
    "The [*determinant*](https://en.wikipedia.org/wiki/Determinant) is a quantity of a square matrix which can be computed directly from its entries.\n",
    "\n",
    "It can be written as either $\\det(A)$ or $|A|$.\n",
    "\n",
    "Geometrically it gives the scaling of the volume (area in 2D) of a shape under the linear transformation represented by the matrix - proved at the end.\n",
    "\n",
    "Consider the matrix\n",
    "\n",
    "$$\n",
    "\\left(\n",
    "  \\begin{array}{rr}\n",
    "    2 & 3 \\\\\n",
    "    4 & 6  \\\\\n",
    "  \\end{array}\n",
    "\\right),\n",
    "$$\n",
    "\n",
    "for a $2 \\times 2$ matrix we can compute the determinant in our heads (or with a calculator!) - we multiply the two main diagonal entries and subtract the multiple of the off-diagonal entries:\n",
    "\n",
    "$$\\det(A) = (2\\times 6) - (3\\times 4) = 0$$\n",
    "\n",
    "Let's check this using a SciPy function for computing determinants:"
   ]
  },
  {
   "cell_type": "code",
   "execution_count": 55,
   "metadata": {},
   "outputs": [
    {
     "name": "stdout",
     "output_type": "stream",
     "text": [
      "-6.661338147750939e-16\n",
      "True\n"
     ]
    }
   ],
   "source": [
    "A = np.array( [[2, 3], [4, 6] ] )\n",
    "print(sl.det(A))\n",
    "print(np.allclose(0,sl.det(A)))"
   ]
  },
  {
   "cell_type": "code",
   "execution_count": 56,
   "metadata": {},
   "outputs": [
    {
     "name": "stdout",
     "output_type": "stream",
     "text": [
      "-11.0\n"
     ]
    }
   ],
   "source": [
    "# and for our linear system example above:\n",
    "A = np.array([[2, 3], [1, -4]])\n",
    "print(sl.det(A))"
   ]
  },
  {
   "cell_type": "markdown",
   "metadata": {},
   "source": [
    "The former determinant is zero (to round off) and this means that the corresponding matrix does not have an inverse, \n",
    "\n",
    "the latter is safely non-zero and hence is why we were able to find the inverse without problem.\n",
    "\n",
    "We'll review the general formula for the determinant later.\n",
    "\n",
    "A homework exercise includes writing our own function to compute the determinant of a general matrix."
   ]
  },
  {
   "cell_type": "markdown",
   "metadata": {},
   "source": [
    "# Matrix-vector multiplication (again) [*]\n",
    "\n",
    "Let's go back to our matrix vector multiplication code to test our calculation above, and we will also think about speed!"
   ]
  },
  {
   "cell_type": "code",
   "execution_count": 33,
   "metadata": {},
   "outputs": [],
   "source": [
    "# copied from above\n",
    "\n",
    "def mat_vec_product(A, x):\n",
    "    \"\"\" Return the matrix vector product Ax\n",
    "    \"\"\"\n",
    "    m, n = np.shape(A)\n",
    "    assert x.ndim == 1 # restrict to the case where x is 1D\n",
    "    assert n == len(x) # as 1D we can check the length of x is consistent with A\n",
    "    b = np.zeros(m) # and then initialise the appropriate length array for b\n",
    "    for i in range(m):\n",
    "        for j in range(n):\n",
    "            b[i] += A[i, j] * x[j]\n",
    "    return b"
   ]
  },
  {
   "cell_type": "markdown",
   "metadata": {},
   "source": [
    "## Testing our code \n",
    "\n",
    "Let's test our code by comparing it against our case from above."
   ]
  },
  {
   "cell_type": "code",
   "execution_count": 34,
   "metadata": {},
   "outputs": [
    {
     "name": "stdout",
     "output_type": "stream",
     "text": [
      "Ax=b (NumPy):  True\n",
      "Ax=b (mat_vec_product):  True\n"
     ]
    }
   ],
   "source": [
    "# our LHS matrix\n",
    "A = np.array([[2., 3.], [1., -4.]])\n",
    "# our RHS vector\n",
    "b = np.array([7., 3.])\n",
    "# the solution we calculated\n",
    "x = np.array([37./11., 1./11.])\n",
    "\n",
    "# first let's check that Ax = b using NumPy's matrix-vector multiplication\n",
    "print('Ax=b (NumPy): ',np.allclose(A@x, b))\n",
    "\n",
    "# and with our function\n",
    "print('Ax=b (mat_vec_product): ',np.allclose(mat_vec_product(A,x), b))\n"
   ]
  },
  {
   "cell_type": "markdown",
   "metadata": {},
   "source": [
    "## Checking the speed of our code!"
   ]
  },
  {
   "cell_type": "markdown",
   "metadata": {},
   "source": [
    "Let's check how efficient out code is compared to NumPy - as mentioned above `@` and `np.dot` are two in-built methods to perform matrix multiplication, let's consider both to see if there's any difference between them."
   ]
  },
  {
   "cell_type": "code",
   "execution_count": 35,
   "metadata": {},
   "outputs": [
    {
     "name": "stdout",
     "output_type": "stream",
     "text": [
      "1.14 µs ± 115 ns per loop (mean ± std. dev. of 7 runs, 1000000 loops each)\n",
      "783 ns ± 107 ns per loop (mean ± std. dev. of 7 runs, 1000000 loops each)\n",
      "5.01 µs ± 876 ns per loop (mean ± std. dev. of 7 runs, 100000 loops each)\n",
      "1.0467670000216457e-06 6.559317999926862e-07 4.405636000155937e-06\n"
     ]
    }
   ],
   "source": [
    "A = np.array([[2., 3.], [1., -4.]])\n",
    "x = np.array([37./11., 1./11.])\n",
    "\n",
    "time_at = %timeit -o b=A@x  \n",
    "time_dot = %timeit -o b=A.dot(x)\n",
    "time_ours = %timeit -o b=mat_vec_product(A, x)\n",
    "\n",
    "# if you wanted to control number of calls to reduce time use something like: %timeit -n 10 -r 3 -o b=A@x\n",
    "\n",
    "print(time_at.best, time_dot.best, time_ours.best)"
   ]
  },
  {
   "cell_type": "markdown",
   "metadata": {},
   "source": [
    "So for our $2\\times 2$ example we're slower, but not disastrously.\n",
    "\n",
    "Let's try a larger example using some matrices made up of random entries."
   ]
  },
  {
   "cell_type": "code",
   "execution_count": 36,
   "metadata": {},
   "outputs": [
    {
     "name": "stdout",
     "output_type": "stream",
     "text": [
      "A @ x = mat_vec_product(A, x):   True\n",
      "771 µs ± 159 µs per loop (mean ± std. dev. of 3 runs, 10 loops each)\n",
      "697 µs ± 29.9 µs per loop (mean ± std. dev. of 3 runs, 10 loops each)\n",
      "1.25 s ± 24.1 ms per loop (mean ± std. dev. of 3 runs, 10 loops each)\n",
      "0.0006574900005944073 0.0006639500003075227 1.2205419400008395\n"
     ]
    }
   ],
   "source": [
    "m = 1234\n",
    "n = 1498\n",
    "A = np.random.random((m,n))\n",
    "x = np.random.random((n))\n",
    "\n",
    "print('A @ x = mat_vec_product(A, x):  ', np.allclose(A@x , mat_vec_product(A, x)))\n",
    "\n",
    "time_at = %timeit -n 10 -r 3 -o b=A@x\n",
    "time_dot = %timeit -n 10 -r 3 -o b=A.dot(x)\n",
    "time_ours = %timeit -n 10 -r 3 -o b=mat_vec_product(A, x)\n",
    "\n",
    "print(time_at.best, time_dot.best, time_ours.best)"
   ]
  },
  {
   "cell_type": "markdown",
   "metadata": {},
   "source": [
    "Oh dear!\n",
    "\n",
    "More on this in the exercises."
   ]
  },
  {
   "cell_type": "markdown",
   "metadata": {},
   "source": [
    "# Matrix-matrix product [*]\n",
    "\n",
    "To test whether or not we have a matrix that is an inverse we need to know how to perform matrix-matrix multiplication in order to check, and to make use of the inverse to solve the corresponding linear system.\n",
    "\n",
    "This is just a straightforward extension of matrix-vector multiplication applied to each column of the right-hand matrix."
   ]
  },
  {
   "cell_type": "markdown",
   "metadata": {},
   "source": [
    "The matrix-matrix product \n",
    "\n",
    "$$C=AB$$\n",
    "\n",
    "is defined by \n",
    "\n",
    "$$c_{ij} = \\sum_{k=1}^n a_{ik} b_{kj}$$\n",
    "\n",
    "If you're familiar with [Einstein summation convention](https://en.wikipedia.org/wiki/Einstein_notation) we can also write\n",
    "\n",
    "$$c_{ij} = a_{ik} b_{kj}$$\n",
    "\n",
    "we have contracted over the inner-most index - this is why the convention to say \"m by n\" makes sense."
   ]
  },
  {
   "cell_type": "markdown",
   "metadata": {},
   "source": [
    "## Conformable dimensions\n",
    "\n",
    "Note that matrix multiplication needs to be conducted between matrices which are [*conformable*](https://en.wikipedia.org/wiki/Conformable_matrix) for multiplication.\n",
    "\n",
    "For matrix-vector multiplication this meant we needed the same number of columns in the matrix as entires in the vector, and the result was a new vector with the same number of rows as the matrix, we could write this as:\n",
    "\n",
    "$$ (m \\times n) \\times (n \\times 1) = (m \\times 1) $$\n",
    "\n",
    "For the general matrix-matrix case this requirement can be illustrated as\n",
    "\n",
    "$$ (m \\times n) \\times (n \\times p) = (m \\times p) $$\n",
    "\n",
    "and so in the mathematics above, $1\\leq i \\leq m$ and $1\\leq j \\leq p$, while $1\\leq k \\leq n$."
   ]
  },
  {
   "cell_type": "markdown",
   "metadata": {},
   "source": [
    "## Properties\n",
    "\n",
    "Matrix-matrix multiplication satisfies the properties:\n",
    "\n",
    "\n",
    "1. $A(B + C) = AB + AC$ - this is termed the *distributive* property - matrix multiplication is distributive\n",
    "\n",
    "\n",
    "2. $AB \\neq BA$, in general - matrix multiplication is not commutative\n",
    "\n",
    "\n",
    "3. $A(BC) = (AB)C$,  assuming consistent matrix dimensions - matrix multiplication is associative\n",
    "\n",
    "\n",
    "4. $A (cB) = c AB$,  for scalars $\\alpha$ - you can pull scalar factors out"
   ]
  },
  {
   "cell_type": "markdown",
   "metadata": {},
   "source": [
    "## Code [*]\n",
    "\n",
    "We can code this up quite easily."
   ]
  },
  {
   "cell_type": "code",
   "execution_count": 37,
   "metadata": {},
   "outputs": [],
   "source": [
    "def mat_mat_product(A, B):\n",
    "    \"\"\" Return the matrix matrix product AB\n",
    "    \"\"\"\n",
    "    m, n1 = np.shape(A)\n",
    "    n2, p = np.shape(B)\n",
    "    assert n1==n2 \n",
    "    C = np.zeros((m, p))\n",
    "    for i in range(m):\n",
    "        for j in range(p):\n",
    "            for k in range(n1):\n",
    "                C[i, j] += A[i, k] * B[k, j]\n",
    "    return C"
   ]
  },
  {
   "cell_type": "markdown",
   "metadata": {},
   "source": [
    "### Testing our code"
   ]
  },
  {
   "cell_type": "code",
   "execution_count": 40,
   "metadata": {},
   "outputs": [
    {
     "name": "stdout",
     "output_type": "stream",
     "text": [
      "our code agree with @: True\n",
      "A(B+C)==AB+AC:  True\n",
      "A(alpha B)==alpha AB:  True\n",
      "AB==BA:  False\n"
     ]
    }
   ],
   "source": [
    "# define some random matrices\n",
    "m = 10\n",
    "n = 10\n",
    "p = 10\n",
    "A = np.random.random((m, n))\n",
    "B = np.random.random((n, p))\n",
    "C = np.random.random((n, p))\n",
    "alpha = np.random.random((1,))\n",
    "print('our code agree with @:', np.allclose(mat_mat_product(A, B), A@B))\n",
    "print('A(B+C)==AB+AC: ',np.allclose(mat_mat_product(A, (B + C)), mat_mat_product(A, B) + mat_mat_product(A, C)))\n",
    "print('A(alpha B)==alpha AB: ', np.allclose(mat_mat_product(A, alpha * B), alpha*mat_mat_product(A, B)))\n",
    "print('AB==BA: ',np.allclose(mat_mat_product(A, B), mat_mat_product(B, A)))"
   ]
  },
  {
   "cell_type": "code",
   "execution_count": 41,
   "metadata": {},
   "outputs": [
    {
     "name": "stdout",
     "output_type": "stream",
     "text": [
      "our code agree with @: True\n",
      "A(B+C)==AB+AC:  True\n",
      "A(alpha B)==alpha AB:  True\n"
     ]
    },
    {
     "ename": "AssertionError",
     "evalue": "",
     "output_type": "error",
     "traceback": [
      "\u001b[1;31m---------------------------------------------------------------------------\u001b[0m",
      "\u001b[1;31mAssertionError\u001b[0m                            Traceback (most recent call last)",
      "\u001b[1;32m<ipython-input-41-76ca1b02a288>\u001b[0m in \u001b[0;36m<module>\u001b[1;34m\u001b[0m\n\u001b[0;32m     10\u001b[0m \u001b[0mprint\u001b[0m\u001b[1;33m(\u001b[0m\u001b[1;34m'A(B+C)==AB+AC: '\u001b[0m\u001b[1;33m,\u001b[0m\u001b[0mnp\u001b[0m\u001b[1;33m.\u001b[0m\u001b[0mallclose\u001b[0m\u001b[1;33m(\u001b[0m\u001b[0mmat_mat_product\u001b[0m\u001b[1;33m(\u001b[0m\u001b[0mA\u001b[0m\u001b[1;33m,\u001b[0m \u001b[1;33m(\u001b[0m\u001b[0mB\u001b[0m \u001b[1;33m+\u001b[0m \u001b[0mC\u001b[0m\u001b[1;33m)\u001b[0m\u001b[1;33m)\u001b[0m\u001b[1;33m,\u001b[0m \u001b[0mmat_mat_product\u001b[0m\u001b[1;33m(\u001b[0m\u001b[0mA\u001b[0m\u001b[1;33m,\u001b[0m \u001b[0mB\u001b[0m\u001b[1;33m)\u001b[0m \u001b[1;33m+\u001b[0m \u001b[0mmat_mat_product\u001b[0m\u001b[1;33m(\u001b[0m\u001b[0mA\u001b[0m\u001b[1;33m,\u001b[0m \u001b[0mC\u001b[0m\u001b[1;33m)\u001b[0m\u001b[1;33m)\u001b[0m\u001b[1;33m)\u001b[0m\u001b[1;33m\u001b[0m\u001b[1;33m\u001b[0m\u001b[0m\n\u001b[0;32m     11\u001b[0m \u001b[0mprint\u001b[0m\u001b[1;33m(\u001b[0m\u001b[1;34m'A(alpha B)==alpha AB: '\u001b[0m\u001b[1;33m,\u001b[0m \u001b[0mnp\u001b[0m\u001b[1;33m.\u001b[0m\u001b[0mallclose\u001b[0m\u001b[1;33m(\u001b[0m\u001b[0mmat_mat_product\u001b[0m\u001b[1;33m(\u001b[0m\u001b[0mA\u001b[0m\u001b[1;33m,\u001b[0m \u001b[0malpha\u001b[0m \u001b[1;33m*\u001b[0m \u001b[0mB\u001b[0m\u001b[1;33m)\u001b[0m\u001b[1;33m,\u001b[0m \u001b[0malpha\u001b[0m\u001b[1;33m*\u001b[0m\u001b[0mmat_mat_product\u001b[0m\u001b[1;33m(\u001b[0m\u001b[0mA\u001b[0m\u001b[1;33m,\u001b[0m \u001b[0mB\u001b[0m\u001b[1;33m)\u001b[0m\u001b[1;33m)\u001b[0m\u001b[1;33m)\u001b[0m\u001b[1;33m\u001b[0m\u001b[1;33m\u001b[0m\u001b[0m\n\u001b[1;32m---> 12\u001b[1;33m \u001b[0mprint\u001b[0m\u001b[1;33m(\u001b[0m\u001b[1;34m'AB==BA: '\u001b[0m\u001b[1;33m,\u001b[0m\u001b[0mnp\u001b[0m\u001b[1;33m.\u001b[0m\u001b[0mallclose\u001b[0m\u001b[1;33m(\u001b[0m\u001b[0mmat_mat_product\u001b[0m\u001b[1;33m(\u001b[0m\u001b[0mA\u001b[0m\u001b[1;33m,\u001b[0m \u001b[0mB\u001b[0m\u001b[1;33m)\u001b[0m\u001b[1;33m,\u001b[0m \u001b[0mmat_mat_product\u001b[0m\u001b[1;33m(\u001b[0m\u001b[0mB\u001b[0m\u001b[1;33m,\u001b[0m \u001b[0mA\u001b[0m\u001b[1;33m)\u001b[0m\u001b[1;33m)\u001b[0m\u001b[1;33m)\u001b[0m\u001b[1;33m\u001b[0m\u001b[1;33m\u001b[0m\u001b[0m\n\u001b[0m",
      "\u001b[1;32m<ipython-input-37-c15015a18a14>\u001b[0m in \u001b[0;36mmat_mat_product\u001b[1;34m(A, B)\u001b[0m\n\u001b[0;32m      4\u001b[0m     \u001b[0mm\u001b[0m\u001b[1;33m,\u001b[0m \u001b[0mn1\u001b[0m \u001b[1;33m=\u001b[0m \u001b[0mnp\u001b[0m\u001b[1;33m.\u001b[0m\u001b[0mshape\u001b[0m\u001b[1;33m(\u001b[0m\u001b[0mA\u001b[0m\u001b[1;33m)\u001b[0m\u001b[1;33m\u001b[0m\u001b[1;33m\u001b[0m\u001b[0m\n\u001b[0;32m      5\u001b[0m     \u001b[0mn2\u001b[0m\u001b[1;33m,\u001b[0m \u001b[0mp\u001b[0m \u001b[1;33m=\u001b[0m \u001b[0mnp\u001b[0m\u001b[1;33m.\u001b[0m\u001b[0mshape\u001b[0m\u001b[1;33m(\u001b[0m\u001b[0mB\u001b[0m\u001b[1;33m)\u001b[0m\u001b[1;33m\u001b[0m\u001b[1;33m\u001b[0m\u001b[0m\n\u001b[1;32m----> 6\u001b[1;33m     \u001b[1;32massert\u001b[0m \u001b[0mn1\u001b[0m\u001b[1;33m==\u001b[0m\u001b[0mn2\u001b[0m\u001b[1;33m\u001b[0m\u001b[1;33m\u001b[0m\u001b[0m\n\u001b[0m\u001b[0;32m      7\u001b[0m     \u001b[0mC\u001b[0m \u001b[1;33m=\u001b[0m \u001b[0mnp\u001b[0m\u001b[1;33m.\u001b[0m\u001b[0mzeros\u001b[0m\u001b[1;33m(\u001b[0m\u001b[1;33m(\u001b[0m\u001b[0mm\u001b[0m\u001b[1;33m,\u001b[0m \u001b[0mp\u001b[0m\u001b[1;33m)\u001b[0m\u001b[1;33m)\u001b[0m\u001b[1;33m\u001b[0m\u001b[1;33m\u001b[0m\u001b[0m\n\u001b[0;32m      8\u001b[0m     \u001b[1;32mfor\u001b[0m \u001b[0mi\u001b[0m \u001b[1;32min\u001b[0m \u001b[0mrange\u001b[0m\u001b[1;33m(\u001b[0m\u001b[0mm\u001b[0m\u001b[1;33m)\u001b[0m\u001b[1;33m:\u001b[0m\u001b[1;33m\u001b[0m\u001b[1;33m\u001b[0m\u001b[0m\n",
      "\u001b[1;31mAssertionError\u001b[0m: "
     ]
    }
   ],
   "source": [
    "# define some random matrices\n",
    "m = 10\n",
    "n = 9\n",
    "p = 8\n",
    "A = np.random.random((m, n))\n",
    "B = np.random.random((n, p))\n",
    "C = np.random.random((n, p))\n",
    "alpha = np.random.random((1,))\n",
    "print('our code agree with @:', np.allclose(mat_mat_product(A, B), A@B))\n",
    "print('A(B+C)==AB+AC: ',np.allclose(mat_mat_product(A, (B + C)), mat_mat_product(A, B) + mat_mat_product(A, C)))\n",
    "print('A(alpha B)==alpha AB: ', np.allclose(mat_mat_product(A, alpha * B), alpha*mat_mat_product(A, B)))\n",
    "print('AB==BA: ',np.allclose(mat_mat_product(A, B), mat_mat_product(B, A)))"
   ]
  },
  {
   "cell_type": "markdown",
   "metadata": {},
   "source": [
    "Of course $AB=BA$ certainly can't be true if $A$ and $B$ are not square matrices!\n",
    "\n",
    "When they are square only certain matrices have this property. Those that do are said to [commute](https://en.wikipedia.org/wiki/Commuting_matrices)."
   ]
  },
  {
   "cell_type": "code",
   "execution_count": 42,
   "metadata": {},
   "outputs": [
    {
     "name": "stdout",
     "output_type": "stream",
     "text": [
      "[[1. 0.]\n",
      " [0. 1.]]\n",
      "[[1. 0.]\n",
      " [0. 1.]]\n"
     ]
    }
   ],
   "source": [
    "# For our linear system case from above, actually in solving the system we basically did enough work\n",
    "# to figure out what the inverse matrix is:\n",
    "A = np.array([[2, 3], [1, -4]])\n",
    "B = (-1./11)*np.array([[-4, -3], [-1, 2]])\n",
    "print(mat_mat_product(A,B))\n",
    "print(mat_mat_product(B,A))"
   ]
  },
  {
   "cell_type": "code",
   "execution_count": 46,
   "metadata": {},
   "outputs": [
    {
     "name": "stdout",
     "output_type": "stream",
     "text": [
      "[[0.570917 0.868034 1.274406]\n",
      " [0.687834 0.796131 1.350336]\n",
      " [0.625459 1.112073 1.593892]]\n",
      "[[0.56504  1.005146 1.102777]\n",
      " [0.927211 1.256963 1.357827]\n",
      " [0.683908 1.002759 1.138936]]\n",
      "A@B==B@A : False\n"
     ]
    }
   ],
   "source": [
    "# define some random matrices\n",
    "n = 3\n",
    "A = np.random.random((n, n))\n",
    "B = np.random.random((n, n))\n",
    "print(A@B)\n",
    "print(B@A)\n",
    "print(\"A@B==B@A :\",np.allclose(A@B,B@A))"
   ]
  },
  {
   "cell_type": "markdown",
   "metadata": {},
   "source": [
    "# Some linear algebra theory"
   ]
  },
  {
   "cell_type": "markdown",
   "metadata": {},
   "source": [
    "## The determinant (again)\n",
    "\n",
    "Let's return to the [*determinant*](https://en.wikipedia.org/wiki/Determinant). \n",
    "\n",
    "As said earlier geometrically it gives the scaling of the volume of a shape under the linear transformation represented by the matrix,\n",
    "\n",
    "and it tells us whether or not an inverse matrix exits."
   ]
  },
  {
   "cell_type": "markdown",
   "metadata": {},
   "source": [
    "### Properties\n",
    "\n",
    "1. For square, equal size matrices $|AB| = |A|\\,|B|$\n",
    "\n",
    "\n",
    "2. $|A^T| = |A|$\n",
    "\n",
    "\n",
    "3. $|\\alpha A| = \\alpha^n |A|$, where $n$ is the dimension of the square matrix $A$\n",
    "\n",
    "\n",
    "4. If any row (or column) is made up of zero entries only, then the determinant of that matrix is zero\n",
    "\n",
    "\n",
    "5. [NB. Eigenvalues introduced next lecture] The determinant is equal to the product of the eigenvalues of the matrix (where we need to multiply multiple times if an eigenvalue has an algebraic multiplicity greater than one) - so a determinant of zero is equivalent to having at least one zero eigenvalue!\n",
    "\n",
    "\n",
    "6. For an upper or lower triangular matrix, the determinant is equal to the product of the main diagonal entries (as the eigenvalues in this case are the diagonal entries!)\n",
    "\n",
    "\n",
    "Exercise: you can check that all of these seem to be true through examples."
   ]
  },
  {
   "cell_type": "markdown",
   "metadata": {},
   "source": [
    "### Full definition\n",
    "\n",
    "The general formula for computing the determinant of a square matrix is:\n",
    "\n",
    "\n",
    "1. For a $1 \\times 1$ matrix $A = a_{11}$ the determinant is defined simply as $|A| = a_{11}$\n",
    "\n",
    "<br>\n",
    "\n",
    "2. For a $2 \\times 2$ matrix \n",
    "\n",
    "$$A = \n",
    "\\begin{pmatrix}\n",
    "    a_{11} & a_{12}\\\\\n",
    "    a_{21} & a_{22}\n",
    "\\end{pmatrix}\n",
    "$$\n",
    "\n",
    "the determinant is defined as $|A| = a_{11}a_{22} - a_{12}a_{21}$"
   ]
  },
  {
   "cell_type": "code",
   "execution_count": 67,
   "metadata": {},
   "outputs": [
    {
     "name": "stdout",
     "output_type": "stream",
     "text": [
      "det(A) =  -6.661338147750939e-16\n",
      "\n",
      "Marix A is singular:  True\n"
     ]
    }
   ],
   "source": [
    "# Let's check our maths!\n",
    "A = np.array([[2., 3.], [4., 6.]])\n",
    "print('det(A) = ', sl.det(A))\n",
    "print('\\nMarix A is singular: ', np.isclose(sl.det(A), 0.))"
   ]
  },
  {
   "cell_type": "markdown",
   "metadata": {},
   "source": [
    "3. For a $3 \\times 3$ matrix \n",
    "\n",
    "$$A = \n",
    "\\begin{pmatrix}\n",
    "    a_{11} & a_{12} & a_{13}\\\\\n",
    "    a_{21} & a_{22} & a_{23}\\\\\n",
    "    a_{31} & a_{32} & a_{33}\\\\\n",
    "\\end{pmatrix}\n",
    "$$\n",
    "\n",
    "the determinant can be computed as\n",
    "\n",
    "\n",
    "$$ |A| = \n",
    "a_{11}\n",
    "\\begin{vmatrix}\n",
    "    a_{22} & a_{23}\\\\\n",
    "    a_{32} & a_{33}\n",
    "\\end{vmatrix}\n",
    "- a_{12}\n",
    "\\begin{vmatrix}\n",
    "    a_{21} & a_{23}\\\\\n",
    "    a_{31} & a_{33}\n",
    "\\end{vmatrix}\n",
    "+ a_{13}\n",
    "\\begin{vmatrix}\n",
    "    a_{21} & a_{22}\\\\\n",
    "    a_{31} & a_{32}\n",
    "\\end{vmatrix}\n",
    "$$\n",
    "\n",
    "In this expression, the first term includes\n",
    "$$\n",
    "\\begin{vmatrix}\n",
    "    a_{22} & a_{23}\\\\\n",
    "    a_{32} & a_{33}\n",
    "\\end{vmatrix}\n",
    "$$ \n",
    "\n",
    "which is the determinant of the $2\\times 2$ matrix you get from $A$ if you omit the row and column in which the multiplier in front of this contribution (i.e. the first entry of the first row $a_{11}$) lies. \n",
    "\n",
    "The second term has a similar $2\\times 2$ determinant that comes from omitting the row and column in which the multiplier $a_{12}$ lies.  Note that we have a minus sign in front of this term.\n",
    "\n",
    "The third term is analogous, but now with a plus sign again. \n",
    "\n",
    "This is what is called the *(cofactor) expansion of the determinant from the first row*.  We get the same answer (and hence alternative computation methods that may involve less work if there are an excess of zeros on certain rows or columns!) but expanding using any row, or indeed any column.\n",
    "\n",
    "We just need to remember that the signs (pluses or minuses) in front of every term follow a chess-board pattern:\n",
    "\n",
    "$$\n",
    "\\begin{pmatrix}\n",
    "    + & - & + & \\cdots \\\\\n",
    "    - & + & - & \\cdots \\\\\n",
    "    + & - & + & \\cdots \\\\\n",
    "    \\vdots & \\vdots & \\vdots  & \\ddots\n",
    "\\end{pmatrix}\n",
    "$$\n",
    "\n",
    "We define the appropriately signed $2\\times 2$ determinant the [*cofactor*](https://en.wikipedia.org/wiki/Minor_(linear_algebra)) of the multiplier $a_{ij}$, and denote it by $C_{ij}$, e.g.\n",
    "\n",
    "$$C_{11} = \n",
    "\\begin{vmatrix}\n",
    "    a_{22} & a_{23}\\\\\n",
    "    a_{32} & a_{33}\n",
    "\\end{vmatrix}, \n",
    "\\quad\n",
    "C_{12} = -\n",
    "\\begin{vmatrix}\n",
    "    a_{21} & a_{23}\\\\\n",
    "    a_{31} & a_{33}\n",
    "\\end{vmatrix}\n",
    "$$\n",
    "\n",
    "[If you drop the sign and just keep the determinant, the quantity is called the [*minor*](https://en.wikipedia.org/wiki/Minor_(linear_algebra)#First_minors) sometimes denoted $M_{ij}$.]\n",
    "\n",
    "\n",
    "We can thus define the determinant in terms of an [expansion of cofactors](https://en.wikipedia.org/wiki/Minor_(linear_algebra)#Cofactor_expansion_of_the_determinant):\n",
    "\n",
    "$$|A| = a_{11} C_{11} + a_{12} C_{12} + a_{13} C_{13}$$ \n",
    "\n",
    "with alternative definitions of the determinant given by \n",
    "\n",
    "$$|A| = a_{31} C_{31} + a_{32} C_{32} + a_{33} C_{33}$$ \n",
    "\n",
    "or an example of expanding over a column\n",
    "\n",
    "$$|A| = a_{12} C_{12} + a_{22} C_{22} + a_{32} C_{32}$$ \n",
    "\n",
    "etc.\n",
    "\n"
   ]
  },
  {
   "cell_type": "code",
   "execution_count": 48,
   "metadata": {},
   "outputs": [
    {
     "name": "stdout",
     "output_type": "stream",
     "text": [
      "A = \n",
      "[[0 1 0]\n",
      " [1 2 3]\n",
      " [4 5 6]]\n"
     ]
    }
   ],
   "source": [
    "# can you do this one in your head?\n",
    "A = np.array([[0, 1, 0], [1, 2, 3], [4, 5, 6]])\n",
    "print('A = ')\n",
    "print(A)"
   ]
  },
  {
   "cell_type": "code",
   "execution_count": 49,
   "metadata": {},
   "outputs": [
    {
     "name": "stdout",
     "output_type": "stream",
     "text": [
      "det(A) =  6.0\n"
     ]
    }
   ],
   "source": [
    "print('det(A) = ', sl.det(A))"
   ]
  },
  {
   "cell_type": "markdown",
   "metadata": {},
   "source": [
    "4. For an $n \\times n$ matrix \n",
    "\n",
    "**This gives us a general algorithm for computing the determinant of an arbitrary sized square matrix in terms of determinants of smaller matrices, each of which can themselves be computed in terms of determinants of even smaller matrices.** \n",
    "\n",
    "\n",
    "We can perform this expansion recursively, down to our above expression for the\n",
    "determinant of a $2\\times 2$ matrix, or indeed a $1\\times 1$ - note that the above general expression is consistent with our expression for the $2\\times 2$ case we wrote down explicitly above.\n",
    "\n",
    "\n",
    "The matrix of cofactors is the same size as $A$ and is called the *cofactor matrix*:\n",
    "\n",
    "$$C = \n",
    "\\begin{pmatrix}\n",
    "    C_{11} & C_{12} & \\cdots\\\\\n",
    "    C_{21} & C_{22} & \\cdots\\\\\n",
    "    \\vdots & \\vdots & \\ddots\\\\\n",
    "\\end{pmatrix}\n",
    "$$ \n",
    "\n",
    "and its transpose we call the adjugate or [*adjugate matrix*](https://en.wikipedia.org/wiki/Adjugate_matrix):\n",
    "\n",
    "$$\\text{adj}(A) = C^T$$\n",
    "\n",
    "\n",
    "\n",
    "A homework exercise includes writing our own function to compute the determinant of a general matrix.\n",
    "\n",
    "For the example we considered earlier:"
   ]
  },
  {
   "cell_type": "markdown",
   "metadata": {},
   "source": [
    "## The inverse matrix\n",
    "\n",
    "The existence of an inverse to a matrix is equivalent to whether or not that matrix's determinant is zero or not.\n",
    "\n",
    "If the determinant is non-zero then it does have an inverse.\n",
    "\n",
    "As a $1\\times 1$ matrix is a scalar defining its inverse is trivial."
   ]
  },
  {
   "cell_type": "markdown",
   "metadata": {},
   "source": [
    "### $2\\times 2$ case\n",
    "\n",
    "In the $2\\times 2$ case we can write down a simple formula for the inverse:\n",
    "\n",
    "For a matrix $A$ with entries\n",
    "\n",
    "$$A = \n",
    "\\begin{pmatrix}\n",
    "    a & b\\\\\n",
    "    c & d\n",
    "\\end{pmatrix}$$\n",
    "\n",
    "if $|A|\\ne 0$, i.e. $ad-bc\\ne 0$, then\n",
    "\n",
    "$$A^{-1} = \\frac{1}{|A|}\n",
    "\\begin{pmatrix}\n",
    "    d & -b\\\\\n",
    "    -c & a\n",
    "\\end{pmatrix}$$\n",
    "\n",
    "Deriving this expression is a homework exercise.\n",
    "\n",
    "Let's verify this with an example:"
   ]
  },
  {
   "cell_type": "code",
   "execution_count": 50,
   "metadata": {},
   "outputs": [
    {
     "name": "stdout",
     "output_type": "stream",
     "text": [
      "[[ 0.363636  0.272727]\n",
      " [ 0.090909 -0.181818]]\n",
      "[[1. 0.]\n",
      " [0. 1.]]\n",
      "[[1. 0.]\n",
      " [0. 1.]]\n"
     ]
    }
   ],
   "source": [
    "A = np.array([[2., 3.], [1., -4.]])\n",
    "a = A[0,0]\n",
    "b = A[0,1]\n",
    "c = A[1,0]\n",
    "d = A[1,1]\n",
    "B = (1./(a*d - b*c)) * np.array([[d, -b], [-c, a]])\n",
    "print(B)\n",
    "print(A@B)\n",
    "print(B@A)"
   ]
  },
  {
   "cell_type": "markdown",
   "metadata": {},
   "source": [
    "### $n\\times n$ case\n",
    "\n",
    "A general formula for the inverse of a square, invertible matrix is (<https://en.wikipedia.org/wiki/Invertible_matrix#Analytic_solution>):\n",
    "\n",
    "$$A^{-1} = \\frac{1}{|A|}\\text{adj}(A)$$\n",
    "\n",
    "\n",
    "Note that this is consistent with the $2 \\times 2$ case above.\n",
    "\n",
    "We will demonstrate/prove this in the section on \"Cramer's Rule\" below."
   ]
  },
  {
   "cell_type": "markdown",
   "metadata": {},
   "source": [
    "## Using SciPy to compute the inverse matrix\n",
    "\n",
    "A quick review of some useful SciPy/NumPy functions.\n",
    "\n",
    "Let's try a $3\\times 3$ example."
   ]
  },
  {
   "cell_type": "code",
   "execution_count": 51,
   "metadata": {},
   "outputs": [
    {
     "name": "stdout",
     "output_type": "stream",
     "text": [
      "[[ 0.142857 -0.075188  0.022556]\n",
      " [-0.285714  0.518797 -0.255639]\n",
      " [ 0.142857 -0.285714  0.285714]]\n",
      "\n",
      " [[ 0.142857 -0.075188  0.022556]\n",
      " [-0.285714  0.518797 -0.255639]\n",
      " [ 0.142857 -0.285714  0.285714]]\n",
      "133.00000000000003\n",
      "\n",
      " 133.0\n",
      "array([[ 1.0000e+00, -1.1102e-16,  5.5511e-17],\n",
      "       [-2.2204e-16,  1.0000e+00,  2.2204e-16],\n",
      "       [-8.3267e-17, -3.3307e-16,  1.0000e+00]])\n",
      "\n",
      "\n",
      "array([[ 1.0000e+00, -1.1102e-16,  5.5511e-17],\n",
      "       [-2.2204e-16,  1.0000e+00,  2.2204e-16],\n",
      "       [-8.3267e-17, -3.3307e-16,  1.0000e+00]])\n",
      "\n",
      " True\n",
      "array([[ 1.0000e+00, -1.1102e-16,  5.5511e-17],\n",
      "       [-2.2204e-16,  1.0000e+00,  2.2204e-16],\n",
      "       [-8.3267e-17, -3.3307e-16,  1.0000e+00]])\n",
      "\n",
      "\n",
      "array([[ 1.0000e+00, -1.1102e-16,  5.5511e-17],\n",
      "       [-2.2204e-16,  1.0000e+00,  2.2204e-16],\n",
      "       [-8.3267e-17, -3.3307e-16,  1.0000e+00]])\n",
      "\n",
      "\n",
      "array([[ 1.0000e+00, -1.1102e-16,  5.5511e-17],\n",
      "       [-2.2204e-16,  1.0000e+00,  2.2204e-16],\n",
      "       [-8.3267e-17, -3.3307e-16,  1.0000e+00]])\n",
      "\n",
      "\n",
      "[[ 1.4286 -0.1504  0.0226]\n",
      " [-1.7143  2.594  -1.0226]\n",
      " [ 0.1429 -1.1429  2.    ]]\n"
     ]
    }
   ],
   "source": [
    "A = np.array([[10., 2., 1.],\n",
    "                 [6., 5., 4.],\n",
    "                 [1., 4., 7.]])\n",
    "\n",
    "# the inverse of the matrix A - computed using a scipy algorithm\n",
    "print(sl.inv(A))\n",
    "\n",
    "# or via numpy\n",
    "print('\\n', np.linalg.inv(A))\n",
    "\n",
    "# see https://docs.scipy.org/doc/scipy/reference/tutorial/linalg.html \n",
    "# for comments on scipy.linalg vs numpy.linalg\n",
    "sl.inv?\n",
    "\n",
    "# the determinant of the matrix A\n",
    "print(sl.det(A))\n",
    "\n",
    "# or\n",
    "print('\\n', np.linalg.det(A))\n",
    "\n",
    "# it sometimes makes our life a bit easier if we don't always print out all \n",
    "# significant figures. We can do this in notebooks with \n",
    "%precision 4\n",
    "\n",
    "# Multiply A with its inverse using numpy's dot. Note that due to\n",
    "# roundoff errors the off diagonal values are not exactly zero.\n",
    "pprint(np.dot(A,sl.inv(A)))\n",
    "\n",
    "# print a blank line just to make output easier to read\n",
    "print('\\n')\n",
    "\n",
    "# check the result with the @ operator as well\n",
    "pprint(A @ sl.inv(A))\n",
    "\n",
    "print('\\n', np.allclose(A @ sl.inv(A), np.eye(np.shape(A)[0])))\n",
    "\n",
    "\n",
    "# three ways to achieve the same thing\n",
    "pprint(np.dot(A,sl.inv(A)))\n",
    "print('\\n')\n",
    "pprint(A.dot(sl.inv(A)))\n",
    "print('\\n')\n",
    "pprint(A @ sl.inv(A))\n",
    "print('\\n')\n",
    "\n",
    "# and how not to do it.\n",
    "print(A*sl.inv(A))\n",
    "# note that the * operator simply does operations \"element-wise\"\n",
    "# which is not the same thing as matrix-matrix multiplication\n",
    "# (so * in numpy is the same as \".*\" in matlab)"
   ]
  },
  {
   "cell_type": "markdown",
   "metadata": {},
   "source": [
    "## Singular matrices\n",
    "\n",
    "If $|A|=0$ then $A$ is termed a [*singular matrix*](http://mathworld.wolfram.com/SingularMatrix.html) and it does not have an inverse.\n"
   ]
  },
  {
   "cell_type": "code",
   "execution_count": 52,
   "metadata": {},
   "outputs": [
    {
     "name": "stdout",
     "output_type": "stream",
     "text": [
      "Marix A is singular:  True\n"
     ]
    }
   ],
   "source": [
    "# example from above\n",
    "A = np.array([[2., 3.], [4., 6.]])\n",
    "print('Marix A is singular: ', np.isclose(sl.det(A), 0.))"
   ]
  },
  {
   "cell_type": "markdown",
   "metadata": {},
   "source": [
    "What happens if we try to use SciPy to compute the inverse of a matrix with a zero (or very small) determinant?"
   ]
  },
  {
   "cell_type": "code",
   "execution_count": 53,
   "metadata": {
    "scrolled": true
   },
   "outputs": [
    {
     "ename": "LinAlgError",
     "evalue": "singular matrix",
     "output_type": "error",
     "traceback": [
      "\u001b[1;31m---------------------------------------------------------------------------\u001b[0m",
      "\u001b[1;31mLinAlgError\u001b[0m                               Traceback (most recent call last)",
      "\u001b[1;32m<ipython-input-53-8a87f247b3f1>\u001b[0m in \u001b[0;36m<module>\u001b[1;34m\u001b[0m\n\u001b[1;32m----> 1\u001b[1;33m \u001b[0msl\u001b[0m\u001b[1;33m.\u001b[0m\u001b[0minv\u001b[0m\u001b[1;33m(\u001b[0m\u001b[0mA\u001b[0m\u001b[1;33m)\u001b[0m\u001b[1;33m\u001b[0m\u001b[1;33m\u001b[0m\u001b[0m\n\u001b[0m",
      "\u001b[1;32m~\\Anaconda3\\lib\\site-packages\\scipy\\linalg\\basic.py\u001b[0m in \u001b[0;36minv\u001b[1;34m(a, overwrite_a, check_finite)\u001b[0m\n\u001b[0;32m    972\u001b[0m         \u001b[0minv_a\u001b[0m\u001b[1;33m,\u001b[0m \u001b[0minfo\u001b[0m \u001b[1;33m=\u001b[0m \u001b[0mgetri\u001b[0m\u001b[1;33m(\u001b[0m\u001b[0mlu\u001b[0m\u001b[1;33m,\u001b[0m \u001b[0mpiv\u001b[0m\u001b[1;33m,\u001b[0m \u001b[0mlwork\u001b[0m\u001b[1;33m=\u001b[0m\u001b[0mlwork\u001b[0m\u001b[1;33m,\u001b[0m \u001b[0moverwrite_lu\u001b[0m\u001b[1;33m=\u001b[0m\u001b[1;36m1\u001b[0m\u001b[1;33m)\u001b[0m\u001b[1;33m\u001b[0m\u001b[1;33m\u001b[0m\u001b[0m\n\u001b[0;32m    973\u001b[0m     \u001b[1;32mif\u001b[0m \u001b[0minfo\u001b[0m \u001b[1;33m>\u001b[0m \u001b[1;36m0\u001b[0m\u001b[1;33m:\u001b[0m\u001b[1;33m\u001b[0m\u001b[1;33m\u001b[0m\u001b[0m\n\u001b[1;32m--> 974\u001b[1;33m         \u001b[1;32mraise\u001b[0m \u001b[0mLinAlgError\u001b[0m\u001b[1;33m(\u001b[0m\u001b[1;34m\"singular matrix\"\u001b[0m\u001b[1;33m)\u001b[0m\u001b[1;33m\u001b[0m\u001b[1;33m\u001b[0m\u001b[0m\n\u001b[0m\u001b[0;32m    975\u001b[0m     \u001b[1;32mif\u001b[0m \u001b[0minfo\u001b[0m \u001b[1;33m<\u001b[0m \u001b[1;36m0\u001b[0m\u001b[1;33m:\u001b[0m\u001b[1;33m\u001b[0m\u001b[1;33m\u001b[0m\u001b[0m\n\u001b[0;32m    976\u001b[0m         raise ValueError('illegal value in %d-th argument of internal '\n",
      "\u001b[1;31mLinAlgError\u001b[0m: singular matrix"
     ]
    }
   ],
   "source": [
    "sl.inv(A)"
   ]
  },
  {
   "cell_type": "code",
   "execution_count": 54,
   "metadata": {},
   "outputs": [
    {
     "ename": "LinAlgError",
     "evalue": "Singular matrix",
     "output_type": "error",
     "traceback": [
      "\u001b[1;31m---------------------------------------------------------------------------\u001b[0m",
      "\u001b[1;31mLinAlgError\u001b[0m                               Traceback (most recent call last)",
      "\u001b[1;32m<ipython-input-54-ae645f97e1f8>\u001b[0m in \u001b[0;36m<module>\u001b[1;34m\u001b[0m\n\u001b[1;32m----> 1\u001b[1;33m \u001b[0mnp\u001b[0m\u001b[1;33m.\u001b[0m\u001b[0mlinalg\u001b[0m\u001b[1;33m.\u001b[0m\u001b[0minv\u001b[0m\u001b[1;33m(\u001b[0m\u001b[0mA\u001b[0m\u001b[1;33m)\u001b[0m\u001b[1;33m\u001b[0m\u001b[1;33m\u001b[0m\u001b[0m\n\u001b[0m",
      "\u001b[1;32m~\\Anaconda3\\lib\\site-packages\\numpy\\linalg\\linalg.py\u001b[0m in \u001b[0;36minv\u001b[1;34m(a)\u001b[0m\n\u001b[0;32m    549\u001b[0m     \u001b[0msignature\u001b[0m \u001b[1;33m=\u001b[0m \u001b[1;34m'D->D'\u001b[0m \u001b[1;32mif\u001b[0m \u001b[0misComplexType\u001b[0m\u001b[1;33m(\u001b[0m\u001b[0mt\u001b[0m\u001b[1;33m)\u001b[0m \u001b[1;32melse\u001b[0m \u001b[1;34m'd->d'\u001b[0m\u001b[1;33m\u001b[0m\u001b[1;33m\u001b[0m\u001b[0m\n\u001b[0;32m    550\u001b[0m     \u001b[0mextobj\u001b[0m \u001b[1;33m=\u001b[0m \u001b[0mget_linalg_error_extobj\u001b[0m\u001b[1;33m(\u001b[0m\u001b[0m_raise_linalgerror_singular\u001b[0m\u001b[1;33m)\u001b[0m\u001b[1;33m\u001b[0m\u001b[1;33m\u001b[0m\u001b[0m\n\u001b[1;32m--> 551\u001b[1;33m     \u001b[0mainv\u001b[0m \u001b[1;33m=\u001b[0m \u001b[0m_umath_linalg\u001b[0m\u001b[1;33m.\u001b[0m\u001b[0minv\u001b[0m\u001b[1;33m(\u001b[0m\u001b[0ma\u001b[0m\u001b[1;33m,\u001b[0m \u001b[0msignature\u001b[0m\u001b[1;33m=\u001b[0m\u001b[0msignature\u001b[0m\u001b[1;33m,\u001b[0m \u001b[0mextobj\u001b[0m\u001b[1;33m=\u001b[0m\u001b[0mextobj\u001b[0m\u001b[1;33m)\u001b[0m\u001b[1;33m\u001b[0m\u001b[1;33m\u001b[0m\u001b[0m\n\u001b[0m\u001b[0;32m    552\u001b[0m     \u001b[1;32mreturn\u001b[0m \u001b[0mwrap\u001b[0m\u001b[1;33m(\u001b[0m\u001b[0mainv\u001b[0m\u001b[1;33m.\u001b[0m\u001b[0mastype\u001b[0m\u001b[1;33m(\u001b[0m\u001b[0mresult_t\u001b[0m\u001b[1;33m,\u001b[0m \u001b[0mcopy\u001b[0m\u001b[1;33m=\u001b[0m\u001b[1;32mFalse\u001b[0m\u001b[1;33m)\u001b[0m\u001b[1;33m)\u001b[0m\u001b[1;33m\u001b[0m\u001b[1;33m\u001b[0m\u001b[0m\n\u001b[0;32m    553\u001b[0m \u001b[1;33m\u001b[0m\u001b[0m\n",
      "\u001b[1;32m~\\Anaconda3\\lib\\site-packages\\numpy\\linalg\\linalg.py\u001b[0m in \u001b[0;36m_raise_linalgerror_singular\u001b[1;34m(err, flag)\u001b[0m\n\u001b[0;32m     95\u001b[0m \u001b[1;33m\u001b[0m\u001b[0m\n\u001b[0;32m     96\u001b[0m \u001b[1;32mdef\u001b[0m \u001b[0m_raise_linalgerror_singular\u001b[0m\u001b[1;33m(\u001b[0m\u001b[0merr\u001b[0m\u001b[1;33m,\u001b[0m \u001b[0mflag\u001b[0m\u001b[1;33m)\u001b[0m\u001b[1;33m:\u001b[0m\u001b[1;33m\u001b[0m\u001b[1;33m\u001b[0m\u001b[0m\n\u001b[1;32m---> 97\u001b[1;33m     \u001b[1;32mraise\u001b[0m \u001b[0mLinAlgError\u001b[0m\u001b[1;33m(\u001b[0m\u001b[1;34m\"Singular matrix\"\u001b[0m\u001b[1;33m)\u001b[0m\u001b[1;33m\u001b[0m\u001b[1;33m\u001b[0m\u001b[0m\n\u001b[0m\u001b[0;32m     98\u001b[0m \u001b[1;33m\u001b[0m\u001b[0m\n\u001b[0;32m     99\u001b[0m \u001b[1;32mdef\u001b[0m \u001b[0m_raise_linalgerror_nonposdef\u001b[0m\u001b[1;33m(\u001b[0m\u001b[0merr\u001b[0m\u001b[1;33m,\u001b[0m \u001b[0mflag\u001b[0m\u001b[1;33m)\u001b[0m\u001b[1;33m:\u001b[0m\u001b[1;33m\u001b[0m\u001b[1;33m\u001b[0m\u001b[0m\n",
      "\u001b[1;31mLinAlgError\u001b[0m: Singular matrix"
     ]
    }
   ],
   "source": [
    "np.linalg.inv(A)"
   ]
  },
  {
   "cell_type": "markdown",
   "metadata": {},
   "source": [
    "Remember - read the error message!"
   ]
  },
  {
   "cell_type": "markdown",
   "metadata": {},
   "source": [
    "## Solvability of linear systems\n",
    "\n",
    "\n",
    "If $\\det(A)=0$ a linear system featuring the matrix $A$ with any RHS does *not* have a unique solution, it may have either infinite *or* no solutions.\n",
    "\n",
    "For example, consider\n",
    "\n",
    "$$\n",
    "\\left(\n",
    "  \\begin{array}{rr}\n",
    "    2 & 3 \\\\\n",
    "    4 & 6 \n",
    "  \\end{array}\n",
    "\\right)\\left(\n",
    "  \\begin{array}{c}\n",
    "    x \\\\\n",
    "    y\n",
    "  \\end{array}\n",
    "\\right) = \\left(\n",
    "  \\begin{array}{c}\n",
    "    4 \\\\\n",
    "    8\n",
    "  \\end{array}\n",
    "\\right),\n",
    "$$\n",
    "\n",
    "where the matrix on the LHS clearly has a zero determinant.\n",
    "\n",
    "The second equation is simply twice the first, and hence a solution to the first equation is also automatically a solution to the second equation. \n",
    "\n",
    "We hence only have one *linearly-independent* equation, and our problem is under-constrained: we effectively only have one equation for two unknowns and this problem has *infinitely many* possibly solutions (or said another way, we have *existence*, but *non-uniqueness*): e.g. $\\boldsymbol{x}=(2,0)^T$ is a solution, so is $\\boldsymbol{x}=(-1,2)^T$, etc.\n",
    "\n",
    "If we replaced the RHS vector with $(4,7)^T$, then the two equations would be contradictory: in this case we have *no solutions* (or *non-existence*)."
   ]
  },
  {
   "cell_type": "markdown",
   "metadata": {},
   "source": [
    "### Linear (in)dependence\n",
    "\n",
    "Note that a set of vectors where one can be written as a linear sum of the others are termed [*linearly-dependent*](https://en.wikipedia.org/wiki/Linear_independence). \n",
    "\n",
    "(As was the case for the rows and the columns in the example immediately above).\n",
    "\n",
    "\n",
    "When this is not the case the vectors are termed [*linearly-independent*](https://en.wikipedia.org/wiki/Linear_independence).\n",
    "\n",
    "A <a href=\"https://en.wikipedia.org/wiki/Basis_(linear_algebra)\">*basis*</a> for a vector (or linear) space is a set of linearly-independent vectors such that every vector (or location) in the vector space is a linear combination of this set.\n",
    "\n",
    "The number of vectors in this set is called the dimension of the vector space.\n",
    "\n",
    "For example, the unit vectors $\\,\\boldsymbol{i}$, $\\boldsymbol{j}$, $\\boldsymbol{k}\\,$ are linearly-independent and form a basis for the [three-dimensional space $\\mathbb{R}^3$](https://en.wikipedia.org/wiki/Three-dimensional_space). These unit vectors are defined as\n",
    "\n",
    "$$\\boldsymbol{i} = \\left(\n",
    "  \\begin{array}{c}\n",
    "    1 \\\\\n",
    "    0 \\\\\n",
    "    0     \n",
    "  \\end{array}\n",
    "\\right),\n",
    "\\;\\;\\;\\;\\;\\;\\;\\;\n",
    "\\boldsymbol{j} = \\left(\n",
    "  \\begin{array}{c}\n",
    "    0 \\\\\n",
    "    1 \\\\\n",
    "    0     \n",
    "  \\end{array}\n",
    "\\right),\n",
    "\\;\\;\\;\\;\\;\\;\\;\\;\n",
    "\\boldsymbol{k} = \\left(\n",
    "  \\begin{array}{c}\n",
    "    0 \\\\\n",
    "    0 \\\\\n",
    "    1     \n",
    "  \\end{array}\n",
    "\\right).\n",
    "$$\n",
    "\n",
    "By definition, these three vectors **forming a basis means that we can reach any point in $\\mathbb{R}^3$ through summing appropriate multiples of them**.\n",
    "\n",
    "These are the common basis vectors, but clearly they are not unique - with any linearly independent set of three vectors we can reach any point in 3D space - start thinking about these vectors being columns of a matrix forming a linear system!"
   ]
  },
  {
   "cell_type": "markdown",
   "metadata": {},
   "source": [
    "### Equivalent properties\n",
    "\n",
    "The following properties of a square $n\\times n$ matrix are equivalent:\n",
    "\n",
    "\n",
    "* $\\det(A)\\ne 0$ - $A$ is non-singular.\n",
    "\n",
    "\n",
    "* The columns of $A$ are linearly independent.\n",
    "\n",
    "\n",
    "* The rows of $A$ are linearly independent.\n",
    "\n",
    "\n",
    "* The columns of $A$ *span* an $n$-dimensional space (this means that we can reach any point in $\\mathbb{R}^n$ through a linear combination of these vectors - note that this is simply what the operation $A\\boldsymbol{x}$ is doing of course if you write it out - the entries of $\\boldsymbol{x}$ are the weights in the linear combination - we wrote this out explicitly above.)  \n",
    "\n",
    "\n",
    "* [what this means is that for any given point in our space (described for example by $\\boldsymbol{b}$), we can reach that point through the appropriate summation of multiples of the columns of $A$, and its the $\\boldsymbol{x}$ solution vector that gives us these multiples.  Note that this isn't quite the same geometrical interpretation that we described above - see the next cell.]\n",
    "\n",
    "\n",
    "* $A$ is invertible, i.e. there exists a matrix $A^{-1}$ such that $A^{-1}A = A A^{-1}=I$.\n",
    "\n",
    "\n",
    "* The matrix system $A\\boldsymbol{x}=\\boldsymbol{b}$ has a unique solution for every vector $\\boldsymbol{b}$.\n",
    "\n",
    "\n",
    "For even more equivalent properties see <https://en.wikipedia.org/wiki/Invertible_matrix#The_invertible_matrix_theorem>."
   ]
  },
  {
   "cell_type": "markdown",
   "metadata": {},
   "source": [
    "### Rank, range and null-Space\n",
    "\n",
    "Above we wrote that\n",
    "\n",
    "* The columns of $A$ *span* an $n$-dimensional space (this means that we can reach any point in $\\mathbb{R}^n$ through a linear combination of these vectors - note that this is simply what the operation $A\\boldsymbol{x}$ is doing of course if you write it out - the entries of $\\boldsymbol{x}$ are the weights in the linear combination!)  \n",
    "\n",
    "Let's explain a bit better what this means.\n",
    "\n",
    "The *rank* of an $m\\times n$ matrix $A$, written $\\text{rank}(A)$, is equal to the number of linearly independent columns that form it. It is also equal to the number of linearly independent rows that form it. The matrix $A$ is said to have *full rank* if $\\text{rank}(A)=\\min(m,n)$ and is said to be *rand deficit* if $\\text{rank}(A)<\\min(m,n)$.\n",
    "\n",
    "The *range* of an $m\\times n$ matrix $A$, written $\\text{range}(A)$, is the space spanned by the columns of $A$ (so it's sometimes also called the [*column space*](https://en.wikipedia.org/wiki/Row_and_column_spaces)), i.e. every point in the space can be reached through a linear combination of the columns of $A$, equivalently every point in the space can be written as $A\\boldsymbol{x}$ for some $\\boldsymbol{x}$. Said another way, the columns of $A$ provide a basis for $\\text{range}(A)$.\n",
    "\n",
    "This is telling us that if our matrix has full rank then we can reach any location through a weighted sum of the columns, i.e. no matter what the RHS vector is (the point we want to reach) the corresponding linear system always has a solution and hence the matrix has an inverse. If the matrix does not have full rank, then we will have (non-unique) solutions as long as the RHS vector (the location we want to get to geometrically) is in the range of $A$, as we are able to reach some points (i.e. some RHS vectors) with a weighted sum of our columns."
   ]
  },
  {
   "cell_type": "markdown",
   "metadata": {},
   "source": [
    "The *null-space* of the matrix $A$, written $\\text{null}(A)$, is the set of vectors $\\boldsymbol{x}$ that satisfy $A\\boldsymbol{x} = 0$.\n",
    "\n",
    "Why is the null-space important, well for lots of reasons: \n",
    "\n",
    "\n",
    "1. in the next lecture it is how we will find so-called eigenvectors, \n",
    "    \n",
    "    \n",
    "2. when solving a linear system $A\\boldsymbol{x}=\\boldsymbol{b}$, we can add any vector (or linear combination of vectors) from the null-space to a solution and get another solution, this will demonstrate non-uniqueness of solutions for this problem if the null-space contains anything other than the zero vector. "
   ]
  },
  {
   "cell_type": "markdown",
   "metadata": {},
   "source": [
    "### Another geometrical interpretation\n",
    "\n",
    "Consider our $2\\times 2$ example.\n",
    "\n",
    "If we define two vectors given by the columns of the matrix, which we plot below in blue and red, \n",
    "\n",
    "along with the point $\\boldsymbol{b}$ we want to arrive at,\n",
    "\n",
    "(the black vectors indicating the unit vectors $\\boldsymbol{i}$ and $\\boldsymbol{j}$ - so we can if we want write $\\boldsymbol{b}$ = b_1 $\\boldsymbol{i}$ + b_2 $\\boldsymbol{j}\\,$)\n",
    "\n",
    "we can then visualise the problem as wanting to reach the black point through the appropriate weighted sum of the blue and red vectors:"
   ]
  },
  {
   "cell_type": "code",
   "execution_count": 56,
   "metadata": {},
   "outputs": [
    {
     "data": {
      "text/plain": [
       "<matplotlib.legend.Legend at 0x19222eb62e8>"
      ]
     },
     "execution_count": 56,
     "metadata": {},
     "output_type": "execute_result"
    },
    {
     "data": {
      "image/png": "[encoded data removed]",
      "text/plain": [
       "<Figure size 432x432 with 1 Axes>"
      ]
     },
     "metadata": {
      "needs_background": "light"
     },
     "output_type": "display_data"
    }
   ],
   "source": [
    "fig = plt.figure(figsize=(6, 6))\n",
    "\n",
    "ax1 = fig.add_subplot(111)\n",
    "\n",
    "ax1.set_xlabel(\"$x$\", fontsize=14)\n",
    "ax1.set_ylabel(\"$y$\", fontsize=14)\n",
    "ax1.set_title('Position as a sum over matrix cols', fontsize=14)\n",
    "#ax1.grid(True)\n",
    "\n",
    "i = np.array([1,0])\n",
    "j = np.array([0,1])\n",
    "\n",
    "# plot the unit vectors\n",
    "ax1.quiver(i[0], i[1], angles='xy', scale_units='xy', scale=1, color='k')\n",
    "ax1.quiver(j[0], j[1], angles='xy', scale_units='xy', scale=1, color='k')\n",
    "\n",
    "ax1.set_xlim(-1,8)\n",
    "ax1.set_ylim(-5,5)\n",
    "\n",
    "A = np.array([[2, 3], [1, -4]])\n",
    "vec1 = A[:,0] # NB. This is the same as A*x\n",
    "vec2 = A[:,1] # NB. This is the same as A*y\n",
    "\n",
    "# plot them\n",
    "ax1.quiver(vec1[0], vec1[1], angles='xy', scale_units='xy', scale=1, color='b', width=0.02,  label='vec1')\n",
    "ax1.quiver(vec2[0], vec2[1], angles='xy', scale_units='xy', scale=1, color='r', width=0.02,  label='vec2')\n",
    "\n",
    "# add point b\n",
    "b = np.array([7., 3.])\n",
    "ax1.plot(b[0], b[1], 'ko',  label='${b}$')\n",
    "\n",
    "ax1.legend(loc='lower left', fontsize=14)"
   ]
  },
  {
   "cell_type": "markdown",
   "metadata": {},
   "source": [
    "As already stated, we know trivially how to write the position $\\boldsymbol{b}$ as a sum over the unit vectors $\\boldsymbol{i}$ and $\\boldsymbol{j}$:\n",
    "\n",
    "$$\\boldsymbol{b} = \n",
    "\\begin{pmatrix}\n",
    "b_1\\\\\n",
    "b_2\n",
    "\\end{pmatrix} =\n",
    "\\begin{pmatrix}\n",
    "b_1\\\\\n",
    "0\n",
    "\\end{pmatrix} +\n",
    "\\begin{pmatrix}\n",
    "0\\\\\n",
    "b_2\n",
    "\\end{pmatrix} =\n",
    "b_1\\begin{pmatrix}\n",
    "1\\\\\n",
    "0\n",
    "\\end{pmatrix} + b_2\n",
    "\\begin{pmatrix}\n",
    "0\\\\\n",
    "1\n",
    "\\end{pmatrix} =\n",
    "b_1 \\boldsymbol{i} + b_2\\boldsymbol{j}\n",
    "$$\n",
    "\n",
    "Finding the solution to our linear system is equivalent to asking how far along direction given by column one (blue vector), and then how far along the direction given by column two (the red vector), do I need to go to arrive at point $\\boldsymbol{b}$.\n",
    "\n",
    "This is exactly what the following interpretation of matrix-vector multiplication from earlier is telling us\n",
    "\n",
    "$$ A \\boldsymbol{x}=\\boldsymbol{b} \\quad \\iff \\quad\n",
    "\\begin{pmatrix}\n",
    "    b_1\\\\\n",
    "    b_2\\\\\n",
    "    \\vdots\\\\\n",
    "    b_m\n",
    "\\end{pmatrix}\n",
    "=\n",
    "\\begin{pmatrix}\n",
    "      &     &         &     \\\\\n",
    "  \\boldsymbol{a}_{\\,:1} & \\boldsymbol{a}_{\\,:2} &  \\ldots & \\boldsymbol{a}_{\\,:n} \\\\\n",
    "      &     &         &     \\\\\n",
    "      &     &         &     \n",
    "\\end{pmatrix}\n",
    "\\begin{pmatrix}\n",
    "    x_1\\\\\n",
    "    x_2\\\\\n",
    "    \\vdots\\\\\n",
    "    x_n\n",
    "\\end{pmatrix}\n",
    "=\n",
    "x_1 \n",
    "\\begin{pmatrix}\n",
    "       \\\\\n",
    "   \\boldsymbol{a}_{\\,:1} \\\\\n",
    "       \\\\\n",
    "    ~   \n",
    "\\end{pmatrix}\n",
    "+\n",
    "x_2 \n",
    "\\begin{pmatrix}\n",
    "       \\\\\n",
    "   \\boldsymbol{a}_{\\,:2} \\\\\n",
    "       \\\\\n",
    "    ~   \n",
    "\\end{pmatrix}\n",
    "+ \\cdots +\n",
    "x_n\n",
    "\\begin{pmatrix}\n",
    "       \\\\\n",
    "   \\boldsymbol{a}_{\\,:n} \\\\\n",
    "       \\\\\n",
    "    ~   \n",
    "\\end{pmatrix}\n",
    "$$\n",
    "\n",
    "\n",
    "or in our case\n",
    "\n",
    "$$ \n",
    "\\begin{pmatrix}\n",
    "    7\\\\\n",
    "    3\n",
    "\\end{pmatrix}\n",
    "=\n",
    "\\begin{pmatrix}\n",
    "      2 & 3   \\\\\n",
    "     1  & -4    \n",
    "\\end{pmatrix}\n",
    "\\begin{pmatrix}\n",
    "    x_1\\\\\n",
    "    x_2\n",
    "\\end{pmatrix}\n",
    "=\n",
    "x_1 \n",
    "\\begin{pmatrix}\n",
    "       2 \\\\\n",
    "       1\n",
    "\\end{pmatrix}\n",
    "+\n",
    "x_2 \n",
    "\\begin{pmatrix}\n",
    "     3 \\\\\n",
    "     -4\n",
    "\\end{pmatrix}\n",
    "$$"
   ]
  },
  {
   "cell_type": "markdown",
   "metadata": {},
   "source": [
    "We can use the solution $\\boldsymbol{x}$ we have already found to emphasise this visually/geometrically: "
   ]
  },
  {
   "cell_type": "code",
   "execution_count": 57,
   "metadata": {},
   "outputs": [
    {
     "data": {
      "text/plain": [
       "<matplotlib.quiver.Quiver at 0x19222f53550>"
      ]
     },
     "execution_count": 57,
     "metadata": {},
     "output_type": "execute_result"
    },
    {
     "data": {
      "image/png": "[encoded data removed]",
      "text/plain": [
       "<Figure size 576x576 with 1 Axes>"
      ]
     },
     "metadata": {
      "needs_background": "light"
     },
     "output_type": "display_data"
    }
   ],
   "source": [
    "fig = plt.figure(figsize=(8, 8))\n",
    "\n",
    "ax1 = fig.add_subplot(111)\n",
    "\n",
    "ax1.set_xlabel(\"$x$\", fontsize=14)\n",
    "ax1.set_ylabel(\"$y$\", fontsize=14)\n",
    "ax1.set_title('Position as a sum over matrix cols', fontsize=14)\n",
    "#ax1.grid(True)\n",
    "\n",
    "i = np.array([1,0])\n",
    "j = np.array([0,1])\n",
    "\n",
    "# plot the unit vectors\n",
    "ax1.quiver(i[0], i[1], angles='xy', scale_units='xy', scale=1, color='k')\n",
    "ax1.quiver(j[0], j[1], angles='xy', scale_units='xy', scale=1, color='k')\n",
    "\n",
    "\n",
    "ax1.set_xlim(-1,8)\n",
    "ax1.set_ylim(-5,5)\n",
    "\n",
    "A = np.array([[2, 3], [1, -4]])\n",
    "vec1 = A[:,0] # NB. This is the same as A*x\n",
    "vec2 = A[:,1] # NB. This is the same as A*y\n",
    "\n",
    "# plot them\n",
    "ax1.quiver(vec1[0], vec1[1], angles='xy', scale_units='xy', scale=1, color='b', width=0.02,  label='vec1')\n",
    "ax1.quiver(vec2[0], vec2[1], angles='xy', scale_units='xy', scale=1, color='r', width=0.02,  label='vec2')\n",
    "\n",
    "# add point b\n",
    "b = np.array([7., 3.])\n",
    "ax1.plot(b[0], b[1], 'ko',  label='${b}$')\n",
    "\n",
    "ax1.legend(loc='lower left', fontsize=14)\n",
    "\n",
    "# Now move x_1 in the direction given by column one, followed by x_2 in the direction given by column 2\n",
    "# and add to the plot with thinner lines\n",
    "x = np.array([37./11, 1./11])\n",
    "ax1.quiver(x[0]*vec1[0], x[0]*vec1[1], angles='xy', scale_units='xy', scale=1, color='darkblue', width=0.005,  label='vec1')\n",
    "ax1.quiver(x[0]*vec1[0], x[0]*vec1[1],x[1]*vec2[0], x[1]*vec2[1], angles='xy', \n",
    "           scale_units='xy', scale=1, color='darkred', width=0.005,  label='vec2')"
   ]
  },
  {
   "cell_type": "markdown",
   "metadata": {},
   "source": [
    "Note that the columns are not orthogonal in this case, which we can demonstrate by:"
   ]
  },
  {
   "cell_type": "code",
   "execution_count": 58,
   "metadata": {},
   "outputs": [
    {
     "name": "stdout",
     "output_type": "stream",
     "text": [
      "2\n"
     ]
    }
   ],
   "source": [
    "print(vec1.dot(vec2))"
   ]
  },
  {
   "cell_type": "markdown",
   "metadata": {},
   "source": [
    "if they were orthogonal the answer should have been zero,\n",
    "\n",
    "but that's fine as we can still reach any position in 2D space from their weighted sum as long as they are linearly independent."
   ]
  },
  {
   "cell_type": "markdown",
   "metadata": {},
   "source": [
    "### Solving our simple example (again) [*]\n",
    "\n",
    "Let's finish up by solving our simple $2\\times 2$ example again.\n",
    "\n",
    "In the following, as well as multiplying through by the inverse matrix obtained with `sl.inv`, we also demonstrate how to use a numerical linear algebra solver via `sl.solve` - this solves the problem without actually forming the inverse. More info on this, including why we might not want to form the inverse, and what algorithm this is actually implementing in ACSE-3. "
   ]
  },
  {
   "cell_type": "code",
   "execution_count": 59,
   "metadata": {},
   "outputs": [
    {
     "name": "stdout",
     "output_type": "stream",
     "text": [
      "det(A) =  -11.0\n",
      "[3.3636 0.0909]\n",
      "[3.3636 0.0909]\n",
      "\n",
      "Our two numerical solutions agree:  True\n",
      "\n",
      "and sl.solve(A,b) agrees with the exact solution we computed by hand:  True\n"
     ]
    }
   ],
   "source": [
    "# form the LHS matrix\n",
    "A = np.array([[2., 3.], [1., -4.]])\n",
    "\n",
    "# check first whether the determinant of A is non-zero \n",
    "print('det(A) = ', sl.det(A))\n",
    "\n",
    "# form the RHS vector\n",
    "b = np.array([7., 3.])\n",
    "\n",
    "# compute A inverse and multiply by b (could also use np.linalg.inv(A) rather than sl.inv(A))\n",
    "print(sl.inv(A) @ b)\n",
    "\n",
    "# alternatively we can \"solve\" the linear system using SciPy \n",
    "# - actually this does the same thing as the line above but using \n",
    "# an \"LU decomposition\" of A.  (See ACSE-3 for what this means!)\n",
    "print(sl.solve(A,b))\n",
    "\n",
    "# Check our two numerical solutions using the numpy allclose function\n",
    "print('\\nOur two numerical solutions agree: ', np.allclose(sl.solve(A,b), sl.inv(A) @ b))\n",
    "# and check further that this agrees with the solution we computed by hand\n",
    "print('\\nand sl.solve(A,b) agrees with the exact solution we computed by hand: ', \n",
    "      np.allclose(sl.solve(A,b), [37./11., 1./11.]))"
   ]
  },
  {
   "cell_type": "code",
   "execution_count": 60,
   "metadata": {},
   "outputs": [
    {
     "name": "stdout",
     "output_type": "stream",
     "text": [
      "[3.36363636363636 0.09090909090909]\n",
      "[3.36363636363636 0.09090909090909]\n",
      "sl.solve(A,b) == sl.inv(A)@b: True\n",
      "sl.solve(A,b) == sl.inv(A)@b: False\n"
     ]
    }
   ],
   "source": [
    "%precision 14\n",
    "A = np.array([[2., 3.], [1., -4.]])\n",
    "b = np.array([7., 3.])\n",
    "print(sl.inv(A)@b)\n",
    "print(sl.solve(A,b))\n",
    "print('sl.solve(A,b) == sl.inv(A)@b:', np.allclose(sl.solve(A,b), sl.inv(A)@b, rtol=0.0, atol=1e-15))\n",
    "# very tight tolerance\n",
    "print('sl.solve(A,b) == sl.inv(A)@b:', np.allclose(sl.solve(A,b), sl.inv(A)@b, rtol=0.0, atol=1e-16))"
   ]
  },
  {
   "cell_type": "markdown",
   "metadata": {},
   "source": [
    "# Cramer's rule [**]"
   ]
  },
  {
   "cell_type": "markdown",
   "metadata": {},
   "source": [
    "As stated above, a general formula for the inverse of a square, invertible matrix is \n",
    "\n",
    "$$A^{-1} = \\frac{1}{|A|}\\text{adj}(A)$$\n",
    "\n",
    "where the adjugate or [*adjugate matrix*](https://en.wikipedia.org/wiki/Adjugate_matrix) is\n",
    "\n",
    "$$\\text{adj}(A) = C^T$$\n",
    "\n",
    "where $C$ is the *cofactor matrix*:\n",
    "\n",
    "$$C = \n",
    "\\begin{pmatrix}\n",
    "    C_{11} & C_{12} & \\cdots\\\\\n",
    "    C_{21} & C_{22} & \\cdots\\\\\n",
    "    \\vdots & \\vdots & \\ddots\\\\\n",
    "\\end{pmatrix}\n",
    "$$ \n",
    "\n",
    "where $$C_{11} = \n",
    "\\begin{vmatrix}\n",
    "    a_{22} & a_{23}\\\\\n",
    "    a_{32} & a_{33}\n",
    "\\end{vmatrix}, \n",
    "\\quad\n",
    "C_{12} = -\n",
    "\\begin{vmatrix}\n",
    "    a_{21} & a_{23}\\\\\n",
    "    a_{31} & a_{33}\n",
    "\\end{vmatrix}\n",
    "$$\n",
    "\n",
    "etc."
   ]
  },
  {
   "cell_type": "markdown",
   "metadata": {},
   "source": [
    "By establishing this result rigorously we can also derive a solution method for a corresponding linear system - called Cramer's Rule. Let's do this.\n",
    "\n",
    "For a given $n\\times n$ matrix $A$, consider the product with the cofactor matrix $C$ defined above:\n",
    "\n",
    "$$AC^T = \n",
    "\\begin{pmatrix}\n",
    "    a_{11} & a_{12} & \\cdots\\\\\n",
    "    a_{21} & a_{22} & \\cdots\\\\\n",
    "    \\vdots & \\vdots & \\ddots\\\\\n",
    "\\end{pmatrix}\n",
    "\\begin{pmatrix}\n",
    "    C_{11} & C_{12} & \\cdots\\\\\n",
    "    C_{21} & C_{22} & \\cdots\\\\\n",
    "    \\vdots & \\vdots & \\ddots\\\\\n",
    "\\end{pmatrix}^T= \n",
    "\\begin{pmatrix}\n",
    "    a_{11} & a_{12} & \\cdots\\\\\n",
    "    a_{21} & a_{22} & \\cdots\\\\\n",
    "    \\vdots & \\vdots & \\ddots\\\\\n",
    "\\end{pmatrix}\n",
    "\\begin{pmatrix}\n",
    "    C_{11} & C_{21} & \\cdots\\\\\n",
    "    C_{12} & C_{22} & \\cdots\\\\\n",
    "    \\vdots & \\vdots & \\ddots\\\\\n",
    "\\end{pmatrix}\n",
    "$$\n",
    "\n",
    "The result will be an $n\\times n$ matrix $[(AC^T)_{ij}]_{n\\times n}$.  Let's consider some of its entries:\n",
    "\n",
    "$$(AC^T)_{11} = a_{11} C_{11} + a_{12}C_{12} + \\ldots$$\n",
    "\n",
    "which we recognise as the formula for the determinant using the expansion over the first row.\n",
    "\n",
    "Similarly $(AC^T)_{22}$ is the determinant using the expansion over the second row, and so on - all the diagonal entries\n",
    "of this product turn out to be the determinant $|A|$.\n",
    "\n",
    "What about the off-diagonals? Let's consider one representative entry:\n",
    "\n",
    "$$(AC^T)_{12} = a_{11} C_{21} + a_{12}C_{22} + \\ldots$$\n",
    "\n",
    "where\n",
    "\n",
    "$$C_{21} = -\n",
    "\\begin{vmatrix}\n",
    "    a_{12} & a_{13} & a_{14} & \\cdots\\\\\n",
    "    a_{32} & a_{33} & a_{34} & \\cdots\\\\\n",
    "    a_{42} & a_{43} & a_{44} & \\cdots \\\\\n",
    "    \\vdots & \\vdots & \\vdots &\n",
    "\\end{vmatrix}\n",
    "$$\n",
    "\n",
    "$$C_{22} = +\n",
    "\\begin{vmatrix}\n",
    "    a_{11} & a_{13} & a_{14} & \\cdots\\\\\n",
    "    a_{31} & a_{33} & a_{34} & \\cdots\\\\\n",
    "    a_{41} & a_{34} & a_{44} & \\cdots \\\\\n",
    "    \\vdots & \\vdots & \\vdots &\n",
    "\\end{vmatrix}\n",
    "$$\n",
    "\n",
    "etc. \n",
    "\n",
    "So we have that\n",
    "\n",
    "$$ \n",
    "(AC^T)_{12} = \n",
    "-a_{11} \n",
    "\\begin{vmatrix}\n",
    "    a_{12} & a_{13} & a_{14} & \\cdots\\\\\n",
    "    a_{32} & a_{33} & a_{34} & \\cdots\\\\\n",
    "    a_{42} & a_{43} & a_{44} & \\cdots \\\\\n",
    "    \\vdots & \\vdots & \\vdots &\n",
    "\\end{vmatrix} + \n",
    "a_{12}\n",
    "\\begin{vmatrix}\n",
    "    a_{11} & a_{13} & a_{14} & \\cdots\\\\\n",
    "    a_{31} & a_{33} & a_{34} & \\cdots\\\\\n",
    "    a_{41} & a_{34} & a_{44} & \\cdots \\\\\n",
    "    \\vdots & \\vdots & \\vdots &\n",
    "\\end{vmatrix}\n",
    "+ \\ldots\n",
    "$$\n",
    "\n",
    "But notice that this is the determinant of the following matrix:\n",
    "\n",
    "$$(AC^T)_{12}=\n",
    "-\\begin{vmatrix}\n",
    "    a_{11} & a_{12} & a_{13} & \\cdots\\\\\n",
    "    a_{11} & a_{12} & a_{13} & \\cdots\\\\\n",
    "    a_{31} & a_{32} & a_{33} & \\cdots \\\\\n",
    "    a_{41} & a_{42} & a_{43} & \\cdots \\\\\n",
    "\\vdots & \\vdots & \\vdots &\n",
    "\\end{vmatrix}\n",
    "$$\n",
    "\n",
    "i.e. a matrix with a repeated row.  \n",
    "\n",
    "What do we know about matrices with repeated, i.e. non linearly independent rows - they have zero determinants. Hence this off-diagonal entry is zero. This argument can be repeated to show that every off-diagonals entry must be zero."
   ]
  },
  {
   "cell_type": "markdown",
   "metadata": {},
   "source": [
    "If you don't quite follow this, let's look at the $2\\times 2$ example. In this case \n",
    "\n",
    "$$AC^T = \n",
    "\\begin{pmatrix}\n",
    "    a & b \\\\\n",
    "    c & d \n",
    "\\end{pmatrix}\n",
    "\\begin{pmatrix}\n",
    "    d & -c \\\\\n",
    "    -b & a\n",
    "\\end{pmatrix}^T= \n",
    "\\begin{pmatrix}\n",
    "    a & b  \\\\\n",
    "    c & d \n",
    "\\end{pmatrix}\n",
    "\\begin{pmatrix}\n",
    "    d & -b\\\\\n",
    "    -c & a\n",
    "\\end{pmatrix}\n",
    "$$\n",
    "\n",
    "So \n",
    "\n",
    "$$(AC^T)_{11} = ad - bc =|A|$$\n",
    "\n",
    "and \n",
    "\n",
    "$$(AC^T)_{12} = a_{11} C_{21} + a_{12}C_{22} = a(-b) + b(a) =  \n",
    "\\begin{vmatrix}\n",
    "a & b \\\\\n",
    "a & b\n",
    "\\end{vmatrix}\n",
    "=0$$\n",
    "\n",
    "as for the general case this is zero - the determinant of the matrix where we have replaced the second row with the first. "
   ]
  },
  {
   "cell_type": "markdown",
   "metadata": {},
   "source": [
    "Hence we have that \n",
    "\n",
    "$$ AC^T = |A| \\; I \\; \\implies \\; A \\left( \\frac{1}{|A|} C^T \\right) = I $$\n",
    "\n",
    "and so having divided through by an assumed non-zero scalar determinant we have constructed a \"right inverse\" to our matrix $A$.  \n",
    "\n",
    "\n",
    "A similar argument would show that we also have a left inverse, as $C^T A = |A|I$ - this time entries of $C^TA$ can be interpreted as the sum of cofactors multiplied by entries from a column of $A$. For the diagonals this is the determinant of $A$ (computed via a column expansion), and for off-diagonals the determinant of matrix with repeated columns, i.e. zero.\n",
    "\n",
    "Together this proves that we indeed have the inverse matrix:\n",
    "\n",
    "$$A^{-1}=\\frac{1}{|A|} C^T = \\frac{1}{|A|} \\text{adj}(A)$$"
   ]
  },
  {
   "cell_type": "markdown",
   "metadata": {},
   "source": [
    "Establishing that the above formula for the inverse is true points us to a method for computing the solution of the linear system, i.e.\n",
    "\n",
    "$$ A\\boldsymbol{x}=\\boldsymbol{b} \\implies \\boldsymbol{x} = A^{-1}\\boldsymbol{b} = \\frac{1}{|A|} C^T \\boldsymbol{b}, $$\n",
    "\n",
    "directly.\n",
    "\n",
    "Consider the first entry of our unknown, $x_1$. The above formula tells us that this is equal to one over the determinant of $A$, times the first row of $C^T$ multiplied by the column vector $\\boldsymbol{b}$:\n",
    "\n",
    "$$x_1 = \\frac{1}{|A|} \\left(C_{11}b_1 + C_{21}b_2 + \\ldots\\right)$$\n",
    "\n",
    "but, as above, the expansion of cofactors that appears here can be recognised as the determinant of a particular matrix, and thus an expression for the first entry of the solution vector is:\n",
    "\n",
    "$$x_1 = \\frac{1}{|A|} \n",
    "\\begin{vmatrix}\n",
    "b_1 & a_{12} & a_{13} & \\cdots \\\\\n",
    "b_2 & a_{22} & a_{23} & \\cdots \\\\\n",
    "b_3 & a_{32} & a_{33} & \\cdots \\\\\n",
    "\\vdots & \\vdots & \\vdots &\n",
    "\\end{vmatrix}\n",
    "$$\n",
    "\n",
    "Call the matrix that appears here $B_1$ (which is defined as $A$ but with the first column replaced by $\\boldsymbol{b}$).\n",
    "\n",
    "Define $B_j$ similarly as the matrix $A$ with the $j$-th column replaced by $\\boldsymbol{b}$:\n",
    "\n",
    "$$B_j = \n",
    "\\begin{pmatrix}\n",
    "      &     &         &   &&&&   \\\\\n",
    "  \\boldsymbol{a}_1 & \\boldsymbol{a}_2 &  \\ldots & \\boldsymbol{a}_{j-1} & \\boldsymbol{b} & \\boldsymbol{a}_{j+1}  & \\ldots & \\boldsymbol{a}_n \\\\\n",
    "      &     &         &   &&&&  \\\\\n",
    "      &     &         &   &&&&  \n",
    "\\end{pmatrix}\n",
    "$$\n",
    "\n",
    "Then as an extension of above we have\n",
    "\n",
    "$$x_j = \\frac{|B_j|}{|A|}, \\quad  1\\leq j \\leq n$$\n",
    "\n",
    "This solution method is called [Cramer's rule](https://en.wikipedia.org/wiki/Cramer%27s_rule), and a homework exercise asks you to implement this method in a function."
   ]
  },
  {
   "cell_type": "markdown",
   "metadata": {},
   "source": [
    "# Geometric interpretation of linear transformations [* - assuming we have run out of time, please read through this section as we will pick up the next lecture from this stuff]\n",
    "\n",
    "If we consider a vector describing a position relative to the origin then we can interpret pre-multiplication of this vector by a matrix as a linear transformation. \n",
    "\n",
    "Alternatively, in Euclidean 2D space consider two vectors describing a basis for that space (e.g. $\\boldsymbol{i}$ and $\\boldsymbol{j}$), then we can interpret pre-multiplication of these vectors by a matrix as a linear coordinate transformation. (And this is also true for any (finite) number of dimensions).\n",
    "\n",
    "Other words for transformation here include 'function' or 'map' - the action of applying it maps objects between spaces.\n",
    "\n",
    "Linear means that it does so in a manner that preserves the operations of addition and scalar multiplication: if $f(\\cdot)$ represents our transformation/mapping/function then mathematically this means that \n",
    "\n",
    "$$ f(\\boldsymbol{x}+\\boldsymbol{y}) =  f(\\boldsymbol{x}) + f(\\boldsymbol{y}) \n",
    "\\quad \\text{and}\\qquad \n",
    " f(\\alpha \\boldsymbol{x}) = \\alpha f(\\boldsymbol{x})\n",
    "$$\n",
    " \n",
    "for all objects $\\boldsymbol{x}$ in the space we're considering (e.g. Euclidean space), and all scalars $\\alpha$.\n",
    " \n",
    "In the finite dimensional case (e.g. Euclidean space, not function spaces), such a linear transformation is equivalent to multiplication by a matrix. If we map between spaces that are the same dimension then this matrix is square, non-square matrices given us mappings between spaces of different dimension."
   ]
  },
  {
   "cell_type": "markdown",
   "metadata": {},
   "source": [
    "A few common examples in 2D are given in the cells/images below.\n",
    "\n",
    "For some additional examples see <https://en.wikipedia.org/wiki/Linear_map#Examples_of_linear_transformation_matrices>\n",
    "and <https://en.wikipedia.org/wiki/Transformation_matrix>.\n",
    "\n",
    "[Note that the examples below are all in 2D for ease of plotting/visualisation/thinking! These can all be extended to higher dimensions: parallelograms become [parallelepipeds](https://en.wikipedia.org/wiki/Parallelepiped) in 3D, ellipses become [ellipsoids](https://en.wikipedia.org/wiki/Ellipsoid) etc].\n",
    "\n",
    "For each of these tranformation we will check the statement we made above about the determinant:\n",
    "\"Geometrically it gives the scaling of the volume (area in 2D) of a shape under the linear transformation represented by the matrix.\""
   ]
  },
  {
   "cell_type": "markdown",
   "metadata": {},
   "source": [
    "Firstly let's consider a point \n",
    "\n",
    "$$\\boldsymbol{p} = \n",
    "\\begin{pmatrix}\n",
    "p_1\\\\\n",
    "p_2\n",
    "\\end{pmatrix}\n",
    "$$ \n",
    "\n",
    "you can also think of this as a vector from the origin (you might write this as $\\overrightarrow{op}$ to avoid any ambiguities).\n",
    "\n",
    "Firstly consider what multiplication by a matrix $A$ does to this point's location, or equivalently the vector - i.e. let's compute a new point $\\boldsymbol{p}'=A\\boldsymbol{p}$ and plot it:"
   ]
  },
  {
   "cell_type": "code",
   "execution_count": 61,
   "metadata": {},
   "outputs": [
    {
     "data": {
      "text/plain": [
       "(-0.166, 3.4859999999999998, -0.11499999999999999, 2.415)"
      ]
     },
     "execution_count": 61,
     "metadata": {},
     "output_type": "execute_result"
    },
    {
     "data": {
      "image/png": "[encoded data removed]",
      "text/plain": [
       "<Figure size 432x432 with 1 Axes>"
      ]
     },
     "metadata": {
      "needs_background": "light"
     },
     "output_type": "display_data"
    }
   ],
   "source": [
    "fig = plt.figure(figsize=(6, 6))\n",
    "\n",
    "ax1 = fig.add_subplot(111)\n",
    "\n",
    "ax1.set_xlabel(\"$x, x'$\", fontsize=14)\n",
    "ax1.set_ylabel(\"$y, y'$\", fontsize=14)\n",
    "ax1.set_title('Transforming point', fontsize=14)\n",
    "#ax1.grid(True)\n",
    "\n",
    "# unit vectors\n",
    "i = np.array([1,0])\n",
    "j = np.array([0,1])\n",
    "\n",
    "# plot the vectors\n",
    "ax1.quiver(i[0], i[1], angles='xy', scale_units='xy', scale=1, color='k', zorder=10)\n",
    "ax1.quiver(j[0], j[1], angles='xy', scale_units='xy', scale=1, color='k', zorder=10)\n",
    "# add some text\n",
    "ax1.text(i[0]+0.1, i[1], '$i$', fontsize=12)\n",
    "ax1.text(j[0], j[1]+0.1, '$j$', fontsize=12)\n",
    "\n",
    "# a point p\n",
    "p = np.array([1.4, 2.3])\n",
    "\n",
    "# plot it\n",
    "ax1.plot(p[0],p[1],'bo')\n",
    "\n",
    "# add some text\n",
    "ax1.text(p[0],p[1]+0.1, '$p$', fontsize=12)\n",
    "\n",
    "# consider a random matrix\n",
    "A = np.array([[0.4,1.2],[-0.1,0.4]])\n",
    "\n",
    "# tranform the point\n",
    "p_ = A@p\n",
    "\n",
    "# plot the transformed point\n",
    "ax1.plot(p_[0],p_[1],'ro')\n",
    "\n",
    "# add some text\n",
    "ax1.text(p_[0],p_[1]+0.1, \"$p'$\", fontsize=12)\n",
    "\n",
    "# make the axis lengths equal - so i and j are same size\n",
    "ax1.axis('equal')"
   ]
  },
  {
   "cell_type": "markdown",
   "metadata": {},
   "source": [
    "We can interpret what's happened here in terms of a coordinate transformation.\n",
    "\n",
    "Given the unit vectors which are the typical basis used for $\\mathbb{R}^2$\n",
    "\n",
    "\n",
    "$$\\boldsymbol{i} = \\left(\n",
    "  \\begin{array}{c}\n",
    "    1 \\\\\n",
    "    0     \n",
    "  \\end{array}\n",
    "\\right),\n",
    "\\;\\;\\;\\;\\;\\;\\;\\;\n",
    "\\boldsymbol{j} = \\left(\n",
    "  \\begin{array}{c}\n",
    "    0 \\\\\n",
    "    1\n",
    "  \\end{array}\n",
    "\\right),\n",
    "$$\n",
    "\n",
    "then of course we can write\n",
    "\n",
    "$$\\boldsymbol{p} = \n",
    "\\begin{pmatrix}\n",
    "p_1\\\\\n",
    "p_2\n",
    "\\end{pmatrix} = p_1 \\boldsymbol{i} + p_2 \\boldsymbol{j} \n",
    "$$\n",
    "\n",
    "the transformed point is then\n",
    "\n",
    "$$\\boldsymbol{p}' = A\\boldsymbol{p} = A(p_1 \\boldsymbol{i} + p_2 \\boldsymbol{j})\n",
    "= p_1 (A\\boldsymbol{i}) + p_2 (A\\boldsymbol{j})\n",
    "$$\n",
    "\n",
    "(by linearity of matrix multiplication).\n",
    "\n",
    "This emphasises that we can interpret multiplication by a matrix as a change of coordinates - our coordinate basis has been transformed from $(\\boldsymbol{i},\\boldsymbol{j})$ to $(A\\boldsymbol{i},A\\boldsymbol{j})$.\n",
    "\n",
    "Now in this case, due to the particularly simple/special form of $\\boldsymbol{i}$ and $\\boldsymbol{j}$, this new basis is made up of the columns of $A$!\n",
    "\n",
    "The transformation of the summation will then just be\n",
    "\n",
    "$$(\\boldsymbol{p}+\\boldsymbol{q})' = A(\\boldsymbol{p}+\\boldsymbol{q}) = A((p_1+q_1) \\boldsymbol{i} + (p_2+q_2) \\boldsymbol{j})\n",
    "= (p_1+q_1) (A\\boldsymbol{i}) + (p_2+q_2) (A\\boldsymbol{j})\n",
    "$$\n",
    "\n",
    "and similar for a scalar multiple."
   ]
  },
  {
   "cell_type": "markdown",
   "metadata": {},
   "source": [
    "## Some examples\n",
    "\n",
    "Let's plot a few simple examples of transformations/matrices"
   ]
  },
  {
   "cell_type": "code",
   "execution_count": 63,
   "metadata": {},
   "outputs": [
    {
     "data": {
      "text/plain": [
       "(-0.1, 2.1, -0.05, 1.05)"
      ]
     },
     "execution_count": 63,
     "metadata": {},
     "output_type": "execute_result"
    },
    {
     "data": {
      "image/png": "[encoded data removed]",
      "text/plain": [
       "<Figure size 432x432 with 1 Axes>"
      ]
     },
     "metadata": {
      "needs_background": "light"
     },
     "output_type": "display_data"
    }
   ],
   "source": [
    "from matplotlib.patches import Polygon\n",
    "\n",
    "fig = plt.figure(figsize=(6, 6))\n",
    "\n",
    "ax1 = fig.add_subplot(111)\n",
    "\n",
    "ax1.set_xlabel(\"$x, x'$\", fontsize=14)\n",
    "ax1.set_ylabel(\"$y, y'$\", fontsize=14)\n",
    "ax1.set_title('Linear transformation (shear)', fontsize=14)\n",
    "ax1.grid(True)\n",
    "\n",
    "i = np.array([1,0])\n",
    "j = np.array([0,1])\n",
    "\n",
    "# plot the vectors~\n",
    "ax1.quiver(i[0], i[1], angles='xy', scale_units='xy', scale=1, color='b', zorder=10)\n",
    "ax1.quiver(j[0], j[1], angles='xy', scale_units='xy', scale=1, color='b', zorder=10)\n",
    "# add a unit square image\n",
    "ij = np.column_stack([np.zeros(2,),i,i+j,j]) # don't need to add zero at end as we will assume closed polygons\n",
    "ax1.add_patch(Polygon( ij.T , facecolor='lightblue', alpha=0.7))\n",
    "\n",
    "A = np.array([[1,1],[0,1]])\n",
    "i_ = A@i\n",
    "j_ = A@j\n",
    "\n",
    "# and the vectors\n",
    "ax1.quiver(i_[0], i_[1], angles='xy', scale_units='xy', scale=1, color='r', zorder=10)\n",
    "ax1.quiver(j_[0], j_[1], angles='xy', scale_units='xy', scale=1, color='r', zorder=10)\n",
    "# plot how the square transforms\n",
    "ij_ = np.column_stack([np.zeros(2,),i_,i_+j_,j_]) # don't need to add zero at end as we will assume closed polygons\n",
    "ax1.add_patch(Polygon( ij_.T , facecolor='mistyrose', alpha=0.7))\n",
    "\n",
    "\n",
    "ax1.axis('equal')"
   ]
  },
  {
   "cell_type": "markdown",
   "metadata": {},
   "source": [
    "Additionally in this figure we have plotted in light blue the unit square of area 1 which is spanned by the two original unit vectors. Under the coordinate transform, as well as the unit vectors transforming into the red vectors, the blue square transforms into the light red parallelogram.\n",
    "\n",
    "The area of a parallelogram is `base` $\\times$ `height`, but for this example this is just $1\\times 1$, i.e. the area has not changed under the transformation.\n",
    "\n",
    "Note also that the determinant of the matrix is given by\n",
    "\n",
    "$$\n",
    "\\begin{vmatrix}\n",
    "1 & 1\\\\\n",
    "0 & 1\n",
    "\\end{vmatrix} = 1\n",
    "$$\n",
    "\n",
    "and hence we have verified for this particular case the statement we made about the determinant: \"Geometrically it gives the scaling of the volume (area in 2D) of a shape under the linear transformation represented by the matrix.\"\n",
    "\n",
    "This is an example of shear <https://en.wikipedia.org/wiki/Shear_mapping>.\n",
    "\n",
    "Let's try another common example:"
   ]
  },
  {
   "cell_type": "code",
   "execution_count": 64,
   "metadata": {},
   "outputs": [
    {
     "data": {
      "text/plain": [
       "(-0.23233058655027686,\n",
       " 1.0586824088833464,\n",
       " -0.057922796533956926,\n",
       " 1.2163787272130953)"
      ]
     },
     "execution_count": 64,
     "metadata": {},
     "output_type": "execute_result"
    },
    {
     "data": {
      "image/png": "[encoded data removed]",
      "text/plain": [
       "<Figure size 432x432 with 1 Axes>"
      ]
     },
     "metadata": {
      "needs_background": "light"
     },
     "output_type": "display_data"
    }
   ],
   "source": [
    "fig = plt.figure(figsize=(6, 6))\n",
    "\n",
    "ax1 = fig.add_subplot(111)\n",
    "\n",
    "ax1.set_xlabel(\"$x, x'$\", fontsize=14)\n",
    "ax1.set_ylabel(\"$y, y'$\", fontsize=14)\n",
    "ax1.set_title('Linear transformation (rotation)', fontsize=14)\n",
    "ax1.grid(True)\n",
    "\n",
    "i = np.array([1,0])\n",
    "j = np.array([0,1])\n",
    "\n",
    "# plot the vectors\n",
    "ax1.quiver(i[0], i[1], angles='xy', scale_units='xy', scale=1, color='b', zorder=10)\n",
    "ax1.quiver(j[0], j[1], angles='xy', scale_units='xy', scale=1, color='b', zorder=10)\n",
    "# add a unit square image\n",
    "ij = np.column_stack([np.zeros(2,),i,i+j,j]) # don't need to add zero at end as we will assume closed polygons\n",
    "ax1.add_patch(Polygon( ij.T , facecolor='lightblue', alpha=0.7))\n",
    "\n",
    "theta = 10 *np.pi/180 # convert 10 degrees into radians\n",
    "A = np.array([[np.cos(theta),-np.sin(theta)],[np.sin(theta),np.cos(theta)]])\n",
    "i_ = A@i\n",
    "j_ = A@j\n",
    "\n",
    "\n",
    "# and the vectors\n",
    "ax1.quiver(i_[0], i_[1], angles='xy', scale_units='xy', scale=1, color='r', zorder=10)\n",
    "ax1.quiver(j_[0], j_[1], angles='xy', scale_units='xy', scale=1, color='r', zorder=10)\n",
    "# plot how the square transforms\n",
    "ij_ = np.column_stack([np.zeros(2,),i_,i_+j_,j_]) # don't need to add zero at end as we will assume closed polygons\n",
    "ax1.add_patch(Polygon( ij_.T , facecolor='mistyrose', alpha=0.7))\n",
    "\n",
    "ax1.axis('equal')"
   ]
  },
  {
   "cell_type": "markdown",
   "metadata": {},
   "source": [
    "In this case the matrix\n",
    "\n",
    "$$A = \n",
    "\\begin{pmatrix}\n",
    "\\cos(\\theta) & -\\sin(\\theta)\\\\\n",
    "\\sin(\\theta) & \\cos(\\theta)\n",
    "\\end{pmatrix}\n",
    "$$\n",
    "\n",
    "corresponds to a rotation in the anti-clockwise direction by the angle $\\theta$.  This is called a *rotation matrix*.\n",
    "\n",
    "\n",
    "1. Based upon the matrix (rather than the above image which tells you what the answer should be) what is the area of the red area compared to the blue?\n",
    "\n",
    "\n",
    "2. Are the transformed basis vectors orthonormal (unit length (normalised) and orthogonal to each other)? \n",
    "\n",
    "\n",
    "3. Consider a point $\\boldsymbol{p}$ and corresponding vector from the origin  $\\overrightarrow{op}$. Show that  $|\\overrightarrow{op}|$ = $|\\overrightarrow{op'}|$ where the latter is the length of the vector from the origin to the transformed point."
   ]
  },
  {
   "cell_type": "markdown",
   "metadata": {},
   "source": [
    "Let's revert back to a general matrix \n",
    "\n",
    "$$\\begin{pmatrix}\n",
    "a & b \\\\\n",
    "c & d\n",
    "\\end{pmatrix}$$ \n",
    "\n",
    "and plot how the point\n",
    "\n",
    "$$\\boldsymbol{p} = \n",
    "\\begin{pmatrix}\n",
    "p_1\\\\\n",
    "p_2\n",
    "\\end{pmatrix} = p_1 \\boldsymbol{i} + p_2 \\boldsymbol{j} \n",
    "$$\n",
    "\n",
    "transforms:"
   ]
  },
  {
   "cell_type": "code",
   "execution_count": 65,
   "metadata": {},
   "outputs": [
    {
     "data": {
      "text/plain": [
       "(-0.20000000000000, 2.50000000000000)"
      ]
     },
     "execution_count": 65,
     "metadata": {},
     "output_type": "execute_result"
    },
    {
     "data": {
      "image/png": "[encoded data removed]",
      "text/plain": [
       "<Figure size 576x576 with 1 Axes>"
      ]
     },
     "metadata": {
      "needs_background": "light"
     },
     "output_type": "display_data"
    }
   ],
   "source": [
    "fig = plt.figure(figsize=(8, 8))\n",
    "\n",
    "ax1 = fig.add_subplot(111)\n",
    "\n",
    "ax1.set_xlabel(\"$x, x'$\", fontsize=14)\n",
    "ax1.set_ylabel(\"$y, y'$\", fontsize=14)\n",
    "ax1.set_title('Linear transformation (general)', fontsize=14)\n",
    "ax1.grid(True)\n",
    "\n",
    "# plot some larger axes for this image\n",
    "ax1.quiver(2,0, angles='xy', scale_units='xy', scale=1, color='k', zorder=10)\n",
    "ax1.quiver(0,2, angles='xy', scale_units='xy', scale=1, color='k', zorder=10)\n",
    "\n",
    "# basis functions\n",
    "i = np.array([1,0])\n",
    "j = np.array([0,1])\n",
    "\n",
    "# transform them\n",
    "A = np.array([[0.9,0.2],[0.6,1.1]])\n",
    "i_ = A@i\n",
    "j_ = A@j\n",
    "\n",
    "# plot how the square transforms\n",
    "ij_ = np.column_stack([np.zeros(2,),i_,i_+j_,j_]) # don't need to add zero at end as we will assume closed polygons\n",
    "ax1.add_patch(Polygon( ij_.T , facecolor='mistyrose', alpha=0.7))\n",
    "\n",
    "# some borders\n",
    "ax1.plot([0,i_[0]], [0,i_[1]], color='r', zorder=10)\n",
    "ax1.plot([0,j_[0]], [0,j_[1]], color='r', zorder=10)\n",
    "ax1.plot([i_[0],i_[0]+j_[0]], [i_[1],i_[1]+j_[1]], color='r', zorder=10)\n",
    "ax1.plot([j_[0],i_[0]+j_[0]], [j_[1],i_[1]+j_[1]], color='r', zorder=10)\n",
    "\n",
    "# add a point\n",
    "p = i+j\n",
    "\n",
    "# transform it\n",
    "p_ = A@p\n",
    "\n",
    "# plot the transformed point\n",
    "ax1.plot(p_[0],p_[1],'ro')\n",
    "\n",
    "# add some text\n",
    "ax1.text(p_[0],p_[1]+0.1, \"$p'=(a+b,c+d)^T$\", fontsize=12)\n",
    "ax1.text(i_[0]-0.3,i_[1]+0.01, \"$(a,c)^T$\", fontsize=12)\n",
    "ax1.text(j_[0]+0.025,j_[1]-0.1, \"$(b,d)^T$\", fontsize=12)\n",
    "\n",
    "ax1.set_xlim(-0.2,2.5)\n",
    "ax1.set_ylim(-0.2,2.5)\n"
   ]
  },
  {
   "cell_type": "markdown",
   "metadata": {},
   "source": [
    "In this case under multiplication by $A$ the basis vectors transform as: \n",
    "\n",
    "$$\\boldsymbol{i} = \n",
    "\\begin{pmatrix}\n",
    "    1\\\\\n",
    "    0\n",
    "\\end{pmatrix}\n",
    "\\longrightarrow\n",
    "\\begin{pmatrix}\n",
    "    a\\\\\n",
    "    c\n",
    "\\end{pmatrix}=\n",
    "\\begin{pmatrix}\n",
    "    0.9\\\\\n",
    "    0.6\n",
    "\\end{pmatrix},\n",
    "\\quad\n",
    "\\boldsymbol{j} = \n",
    "\\begin{pmatrix}\n",
    "    0\\\\\n",
    "    1\n",
    "\\end{pmatrix}\n",
    "\\longrightarrow\n",
    "\\begin{pmatrix}\n",
    "    b\\\\\n",
    "    d\n",
    "\\end{pmatrix}=\n",
    "\\begin{pmatrix}\n",
    "    0.2\\\\\n",
    "    1.1\n",
    "\\end{pmatrix}\n",
    "$$\n",
    "\n",
    "What's the area of the resulting parallelogram ... it's the determinant. Let's confirm this.\n"
   ]
  },
  {
   "cell_type": "code",
   "execution_count": 98,
   "metadata": {},
   "outputs": [
    {
     "data": {
      "text/plain": [
       "[<matplotlib.lines.Line2D at 0x19955b1e080>]"
      ]
     },
     "execution_count": 98,
     "metadata": {},
     "output_type": "execute_result"
    },
    {
     "data": {
      "image/png": "[encoded data removed]",
      "text/plain": [
       "<Figure size 576x576 with 1 Axes>"
      ]
     },
     "metadata": {
      "needs_background": "light"
     },
     "output_type": "display_data"
    }
   ],
   "source": [
    "fig = plt.figure(figsize=(8, 8))\n",
    "\n",
    "ax1 = fig.add_subplot(111)\n",
    "\n",
    "ax1.set_xlabel(\"$x, x'$\", fontsize=14)\n",
    "ax1.set_ylabel(\"$y, y'$\", fontsize=14)\n",
    "ax1.set_title('Linear transformation (general)', fontsize=14)\n",
    "ax1.grid(True)\n",
    "\n",
    "# plot some larger axes for this image\n",
    "ax1.quiver(2,0, angles='xy', scale_units='xy', scale=1, color='k', zorder=10)\n",
    "ax1.quiver(0,2, angles='xy', scale_units='xy', scale=1, color='k', zorder=10)\n",
    "\n",
    "# basis functions\n",
    "i = np.array([1,0])\n",
    "j = np.array([0,1])\n",
    "\n",
    "# transform them\n",
    "A = np.array([[0.9,0.2],[0.6,1.1]])\n",
    "i_ = A@i\n",
    "j_ = A@j\n",
    "\n",
    "# plot how the square transforms\n",
    "ij_ = np.column_stack([np.zeros(2,),i_,i_+j_,j_]) # don't need to add zero at end as we will assume closed polygons\n",
    "ax1.add_patch(Polygon( ij_.T , facecolor='mistyrose', alpha=0.7))\n",
    "\n",
    "# some borders\n",
    "ax1.plot([0,i_[0]], [0,i_[1]], color='r', zorder=10)\n",
    "ax1.plot([0,j_[0]], [0,j_[1]], color='r', zorder=10)\n",
    "ax1.plot([i_[0],i_[0]+j_[0]], [i_[1],i_[1]+j_[1]], color='r', zorder=10)\n",
    "ax1.plot([j_[0],i_[0]+j_[0]], [j_[1],i_[1]+j_[1]], color='r', zorder=10)\n",
    "\n",
    "# add a point\n",
    "p = i+j\n",
    "\n",
    "# transform it\n",
    "p_ = A@p\n",
    "\n",
    "# plot the transformed point\n",
    "ax1.plot(p_[0],p_[1],'ro')\n",
    "\n",
    "# add some text\n",
    "ax1.text(p_[0],p_[1]+0.1, \"$p'=(a+b,c+d)^T$\", fontsize=12)\n",
    "ax1.text(i_[0]-0.3,i_[1]+0.01, \"$(a,c)^T$\", fontsize=12)\n",
    "ax1.text(j_[0]+0.025,j_[1]-0.1, \"$(b,d)^T$\", fontsize=12)\n",
    "\n",
    "ax1.set_xlim(-0.2,2.5)\n",
    "ax1.set_ylim(-0.2,2.5)\n",
    "\n",
    "# add some lines\n",
    "ax1.plot([0,p_[0]],[p_[1],p_[1]],'b',lw=1)\n",
    "ax1.plot([p_[0],p_[0]],[0,p_[1]],'b',lw=1)\n",
    "ax1.plot([i_[0],p_[0]],[i_[1],0],'b',lw=1)\n",
    "ax1.plot([j_[0],0],[j_[1],p_[1]],'b',lw=1)"
   ]
  },
  {
   "cell_type": "markdown",
   "metadata": {},
   "source": [
    "Using the  following notation for the matrix entries\n",
    "\n",
    "$$A =\n",
    "\\begin{pmatrix}\n",
    "a & b\\\\\n",
    "c & d\n",
    "\\end{pmatrix}\n",
    "$$\n",
    "\n",
    "the area of red parallelogram in the image above can be computed as the area of the large blue square (which is $(a+b)\\times (c+d)$) minus the areas of the four outer triangles, each of which can be computed as half their base multiplied by their height (the latter of which is easy to read off for each triangle as the distance from one of the horizontal or vertical lines). In the formula below I've started at the \"Western\" triangle (which has area: $(c+d)b/2$) and proceeded clockwise.\n",
    "\n",
    "\\begin{align*}\n",
    "\\text{Volume} &\n",
    "= (a+b)(c+d) - \n",
    "\\frac{1}{2}\\left(\n",
    "(c+d)b + (a+b)c + (c+d)b + (a+b)c \n",
    "\\right)\\\\\n",
    "& = ac+ad+bc+bd- \n",
    "\\frac{1}{2}\\left(\n",
    "bc+bd+ac+bc+bc+bd+ac+bc\n",
    "\\right)\\\\\n",
    "& = ac+ad+bc+bd- \n",
    "\\frac{1}{2}\\left(\n",
    "4bc+2bd+2ac\n",
    "\\right)\\\\\n",
    "& = ac+ad+bc+bd- \n",
    "2bc-bd-ac\\\\\n",
    "&=ad-bc = |A|\n",
    "\\end{align*}\n",
    "\n",
    "This is not the only way to do this. Firstly we could have spotted that the area of the two top-left triangles is the same as the two bottom right by symmetry to simplify our calculation a bit. We could also have split each these up into one rectangle and two right-angled triangles.\n",
    "\n",
    "A homework exercise asks you to demonstrate the same thing using a [cross product](https://en.wikipedia.org/wiki/Cross_product)."
   ]
  },
  {
   "cell_type": "markdown",
   "metadata": {},
   "source": [
    "# An animation [*]\n",
    "\n",
    "With this knowledge we can create some interesting images/animations - a simple example now, a more exciting example displayed at the start is a homework exercise.\n",
    "\n",
    "For some pointers on generating animations see the discussions here:\n",
    "\n",
    "<https://jakevdp.github.io/blog/2012/08/18/matplotlib-animation-tutorial/>\n",
    "\n",
    "<https://matplotlib.org/api/_as_gen/matplotlib.animation.FuncAnimation.html>\n",
    "\n",
    "<https://matplotlib.org/3.1.1/gallery/animation/animated_histogram.html>\n",
    "\n",
    "<https://stackoverflow.com/questions/16037494/x-is-this-trailing-comma-the-comma-operator>"
   ]
  },
  {
   "cell_type": "code",
   "execution_count": 2,
   "metadata": {},
   "outputs": [
    {
     "data": {
      "text/html": [
       "<video width=\"576\" height=\"576\" controls autoplay loop>\n",
       "  <source type=\"video/mp4\" src=\"data:video/mp4;base64,AAAAHGZ0eXBNNFYgAAACAGlzb21pc28yYXZjMQAAAAhmcmVlAADI521kYXQAAAKuBgX//6rcRem9\n",
       "5tlIt5Ys2CDZI+7veDI2NCAtIGNvcmUgMTUyIHIyODUxIGJhMjQ4OTkgLSBILjI2NC9NUEVHLTQg\n",
       "QVZDIGNvZGVjIC0gQ29weWxlZnQgMjAwMy0yMDE3IC0gaHR0cDovL3d3dy52aWRlb2xhbi5vcmcv\n",
       "eDI2NC5odG1sIC0gb3B0aW9uczogY2FiYWM9MSByZWY9MyBkZWJsb2NrPTE6MDowIGFuYWx5c2U9\n",
       "MHgzOjB4MTEzIG1lPWhleCBzdWJtZT03IHBzeT0xIHBzeV9yZD0xLjAwOjAuMDAgbWl4ZWRfcmVm\n",
       "PTEgbWVfcmFuZ2U9MTYgY2hyb21hX21lPTEgdHJlbGxpcz0xIDh4OGRjdD0xIGNxbT0wIGRlYWR6\n",
       "b25lPTIxLDExIGZhc3RfcHNraXA9MSBjaHJvbWFfcXBfb2Zmc2V0PS0yIHRocmVhZHM9NiBsb29r\n",
       "YWhlYWRfdGhyZWFkcz0xIHNsaWNlZF90aHJlYWRzPTAgbnI9MCBkZWNpbWF0ZT0xIGludGVybGFj\n",
       "ZWQ9MCBibHVyYXlfY29tcGF0PTAgY29uc3RyYWluZWRfaW50cmE9MCBiZnJhbWVzPTMgYl9weXJh\n",
       "bWlkPTIgYl9hZGFwdD0xIGJfYmlhcz0wIGRpcmVjdD0xIHdlaWdodGI9MSBvcGVuX2dvcD0wIHdl\n",
       "aWdodHA9MiBrZXlpbnQ9MjUwIGtleWludF9taW49MTAgc2NlbmVjdXQ9NDAgaW50cmFfcmVmcmVz\n",
       "aD0wIHJjX2xvb2thaGVhZD00MCByYz1jcmYgbWJ0cmVlPTEgY3JmPTIzLjAgcWNvbXA9MC42MCBx\n",
       "cG1pbj0wIHFwbWF4PTY5IHFwc3RlcD00IGlwX3JhdGlvPTEuNDAgYXE9MToxLjAwAIAAABZOZYiE\n",
       "ABD//veBvzLLXyK6yXH5530srM885DxyXYmuuNAAAAMAAAMACA6DWJmvNLXEhUAAAQAAGmjK/EY/\n",
       "K4AE/DHgV9husEWg72Zb/4LuNd+TTSJQGt+MIub2Jai6wlsokco/lOenGwojt3sbh0cvza3ROESX\n",
       "Rk9m/1a0uf2aJwNOzWwIEWGkHzkYlH+Z/SH6MXMwWowKQ4imojXHTNnsWIoaTGkPt2vgi4gjJbbn\n",
       "EXkDNtMd1C0SdCRWAT54lg6bC6YreEDJ/QmGZSimeMwBjaBKOsCQj0YsMjl4cm8bDhjsBFMrFGU0\n",
       "0MaWg7D/aFGv4Aj8iugi4SC1J+Pl8QRobaVB/dPrkoOq5pAuPb5/G0edRo9TwwoI8DeWtl1sx/AK\n",
       "2xuEYQpVvlfjePGNpK4/Hs7yL6wizTj8xrOo1IHttka/JYFZjy6eNxvhUnXO/ptmBs2wfa2q/mc4\n",
       "JVwwUUnwFs4e8+vFGQKE2+JicREP1iM9IOgfqbOZmoKZ8ivf+se8HlhempGyXxgG0oRqTw/rmGAv\n",
       "gY56jclu6Rax8gl/K1UxXBzoZ5dpcvXeWhBFui6iqJQBY9AnJVFVwl2qv+YwkrYBw4lRhnozl/EU\n",
       "47OjO26yDgY1Wx3yD+qgoSQSGLPi/DgBTeZ6oOiRp+P454mYK85LHNDygPyolhX89Wdd0sNfPvTt\n",
       "0a4/60hHhFlDt9LTv0nr6t/rb626f7d1CkaCTV9vtwGdiCAPl2G4JeAwHBVipVFT6QWSKQ6XQwKS\n",
       "4jMODPyh1VWs3UZ68RDYKxq4cIW8m4jYfdt+U+CBbaa37CP8e2aIFMwt8bJ7kpdjjAo1t8sQj7sj\n",
       "HMLN4O98s7Aaox5uQI8q6AClAYEipSthDAtksNOZwSUMSK/ObAzxWIRUEseh9y9xsTnE/cy8qB5h\n",
       "+Yy/HfWui9V89J7833z6ZM9SkpuFD6pMeVPF+MnbKIUXglkmWAhkT1JAYMQ9CUYQWdTB3l3qMls1\n",
       "8fp+9sZ+UhvhWPuCcZ9MkLtfopnfGhn+WpDrljvYJhcffkfs8T4gJuk7FVZbO7gBvXUBHWZaPrv4\n",
       "MFMPgN7eslf9Icfu6mZd7T4BLwOUtSojWeLT3yuM5ymOfmym9VWOYsHuNc+/PF3oSTCiC0l9Vd8z\n",
       "Q7OoMsEzaEwW0KHdKWmnILUnv3m5VAi7cgpAoL+XhpRHNtUA3vdgKOXmAiBFE9T6drftWpxSzrKx\n",
       "NUKIh2YqsZSe9VMY/Zzuu7e39y0arWWj26eFe4jGViV0Jm1KL63W9ceMMxHn6tUcgQkCpPBouK64\n",
       "+rfmXXeXiHioX38TuM55K5ZNSH/HEJZRO3qmloKZK6crbGfJtE4hZl5E1T5e4idEjE8M/iLX4Vl9\n",
       "Ix4Q2Ryep7zZLi2D8GAL1FOxbJPZ8IeVpcFS1hLli6Aap17b9YtRdlPauHSOVESYjbJm0hZx0sb9\n",
       "T6mno7jA4qLId9paUUGgDcsmDj11uPh32kzyAahR/JNTU22sdtWxtZk5uHhD4OYDPspji9bCZn2b\n",
       "qKGb8dsKpe714XP4ey6nkCQsfmZNWw1KqkffGvPAbjfrteQfPKbps9L3D3uLUkDGAWVyqQnMhb7O\n",
       "n5hZ2u1II0jHXqI9civLio2Jz4lVGgCXGNF20dAAcsqKtsjAuSqxkqmDObcynPu/lpMy643LphAm\n",
       "rJMNOkHOyRs3AP1NVVMjExOsULDzgg+BtJ0mJ1XxsBuj4/u5pXXwDhMDHUfFFCpECsrs3khLx9Ut\n",
       "f5EjJYw6L1se6smaFBiWmFLpJDdNBgF/xCLPBLdBejuKZZHI9qK+hp+RpIJe6cohL+XBUNC0sqQm\n",
       "fDQtViTL0QbrcD7gJTwAAAMA754JKAAAC3WgCERoeQbpCQU9QBP8yVE2I0nuAMrQ96QEuSNHpq9/\n",
       "lvvGLJ8+YfFrVsOIa2T+pnizEo4FLxT1caBzNUXwl4vufclwvBdxoQVpW3+rkdMYGWQVcGAZ9Cpz\n",
       "ZlD4FUvbJ7s3ewrgmgwXr3940AOufcXsgDtupgH/nkHvGtw7tZ/iWl4O6a4oIgvAZaA+XsuY1ZqF\n",
       "wHmvBCxWLJkanWeg2+rF/D9jaTIQeOLDnUNCo2zu2xnqQqLQx6ZGPxCrHjteKayrfDvv5DswK/wh\n",
       "kckyP+qp0y0aIA8X3N+Twi6YKbtYrraf7uz9LLvEZ5TMCQSvtzqGE6gBG0yxq7EOXPyIW+0ykUvg\n",
       "2N38GULUnUMSZcosyoyVh5LfYHHDwDeytfE5CwXZAdn5FQwizcofJPpITWXSJn8xA1DkRDTH5fnP\n",
       "jpDhkgZRXwpTxrZRBezIW/Rk+z3i2hYG8b+SgaC8oi3eYuHRD6aMFKCnQavEamMz8qm872CCwmv/\n",
       "9+MB7Kd5ZX16pmDma78As7FnHXbIx8qE8mCLnGzwMYaNNX6sD4qSF6ogdlsIs2/TRhsjoS4T2AP+\n",
       "+2gAAgKEGBu+A5sR7MT3GKveFEB/fVYr/DzwBBdkMfKJpNsvwLJNeahcDAFuDDoy/2kFnoZg/n+X\n",
       "GJPi7UhC1R32hztIq10GH+YhYkmlBHK4qR74XAqKHnu+sYFYkQg4TlEoADhVoNEAU8AmvCDooy3D\n",
       "+ktb5WLaQBDP2iwraaDtj15INRb4k31zM8z/vRsmV/RPoPa8z/ylIcwv5vxwUqmVDJcOmv9Xb/tU\n",
       "JWvGBUEBJ3dPbSCccHqR8ezEmMl3a4QMkxoAMQND3skA4bGlQXSiuYr9Wrb38IbYp+arhTkzysuK\n",
       "O1+sSAD0PcCpy/ed6ikRFzM0McOiRAUfFQkXQWXWSzeFHzJZvos3YnsgkTDIyYeQOlnZ7LwGLEOE\n",
       "46Sbfd5NQYEzArJU9lr6uTGLvc7RX1/oUpueqK1R1QKq+HEqqCo5K3V9GEeIkPef0w/zAeW425dJ\n",
       "muOBdl5RTawxeKw0xniAIUGtHsceOCVDRSiMU+/txRSNZ6UICQXcQdqgwyBwIWCG8Cz3zr928sgv\n",
       "X/5urqhPwG4CVexO4iwwgnseRMtzfYaxnCsXI+W9mNQrKdXvZbERB4Pr5U5ph3+v+Q8V4hhDLgBV\n",
       "adsr541Kv+VQIOu5rTefNTAohVyifoVxuuPZLGeRnrCDYmd5vOjEKvBrkNGQ4yDpNvWW9OyZ1anu\n",
       "ptksnaEesAZhjSLWGg4qngg3/+HAUehmiWK0zrm7hljhTfgTn2I4QHruqoxQ/ox5lVVHC+qG6zmO\n",
       "W354fbRQ3kgckz/7S6CM/L4g4dTSHiV+L2cR0xBYGjXTVAUoFpOq7kWYW+UbIwXvrE4eF+WQWXJ3\n",
       "NubVHfK1nHYQZFZhjALSGVkh1zjsdaK831ZuAcgaZxmFJJt7IrYFJI/E602z4ihmD+10PcE3u9I6\n",
       "68PBZv89Rmq16vE9VnRcixgBFBPCs8uuN446utH2bVbXpgraC5O/q8aS6woB0QeGg179ummR+nV3\n",
       "ufbpzXLgY1jFT7yAgs7LwhKgk+HOhlHTIs4WunIhBejP1damLr4QV9CBkDxi5sPccsutSHPJAt7T\n",
       "M/fhLX5U1ktAhazH3xmCpARGKbAYW6jnaOIw1iXSHH4ogLyFbp3lT7wLr1lKgNLrwPz4pjp99WZl\n",
       "Bi0Ln3zKsFIE2xbmFcf8tWS60z9MjaC3yfK5AubWDYJWoeeNJwuragdOs8hJ5Rcc9OoH2ZG3PuP3\n",
       "bI8KGxlz9MQRQTrslSG+/IBTl97i0LLhk1WVNCuk6HK+d1f2KUO2NtNRJlu0JdDXt9zO3bZNMb4/\n",
       "SbJ/aUXOU0+0KDEVCGBaECqwMBDWTFjYjoPoMlGG5U8dDAoMB53MYf2jUsgWB6GdyNUgf4LxgYLN\n",
       "Tizxi098VL+gW2pR7HnKULbH6xGeSAYEYoxbthfxAnQaaXceVBgvBqzZJmposd18M+m4qe0VAFvX\n",
       "USV7zKI5nRHRRQ9pFMJZGBc4X+8J/XWc7MEHqRS/5mnJxa8ztoId2pNJrpfBdwPJVZLvPkX3JE68\n",
       "SoniZz+InruyaEH/OH9SlRp/IRNwF7lNM26OedbxtC2/RDM753zmIr0xbng+JYmJQLfDP5Arb6Pe\n",
       "PorkjY3di+v0JPL8yYl1cPDisVpL+lobzTaf9iunDrVnKHoyfWRvPi29OfZM6rzywAjS0KOv79nm\n",
       "iS27ZYi9AIsd6h8smysQ9WIE8+amFskHVPMyWrxa6TbH8KpkJkFCn9XrHBfMCMXdlW/Y6tA+o31F\n",
       "/vlOBPAI+uRZAOeNoOExDqp9IfGf7f74VY+P8secPlQhxZAAsvhoFBOLgBAyGLOAazBwWNeH4k+S\n",
       "jZHy7IUO7DXneLUHXvhfXqVf/oAFuGcv2PgX30cDOL/WGcXkXNTwVItMHE8N2NFuDvjXSOvcZoEB\n",
       "NJZhIedAcU09uwSVhdAK4bYkn4QC5AaQ1k/xpOZU2MGIHXkkW33SNkar/tVqtC0HVUFDnSPFQE7m\n",
       "670szLo3pamrpn5D1kRHciAOnk/U/9uKOHPQ8O89pw7F4T13o3zSbXKQ8qF0Q4s46L23+dIb+u2u\n",
       "qjav7e8P4QeWTnpJR7ngFxHpD1Nf2aErvC/Qy19fWJUf5x+frsoq72gxdfCSvM+QBv/k1GIxNuHG\n",
       "0ns8M6uyOyZjP4Vk7Z7LZLezLpiV5dIlPMsnQNZergJkj7bFcZKGmSqn8YwLp8qwcofOfOBXfZjB\n",
       "2y6ot2OJ9+4zniy3D5dl4ST+Vgp+zCdb58PCbRazAklJ4dQOVi0f5dnmkVpsQt2On25S2VwVZ/91\n",
       "oe5PjW5oY3+Uolz/pi5kzb3LicWsTy5Pckut4Lgl5oJae//P9T//sHN5nZXWMeDfgv+vLXuO+i+8\n",
       "xCQATpzkgfzt2bVCCD6iBLWcrp/hv13Wo3AoCSy9vUJkS2Rh6Rub160nSTxMgDGJt3aGHixJPqEF\n",
       "Up0kifvgkshptmFrVQ+LoQznE7Dfxaf/nJE/oPGPg/rcDV0ARwiFpHXQANBGyINw78qbuoblRx5O\n",
       "nM9rk89Eh6ktstmfn3ruH/wmHFs8Rrsjkru+UWk5ZTiopoRMHw0o7z8LvSluSQpbJu5kvGTjpPYW\n",
       "FVPKWqyyBpK0M4PjuAzymHymrC/CuWp++hvaYnVHTKOrmx+D6btew2HxsDUCakcmumSZS5qRjaeS\n",
       "/BiW0Xj7/anSrDIyF6JBC4f1w9EAcwFj6zn864MQqK8thge6bISewxeqSKNmK/4QMm5ki5XyL0Dh\n",
       "7CUvVUN3VmMJpJG3rI2YcIXr6Pt6VXJ9F6hfvnMtk3WX6RdydTVLUwPGIfpKyPvIjU9AVGUcH0Za\n",
       "FOiqt34/3O0FMkbfTFQquTXmanpeepLwt6OBgHqti+gGvq3HQfG5DcGCQXOCSqIS2fwKWzKBt3GI\n",
       "gdznDFDPlE0roeFUnCp18l2J7j7zz+PLMd8J//8PiAParGPeSijTOUDHHjfVOuBcn0Y5Oxe1SdMA\n",
       "nTTwzaviHNtff2RIm57o0lTOQZmAGDfwVP5F4jLf5IEOSuxwADV6hcfoFBvP/vf+84GItTZP/D+x\n",
       "duailzBdHUE8oU18AWUgJpdZJxwifi3lAJEK6a4BRN57CVwCdB8QciJ03jhRgWfZRpaZ/pN3KJXB\n",
       "kO0vK01GSX6t77KyyqQe/OUArB6KhZUQA44g68gjbf6er7VYiG3acVDKHZBM5HTiUT2+IswDgvht\n",
       "JZNS6FhoPyYCJ6yMUQz8mtRQc68MgXG+YgCqAAP/pql8GDQIspvt7QOuWEs9m3j6EobkM9alr0H2\n",
       "uzCtgr4SlrKbhsVNmKZqUlbUPjN1LTmKNZ//ICuHf/1mYeA7ZjL0MbgUkc5jb/NMf3fwZ/Uegdkr\n",
       "JVoWuVELKJIk53aLW0wWioNtjb5Cd0jrRG/IT5wnpauZgOKOQ+7ali1tt6+b/L7AUdFEWrjrRnlx\n",
       "5q+yyzV7+RikX7ZzuC/AuP8ABrio14P/nRCd+Ylr+dUDXkg6RF4fbW+R6wEMu4kKGZCBC1436AB6\n",
       "urx6QWAsBsQ4C6RJB+abeC8Kn1KDLAWvlCWelFUkyRXCkidLpAMINAJt8CrfhRCMVfjEeT6ApcNN\n",
       "rFS97crOaSWxY9MHSQZHlC571bVNxg2I/FD6wAkZLD/K21BlGIcRjluTOaFjBjmhw6yaBjyq7vhd\n",
       "CrkCgTM5ad3c43NkgwhOPFOkXJOvSclOfktD/ix10z+tgFj6lHFuBFadXy+wiRKkw32JNH8n9KLo\n",
       "hySuOuSCp9PFrCBby4njuAjj+qKbjJ5WaPuuagGBxfFAGEHcwvwb+DvH6PxqnrpElJUjxjWIc6Ij\n",
       "DPXqC3IEPiaWPWSouKoJGrQIAQt0HrqEtjj0N01mPDVU/tJ0asNMXbI+/6Wp1mzyH8DYQ9iZP0t4\n",
       "U1IgVv6oDPTlKYS1pmq5e2hNzELwqtPTc6SAHryfSL8uQ8/crkVBbEnv/6yreXQl766ZGQ5V8+3k\n",
       "hcDv59vgHuePyjxDInoARbkWGtHEXtKjj3D3dtdWGSlAKqJPZT+Tl8aG/6n0v6U6qcmR4AMYR+D8\n",
       "CXH9+sPubYtXy4j99ObcTEjgDhYeDkH0oEWS1g6IJQa9PoJ1VXt+ohKlk7H/WAxMoWw6o3d0jX1I\n",
       "TkFKwk/WlUKm1aWM5v3hb0Cul6TdjzN3y2ujYfo7FYjyDBzVXc2BKPxaQe9zn2ffCGm6AR/fhEX6\n",
       "v3EeFERFYMsbtb+IUnwuT9q+OMm6546NRDPIh9vrwJ1hfHtAbF3P1i/9kMKyE21x1T0X74NkU2qP\n",
       "z0vOKGuA3i1SXfcGi80FrpxPs8CLX+9qfPv7tlIOKfoPcxk9EAWC4JWz7a3lewCe2G7NHaBX5dK5\n",
       "X0B7XnEzqdZEVRnHYnVr1ilyoCfL8U7lOBhqsCPjNWwYi+nacld988CfR4StZbEcKO1sUVZfRLGM\n",
       "esqP3pnDBeZpCuAMvlzPzhYAqv1AUf6aITTCcPH1AZYBLhv7aoC/9MgWYoiCzpMwHKyHz2ltXJHZ\n",
       "oi9tGRlY4bkysi39aNn9xP//0Aih0pxjlYxWrDD2ofymg87Gz+OvI2sv+AuN7c9Jix0lkd2juc2U\n",
       "h0RO0XNcSmT23xU2a9P4+qocRuV0nmWNHEZS0fc7OsWDgnFiDMw9SZRUnWxQXUGR873nvJORA0fQ\n",
       "eavZfswvemvHbQs+cmAjs1qPJmPXrcP3lvy65vvJJhuqM6BiKD9fxPfVifAs603MXOnU8NAlFKrZ\n",
       "ddfb5DlwkZgTx+EL5j8U9TDP7Q751j324Vv0quyRUMQpkaR9vQJnhHUmRFVcEEgptJuOKpS5LD3t\n",
       "3fh3zX9L7C0DonTizMUVbAHbwQv7jXWG7kzymjgvGJV+ndCBklRhsB0pRrpk6tr5Rsl5tSFLpEFM\n",
       "C6v/jIClTVnSoXha8xe7Zbbgk0eukzgkMTLaLxjSyE3yPUXDulkIrPWkM+eRetU1pjMOSC0mSBoj\n",
       "LrlAGO2UmIe87Dg+ZSuZO2uibGNRrao+aX2mQ+BqXyTIQUobCpvNFrd7kdM5RjEiGL5SbNNiQVT6\n",
       "W5gBYBsnM93Cb6Y8hFTefCsn7gAtOerBAsqDvZ9IB0uydedTl5nXggGVOgAcgqGwQc3hGnmDFOZL\n",
       "UEwObOHxOiXwoRZaL1KvTtw8QRzrPPOTM3Usz5BFAM5lf/iMgLC2V84TgL30yfrcQiyIfcYQHwAA\n",
       "AwAAAwAKiQAAC0pBmiJsQ//+qZYAAAMAHU90qN1/9hwpUi4fzeCheRK74s8R/kO6g2fy8Fg42hzx\n",
       "dRZIkm67gup0MMUnnG4X4cNQdVBYE5SvQBNYcFpc0s2xf8KY9/fJ+i52YDDzuLbLoDD7r9UTsYTz\n",
       "vPoY4aSwLXYWGt6leYV2ImX8WCEO8VJ6F/Vg/sdcGO9inPYB1cczx6Vw7G7UJutfVLwVwAk2YaZF\n",
       "dYodO1Go4vKseDjYaobeIpxEVyrefbt4Fj9diAtrZy4i5+/6h2pzpqsClAxUGTeo56OJSyiSVsOn\n",
       "UFE7EXrpUoqyZKfDOh3uGm7A76pFvNBTzQNeQ+H2S2FHWidrX+cOol3ii3Sb6/62J+Sj6M/UFUdy\n",
       "gOM71wKugCsm3TGvjW6HTt4oA+xIZhfVP3rwBWgsE278OEg7gDhADxz/3u7pyK2mQHK52voCLwXg\n",
       "IPM5piY3IjYEE/HM2B1S3ggBSyKMQbV0uLH3VNarE6LDVzxedWLVJUvo08zv/5P/IUdsd0293qQQ\n",
       "29q25ouvwwz7blSQ1Ec4sOHV60SNMgwgvI7euWEl7n4pTV04h/zqffzTSg2Ad2AO3826l1U9gD5F\n",
       "lPO05UCEC2MI2juQ+6gMBuOYheMBuNIq6bwBOILaF47bekvurETFEZbWT7iB4drVKB00AKzIaEqZ\n",
       "cm20QnpzJqpfrrttsJj8pmFIVyVbaFGkt5VzX1Tmr2ymZ/akm9GMhw5ZNJonD4L5qN/pQto48GsX\n",
       "n+D2f//Qm29pa7S9fqGr4ZfYDyb7xAJTGL3exiDs0Xz58yi2RD8ZGSk/CDr73h7NZND12Xib8A/M\n",
       "CgNixJOVIMwGgXVjrhE7a/4T9OfuM0rlbxGp49/vhU8D65rktYlweZhhpHSNEOMKyvAUTOl3CZr4\n",
       "UWaA5iEcBo3TV9Xru22ord34l45K73VoxqyDoMM/1LWl2hlJnJ3b0eER56/Xz3TwAMLxKT/hI6KQ\n",
       "sL7IoYJFJwwR4Cj/fF7apHvfPawKXuYdVwImJG1FOqWisMFQc4ZLDbrgR51wo25J30we8xGL8sbo\n",
       "9/s86ND3fIZAzwAtuix/ys90KR5c/FAOyqBbJRdp/En1PVVJFr8NpA3ysfVjeABk2njGxtZR4EOO\n",
       "whljIXOBL/2vVGnTQRDet0EAEOnFK+loFpDp+hQYJCNkJRnKRPKkjXl/Gpir8ViYps43bmRCfSFq\n",
       "7rKM4uJjfO3z+0XdXKjsHwIExYFED1rKRywVdvuUnXQlU2nlGmTEWX8TldMRLiHw594HbGxB2Hij\n",
       "sLFomfLX+si0ergf/o1ym93D0ubrz4A3HjtCipFXT+d2f7HncK0GgLi2gaTzM1Led627YC9aO8Db\n",
       "a58+pR4mp7kZK6nZLNxdWYyKUAP2lq35oxWURIMQNJWv7m/eYmQZnNYuG3Wk+jPacYhzI9jyHo8/\n",
       "7GR6pfXErQXXrubigHJF2kbQrKReh97D9C67mGeVfWMhWN4ArR/3pB8epzpzaMeK46wmMV8wnaJ1\n",
       "pJOkVOv5rAmB3Mgq/OwzLRecuT+W7osZxOCRwjTfTtsiHMMw3JettXP46Iv2kIC3S0fH3joC8w2j\n",
       "Lf7gKyuy5AN9T9PU18kIad0E2LMM18yXgBZSmFmxw+GjcsmtmR1fwYdFSli6YJWgweiLWHOr4T1n\n",
       "P5vS5XVGW9VMYHmXSHOfI0OWR1g5iFNjwIebicMn3eBcJUCXr/cTKLT+qQBAZ2SqKe9TyoLNS0Y0\n",
       "X839J42PN1ivTneD5+KHK1B6qtyBW8vaNbXVCUmDU5AHn0Xdfhhl5h29ZGEU34YkU7dPHd+3VzNK\n",
       "BPKLamWt7Tsfw0glF5ZzP0DHiRGnklyoorA/MXmlBkmN3msLKRLR3lEmH2zEYau7kGBzak2ZoOtR\n",
       "VyvUEo/qaQMe4DnpsJYI2in4BDvAFVTggSlt4lyTF9WnH10pkOyi1X2bYxSKxUzCUaA3RLYDyAhk\n",
       "A90n6kNyZ2dFYfC6Jyi6CuszzRRo0ScyBZzPD2L0OlmVIjulMYJXSHLsNK5t7aZK52RuefNg/uAN\n",
       "H1gh8cB4MSyDMiK/bYFHv4bgMqb5bNSGrq7bWEaUppIGSYrBGePw5cyTdMHp2y2lBFB/ys7Whzn+\n",
       "EATyNsNhK6bDHFNiBGc3Ti3uQs2GlffaAPiv31cvrn8vzqIqBokmWpSaFE/+QZ+2qwOy9nzSse42\n",
       "3HaFvxOzyvqhcPZCbSLPjFr2fPRio8wU2wInbu5aBviuUxHukAC6jO3f5V4+fPuqIhJToojsUe+d\n",
       "4R1CBy2e7Yu8kUcERHLdeYWrVIsoEzT1PUSQPNwvJN9vsGRPwXvEAul0PgK4hr61BsPK2wPnJi3K\n",
       "QsXyMM6X5XbjPtYDCtUPyE1b+KSfoepbBOmsVXjtjbzHpHByQKHGmc5S7Vl6cGPPKZZPvV2NMeQ+\n",
       "An5YqlGLkaBSjX3sMTQ+FFZmqgLhkgYiwegRk78Z0k3rb5HRqlJDFPnAXD0lCwRphqplq+40jlWZ\n",
       "GRfqMem34fulJVGeJEOjuov0koaWhJz7clKFha1/jNHx0VnPCGb3S3O+0Eqdc55WVWYDlfAFJnn2\n",
       "Uu2py+5bYMtfJppUD1AQQRPgBM/4zgA2b/BjGGzC0E2bb29/plHw8pofHw/ixCZaeNAaACs1el4Q\n",
       "rLX0+2ugKB1pesPFsALK2E4P4OMO84JcylkydJWvG5td4FX+/M7SQRiqwcWIksM7/JycvBt6J2Uf\n",
       "ocd+4CPrPXfiVj4yVebH1ZfZPwRPL50K2NE+6FCgIxFJGzeJEsW4+CvUJtTu5l6EHGVVysrL04bW\n",
       "+rMNdopZ99DlpyP7peonWlyTnI8AqvfNSAoFebsixoi0ySp6R5gT4Xz7oYJPiaHRdQBLyJootjrv\n",
       "bLeO9ngaOhdajn7Uw4Dih2bMu7iGcl9Y6V5b4zmsLNnXfxlXO2lNz55mEs8grrfPJfAJ2hz3G/A6\n",
       "0nHupAUPuFz0dg2DnFeRDpNrSEfNIgVGpF4bvFK6uiceuP9HFUdn1/qoeXB6ngc9HI8USUstB715\n",
       "EdBD9chOssJwRIDbQ+ssjh5b+GyWq1zGN59gWqj0wAGiHeddh/azZ0aL59TwPQjyhUv1TkH0MWHq\n",
       "bkPDVHf5j+ZEJu6xZvYbXZMuXif8GaGFrO3mui4qqcwxvbn//d4CEatEMOpaE7gl1zBBoqgkY/pF\n",
       "DrMslosgnFPEBKpFtn2Z26JHl249OcGWgc9eMn2C+tjZQb441oMaYlfiM3WoOvzKgPn/MA2px9Hj\n",
       "iqI04SrYJ2dTzYHDVojUU72MC2lloaHJ1hgErDBnL8kZk2JwXQ8TYvhQ3W9aBvhrJDR/kVkvw2AV\n",
       "S5XCRqKe+1p5iygqlGgFg5wZmwm/SXYDaUWJWx7TpFV+oG5oMLSI7Nyc1OdICn1XrZDCCz3TKFOO\n",
       "Y26LGDz7yDcGEYHdvyQQQfKiW0a0QARKVic3fhfmMPqUB8+ceKV2eQz08w/RWi8uyctR3WLkFFyL\n",
       "TSczNJh8ETJN+2zAYKtUsP0uE4i2Tv61I6lP91KvFtad9psMrAtOyBQtTcx4nt3CCvRsg0xBqdDb\n",
       "TdTvz6eJ6DSavTRzxBmE7BTWqVBSZMQWDsqmMR9gWN4frQ+37jJamf+hwHMAp6F+iwCZ2YFAW/bn\n",
       "3bB0whWn+YTw2Mwgfebp+nz11wXWS0JcoCOyW9PGAQ792V7gUHfKXrYKfIIPpB/TtmQLD8/uFo7y\n",
       "g+k7aA79ZVbL+igELoSUWVlw0gaBANF4siWfTs7bE62o/SO5vpWxaj/CtbYwbUgkJy3wZYot/anD\n",
       "CqHeFzNCnkClQ4QRAdMj3f2D6fWXgl1wxifnJdf0+uwc3xeT+EJVOWCBPE2r/5SRAwKKAAAI9QGe\n",
       "QXkN/wAAAwAY3u6hWCs82dNmQhhvT1dCzAgA2oN0A3PXVSdxjCRjifeC9j8PNwPdE5o8xy0uzK8S\n",
       "1LEGBjr/cEAr2C5PR/aAdNRhcTSRV4PIyh0GQi0GsRLDZbDJOdy32cJ3pV2IK8gBXMDUMen8wOHg\n",
       "fit4qCKb1kX2C9EBqYqYds6h29BQN0GJvV4Zg3eA4Gsu/v1VDaJllxUMIWZOnKyN1LSFw0bTgial\n",
       "qCNkuSzASzrMWhIItbArfummxTbieM7Y7dH3MMdBnvhVpzrhGGZdZvTUJrr5cS4zvsDV+sjZFoS3\n",
       "rKv2YJ3sWOZrd/MPTm8TDidA7qNU0fhaDJ+jWVbLQDw7ghOl5yM33RFHfnp4KQ1M/07dqmYBAQs8\n",
       "aHFumj9sWBZXFuFIorINAy6gWZnRvGVZ5QY5O1F3dUNJnCartz+2n2sngk4eCf37FWJcUwO3s6D9\n",
       "x4enDP891h/UI66054ncHXO74OMdbNPc5UshUP/RMe+h1mDd+/URdWSQv8XsalGXw+iN8gDqy0iG\n",
       "NV6RAFuhLFlBgbUdeSHMvebMA2nt21pJLXwp3v+A1tQw5pMO5U9pnR5Bm/uLp0ZBYJjCVoJEBeXH\n",
       "SCfobVwcThX/t2D6wsZB88IZcdNR+23tFx2t3vWajoDC2Afu7BXnxXCWARByZT1ioUDsO201xuF7\n",
       "XUsYguN4AmdiwnemUN6J9psT78sZguaO6eWCrdTreVhIvLgmIOkxonhcKBkvX+GZ06TO1R6fOMgc\n",
       "MioLo3/tkevEsEDs3Pb0WqSiSEPsULUbUa6ZELbjHHDXWp7QQWa+0/3QkjkWnzVOOw+9FJZDoPtp\n",
       "jq2YjLzeAh0YAvpJYpunSWB9YG8YlxfDB8CJLXNXE1ab7QUdjtMBaYE8mTLpB3sZuwCzFo/DQLaB\n",
       "vj12yf6bUOqah6iPAy85y5HWBcT/snt545i9esex+eGYwTP0MQuPr8mm9pYelAGlcMc2U/NnFPk4\n",
       "7UpMgJ/dgK3lQvVC+LTDAwzw5o22HCs6CBtVrQi9r39boLTeB/2A7Cl7o/zmesOQY4/C1MI5RCvD\n",
       "dRmoudnOLGnvMCtkBf6X+BUoo2nmudjvKI3E2HgfpGZdOaVDImRBId0uk6Um+htnrieHrDckKxlT\n",
       "4ghidXf5QoQzIjSFxRHMDfXnSwswupcPoMFVSO0K2a+ZE5iGsIXX3HYP2h/AL/Ky/9UHODLzeAJw\n",
       "zZdU6Xao6r5/GSRB1kRAiZHJ3RYftHPTXsye5vY3zJYarM/bsTS4JX9zpHj1yHvinHFqCgoIdwMu\n",
       "DAEz6IhwiIhdN5Vwd8De28z5APTnt0TBvzqTtuTqrEJjwSg4qjly8/uIpIphz/YJGsF70zhL8Btj\n",
       "vikyDBSwtKtpifHGDfSmX4X70WLYDch+liSDTnMbglaW57UoO3RMGd2cD638aj+1SXUMrTmCaljS\n",
       "VZUfbW/2wSQ4/2/BFkIU/mYv0uYvWsnagf6AQu+/4/pHXOMnp8QehesGQbAnSkgmZR7MIj1Hhw4i\n",
       "wXYcDCxIbwdecWnB/SVgH5sd7IUqTw7G89Tq1DjLwLuLGwKP5eWe3WF2xQRcJysRWCgdnvD08VaY\n",
       "q0Cd1QBdh+53HPuX63GPqzMAesXlLTt2jOXXxMmZzICpOHSdcun4VJoma+JryDVjD0+kAhzi/764\n",
       "kbB94UJwzcMW9sV2JiVFw5JShSywKHQRD8sjxSlc2Hacgz2QCvHmX+39uD26IsupTGc4vhaOsMtA\n",
       "2hq7kdYryYtFsSrsQ2u7e/V3CLMxASafJ/mByTHIf/OsRBEaTiu3f/5dkKwpW9rAkBz7km/VjMRa\n",
       "qdOXJXdQE5dCx3dehh/9h8pRU0Dp/Nwzv/5N8HT1ZszcToslD2lKIw/pxuvmnXPCi3+YvoRkFL/3\n",
       "dSJf0L6Z6v1wDWPX3xgEhCCGVkBMoYoGe+yevGF+EGbBsnO9/x+7KBPeVWkpXI8uajpC5TKH1Qxg\n",
       "rbeU22XxijxHnCGCb8w5ckGW3ttYyXNWyq81YxU+QZrXW7pNGdl3jLUWiEVXB5Or2o9TLche+KQy\n",
       "xLdLXC35OHnwuZKlxQJP1O92XNlTdI9dq3DhwXInnIKSvX8ucLXz77P2cRPZPv3NhBHOFfxlsH9y\n",
       "wAdW9BBWYdgoXvoybVyOSb9VGW2MSqMgWVqu0DdGGoOg37BsZ5kZFsXcgwEhCyLw5Oyw5bDh8sY5\n",
       "crSng9ekJlnrMNbRAEpRJx5ngiYw/AEYKw2JReXKVGNsCgmp8IqS11tMpXpuFSaa3xd27DKTQ+UZ\n",
       "Sn94HRENNJo65XimBzSEaZOA03vjfa60fky5+l49ST9h3ilVtJA2zJdxBPTj+NZg5Hg0XT4Uq/eJ\n",
       "KNd/VjBq4/WX/rVU9QS5JrhBdBpaceJ4H/ZB+xmEQsPtgDjUcq9vmkDK88iuWbxMJM+M/Vx+WCvY\n",
       "rE7T9os89TREj53rZUTo+FSdnMhmRQ2OpeG2lHEtEozBqqg861BjyFRCXbAkaPPQFWR6wGLeZwNC\n",
       "5lRsxo4QKdTE0WPqOVXImGi4dJbcc17s3M/7ew6ANfUv8DivHePT4R+4L9VlFSveZhhySlYUiapk\n",
       "+YJGdQEcnUk8rY9RTwPqiH2vshSrCHHFOuAngnHV4RpXpiNN776AOf7AAAAm4V7DVXB5KPk5AZ8u\n",
       "nw1klxZ7PukA9YHRUNERvwSVvJKtv28+Z6l01wq3DA/bVeg5WT+3o/ErTRAVdLdv0jHY+xiAjMnq\n",
       "vzTOZ3j2VQOXrT8t781YKK4fcJoPlQJILoJSs4MhOFqCwfj37DHIShCMy/3fPt+ZgsAzpoLq6XXo\n",
       "h3m+12y7L0SMVbwkTW7W/inuqTLif7vsJqxNxDhyl7aPJ1e2vDjsTpSZ0bTer6UPkZXfA+kYmH4E\n",
       "mq708ixtHdW2PCaR3/ti5CBXNaHoH/s99tWFvfL89aQ7PSOAz8jW6IBSqHTQnNNQGY/xQnfEjki3\n",
       "onvMkWGdNcvDhfqnJ5z+flnNF5BUgQCf+A1Im9LQOH0ilfGMnthCAhEH6Wqdc/j0VwX5HSErk2im\n",
       "LXhM1zFYP33AI7sAAAkqQZpDPCGTKYQ///6plgAAAwAb73So3d7aHX82PPWAE1IYq9GTtcDjpjB8\n",
       "oy/B1JyrXefdD1kOjcQrXGKjjvbZdD9chUK6uCdhxtSYRSDaKhM3GBmDgiqaYu3RaqTZaSr/mODY\n",
       "V4RiM3V5+WEOML8222I3CZpX1X6xQjMt3n1eegV1zUQ4o1Z+S25s/CXJ9QGHwVcUVUB7OZ2pOkMc\n",
       "Fw6oJdeA2nmgddIU/qU2lfGJYtdumHl8Qrac1Y4P5+7Um5dkATvAWZOjpwC97632mSmKq4kB+4NY\n",
       "p+l2bJME1k+sJfPsQggiw5F0gruGaPD/xstJcKWkqG/T/Etwqlj0EDzzxnx/JOloRBI9F9fMl32M\n",
       "hmc8sZv40Cxh1lnoDSzofUEX3kzXjuFTzwDIHc7Qby62eOiPzs7T+KY0obN6l0RdM/VdDoJKWa23\n",
       "oXJNFKE435tA9y9lhEVtuSv7vl8fQYii4+luEf/uDqdZfQHp2cYMLC1DlA+aFtkLzVVrz34y0lz8\n",
       "CsvanZ+n5SKPtJV24dr9lAeFclcnjs7Q192HwLaU6lABPEVhoVFwv5W5GFrh1Ena4dgwcn/Ol1JM\n",
       "sC+JMhIbRdWcey4v5zCzqCQGLHtlFMJZFecWvzkU+W5pkPOSokqI0zeUR2SkxJyZoOoQO/NjhsXK\n",
       "nSlV92naXTgpzULZQpR/AU0fd0utFbmzxfSAOJjpZbqOtgknHTfqQf+1sXuYZq3Y0W3Eqfou36gC\n",
       "hQE7RNejOsj5ciAl9J41PtjzutDJv0akZxfqUZM9gWLtGI2jQPbkXS6YX7EHxBWocpDaLTdB4G/q\n",
       "SFm4JkZC285CuTGMNbI09J7wl9+Dj9fgO3d7bZZ+pyXxYsXPKkJ1Qhbx8W8J2pf0oyB6K2NJNYwh\n",
       "rxgjpsNEU74sd9cuuI4YSHtk02zCT9W12OX4c6UmkHfUuKL9hpxGZNO+uaDD7MGXEA21yK0U35E1\n",
       "zJxMeMRXghCHCt224QWsGp+vf0npXNHAkSIEuMGVkiteMS50ZSjvikkvVp86VVWhU6sjbnHmn4wT\n",
       "N6oofwEuwDMajagZrvNvcFXNKv3e1GoX/2AUEJPxOeLDBOpK4QMd0fO23ifWl9wdKTnW4FaYegBj\n",
       "rRrauJGWRd+Iem3YFIGJhotRTMHbbDKUe48Clnd0U9zk6FY0z8BmY8NTl7j50ENIs3vxzJPnrElw\n",
       "w4uv/CmsU0hJDZGt6zS83FQG9NYGX6B2CS1Xov/6H0m284/hQRjccZy+iHuWQ7MhSRrLw1xqKe+b\n",
       "ZJaZdGgHHHwn5JPyXbRcEGRaZYWq2JMRFvB+eB7Fk6uQptNdNWpu0Z5NHMlHSRw3m1fTzQ5o0EqQ\n",
       "ArxnDVDYCxd6sMsljcuzHmkwf7vY5nlAiXRiqtKSvqrzRHdeuUwfjd2UXx3xio2nFJ/yZvpopo/W\n",
       "hyxI0S3uvMy3hVErM5jEentJp1idhuiCeWYtDdddCo57jOKj78XwzGw/k8V7Ucf1SmLHwtYUNRaS\n",
       "0KN6iMVezAbWVX/725cdv72j9+408YcenXjsxca0sty4KeJg3rK4nAVX42qLASd3lzwz8akNoSxT\n",
       "RF2QKAkmWxcuNcFzv4NnhjV+Ehsy+cmgjnMtxNZxkIqmrZ5byIMmuT9lFLlFHuCEKQQ6RO/3UrKt\n",
       "U0U/CyR/7uleMeXeHhUaVE6vCf7F1LZpUoAO4L9LmOsoG85ySFry7Agx6ovHqhC2yIL2OLd5iEyP\n",
       "Ycv3JlvlCE1ctAJ0IfMJrF18//oFOMX6kWWKpRngnNArucWPZbDJRxZ/6lL5DN5hFWp4RsDIkpRG\n",
       "Ou84XO7NipahpHF9SU5x28XlQwMHusIvnjomHH4nOBMUeUCREXn5cA0aHKcQJXkcfUbswDk8E65F\n",
       "0jgc/LJ+iwq2RMvcB8XbYSII8kTGcYOIJA5/g3Xg5zzw625gJhHIbTMAHLXFnnamu0rYjS3m9hHt\n",
       "7cA6seWsRBC1XvXOVWXEpxjR29BANIwY2gsbhmgPGMapG0PSAWFzipS7p+PAc+E7Ulc2w6AXdd7e\n",
       "GyqfFmi/gEux9fNtNhcFrfGwgcKaVCFGfoIOCSrgOZg4VSOoqAQ4hY1pjdnUE2gwTm2h8vd/P9me\n",
       "sO5BQabEKBVu/G/JSOUjyshjC2cOJAZiaUiWmi9yw91jqWct/BhPjSpWz6x5YN/O5gdZ6oclUjPH\n",
       "byU5GIWwb+6XhmQMTA3bsIYG6ar2QTn/hXUUO8dl/yUAEhBvZWaojLQOrSpeAfYfEMN1AGHSaY5E\n",
       "2X2eHjP2X2S/aMoVgSbwwCiyhz5bx/5Yu74jM7Q6cJXGKvmyOFZcjpxZWXjCAniflDXBpW/Iv1Vl\n",
       "4/zegiJ35BFHAVWVlYLI8uCNQJRxdDqfspYLb4t5iwjxQHBHcY+WKAz0ApdOSy5LGPKXnsky1epR\n",
       "XteqmRXVUl3/yrRPUewu3HiUCSfsMojosqZn7g6WV/KbzHpJWXYIZ/39MinnMY22nUFuNWvs+srY\n",
       "CFCq6CX/ef7aIJRQq+IZ2rsAeDCwue+HKACinZKGEu5HQOSjAQG5LW8BZR4Z3LEyXAzLWcK+Kwnq\n",
       "u4XeEEhIVJ05qT7azgSkjOkhj3RqxzMiaYaZwm/pTVS/O65b5OghRf5oVSnkig5br0ZN+WXXK0PX\n",
       "i0j9GeSK/Hh6eqYmZ0phaxdMRddaSm/xtWEdRn4/l9/qta65XV6urAuwRakxudsJjSwGYstDe1Nn\n",
       "vRz70J05VnvmekHI3bfg1Kc1f2Oz28bigcF12lX+C5M9BukHAvFc7gsenmdUvuFCf9NRITp70PpA\n",
       "EmR62vnmkE7WHXjx6vJYs8vzMTx9VzMHB1X3SNe7cAxEE2i6xvsmlg6m7C0cFk46k4VYZG9gzvxX\n",
       "B+92hPHYvdchY/K2TAK3BYSm76X5RAD/Fh8S4/+7/K0FVbdD1n9AS4PR2iHy0t8qsUsJpAuGgwsP\n",
       "wSA55kJbvBmRL2P/MLXBz1DU+yNZQYa2YOaULv8nrDIXnHV87Xvoi5OgknlPePJSWKOJ1O8IVf7B\n",
       "S2sSFOcj5REfVfy4m0WQXB5HnJj0TQ54PTvPB3+CLQjAaUWp6M3VXMLXu+JNvJ9zgd7jSpmrZupq\n",
       "vYyprG2Y3tR8mQXEoVgtON/046xwv4ccAAAI0EGaZEnhDyZTAh///qmWAAADAAYEQnsagQAfx9w5\n",
       "/7xDoXRu/wegeHM9q+hfOn504M9FuzCeCn/5YsdA0vo4IxRZ3CdvO8fNohYYBCrWJaeNGmHCnC/i\n",
       "ws5xmdpIZsRSsFBjDERFKPqGrOxi5vtd0ShqpEJtMaB2ACyoa9ZycO/Xss6dE7DKFw9feoEueEze\n",
       "6TYBRAFkLIS36JuuyaD+FW87KhvCLjH9Z0MFs28eLslWxPEcRdZEPq2YFERndXbucT8KHAg4mE8b\n",
       "b2rrz0YPHs3MAVr06uAfouWB3t++DnWzAxfZl0G9yAPhOj6bIFM0IbXE822t+pHQLxdRm4gb53y6\n",
       "B02mHPQkxBrMvKzjYcZpiYiHuc7f0q1AUaHPZN5N3K8UNVjGGKDnHWsblsle9f0WVYCHoVxJW6t7\n",
       "Rf9P/WhwTb7dC1IC2sJO1vES7hMuf1xuDIRUMz9+62ZAM3YrXTYck1AOQin3kAU2/UrenWQWa9EH\n",
       "UA2k1XIXiFzzBvNK21gAjGUu/i1+92hHRIQtYDI7Tr7ImWqG5tEYrG1bkOiXFFGBPzvWb9g4Ih+4\n",
       "fakJoRgEXudokBpyir6dCw021d8OoFxuOZI8tbkSnhtLkLFRAbF+MOPgyzqjT88PCXUe5nsNQwKg\n",
       "D80Jt5fq3Djqj5OaHkNmbpt5VOPUm1OviJw/TedNFoA4OlANwSJQk7QqENP+pqKbOCxR53G1bLwH\n",
       "uROlGroLghT0IdIR/BDlHem8swytUqGcZ6K7WHlfQD6I3V+ytVYnYIyasipH7k1r1IQCbtCq1FSC\n",
       "LFE1IRTRdJRBJbhORm4lJcI0dLt4WJqthubg9qpSp3wCusNak+cgJeNFn+3Wl+1Z+gdNlbBfoBNT\n",
       "oknrOp5hhfPUUyvXdb/H08gsN8x+YnKDBVKIcmMcEx2v5Zl14gu/+IEgvIk3kUXw2WaTSCpxqfo3\n",
       "P5JP93cQvENucnrL4kI0dmkwIZWRnHo1IoEbwVBcT/8sviO3EpEhV5Q76PmiZTDt4uFglfXK/5w+\n",
       "yxjjJXdXRrMMeouZ0iny0gTpcmd8GxiENtRqr3N3DzdQmPeDQjDWIO1rQlCbYLu9pHprzc4GAse9\n",
       "DUUtLlf5WOvwyttIQvWOJ33ohLYI4S1+GjF/1OLhbxCtAjyQcAju0q0cqpr8DmxJCGbquJNtvlP8\n",
       "ejQbPxFjkOFpjSjtOIqfxw4C4Bkdf384iY1XcHoYi8p5UhcSEAy1sAzUHZc7OlqHbOWKUsP/emcm\n",
       "Yedtw3otS2Wdd+TVysJ10EneBMTZtgcfb+VIwCR4tSKbvKiv9Am1OxzTGwfBvhlEFHEVK4jrKgNA\n",
       "/0vUEaLGeZgDGVHXMzjw/ZY7FdASgrPK+W/7p2nQNIpZL6jgzCqbuPNqPYCBr/JyClanphbvamXn\n",
       "pYQABCjl2JezFBRKnKo42gZlKn3XCaBZ3nzb+EfaI0ZsgcvSo1N0p75KeewqwObEdX2DLN0IEdOm\n",
       "7UBiEPyGhu8Jyy6wwpXtaSXO+FASjo3o9kIyVz4IF7ljEtw/FVYkv2/FWgu8ye1lP70wxX9/f3KW\n",
       "Ti9uTX6Ci8+67IW8KdY/Wg+EI1OulRVouvp3qtJtKSjfYa09Vyqu0ZUcbprSf03AIZIBr/Gr2mT/\n",
       "fRsVN2nNtRB9J7v08L2EjS52kEFFPIgWWVzDg4z3wGJVBWAfgjmc9eysSm4/5gKAFJB6RaLZuako\n",
       "9R+HjSv2qJNWw4QjJ/ASN1fVVAXilNwlW6STyKVIR/PQjKORB0f7vyBrkQV4RFBEyHpgvt8nKkpv\n",
       "5A7D+6XBF8oYkHPAwlRpwxbX9xwsGKivgW0EgbbYf0vcBoxgnkehKRrx0jksbzwghTxv9Uf8YSFC\n",
       "Mx6J1SiwFT0gguLTsHbwqW/QkmKC9LEPPefBTUAlrDrlKD3McTp8e1Wj3HshQaC+rYo/LfkjA3ZO\n",
       "OWAE7kNricpl/v1HB1Zb9kdLKJ6JqdglZQoP65LupdVnPdnz1T/LHUXOmPaOg0yv1WOGDojmak8+\n",
       "o1Dy/C9UajkJUQg77LiEC/ylfoOGV4SKV0CJ5WO2VZDp2S6VyN1EAtFliazla1H4t7XqjVwjqwrU\n",
       "DB33NnjuJ/oh4x0SEb+grhxlgzqT57C3c6EOjw97GocKY73N1HjeCL69NF0x8AOsJj/bu4NhoMFu\n",
       "YxReLI8i3jdOq9d7xR1puDfdvYChTXae75eVuBId0JQysWk6mRYmlvpUFG5kL4HYJLTWoCjAXnrE\n",
       "SU1rHz7Gm1ft9fw/gdg0rG/HYb4ENMEtoUbsAQQheIbV9Uq3YG5mTISBmLtzzpC4poWGugNtCk8W\n",
       "duVMjuMfJhMZ5fj3HMbDBWXAD3bYGO835r+Sx1o2BfzgUmACIL1p6wDzn2o9HykWM2JfZ4Sihomv\n",
       "QUTpUqS0U86s63GFhsk4JPtZz/0SStsXR/NR0BKKSUEgp8A8hyUNsMz0DgFl9nmvYxgXw/lLqlcz\n",
       "j5K1F9CfRSdMHf1wXenbRUJKro6RU1z6gnoOLSTTUamR7BOHve8maugsvddy0BUvhzefXhVWqxxu\n",
       "A/IjjjWnet0FHm4zZwcgwwj3Kg3R/wNZSeEKPjHbQE1uLlm0YVBu3gApRt++Dio6XkzREMJ/I1nR\n",
       "2JcdqBFP0XfhRpUAvdOs65VGibLJszXAoIZkDDbRoUbqTtw4RSl6g6kNcaZaA0QVFymndV/vG2d/\n",
       "OF9TLKI2pxkxU5cbttflKzOwGb5xoVU7JzQWF6b389c9kOSEWGvSKOpEa1XMMyDjSfWfawXQ+bEq\n",
       "tkoZgAXjFGlna6va3NPTwGZXz2ZJLFSMVJas7S04L+uAGmffDOU64JTii0DJBculJHVZWwRhwF7y\n",
       "gMIhnTT+MKfqlOy44xK96J0gB2+24p/wnKzp9ciNT22cETefu89dG0d8i8yrbcMybjnEfrzY1mq1\n",
       "qArVyZ3QnKROPPHA0iO6dhTYjBVRp3hTYVtAmNviGJT2UveA6nnR/Qb8eZxc+XggKqqlWZ/Ypy9q\n",
       "a6gMwQAAB3NBmoVJ4Q8mUwIIf/6qVQAAAwAIz80CHuPzia/8AE7Qa//AJzXmhItOA8yymmKIPY8H\n",
       "l9u2jWUYYTNwzRSN+YoCg6s9FqHodLLNmKESqzGQf8wjjnq/XaVhheMpNpc/k8QKCArNCT5Y0I7z\n",
       "xXfHrUIMcxOVv7lp4iTaiLheYArC8hUDArSO040IbOxAuVCFG696Vu53BiX0qDqGy7oEswK0By/6\n",
       "SMhctYcvdEAOkWAwKR5ZDe71JXqH+GOrVmrFHs9lFWiG29Zn2kAqOwg+HxmXD8uhlPRO3U8+SxyK\n",
       "voQctma7iQLycsVuwZnqSNtGBPbH5lZYSowH2R38rhT2v+0xEn2asZ6MQ1JcQfhBqVdDICautY+F\n",
       "0SljasENOuIZS/yzUFP4mqnq2RD0Rp5brFsuKPwKp8WGL48aaWZziVp2R7XOW1G20Orwimed+4qK\n",
       "yGPGd6Zi5cREEKKaC/fwz9ZxDlilQxRFlmV7VTzc29z9ikS+xNOPXtuJc8k6tKjUtlj646It3Ury\n",
       "wTtT+sJ56U5P+uWPIiQ/+yzF6nup3VIOiGkOHtnoadJvLOacHyKQLJuETtoxKqlw4M6VSkpswOeQ\n",
       "fAJsot4E1kFJ4zeGaEw6AozTxYinL0mmPsHwNbhMTjGszqBjjzzS5Uqqv4FR1pzEQmZHT0x/AkrJ\n",
       "URGbL0iTAMcBYe4yILgk4g478a4HW7UsDKjvbfq0nmXQazaQHVdWQ1Of+6YgqQ1qfwgwZyitqrn0\n",
       "s0PyNbFYvrCNee4ciH56QDG6AEf7WL7R57z78WApMosZ+m48RyDJdSQL0M/u2W0WN2wpVqZxRhRY\n",
       "dtM/YJgoRSTgAIDPodamxQFz9nug+hBx0UOyHIlFJ1R3uj+a7uUsZjbgg6lOK3CWnfJUKU1oIp00\n",
       "vmZSLt4+udqa+j0hp3OjDqlt+pXXsFzOq9zG67ZYeXlWt41/IQByVx/ITKYoZMsAl5GhV5zBhDHw\n",
       "GhJe40AdjN/jgdCk2+Raaw6TwesyPM7CJtdYTHCLY49ApiRiivPGWMFL9gpk58AJSq/sHzhTBVo6\n",
       "3X29+y0iqKO14N5/pR3NFGouXwAEJJ7Cngz/+6yfsm37rRMxe5PMlgZyL9bqCTg9wnXQFqUrsAm0\n",
       "O3RmLzFNo9ippmy+fH8LrfSjZsOLR9i7SDSDWWNIJ25HKpDAe0yqtArZjjHGt03jUUt0cVwdY08X\n",
       "t0pt4p653sUvBl2i3FNdradnn7DVbsGYCWGyBM7xHNPioXu5NVj4mmbAcDa2i0HAwDVyee5BPxbI\n",
       "8PQYd8UajlgZcRqtbZDo5LGnk3NBcVlHYkwfjyu3UpnHzDfYCjDYV0tlsslX2MXiRPLcHv88MvfZ\n",
       "JZCL7N/zKllgG+17JKF3LZyqCYtQbj68uibdza7sDVt07n2itgQQl1f0i0M7F3Jd8YSSBNyRw/Cl\n",
       "Egr6/hj/GHc0VCLwm/NUqaqXaZGmhhrSAwOeDIoiZLkDA+Dqfo6/kaxTgicGEhx4WMEhRk/yDW30\n",
       "iK59eQbo/DW/6uIeMUgaP8TidFueZjL88Jt1F+Qdrtz5xL69X7TQOaqRY5oJOVHrri1lBe7eOnmD\n",
       "FMANhkZQZ4921mCCDEYhVjBFhH3WjEmWBQhDyMQkYwOpHedworCOL2sgp6JnYQHu1YyIv/popp5i\n",
       "fxMD7bfH8CKOlnyRlVr72/Bj2fCzQf19/yunIf+N6zS/5kWziPhQt0NAcm1ldTZu4sBtAQBqzNBB\n",
       "kUCk+/mAsRiE9OgzGtLg4q5pigp1TuHSdT2Ob+pumfpL3lKimGJctUpRPO2tg7OCnnfCUJYswLjY\n",
       "CjBrrSbblXjhRBGykTNyf/wpUQTSmMM/gy8a3cohnFFZpD1la4vXbyjSOrIkXAMobEAlDn+uVHwp\n",
       "701ACuzdgjovVoqnm8GmmNLea2ZNJebgFW2QAAC+oUcyX7VXrpiRWJTErXWnlbKO8l3v31TxZJHf\n",
       "8DnXlw3iMSvuKjv5HyUuyQQ+vBkfxcCS53L7FiIICgoJMiEB8E/d3g03GViJbhculHlmhJ8Bx32H\n",
       "tO7zLuKseaLcZsWP6PcGOab9Dcm01P/T2y5TGTn2Vpr4gsY/DMilSZur6bdKnhDEXnX3s+cr7oMF\n",
       "8rUH+m/LONeL47Wxsh1/Rui0w7mxkRXOOHp4FoC4u6PDRBRKpda4aboJa3u8Xfv10aB8DWUryMUi\n",
       "NsYU9fTXOvVWq7yN1h/S/Fd2JUFUcgdJrGyL+9S8DwoBVTbrgd62aE5rjlYP6MkzhGKvvysQfPjh\n",
       "YtAESn2gaxj+oHnXoXSskXaxNBXxaiUVjHePP7L7IiP+9WojCRVrnc633prkYOV5U5nJJOlyxsMK\n",
       "NDoVYPLpDLrUCjtfgB/h4j7h4r8Pl7Lcd4bOLJtxaxUXnSt2SXnDnEJM/bT5AVDExJkPm61ISZG2\n",
       "Ins4QXIN+jovNWBAAc/6QYotcKzmqFldLWYytlhriEwiBAZcRDaYDk4irhJYpe8RgGWM8QDZElA3\n",
       "R1SecRIlOWqoof7g4YLO2oA18QaaiHNggZLHfp4jXXBm8QAACLVBmqZJ4Q8mUwIIf/6qVQAAAwAJ\n",
       "T80CHpv72jHgAnb3xkVllFHaIGHa+EwIpNq1H9LiAgPPlpr3Cs4OVhqTNOrOa3IrqkHMJB5cyjxe\n",
       "fuDEP8mspzibMjbpK7dlC7R2pOIKhREWF9Ad/e71z6LSWd3oRZMyLskFz8vUH9Hp8ZDG9TwbLh7o\n",
       "qJinL8JXWJs0Y91zF0jEM+GeRQo1IZA+L0DHASHEHNo8pqZH0RhkJyhd1jdaL6EW+UwmTrjK1T7B\n",
       "WXNsIcrNaUlEBU/PHPnAhEe5ITY2TGtIkaPqx4eWn7nnswaiuD/5ITwjxu4dp7vNlgM9toq7deo2\n",
       "n0iTZwcJbn/5k/e36csPnRKhvF9H54Cg+cT313/D8n+jDkgvk4ue2u3ntbdicBJTjmCvn1XxTcnW\n",
       "QobzXoidBzW0ETKPuXhKL+rSx9e23/O7nDPSmJDE0GOw6ODpuIDufLDAua3CaeZsR+q7QA6B6kxt\n",
       "lXpX6/vfCMmtqTtjP6ixdpzbvxdabjq5dndg39eKKoa49cUF2PTHUwHx8Q8IGsvBYJQ730bcsB6A\n",
       "eci1UH1k8xo79/XgfUd4aenYxitH8swrWciKTan2KxzDX4Lnoyv4jvhP5I2Wi49bRL4f6hdIOxIU\n",
       "NOAJ24bUMPeBU0WwMHjZ+QFlOJowqwgnmOkRp4IvWG/STaBusmU90J26l8EvWQkuFpMwURStPnZ5\n",
       "TaaSTqP4zNTqy2CWR/B62S32PqyljypsQKPNQUyWQ4uTfLxvg5dhqdS6WDv7pjLfVjmm51XVTAJ0\n",
       "qua5g7htLESVpnTGjSx7nKlQ6WQibaiEzxasmlZvag/1fihiwhyiOaWiCRZoWkyhV+qhZ8lcjhlg\n",
       "QNWnb6TRtz5VHoZMa8uDLaDcAytW/0Nk5xLwRpmUmbS4rqRofyI2jpsI2WbIhA07xlNjspQLkF9p\n",
       "pYIbMpJCvVytYDWeqe22JtwNyTT6JbpLwlwRoOM5ixMPjyqb3fFPkAiKIpPxwwQOXdTLCddPN+s2\n",
       "U1VKG/kqB8tljTDs1H0uUBfRTWr2oBq/w55avajeeDr4P0U4sPSDSS/E2Us8LQKu9c1qEmG4bkTG\n",
       "tf3tj4xGbG5Hik5dNcwKkYX/4CNhFz0jGHCSWqqpGLdLcspzvmsKi6Dybpwa3zxM/uQxd2tVoTOt\n",
       "xOqQd498tAf6jxxglHSnABX3U+F2yRHITOxigPTIUVmiTyW+LIRMW4FZUy3s3F5Vd2rTJouLASlD\n",
       "HiPNlnoUWW5LG1a+WzFH5wygPsIoA4v3D7LfbOW+R/K56162lhR1+Iblbgfygf4v5cQEBSDP2SUg\n",
       "R/cUEBOq/n52oSGL7WZ8KVadbRvI4tD8ri0feDga8Z3odr3PDZ2y62FgqjUk04PdaAayfxYz+jdi\n",
       "UJV/p/Ia1YMcvjs7+nJR/BLjSc9pwxGht1MlNdVqshkXmcN4OF3HwwCIMzi0lZVYYo85YHn+uyAV\n",
       "xMRD1Vk/phyahOgDtZI12fMxIpnncSr5NW9RGp0TWqbFnlksKElW4lodH3yCaUosjGq4FM+nEsGk\n",
       "lUQyEl6jj4wt4x3K0tOynEJGj1UNHFA/bSJ5nqoHiQdeQ328cGGVVwSb+TGpLFPM+HpBYYMphLcz\n",
       "QtptrSd4QPV3B/gceJBDRpq55ZYK8eQdLTE4ypoHLLIWeSJ08dcX8EVtzLR8dM9ZZtGGAVTs6sm5\n",
       "CVN5ThmnRgikMfD7KNq8HWJmkBpT66P3NJQfiGBkIqomA0695crIKy5X0tFK0f4/CJsGe+TZlZfQ\n",
       "slnWo62ZBnPRotXrtksiEymr6GF0AftHjfhoUguzq8EiqMzanyqWR7YkqBhVauOnJ8DAj4wzqe4w\n",
       "BfNxevlfooIfDHPGf7nDmIb11ZUXwU7dwjdsDZKl/uWsWK9xk3+lIrl0j6uj7F7Eg9crspU/zco+\n",
       "ryw2vomyROzQQVyH0n5deovrSuw1rLfAhU8uFIPMvgOqrfh/6drSEzZATpJKz0csX2xt2hufRFSW\n",
       "lLRtdiZCdcj++a7FD3xQ08g/MOBl6mtvQx+7zTWHFK/OwytEGx7fhCWI1Od6FkYDuRnGch8a7rYc\n",
       "+osgCY3ZGD5b5b3x5S0XFjGEYTHNtsvAyLdh0xIv7/fl1lPOONEbvr4HNEkfTT9wU3CLpnMRrPg1\n",
       "1h7Dbs1RsipvKxELXcXzcS3ctcaAkqudgYduWI4dR+FxZs2TtFz0TP+tDeSq1SYt4aiar6QfJFvB\n",
       "qmh2jRqa0RK/SEcCaOhIkDI3kGKSKd+r2AIjXp/OVJF2B/anknj9d1mXD6EUj7J95QlveipAzT6n\n",
       "PjM3lhxUEgzgv/l+dRLHapclShEISHOWAh/H6thtjAjwsMvaDZeivpLYyOcNij130O52XfqO5N+m\n",
       "dNBp9rruZtzk0/uw6B8OnItBbil6DqQn60QjfQQnjtDKH0W1VV9rsCpeQ47A/RuMtERHlUwUhERk\n",
       "S6StDP7MyhewY+XFgJHMP13GCrtnlhc8nFnKllEJynvioN/j4iK13hyDRGuJR/6Nk036Tv8a9/Zw\n",
       "fiP/la+75kxRghuNM1O/NUbr+uNPEfYeKMRjbcy3jEh2C/6mabYPZ/tUKpUDzzrf5laaK+y0eeH5\n",
       "egSiiQ6859SAjDUaSbFPElufvTSIB2AjXXGBRYXfMguIfAwWfAYZwk9/CdtAHohQl+a3DMZtK1Kb\n",
       "0BAIXUaaqU+8Gib63z4YZeAxLumcpL4TYBXbfGJVjDedY3F7CQ4JaN5ZJxSuNsD1AaA6PQ7wAY2D\n",
       "l8psE7gdkiBrLUrt3fKFuP/Xnxab738MTU3zLPfYQOTyd/9CIMvMXoJzzf/5s9QLoSaR31RYRm12\n",
       "NWzxf+vaaZ3jBqLjaT/kvXCxBHHrOlKvOCpkteXc5Cay6MkMtaRGREwL8WU0JOOgHa5XSdOWtlsI\n",
       "+CqkJqR688bWZY0rLRVGVBo99ZEtDG6ifCjSeP3Yzfvw7NlKuCZ4DfBFsPkAAArQQZrISeEPJlMF\n",
       "ETwQ//6qVQAAAwABiuusf3ABEHz2XVW3StQM/xPLkJlUdhPrdzCHUPdatwCFvKZuY2sAaXgWRDgX\n",
       "+5JwSecRXZX6nBqQriij0HMbaFLVqY/hdhGIiLAtHodNPMH5/S6bcgBbBWv9bXPfTA4PWq1PF4Hf\n",
       "p+2C/b0chCjExRGkEgnYq8qxHh20qSNa2vjfZS3nKGxlZla0QkM7n8/EaR8F4WAtMRw0d7bIPNSl\n",
       "8mVMypxVyxn00WJ27DlmcCggtI0Ufh3Yl22VgJTE7Ci0g4ewvAkvaf0YLXwoX0QQuxGkJIXr7oYp\n",
       "+t7uD9T/+EttCGkt9beyh9+jy//ve1mfQrabjWEEp799wM5UsfRwgUz7fgtceHPTnDKUQZpHiejF\n",
       "C+OZTX4FTedRHp3d9CV9ZqTD1SR2AfMOeeA+Y+oZkOr8Jwmi75n8PTUIfYX+SA4P2RvZXCWrvgiM\n",
       "T8lJl8fxdOgLXnDtQkRRv1sZ33PGz1zmHFe2R7QET1u6LPdmGE0Cs6Vb9v03xUQESKr1vcXtCwBv\n",
       "1kIaBuZIKfLhhPA+6P2py51+WUa2ZhjVp3hwfw+HzzhFX36Hi2MU1cQZK3FaFcjtay9z0Zkkm4/o\n",
       "qm859HltcPHlV8Egt5U5FRDIwqwsNa73MrchqM8GMEyooBLhhHaCgh/gTa4HbcQxwmnbxD2JaT0p\n",
       "/GsONgpd3mEChXAQStDjHOKOQ6l7aCfaWqgdHB9+tHjBA/SuKq2FJ6Y6YK2zM+sz9kZGUXxz+7iY\n",
       "fEqBTQHtrXROOR5xyT8AwjdMUjrDoUck9cRktwLIdwQZNMpkrCMDpTRFoIGmMJZPwP0AbGisjjkv\n",
       "5vQVmy0pAESnCwoyk+hqQ/r1fudIT5/3sc8oVzOuNYOcuAgEy9bghVa1lHgFzKIZS4Bx8lnqiC+h\n",
       "QOwEdtOjNPbB0e/TPylhFFqS7VaQCeNilasCArPslIe0hmVZvm1pIwmZ3dqjPwSgaUUyeEcFpN4Y\n",
       "eqLu8yXHXs+VnpmPB/FiYOjAgHdTZ1iReIwd0k5e43EbbzHwe6s7rkvxAX4wXaA1OQi6buHWE6QE\n",
       "P5ZzDA7ZfiP6dmUszwy1rt329W0aEuG4cXS1SigTRwjaVxJrSdEBEMeSAO6F5iNTzzbpONoJCW9k\n",
       "qycYBbT8LBfxPRzQE6vbJEdo2YD1u0MV+r+9MpefDU+2iEW6zPY+MvdSnKQkTewwNYahEToD5xes\n",
       "ti6MiGT/G8xFlhbB6xmgLMLbKPQEbPL/UFhSkki8bn8qbAgBZ5X86d9UVw95ZboE59D2f/gzl6pw\n",
       "VCN3M5WAz2//HtRlmtbq1c/ySFyusoawz8GfixbME5VcPGIoMYcuviLZmV2QOWGcy4Axjct/sqhf\n",
       "23m2CNnlb9anFUiWFB1UIcXQE+gWgO3NmZElYtn1urLTwzhnAoNXMOaSbslhqdNZchlciNf2+Rit\n",
       "i3wAgH6o9U6eQZfgvKNX8dQweIrObm5ocs8eGr0nr+2Hffeb7aM/e/1forEE3YujHVETk/+RtZiv\n",
       "mB6tXGDcMiXJPtCC/z+Qj9Rs+KkzEHQ6n07mvCatf05pxI+4Fxdi0Fi7gQgWZKAW6oK9upSfrW0I\n",
       "yrVVkS6I0jDns7L/xJvujGxoWE792CWFFyvJ9ulfbMt6F1Tg2GexCpugrKjLPMZFmBrBPaLVbN6b\n",
       "R15pA4r+qKniwnlakke/B0bvu/UHCMWSMnkULFShb7NbwV3LdkLnF3SyVSZ2DSeLf1MDe1kKN2l3\n",
       "+sSr1AmNR6nf1Nu2RjNibV1cmdyfUIbQRY2VT3tAGMj3ZC6TygS1cLJcpQ7qQhGGbph5wFL41wD9\n",
       "4pDA1HVbKa7b3Fd0n8X/nXpTQcQ3Sd8xXj7CbHvxxeuE4/yk6KITkIc64EdhEvEghHXIV+JmMZ7g\n",
       "gT1V96x9lyBsJ5XKNGhA5VJlQiiMWaNQiER3AikjMo6NDfIa4nr1XHX3vjQsovVxKJ8/NaTLlihZ\n",
       "pfdcE/ohfx1rq8bbMSqgvZVw3pmw28shbAbUk60QymYaAVhI4ovtYws47BNanv5kcvRcES/xvs+k\n",
       "Mao2Qy8teezDYkm9YY0ZpdNhgsnNMTWGiXAcgKsBYDgFW/H75yFR49laLN7u1JjZR9DGqXTMdhr7\n",
       "K9WJcMZLrFc+Z7qMDObExYhhmO5NnemZ6RCFuJG3CtQmrQMo+YvGP0YP+qVWfW6dJt2u2efnL7AR\n",
       "bd353jbuCmMbu83Oh+NeKQ8w0toT/VZdxWMG5nH+4udLIpJiUlxjEcvYYuZkNVSzMZYzItUNK+db\n",
       "J106+JrXnX0Fn5AiKfayQkp8sl9PUP8Cu/TCOkfy6wSK5aowA6LZEQ6p0zMIfbEBS9cZPxck+9ox\n",
       "+ajGyzHsSsSn8UKTGkOlJybAMqzM5LXD1qYFQdfr+BopUoBHb+gUO9OVMOgN8XrDpTePvcyw4jQt\n",
       "exZI3IEozkfw8/5KSTxPefNPunp2K7uQ+tQ6rU5pWad7IHFF9aofS2EkJDJeJ+IFta0a5t9hxxER\n",
       "mpv0pM8Vo+xyuJlcX2em8Ka2TPy4yLC93N5A1+vzuEgWHSaos5+J60aeWTARY7AHm8TAa1IF20Ig\n",
       "q23I1h3uOHwma2g1hx70/d/wbYRbgVQSFiIcimct3QeDOHG5pFBbNTumCNRc3sS2XnrcUyC+wFVP\n",
       "GV0Ew0EyvmrA+9xnfaCZGnCesDUokBJPa/7OSYlAMVseX5MIpRhnHl5swhznfIwPXUlCdFYR/xw7\n",
       "IG5UsBX2Q1VRQlnxO8FcwWSM8K8Z11y4rmO8GtxIg+rz4QpuLhMlOPsXX6cThnj5ZAVMiuRa7/Ml\n",
       "4zGmPsHuFil0g4laWBRl6XaT78pHrGBJ9A6X9oRrvkmlpHNzUI3Cahvyg0OAsITYDILSmQFeBQ09\n",
       "T6f7qmdl0oZANWAoVXu3LiXKwI5HTrgmW12sIGdfdAmIKuH+i7ENb8wV8wbf2iOslSgsMibJKEsQ\n",
       "H6JDND00P2XtFzxCHzRdHwKGhDWbOaeDOBSaT4QZh59qNlzOSmSpoUF4D4VUa66AlUo8Tx0FN9PL\n",
       "JESr9A/wS28Z2lFa+kf+gq0JLehCyH1AOQis7QLMmOeWpR/wAa/lHvvsL01AVG7KafpqJQgLZu0i\n",
       "FjPyrwiRDMTM4o1moO39cDZv70abRgbEpua0AIuPBS3LUqSAfCuyPlpy41CU2mlV54i5AnJt/QGj\n",
       "Dy2AckYLF6/teqa3IdffI82qaDVlYjj8cckIvghhgUjwJUJ9dhmZDDzDCAvz7Wefi9/CAwcjnSKp\n",
       "OTZnyWB8WJ7euxebIgtgrdcU9P19j5RF/8hwwiFNiPPfpRpovB08Z4KDJLjHYaopaehqVkkCeJBk\n",
       "147mpEfZfxzFDMaNE+C3bASTft2taPeOCnP54o6UT0c62ULG79YzByyGsQ3XnFKeaFVc0BszjJte\n",
       "X00B3BS6sDV85fGjoNyFpIgAhCfpsfsHUfN0YvsOe4TxejY879eV6u7OXsceGv0rkqV9HXi0KRGj\n",
       "M8Y/GY70DxnErdc2k7gAQQTYRIRk4Ku2LdU8J1uudXZd7Am9Y7au2vsrsfdTwrt60raYj413JYrs\n",
       "kSfTWbPHagIDdkR6feHCMSfwULGhKSwQIzdwLcxGop2xem2LQ0938XkabyaLCRSvNjAujoEkMR5R\n",
       "fs25Ltc/PNQCHnaA+dBqBb/5X/DwA1EAAAjDAZ7nakN/AAADABje7kbBRSAFvE85gNBpAfLizbRd\n",
       "Ppe+ihFs0ubPayl3ugOOgAE1C37H2YSnKxqEDq8UfJ5Ve+UI3c3BGrfzuYvGxPPEDvl/UVGkDCkH\n",
       "uvXoDtA+6qHQjIbzCAPDbHEzQDz1ojlv6uuJ4UZf/Y8oWBeVInImbc+ess/tVddSHDH4KWf+0u1V\n",
       "05gff/DlFWkmYrev5uBrJ19n6AUI7MX5b4xARDZu7nKj9Ms7E4xmAmJzEZd6HgIBhV5orj5if+Nl\n",
       "TJKnN1j+ibFx2o1PEA3YjEPXI8RYtbz1hdxg9eu8jucQZKce4Hv0Cib3MbkdVUXbfHjv1UYHcQsf\n",
       "9q4BY6WXweiwAI+9kSGwc6vtVAdlyLN0mWTuRQkVczfUvqm6ybqFHz0lAm4eg0lW3AlqGN8FH5/I\n",
       "1WNhpLt2N/rHRoV4KZ7I8iLrPBrCsMzCi6LoJbWBFvsFdQdfh4OOxCaQct8kwSbjzEdyhibxP1nB\n",
       "7Qm3UQ2lNVLvu1wZIYkZybVyFW1103xkVir0F+N0mTvpLuMLBU6arwau84HG5gF0XsHtQQRtq85b\n",
       "AO920GdK1cFwpdSTB8vwDG7KewHa+dvFxMfZ5qvphgG8Rd+GEiQB24Llakcfy6PJcSuZfqBYLhU2\n",
       "UpVtXP0n7PuKsjQOTcfoaAh1vBRsrQ1eQfgHYMqxhkn4OFmX50B7XAc57n+BrMmxnNjtdumruwAW\n",
       "Ie9kq2U4J7wm7zD2pGFZ9r62LdOUJb5sAJZOmuCTkqdbiPcNTymUk1dgE7ddXnliXB3alCk3LIH0\n",
       "YOyljRcvuVtpnqawbkz7udq0ot+4dTlJFBOS8q1pgtrF58I1qqwhdYfXj/VgeOHveO5Waow9h4vf\n",
       "oQkubhVf91jHJ362j//QjH+5UbZDO0QAM/mmbS/IJEozxv2YTfMF+KS44wTSmEGu9E+aWupaIxXh\n",
       "Pk+oE/nEaBu+K7HzEo4ixVsIi4AursFB/HvKCXwH245t057TYTViUIxXmcqPT+HCHruG/HftkSiU\n",
       "ErYQsXshZIxSXkTtofOnQVhwutvdl6P0VEN3fVqGsiyHDpElMRH+4bX2EMuyLygjth8JOoQqOHSh\n",
       "ucrW0eKJe3wMiJvEwlMXSOk9mjwWlHPJkpfQHwPYHzCRLnr7QrTGQcs5H+slaQfwi+Z87rP5CL12\n",
       "SP1EsN17FHm8kadMrcOLDDY06mWLSs/yMStnJkN42E8cMGzroKx+hesjfrt2ww9zwgF2v7Ed/LYz\n",
       "gan/F6z4Ouls1Abb6+YD2AXIl9N9WwXd6Bxg0gsCLf516dlbyTXQPJ9fKvH/lmiBDUpEUuJ0d0+v\n",
       "Q4X/T5nZFSSuvBoJb2g+fuNvtgMc0Cgg2cu930CKfNoRUjlvGzmMvcbvEBsoF6cad+OUX9wlRDzE\n",
       "g29LpqUzKwjrSdsUZBoShlelpfKNPU3P0wZIN+ZO8XeK+DUpwWq7xuoQYYAqme0xZIOmCesVN4kE\n",
       "SiALtFvQ6XbfvHUlAcWpoCoQwF+x1oVktbXhqjKlHXluij9DkGFUJRV6IQ9bAaKVgCMz8P88kISG\n",
       "dSWQJcQsohaWis8Ow8d7t1jYM+u8ItQMZyDi/jQM9dXDrG1c9GmYWyx/wgQv4+A5PYwuQLRP+LBp\n",
       "JE/4nobVPeQCs7gqJzkiLlfa8mvYtpzt70/YE2D2vB/C90zRYBVkAV37iV2Ja7K8mt8dZDcHXRdD\n",
       "Wj8fD88TNXlMohRTM6eS0XVBo4J75eDoAWL6ZAhx70I+6OuMvnrxU2knG3GY/jPZQvgnh+ZsIT6k\n",
       "3zmjvOzzhql0vxDlYbu0By6JPYXXwaAi7yaWBvANFi65hIl6u93hv2EgsPmY0u4e52irAmMOETbM\n",
       "WceBECWI35eW+vJ3bilOMM0w2bhPlQDkofeHGzRDs8npJBzBzJuNdoDEGX8yImVwzpkKfuyM4o6E\n",
       "AcmZJ10/sb2eqDpDJ6uiXw2OQIWVuDVxPJ2nsk8GvVNjBg7rufC4n51iaMnSBvYfgu+oL/baEFW5\n",
       "F1kNAHJqxid6e8ukXvdxDJRp2vLb4MaZkWwieBxaHzVoPLMXo35RvVlq6oMsdsR0L8MvB9hKZcAX\n",
       "3IXdill8W9sy+yZRlPQXyNXEkWMN+cavbP60Kv4174hwLGhvVlqyAl1vhZjnpDAXhUbsc2vyHuQO\n",
       "4nhAG4bKpoUbOJYIl2sjbWmWvYheKxtX3SwYN+ggqDZzUvmm8UvXXQypX93Uu/JU7GD1daiyQeHU\n",
       "Ylw0kfuLNiQcr6H0wOjOhY3uOlKoqGKivYI3bKGvTC40rrxmI/XQ6V+wjbqhQYveM3hxBUsfbcWH\n",
       "oNxiS0dIfXg5LO+RwF4u80IN0GA2QmX/NfXr9QYnkSnMmpyNVlektT/lX26ldpU4gR+gaqjNWysL\n",
       "bxFZbnVUY81N/d7vYuWnpUKyV7sRLNjDVToAxVlnJkv091zl9YhbUt64ws1xVUYVGKQMFV//w5vA\n",
       "TjJpa7xu4Zq+SkwQ2P//q3wk39tW2ocTJCFFXkhyu5uVEX86XMpGhQcuYXBt0LAfghq9ASzhUgpr\n",
       "Zmm3woLU0PEDTcaBnlmnW8XUUkUF9DaFJdqYd2lqOZc+x8fYR9ClQDjpYavSDjFaH6yJ//eX9U5D\n",
       "oJTCUdbsHqCUyTfG4nmod6Ec0I0PwRMZOFaJ++h48G+9+bevhlzDIsW0BhctEKIpR+iuo6XmEV0/\n",
       "g92PPtLKm2qurM2yWyGHbzqH8p0rXta/nEQ8J4vGR4BGdI8R4h1SE3vFgmT2McC9HjZFZVLK4ivZ\n",
       "xQtPChAAUq78SRWmXjeTh3aWPrSoCREodSbXb/V24fKpa/+peGjCYJZK4Ade4v1zn3vqFRc8SHAg\n",
       "mQnLAaThtLrYaTW+QH6WJ0EUcGp7cZDGqdZswozTFtnrrtQxCIi6Uvv4RiCcbrhTsYwSEH94wUGx\n",
       "RadPiOitJPv9ro30D7hKP01HaihfMVpQAC7Fq7geuFloO1U11NUPQJS199GqvCAAAAoRQZrqSeEP\n",
       "JlMFPD///qmWAAADAAhPK/8NrI2gA2q7AjdgKs94w2cPDdCj8h/+C/ue4EMPzVZVM9LPk1YJJDsI\n",
       "K/6CWHmOrNDJpa1lpfHw19GZ4pM3zbuqCpAoEEui5Ey3BeGYo+V9Q+LANO43fqm2mFa38MguUSRE\n",
       "mZYmX3eyuhGukrfX4GgKBmnzvoY56znKIigYu/IGCWW3gFGfAjcs4+g0QIEdDG459PGZjDaEt3cs\n",
       "5mvEeD9/wbIUcc624Lz60lQhvt7NYfXWnwxR6Yadeikuh86uN7mhkTsEX3jJXqijb9bjlUOKsJZx\n",
       "KQzZcI0LFoeuF1b/ryNrO0l2hWisppSUsJdTZDaMUN5T30cCyu5JXO8BvC1V/lksSia/jWykXryF\n",
       "uEyOs5F6tzWOvOUX2NbBLcxl99V6Bb7ylAllTl8PEbaP/Zc2ZY9Yh6hfZ+u76U1QHheOPFy4RqmS\n",
       "J4zSxTy0zQCGt+Kb87/uoNuRIUPDG1RQ0raMwbrF7dS8rQiqCPsvZvbdPOUh8bq5jVWYWboV0ROz\n",
       "icbxJiLCQpYkyPCxrDnxiItVh2UHhsHpBq2uSADI+NkIkj9Fla1InbSU6UJwpbuCmBcekAcHbhla\n",
       "bG6WnXo7SXDih+x1TEc8y7Tc0n0REowE/I/oKek1bFIPSlY0yNV7PxV9G7eHVzo7TBytYk3cXVCV\n",
       "naDvEuQMR9IbEXZrYtcZXKFxDE2uiRY4etd6PS04JHgJjaIIx/M0N66HTGKtNV51TpnuM+QCBJKJ\n",
       "/nVvFavB/bArp4w1KnUh+txXMnTsfaERz+FJsoJvAGDK5sILBN9ISRPXz4LlynC6akoJ4if4PD1V\n",
       "yXI/cEUuyOylrDsBujJ/pHi2pv4oxFGedI/2an+5eLiEEaKafMh5BCaNJkvzpbdJieF3zkcVGXtN\n",
       "m7GJmHWECwNnpDE7X1wlTHJfgOTShbts4m0oIN2R7mmNrUUfckCe/ihdbNE77iVIDgPyzr+WxiWd\n",
       "zzvxCL1VW67HtGYNEpZZN89z2xM2awRQai9wCsa5xX9cfa9s/MJA1gaRFen5HI9o5bzAOWmedDtr\n",
       "ook4A3M0eCRC7Pb+xqJJ1rXsPhyZEg0XW43KL1EHMiYWoJcjNb8B45bLFM5oZgSWpJvkjqcvrhcb\n",
       "0ROYc2YlxWks+10+7KPoRVHHnKMWZ9DEvcJr9tRDdtJqEl67TagVI6ix6oH/shlDnR3AmTkbk3BI\n",
       "ZN9wO3lD+w8BrfzDz0mO7heDNUZrMQqNYq6666jHmdieb5DFpeoHJ4ooKKNH7E/Q8MZNduOSivH0\n",
       "EAdncYGOSe5i5mDUNwDGKgMKz5nQHsf/qiUSYb1lYY1UDKLAu9GGIGRfV8OW5Rvie8TEf6Cd0TGF\n",
       "/Wn+eKXa2vWIwNPgIDkQfa+qrXUBVgHExmnoDjVOXNiKdILXvirHG5rDx5TwqnE9dLx9PhqdymYB\n",
       "yFlHI9XIArNpSSdcB2zxpeOt9AUivZ/PdxL1Yui459XcygxUex+r+aeXU1egFufQcvkop+/5d88s\n",
       "S6fOezJPkE9NThm22/f5tZpIMeiovkeuhjE1n4V6OUPJBgX3FpYjf0Vsgz8vkSZDAfgbpJTAgI7f\n",
       "jp8XPIv2B878GZJGB5QRtJ5EPWSwukNUePJW3Lug2hrtCwTZ08SDNLLQ0ry/fHSKNMI7ufe51mJc\n",
       "x19Wxx+5tZlJ7ueGQG+paRYxmG/PPzjGcHeF7objtceEen1Gk16EqKGSaC/7Be702DnSYF+bQOTJ\n",
       "B4FS/n2xiQ3l5xhQng4xMEZTExPdJQxARFMlxO2z9LTn2INtWrS8ja7P+/GIPHh4uq/OGfozpg3u\n",
       "xFkIKMxcLbf/PGzbNW3sOlBo50tcR+On11em7PN9TuSiodxqbD3Veoyetpad1cF0l9444/qn30pV\n",
       "KtfC8klh5GwJxeCpQDvn1IhPUubWSRvFHY2r44EXLZ0ReE1WTK4CDrH7iEmiLv9jNmYBl4JxL8rW\n",
       "mgyhCZ3O7IGEedsa/+4YBU+u4uSUsQ2bcF8FJUPiT8JQuIAXyOR/Q+Abvz/avVKHgmi9M8e2GnXJ\n",
       "xmbBU2VfC39dckuqwOEipzVOavAYs07BF5in4ll4DTjbiO4YJRJ53IuvjWrn4AC6StdnOiGHw/rS\n",
       "sVjI+UajxeuIcCpVVh3qWKrz1Vox/x6JWJYvXMe7J3V5WlToaCdnm4RWTYrXtK3CAFgloNdibqHB\n",
       "4Wl+Jgcs06bZpjzM9ultw0t3gbKBGgR389uYmm5cmK4WxOS/6CZ+DXBuYIuGNdSNyJm4LysfcSFV\n",
       "Rd8nedCEZ3wdWK0LpqnoeyxpJWgvbWk30ek580dZPzpSJj3GNege/V1Afrb5l+k32vMJLYV6xLjR\n",
       "gcenJW9/5dXMpXc615buUE40TpO7ZmCxAU//XSHrWi7kwRhT5YrDi5xh89yqgspkGhHO9RLyAVJX\n",
       "gd/gz6otf5j+51lQEJbunYcdh0huMMzrnttRijFitQbwnGqt4KLqEvxS0CQLdoHFBHzoS6Ja0iMW\n",
       "LCgs2SyMxIh1ENe3z0XtFUDhlL30S5WsusDytkg1osCaVwG89l17OBc2oQXonS5MKl5V2AA2YfCK\n",
       "3P4AzDK/qh3wMeCAc4nO71jXGd12gyoZlgVA2Ln3YHuxeGOQearOWJAe03qDr48w0ZN42lHe3wKU\n",
       "1ISGGB3+5QEmnC6TxJsOtYqgo8CrNYLIGx+6Vpty6p3oLJqx1IKTShPX/iOJcvzCCrvK3fBCfs0u\n",
       "/VsnCeGslUx0FPvUK0zoBtO2VNGJg6ioZHBTBbzV8HZ7hnhkCZ3YW9cCYfp6YaleA6XvYx5NEkUp\n",
       "KxURSSYWjswKFYft5h/e/icDknfQlEqcJVh3YRZ1yiAa+8g03ztAcF7Uq9LEq+GJRGCKWo1nZY+Y\n",
       "S6Jj4KuD/GxWYzplnHa/PX5Cy2Gs6quW3Q3Td4H0yeP/qzR3rPLPl5U93UISeHTaw61FN3G5RhUY\n",
       "4vmMc3Fu7OuipvkKO1Y2TOGhS9nqRpkII2yfmD4IyLSBlq9Q7IIetGLKDYd7GarGj0ojZlsC7mcq\n",
       "If43YpJBxtRBKuyOyUwyykGnF+8K1mzfZ8Ua9kC2ZjxONWn/S7VHOmBAs1j4PYZejR2f0xJTivYi\n",
       "STkbNjVJyEuSswqbu9PNUZ4LpMpzShuhLZqfgSzcBsD9nkf6LH6k7Q2/6Uoryu5UySsUL3telGOp\n",
       "G05Ul6EiSj9lyUhVYqAvl562h5tQwTm8XLXDoxE/G1ydGtWlBPiV+bbLaNJt6FTfc/JuNasF/Rmd\n",
       "xk+tPsmVR+zVEbzjS60owe/uX6AOOBnjUkIeBJyvUHySH0ZUNrcAIBEHFGWVxaGMG+aTgcwX6dxY\n",
       "3+OB0sT1ALc+kSwOahcUX6uIbQjOnKXfE/wVRHDBv7rt8oK+zwSyzvjwrKpUqMc6S4VCQtxO2f5p\n",
       "g07rMHHAAAAIQAGfCWpDfwAAAwAY3u5ItQL81GPN3f46TdzmPzgBOtWyuhyhmp08hSw4ecjPK/+5\n",
       "54LEyIls06pHpz7QrxSwVuCHwNK1V7yISiG/F844riBvJbt5Mu/zDj195vTHJizlrANHHYDIhmeD\n",
       "ogLQKhjv6+qQdXzUMaqce5hjmjlPgfRbSupv6cakJBr6b3EjMBUutW0L/WKPsktFClIiL3QO6Dah\n",
       "sd0+U2vdYaATjP9iISdBPa7q4sc728bXeoXneG2/5Je4X8qoq5CojSDkiACYyfJBjXnGSvF08MC/\n",
       "fyatDIJaYKORrXGQgFz1Rp3n1lzo9sdHXKqFy//oCjD3ExKg1JktnC1aS/26rbiKbUZn2iQJOmzu\n",
       "c+/cbPbRRSQoIc4Jp5xi3d4ePuOujwUDyLfyYQHuGlB2QDbQqpFHvtmbPWi5tC3NHFoj+ya5vkH3\n",
       "kMqK0I0OHEexBUnF2uy6LdFoc8PbGfxy1EY3/k7M45HYiVRHkRpcBtxMWXOaLof2MOV4O7UwASc6\n",
       "/U/N4XZfWxz5rq+zCezLMMptZBucPrj30qI3RXkJ4OG3gN/h1B84+Ii/t4msA65w4ZUr6mBsJxb/\n",
       "iCK4PaeeZTeIgwlPcBPncRAk8HuZhduHgP3GfTjgrGff2Ypkyoc7RZqdr4Ynwc1WW+8YuWL0bdHR\n",
       "Q8rKq9MZ7YJLQKmS7yldC6Hmv7qYdDu33O2YwEp93lX5ylK39hlrZyWNDAzY/2TxGxcygdao5ATg\n",
       "CzfZvfZGvEjTYSdcIYr3N9zTK5ugunKbdnMlBKZthJV8x2iqlg+QyAzQE5iTfiQKnn7whYxMANnv\n",
       "uoe6TqVrHUBGTMLBKMkOsDiIkC2zY1PWoAyrjD5lAKOAPhsBsU4RCeJdJTD2G3yrbrL4m4zeFYw2\n",
       "2vzHKleJagXZvK3EuJ0H3rndLV05hHYzUMG7Ea6taNfh5QX2yMAMvs6Hnru5IIJiQiBa6KaooXP+\n",
       "8vMZHEjMaszlItDKR+NJBgHmsgT+xFPU5bBCutLpDBngdbk+7irHMOCkvgc1IJCFTlyCi7bUyZNF\n",
       "+XWEk3JuVMGVnAzgxtewGOmlg2iD/uUKicOH58IDqlu9lOrsglNIf0gFPvXhlgiOooujQGbL3T/G\n",
       "8j5Jm1vA2LKQMhnaPADF4n8FG2ZrqMWz2EqqsDhxN/XM+jZcs2o7pefXKsiKLp6IUZmwBdmUqM7h\n",
       "Jq4TZk/sGGGwYrGx/2oMNtokz7oOpjpiht8swjG3vUQG94MeXsbVKQtr/YFt6Y8kz9FWJqNXcAsH\n",
       "0ftLtlcuvCNxz9D4xVQ87+FZ64ezvL/5n7ajkqOlA/iqXjmlm1pbaP+Dxdcw60+kbon7zcgLPsNG\n",
       "KiXSnKShEyl3Q4XF5uWkVA3j5jZWvVfDbG+4zV3fJymQ5GbIBjFzYIdZ0lYysTIz+4Uk304fMmky\n",
       "K2yBErrPjWOZhu1RuqqyAY47PbnhL4k5dJshWb9j3VH9lgyQbkolMvDP5gbXSUSXzu5gEY/5886I\n",
       "hjX6h0F/2dPnYZIu7bFhl1xxt0tRKn+lcmZwH8wE+qTJxNWMJeB4+6vI05DiSVsHQt7ENAug4pHb\n",
       "wy9eKyM6XQ7kqs/qWV1e4/Zb+hjVRyVPdA6YOzplYwqhaKRe5SU5HgFk4ogQkyWWfa5/aGOoIF28\n",
       "C6RoTnwbLInxMkbh4idODTygsM8reak/63gY/WhVxFpwKg/ejhcwmp7D1ZTgIKKEPVHcBeSGZmKL\n",
       "hjJ/NPBXi6WfMhJzstPEEq1PgF5RP1M1h27J+U3D9LJnUda4/d7cgkwUHaqb9/adkfK8DKZTTj1F\n",
       "xr46AxpQhKM4qmfMabkvkMNq8Amoi+7BVMSSscWP+dPXCiiZJNzwpk27cmHZ7Ob7AwSGxSVws+c+\n",
       "VFelLUS+7gCTkAFdppJ8Ag1ODLpiPKsTOYgdF2M5OD9uY2CQc519uO4qZjwk3+iKdB1L3DL5VLtd\n",
       "znKgkpxnRYh/AmtJJwMcQ/cxh8qr6MctAWjMPWtX8K5RXznqF403rwqIZn2FMKlWu3z43EpMHXjN\n",
       "mv7bzdQA/WB8X3JFLcakI7+Z2+ONfG09//gYryEMfVBgU21WWRMV5t8gFH3TM9Es5WcjF6NtOGRD\n",
       "UmT3NMOLuDy5mjKZp+YkMO/UIoom7Ret7iFp5y7jPS3XM1c+SbQj6zusvNJ2pZbqRv3Etjh3K0Bz\n",
       "iq2lGMOpmSSZHhfQCYOhRhqEj+7tuTCOAFxmt82cbejIQxjupNEvv0RvPRJMaRN9mTyfRk/fm/hY\n",
       "xzCiX40VqN0ld9SZO8jJ9qm9jwCFyuWErgFgngrnXgJnA5GHGJyAK2rEORL/DGqfoYukXvEfKVSs\n",
       "lQd/id3z2Z9yTz0uMRS0yVUfslO1x4Xr2L9ZryTXFKECX9Nfu9/rPbCbQWC4Jt4MZoA1FwUr+Na/\n",
       "oxLrJqGgcIvbMG/0KDcHkRWGTz6Ebzh/OYHQQwkD81ZE3EUcpeTchJaaEtG8d2IkvmsenMizb49L\n",
       "JG3/rKf9qYgMJTh7vt27s6dpYNX3Bjv+TLwbR8GX03y39c1aaJokGyoggFVGuxsn3FYRpt64EYQf\n",
       "F4uTCQr9vvlAzZs8jIV7mZmpMrrtxqrB/WpDDYyXmO8f2krvfkU28jWDE2SqbJsW5leGtvEQ1J3+\n",
       "4U7rnJLWAHAiCbIKONDLT234vFtWl8EqluV2RIYQuMEmILPdxQHwX+MS9qAH9ez6ui++nyWcB0B4\n",
       "21sP1pIbxQLSkRtrm2vKJ2NyFJgaqg5OhjS91Yl+SWMqflZP4I3ZO2xNcqePP2keiKVqxaBd8k0S\n",
       "k5In4hMtBKFGIyFu4QAACd9BmwtJ4Q8mUwIIf/6qVQAAAwBVOG/3mNh8BLW2SpG6cDy2cnwxwwpQ\n",
       "CFCiX/xaBpZTm+io/NtIQVOOJMlj/DuJ7yZZVTRjwC6hBBKVlI8k2rLg5kY2qJZpwdN2htXkd2hG\n",
       "/HHgTHaWzNbcqa6aiQViBRLtgqZste27ZiyecESJTb+XSzr+Q50KC02ZUgjIOWxR4fuRo+jJ5LAp\n",
       "l0yYaducv6ODy+QUFJgNl+GtqSW3HLFTa11JwhbDGR+WZUcOqqO+zPKh9+MAB8XiXEsaFkru4mRV\n",
       "gAgR+t4dqpnBJ55007Ttb0/oxfR6pIWyFcRA+FIz5+NFShcEMVgzVInXn5LePRTS7RSKUyaACYrz\n",
       "ukz6d1DaoK7nKvyv+N7f6p26j3HIoEDmBnMZ4FXSXuStF6fWHoJtoXH+nCBnwgVC2xyXXreLIGMa\n",
       "rt+Rb5/3rB7RM71HptBPXarmDFb4DUD8VQYGt6DrYJoAGhrbibmjrv3ER7gcaii4DGcRUt71XMmE\n",
       "wUj7n3phbaS6ptucRN6vnC4A+hSvos0y+AOZ3ea4eCumeCQHxy/8s4RU4qVZ9ceT4Wu5LWqaTxq8\n",
       "dgL1Flbf+sHT3M5cEk+NxkepIgr67WgcPvOqlrJm7x/hbLW5DHmx+e8bAimtPZzrTrL1JAAeMANO\n",
       "yx14hEOiZwAut9EdbdZsEyqWFrHKxi6cQtfBDsN2Yj4EEA770UIrunBtdd9GDVdyirgGNE2qt7o7\n",
       "db59rd+NKH75mEQKEWlQ0U5rO17g1/MfHR5AVo2Ck87Y6QEV+njo6D/4RAD73H9ukB881+fBi8vj\n",
       "Q8kCfGYTQqdQy6JvE43XwxMxXS3y/FFvSJsQEI6qN1/Oh1J/cq0O3usOVZTqNzvdJ2xQevvB6/FF\n",
       "ydSDlMhtVk3+SHGlHrHY+avdr8/o+enFMOLZWmClYkUtevgjx2ElTAMfDMk3cWaMwqi9UYdSHTGu\n",
       "aMDsEcMuxYzfwpx+gJ6jo5BB75rgAo03DkU8Fw0n40vSn6Bsf/tmkM1CfioUTmD/5ovZSkh/clnp\n",
       "21N789HjqhEG22AkZyRmADx6mOoMPTgV+cH6VKGHm8MmJTpbtHBNdYbRiyK4RVLNekk+BwBA3Zv1\n",
       "mOeOfv6p9vZajoi2ikIjsxpNIfDBjE05Z5yKKUEwAbSlRC9gYBLdwrEMKCxrMBarIwacc13tcvFT\n",
       "+bGVkdzmUttfhCdzJTpIepHFztdVcoYWS4u1dnNv/zGgMvwmfaDwrv7gfpAO79rOZboC3mGgbzjn\n",
       "Cvut7LlQGObZymhi1pz3ed3dPNrlxlX/Iss1poHW7lDEXuqrY4o9uPqudirBPXfFbxAthxMTH0iw\n",
       "AmcXXLDeEu+MtU9vxmP6C7rvvp+lIrT7aQIYsBwetIZMqRLXr+gXhv7E1+MWDfaDkop+7yfj+62V\n",
       "VIxVkk4Qz939pdbvIGxPHYEbYG9DyRrrDn8NAvnYsuWkJ+r37+C+F4+P3b4Ur/+8bZmk2mSakoic\n",
       "v41NmZx3R1WD1A3kgkPfcYbTb1d93nHCOz7DuRHwhgb6G/mGpFG5YqMv6b1xEgiFJkMCX1G+pdD3\n",
       "t1XL+jkPqutcvSm1REzjkY0i58/jUxVqJoXYGxKCF2G/zFq4ETI58NQl8r+icXvbeBDErm40Benx\n",
       "Rd3YvaFfAkO+zyMhVRJOD1tBcfVIZva3/xthCJt9OeDXemyCxCSHZvV8pIjouXUQknE3xyHVWr47\n",
       "h0mao6jhuToiGgKDRWnkBirQaYklOKQC+tpfy1iMD9opuuBmbQDmxYH+EQE1uy14kri7FBYx7GDv\n",
       "D55cTwpIRa4Z4aNJj25oDsbJYK7ai/X/CyW9E2TmYHovZv29uX3ilsax8R92b+kY4whWm3QJrRoT\n",
       "eTqXg7zLhlObLmh25hZm2g/8igDJyu9IaIKeRNz4YhFTzlQLQfA/NAqybSGwFZIkgwPlztjKSdhz\n",
       "RfUO6Qg1GKZ904YBrvthdADDwemq09wA1sarxa0KFyYilLbb/Pn/UvAweVQVeP4Zlq0fnyC/9Hs/\n",
       "YzoR8qvJRxOCLR/xGFoT3BJylKlG66TV8FiN6Hny8cjivFu6q+rcjo75OnJ1MORF1F3J93y67qjX\n",
       "8j80qmfGcbW8A5ALCdoZti9yk5W2Dfq2zrd8SsxIhOVREM0fYE7iDJqbzVt/tCeNxK+iscDifjdC\n",
       "vA3zYgE7W5jWT51IeCMqDQuTnvLJykdTCqAXcEymxJhtcsQ1wvHK5mI3UNtFniCkoFcu4sppecrV\n",
       "dW6RVI7/4Wu6/Pel+iYFUOxI5gfKQtxpLAQt1Hmuck1So24BgFj4T7MQwmBEUvrWzE3GjBt9sHET\n",
       "BtW1iBcCtpMON69b2Yxew436cUOrL6YGg1bQtHnsMjvWoIZdoIUp3y8Y0LXz2Uj8y7eO03QEU6Kd\n",
       "OV/PqsbqBxhlPRyR+Z2AnzzcEYs4Tt0PYD9i6M5d+B3JT4udEFgbu1Zqj+TizS9CZK3Hhxq1Zq3A\n",
       "d3/D5iUigJ7+P6qQA7TbI5oPwVIvxTLq9UbZ5dqxirP5u3JhSMfGbOc/Oll1A7DcfDUMa+upYPY6\n",
       "o9gIp3ewolX4K96ZI08cgi/J3O+sUD7Bn7BGrbRo1jrqoFpPNlqnC29AFRswqeQF/2eZBpx6BRPa\n",
       "v/x19QRdhmsIVUjCGqklOxg1bf4WF/nFdPq+b5s95p1eNOOGyrC4jp0GbIITtq3fs95zgLUBoP34\n",
       "ty2SsSx7LXncyveN+Eb3jan5/HUGJkF14DDSgD5kW43q+Yg06B4HLl0NVynwC0AKg0ouT/YZ9iDV\n",
       "cZKq5bRPozKn8z4RvCgvFc7I00UfKNwEeLY1T6/0wiZqzvUwOv3d6C/LarKbN/663a4nt+GjJTGP\n",
       "lg16cUKts1OaRd/KuFWvjjgpNwdlnVa9z6ciGv+QIxVLViCWqpPD9iRDUWGOuBOe15cb4W0qcJBX\n",
       "DJRmoF7M2VcCq7Bfn5u/zxre5E3uaXs+aJ9EI73kgRUermJkuN5DsrEaOaWEGFAfhJ9KJ3wu/65E\n",
       "jAYwjrkQMknOy3/If+GmbD6UtXzGEq/masWE3Hew3XTGYvkoxq7BVaSNWvcqL2qeI7uDu/Kc7oQK\n",
       "TC7404Dv94rIjULCsGh/mP7bd1WlUt/g3Jx5O3GoiDoFJbYzM1d/8Z4JimSECNz2NjkF0n/n/8h6\n",
       "oIcxYQvuQ4yk9l+iFOHLweUbfBnBLMxspIrRtzX1IrXQQWDE8/wq9NDxqUnD/45nW9SABZ5t3uxc\n",
       "Iz5jETFzKekB0aQuAjRPtPm/VVk0Z1cgETKQdtdqAjwxewVEwr8zBKQGLEux7TOYvp93kcfDywoW\n",
       "U0KorVOvr+5hbwtIU6nZn9X3OyfFj5xhT7Bj3HRBXU2OoAN6AAAKJUGbLEnhDyZTAgh//qpVAAAF\n",
       "S8fAChefA1QYdnh106wQf0wJlmrtk5Av1C4f892q9bMSDnwZQVZbiA9JL0+TqQHkPTqo/hx7oOUA\n",
       "SZIob5yvDCtXlYskdkMp5cjKOJy3/IVrWygGnqerivrbAc+RMeiwKFbby2O6euSaZLITKi4wVcme\n",
       "uO+9izmeKnRpCm2u0ZKNfYmqoegCJ5kavG1RzQXsicJCRdswZ7X/7SJe44Ptlah/8lkOXd6s5CO+\n",
       "/FEQXxVJKhY5No2RZisal8s+NvtbMbkPnvCZ9upnqKOdtvh6hchi2GEkh9KN7RE/gt7T62paXM7N\n",
       "W7nDrL2nwB2OfRgKCvbl+eIQNt+PUHjE8mGXO157zieItGkWtM8Vs9C0DrzAgcDyk60lVYk0/hWN\n",
       "ApcfxXOFxkzZ+3aQZ09UgMTHk6IszRJn6lJYuj8FtIJiclF99rm9E4fZraEQAf4w1jZ+n7xYNn5B\n",
       "t3xVBeM5K56QAUdvzYzXRCl6/e8+Tfp+rBMEHgMhyEs6836jVObqzBkokwlwFdW4nu6IRlbbfzQe\n",
       "b7l4OOoByVrkoVKV2dLy9Z1qyhec1dkBOFyyvEnXfyupF85nY8kiKWFD9YNK48k6RM1VuBnbCiYD\n",
       "+mRBO/wCR99n+lEU3JORrARLLz4oQjIJJ1L08qPzvSXdtbA7uSeKSHwckwogg4VC/pmrOjWraCj0\n",
       "3u8jIWF7NcCWwoU1tk9fq/Rni8L3PM8iAQsPS/0Ubk+tbo9yzpNAo1FZjuxjJ4S5WCPz9TCgFAgB\n",
       "IQQlPPvHZBhuqK+M8mFtNV+dta4rm0xjXrD/QHnoOVKMCeqkBLN+gPiA4imJcNxPHX6wNqbh5TyJ\n",
       "VDTzq+gHz/1fpg0+HNUh6L5ow7eR/SvrkoTgZQL86hJ10luVyma8ogjqTAM3gAx1K3FDCTsKZBco\n",
       "Pmb5OT/81TQhaZBkDhbiaJoI4HxuiaHp/O4cYKvUcLeaKHImGV6ub4h2htXpbvW+3aDgM/9d9RoA\n",
       "zH1bm46/QTElpOn1UKnBFQ4wgrZ4PHODdJfDdio6fcSGBTtNq6MJn0UGn7DYBWrLI3PU6nMT5TJX\n",
       "L7Jjb4HjYsHt3/J5ciCyLgOffVGRihUcWoj6SAbFdFSrqNLTDPcI1t8ruH69lH2Zb7jfikUpbeNj\n",
       "S7K2GPNMBQYUbg8Rkulkr/CScaEMpAHcWfFpHcDGH5qyor7lPkXnFFZXSK6KZPhsaeRy02mOJVUI\n",
       "QJiMxxx/Sqh3Zl36uK4PqMhx8dOpM3ewBpGJ+BeSRWPBtSH06LJbqjqoYZVfFhFx8OgP9UyhLTga\n",
       "Po3IsiClK/5Si3r5iOVFidKFUGe3wNjj92XjBDzMVZS0glcY80Ed8oAo7CWWTlhUBImzxB4tjzeT\n",
       "PfSSZoGI+7irhKarN/0AIawjTGW2MxP6S2qOAsU9VhQdvUqO5QZKiUfj0SVmNvzoPhcwKc/CnWAo\n",
       "/P0To7j6QFBJ8vRtmnFC9k9j84+FmBJic6B+cLFvMUBc0aK+ipGf1e7oWYz76Upl2PkmMVftmF1S\n",
       "Wp+F49r14u60ZN92ncksNACRzDKJCLXNLFZlfptReWC8Pyks0fE5V1aPuUIiaxwDulX352crkgHF\n",
       "NRooi5L+QYRBWwMgBwjm9PcFKLuNwjzErmva+NZWo+JK+cWmeEYLUhnI/z8HVZp3xdDuaa3eQFZg\n",
       "LhGsmnad4FfnCR/8H+/Z5+i/gF8JWXhNUiUExlK5wvOdnTEdAG67r2KbBbhRYUIMKzHGfe2QcMwi\n",
       "oaC0Mqx6qaNWWVGcWqU0D22SVYcxhznibF1wdx37tygTvB0duBCX1EQ9w7k2xp4I+Ulf5aCoL5VB\n",
       "93P3ox2m35Er/NYENHJRAsSzcniJRpBkVoC+Jfiu02P/Jw7xWcesNR1TDD9L3X25RrDUhA+8FkGb\n",
       "YDNFs6yVAJnwum5snr9173f6qNuLAUR81jd5n6OMQQTlzdIezDNse5i5yfpstSJMwbbcSaqu+YQW\n",
       "rplKvFrlbxx88Nk1vb5iEAowM8nkC8dEtVuBHN6t3t+D8MjlFNeuoOqoBz3QsNs7nIxETsFSiHxg\n",
       "2fMvtej7lou8JHxM6UKxmszshsS0a8ihgzytd0rCFQUktbOjeCwiFLAt8n8CZP71crzM3R6uvOw2\n",
       "00wr0t7YqnAWB+hQrl48t7v+Od5qnRmW8VsQf12gmWO+dg/pPBj3jyaAhm2Yqz4U/F+s+GQJUbg7\n",
       "Q12fcGZlDcml3QRi6ljGe1i5uChyra7n9DrfsFuSN0ibA9AGybVOwwR7P8SWg1CIxQ2w1ZxQNVYN\n",
       "LEfOjvfV1tTsgfQyOHW5a6mGSu8RmM7TGRvvxF/ICkRGMckmX4Ecd7yR+eglkIoNTXXy8iicNVsx\n",
       "BPLrQFsoWGhMXHkaYX1IjYpC+Secq98YfiV1IAa1y6yNd0vqN2+5GmoVKTCi4cunvtsE+AnSHLpI\n",
       "dhwUtlyWl8zVjnp7fx6DdNy6tXQVULO1eJwjKwAM+ab2j0lWMbTpNYZeUxD+CHi7o81Q94nzM8c6\n",
       "O9L6luEjD7MfULKGLz7hFJWsr9kRXWbnpzU3KWyJiPiesBHRXjhMbkNPWEEY7ZAemkM7BA478r2o\n",
       "tQgsYJJl+lbVWi5Qu2aiHXhf7flPfgBJ0D+S3joCnTKXl6YFbQJoipP3d5g/hrn/JUGfn1xu1ZeH\n",
       "ZkbbI0xyi/f2f994pnNLODlpOXsEzAfJvcK/JSeVdGqCQVQNXLwnQ7FB8BTLXXEPfLkoER1RhUzX\n",
       "AM4KV6PNEZ5I0llu3myV9mHYh2LYreUtnp9hpcXm61d+0S/WWaQrPqJDyHso0tpS2p5t7ArLasCi\n",
       "y8ouwBE7yjAExdt5tEP6rmkB3pKAdLmzL9JiY2VqjU5fDQrDpOfqBG9BgtOjQE1wnn4l0oJXnoaB\n",
       "aWJmcTdOARYUuUOolnm9PjAQYGetURDphYzWwA7Q3TElwul9ylmPQHHC8TZ+19NMAiICgilXUGJx\n",
       "zzoGh4rk62OfCrAot+/TfG1WWUKahrus2V29BG2+kEAIA1WNHuDseDHikYm/Sg9psbplX3A79Tt0\n",
       "QP0CfKuQmpbNbFFrdwbfitLFFzdlt5jWA+Z8QyrWjnek1PGuxy9wKC8K5nOuqerReRzYfv+xagWx\n",
       "dcXm1WuYFVHBGMYlndiM8Q8A5PJ7DcP8mggtcvLlRF6Ynfy3WzS4dGuNry7MTkT0kNLgNY4HWMSt\n",
       "8tmOKuOdS7OugMNbnjzsNdI6hcHqkIFBM+V+ZhqPbuMUc86sXfzIMNFzevKmWH8lB3nsUEdAx51M\n",
       "baYK4RqTM1/R7A47KoeAvOfMNjirpZYAV7+HZENoE+cqzCzAJNeGdBVVvoY5cslSEK0OVuN0iLHg\n",
       "swZ8ogLf9vJDmPNCsls816khV6PNG3nOlqatEl8PAfqwwR1VDUTr+IOGvx5xw8B/2DfR7gY9nd+3\n",
       "e02aQmXJ4rt6OvmSeB6QAAAKJUGbTknhDyZTBRE8EP/+qlUAA9Wff7In/jkEfEDdmvs5iNF8jKy+\n",
       "ZG4J/r3HN1O9dbNvQYa0NgogRwwkd0ukoFAnCw36mZt2EE0xirQD94Fagu509zt1pgSSVz9Cnnqr\n",
       "MtZtN2MrxD4YJCPD10h4XyeWL1cQsQPhdfUItn/60g0XH4MGu2Ts4ww2J7+8nIny1qDludyusVXE\n",
       "qQd2l2blP3Jy/aruzIxvFNM7J7fTcPnZSbiye5zOqJWyS29Ce5vBJiS8ZlPMFxpGbkYWP+8Y1U1J\n",
       "6o/ZaFCm7r2aprVSztqogwZaRiwQ/IsinpiksNRjCFNPrT213lm547AqHVtPGiJqL7L0KCeOrasm\n",
       "IvVzWeVNuZGmccNQ7RmifeAtB4DYS/N2hE791L/jd8FII66nfOAMqL1HsgDZppT3jmnlVEg3E90w\n",
       "iLVAAKOMZ1qlXUhlo2IGwdoIkoFBEg/blBL+fJ5SPm2O6LdnF0yfPym1eqIDK6c1QW8YR0IVD+3p\n",
       "9blPxYP+Ux/hq0TLYi/LFXipeFFNerTkhJ+KRYKFQDglk1MvnTOJIqMkt9gaDq6aueQQ7bBdMEAS\n",
       "lsP/nTsWd5lAo3mQ+jdKF4EXjk1fFXtYCd1YTxUFJ/uJ1ekU4nIRuEAzThI5gt3TL1mXWbD2KWlX\n",
       "5EAi/VhHAmR07P7tsa7JUbwHVuPDteeIR83YLhpT+aSlINsLDrQNQnlsgG5fQ+d++XoeXiwJkhwn\n",
       "stuMOlcGUqXtEPpOhVDxJKn3E+20R4TF2w/aDwqLd8ROKs7Ld7HOAcKsU9W1nFZfFTnyTh86RaxS\n",
       "k9ZrVdEUFtG0DVhWCZkh3pesfoQJrN6PclXonJbq69ITXx6+6UrMggR20TQPVlnedPN5AEecz8Md\n",
       "+my50aFnlRlu5Py53zOnX7qJxGKG2muouusHUREapK1gdeOZx6XDeb2CcD5beUyjNxEMZ8WFrwyx\n",
       "ag/BHF050NYEPydP1BSg7AeUl7hRFwv8szeTxPxFaMJoshUb7EDju3jWGhRhlCnL0ABXeDFObREA\n",
       "QXx8NDkcl5+U27KDmKMcEavctbyHJZEliOWoBIy0/9cqA55+TTi8B1hnWoGZSvCOlPAPFzRdL9Sh\n",
       "ZpmasyqrgpfTJH3Thq2jWtOZhfiL6KWhVV7m4Dht6eYQqPWSGtAqRu7+Mvx1HTQJ+e/omvi7EASw\n",
       "GQy0EYDD6s2Zwmtq3eKjxt19F+vbmOZXGdFcj2Fug66sWx3l/FDRcE0IodqApR4HO8UMv4k4V8nn\n",
       "Ii93ERVrvoavmcKBUfcAAP0bA56WhnVv/DgcyEBcj/9ob/OsbSfJ1C83TTPaTEMdxfPJQ0RAQx/P\n",
       "HhSdNM2NpmrgMYJZzJJWI0CifNyxlsbO57o2mChSRd/BvCsZs2JmTniOn/ErU+7sgiTIzJm4EDeL\n",
       "WYR+BsoH6aFzkYVArdA4Y8dWWQBWpvJFkPedH32IrtZM+wb7x0Uzhvd1dvPyL30rP5yagZt1b2F/\n",
       "jYyCdyUUGpE40IP9VPGxB+Ht3mfSYli7CBp6wE1xUIHq4TwnOqNGqlTiDRlUN1Q2RvxTVXurgwSB\n",
       "8BSKJs+FEG6F8nopTHKj8B0kI35Mnik1qqg0czvSk4AipSJL8zUlwG6vAhtqZniUu21oHtCtU6/6\n",
       "KYaCi19WJ3mLNrlLrEEYE6qUtjhMp7VCdjSl+eBSSxhfU+wLH15abPA1zmMK/Bru9HjiP8XkmzTf\n",
       "9h9VSWD+5Q243yye6H7sTgt3r/DryZtXu9XEsJDyD8y6kZlvhxzMakUJU0d5GxQQpH3eJ9NK2LLP\n",
       "NvbvyJtXdJpM6SIzKRfC+X20lWwKzwssCBjWxGKfqOYsDq9qAAAHZwGZKyhHzPYyTJX+9FKg+nUv\n",
       "8/ddgwaLNf30BzGwMhROJNWfangWByn9DmWf1eDxwGnmWzIZAhigXuYPm4QUJsZ7unU3LlsEWlSR\n",
       "UbgZt6Vp/8zTfGOjdsJtInXmTLvDfcIbg9sJi2UldMn4+EYmlkqhm/tFangIWXgWh47tpghNuKmY\n",
       "iH8JnfhHt6M9QuZhov8n04PqqOXF1g0D/Us9eSdzvWD/KTpwkei9KUhoDwG1gmWqVRAt110a0/TN\n",
       "J3pI2ObfEnYUqPUEFqsb95Zxq96+X8m5EZBi3A74Cx7B0HWByjlaiV6RtkDWQbuLrWkc+GQGfPO6\n",
       "So7cnaXPH2EAAAnnvyuy5IH9/p/aRfZzItOD1srAsMbRPdCke96Jjpx+g78YMSyfAHS1F78cTQ2s\n",
       "Aa5tXa49iKVoYXYjGYYvNZl4ESnQPDvEWy/2/WZPBdQnDEH7kLVkz3E9ZFEPW7kNySsJHwlIpcQA\n",
       "CL85XmGbmLrulDpexN8j/Sqpu2WwhJK3juFDncPjoeTf57IbWfDG1GScRhkZi1/R4DujIQN7r6a0\n",
       "PqN+MeZBG4DxQk3TbRSoiL03uXZi6ZLv+tYDW2JdfsH7VODfv6eVAqQROshMJHYyzSACABjakxkO\n",
       "IfaaGyrz8VxnvA4k6D3x5A+nY/+bI09zn88jo1px1KWUYHsbR9tN0KlEuUVUGewPjay5Z6kWFvI1\n",
       "bSgEWnjcEd/JEmVTBKwTjbW3HqaRJbzLA+ns+EFJ8dHTOXxjSKeYbojv9OCzx42vA7pTdlk0jpPj\n",
       "ksYc4R8SMeCx+TtlEVB0iHe3srvfvf8ZZX3pmh4YFIbgU+5Gjow2vd8YiEaFEl9cfAEx1hnk1g7b\n",
       "ayKDYlg0ndmElLrDlUkdq4rFuIkEQFAC6K2KvilnFwyS5C3ca+Vh/3DCSKz74mKKXVatzMBXQx9N\n",
       "FhA6fk3aoZnV//tBg4/lboohP5UcCuSWulyfIFITdHu3uptNJf0NE40Ur/Zz9ofFxd2Tik8IHJtD\n",
       "uALv2N97jcYkc+dlrFr5iLwwVf9xT46dJQ8zZAoWjf2rzHph07gWhm+F3IWoaOBQqsXtPkpawiJS\n",
       "skUJOMlkkcJ+y3jaeL4jWTBLGTk+OAsom9GJr8au7k9mpeVEaYj+mta4MMT0E8NU2JrS5HoBr2WK\n",
       "2Gjcp8rOs8XgfmlyFbGCM+B4PMG1XNyBxOWci756vX2OOLtYLO2cM+72Q8vXiaQFg1Gc5Ajzqkr+\n",
       "kNzAqmHlcA2UxliCCLaw3B8MmxB57+YiZfJkUvLp+dIuKWR9734yo7NB2SS0EN/dadjoxkPDFC0/\n",
       "udBaGxzBjAX54xIOPHyAfVZXzxwpAz43GIXR5pctyPDn8Aui6YlwwGfsSXepaPMFT3rjMsnM8QXZ\n",
       "nqjjQrmnfsgyRQIr63B51THSy/Z0t9eyo+Z4zvrb/mW4oZa4kmJkEwfCqrIhB7JSAsjW+/MI1boA\n",
       "EEs9LPsJRCVCegFdr6wuw2BUNXs4aTmsuoOUqbCxpUxdEc033p53ZTvJxfRP8EwMXTOjDAAKAsP3\n",
       "Jba9EkeselSrNZT8PPlAfltNWx3VtjeCZopTL1jADcOqsmqixNXQUqrEHlfpSsiLZSGpAAAIjwGf\n",
       "bWpDfwAE+efI5z1MmJjRmfwUjBcAJprCEcVyB9NUzB+CFJjR0HL+tq1+UMFHgNsamlcLFDOBSreJ\n",
       "oweM1Dk6RbIwc37qNPDLACEwURYmp1a99vojNIHcSL8wryJZo1Fg98ShIptx3J7IiElGxxZo8nsb\n",
       "cKycdqRYga6GbRT147pDaA5njGR1fwRFHbQQH+dEtAyUicjbr06ByC31SacXOQdg1P1PBhwHLbp6\n",
       "3AB7os+M7kCTe1xDIbiVuRGkjwBI9kyA18oOGRFyYKXLXsGPBiqPwt/MWOiQ3dgt9AvVd0vyASoO\n",
       "a0crTz2AlzZ0hwWqoeArtljNiGad1McOiRp1DCPqDDunBGH4cUnfsexJKqTgmYOfVstU0Y1ILuqb\n",
       "oyJzPRiZ+30GsarjicLUPGGF2n9RykZn5Xn0dBcGkuETKJA/e4FB0aViQFolGjaC/3cmduqRl193\n",
       "TbfibJi5d5h/fWe++M0ezXPvmW7f2Ttjf4+T5UXdVx205xmwDd6J5CbXgDSJZzIV2SQ/G1gH8G95\n",
       "qOrZ/EIV2DJsBI3Rfng0+TV2XRgHpFK6kRitjfnkNtl0A9bdWlGmwRet7Zbz/AN2y7uoGClETcQ/\n",
       "7itwgfe6Acj0hlJ9hG96Hmwo7ZvmKw1wqZvzfy5iWPQ9FEoAKreW7PQGGfm0yZ7KNI4VzeBRoVKw\n",
       "w8HdbfOJrZQqbueAIdZ8zbP/I5AJuUj9HE6NAjpNX+AywjkDpf8e9/3rz1bR2c3JlTuhQcZwgFSX\n",
       "ZaZN6r3tVzk+TCGj0ua9Cm3d8MaUqIPW2vmDKXYAhB7on/InQsFHfM3BohdQ3tI6WtlOXiX+uY2F\n",
       "zfVsfkORieF/GiD3imcqQE+HrZ9iz0F+tHCWFoij9nt0Nkzz2Rtl9W2QRx5iB+BZUjTJB7s3G28S\n",
       "rn8VV9EAoYMK2rEJ1KYai4WbRgMZ7YDb3Y5hsZwV9vPyy3xaF07dpeFMkiAy7qRw3mQYm9J0wmyU\n",
       "4+bgAG5O9ooZ8nc3rrbdfCOAchI6RKwC0SHJsu/B/zHW66YG15ykbgMkcx+jWa+HSGQ+dYe6XD4F\n",
       "HwbKSQ2CybD/od6BJOrby6DEMFQMlKnteriVG1ZohVMNX1fdzkGrhZdn/8jtVRZmWtD5bgJWnpff\n",
       "RIfpgoKba/FbW6ULfEiJAC/jgGLiTaRsYS53NpyKeRktxgyB/kGhMCUMu5nDqScZ+brk2vI+zsyl\n",
       "j1PBx52Rc0NYSY+cTkWdLfPuYVNTq67RMVcSF9NBsvnVRqASfKlvKFJM0ifX1AzkGpqcsHUWV6A/\n",
       "7TLWHoXg4lTr79BZYD+7y4EN3ScU2lU+tGGmb45IkcCIYMrAJnfWoKbS+FBNvc4SNxfWVDEXAe/0\n",
       "tN3HQzsNOYmuQotitdg7hwM0lEGK675utK1PoQ+/qPYScNl3MFo7tM9/avtn0VCe8GpAHAdaFjD9\n",
       "veFX/9xtEG2+pZZM+xA8dggvyh6Hva/6YBjTOtY0iB1q37gAfq33wa9wVOUdoLqmbyWG3BPJRj1f\n",
       "1LrExSdZza6GY+kLwty1rLZronzcnb74cb/ozybqreS5kL5Qr4FscOqKhzAiN03rb8Ma+JMM3rq1\n",
       "hCXy0noBwJYg4j8wz6Dx/0xi8FZvCyrblReehR2J+uH56t32Jpfn4eh8n1FynfKj/lwC9v+Jqrve\n",
       "rkkjSUqMa7fzAVCLgHvyvmudZjMuK79BiGqfTUoCg4miQjWrnbDZ3orq1NWYZbqg3rw+l84Xobhs\n",
       "hHBJsGmhdqnRaFLZp/KXr7sfEEBYLac3cwnpG7Zr3Hdv4nn5uAaPbxbA8nF4wE0KljU8tn8iDWtJ\n",
       "W+LiYl95C4C0uPSQ1BtXm6OYidZJdcTyiJLHt5Z+hIp4nk+xJcKhfqp0HTjy78JdFefXfyDXRwVM\n",
       "le9j1E3VvWomudtty7wQcNqmBOSOp73sofLtr4wOibXI0B88h+CkRMT8JCDLDSKMnxeXfZU+j8Qp\n",
       "B6k33XmMEAELQTNzcPs9L6poXVwMEXpSxgND4oPrCHsc4PRrK+Jlco0uqi9XAqusLw+ifMo2P0We\n",
       "PmHwfbee/u/tfUCQmlesJGRuPwX1vIHm1IfL4yNxJzATECxmC2YaHNv5mNPjwkKyRc4t1kxr7fE/\n",
       "Z8YCPFnnlMVSp5pMnULvYyeFe+hv2m7tU5VKDFO7L4lDUvYzygNQybNzItWHskvOV3R1KnNknXup\n",
       "CnNlzkT6T4uO5MkZ3tmymBnlUq1kMdcY2Fx6HELWt2IKy660nUY8b5ekrRpEGyZd1xL9cJozHnoq\n",
       "GWfyNVYp9Ya9NJCff+G1/8Fknp5RXVLqDEu7mqkSwcnpEDulvzP5fRlZ8b0NCKrPdbeGgXObAWb0\n",
       "7jqrGvpc0kInI5sATtT7Q3elBGt0CN8qEnv06kqnG9kUZcuRILdSia3X4xaVHxyAZLulofNspKp0\n",
       "a1DQ+n6puGtl8etMOjFrKeJ6Phon73Q1DiE26XMroRIcWJNV2Z4R8rfXrx5aCBbrajQ7mOBvEcTV\n",
       "y2fpEgqLTHBBQl2DLf9sB6OM8SL22jUdGemU7nR8VuEff0TdwtLqyIUnbBgnv3k6PHlgAOmlMFCm\n",
       "TuUn40BMTuZY1ePr163P/rume2BL57nBcReXP2oR24Ials6nQwghKBH0YiKdgrrCeU93wlsl4zcN\n",
       "M5jEUzqCWWK9SUPnqHuwbXmM8GGQLr4ESFjJx95sBwgATvrCfKFufNPQ4MIqpll+5xx2YOapnUmN\n",
       "a3l59cd+9oVc8eqm5rq4xXNJloYqO+KF4T0dFkuaqQYRJrRdY7psSMDx1JBAXiGMViqesl0UKb6Y\n",
       "X9fis5xFxhFFk1ZEO+UQe6vatCTq3NBoHpSdGUErtcjYQOrwDEEWhEAx32ouWU0JLr4fyhcetJUi\n",
       "Hqz6pyFJJDau0OuWbXhDiD88ka6ggcsAAArbQZtxSeEPJlMCH//+qZYADqfGLTP2bhJAv2SegA+V\n",
       "Pt/6/SQFYAAXaQsxgMhhRHrI/kgdboHnviy16e6V/oG5KPlTgLrdrzl+N6Cj7kaPuSIs3rUrXWhI\n",
       "T4+ENwiDBeh1Xo1ntdLuKVUQnkgd06CkJIERhWGe1d96FzKIt1tzctIW1ROVdjfQ0YYdosihXGBs\n",
       "XrQuJMXo+15jgTlI9V/l/OQmym0fM0Ey3uwDKKzHGbHcwpqM8zUySMAjNkgtZGf6UrNYWLPBmxui\n",
       "B/j68yh51XZ3FgPhgpAIbxgft/Hghgz71mtD6424H9TgECLPOEWIumcZOk7XOjcRKXw5ejwHDdtl\n",
       "UdI3oFIPaShA2tmDs6oaaJZ6wHPC+qUSnB6l44DXN/Ktox2XbSUuI1tMl3Nrr7oVrlDJkx+N0Pe+\n",
       "epzzaCK0X7xx0Yo5kyHOxX/LfdTFnONr1z5zaiJPm3YOuOQiA3gAldZn8e/NBXpz4UhsJh5EhbUa\n",
       "pMeUSPyVGKRlw4Uo6dyaxwzhSOpIuBn7pfWarpABZIZVEzIlaKmGmMhdQOGnovmCJfj1stBOOt2h\n",
       "gzHMZqez3dO4VWvumzw7/sFk92J1YlAkJ1kh07IWxZZ2fKFlxMxsx0Fs5XVpAGFRr575eR2gdb4q\n",
       "yoq9MdDNYtwpwgNO7R7gX/N2cVJL2h3FadR1BbZRFib0q7KLTSYrdDkaExQKRX0DeqxnV6rVkLme\n",
       "clVCvzkKH1CEx1gf1Eu+AnE+LEA42U49QpVK1Biq84/UmPA/GIVwypZMfZJhLKSbyE1OYsFAT0Yc\n",
       "/woEd8r5ZdC8Fy3B2pj/bCPDWCDIBIhKZU6KzFJCcmBOKvFk7x0b+XwhPgEW3y4I82UPcI9Nnoql\n",
       "IlwFu0WlOXUfiIGGaAANUW/NGmuKZ2nPCPC/EllUxph2hjlD9XuiJ5x7xufOTP0BlW4+4mkLrtyd\n",
       "mjtaVqSj4HsNaS9LthSnUKrG74jQLOSfSjGlrBwYq7v0igSjU70LIkiwCHd1FBJSQv7njVuroR8v\n",
       "qTI8zPiSIEsiT8zp0LH4wvoMkeFoPxMlX1Jpx0p2UUloVqtuHCy3qnPEqQEw5CucKMUJngWacW7z\n",
       "Kuqwe+cqtwlmqdNlOhCvYMOmssH6CyEY7VKuA+0ffqqngo7nzGjIAD5pqd6Ar4VGM3XITKg2/8Ui\n",
       "OA+bvzdJ/V+ILf4U15hVmZEp3DU0eidy6kDvSInjuId3I+euFqDko6RJvWQgFsUwdvj0kNYuXu18\n",
       "Rturj9+u/IyomzZQRa/b/SaObiVXQwrAMuY1RVWNmWMXnO/IY4VfHsgGRm+PazCEzlbrUhBbM18X\n",
       "7RqpZ9g+DZgWpReHuENwDvkgpHb1/+zu2MKcIWb5nIpL29NdEeNnVZFmOFcN9wAooyMUlHKX/tS2\n",
       "ra+iKMZgtUmA99TKk4UsTzIX9medxqDS/NTvrQoRcFWSqpAgu4+RtfCZ/J1vKrp0h2H7ps8f7Bc/\n",
       "6YsXh791Apj+6lWv1PFiwe/Wd+GLZqsXFvI1XoFIcR7ijYzpdTbUY6pXFMZX3ZqkPB87uIRZmbvy\n",
       "jZ9GrNF7fUKWrrDWswD7tOJ8tfQWBjAvJkpFdgpsgxdHwxQqctSCFMUEoO2iha2VfSEhn3OEYrir\n",
       "PXFVk78lUP7gXe9KFuWnvdCnEKV8ZgM4gAX4C+4Rx7Eo3I4hjxxjivt5um87QSPYPXz5AA0pSj43\n",
       "HFivm2wz4CXSb88MxywSKOLXp07iFZIGCeJSZWkp/chLPZnPyMQbgBeDjpoKWFyS4QnsHHidYdZh\n",
       "ROGLDQAFR9Y1UV9W16XSHunpp77XQu3MDoGDm5F2vsYCaRP0IPBTaOW2HxCat6R451rcSHxaFB5/\n",
       "Y6wYwyG5IJLjblewgzfZYs/quoBry2K1qqvVzd4WtNQXM2XhuMVEwjp7t8cU6sJPjrOcaSpbH5Bk\n",
       "WRyg7F5YX/0/8vFwrfQX47r79XiUdSxX8xxIzVl+CKtQ/5E6GXEI+x8I/H306x6JLfnmG7+TxBtG\n",
       "mXs6ynJHnCh0e+5nwZk2gTP3Huo/+COM/QFAO7voajxw2wG0dz6qdXaekss6qLWUG/B1vanwmTni\n",
       "B9AIE9kUJgvn6Xsqx/KXWyi+WaT/Mksa1vUqnXQbs3G47HzIV4wG37aeHRvCcWWqcWf8lcmsAGpV\n",
       "u6ap7Jynbnkxm5Vn4OTsXp1cvs8s8Hr56neVVLo3ZYnkNLfusmTUG+JIjeJ8GZQzWJ53jxqE7vp5\n",
       "/8kQutWGGHuFodbp+G0Bd9PE6h5P/ukQzkagaJFPW6qUGNrUiOVZJSfLDsVrK/GhaiSrEuzOuCB5\n",
       "X2r8XgHobMvyd/1dVzNsH1b0fuXMHoMha2ATIaYF3twYsaIIm7gveUrDspg1ByrL3oZE8J4mmyA5\n",
       "Ma8iPpHgJ3H7d9nDheF4CBxnF50KSWn3Ksca3eZOepaJ3I0EMvCw9LxzQP2I+aQcl5cawBE0KAvC\n",
       "gkgWh0TC1QkNP5snhGeVPvAu+o4W8xIjfXmqfG5SbVOv/8EM2OeHGf3H/WVNd+oeyK8ie8AB+DIq\n",
       "FPzBiAS0fAPUDtOBKl7BoP5YP6rLrknXj/hvVGCfigUpnwOSo0w14a3mruOZBq3gCBnGF0YYcWJa\n",
       "8tbAIK9kOyFxvwmGiIpEVT9REI1OD77Cl7ixhkx3l+F/bUgk9zWTQZ8Fpv7MalGSyZ95x5sgPV+B\n",
       "/wQJ8DJx2S6DsIYjrXYhlW5q8i4/4BV4t1QErU6frWYU+Fz/8oMJDz9neMJ6zM4DTW6E/nNPp98d\n",
       "1diAAfBae+qI4p7iV9c7268ecsqbLTaMm0m7QhvvM5J3x1AH3T4d10nZidjJrfSOXGDc4lA9zUWx\n",
       "Qz36zbE2zsZgYaaPmqdE3DWasv+McIbYYYHgfsk7P1FfnEVZMZ/CRnF9g/zXJJMHHXl1ug2Cjhii\n",
       "oXtRvO12EcgNBH+jkan2a7VARC8fFmgddA9u8jv1TtywVb+p27jpUtUGCWGPyJNvkr9Uo46hwuQT\n",
       "wdMf8asr2lhibh+swD/lV9dZeAUvq2Bkc3s9ytCisufkULGEwFy49XDXs8Cy+HZO5KAArHN9QE/x\n",
       "L/VW7beJ5BrLEY/EpxtYLvL2NbxXYcSFX5LZSRUd2AvVicoMgK634mQLJOqmD2kBAjz+aUggRMDj\n",
       "OvRjidEnFpoRboNF15YSP4MVnV61sqhD6UCo+8hn/GwWLjh903J4y9TTYwcu5h2eWMB595dbx6Nz\n",
       "rJbJQrzB6VPSn47bgXk5kMJXr1pbrpt3Nmg8ZzJR5NCeyeOCqY13JHFn+yqeJOVufuR+n7hblLTd\n",
       "TBdy/6pejZrcu5XPnrT8SRYPJq5b1R0nEwuLf7v5D6Il6R/yL7cMMDGLQHsaCJ6qZCiGRRMmofR6\n",
       "BDTyTzk/kRy+gs+CNo5zTDk8wLtLaXcAsTIw9zPMfXsDI18sAx/3JRoypacF1smkBLeKoN6/awcc\n",
       "HU64eU4mFydKEX+nIUGvjwzy/ZoPEdsuhOZ9nkHx3AoEqWzFwsk0nY07B+KjkfOgPtllx+yodXyq\n",
       "hR2GUo7Wc3gIZ7rBdt6LKo6tXT04hkDdlv/ajkVUZs6XSB2BW8KcCnPFEO6FBycNSZpx+TQyV3Mq\n",
       "DRPobZoLmxwcqOaDy4Mie2biBBLkgxvjyDG9L1ZjEw+7HcGWa7GBk2pR0iXfTwoYDwS8a7qD6tKY\n",
       "Yd3ga5FwcZy4gyUzMQAABwFBn49FETw3/wALP+yfCOgBACaa0RrFMXYh1+Q9j2x/QEoG2Ifu7FLM\n",
       "O+vpuLuFo9yDwk7NVWgDMHVAprpTPumprKKTZw1vfLOv2tzBm2lA69EaWKIsU0JAoQ6qiNIgM7pA\n",
       "WYUwciT49UrRwtoOxpLVqjbrvhDe99/WrnLPvu5YOzyfBVekzDs1ABwAeXFFU0bhgHiiR/hiPmUf\n",
       "EnCmedNAO9GdWS7DaNo+ZSBvmS0mA4pb8m7Nnr1kBXD1MqCP2vgZsKHUxIx54Q5w/5VJnQJB5wUz\n",
       "YvkltxMZgYPGrdSInAV8EMNDeCzTNnxkKsntab2AmUTf0jzSF6pEAOjqPHeeXTVHqnXTrFpp2iGZ\n",
       "C6KSBwp/vyZZMunxrFsfJdDVx8nxFWtznlHmoXjb/jkLKTnOqhf4I4jCLjn4tDbZc0w5WLIOkmIG\n",
       "kpgjwWJwVC2KApZeHeKgNdjpVrLcA7U/DgtyGMiOqhSABckh42ks0AMm1vmtNt4bJqcb4Hwyuylb\n",
       "23vtxTbpXIOLRQsU+RCkOVsNZEW3CinrCajghZsE1p2VR0kjpxmwQGxZitTLo2ZOZZr70UTZy8Wy\n",
       "w6Iu5/KWufzDFPiwmcIrgNJZkjoCUTww9hnphEdGBPKpgAHJo+z5vUZmd+IDuLcUl4wfPntDyvDU\n",
       "YUnbtqtF8iM0eMPrNVvyk0NzRcCO0qlsaJEvSnfZd74ufNtRGfxe8WVyynz/lMxe7rFVlPxmX5Vw\n",
       "uqcadYASWFBnyZRfQxc+US3TCzOS1tAbgKLKEFtm4ROJXa7CuKD3PzG1d4dr1ytEkw/2ub0Op+xa\n",
       "+E82sSNJ3it2kVE1T+UoRjIKoJQB1QSjxAi9udJ5A4WmZbC0TxXAXJhFY5Gd/5IQUgNpSAEYCTEY\n",
       "VYMCLmmA7LKj9pPpypZ3zK7DTF/LOzpPBQF8uyV9C2Cjgfo86dthOws9N0T7f1oyUTCsgpX2pUMR\n",
       "GHURVwpDfAFSfTBvfWMnpdX3mLiFbtNILQP1EPq3qJcwlPrGS6nhL2YOvRTbYTqQGmNyOIsYuAY6\n",
       "cX99MXaQ9+vLA0HlaeOcwFYWMIoc8ElnrOZgSl/AyX/hhhiZZPfPmyi+zP470vUxIg7qYopwdUuO\n",
       "SFFq7UV7Kii1LHKLcM3LcQUergQCZelZFrJ1CWsDq5XeQKEitO3biLI+Bt+v3ANHwXfxp19TmB3A\n",
       "yTy/mz9xfAzD4uXDHJiL3Fx8y/zCKQ1DnE0iJ1dNEgVdae00waaZJngBaOpW0zCJxb5ULJqqqFtK\n",
       "85Cnb+OLcVaKRpouuQXLSJmx6K377RIBRRJ4aGtw758I2IUrdGHHgfvJb5utqaKoJDm1uETqaKg+\n",
       "nMrpnXALTQijQIZzhwzsDF6OK5DCceIXDpmv3hufw1bG8RvHvRuUKF6zeyE/bsK8TD2YiZ9lh+AW\n",
       "Um1BD0dJxtyDE5DlzHsZ1vUiUJ4eP0Hr94GSlHkZUXX0aoQ/EA3pQKjRlkuiXaX7MfgKP6F2qrQx\n",
       "Hupt7vUALerByDi7Td4RQ/TYaj6B2SXFgmvuHeaUVsc3HmNkjGMwNe+Gd9UchR0W1c9vY/sHzzCo\n",
       "ehXx3hjiK+D7F2gVyr50gwOYsQbJAdOyK7CHSCUNdM0/sU36Zo6nvxjh1TSnpYUWt+fJQuqE2PJn\n",
       "YRe1eQNjJk7Pwe3YU6p8S7c6AoBUoD6CzkaDhsEcnClDemDimmpUuZ7ToBlZ5UtgVxWkE38bEk2Q\n",
       "v6QHywHEoENBkHuhEUG+5R7SMvG52VOcB5ZyIkQsIY1lS0S49Y/eWjvW436kFQGj/fvIp8xg+GVL\n",
       "RSn5zcCA+X9JMI0bIZ3i31lEyACTAV5YIGzgXkGsX8p3QFA0GhhNSvfwIYZl2f936mL1bdqUYmI9\n",
       "ROZT96rbDAkH6fYSol4MnXVb85xAC/Ac9cB6P6u00J2cE+R1a3byp9zIUlgKr7L9lQSiC3NalaJv\n",
       "z0iwe2vOk/KxI0Bjvu3kAeXi33Sp6U91d1luyROOz3jGA81Bjc+iK2948XcR6lGwpbWU/cEGMBrl\n",
       "k/oFxkORQxcvuz9KqySPRNnNCWiXzggOPxSTVfKm4Ylpn9AE9w10wavYZe+r1WHBqSa8ITduKGGR\n",
       "xJmuQ6g/1wvfLC4NpU5frrbBBEH0IVD03BNqD06lsTX1xn+AyPAAh/Kfuv127rEdBtPSmb1IYPus\n",
       "V+I6GeaKuCFSBcYdm+rOLh40AXtwI1OzXJKTyKWkkHVbYIyd2x5yJTQHWC62GMItzW083Yh5BaQu\n",
       "a2aqLBpOCKIp96+iGjAOIKOTDAwQgzhEf+oTV2IQVR2UtfZuLjBu5mNURdmiPiOYqy4KMr9qZaFY\n",
       "Isk9di+VuE4d3AM6w5bS0Re6ywY/kSdH5nqPDUfjwb6+u4kdAOQ3ijwN+AAABzcBn7BqQ38AC1p0\n",
       "hrfvnvobr3hpob+VxPAA6ulVUjCF1DRHL6XJVrCtBdy5L7lOi1bP716z4ZMuy1mYtJehxglPOMd2\n",
       "owd//Y62EYuCpISWd4texJ1wprrpi69vGJPGSzVqeOuNS35RpADnGiuFDNNFkWSKNhOl+HGYPjt0\n",
       "0pkspWxG+agq0RAQLiGFNBe6Qp7gL/FAOdSdOmj97xknFYpEZsQ9J5w4k+chjZ324t0IJDyAKTDB\n",
       "rJnxDE8fS3BJ690pFZN9i8iqOCY2luwH398wHTLVZ1eKIsBOFwcGE5R3t9KebvMmhKeyn1lam3fU\n",
       "O7FayBJZchzPUpzONzcIpePshnrOzYAa6JcmqaygdWFYQZl1nE0H7XY5DSYULSXCpuOBne4Wq7lh\n",
       "noSiZ8RLrIyZ8GHRea/Rgbm1SpuoqK+P4UTPLJo14qVg5o3WTimLSCh8XjOWx8lQbjxihyAt5IMO\n",
       "KeRm3YPF93H4lxN0g4ZugbUakGao9bNO+5aCbG9EwFqud6lsKop4+B+RLJRost5jit1n57yiBsJP\n",
       "yRQkDwVMJJY2dOlaeNLmIWKH7vFhwmpV1hYZ3VwWOybuzv6g6D8bAdQAS08+8A9dxgOvrQ/tOjrh\n",
       "f6YhAjCxO28t7uHBMaU8smw30F6QlJsFgegWL4VxMpjUuDo0SCtEmt4JRBt8lPOQchwntJuTFdYk\n",
       "7UhaKJUjGSEbK3Y3J+NFHZyURlNu5pnGoojwenwWJg0bQGnRH2Aw4bJTR9fc9mIpmEr9YkOl8rHp\n",
       "6FaGMSHefeVOcALLQmFrP8y54xqLUZ/OtxMWMRoT8VK37fZ0T4+P4NnRCIkeTaB8JEhPlDVQMZu8\n",
       "kxor1YGMVGjwRgOB6BIBuNxRaX7fmI1ELJiYc9QAbYGH1REz6OeW7KEdWvgnMSxKhC0TUt8B3h8z\n",
       "dcd8o/KHJTx4ite/doe3MKhWQuMNb//0x2nCzLulf8Le+yYMlYKqhDXuBV4IjRaYvjO2PaefngB5\n",
       "uaAWmo+o1Vl9J4d3RCUaPlFoU3EMP9SNSLvVY6XbcE4ucBZajl++hhHCHUc/PaxLwoeSDcmMcTGf\n",
       "bGvKj6eW+sQjFC+0griW2kbNkz8Z2ejHgGNgQHqujpHQhNbBiGhf39YzFVXsNJZUYziGYj2M1FC9\n",
       "MFdiL+4HRNLAgz3D12sD6WFKO2kavlDd3PxYCN7MwYw7fhhzggg57qFAHoiUjlE9AjwnKDBHvvY7\n",
       "n1HX/uhhct4ZRSDlhTJi0Y52fIQWKfrmdKXXtbChbhNl+8AY3JikForG6ewNqRAhfNpXvhA/dO4D\n",
       "rRYBvN49ViXnDOR6eRH6tWRSQAUyQ4zirNnD7atrS43/1F8ARtaJ7aEW9v25zZPmlWIsMpB48JFR\n",
       "AHTzRCJjMqrsEzfAB00f8LS4KyctSHMuWjGc6FRGdA5fuqdmVuSKr0BPGl8duGdAPj9HytkKn3wQ\n",
       "pau5+klsPTa+Gjqwz06iOEWVU/4P1VPaG0UyYmKsRNdcUK/jhMf+hcbp5EA5LEbuNH5ph42WtvX8\n",
       "vWAgrmRQFPptjsBotuqPNSpp6Jx5h/hcK9+pFwnlN+pE53apdkrMlXc17qma6ASc7OwJISDCX80L\n",
       "/A+4J2Osdz2dUXR1ncdYgXSD3tk6EJSQD2mRTjU5ihWq1pCdoQNi+qA+VjTiTezEzhEH6rSZGxYd\n",
       "xt8roTiVvF2OSoj8OcB05Nl8Kr38J5z0ZyIFZYltzlDHiKprp6cisgLuQTDmXhNw3ARvzxKSqcMC\n",
       "2s0cWUlLeSQCU+c9XyByrr/3uUTHN6g0DxKidAWaa5e8662NK3fbrFZ+Ksd+Z/YmGpcYpEvhozAW\n",
       "dz2wvXVg2gepmNPpv0npZ0XlqJ/SeoWcLqw9aDiALR/9jb8iWvfawoqtRR1K6W52E1jXznJEA986\n",
       "KGpGBVYYIAfqr+Qiu41+8o/7pATScUvSerZiDSnOUS9OMZfUOOuM9k8CpGd1Ol0FXYNMI6GsctaO\n",
       "PdCHAafQLOQitdYO5Xx35pVuydN3tZCvGZpFh3tIEWvpLsn1pfEwCXNBF0TPyeVequyCv3Jn5Jym\n",
       "onAShVHHY31Efde8DKDVyS0VoYuPD7WLkfgbUpGIzUmAEvcB4ohnvOE2vob9p1uvyZbXzUKmaJ6r\n",
       "s53MXCIjdF7ApT4b3Sr73UQSBSobiJp6bBBYVwmsxCa0pI5aRbCO1ikCpSkrNmxILpZGDMdngMlf\n",
       "g96WnxgM9WRIUsxY1tzw0vfL0vR4CVa8TcpwwkDXj4BK19+EuXzD5gRcs9/8ZjNeP648dwnh0L/B\n",
       "iJSal19piU5Rnwj8r9K7luRkt4RD2wNbg3hdKHoIbHnUvCWJSgKb6shHfU5OxxWTNRFKA3m07wnw\n",
       "BOJU9ozrBuISS66vjXA66qHQH/qS7Z2UsbpscyhtKxSUfO3MN5HvV2JpN03Qh6d9Yrf6ZrEXvhyO\n",
       "tt5uoosYxnMbgAAY8AAACmdBm7NJqEFomUwU8N/+p4QAHG+AsBDutKnQ1aYthvXqbA4EInkJ7qCf\n",
       "Ve50E2wAQHQEch9fg92PNAB+cfdJum0975IS8iqe3up0csHkjdmjaD64o1g1/WSev8Az+5KoAAeX\n",
       "4fvNc26GxN/ZSLlTBU4sCUc2XPwxFKKVGkDztodTx5pa32+aMHwH/+X+oEZaCz7YLu3wudAvbKU7\n",
       "Qnkve1K5eDqFqcMicS4begHYjXiZyNL+iRNJtK9nBOmZK42wNo7wm0PWhjGjxjoyKMCn1DR4mOEU\n",
       "TtXENaJvbRb3pj3SyM0qYwO5BZKMzCiTZL3axPEJ1h3J/efGlUMuRr48TJPPCa4HWH8swlzQBnW2\n",
       "ow3DxNvJw+29fibF5ysVzxBCYlGT7sLcC8fUKag3n3QE8qR0SRLp2OT4zBHWZOSY6DyoBOtVf7JD\n",
       "ST+UIj1/o4+/egUXqTbefx5CsvFs0fnRyJwMzPSSXufa9jtcbYt8nijy1DF/Pq8KLaVGxbS1r0dF\n",
       "CrFDRB+IZa95he5HtKUOxlWyLu6ORvzavuTruxdLUgZO25AYuTBbpcA32vUt9bLTOD5iNGQIE8GJ\n",
       "thARDOHQ5XdizGhrw4YsA9+1xq74TV+GkLd2ysFRFecCpOrO8ZF7OZjGiRHQ3NQlfT7Pi7uaqO8z\n",
       "rjf4lbsPFLNBd8DJB7W4WOFa4CL03OhRWXvL7ajWYgnCdjyx+2ntEZ870ULLsQn7LWL3pYpldjfJ\n",
       "qAdsAsFKLo1yxxBUmtQvp9DTsQtfZQs3r8ihBDXEXj7yIyFeg8g0h4R6S6jj/29dj1nvHz0KLF0M\n",
       "XjDguRYY1dbeAAWo631AHXmTkCNOUsBqaABjQ0106nQwiYfy1vj89NVMvb014tgg6OAj0cHOiYA7\n",
       "j9tcyU7nnfzGgbO4EeHKnHMoj0O8tpzSzUphWCOb+rf7WGPeE+wlgTEAMTpOiR8heE+w5nDyNHKR\n",
       "tdOb2tRVNaTLAhSGuxZi7uVK1f7dzBDK5iBVaifHWpJt+bkhoBOsd3wLuFJ257RC6kgtCYrrxBvz\n",
       "YVDmp6h4vKXTH1+TUHsAXCf4C8YVdtXlmgB0EWjqgmfE/eFmsrTHVYsDMxiqszubKIspRx8TM7H+\n",
       "FiM8raLAvbDLPdTcnHsz5CxIbuD4MGet6j6kD/iL2KRbROY6I80qEuiKlPSq/n7jmo/1EyZnborO\n",
       "1lxn7b7ylusylPq58rAboYHj0a60AIW8heJh9Q307H2pmzEIVhsSggxZaeuGPuI35C8iNwJqpKzC\n",
       "ae60wZDCcqbCKVRgC7zxSnymIsiPAbJG8H1AK8QoC8RIUD0Wv2dd+nhVB4LvkxKu9bIIVHAqkw4S\n",
       "sjS69SZMF7EIrzBMpZln7Ovh1DOMa0ZintmKeflfCc2IJLu8UXc5dc56sa4+QVYJy4mxOk63DJAb\n",
       "QvC5P/Fw33k8eQoPGjKIBinFs9YpzATOOmKYsnUdYnk+1/Y1UxuChIgzJIMmqvQznnUg3Qmwo4up\n",
       "ZvR4JHWfpebKitrI4whyNwsN+8VPp2qOTdqTUXOLRSg+kiB4xfSGR4VOTYZSLLKTGStRS4ZPKZos\n",
       "QfByGtTktlND9nveGv2btly0vaJEQwhGYh5znonsuuiDHF5gtNLEpeT+zuAdZp7y+Dse/xRq5Umh\n",
       "+MqVmUP2bRLEyS+eBI1ppk/1un98pGC2n2Z+bH8QVeD1DZY/8zWhFOc5gfTRfmp0bFWdbxIpyPTx\n",
       "VdzNEjjI8XU8FcBfq13aHKGIf/doEFwkA62zCYHT/hQ2u34LY2kh87Gwhn+S2eRIEXtLix4nwTyd\n",
       "qZLfTBLCCfWxxYwjyxp6VChAwYf2+LFFPnX3lmlHgo0TMOeOlZWY0E2RMUq8Q/c9SN30WeH0eEeI\n",
       "m5Gc/lhr+dDP7OlWeM5ZgANjcmyFpIhJjvpo+7twzR9hzO17gQzTi/3Gr/JsJig8IP+msx4xIBS2\n",
       "5EV4Zo5nFSmvM/r4s9k8JCs2ZlpsTIJuZsFXLW6F4rYq1QoqU8K4DZC0BVYUgRaBYKy6Zez3BbTV\n",
       "lt1GDLqaq9i+2bGJMY0vXF3701SQHBeoT3cUCofkcJ+/P1j9AHFiYSUMIJkS0EZ820CVNuW18Ox0\n",
       "zDRGke19dy2I1D9YiHUaKLBVNU4Q0G+PiujVl2yIzOWa2rc29ODQ7Z7ssHqY7U6KlRwzE8XR080G\n",
       "asWr2wCsYVG9iRbiqsrJAuXBt+u/NJg5IyzCLay4E03dQQSuImwSmNu2W6UO+xSnJZammdVuvLPD\n",
       "eYMFtvQoN4rSHZBkSmrUSALPIsrWg+JA+rscTAywzqnEcsDchjSAeUlFiZElRM4kL0HMtVQtm9cT\n",
       "acPUGXXDjQIv1E/nnuk11bYTGCo76KjiXwPLKlgWyTI8lEvrJyW/J5Z02+/1UUUWKmRAUqSym6Ly\n",
       "fZhE/7r57Ylr36kzwGnfMKK6wJ9wl58PCtfqeaz005Rl2gvDANhfxsC2Lm/XSdtwQQCbk6gH/LH/\n",
       "lacR8ODq/x20SmC1Hv7mADgLWdu7CQNoFLdvKHP8AHKhqP36WcEadikMmpSw3eqkMUvb5hZWo0PY\n",
       "fs89BrOV9AREnIXjB6dzzXkXcb1Coc4h5/4tMxQhpB1otB7NxlrdEf28nElsqC6XnmqyNT+kKreG\n",
       "m0V1Omf4l5U0wd4GaSM+23nhbd+SuRswnuphefZkH3paLa29pS9wQa+MiZxrZxqHOfMM99HLV+K/\n",
       "LqPIV2LTqiE46X62eRA7VYBRi7AYENQ7DgKi5TR1JVQjjltKrQlyi6/BZkUj2/6i5XiIXZl7G0gy\n",
       "kt/ku943cEZaBxuQUKKxHmTK2bGO3JECP7DyuFAX/pctxEmzx7nSwL/xSlDrmsVEtapI+2hBdsXc\n",
       "jp45JhZaJ1IBt2syrvviox7m7iJNfQpE98oeOkRO0LTpioIBUVDpcwNBs2GiuuPRUWMo8DP07XRc\n",
       "MsCSmyi1fnoMyjc/pxZS1q2dNbCy7iVROJtS1B8x9zf0mETMclywDluoO1Bw2vqoWeDMtJi+pqmI\n",
       "pV6SOpxRqlbL5rJ1w0FT8UFWMBJ4xVUmaPWwoYY/tAhU0FfJ/SDQyP1rGhWF8xdcCPpVjTBegRyu\n",
       "jHVyijC8yGJYxmEtMk8oU8uL6WqF1S+RL45mOhj3NGL/RQLSajXHgjOooNG4oiRJ75D3SLPLfm1y\n",
       "+fedOAfIreJicxm22kJhJgqpnmFxVni0IIMzKk7g4XRUUcT3yLXw8pJc87SRbfTrdEl2Jo9HWipQ\n",
       "zwvdulMyUNUwjE99uqmZtnE+UuEVSTZiuv6i2AmMI3o9z+tmjFLKn3HL3i4fs+SAP7q9V1znQ3K4\n",
       "4ZP0Sv7DOBUx5HuH3ZyTwGFJloKH/RwgWpnWR3OUzNQNR3XaiOZMaCI0qf/Tf8Dm/6f5XvQlMFy+\n",
       "820d9rRyFX9fMyuO2miHVgYTGWjj7GIaHKHhkRhS4KVIuTGME8uhFrguSy5zPnb0PQClrflypq/A\n",
       "JwDZQPyTHAgHxVMNt/WpNg9hr2eOljZXdthQ43gcCFPxa2fujCTU7e4tDi02BZa1uOL/xkweyAAB\n",
       "twAACRgBn9JqQ38ABJcjJNXcPgYv9kMYLNIrpAB0rgbtMOFa1KNdz7vjj2fsvG8JZf8TGfSgmL+z\n",
       "uakkyISzScdtDwmD4cXt4zEgz79cT664OtUxd+4BfyLbazQ1u/cExgJcDVxIn9yJcxdtBCUs34fl\n",
       "unsOOWWR5ivGOLphEJl9LnKJCKb+GkvtFa+jkZJopvRhmO2xAdDy55xQuQk0Wq7naz47ywHQlJcQ\n",
       "zeb0zyT03LkuFRD3UncpmJM/Ug4qqwZVxuDiPe3D9it4q4+8GSK846lkCWpMS4myXZ8QBFfLkoMo\n",
       "jEvqxNLvhwpLne7AvsuaPIVN+z9cCE0P/b02lkJjaMWAYQP8HXvI0J0e3sqc4KQExXHbqQs2zrgZ\n",
       "5oG3+eWJVifCCOO6I5azkrHAv4w/WPZ7Oq8YcN8OgDM3DeBawrMNrei0u+EO9/4L8Pz2PkxleYnl\n",
       "ao+Yi4gChKUQxZBToz1TJGNK3LBE/sZoA2/Eqto5FBlfQ5lVHa1luyJXT0Xs+mfXVmvDRVqIFU5U\n",
       "hyI9tM91UI3jNsAmFJUbe6Z8xO8hIQVFU4PNDb5ORSPi7+tKu11pupOPOKxRx2mplIS0W7dZPXrQ\n",
       "EPLszbg8yLOi2+DsjiNhOMGsdGoKa2SrlSMrpTFW6yF9SlARsZqGCuOa3s5CtcpGm3g08MaxPUxl\n",
       "cCgfkRR4j+A/zCTaxK3oL6wGe01zluwZLr27jxU5cGXEwF047342dI1CQdvYqxrUGA84l4rDYp+H\n",
       "AjL/+WkBlXjtB78hSWllRIKATRo89A51fOmG6L5AsEwYP8v00d1RHKP12UcLT4O4KXsO9a1rdLZu\n",
       "ODTs3xBzvow+R3uHykqqQd612CalEVTy7zo3pBsaTOIknJBiyfwFvY+8Zb+OdBAnvCK4vOPYelv7\n",
       "Jk8YZuqUiroNOmdpQT3yTVkzrWR3sw3ege1bMvfI2BbMEwO7qxJfC0YoL+1Wqklqij+IWJ/ZLyki\n",
       "BWNwrYCQo0djExH9jfa7PCJtsN+z/Yc8eygq/g3BpJfN/bmaTvIl2OX/kDV+4c9RrmjUP4iXQZbQ\n",
       "psr0nfF/7C6pHLh2V4VZg4gZvg1kcW7cWXKa8OW5Sl2YljBjE0qrH3hru8LEyz1XTZZ5NbpIvuGQ\n",
       "uRT6xjYzO8Jku4sqxrQrFcMo2fO3sh681f1O2VV/X0qFDZjdyHhG5RanntO3mayvQWgO39pTFxDZ\n",
       "Y3cMx/avqdgaAyIVR6gAm0o6DLDBFWNEWFzzPg1keobL0Y5KrBdM4zwqv3spSfm8bbFrMnhcPDBN\n",
       "vlatM3K6e+D7upf4hF6tqZKb3frDLFTzzez2JURY/qoQqPl73UlBPcQKBsOQEKWofwgAQX0q4P/M\n",
       "nji/Av5+Uug69eppJuigAmcp3XbbtvMPsSmferWHA5TBmgGcE0fThsdArfyRJQTdXU5A+jvlMnT2\n",
       "UAQXR8dqJlWEUyzvx70V/HcEGXiqapnjVKhhzObW//AIb+fTXQss4C+nabtKQ7swS2vDiqxnynX1\n",
       "Q3KO8jn3aAFDdbikoEcr80Wn7GoJu+oESiNH6pqezc9HZ1x/t2Lj+X5tFchWJv+0Zm096OeAm+u1\n",
       "TXpVqj/rUSTSWrvtvwqq+pfP+gyQNThs8oN+rI4zYjOrtLsgz205MU8dnrJdz6AUdalCGKdhJ7pN\n",
       "h8j5W2y3z+705ghUEtRpKJSrSW5LYCZkmYlSTL75Wt7nr1/DCdFhcsynTIYERdi2+4GthKYpsqR5\n",
       "lPi4owjey64In6FsRWsuCuhxAaeoboiAV2RaVCI473zqLHScUHv4lwr2E1bihYChLpeFGWfOQjTt\n",
       "e12181mMmPeKcfuTa1dJ/hojJXCznLCJDtQP/eG9HJ93f8PticlhMcHWj5on2J9QnCdohYmO0BBa\n",
       "jOTwa85uQg9YntSvKFUlRHVujkGxa247YoNuTO11Ufd7qwGlOBGywN/WBlke93QODdQETArEHnms\n",
       "IwCDnK85YpN0uW9xhzvPPTe9IV+fSOYsWZKpS5J41A96RmHGPFkr9Vm/hdTerD/r81m8VoU3NS3p\n",
       "sJ5WibfQKRDAP+Uiw+0VAHkJc+li5tsvrB9cV46Ckgeext4TmyvLiQrtBAT+6Y9LKmzLW2FYpifL\n",
       "YHQk4qqS40MRcbTGhAiB3p8bAdDEfCRCVvZUG7ds6iCS+T5zGbXQeADVSTGeK5XLZvF04D2oI48O\n",
       "/7mmKXIW22p64W3/neDWvKv8/zl7V51zYyD1fMJ6L2BUOR2u8fi9pP5rtn7u7oZROioD+iP3u7Eu\n",
       "V6XWfHVMaYscN50nbPRijh0CYv+5aDh146WBhTooZV9ZcBtTafMSNs0CnYM5OnatUNM9G8pkQa4W\n",
       "ZLYr2jl56eYz9C9tT61fmXyokMuEZbos+rxvSrnTnK/By3uJTuOKnWN8kwEFHOUPSxO4f2O4Zk5X\n",
       "tAHJpRKYD334i0sh2F2QZxvhyXoAbv5v08SNa1kc+XCZTQyoBi5BHQGnqphYPah819Tvub3/9ADy\n",
       "+ZTqsFPJ2zZe4rYuqZGAnT00TQXJ6gJfbbAraNpvZpfA9ZOwSQfRCV0TsEwuQfBRsqnE1IxizQ9d\n",
       "/K625yXWc5hXlK5Y8j8huCNidI+3jd2vTlSbIuw6FARA3hJidGysjZLhvxsFKzcxYnEYVXtmY2cW\n",
       "09YlONqpvbF16+1zJ/F+ahW20EKYLthJWjIrzamhM5vR1dcVrP6CBl6S8iG5V1iVYnHF9n9tX1X8\n",
       "QoYHpFVBy1rJvOpuxb0fsEK9bQY653rHiYgk07tdPEa3kBbsfN977UE3w4vEkHAR2JYqgAfGwVZK\n",
       "wEOJVGM/XaCCZLVY5m6j41Iyfi9v13nnARjQ3tVRPxkh9XjG9xM3Q2ETXCX/XP/9J6glyc3qpw0P\n",
       "sb0T8JfUaH52E9HVXkyj/mNon26/p3OCTM3eNfPvzPEJRXuS9WKuulfvE8owRy9pGpdwOcaSoQ0B\n",
       "7zUV/oisc7r8tu4QNHBOy0SebrtzGdpwI3KHPsm83pziPrKC1q/jARkG9tpzhQaQvgh+firsfutG\n",
       "EKpCGc3IyQWqswbsh+Fz6vheOGpXOfU0mu3LS1fpl+5MsHMHj0ftm/GgknZK5DfZMMAABEwAAAP2\n",
       "bW9vdgAAAGxtdmhkAAAAAAAAAAAAAAAAAAAD6AAAB9AAAQAAAQAAAAAAAAAAAAAAAAEAAAAAAAAA\n",
       "AAAAAAAAAAABAAAAAAAAAAAAAAAAAABAAAAAAAAAAAAAAAAAAAAAAAAAAAAAAAAAAAAAAAAAAgAA\n",
       "AyB0cmFrAAAAXHRraGQAAAADAAAAAAAAAAAAAAABAAAAAAAAB9AAAAAAAAAAAAAAAAAAAAAAAAEA\n",
       "AAAAAAAAAAAAAAAAAAABAAAAAAAAAAAAAAAAAABAAAAAAkAAAAJAAAAAAAAkZWR0cwAAABxlbHN0\n",
       "AAAAAAAAAAEAAAfQAAAIAAABAAAAAAKYbWRpYQAAACBtZGhkAAAAAAAAAAAAAAAAAAAoAAAAUABV\n",
       "xAAAAAAALWhkbHIAAAAAAAAAAHZpZGUAAAAAAAAAAAAAAABWaWRlb0hhbmRsZXIAAAACQ21pbmYA\n",
       "AAAUdm1oZAAAAAEAAAAAAAAAAAAAACRkaW5mAAAAHGRyZWYAAAAAAAAAAQAAAAx1cmwgAAAAAQAA\n",
       "AgNzdGJsAAAAs3N0c2QAAAAAAAAAAQAAAKNhdmMxAAAAAAAAAAEAAAAAAAAAAAAAAAAAAAAAAkAC\n",
       "QABIAAAASAAAAAAAAAABAAAAAAAAAAAAAAAAAAAAAAAAAAAAAAAAAAAAAAAAAAAAGP//AAAAMWF2\n",
       "Y0MBZAAW/+EAGGdkABas2UCQEmhAAAADAEAAAAUDxYtlgAEABmjr48siwAAAABx1dWlka2hA8l8k\n",
       "T8W6OaUbzwMj8wAAAAAAAAAYc3R0cwAAAAAAAAABAAAAFAAABAAAAAAUc3RzcwAAAAAAAAABAAAA\n",
       "AQAAAIhjdHRzAAAAAAAAAA8AAAABAAAIAAAAAAEAAAwAAAAAAQAABAAAAAAEAAAIAAAAAAEAAAwA\n",
       "AAAAAQAABAAAAAABAAAMAAAAAAEAAAQAAAAAAgAACAAAAAABAAAMAAAAAAEAAAQAAAAAAQAAEAAA\n",
       "AAACAAAEAAAAAAEAAAwAAAAAAQAABAAAAAAcc3RzYwAAAAAAAAABAAAAAQAAABQAAAABAAAAZHN0\n",
       "c3oAAAAAAAAAAAAAABQAABkEAAALTgAACPkAAAkuAAAI1AAAB3cAAAi5AAAK1AAACMcAAAoVAAAI\n",
       "RAAACeMAAAopAAAKKQAACJMAAArfAAAHBQAABzsAAAprAAAJHAAAABRzdGNvAAAAAAAAAAEAAAAs\n",
       "AAAAYnVkdGEAAABabWV0YQAAAAAAAAAhaGRscgAAAAAAAAAAbWRpcmFwcGwAAAAAAAAAAAAAAAAt\n",
       "aWxzdAAAACWpdG9vAAAAHWRhdGEAAAABAAAAAExhdmY1Ny44My4xMDA=\n",
       "\">\n",
       "  Your browser does not support the video tag.\n",
       "</video>"
      ],
      "text/plain": [
       "<IPython.core.display.HTML object>"
      ]
     },
     "execution_count": 2,
     "metadata": {},
     "output_type": "execute_result"
    }
   ],
   "source": [
    "from matplotlib.path import Path\n",
    "from matplotlib.textpath import TextToPath\n",
    "from matplotlib.font_manager import FontProperties\n",
    "from matplotlib.patches import PathPatch\n",
    "import matplotlib.animation as animation\n",
    "from IPython.display import HTML\n",
    "\n",
    "# set up a figure and axes\n",
    "fig = plt.figure(figsize=(8, 8))\n",
    "ax1 = fig.add_subplot(111)\n",
    "ax1.set_xlabel(\"$x$\", fontsize=14)\n",
    "ax1.set_ylabel(\"$y$\", fontsize=14)\n",
    "ax1.set_title('Linear transformation', fontsize=14)\n",
    "ax1.set_xlim(-550, 550)\n",
    "ax1.set_ylim(-550, 550)\n",
    "\n",
    "# set-up the thing we're going to change in the animation\n",
    "fp = FontProperties(family='Arial', style='italic', weight='semibold')\n",
    "verts, codes = TextToPath().get_text_path(fp, \"ACSE 2019\")\n",
    "# turn verts into a numpy array of size Nx2\n",
    "verts = np.array(verts)\n",
    "path = Path(verts, codes, closed=True)\n",
    "patch = PathPatch(path, facecolor='r', lw=2)\n",
    "ax1.add_patch(patch)\n",
    "plt.close()\n",
    "\n",
    "## initialization function\n",
    "def init():\n",
    "    return patch,\n",
    "      \n",
    "def animate(i, verts, n_frames):\n",
    "    theta = -2.*np.pi*i/n_frames # minus sign to rotate clockwise; rotate once\n",
    "    A = np.array([[np.cos(theta),-np.sin(theta)],[np.sin(theta),np.cos(theta)]]) # rotation matrix\n",
    "    verts = (A@(verts.T)).T  # make verts 2xN, then convert result back to Nx2 \n",
    "    # update the vertics that make up our PathPatch\n",
    "    patch.get_path().vertices = verts\n",
    "    return patch,\n",
    "\n",
    "n_frames = 20\n",
    "anim = animation.FuncAnimation(fig, animate, init_func=init, frames=np.arange(0, n_frames), \n",
    "                               fargs=(verts, n_frames),\n",
    "                               interval=100, blit=True)\n",
    "\n",
    "# save the animation as gif or mp4 if needed\n",
    "#anim.save('animations/logo.gif', writer='imagemagick')\n",
    "#anim.save('animations/logo.mp4', extra_args=['-vcodec', 'libx264'])\n",
    "# display in notebook\n",
    "#HTML(anim.to_jshtml())\n",
    "HTML(anim.to_html5_video())"
   ]
  },
  {
   "cell_type": "markdown",
   "metadata": {},
   "source": [
    "# Summary\n",
    "\n",
    "We have covered:\n",
    "\n",
    "\n",
    "- A reminder on linear algebra - matrices, vectors and arithmetic with them.\n",
    "\n",
    "\n",
    "- How to formulate and solve linear systems.\n",
    "\n",
    "\n",
    "- When linear systems have a unique solution ... determinant ... the inverse of a matrix, Cramer's rule.\n",
    "\n",
    "\n",
    "- Vector bases, linear independence, rank of a matrix etc, and how this links to the solution of linear systems.\n",
    "\n",
    "\n",
    "- Some geometrical interpretations of linear systems/transformations; the solvability of linear systems in terms of columns/vector basis."
   ]
  },
  {
   "cell_type": "markdown",
   "metadata": {},
   "source": [
    "## Next lecture\n",
    "\n",
    "We will move the linear algebra review on to eigenvalues and eigenvectors, geometrical interpretations, and more on the analysis and solution of (systems of) ordinary differential equations (ODEs).\n"
   ]
  }
 ],
 "metadata": {
  "celltoolbar": "Slideshow",
  "kernelspec": {
   "display_name": "Python 3",
   "language": "python",
   "name": "python3"
  },
  "language_info": {
   "codemirror_mode": {
    "name": "ipython",
    "version": 3
   },
   "file_extension": ".py",
   "mimetype": "text/x-python",
   "name": "python",
   "nbconvert_exporter": "python",
   "pygments_lexer": "ipython3",
   "version": "3.7.3"
  },
  "latex_envs": {
   "LaTeX_envs_menu_present": true,
   "autoclose": true,
   "autocomplete": true,
   "bibliofile": "biblio.bib",
   "cite_by": "apalike",
   "current_citInitial": 1,
   "eqLabelWithNumbers": true,
   "eqNumInitial": 1,
   "hotkeys": {
    "equation": "Ctrl-E",
    "itemize": "Ctrl-I"
   },
   "labels_anchors": false,
   "latex_user_defs": false,
   "report_style_numbering": false,
   "user_envs_cfg": true
  },
  "toc": {
   "base_numbering": 1,
   "nav_menu": {},
   "number_sections": true,
   "sideBar": true,
   "skip_h1_title": false,
   "title_cell": "Table of Contents",
   "title_sidebar": "Contents",
   "toc_cell": true,
   "toc_position": {},
   "toc_section_display": true,
   "toc_window_display": false
  }
 },
 "nbformat": 4,
 "nbformat_minor": 1
}
