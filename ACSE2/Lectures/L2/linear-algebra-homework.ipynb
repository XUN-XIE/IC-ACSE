{
 "cells": [
  {
   "cell_type": "markdown",
   "metadata": {},
   "source": [
    "# ACSE-2  <a class=\"tocSkip\">\n",
    "\n",
    "## Linear Algebra <a class=\"tocSkip\">\n",
    "    \n",
    "### Homework Exercises <a class=\"tocSkip\">"
   ]
  },
  {
   "cell_type": "markdown",
   "metadata": {
    "toc": true
   },
   "source": [
    "<h1>Table of Contents<span class=\"tocSkip\"></span></h1>\n",
    "<div class=\"toc\"><ul class=\"toc-item\"><li><span><a href=\"#Homework\" data-toc-modified-id=\"Homework-1\"><span class=\"toc-item-num\">1&nbsp;&nbsp;</span>Homework</a></span><ul class=\"toc-item\"><li><span><a href=\"#Homework---2D-linear-systems\" data-toc-modified-id=\"Homework---2D-linear-systems-1.1\"><span class=\"toc-item-num\">1.1&nbsp;&nbsp;</span>Homework - 2D linear systems</a></span></li><li><span><a href=\"#Homework---checking-properties-of-transposes\" data-toc-modified-id=\"Homework---checking-properties-of-transposes-1.2\"><span class=\"toc-item-num\">1.2&nbsp;&nbsp;</span>Homework - checking properties of transposes</a></span></li><li><span><a href=\"#Homework---prove-that-$(AB)^T-=-B^T-A^T$-[*]\" data-toc-modified-id=\"Homework---prove-that-$(AB)^T-=-B^T-A^T$-[*]-1.3\"><span class=\"toc-item-num\">1.3&nbsp;&nbsp;</span>Homework - prove that $(AB)^T = B^T A^T$ [*]</a></span></li><li><span><a href=\"#Homework---symmetric-matrices\" data-toc-modified-id=\"Homework---symmetric-matrices-1.4\"><span class=\"toc-item-num\">1.4&nbsp;&nbsp;</span>Homework - symmetric matrices</a></span></li><li><span><a href=\"#Homework---complexity-of-matrix-vector-multiplication-[*]\" data-toc-modified-id=\"Homework---complexity-of-matrix-vector-multiplication-[*]-1.5\"><span class=\"toc-item-num\">1.5&nbsp;&nbsp;</span>Homework - complexity of matrix-vector multiplication [*]</a></span></li><li><span><a href=\"#Homework---matrix-vector-multiplication-as-a-weighted-sum-of-columns\" data-toc-modified-id=\"Homework---matrix-vector-multiplication-as-a-weighted-sum-of-columns-1.6\"><span class=\"toc-item-num\">1.6&nbsp;&nbsp;</span>Homework - matrix-vector multiplication as a weighted sum of columns</a></span></li><li><span><a href=\"#Homework---formula-for-the-inverse-of-a-$2\\times-2$-matrix\" data-toc-modified-id=\"Homework---formula-for-the-inverse-of-a-$2\\times-2$-matrix-1.7\"><span class=\"toc-item-num\">1.7&nbsp;&nbsp;</span>Homework - formula for the inverse of a $2\\times 2$ matrix</a></span></li><li><span><a href=\"#Homework---tricky-matrices-[*---as-we'll-do-this-in-more-detail-in-L4]\" data-toc-modified-id=\"Homework---tricky-matrices-[*---as-we'll-do-this-in-more-detail-in-L4]-1.8\"><span class=\"toc-item-num\">1.8&nbsp;&nbsp;</span>Homework - tricky matrices [* - as we'll do this in more detail in L4]</a></span></li><li><span><a href=\"#Homework---linear-transformations\" data-toc-modified-id=\"Homework---linear-transformations-1.9\"><span class=\"toc-item-num\">1.9&nbsp;&nbsp;</span>Homework - linear transformations</a></span></li><li><span><a href=\"#Homework---implementing-a-function-to-compute-the-determinant-[**]\" data-toc-modified-id=\"Homework---implementing-a-function-to-compute-the-determinant-[**]-1.10\"><span class=\"toc-item-num\">1.10&nbsp;&nbsp;</span>Homework - implementing a function to compute the determinant [**]</a></span></li><li><span><a href=\"#Homework---another-way-to-derive-Cramer's-rule-[**]\" data-toc-modified-id=\"Homework---another-way-to-derive-Cramer's-rule-[**]-1.11\"><span class=\"toc-item-num\">1.11&nbsp;&nbsp;</span>Homework - another way to derive Cramer's rule [**]</a></span></li><li><span><a href=\"#Homework---implementing-Cramer's-rule-[**]\" data-toc-modified-id=\"Homework---implementing-Cramer's-rule-[**]-1.12\"><span class=\"toc-item-num\">1.12&nbsp;&nbsp;</span>Homework - implementing Cramer's rule [**]</a></span></li><li><span><a href=\"#Homework---demonstrate-volume-=-determinant-using-cross-product-[*]\" data-toc-modified-id=\"Homework---demonstrate-volume-=-determinant-using-cross-product-[*]-1.13\"><span class=\"toc-item-num\">1.13&nbsp;&nbsp;</span>Homework - demonstrate volume = determinant using cross product [*]</a></span></li><li><span><a href=\"#Homework---extending-our-logo-animation-[**]\" data-toc-modified-id=\"Homework---extending-our-logo-animation-[**]-1.14\"><span class=\"toc-item-num\">1.14&nbsp;&nbsp;</span>Homework - extending our logo animation [**]</a></span></li></ul></li></ul></div>"
   ]
  },
  {
   "cell_type": "code",
   "execution_count": 2,
   "metadata": {},
   "outputs": [],
   "source": [
    "%matplotlib inline\n",
    "%precision 16\n",
    "import numpy as np\n",
    "import matplotlib.pyplot as plt\n",
    "import scipy.linalg as sl\n",
    "from pprint import pprint"
   ]
  },
  {
   "cell_type": "markdown",
   "metadata": {},
   "source": [
    "# Homework"
   ]
  },
  {
   "cell_type": "markdown",
   "metadata": {},
   "source": [
    "## Homework - 2D linear systems\n",
    "\n",
    "Recall from the lecture the system\n",
    "\n",
    "\\begin{eqnarray*}\n",
    "  2x + 3y &=& 7 \\\\[5pt]\n",
    "   x - 4y &=& 3,\n",
    "\\end{eqnarray*} \n",
    "\n",
    "and the following plot which demonstrated a unique solution."
   ]
  },
  {
   "cell_type": "code",
   "execution_count": 15,
   "metadata": {},
   "outputs": [
    {
     "data": {
      "image/png": "[encoded data removed]",
      "text/plain": [
       "<Figure size 360x360 with 1 Axes>"
      ]
     },
     "metadata": {
      "needs_background": "light"
     },
     "output_type": "display_data"
    }
   ],
   "source": [
    "x = np.linspace(-1,5,100)\n",
    "y1 = -(2./3.)*x + (7./3.)\n",
    "y2 = (1./4.)*x - (3./4.)\n",
    "\n",
    "fig = plt.figure(figsize=(5, 5))\n",
    "\n",
    "ax1 = fig.add_subplot(111)\n",
    "\n",
    "ax1.set_xlabel(\"$x$\", fontsize=14)\n",
    "ax1.set_ylabel(\"$y$\", fontsize=14)\n",
    "ax1.set_title('Two lines', fontsize=14)\n",
    "ax1.grid(True)\n",
    "\n",
    "ax1.plot(x,y1,'b', label='$2x+3y=7$')\n",
    "ax1.plot(x,y2,'r', label='$x-4y=3$')\n",
    "\n",
    "ax1.legend(loc='best', fontsize=14);"
   ]
  },
  {
   "cell_type": "markdown",
   "metadata": {},
   "source": [
    "You were asked in class what other situations are possible and to construct examples and the corresponding plots - try to come up with and plot these situations."
   ]
  },
  {
   "cell_type": "markdown",
   "metadata": {},
   "source": [
    "## Homework - checking properties of transposes\n",
    "\n",
    "Check the four properties of the transpose operator from the lecture for some example matrices.\n",
    "\n",
    "Hint: \n",
    "\n",
    "```Python\n",
    "A = np.random.random((m,n))\n",
    "```\n",
    "\n",
    "is a convenient way to generate an arbitrary m by n matrix."
   ]
  },
  {
   "cell_type": "markdown",
   "metadata": {},
   "source": [
    "## Homework - prove that $(AB)^T = B^T A^T$ [*]\n",
    "\n",
    "As per the section title!"
   ]
  },
  {
   "cell_type": "markdown",
   "metadata": {},
   "source": [
    "## Homework - symmetric matrices\n",
    "\n",
    "1. Given an $n\\times n$ symmetric matrix $A$ and an arbitrary $m\\times n$ matrix B, show that the matrix $BAB^T$ is symmetric.\n",
    "\n",
    "Verify through an example using NumPy.\n",
    "\n",
    "\n",
    "\n",
    "2. If $A$ and $B$ are both symmetric square matrices, are $AB+BA$ and $AB-BA$ symmetric or skew-symmetric?"
   ]
  },
  {
   "cell_type": "markdown",
   "metadata": {},
   "source": [
    "## Homework - complexity of matrix-vector multiplication [*]\n",
    "\n",
    "Extend the timing check of matrix-vector multiplication we did in lecture for a small matrix to a series of increasing matrix sizes.\n",
    "\n",
    "Plot how your timings depend on problem size - I suggest you present your results using a log-log plot with $n$ on the $x$ axis and run times on the $y$ axis."
   ]
  },
  {
   "cell_type": "markdown",
   "metadata": {},
   "source": [
    "## Homework - matrix-vector multiplication as a weighted sum of columns\n",
    "\n",
    "In the lecture we pointed out \"another useful interpretation\" of matrix vector multiplication.\n",
    "\n",
    "Code up this approach and perform the same testing that we did in the lecture for `def mat_vec_product(A, x)`."
   ]
  },
  {
   "cell_type": "markdown",
   "metadata": {},
   "source": [
    "## Homework - formula for the inverse of a $2\\times 2$ matrix\n",
    "\n",
    "Starting from th augmented matrix\n",
    "\n",
    "$$\n",
    "[A \\, | \\, I] = \n",
    "\\left[\n",
    "  \\begin{array}{rr|rr}\n",
    "    a & b & 1 & 0 \\\\\n",
    "    c & d & 0 & 1  \n",
    "  \\end{array}\n",
    "\\right]\n",
    "$$\n",
    "\n",
    "use row operations to derive the general formula for the inverse matrix."
   ]
  },
  {
   "cell_type": "markdown",
   "metadata": {},
   "source": [
    "## Homework - tricky matrices [* - as we'll do this in more detail in L4]\n",
    "\n",
    "Consider the problem\n",
    "\n",
    "$$\n",
    "\\begin{pmatrix}\n",
    "    6.073 & 2.693 \\\\\n",
    "    4.772 & 2.116 \n",
    "\\end{pmatrix}  \n",
    "\\begin{pmatrix}\n",
    "    x \\\\\n",
    "    y \n",
    "\\end{pmatrix}  =\n",
    "\\begin{pmatrix}\n",
    "    3.921 \\\\\n",
    "    3.082 \n",
    "\\end{pmatrix}.\n",
    "$$\n",
    "\n",
    "1. Solve this problem using the `sl.solve` function, as well as by computing the inverse and multiplying through.\n",
    "\n",
    "\n",
    "2. Use `np.allclose` to demonstrate how many decimal places the two answers agree to.\n",
    "\n",
    "\n",
    "Stick with one of these solution methods for the remainder of these questions.\n",
    "\n",
    "\n",
    "3. Perturb $a_{11}$ by $-10^{-3}$ - how much does the result of the linear system change?\n",
    "\n",
    "\n",
    "4. Perturb both entries of $\\boldsymbol{b}$ by $10^{-3}$ - how much does the result of the linear system change?\n",
    "\n",
    "\n",
    "5. Round all entries of the original system to two decimal places - how much does the result of the linear system change?\n",
    "\n",
    "\n",
    "6. For each of the tests above calculate a relative error compared to the original solution (remember a relative error of 1 corresponds to an error of 100% the original). You can use `sl.norm` to compute the magnitude of a vector."
   ]
  },
  {
   "cell_type": "markdown",
   "metadata": {},
   "source": [
    "## Homework - linear transformations\n",
    "\n",
    "Recall from lectures we said that \n",
    "the action of multiplying by a matrix is what is called a [linear operator](https://en.wikipedia.org/wiki/Linear_map). This means that matrix multiplication satisfies the properties (for a matrix $A$, vectors $\\boldsymbol{x}$ and $\\boldsymbol{y}$, and scalar $\\alpha$)\n",
    "\n",
    "\n",
    "1. $A (x + y) = Ax + Ay$\n",
    "\n",
    "\n",
    "2. $A (\\alpha x) = \\alpha A x$\n",
    "\n",
    "\n",
    "Convince yourselves of these facts for a $2\\times 2$ example geometrically - i.e. plot these things as vectors in 2D space."
   ]
  },
  {
   "cell_type": "markdown",
   "metadata": {},
   "source": [
    "## Homework - implementing a function to compute the determinant [**]\n",
    "\n",
    "Write a recursive function to calculate the determinant by expanding out the first row of a matrix, using the formulae here for example: <https://en.wikipedia.org/wiki/Determinant>\n",
    "\n",
    "Hint: you may find  `np.r_` or `np.concatenate` useful to construct the indices required to form a *minor* (defined in lecture - cofactor without the sign) of the matrix - a key line of **my** solution for example reads\n",
    "               \n",
    "```python\n",
    "def determinant(A):\n",
    ".\n",
    ".\n",
    ".\n",
    "    det += (-1.)**col * A[0, col] * determinant( A[1:, np.r_[0:col,col+1:n]] )\n",
    ".\n",
    ".\n",
    ".\n",
    "```\n",
    "\n",
    "<https://docs.scipy.org/doc/numpy/reference/generated/numpy.r_.html>"
   ]
  },
  {
   "cell_type": "markdown",
   "metadata": {},
   "source": [
    "## Homework - another way to derive Cramer's rule [**]\n",
    "\n",
    "Define the columns of the identity matrix as $\\boldsymbol{e}_j$, i.e.\n",
    "\n",
    "$$I = \n",
    "\\begin{pmatrix}\n",
    "      &     &         &      \\\\\n",
    "  \\boldsymbol{e}_{:1} & \\boldsymbol{e}_{:2} &  \\ldots &  \\boldsymbol{e}_{:n} \\\\\n",
    "      &     &         &     \\\\\n",
    "      &     &         &    \n",
    "\\end{pmatrix}\n",
    "$$\n",
    "\n",
    "where \n",
    "\n",
    "$$\\boldsymbol{e}_{:j} = \n",
    "\\begin{pmatrix}\n",
    "0 & \\cdots & 0 & 1 & 0 &\\cdots & 0\n",
    "\\end{pmatrix}^T\n",
    "$$\n",
    "\n",
    "where the $1$ appears in the $j$-th entry of the vector.\n",
    "\n",
    "Define $X_k$ to be the identity matrix with the $k$-th column replaced by the unknown vector\n",
    "$\\boldsymbol{x}$:\n",
    "\n",
    "$$X_k = \n",
    "\\begin{pmatrix}\n",
    "      &     &         &   &&&&   \\\\\n",
    "  \\boldsymbol{e}_{:1} & \\boldsymbol{e}_{:2} &  \\ldots & \\boldsymbol{e}_{:j-1} & \\boldsymbol{x} & \\boldsymbol{e}_{:j+1}  & \\ldots & \\boldsymbol{e}_{:n} \\\\\n",
    "      &     &         &   &&&&  \\\\\n",
    "      &     &         &   &&&&  \n",
    "\\end{pmatrix}\n",
    "$$\n",
    "\n",
    "\n",
    "1. What does $|X_k|$ equal?\n",
    "\n",
    "\n",
    "2. What matrix results from the product $AX_k$?\n",
    "\n",
    "\n",
    "3. Starting from $|X_k| = |A^{-1}\\,A\\,X_k| $, and using the results from parts 1 and 2, try to derive the expression for Cramer's rule we wrote down in the lecture."
   ]
  },
  {
   "cell_type": "markdown",
   "metadata": {},
   "source": [
    "## Homework - implementing Cramer's rule [**]\n",
    "\n",
    "\n",
    "Use your determinant function to implement Cramer's rule: [https://en.wikipedia.org/wiki/Cramer%27s_rule](https://en.wikipedia.org/wiki/Cramer%27s_rule)\n",
    "\n",
    "and test on the system from lectures:\n",
    "\n",
    "```python\n",
    "A = np.array([[2.,3.,-4.], [6.,8.,2.], [4.,8.,-6.]])\n",
    "b = np.array([5.,3.,19.])\n",
    "```\n",
    "\n",
    "See if you can compare the timing of your solver against the use of `scipy.inv` and `scipy.solve` for a series of problem sizes.\n",
    "\n",
    "I considered the matrix\n",
    "\n",
    "```Python\n",
    "A_big = 5*np.eye(n)\n",
    "for i in range(n-1):\n",
    "    A_big[i,i+1] = -2.\n",
    "    A_big[i+1,i] = -2.\n",
    "b_big = np.zeros(n)\n",
    "b_big[n-1] = 1000.\n",
    "```\n",
    "and used something like this to compute a timing\n",
    "```Python\n",
    "tc = %timeit -n 10 -r 3 -o xc=cramers_rule(A_big,b_big)\n",
    "```\n",
    "Check the `timeit` docs to see what this does. You can extract the best time using `tc.best`.\n",
    "\n",
    "\n",
    "\n",
    "\n",
    "\n",
    "\n",
    "NB. this is the system above:\n",
    "\n",
    "$A\\boldsymbol{x}=\\boldsymbol{b}$ where:\n",
    "\n",
    "$$\n",
    "A = \\begin{pmatrix}\n",
    "5 & -2 & 0 & 0 & \\cdots & 0 \\\\\n",
    "-2 & 5 & -2 & 0 & \\cdots & 0 \\\\\n",
    "0 & -2 & 5 & -2 & \\cdots & 0 \\\\\n",
    "\\vdots & & & \\ddots & & \\vdots \\\\ \n",
    " & & & & 5 & -2 \\\\\n",
    "0 & \\cdots & & & -2 & 5 \\\\ \n",
    "\\end{pmatrix}\n",
    "$$\n",
    "and\n",
    "$$\n",
    "b = \\left(0, 0, \\ldots, 0, 1000  \\right)^T\n",
    "$$\n"
   ]
  },
  {
   "cell_type": "markdown",
   "metadata": {},
   "source": [
    "## Homework - demonstrate volume = determinant using cross product [*]\n",
    "\n",
    "Consider the following image based on a similar image from the lecture.\n",
    "\n",
    "Remind yourself what a cross product of two vectors is, and how to compute it.\n",
    "\n",
    "It's magnitude is equal to the area (volume) of the parallelogram spanned by the vectors. Therefore if we take the two vectors to be the transformed basis vectors, then the magnitude of the cross product should be the ratio between the area of the red parallelogram to the blue square, i.e. the determinant.\n",
    "\n",
    "Demonstrate this."
   ]
  },
  {
   "cell_type": "markdown",
   "metadata": {},
   "source": [
    "## Homework - extending our logo animation [**]\n",
    "\n",
    "See if you can update the script to generate the rotating ACSE logo animation to something like the second animation from the start of the lecture.\n",
    "\n",
    "Hint: to do this I made use of `scipy.interpolate.interp1d` along with `numpy.random.random` to generate a random path for the logo to follow, as well as randomly change the size - I smoothed these in time so the path and sizing didn't jump discontinuously."
   ]
  },
  {
   "cell_type": "markdown",
   "metadata": {},
   "source": [
    "e.g. something like this:\n",
    "\n",
    "<video controls loop width=\"400\" src=\"animations/logo-matt.mp4\"/>"
   ]
  }
 ],
 "metadata": {
  "celltoolbar": "Slideshow",
  "kernelspec": {
   "display_name": "Python 3",
   "language": "python",
   "name": "python3"
  },
  "language_info": {
   "codemirror_mode": {
    "name": "ipython",
    "version": 3
   },
   "file_extension": ".py",
   "mimetype": "text/x-python",
   "name": "python",
   "nbconvert_exporter": "python",
   "pygments_lexer": "ipython3",
   "version": "3.7.3"
  },
  "latex_envs": {
   "LaTeX_envs_menu_present": true,
   "autoclose": true,
   "autocomplete": true,
   "bibliofile": "biblio.bib",
   "cite_by": "apalike",
   "current_citInitial": 1,
   "eqLabelWithNumbers": true,
   "eqNumInitial": 1,
   "hotkeys": {
    "equation": "Ctrl-E",
    "itemize": "Ctrl-I"
   },
   "labels_anchors": false,
   "latex_user_defs": false,
   "report_style_numbering": false,
   "user_envs_cfg": true
  },
  "toc": {
   "base_numbering": 1,
   "nav_menu": {},
   "number_sections": true,
   "sideBar": true,
   "skip_h1_title": false,
   "title_cell": "Table of Contents",
   "title_sidebar": "Contents",
   "toc_cell": true,
   "toc_position": {},
   "toc_section_display": true,
   "toc_window_display": false
  }
 },
 "nbformat": 4,
 "nbformat_minor": 1
}
