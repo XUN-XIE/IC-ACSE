{
 "cells": [
  {
   "cell_type": "markdown",
   "metadata": {
    "slideshow": {
     "slide_type": "slide"
    }
   },
   "source": [
    "# ACSE-2  <a class=\"tocSkip\">\n",
    "\n",
    "## Introduction to (Mathematical / Numerical) Modelling <a class=\"tocSkip\">\n",
    "    \n",
    "### Homework Exercises  <a class=\"tocSkip\">"
   ]
  },
  {
   "cell_type": "markdown",
   "metadata": {
    "toc": true
   },
   "source": [
    "<h1>Table of Contents<span class=\"tocSkip\"></span></h1>\n",
    "<div class=\"toc\"><ul class=\"toc-item\"><li><span><a href=\"#Homework\" data-toc-modified-id=\"Homework-1\"><span class=\"toc-item-num\">1&nbsp;&nbsp;</span>Homework</a></span><ul class=\"toc-item\"><li><span><a href=\"#Homework---Perturbations-in-the-logistic-map\" data-toc-modified-id=\"Homework---Perturbations-in-the-logistic-map-1.1\"><span class=\"toc-item-num\">1.1&nbsp;&nbsp;</span>Homework - Perturbations in the logistic map</a></span></li><li><span><a href=\"#Homework---Taylor-series\" data-toc-modified-id=\"Homework---Taylor-series-1.2\"><span class=\"toc-item-num\">1.2&nbsp;&nbsp;</span>Homework - Taylor series</a></span></li><li><span><a href=\"#Homework---Taylor-series-(convergence)\" data-toc-modified-id=\"Homework---Taylor-series-(convergence)-1.3\"><span class=\"toc-item-num\">1.3&nbsp;&nbsp;</span>Homework - Taylor series (convergence)</a></span></li><li><span><a href=\"#Homework---Taylor-series-(a-different-function)-[*]\" data-toc-modified-id=\"Homework---Taylor-series-(a-different-function)-[*]-1.4\"><span class=\"toc-item-num\">1.4&nbsp;&nbsp;</span>Homework - Taylor series (a different function) [*]</a></span></li><li><span><a href=\"#Homework---Big-O-notation-and-large/small-limits-[*]\" data-toc-modified-id=\"Homework---Big-O-notation-and-large/small-limits-[*]-1.5\"><span class=\"toc-item-num\">1.5&nbsp;&nbsp;</span>Homework - Big O notation and large/small limits [*]</a></span></li><li><span><a href=\"#Homework----Big-O-notation-and-an-error-example-with-very-different-coefficients\" data-toc-modified-id=\"Homework----Big-O-notation-and-an-error-example-with-very-different-coefficients-1.6\"><span class=\"toc-item-num\">1.6&nbsp;&nbsp;</span>Homework -  Big O notation and an error example with very different coefficients</a></span></li><li><span><a href=\"#Homework---Ricker-model-[*]\" data-toc-modified-id=\"Homework---Ricker-model-[*]-1.7\"><span class=\"toc-item-num\">1.7&nbsp;&nbsp;</span>Homework - Ricker model [*]</a></span></li><li><span><a href=\"#Homework---Exponential-decay-(or-relaxation)\" data-toc-modified-id=\"Homework---Exponential-decay-(or-relaxation)-1.8\"><span class=\"toc-item-num\">1.8&nbsp;&nbsp;</span>Homework - Exponential decay (or relaxation)</a></span></li><li><span><a href=\"#Homework---Fibonacci-numbers-[*---we'll-return-to-this-in-more-detail-in-later-lectures]\" data-toc-modified-id=\"Homework---Fibonacci-numbers-[*---we'll-return-to-this-in-more-detail-in-later-lectures]-1.9\"><span class=\"toc-item-num\">1.9&nbsp;&nbsp;</span>Homework - Fibonacci numbers [* - we'll return to this in more detail in later lectures]</a></span></li></ul></li></ul></div>"
   ]
  },
  {
   "cell_type": "code",
   "execution_count": 1,
   "metadata": {},
   "outputs": [],
   "source": [
    "%matplotlib inline\n",
    "import numpy as np\n",
    "import matplotlib.pyplot as plt\n",
    "# the following allows us to plot triangles indicating convergence order\n",
    "from mpltools import annotation"
   ]
  },
  {
   "cell_type": "markdown",
   "metadata": {},
   "source": [
    "# Homework"
   ]
  },
  {
   "cell_type": "markdown",
   "metadata": {},
   "source": [
    "## Homework - Perturbations in the logistic map\n",
    "\n",
    "As mentioned in the lecture, compute and plot how the magnitude of an initial perturbation in starting location varies with iteration number.\n",
    "\n",
    "See how this changes with different starting points, perturbation size and choice of $r$."
   ]
  },
  {
   "cell_type": "markdown",
   "metadata": {},
   "source": [
    "## Homework - Taylor series\n",
    "\n",
    "We saw an [animated gif from Wikipedia](https://en.wikipedia.org/wiki/Taylor_series#/media/File:Exp_series.gif) at the start of the lecture for how the Taylor series approximation to the exponential function, around the point $x=0$, more closely resembles the exponential function over the domain $[-3,3]$ as more terms are included in the expansion.\n",
    "\n",
    "Write a script which computes and plots this approximation for increasing numbers of terms in the expansion (essentially recreating that animation - but a static image will be fine).\n",
    "\n",
    "Plot the convergence of the RMS (root mean square) error (you may need to look up what this is define to be - we will go over in detail in L4) computed using 1000 points over the interval $[-3,3]$ with number of terms.\n",
    "\n",
    "Hint: since the derivative of $\\exp(x)$ is also $\\exp(x)$, you can re-use a single function for all the derivatives you require int he Taylor series expansion."
   ]
  },
  {
   "cell_type": "markdown",
   "metadata": {},
   "source": [
    "## Homework - Taylor series (convergence)\n",
    "\n",
    "Extending the example from the previous question.\n",
    "\n",
    "Fix the number of terms in your Taylor series, i.e. truncate the series at a finite point.\n",
    "\n",
    "Consider how the error in your approximation decreases as you reduce how far you evaluate the approximation away from the expansion location.\n",
    "\n",
    "That is, plot\n",
    "\n",
    "$$| f(x_0 + h) - T(x_0 + h) |$$\n",
    "\n",
    "i.e. the error at a sinlge location, as a function of $h$, where $f$ is the true function and $T$ is the truncated Taylor series approximation.\n",
    "\n",
    "Plot using a log-log plot - what slope line do you expect?"
   ]
  },
  {
   "cell_type": "markdown",
   "metadata": {},
   "source": [
    "## Homework - Taylor series (a different function) [*]\n",
    "\n",
    "Repeat the previous exercise, but now consider the function $f(x) = \\sin(x)$ for $x\\in[-\\pi/2,\\pi/2]$ and an expansion point of $x_0 = 0$.\n",
    "\n",
    "The big difference here is that you can't use the same $\\exp$ function to represent $f$ and all its derivatives.\n",
    "\n",
    "But the derivatives of trig functions are almost as easy."
   ]
  },
  {
   "cell_type": "markdown",
   "metadata": {},
   "source": [
    "## Homework - Big O notation and large/small limits [*]\n",
    "\n",
    "Consider the example from class\n",
    "\n",
    "$$g(y) = 3y^2 - y^3 + 9y^4$$\n",
    "\n",
    "Use plots to convince yourself that\n",
    "\n",
    "$$g(y) = \\mathcal{O}(y^2) \\quad\\text{as}\\quad y\\rightarrow 0$$\n",
    "\n",
    "and\n",
    "\n",
    "$$g(y) = \\mathcal{O}(y^4) \\quad\\text{as}\\quad y\\rightarrow \\infty$$\n",
    "\n",
    "i.e. plot the function $g(y)$, as well as functions $Cy^2$ and $Cy^4$ to convince yourself that, respectively, as long as you look at small or large enough values of $y$ these do indeed bound $g$. "
   ]
  },
  {
   "cell_type": "markdown",
   "metadata": {},
   "source": [
    "## Homework -  Big O notation and an error example with very different coefficients\n",
    "\n",
    "Consider the example from class\n",
    "\n",
    "$$\\text{error} \\approx 10^{-5}\\Delta t +  10^{5}\\Delta t^2$$\n",
    "\n",
    "and convince yourself that for larger $\\Delta t$ values the error drops quadratically (second-order), while at a point the decay drops to linear (first-order)."
   ]
  },
  {
   "cell_type": "markdown",
   "metadata": {},
   "source": [
    "## Homework - Ricker model [*]\n",
    "\n",
    "Repeat our qualitative analysis of the discrete logistic map for the [Ricker map](https://en.wikipedia.org/wiki/Ricker_model)\n",
    " \n",
    "$$x_{n+1} = \\exp(r(1-x_n))x_n$$\n",
    "\n",
    "(i.e. plot it's behaviour for different initial conditions and different $r$ parameters, and the bifurcation diagram)"
   ]
  },
  {
   "cell_type": "markdown",
   "metadata": {},
   "source": [
    "## Homework - Exponential decay (or relaxation)\n",
    "\n",
    "This is an extension (both in terms of modelling physics, and numerics)\n",
    "of the simple problem ($y'=y$) from lecture.\n",
    "\n",
    "Exponential decay is a simple physical process governed by a relatively simple ODE. \n",
    "\n",
    "It also pops up all over the place:\n",
    "<https://en.wikipedia.org/wiki/Exponential_decay#Applications_and_examples>.  \n",
    "\n",
    "[This is a [link](<https://physicsworld.com/a/beer-paper-wins-ig-nobel-physics-prize/>) to an article about how the decay of beer froth following an exponential decay model won an [IgNobel Prize](https://www.improbable.com/ig/).  This is the paper <http://iopscience.iop.org/article/10.1088/0143-0807/23/1/304/meta>].\n",
    "\n",
    "\n",
    "It is therefore an ideal initial test case for use to consider.\n",
    "\n",
    "Better yet it has an [analytical solution](http://mathworld.wolfram.com/Analytic.html) and hence also provides an excellent case for us to test our numerical methods against."
   ]
  },
  {
   "cell_type": "markdown",
   "metadata": {},
   "source": [
    "Consider the following model problem which we will see *relaxes* $C$ to a value $C_r$:\n",
    "\n",
    "$$\\frac{dC}{dt} = K(C_r - C),$$\n",
    "\n",
    "where $K$ is a coefficient that dictates how quickly the relaxation occurs, and $C_r$ is the value which we are relaxing to (can you see what the units of $K$ must be?).\n",
    "\n",
    "This is a first-order ODE, and so integrating it up w.r.t. time once leads to a single arbitrary [constant of integration](https://en.wikipedia.org/wiki/Constant_of_integration). \n",
    "\n",
    "To arrive at a unique solution we thus need a single piece of auxiliary data - an initial condition which will generally take the form of specifying the value of the unknown at the initial time: $C(0)$.\n",
    "\n",
    "This problem has the exact (analytical) solution\n",
    "\n",
    "$$ C(t) = C_r + (C(0) - C_r)\\exp(-Kt).$$\n",
    "\n",
    "It is evident, both from the ODE and the solution, that\n",
    "\n",
    "$$ \\lim_{t\\rightarrow\\infty} C(t) = C_r.$$\n",
    "\n",
    "As an example, suppose $C_r$ is zero, then this problem can be used to describe radioactive decay where $K$ is the inverse half-life (should give you a further clue on what the units of $K$ are!).\n",
    "\n",
    "Below is an example of decay to zero using the half life of carbon-14, as used in [radiocarbon dating](https://en.wikipedia.org/wiki/Radiocarbon_dating)."
   ]
  },
  {
   "cell_type": "code",
   "execution_count": 2,
   "metadata": {},
   "outputs": [
    {
     "data": {
      "image/png": "[encoded data removed]",
      "text/plain": [
       "<Figure size 432x432 with 1 Axes>"
      ]
     },
     "metadata": {
      "needs_background": "light"
     },
     "output_type": "display_data"
    }
   ],
   "source": [
    "Cr = 0.0\n",
    "C0 = 1.0\n",
    "C_14_half_life = 5730. #  our temporal units here are years\n",
    "# and the following is how you turn a \"half life value\" into a \"decay constant\"\n",
    "K = np.log(2.)/C_14_half_life \n",
    "\n",
    "# let's plot things over 100,000 years\n",
    "t = np.arange(0., 100000., 1.)\n",
    "\n",
    "def Cex(t):\n",
    "    \"\"\" Function to evaluate the exact solution to the exponential decay problem.\n",
    "    \"\"\" \n",
    "    return (Cr + (C0-Cr)*np.exp(-K*t))\n",
    "\n",
    "fig = plt.figure(figsize=(6, 6))\n",
    "ax1 = plt.subplot(111)\n",
    "ax1.plot(t, Cex(t), 'b')\n",
    "\n",
    "# red dashed lines and dot emphasise the meaning of \"half life\"\n",
    "ax1.plot([5730], [0.5], 'ro')\n",
    "ax1.plot([0, 5730, 5730], [0.5, 0.5, 0], 'r--')\n",
    "\n",
    "ax1.set_xlabel(r'$t$ [years]', fontsize = 14)\n",
    "ax1.set_ylabel(r'$C$', fontsize = 14)\n",
    "ax1.set_title('Radioactive decay - exact solution', fontsize = 16)\n",
    "ax1.grid(True)\n",
    "ax1.set_xlim(0,100000)\n",
    "ax1.set_ylim(0,1.1);"
   ]
  },
  {
   "cell_type": "markdown",
   "metadata": {},
   "source": [
    "Your task is to apply our forward Euler solver to this problem. First you should construct a function to conduct forward Euler time stepping.  I suggest you use as a template the function from the lecture\n",
    "\n",
    "```Python\n",
    "def time_step(alpha, x0, t0, t_max, dt):\n",
    "    \"\"\" Implement simple time-stepper\n",
    "    \"\"\"\n",
    "    x = np.array(x0)\n",
    "    t = np.array(t0)\n",
    "    x_all = [x0]\n",
    "    t_all = [t0]  \n",
    "    while t < t_max:\n",
    "        # start from the most recent value\n",
    "        x = x_all[-1]\n",
    "        x = x + dt * logistic_rhs(alpha, x)\n",
    "        x_all.append(x) \n",
    "        t = t + dt\n",
    "        t_all.append(t)\n",
    "    return np.array(x_all), np.array(t_all)\n",
    "```\n",
    "\n",
    "but update this to the form \n",
    "\n",
    "```Python\n",
    "def forward_euler(f, y0, t0, t_max, dt):\n",
    "    \"\"\" Forward Euler time stepper\n",
    "    f is the RHS function expected to be of the form f=f(t,y)\n",
    "    \"\"\"\n",
    "    y = np.array(y0)\n",
    "    t = np.array(t0)\n",
    "    y_all = [y0]\n",
    "    t_all = [t0]\n",
    "    while t < t_max:\n",
    "       .\n",
    "       . \n",
    "       . \n",
    "    return np.array(y_all), np.array(t_all)\n",
    "```      \n",
    "where you pass in a function `f` representing the RHS of our ODE.\n",
    "\n",
    "\n",
    "Once you've done this perform the following tasks.\n",
    "    \n",
    "    \n",
    "1. Demonstrate the correct solution behaviour by plotting the numerical and analytical solutions on the same plot\n",
    "\n",
    "\n",
    "2. Perform a convergence analysis - plot errors vs time step on a log-log plot\n",
    "\n",
    "\n",
    "3. See if you can get the SciPy ODE sovler `solve_ivp` (,https://docs.scipy.org/doc/scipy/reference/generated/scipy.integrate.solve_ivp.html>) to solve this problem and compare errors as a function of time (use a semi-log plot) between this and forward Euler.\n",
    "\n",
    "NB. I used the following parameters:\n",
    "```Python\n",
    "# set some physical parameters\n",
    "K = 0.04\n",
    "Cr = 20\n",
    "C0 = 5\n",
    "```\n",
    "\n",
    "for the first part of the question I integrated up to time 200 to show consistent long term bahaviour.\n",
    "\n",
    "For parts two and three I integrated up to time 40 to consider errors before the long term behaviour kicked in."
   ]
  },
  {
   "cell_type": "markdown",
   "metadata": {},
   "source": [
    "## Homework - Fibonacci numbers [* - we'll return to this in more detail in later lectures]\n",
    "\n",
    "Consider the Fibonacci nunmbers:\n",
    "\n",
    "$$ 0 \\;  1 \\; 1 \\; 2 \\; 3 \\; 5 \\; 8 \\; 13 \\; 21 \\; \\ldots$$\n",
    "\n",
    "Let's label them $F_i$, $i=0,1,\\ldots$.  \n",
    "\n",
    "Then initialising with $F_0=0$, $F_1=1$ allows us to define all of the Fibonacci numbers via the recurrence relation\n",
    "\n",
    "$$F_{i+1} = F_i+F_{i-1}$$\n",
    "\n",
    "write a function to compute any Fibonacci number.\n",
    "\n",
    "After checking the result yourself for the first 20 or so numbers, \n",
    "\n",
    "Suppose that Google can be trusted, search for the 1000th Fibonacci number and check your solver against this value\n",
    "\n",
    "e.g. this resource seems correct: <http://www.fullbooks.com/The-first-1001-Fibonacci-Numbers.html>\n",
    "\n",
    "If your first few numbers are correct, but you can't get the 1000th, don't worry we will look at the reasons this might happen in lecture 4."
   ]
  }
 ],
 "metadata": {
  "celltoolbar": "Slideshow",
  "kernelspec": {
   "display_name": "Python 3",
   "language": "python",
   "name": "python3"
  },
  "language_info": {
   "codemirror_mode": {
    "name": "ipython",
    "version": 3
   },
   "file_extension": ".py",
   "mimetype": "text/x-python",
   "name": "python",
   "nbconvert_exporter": "python",
   "pygments_lexer": "ipython3",
   "version": "3.7.3"
  },
  "latex_envs": {
   "LaTeX_envs_menu_present": true,
   "autoclose": true,
   "autocomplete": true,
   "bibliofile": "biblio.bib",
   "cite_by": "apalike",
   "current_citInitial": 1,
   "eqLabelWithNumbers": true,
   "eqNumInitial": 1,
   "hotkeys": {
    "equation": "Ctrl-E",
    "itemize": "Ctrl-I"
   },
   "labels_anchors": false,
   "latex_user_defs": false,
   "report_style_numbering": false,
   "user_envs_cfg": true
  },
  "toc": {
   "base_numbering": 1,
   "nav_menu": {},
   "number_sections": true,
   "sideBar": true,
   "skip_h1_title": false,
   "title_cell": "Table of Contents",
   "title_sidebar": "Contents",
   "toc_cell": true,
   "toc_position": {},
   "toc_section_display": true,
   "toc_window_display": false
  }
 },
 "nbformat": 4,
 "nbformat_minor": 1
}
