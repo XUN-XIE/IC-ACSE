{
 "cells": [
  {
   "cell_type": "markdown",
   "metadata": {},
   "source": [
    "# Numerical simulation of the wave equation in 1D using Finite Difference"
   ]
  },
  {
   "cell_type": "markdown",
   "metadata": {},
   "source": [
    "## Import libraries"
   ]
  },
  {
   "cell_type": "code",
   "execution_count": null,
   "metadata": {},
   "outputs": [],
   "source": [
    "%matplotlib inline\n",
    "import numpy as np\n",
    "import matplotlib.pyplot as plt\n",
    "import matplotlib.animation as anim\n",
    "from IPython.display import HTML\n",
    "import sys"
   ]
  },
  {
   "cell_type": "markdown",
   "metadata": {},
   "source": [
    "----\n",
    "\n",
    "## Create domain model properties (i.e. speed of waves), and discretisation grid"
   ]
  },
  {
   "cell_type": "code",
   "execution_count": null,
   "metadata": {},
   "outputs": [],
   "source": [
    "length = 10.0  # assign a length to the model, and we're working in metres\n",
    "\n",
    "nx = 201  # 201 sample-points along the x-axis\n",
    "\n",
    "# start with homogeneous model - same wave-speed everywhere.\n",
    "c = np.full(nx,10.0)  # 10m/s"
   ]
  },
  {
   "cell_type": "code",
   "execution_count": null,
   "metadata": {},
   "outputs": [],
   "source": [
    "# There are 200 gaps *between* the 201 sample-points, so sample spacing is the length divided by nx-1\n",
    "\n",
    "dx = length/(nx-1)  # calculate the spacing between sample-points\n",
    "\n",
    "print('Domain is %.1fm, with %d sample-points' % (length,nx))\n",
    "print('Sample-point spacing (dx) is %.5fm' % (dx))"
   ]
  },
  {
   "cell_type": "code",
   "execution_count": null,
   "metadata": {},
   "outputs": [],
   "source": [
    "plt.figure(figsize=(10,6))\n",
    "plt.plot(c) # plotting the velocity model\n",
    "plt.xlabel('x gridpoints')\n",
    "plt.ylabel('speed / m/s')\n",
    "plt.title('Velocity Model (m/s)')\n",
    "plt.show()"
   ]
  },
  {
   "cell_type": "markdown",
   "metadata": {},
   "source": [
    "----\n",
    "## Time-stepping grid...\n"
   ]
  },
  {
   "cell_type": "code",
   "execution_count": null,
   "metadata": {},
   "outputs": [],
   "source": [
    "# let's start with time-step of 0.004s\n",
    "dt = 0.004  # will see later that we can't generally pick just anything - try doubling this, for example...\n",
    "nt = 500    # 500 time-steps, at 0.004s each, gives...\n",
    "time = nt*dt  # ...total time of 2s\n",
    "print('Time-step = %.5fs  Number of steps = %d  (Total time being modelled: %.5fs)' % (dt,nt,time))"
   ]
  },
  {
   "cell_type": "markdown",
   "metadata": {},
   "source": [
    "----\n",
    "# Time-stepping"
   ]
  },
  {
   "cell_type": "markdown",
   "metadata": {},
   "source": [
    "We know we want to simulate solutions to the 1d wave equation:\n",
    "\n",
    "$$\\frac{\\partial^2 u}{\\partial t^2} = c^2 \\frac{\\partial^2 u}{\\partial x^2}$$\n",
    "\n",
    "And we've worked out how we can discretise it using a simple 2nd-order (in both space & time) Finite Difference method:\n",
    "\n",
    "$$\\quad u_\\xi^{\\tau+1}\\ \\approx \\ \\delta t^2c^2_\\xi\\left(\\frac{u_{\\xi+1}^\\tau-2u_\\xi^\\tau+u_{\\xi-1}^\\tau}{\\delta x^2}\\right) + 2u_\\xi^\\tau - u_\\xi^{\\tau-1}$$\n",
    "\n",
    "From above we can see that the wavefield at time point $\\tau$+1 can be worked out from wavefields at $\\tau$ and $\\tau$-1.\n",
    "\n",
    "In other words, to find the next wavefield we need the previous two wavefields...\n",
    "\n",
    "So let's create three arrays to store these three 'time-levels':"
   ]
  },
  {
   "cell_type": "code",
   "execution_count": null,
   "metadata": {},
   "outputs": [],
   "source": [
    "# Create three arrays for wavefields:\n",
    "u = np.zeros(nx)     # current wavefield during step at time t\n",
    "u_prv = np.zeros(nx) # previous wavefield, at time t-dt\n",
    "u_nxt = np.zeros(nx) # next wavefield, at time t+dt"
   ]
  },
  {
   "cell_type": "markdown",
   "metadata": {},
   "source": [
    "## Initial condition for normal modes"
   ]
  },
  {
   "cell_type": "markdown",
   "metadata": {},
   "source": [
    "The equation for the $N^{\\text{th}}$ normal mode, with zero boundary conditions at the two ends of the domain, $x$=0 and $x$=$L$, and with wave speed $c$, and starting from a sine wave at maximum amplitude when $t$=0, is:\n",
    "\n",
    "$$u(x,t)\\ =\\ \\sin(N\\pi\\frac{x}{L})\\ \\cos(N\\pi\\frac{ct}{L})$$\n",
    "\n",
    ">**Task 1:**\n",
    ">\n",
    ">**Use the above equation to create code below to initialise the arrays `u` and `u_prv` for numerical simulation of normal modes.**\n",
    ">\n",
    ">**The variable `mode` in the code cell below corresponds to $N$ in the equation above, and $L$ is the `length` of the domain.**\n",
    ">\n",
    ">**The simulation should work for integer values of `mode` from one to at least ten.**\n"
   ]
  },
  {
   "cell_type": "code",
   "execution_count": null,
   "metadata": {},
   "outputs": [],
   "source": [
    "# the mode should change the number of peaks+troughs across the domain\n",
    "# (also changes oscillation frequency)\n",
    "\n",
    "def init_normal_mode(mode):\n",
    "\n",
    "    # FILL IN CODE HERE for task 1...\n",
    "\n",
    "\n",
    "\n"
   ]
  },
  {
   "cell_type": "code",
   "execution_count": null,
   "metadata": {},
   "outputs": [],
   "source": [
    "# define a function to plot initial wavefields\n",
    "# (in practice, we may not see u_prv if u is so close that it's basically on top of u_prv)\n",
    "def plot_initial():\n",
    "    fig = plt.figure(figsize=[15,5])\n",
    "    plt.plot(np.array(range(nx))*dx,u_prv)  # plot u_prv (first curve gets plotted in blue)\n",
    "    plt.plot(np.array(range(nx))*dx,u)      # and plot u on same figure (second curve in red)\n",
    "    plt.title('Initial wavefields')\n",
    "    plt.xlabel('x-position / m')\n",
    "    plt.ylabel('amplitude')\n",
    "    plt.show()"
   ]
  },
  {
   "cell_type": "code",
   "execution_count": null,
   "metadata": {},
   "outputs": [],
   "source": [
    "# We can now call above function to initialise wavefields, and check they look ok\n",
    "init_normal_mode(3)  # try for different mode integers -should work up to at least 10\n",
    "plot_initial()"
   ]
  },
  {
   "cell_type": "code",
   "execution_count": null,
   "metadata": {},
   "outputs": [],
   "source": [
    "# prepare an array to store wavefield snapshots for plotting/animating later\n",
    "\n",
    "snapshot_gap = 5  # set sampling rate used to store wavefield (every 5 timesteps)\n",
    "wavefield = np.zeros((int(nt/snapshot_gap), nx))  # array to store wavefields every 5 timesteps\n",
    "print('Storing %d wavefields (every %dth out of %d)' % (wavefield.shape[0],snapshot_gap,nt))"
   ]
  },
  {
   "cell_type": "markdown",
   "metadata": {},
   "source": [
    "\n",
    "## Discretisation and propagation\n",
    "The simple second-order discretisation approximation we worked out for the 1d wave equation is:\n",
    "\n",
    "$$\\quad u_\\xi^{\\tau+1}\\ \\approx \\ \\frac{\\delta t^2c^2_\\xi}{\\delta x^2}\\left(u_{\\xi+1}^\\tau-2u_\\xi^\\tau+u_{\\xi-1}^\\tau\\right) + 2u_\\xi^\\tau - u_\\xi^{\\tau-1}$$\n",
    "\n",
    ">**Task 2:**\n",
    ">\n",
    ">**From the above discretisation equation, fill in code below (where indicated within the time loop) to step forwards in time.**  \n",
    ">\n",
    ">**– Use the 3 arrays, `u_prv`, `u` & `u_nxt`, that were created above, for the 3 time positions, $\\tau\\text{-1}$, $\\tau$ and $\\tau\\text{+1}$.**    \n",
    ">$\\quad$(Remember that you will need to 'cycle' the wavefields at the end of a time-step, ready to start the next one...)"
   ]
  },
  {
   "cell_type": "code",
   "execution_count": null,
   "metadata": {},
   "outputs": [],
   "source": [
    "# define a time-stepping wavefield propagation function...\n",
    "\n",
    "def propagate():\n",
    "\n",
    "    for i in range(nt):\n",
    "\n",
    "        if i%20==0:  # show progress every 20 steps\n",
    "            sys.stdout.write('Doing %d of %d\\r' % (i+1,nt))\n",
    "\n",
    "\n",
    "        # FILL IN CODE HERE TO PERFORM A SINGLE TIME STEP (task 2)...\n",
    "\n",
    "\n",
    "\n",
    "\n",
    "\n",
    "        # store the current wavefield u on every 5th step, so we can plot space-time pic below\n",
    "        if (i+1)%snapshot_gap == 0:\n",
    "            wavefield[int((i+1)/snapshot_gap-1),:] = u[:]\n",
    "\n",
    "    print('Finished all %d steps' % (nt))"
   ]
  },
  {
   "cell_type": "code",
   "execution_count": null,
   "metadata": {},
   "outputs": [],
   "source": [
    "# now let's do the propagation...\n",
    "propagate()"
   ]
  },
  {
   "cell_type": "markdown",
   "metadata": {},
   "source": [
    "----\n",
    "## Plot wavefield at different times"
   ]
  },
  {
   "cell_type": "code",
   "execution_count": null,
   "metadata": {},
   "outputs": [],
   "source": [
    "# define a function we can use to plot wavefield snapshots in (approx) time\n",
    "def plot_snapshot(plot_time):\n",
    "    plt.figure(figsize=(15,5))\n",
    "    plt.plot(np.array(range(nx))*dx,wavefield[int(plot_time/(dt*snapshot_gap)),:])\n",
    "    plt.title('Wavefield at %.3fs' % (plot_time))\n",
    "    plt.xlabel('x-position / m')\n",
    "    plt.ylabel('amplitude')\n",
    "    plt.show()"
   ]
  },
  {
   "cell_type": "code",
   "execution_count": null,
   "metadata": {},
   "outputs": [],
   "source": [
    "# Plot at (approx) 0.25s and 0.5s\n",
    "plot_snapshot(0.25)\n",
    "plot_snapshot(0.5)"
   ]
  },
  {
   "cell_type": "markdown",
   "metadata": {},
   "source": [
    "## Show space-time plot for whole wavefield"
   ]
  },
  {
   "cell_type": "code",
   "execution_count": null,
   "metadata": {},
   "outputs": [],
   "source": [
    "# define a function we can use again later changing to different initial conditions...\n",
    "def plot_spacetime():\n",
    "    fig = plt.figure(figsize=(10,8))\n",
    "    plt.imshow(wavefield, cmap='RdBu', interpolation='bilinear', aspect='auto',\n",
    "               vmin=-1, vmax=1,       # set the bounds for the colour data\n",
    "               extent=(0,length,time,0))  # set the bounds for the axes\n",
    "    plt.title('Wavefield propagation with time')\n",
    "    plt.xlabel('x-position / m')\n",
    "    plt.ylabel('Time / s')\n",
    "    plt.show()"
   ]
  },
  {
   "cell_type": "code",
   "execution_count": null,
   "metadata": {},
   "outputs": [],
   "source": [
    "# Plot what we have so far...\n",
    "plot_spacetime()"
   ]
  },
  {
   "cell_type": "markdown",
   "metadata": {},
   "source": [
    "## Make a movie! "
   ]
  },
  {
   "cell_type": "code",
   "execution_count": null,
   "metadata": {},
   "outputs": [],
   "source": [
    "# define a function we can use later, etc...\n",
    "\n",
    "def create_animation():\n",
    "    fig, ax = plt.subplots(figsize=(15,6))\n",
    "\n",
    "    x = np.arange(0, nx*dx, dx)\n",
    "    line, = ax.plot(x,wavefield[0])\n",
    "\n",
    "    plt.title('Wavefield')\n",
    "    plt.xlabel('x-position / m')\n",
    "    plt.ylabel('amplitude')\n",
    "    plt.ylim(-1.3,1.3)\n",
    "\n",
    "    def frame(i):\n",
    "        line.set_ydata(wavefield[i])\n",
    "        return line,\n",
    "\n",
    "    print('Finished plots for frames, building animation...')\n",
    "\n",
    "    ani = anim.FuncAnimation(fig, frame, interval=50, save_count=wavefield.shape[0])\n",
    "\n",
    "    plt.close(fig)  # prevent final image from showing up inline when calling this function\n",
    "    return ani\n"
   ]
  },
  {
   "cell_type": "code",
   "execution_count": null,
   "metadata": {},
   "outputs": [],
   "source": [
    "# show the animation for whatever we have so far...\n",
    "ani = create_animation()\n",
    "print('Preparing HTML for animation (takes a little while...)')\n",
    "HTML(ani.to_jshtml())"
   ]
  },
  {
   "cell_type": "markdown",
   "metadata": {},
   "source": [
    "----\n",
    "## Initial condition for travelling wave ('cosine bump')"
   ]
  },
  {
   "cell_type": "markdown",
   "metadata": {},
   "source": [
    "This cosine-squared equation gives a 'bump' that is symmetric about $x$=0:\n",
    "\n",
    "$$c(x) = \\cos^2\\left(\\frac{\\pi x}{2h}\\right)\\quad\\text{defined for $x$=$-h$ to $h$, where $h$ is the half-width}$$\n",
    "\n",
    ">**Task 3:**\n",
    ">\n",
    ">**We would like to see waves actually propagating across the domain.** (I mean, that's what we expect waves to do, right...?)\n",
    ">\n",
    ">**So, rather than initialising the first two wavefields with sine waves that span the whole domain, instead start them off zero everywhere except for a propagating 'bump', defined by the cosine-squared equation above.**\n",
    ">\n",
    ">**The 'bump' should start at time** $t$=0 **(i.e. initialising `u_prv`) so that it is centred at position `bump_mid` (in metres) of the domain, and have total non-zero width of `bump_width` (in metres).**\n",
    ">\n",
    ">**We want it to be travelling to the right at the appropriate speed in the model, i.e. using value for $c$ where it is located (so it travels distance $c\\delta t$ in one step) – so use that information to initialise array `u`.**"
   ]
  },
  {
   "cell_type": "code",
   "execution_count": null,
   "metadata": {},
   "outputs": [],
   "source": [
    "def init_cosine_bump(bump_mid, bump_width):\n",
    "\n",
    "    # FILL IN CODE BELOW TO INITIALISE ARRAYS u & u_prv WITH A TRAVELLING COSINE BUMP (task 3)...\n",
    "    # (remember that bump_mid & bump_width are in metres, not sample-point positions!)\n",
    "\n",
    "\n",
    "\n",
    "\n"
   ]
  },
  {
   "cell_type": "code",
   "execution_count": null,
   "metadata": {},
   "outputs": [],
   "source": [
    "# Call above to initialise bump with width 1m and peak located 2m along domain, moving to the right\n",
    "init_cosine_bump(2.0,1.0)\n",
    "\n",
    "# plot initial wavefields\n",
    "plot_initial()"
   ]
  },
  {
   "cell_type": "code",
   "execution_count": null,
   "metadata": {},
   "outputs": [],
   "source": [
    "# propagate, and plot at time 0.25s and 0.5s\n",
    "propagate()\n",
    "plot_snapshot(0.25)\n",
    "plot_snapshot(0.5)"
   ]
  },
  {
   "cell_type": "code",
   "execution_count": null,
   "metadata": {},
   "outputs": [],
   "source": [
    "plot_spacetime()"
   ]
  },
  {
   "cell_type": "code",
   "execution_count": null,
   "metadata": {},
   "outputs": [],
   "source": [
    "# show the animation for travelling cosine bump\n",
    "ani = create_animation()\n",
    "print('Preparing HTML for animation (takes a little while...)')\n",
    "HTML(ani.to_jshtml())"
   ]
  },
  {
   "cell_type": "code",
   "execution_count": null,
   "metadata": {},
   "outputs": [],
   "source": []
  }
 ],
 "metadata": {
  "kernelspec": {
   "display_name": "Python 3",
   "language": "python",
   "name": "python3"
  },
  "language_info": {
   "codemirror_mode": {
    "name": "ipython",
    "version": 3
   },
   "file_extension": ".py",
   "mimetype": "text/x-python",
   "name": "python",
   "nbconvert_exporter": "python",
   "pygments_lexer": "ipython3",
   "version": "3.7.3"
  }
 },
 "nbformat": 4,
 "nbformat_minor": 4
}
