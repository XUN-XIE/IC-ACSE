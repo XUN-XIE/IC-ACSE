{
 "cells": [
  {
   "cell_type": "markdown",
   "metadata": {},
   "source": [
    "# Numerical simulation of the wave equation in 1D using Finite Difference"
   ]
  },
  {
   "cell_type": "markdown",
   "metadata": {},
   "source": [
    "## Import libraries"
   ]
  },
  {
   "cell_type": "code",
   "execution_count": null,
   "metadata": {},
   "outputs": [],
   "source": [
    "%matplotlib inline\n",
    "import numpy as np\n",
    "import matplotlib.pyplot as plt\n",
    "import matplotlib.animation as anim\n",
    "from IPython.display import HTML\n",
    "import sys"
   ]
  },
  {
   "cell_type": "markdown",
   "metadata": {},
   "source": [
    "----\n",
    "\n",
    "## Create domain model properties (i.e. speed of waves), and discretisation grid"
   ]
  },
  {
   "cell_type": "code",
   "execution_count": null,
   "metadata": {},
   "outputs": [],
   "source": [
    "nx = 801  # 801 grid sample-points along the x-axis\n",
    "\n",
    "# start with homogeneous model - same wave-speed everywhere.\n",
    "c = np.full(nx,1500.0)  # Note: 1500m/s is typical acoustic velocity of water\n",
    "\n",
    "# a faster section, halfway across model, to show reflection of waves when crossing sharp interface\n",
    "c[400:] = 2500.0  # Note: 2500m/s is fairly typical acoustic velocity of sedimentary rock"
   ]
  },
  {
   "cell_type": "code",
   "execution_count": null,
   "metadata": {},
   "outputs": [],
   "source": [
    "length = 6000.0  # assign a length to the model in metres\n",
    "\n",
    "dx = length/(nx-1)  # calculate the spatial increment between model parameters\n",
    "\n",
    "print('Domain has %d grid-points (%.1fm)' % (nx,length))\n",
    "print('Grid-point spacing (dx) is %.5fm' % (dx))"
   ]
  },
  {
   "cell_type": "code",
   "execution_count": null,
   "metadata": {},
   "outputs": [],
   "source": [
    "def plot_model(c):\n",
    "    plt.figure(figsize=(10,6))\n",
    "    plt.plot(c) # plotting the velocity model\n",
    "    plt.xlabel('x grid-points')\n",
    "    plt.ylabel('speed (m/s)')\n",
    "    plt.title('Velocity Model (m/s)')\n",
    "    plt.show()"
   ]
  },
  {
   "cell_type": "code",
   "execution_count": null,
   "metadata": {},
   "outputs": [],
   "source": [
    "plot_model(c)"
   ]
  },
  {
   "cell_type": "markdown",
   "metadata": {},
   "source": [
    "----\n",
    "## Modelling constraints\n",
    "#### CFL stability condition should be satisfied – the 'Courant number'.\n",
    "\n",
    "The dimensionless Courant number, $C$, gives a measure of how far a signal will travel between grid-points from one time-step to the next.\n",
    "(Hence why I will very often refer to it as 'the crossing factor'.)\n",
    "\n",
    "The crossing factor is $c$.$\\delta t$/$\\delta x$ for speed $c$, and we want the maximum value of this within the whole domain to satisfy some constraint that depends upon the finite-difference stencil(s) in use when modelling.\n",
    "\n",
    "i.e. we want:$\\quad \\text{max}(c)$.$\\delta t/\\delta x <= C_{max}$, where $\\ C_{max}$ depends on the discretisation.\n",
    "\n",
    "We can turn this around to find the maximum time-step for our model and grid-spacing, given $C_{max}$ for our discretisation:\n",
    "\n",
    "$$\\delta t_{best} = \\frac{C_{max}\\ \\delta x}{\\text{max}(c)}$$\n",
    "\n",
    "#### This simple stencil (2nd order), with 2nd order time-stepping, for the 1d wave equation, allows max crossing factor to be up to 1.0\n",
    "(i.e. can only cross up to 100% of a cell in one time-step – but we'll use 80% below.)"
   ]
  },
  {
   "cell_type": "code",
   "execution_count": null,
   "metadata": {},
   "outputs": [],
   "source": [
    "C = 0.8  # set the dimensionless max Courant number that we want to use to work out time-step below"
   ]
  },
  {
   "cell_type": "code",
   "execution_count": null,
   "metadata": {},
   "outputs": [],
   "source": [
    "time = 5.0  # desired length of the simulation in seconds\n",
    "dt = (C*dx)/c.max()  # define the best time-step by using the max Courant number\n",
    "nt = int(time/dt+0.9999)  # find how many steps are needed to cover that time\n",
    "time = nt*dt  # turn that back into exact time for this number of steps\n",
    "print('Time-step = %.5fs  Number of steps = %d  (Total time being modelled: %.5fs)' % (dt,nt,dt*nt))"
   ]
  },
  {
   "cell_type": "markdown",
   "metadata": {},
   "source": [
    "### Create source function (Ricker wavelet with 6Hz peak frequency)"
   ]
  },
  {
   "cell_type": "code",
   "execution_count": null,
   "metadata": {},
   "outputs": [],
   "source": [
    "# want to locate the source at some point in the grid\n",
    "sx = 150  # this is somewhat towards the left side (domain has 800 gridpoints)"
   ]
  },
  {
   "cell_type": "markdown",
   "metadata": {},
   "source": [
    "The Ricker wavelet used here is a function of time that's defined from the second derivate of a Gaussian function (which is $G(t)=\\text{e}^{-a^2 t^2}$).\n",
    "\n",
    "–It's also known as the Mexican hat wavelet, due to its shape when plotted as a function of two variables.\n",
    "\n",
    "It can be written so it is symmetric about time zero, with maximum at that time, ultimately decaying towards zero as $t$$\\rightarrow$$±\\infty$. However, we will shift it in time so that it starts near zero at our time zero.\n",
    "\n",
    "After differentiating above Gaussian, $G(t)$, twice, flipping, then scaling (and before shifting in time), we get: $\\quad R(t) = (1-2a^2 t^2)\\ \\text{e}^{-a^2 t^2}$\n",
    "\n",
    "The peak frequency of the Ricker wavelet is at $f$=$a/\\pi$.\n",
    "\n",
    "The length of the wavelet, in time, before it decays close enough to zero for our purposes, is about $\\frac{2.1}{f}$ (i.e. about $\\frac{1.05}{f}$ seconds each side of the wavelet's central peak)."
   ]
  },
  {
   "cell_type": "code",
   "execution_count": null,
   "metadata": {},
   "outputs": [],
   "source": [
    "def ricker_source(freq,dt,ampl):\n",
    "    ts = 2.1/freq  # the length in time is related to frequency\n",
    "    ns = int(ts/dt+0.9999)  # figure out how many time-steps are needed to cover that time\n",
    "    src = np.zeros(ns)  # create array with new length, for wavelet\n",
    "    print('Length of source is %d steps (%.5f secs, was %.5fs)' % (ns,ns*dt,ts))\n",
    "    ts = ns*dt  # and now turn that back into a time that's exactly the required number of steps\n",
    "    a2 = (freq*np.pi)**2  # a squared (see equation above)\n",
    "    t0 = ts/2 - dt/2  # midpoint time of wavelet\n",
    "\n",
    "    for ix in range(ns):\n",
    "        src[ix] = ampl*(1.0-2.0*a2*(ix*dt-t0)**2)*np.exp(-a2*(ix*dt-t0)**2)\n",
    "\n",
    "    print('Endpoint values are: %.6f %.6f' % (src[0],src[-1]))\n",
    "    return src,ns"
   ]
  },
  {
   "cell_type": "code",
   "execution_count": null,
   "metadata": {},
   "outputs": [],
   "source": [
    "# an alternative source function to try out (sine-squared 'bump')\n",
    "def sinesq_source(ns,ampl):\n",
    "    src = np.zeros(ns)\n",
    "    for i in range(ns):\n",
    "        src[i] = ampl*np.sin((0.5+i)*np.pi/ns)**2\n",
    "    return src"
   ]
  },
  {
   "cell_type": "code",
   "execution_count": null,
   "metadata": {},
   "outputs": [],
   "source": [
    "src,ns = ricker_source(6.0,dt,1.0)  # Use a 6Hz Ricker wavelet\n",
    "\n",
    "#src = sinesq_source(ns,1.0)  # try alternative source function instead"
   ]
  },
  {
   "cell_type": "code",
   "execution_count": null,
   "metadata": {},
   "outputs": [],
   "source": [
    "def plot_source(src):\n",
    "    plt.figure(figsize=(10,6))\n",
    "    plt.plot(src) # plot source function\n",
    "    plt.xlabel('timesteps')\n",
    "    plt.ylabel('amplitude')\n",
    "    plt.title('Source function')\n",
    "    plt.show()"
   ]
  },
  {
   "cell_type": "code",
   "execution_count": null,
   "metadata": {},
   "outputs": [],
   "source": [
    "plot_source(src)"
   ]
  },
  {
   "cell_type": "markdown",
   "metadata": {},
   "source": [
    "### Check that the maximum frequency in the source function can propagate reliably"
   ]
  },
  {
   "cell_type": "markdown",
   "metadata": {},
   "source": [
    "For a simple second-order finite-difference, the minimum wavelength of a signal that we can propagate reliably over a reasonable distance is about 10 grid-points."
   ]
  },
  {
   "cell_type": "code",
   "execution_count": null,
   "metadata": {},
   "outputs": [],
   "source": [
    "# minimum of 10 cells per wavelength for reasonably accurate propagation (i.e. minimal numerical dispersion):\n",
    "min_cells_per_wl = 10.0\n",
    "\n",
    "# calculate the max frequency that can be modelled without numerical dispersion:\n",
    "max_freq = c.min()/(min_cells_per_wl*dx)\n",
    "\n",
    "print('Maximum reliable propagation frequency is about %.1fHz' % max_freq)"
   ]
  },
  {
   "cell_type": "markdown",
   "metadata": {},
   "source": [
    "#### Want to avoid causing too much dispersion by keeping maximum significant frequency within this limit..."
   ]
  },
  {
   "cell_type": "code",
   "execution_count": null,
   "metadata": {},
   "outputs": [],
   "source": [
    "def plot_ampl_spect(src,ns,nt,dt):\n",
    "    # plot amplitude spectrum of source function\n",
    "    plt.figure(figsize=(10,6))\n",
    "    plt.magnitude_spectrum(np.append(src,np.zeros(nt-ns)), Fs=1/dt)  # note padding to nt points\n",
    "    plt.title('Amplitude Spectrum')\n",
    "    plt.xlim(0,35)\n",
    "    plt.xlabel('Frequency / Hz')\n",
    "    plt.show()"
   ]
  },
  {
   "cell_type": "code",
   "execution_count": null,
   "metadata": {},
   "outputs": [],
   "source": [
    "plot_ampl_spect(src,ns,nt,dt)"
   ]
  },
  {
   "cell_type": "markdown",
   "metadata": {},
   "source": [
    "----\n",
    "## Create absorbing layers"
   ]
  },
  {
   "cell_type": "code",
   "execution_count": null,
   "metadata": {},
   "outputs": [],
   "source": [
    "# want layer at both sides of the model to be 60 cells thick\n",
    "abswid = 60"
   ]
  },
  {
   "cell_type": "markdown",
   "metadata": {},
   "source": [
    "Choose one of the following three absorbing models to try (i.e. just run one of the three cases at a time, constant, linear or quadratic)"
   ]
  },
  {
   "cell_type": "code",
   "execution_count": null,
   "metadata": {},
   "outputs": [],
   "source": [
    "# CONSTANT\n",
    "\n",
    "a = np.zeros(nx)  # initialise array with zeros\n",
    "\n",
    "a[:abswid]  = 1.0  # left layer\n",
    "a[-abswid:] = 1.0  # right layer\n",
    "\n",
    "absfact = 0.04"
   ]
  },
  {
   "cell_type": "code",
   "execution_count": null,
   "metadata": {},
   "outputs": [],
   "source": [
    "# LINEAR\n",
    "\n",
    "a = np.zeros(nx)  # initialise array with zeros\n",
    "\n",
    "# left and right absorbing layers\n",
    "for i in range(1,abswid+1):  # sixty cells in layers\n",
    "    a[abswid-i]   = 1.0*i/abswid  # linear increase towards left boundary\n",
    "    a[i-abswid-1] = 1.0*i/abswid  # linear increase towards right boundary\n",
    "\n",
    "absfact = 0.08  # this value works well when there is no predictive boundary\n",
    "\n",
    "# When the predictive boundary is working, try reducing absfact to about half its value above.\n",
    "# You could try tweaking it a bit more yourself if you want."
   ]
  },
  {
   "cell_type": "code",
   "execution_count": null,
   "metadata": {},
   "outputs": [],
   "source": [
    "# QUADRATIC\n",
    "\n",
    "a = np.zeros(nx)  # initialise array with zeros\n",
    "\n",
    "absw2 = abswid*abswid  # useful shorthand\n",
    "\n",
    "# left and right absorbing layers\n",
    "for i in range(1,abswid+1):  # sixty cells in layers\n",
    "    a[abswid-i]   = 1.0*i*i/absw2  # quadratic increase towards left boundary\n",
    "    a[i-abswid-1] = 1.0*i*i/absw2  # quadratic increase towards right boundary\n",
    "\n",
    "# try 80 cells instead for absorbing layer on right side\n",
    "for i in range(1,81):\n",
    "    a[i-80]   = 1.0*i*i/(80*80)  # quadratic increase towards right boundary\n",
    "\n",
    "absfact = 0.1  # this value works well when when there is no predictive boundary\n",
    "\n",
    "# When the predictive boundary is working, try reducing absfact to about half its value above.\n",
    "# You could try tweaking it a bit more yourself if you want.\n",
    "absfact = 0.05  # this value works well when when there is a predictive boundary\n"
   ]
  },
  {
   "cell_type": "markdown",
   "metadata": {},
   "source": [
    "#### Show the absorption model (before scaling by model)"
   ]
  },
  {
   "cell_type": "code",
   "execution_count": null,
   "metadata": {},
   "outputs": [],
   "source": [
    "def plot_absorbing(a):\n",
    "    plt.figure(figsize=(10,6))\n",
    "\n",
    "    plt.title('Absorption')\n",
    "\n",
    "    plt.plot(a)\n",
    "    plt.xlabel('x gridpoints')\n",
    "    plt.ylabel('absorption coefficient')\n",
    "    plt.show()"
   ]
  },
  {
   "cell_type": "code",
   "execution_count": null,
   "metadata": {},
   "outputs": [],
   "source": [
    "plot_absorbing(a)"
   ]
  },
  {
   "cell_type": "markdown",
   "metadata": {},
   "source": [
    "Finish by scaling with velocity and other factors, for direct use in simulation later"
   ]
  },
  {
   "cell_type": "code",
   "execution_count": null,
   "metadata": {},
   "outputs": [],
   "source": [
    "# let's switch off the absorbing layers for now, to test only the predictive boundary condition...\n",
    "#absfact = 0.0  # comment this line again later to try with both absorbing layer and predictive\n",
    "\n",
    "a[:] = a[:]*c[:]*(dt/dx)*absfact"
   ]
  },
  {
   "cell_type": "markdown",
   "metadata": {},
   "source": [
    "## Predictive boundary condition"
   ]
  },
  {
   "cell_type": "markdown",
   "metadata": {},
   "source": [
    "This works by predicting what the value will be at the edge point(s) at the next step, given that we know what the current value is at that point, and at the point just inside, and we know that the wave should be propagating out of the domain at some known speed (since we know the model properties).\n",
    "\n",
    "By assuming a simple linear connection between the edge point and the point just inside, and then 'shifting' that line across by the crossing factor (i.e. how far the wave should move during the step), we can 'predict' what the new value should be at the edge point.\n",
    "\n",
    "For the left edge, at $x$=0, this looks like:\n",
    "\n",
    "$$u(0,t+\\delta t)\\ \\approx\\ (1-C_0)\\ u(0,t)\\ +\\ C_0\\ u(\\delta x,t)\\quad\n",
    "\\text{where: }\\ C_0 = \\frac{c(0)\\ \\delta t}{\\delta x}\\ \\text{ is 'crossing factor' near $x$=0}$$\n",
    "\n",
    "And for other edge, at $x$=$L$:\n",
    "\n",
    "$$u(L,t+\\delta t)\\ \\approx\\ (1-C_L)\\ u(L,t)\\ +\\ C_L\\ u(L-\\delta x,t)\\quad\n",
    "\\text{where: }\\ C_L = \\frac{c(L)\\ \\delta t}{\\delta x} \\text{ (i.e. near $x$=$L$)}$$\n",
    "\n",
    "\n",
    ">**Task 1:**\n",
    ">\n",
    ">**Use the two expressions for $C_0$ & $C_L$ to give values to two variables, `C0` and `CL`, which will be the crossing factors at each side of the domain.**\n",
    ">\n",
    ">**Go to the code cell containing the time-stepping, and fill in code where indicated that uses these two variables, along with the two approximation equations above, to set values for `u_nxt` at the two ends of the domain.**  \n",
    ">\n",
    ">**When you have it working:**  \n",
    ">– how do the remaining reflections from the boundaries compare with before having any type of absorbing boundary at all?  \n",
    ">– how do they compare with the remaining reflections that you saw from the absorbing layer?  \n",
    ">\n",
    ">**Switch back on the absorbing layers (comment out the `absfact = 0.0` line in the code cell just above).**  \n",
    ">– when you run it all again, how does it compare now?\n",
    ">\n",
    ">**Now that the predictive boundary is absorbing some of the wavefield at the boundary, we can reduce the strength of the absorbing layers by reducing `absfact`...**  \n",
    ">– Try halving its value –does that reduce the reflections?  \n",
    ">– Perhaps try to tweak it even more yourself.  \n",
    ">– Can you think of more things we could try which might help to 'balance' the two types of absorbing boundaries?"
   ]
  },
  {
   "cell_type": "code",
   "execution_count": null,
   "metadata": {},
   "outputs": [],
   "source": [
    "# FILL IN CODE HERE TO SET C0 and CL to the crossing factors at the two domain sides\n",
    "# (first part of task 1)...\n",
    "\n",
    "C0 = c[0]*dt/dx\n",
    "CL = c[-1]*dt/dx\n"
   ]
  },
  {
   "cell_type": "markdown",
   "metadata": {},
   "source": [
    "## Receiver points within domain\n",
    "–To detect what crosses a few particular points of the domain over time"
   ]
  },
  {
   "cell_type": "code",
   "execution_count": null,
   "metadata": {},
   "outputs": [],
   "source": [
    "rpos = np.array([70,100,640])  # put receivers at various grid-points in domain\n",
    "r = np.zeros((rpos.shape[0],nt))  # an array to store 3 sets of receiver data every step (and to plot later)"
   ]
  },
  {
   "cell_type": "markdown",
   "metadata": {},
   "source": [
    "----\n",
    "# Simulation"
   ]
  },
  {
   "cell_type": "code",
   "execution_count": null,
   "metadata": {},
   "outputs": [],
   "source": [
    "# Initialise arrays for wavefields\n",
    "u = np.zeros(nx) # current wavefield\n",
    "u_prv = np.zeros(nx) # previous wavefield, at t-1\n",
    "u_nxt = np.zeros(nx) # next wavefield, at t+1"
   ]
  },
  {
   "cell_type": "code",
   "execution_count": null,
   "metadata": {},
   "outputs": [],
   "source": [
    "# prepare an array to store wavefield snapshots for plotting\n",
    "snapshot_gap = 5 # set sampling rate used to store wavefield (every 5 time-steps)\n",
    "wavefield = np.zeros((int(nt/snapshot_gap), nx)) # array to store wavefields every 5 time-steps\n",
    "print('Storing %d wavefields (every %dth out of %d)' % (wavefield.shape[0],snapshot_gap,nt))"
   ]
  },
  {
   "cell_type": "code",
   "execution_count": null,
   "metadata": {},
   "outputs": [],
   "source": [
    "# a useful variable – shorthand for something that appears regularly in expressions below\n",
    "dtdx2 = (dt*dt)/(dx*dx)"
   ]
  },
  {
   "cell_type": "code",
   "execution_count": null,
   "metadata": {},
   "outputs": [],
   "source": [
    "def propagate():\n",
    "\n",
    "    # Make sure everything starts off zero\n",
    "    u[:] = 0.0\n",
    "    u_prv[:] = 0.0\n",
    "\n",
    "    # put first source entry into current wavefield\n",
    "    u[sx] = src[0]\n",
    "\n",
    "    # begin time-stepping loop...\n",
    "\n",
    "    for i in range(nt):\n",
    "\n",
    "        if i%20==0:  # show progress every 20 steps\n",
    "            sys.stdout.write('Done step %d of %d\\r' % (i+1,nt))\n",
    "\n",
    "        # find new wavefield, u_nxt, throughout domain (apart from edges)\n",
    "        #for ix in range(1,nx-1):\n",
    "        #    u_nxt[ix] = ( (c[ix]**2) * dtdx2 * (u[ix-1]-2*u[ix]+u[ix+1])  \\\n",
    "        #                + (2-a[ix]**2)*u[ix] - u_prv[ix]*(1-a[ix]) ) / (1+a[ix])\n",
    "\n",
    "        # [below] REPLACE[s] ABOVE LOOP with optimised version (see task 2)...\n",
    "        u_nxt[1:-1] = ( (c[1:-1]**2)*dtdx2*(u[:-2]-2*u[1:-1]+u[2:]) \\\n",
    "                       + (2-a[1:-1]**2)*u[1:-1] - u_prv[1:-1]*(1-a[1:-1]) ) / (1+a[1:-1])\n",
    "\n",
    "        \n",
    "        # WRITE CODE HERE TO IMPLEMENT PREDICTIVE BOUNDARIES, setting u_nxt at each edge (see task 1)...\n",
    "    \n",
    "        u_nxt[0]  = u[0]*(1.0-C0) + u[1]*C0\n",
    "        u_nxt[-1] = u[-1]*(1.0-CL) + u[-2]*CL\n",
    "    \n",
    "    \n",
    "        # put in source function as if it's a 'forced' boundary condition (rather than injecting by adding),\n",
    "        # up until the source function runs out of steps\n",
    "        if i+1<ns:\n",
    "            u_nxt[sx] = src[i+1]\n",
    "\n",
    "        r[:,i] = u_nxt[rpos[:]]  # record values at receiver points\n",
    "\n",
    "        # cycle wavefields for next time-step\n",
    "        u_prv[:] = u[:]\n",
    "        u[:] = u_nxt[:]\n",
    "    \n",
    "        # store the current wavefield u on every Nth step (where N=snapshot_gap, as defined earlier)\n",
    "        if (i+1)%snapshot_gap == 0:\n",
    "            wavefield[int((i+1)/snapshot_gap-1),:] = u[:]\n",
    "\n",
    "    print('Finished all %d steps' % (nt))"
   ]
  },
  {
   "cell_type": "code",
   "execution_count": null,
   "metadata": {},
   "outputs": [],
   "source": [
    "propagate()"
   ]
  },
  {
   "cell_type": "markdown",
   "metadata": {},
   "source": [
    ">**Task 2: optimisation (speed)**\n",
    ">\n",
    ">The above code runs within a reasonable time for our simple 1d case. However, it's going to be too slow when we come to code this in 2d later on...\n",
    ">\n",
    ">In python you can work on a whole array in a single line, rather than working element-by-element in a loop.\n",
    ">\n",
    ">For example, take the following code:\n",
    ">\n",
    ">$\\quad$ `for i in range(n):`  \n",
    ">$\\quad\\quad$ `b[i] = a[i+5]`  \n",
    ">\n",
    ">This can be replaced with something that does the whole loop in a single line:\n",
    ">\n",
    ">$\\quad$ `b[:n] = a[5:n+5]`\n",
    ">\n",
    ">**Use the above technique to replace the `for ix in range(1,nx-1):` loop in the propagation function above.**  \n",
    ">– Do you see much improvement in the time it takes?"
   ]
  },
  {
   "cell_type": "markdown",
   "metadata": {},
   "source": [
    ">**Task 3: more optimisations (memory use, reduction in work)**\n",
    ">\n",
    ">The code we've developed here makes use of three arrays, `u_nxt`, `u` & `u_prv`, to store the wavefields for three points in time at each step (i.e. at $t$+$\\delta t$, $t$ & $t$$-$$\\delta t$).\n",
    ">\n",
    ">**– Can you see a way to reduce this to using only two arrays?**\n",
    ">\n",
    ">**– Can you see a way to avoid 'shifting' the wavefields between arrays at the end of each time-step?**"
   ]
  },
  {
   "cell_type": "markdown",
   "metadata": {},
   "source": [
    "## Plot wavefield at different times"
   ]
  },
  {
   "cell_type": "code",
   "execution_count": null,
   "metadata": {},
   "outputs": [],
   "source": [
    "def plot_snapshot(plot_time):\n",
    "    plt.figure(figsize=(15,5))\n",
    "    plt.plot(wavefield[int(plot_time/(dt*snapshot_gap)),:])\n",
    "    plt.title('Wavefield at about %.2fs' % (plot_time))\n",
    "    plt.xlabel('x grid-points')\n",
    "    plt.ylabel('amplitude')\n",
    "    plt.show()"
   ]
  },
  {
   "cell_type": "code",
   "execution_count": null,
   "metadata": {},
   "outputs": [],
   "source": [
    "plot_snapshot(1.7)\n",
    "plot_snapshot(3.0)"
   ]
  },
  {
   "cell_type": "markdown",
   "metadata": {},
   "source": [
    "## Plot data at receivers"
   ]
  },
  {
   "cell_type": "code",
   "execution_count": null,
   "metadata": {},
   "outputs": [],
   "source": [
    "def plot_at_receivers():\n",
    "    for i in range(r.shape[0]):\n",
    "        plt.figure(figsize=(15,5))\n",
    "        plt.plot(r[i])\n",
    "        plt.title('Data for receiver at grid-point %d' % (rpos[i]))\n",
    "        plt.ylabel('Amplitude')\n",
    "        plt.xlabel('Time-steps')\n",
    "        plt.show()"
   ]
  },
  {
   "cell_type": "code",
   "execution_count": null,
   "metadata": {},
   "outputs": [],
   "source": [
    "plot_at_receivers()"
   ]
  },
  {
   "cell_type": "markdown",
   "metadata": {},
   "source": [
    "## Show space-time plot for whole wavefield"
   ]
  },
  {
   "cell_type": "code",
   "execution_count": null,
   "metadata": {},
   "outputs": [],
   "source": [
    "def spacetime_plot():\n",
    "    fig = plt.figure(figsize=(10,8))\n",
    "    plt.imshow(wavefield, cmap='RdBu', interpolation='bilinear', aspect='auto',\n",
    "               vmin=-1, vmax=1,       # set the bounds for the colour data\n",
    "               extent=(0,length,time,0))  # set the bounds for the axes\n",
    "    plt.title('Wavefield propagation with time')\n",
    "    plt.xlabel('x-position / m')\n",
    "    plt.ylabel('Time / s')\n",
    "    plt.show()"
   ]
  },
  {
   "cell_type": "code",
   "execution_count": null,
   "metadata": {},
   "outputs": [],
   "source": [
    "spacetime_plot()"
   ]
  },
  {
   "cell_type": "markdown",
   "metadata": {},
   "source": [
    "## Make a movie! "
   ]
  },
  {
   "cell_type": "code",
   "execution_count": null,
   "metadata": {},
   "outputs": [],
   "source": [
    "def create_animation():\n",
    "    fig, ax = plt.subplots(figsize=(15,6))\n",
    "\n",
    "    x = np.arange(0, wavefield.shape[1], 1)\n",
    "    line, = ax.plot(x,wavefield[0])\n",
    "\n",
    "    plt.title('Wavefield')\n",
    "    plt.xlabel('x gridpoint')\n",
    "    plt.ylabel('amplitude')\n",
    "    plt.ylim(-1.3,1.3)\n",
    "\n",
    "    def frame(i):\n",
    "        line.set_ydata(wavefield[i])\n",
    "        return line,\n",
    "\n",
    "    print('Finished plots for frames, building animation...')\n",
    "\n",
    "    ani = anim.FuncAnimation(fig, frame, interval=50, save_count=wavefield.shape[0])\n",
    "\n",
    "    plt.close(fig)  # prevent final image from showing up inline below\n",
    "\n",
    "    return ani"
   ]
  },
  {
   "cell_type": "code",
   "execution_count": null,
   "metadata": {},
   "outputs": [],
   "source": [
    "ani = create_animation()\n",
    "print('Preparing HTML (takes a little while...)')\n",
    "HTML(ani.to_jshtml())"
   ]
  },
  {
   "cell_type": "code",
   "execution_count": null,
   "metadata": {},
   "outputs": [],
   "source": []
  }
 ],
 "metadata": {
  "kernelspec": {
   "display_name": "Python 3",
   "language": "python",
   "name": "python3"
  },
  "language_info": {
   "codemirror_mode": {
    "name": "ipython",
    "version": 3
   },
   "file_extension": ".py",
   "mimetype": "text/x-python",
   "name": "python",
   "nbconvert_exporter": "python",
   "pygments_lexer": "ipython3",
   "version": "3.7.3"
  }
 },
 "nbformat": 4,
 "nbformat_minor": 4
}
