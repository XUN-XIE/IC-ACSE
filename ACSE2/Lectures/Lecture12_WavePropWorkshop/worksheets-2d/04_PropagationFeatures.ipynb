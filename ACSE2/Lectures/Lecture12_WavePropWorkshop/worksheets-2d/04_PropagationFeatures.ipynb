{
 "cells": [
  {
   "cell_type": "markdown",
   "metadata": {},
   "source": [
    "# Numerical simulation of the wave equation in 2D using Finite Difference"
   ]
  },
  {
   "cell_type": "markdown",
   "metadata": {},
   "source": [
    "## Import libraries"
   ]
  },
  {
   "cell_type": "code",
   "execution_count": null,
   "metadata": {},
   "outputs": [],
   "source": [
    "%matplotlib inline\n",
    "import numpy as np\n",
    "import matplotlib.pyplot as plt\n",
    "import matplotlib.animation as anim\n",
    "from IPython.display import HTML\n",
    "import sys"
   ]
  },
  {
   "cell_type": "markdown",
   "metadata": {},
   "source": [
    "----\n",
    "\n",
    "## Create domain model properties (i.e. speed of waves), and discretisation grid"
   ]
  },
  {
   "cell_type": "markdown",
   "metadata": {},
   "source": [
    ">**Task 1:**\n",
    ">\n",
    ">**Change the wave-speed model so that it has a gradient that starts at the 111th gridpoint down, with a starting value of 1750m/s, and ramps up by 10m/s for each gridpoint, until it reaches 80 gridpoints from the bottom (i.e. the top of the absorbing layer at the bottom of the domain).**  \n",
    ">– The value at the bottom of the gradient should end up as 3350m/s (i.e. `c.max()` should show that)  \n",
    ">– Remember that Python has zero-based indexing of arrays!\n",
    ">\n",
    ">**Continue the final gradient speed of 3350m/s down to the bottom of the domain (i.e. within the bottom absorbing layer).**  \n",
    ">– The plot showing vertical cross-section through the domain should now show constant value of 1500m/s for the top roughly third, then a jump to 1750m/s, followed by a linear ramp up to 3350m/s, then staying constant until it reaches down to the bottom of the domain.\n",
    ">\n",
    ">**Run the simulation and describe what you see in the receiver data plot, and in the animation.**"
   ]
  },
  {
   "cell_type": "markdown",
   "metadata": {},
   "source": [
    ">**Task 2:**\n",
    ">\n",
    ">**Add a small square within the domain, 10x10 gridpoints, with its top-left corner at model array position `[220,130]`, setting the wave-speed within the square to 3500m/s.**  \n",
    ">– The vertical cross-section plot later on should pass through this square, so it should appear as a sharp protrusion from the gradient.\n",
    ">\n",
    ">**Run the simulation and describe what you see in the receiver data plot, and in the animation.**"
   ]
  },
  {
   "cell_type": "code",
   "execution_count": null,
   "metadata": {},
   "outputs": [],
   "source": [
    "# 501 grid-points along the x-axis, 351 along the z-axis\n",
    "nx = 501\n",
    "nz = 351\n",
    "\n",
    "\n",
    "# start with homogeneous model - same wave-speed everywhere.\n",
    "c = np.full((nx,nz),1500.0)  # Note: 1500m/s is typical acoustic velocity of water\n",
    "\n",
    "# a faster layer, deeper in model, to show reflection of waves when crossing sharp interface\n",
    "#c[:,140:] = 3000.0  # Note: 3000m/s is fairly typical acoustic velocity of sedimentary rock\n",
    "\n",
    "\n",
    "# WRITE SOME CODE HERE TO FULFIL TASK 1...\n",
    "# (You can comment out the line of code above that sets part of the 'c' array to 3000)\n",
    "\n",
    "\n",
    "\n",
    "\n",
    "# CONTINUE WITH CODE TO FULFIL TASK 2...\n",
    "\n",
    "\n",
    "\n",
    "\n",
    "print('Speed at bottom of domain is %.1fm/s' % (c[100,-1]))\n",
    "print('Range of speeds:  %.1fm/s to %.1fm/s' % (c.min(),c.max()))"
   ]
  },
  {
   "cell_type": "code",
   "execution_count": null,
   "metadata": {},
   "outputs": [],
   "source": [
    "length = 3500.0 # assign a length to the model in metres\n",
    "\n",
    "dx = length/(nx-1) # calculate the spatial increment between model parameters\n",
    "\n",
    "depth = dx*(nz-1) # calculate the depth from the length and number of x and z gridpoints\n",
    "\n",
    "print('Domain is %d x %d grid-cells (%.1fm x %.1fm)' % (nx,nz,length,depth))\n",
    "print('Grid-spacing (dx) is %.2fm' % (dx))"
   ]
  },
  {
   "cell_type": "code",
   "execution_count": null,
   "metadata": {},
   "outputs": [],
   "source": [
    "def plot_model(c):\n",
    "    plt.figure(figsize=(10,6))\n",
    "    plt.imshow(c.T) # plotting the velocity model (note transposed, to orient plot in way we expect)\n",
    "    plt.colorbar()\n",
    "    plt.xlabel('x gridpoints')\n",
    "    plt.ylabel('z gridpoints')\n",
    "    plt.title('Velocity model (m/s)')\n",
    "    plt.show()\n",
    "\n",
    "def plot_slice(c,xgrid):\n",
    "    plt.figure(figsize=(7,6))\n",
    "    plt.plot(c[xgrid,:],range(nz-1,-1,-1))  # note two arrays, 2nd one (range) gets model on x axis\n",
    "    plt.xlabel('propagation speed / m/s')\n",
    "    plt.ylabel('z gridpoints')\n",
    "    plt.title('Vertical slice through model at x-gridpoint=%d' % xgrid)\n",
    "    plt.show()"
   ]
  },
  {
   "cell_type": "code",
   "execution_count": null,
   "metadata": {},
   "outputs": [],
   "source": [
    "plot_model(c)\n",
    "plot_slice(c,225)"
   ]
  },
  {
   "cell_type": "markdown",
   "metadata": {},
   "source": [
    "----\n",
    "## Modelling constraints\n",
    "#### CFL stability condition should be satisfied – the 'Courant number'.\n",
    "\n",
    "The dimensionless Courant number, $C$, gives a measure of how far a signal will travel across a grid-cell (/between grid-points) within one time-step.\n",
    "(Hence why I will very often refer to it as 'the crossing factor'.)\n",
    "\n",
    "The crossing factor is $c$.$\\delta t$/$\\delta x$ for speed $c$, and we want the maximum value of this within the whole domain to satisfy some constraint that depends upon the finite-difference stencil(s) in use when modelling.\n",
    "\n",
    "i.e. we want:$\\quad \\text{max}(c)$.$\\delta t/\\delta x <= C_{max}$, where $\\ C_{max}$ depends on the discretisations.\n",
    "\n",
    "We can turn this around to find the maximum time-step for our model and grid-spacing, given $C_{max}$ for our discretisations:\n",
    "\n",
    "$$\\delta t_{best} = \\frac{C_{max}\\ \\delta x}{\\text{max}(c)}$$\n",
    "\n",
    "#### This spatial stencil (simple 2nd order), with 2nd-order time-stepping, requires the max crossing factor to (usually) be no more than sqrt(1/2)\n",
    "(i.e. can only cross up to 70.7% of a cell in one time-step – we'll use 70% here...)"
   ]
  },
  {
   "cell_type": "code",
   "execution_count": null,
   "metadata": {},
   "outputs": [],
   "source": [
    "courant = 0.70  # set the dimensionless max Courant number for 2nd-order FD grid in space & time"
   ]
  },
  {
   "cell_type": "code",
   "execution_count": null,
   "metadata": {},
   "outputs": [],
   "source": [
    "time = 2.0  # desired length of the simulation in seconds\n",
    "dt = (courant*dx)/c.max()  # define the best time-step by using the max Courant number\n",
    "nt = int(time/dt+0.9999)  # how many steps are needed to cover that time\n",
    "time = nt*dt  # turn that back into exact time for this number of steps\n",
    "print('Time-step = %.5fs  Number of steps = %d  (Total time being modelled: %.5fs)' % (dt,nt,dt*nt))"
   ]
  },
  {
   "cell_type": "markdown",
   "metadata": {},
   "source": [
    "### Create source function (Ricker wavelet with 8Hz peak frequency)"
   ]
  },
  {
   "cell_type": "code",
   "execution_count": null,
   "metadata": {},
   "outputs": [],
   "source": [
    "# want to locate the source in the grid\n",
    "sx = 150\n",
    "sz = 80"
   ]
  },
  {
   "cell_type": "markdown",
   "metadata": {},
   "source": [
    "The Ricker wavelet used here is a function of time that's defined from the second derivate of a Gaussian function (which is $G(t)=\\text{e}^{-a^2 t^2}$).\n",
    "\n",
    "–It's also known as the Mexican hat wavelet, due to its shape when plotted as a function of two variables.\n",
    "\n",
    "It can be written so it is symmetric about time zero, with maximum at that time, ultimately decaying towards zero as $t$$\\rightarrow$$±\\infty$. However, we will shift it in time so that it starts near zero at our time zero.\n",
    "\n",
    "After differentiating above Gaussian, $G(t)$, twice, flipping, then scaling (and before shifting in time), we get: $\\quad R(t) = (1-2a^2 t^2)\\ \\text{e}^{-a^2 t^2}$\n",
    "\n",
    "The peak frequency of the Ricker wavelet is at $f$=$a/\\pi$.\n",
    "\n",
    "The length of the wavelet, in time, before it decays close enough to zero for our purposes, is about $\\frac{2.1}{f}$ (i.e. about $\\frac{1.05}{f}$ seconds each side of the wavelet's central peak)."
   ]
  },
  {
   "cell_type": "code",
   "execution_count": null,
   "metadata": {
    "scrolled": true
   },
   "outputs": [],
   "source": [
    "def create_ricker(freq,dt,ampl):\n",
    "    ts = 2.1/freq  # desired length of wavelet in time is related to peak frequency\n",
    "    ns = int(ts/dt+0.9999)  # figure out how many time-steps are needed to cover that time\n",
    "    ts = ns*dt  # and now turn that back into a time that's exactly the required number of steps\n",
    "    print('Length of wavelet will be %.5f secs (%d steps)' % (ts,ns))\n",
    "    a2 = (freq*np.pi)**2  # a squared (see equation above)\n",
    "    t0 = ts/2 - dt/2  # midpoint time of wavelet\n",
    "    src = np.zeros(ns)\n",
    "    # create Ricker wavelet (see equation above), offset by time t0 (so midpoint of wavelet is at time t=t0)\n",
    "    for i in range(ns):\n",
    "        src[i] = ampl*( (1 - 2*a2*((i*dt-t0)**2)) * np.exp(-a2*((i*dt-t0)**2)) )\n",
    "    print('Endpoint values are: %.6f %.6f' % (src[0],src[-1]))\n",
    "    return src,ns"
   ]
  },
  {
   "cell_type": "code",
   "execution_count": null,
   "metadata": {},
   "outputs": [],
   "source": [
    "freq = 10.0  # let's create a 10Hz Ricker source wavelet\n",
    "src,ns = create_ricker(freq,dt,1.0)"
   ]
  },
  {
   "cell_type": "code",
   "execution_count": null,
   "metadata": {},
   "outputs": [],
   "source": [
    "def plot_source(src):\n",
    "    plt.figure(figsize=(10,6))\n",
    "    plt.plot(src) # plot source wavelet\n",
    "    plt.xlabel('timesteps')\n",
    "    plt.ylabel('amplitude')\n",
    "    plt.title('Source Wavelet (Ricker, peak %.1fHz)' % (freq))\n",
    "    plt.show()"
   ]
  },
  {
   "cell_type": "code",
   "execution_count": null,
   "metadata": {},
   "outputs": [],
   "source": [
    "plot_source(src)"
   ]
  },
  {
   "cell_type": "markdown",
   "metadata": {},
   "source": [
    "### Check that the maximum frequency in the source wavelet can propagate reliably"
   ]
  },
  {
   "cell_type": "markdown",
   "metadata": {},
   "source": [
    "For a simple second-order finite-difference, the minimum wavelength of a signal that we can propagate reliably is about 10 cells."
   ]
  },
  {
   "cell_type": "code",
   "execution_count": null,
   "metadata": {},
   "outputs": [],
   "source": [
    "min_cells_per_wl = 10.0  # minimum of 10 cells per wavelength for reasonably accurate propagation\n",
    "max_freq = c.min()/(min_cells_per_wl*dx) # calculate the max frequency that can be modelled without numerical dispersion\n",
    "print('Maximum reliable propagation frequency is about %.1fHz' % max_freq)"
   ]
  },
  {
   "cell_type": "markdown",
   "metadata": {},
   "source": [
    "#### Want to avoid causing too much dispersion by keeping maximum significant frequency within this limit..."
   ]
  },
  {
   "cell_type": "code",
   "execution_count": null,
   "metadata": {
    "scrolled": false
   },
   "outputs": [],
   "source": [
    "# plot amplitude spectrum of source wavelet\n",
    "def plot_spectrum(src):\n",
    "    plt.figure(figsize=(10,6))\n",
    "    plt.magnitude_spectrum(np.append(src,np.zeros(nt-ns)), Fs=1/dt)  # note padding to nt points\n",
    "    plt.title('Amplitude Spectrum')\n",
    "    plt.xlim(0,35)\n",
    "    plt.show()"
   ]
  },
  {
   "cell_type": "code",
   "execution_count": null,
   "metadata": {},
   "outputs": [],
   "source": [
    "plot_spectrum(src)"
   ]
  },
  {
   "cell_type": "markdown",
   "metadata": {},
   "source": [
    "----\n",
    "## Create model for absorbing boundary layers"
   ]
  },
  {
   "cell_type": "code",
   "execution_count": null,
   "metadata": {},
   "outputs": [],
   "source": [
    "# want layer around all edges of the model to be 60 grid-points thick\n",
    "abswid = 60"
   ]
  },
  {
   "cell_type": "markdown",
   "metadata": {},
   "source": [
    "Choose one of the following three absorbing models to try (can comment out other two, if desired...)"
   ]
  },
  {
   "cell_type": "code",
   "execution_count": null,
   "metadata": {},
   "outputs": [],
   "source": [
    "# CONSTANT\n",
    "\n",
    "a = np.zeros((nx,nz))  # initialise array with zeros\n",
    "\n",
    "a[:abswid,:]  = 1.0  # left layer\n",
    "a[-abswid:,:] = 1.0  # right layer\n",
    "\n",
    "a[:,:abswid]  = 1.0  # top layer\n",
    "a[:,-abswid:] = 1.0  # bottom layer\n",
    "\n",
    "a[:,-80:]  = 1.0  # uncomment to make bottom layer 80 grid-points instead of 60\n",
    "\n",
    "absfact = 0.04"
   ]
  },
  {
   "cell_type": "code",
   "execution_count": null,
   "metadata": {},
   "outputs": [],
   "source": [
    "# LINEAR\n",
    "\n",
    "a = np.zeros((nx,nz))  # initialise array with zeros\n",
    "\n",
    "# left and right absorbing layers\n",
    "for i in range(1,abswid+1):  # sixty grid-points in layers\n",
    "    a[abswid-i,:]   = 1.0*i/abswid  # linear increase towards left boundary\n",
    "    a[i-abswid-1,:] = 1.0*i/abswid  # linear increase towards right boundary\n",
    "\n",
    "# top and bottom absorbing layers\n",
    "for i in range(1,abswid+1):  # grid-points cells in layer\n",
    "    for j in range(nx):\n",
    "        a[j,abswid-i]   = max(a[j,abswid-i],   1.0*i/abswid) # linear increase towards top boundary\n",
    "        a[j,i-abswid-1] = max(a[j,i-abswid-1], 1.0*i/abswid) # linear increase towards bottom boundary\n",
    "\n",
    "# uncomment below to make bottom layer 80 grid-points instead of 60...\n",
    "for i in range(1,81):  # try 80 grid-points in bottom layer\n",
    "    for j in range(nx):\n",
    "        a[j,i-81]   = max(a[j,i-81], 1.0*i/80)  # linear increase towards bottom boundary\n",
    "\n",
    "#absfact = 0.08  # without predictive boundary\n",
    "absfact = 0.04  # with predictive boundary"
   ]
  },
  {
   "cell_type": "code",
   "execution_count": null,
   "metadata": {},
   "outputs": [],
   "source": [
    "# QUADRATIC\n",
    "\n",
    "a = np.zeros((nx,nz))  # initialise array with zeros\n",
    "\n",
    "absw2 = abswid*abswid  # useful shorthand\n",
    "\n",
    "# left and right absorbing layers\n",
    "for i in range(1,abswid+1):  # sixty grid-points in layers\n",
    "    a[abswid-i,:]   = 1.0*i*i/absw2  # quadratic increase towards left boundary\n",
    "    a[i-abswid-1,:] = 1.0*i*i/absw2  # quadratic increase towards right boundary\n",
    "\n",
    "# top and bottom absorbing layers\n",
    "for i in range(1,abswid+1):  # sixty grid-points in layer\n",
    "    for j in range(nx):\n",
    "        a[j,abswid-i]   = max(a[j,abswid-i],   1.0*i*i/absw2)  # quadratic increase towards top boundary\n",
    "        a[j,i-abswid-1] = max(a[j,i-abswid-1], 1.0*i*i/absw2)  # quadratic increase towards bottom boundary\n",
    "\n",
    "\n",
    "# uncomment below to make bottom layer 80 grid-points instead of 60...\n",
    "for i in range(1,81):  # try 80 grid-points in bottom layer\n",
    "    for j in range(nx):\n",
    "        a[j,i-81]   = max(a[j,i-81], 1.0*i*i/(80*80))  # quadratic increase towards bottom boundary\n",
    "\n",
    "        \n",
    "#absfact = 0.1  # without predictive boundary\n",
    "absfact = 0.04  # with predictive boundary"
   ]
  },
  {
   "cell_type": "markdown",
   "metadata": {},
   "source": [
    "#### Show the absorption model"
   ]
  },
  {
   "cell_type": "code",
   "execution_count": null,
   "metadata": {},
   "outputs": [],
   "source": [
    "# various plots to check the absorption model...\n",
    "\n",
    "def plot_absorbing(a):\n",
    "    plt.figure(figsize=(10,6))\n",
    "    plt.title('Absorption')\n",
    "\n",
    "    plt.imshow(a.T) # plotting the absorption as a 2d colour plot (note transposed, to orient plot in way we expect)\n",
    "    plt.colorbar()\n",
    "    plt.xlabel('x gridpoints')\n",
    "    plt.ylabel('z gridpoints')\n",
    "\n",
    "    plt.show()\n",
    "\n",
    "\n",
    "def plot_absorb_horiz(a,zgrid):\n",
    "    plt.figure(figsize=(8,4))\n",
    "    plt.title('Horizontal x-section at z-gridpoint=%d' % zgrid)\n",
    "\n",
    "    plt.plot(a[:,zgrid])  # horizontal cross-section through absorption, to show const/linear/quadratic nature\n",
    "    plt.xlabel('x gridpoints')\n",
    "    plt.ylabel('absorption coefficient')\n",
    "\n",
    "    plt.show()\n",
    "\n",
    "\n",
    "def plot_absorb_vert(a,xgrid):\n",
    "    plt.figure(figsize=(8,4))\n",
    "    plt.title('Vertical x-section at x-gridpoint=%d' % xgrid)\n",
    "\n",
    "    plt.plot(a[xgrid,:])  # vertical cross-section through absorption, to show const/linear/quadratic nature\n",
    "    plt.xlabel('z gridpoints')\n",
    "    plt.ylabel('absorption coefficient')\n",
    "\n",
    "    plt.show()"
   ]
  },
  {
   "cell_type": "code",
   "execution_count": null,
   "metadata": {},
   "outputs": [],
   "source": [
    "plot_absorbing(a)\n",
    "plot_absorb_horiz(a,200)\n",
    "plot_absorb_vert(a,200)"
   ]
  },
  {
   "cell_type": "markdown",
   "metadata": {},
   "source": [
    "Finish by scaling with velocity and other factors, for direct use in simulation later"
   ]
  },
  {
   "cell_type": "code",
   "execution_count": null,
   "metadata": {},
   "outputs": [],
   "source": [
    "#absfact = 0.0  # to switch off absorbing layer\n",
    "\n",
    "a[:,:] = a[:,:]*c[:,:]*(dt/dx)*absfact"
   ]
  },
  {
   "cell_type": "markdown",
   "metadata": {},
   "source": [
    "## Predictive boundary condition"
   ]
  },
  {
   "cell_type": "code",
   "execution_count": null,
   "metadata": {},
   "outputs": [],
   "source": [
    "# set up crossing-factor arrays for use at edges with 'predictive' boundary condition\n",
    "C_zmin = c[:,0]*dt/dx   # along top edge\n",
    "C_zmax = c[:,-1]*dt/dx  # along bottom edge\n",
    "C_xmin = c[0,:]*dt/dx   # along left edge\n",
    "C_xmax = c[-1,:]*dt/dx  # along right edge\n",
    "\n",
    "# for use without absorbing layers:\n",
    "predfact_zmin = 1.0\n",
    "predfact_zmax = 1.0\n",
    "predfact_xmin = 1.0\n",
    "predfact_xmax = 1.0\n",
    "\n",
    "# for use with absorbing layers:\n",
    "predfact_zmin = 0.99\n",
    "predfact_zmax = 0.98\n",
    "predfact_xmin = 0.99\n",
    "predfact_xmax = 0.99\n",
    "\n",
    "# to switch off predictive boundaries:\n",
    "#predfact_zmin = 0.0\n",
    "#predfact_zmax = 0.0\n",
    "#predfact_xmin = 0.0\n",
    "#predfact_zmax = 0.0"
   ]
  },
  {
   "cell_type": "markdown",
   "metadata": {},
   "source": [
    "## Line of receivers within domain\n",
    "–To detect what crosses a particular horizontal line of the domain (i.e. constant depth) over time"
   ]
  },
  {
   "cell_type": "code",
   "execution_count": null,
   "metadata": {},
   "outputs": [],
   "source": [
    "rz = 70  # put receiver line at depth of seventy cells (just above source point)\n",
    "r = np.zeros((nx,nt))  # an array to store receiver data every step (and to plot later)"
   ]
  },
  {
   "cell_type": "markdown",
   "metadata": {},
   "source": [
    "----\n",
    "# Simulation"
   ]
  },
  {
   "cell_type": "code",
   "execution_count": null,
   "metadata": {},
   "outputs": [],
   "source": [
    "# Initialise arrays for wavefields\n",
    "u = np.zeros((nx,nz)) # current wavefield\n",
    "u_prv = np.zeros((nx,nz)) # old t-1 wavefield\n",
    "u_nxt = np.zeros((nx,nz)) # new t+1 wavefield"
   ]
  },
  {
   "cell_type": "code",
   "execution_count": null,
   "metadata": {},
   "outputs": [],
   "source": [
    "# prepare an array to store wavefield snapshots for plotting\n",
    "snapshot_gap = 10 # set sampling rate used to store wavefield (every 10 timesteps)\n",
    "wavefield = np.zeros((int(nt/snapshot_gap), nx, nz)) # array to store wavefields every 10 timesteps\n",
    "print('Storing %d wavefields (every %dth out of %d)' % (wavefield.shape[0],snapshot_gap,nt))"
   ]
  },
  {
   "cell_type": "code",
   "execution_count": null,
   "metadata": {},
   "outputs": [],
   "source": [
    "# a useful variable – shorthand for something that appears regularly in expressions below\n",
    "dtdx2 = (dt*dt)/(dx*dx)"
   ]
  },
  {
   "cell_type": "code",
   "execution_count": null,
   "metadata": {},
   "outputs": [],
   "source": [
    "def propagate():\n",
    "    \n",
    "    u[:] = 0.0\n",
    "    u_prv[:] = 0.0\n",
    "\n",
    "    #u[:,0] = src[0]*0.1\n",
    "    u[sx,sz] = src[0] #*dtdx2*(c[sx,sz]**2) # inject first source entry into current wavefield\n",
    "\n",
    "    # begin time-stepping loop...\n",
    "\n",
    "    for i in range(nt):\n",
    "\n",
    "        if (i+1)%20==0:  # show progress every 20 steps\n",
    "            sys.stdout.write('Done step %d (of %d)\\r' % (i+1,nt))\n",
    "\n",
    "        # find new wavefield, u_new, throughout domain - **apart from edges**\n",
    "        # NOTE: no vectorisation (i.e. v.slow), and no absorbing layers\n",
    "        #for ix in range(1,nx-1):\n",
    "        #    for iz in range(1,nz-1):\n",
    "        #        u_new[ix,iz] = 2*u[ix,iz] - u_old[ix,iz] + (c[ix,iz]**2) * dtdx2 * \\\n",
    "        #                            (-4*u[ix,iz]+u[ix-1,iz]+u[ix+1,iz]+u[ix,iz-1]+u[ix,iz+1])\n",
    "\n",
    "        # find new wavefield, u_new, throughout domain (apart from edges)\n",
    "        # NOTE: uses vectorisation, so it's much faster!\n",
    "        u_nxt[1:-1,1:-1] = ( (2-a[1:-1,1:-1]**2)*u[1:-1,1:-1] - u_prv[1:-1,1:-1]*(1-a[1:-1,1:-1]) \\\n",
    "                           + (c[1:-1,1:-1]**2) * dtdx2 * \\\n",
    "                                (-4*u[1:-1,1:-1]+u[:-2,1:-1]+u[2:,1:-1]+u[1:-1,:-2]+u[1:-1,2:]) ) \\\n",
    "                         / (1+a[1:-1,1:-1])\n",
    "    \n",
    "        # find u_new for top and bottom edges using 'predictive' boundary condition\n",
    "        u_nxt[:,0] = (u[:,0]*(1.0-C_zmin[:]) + u[:,1]*C_zmin[:])*predfact_zmin\n",
    "        u_nxt[:,-1] = (u[:,-1]*(1.0-C_zmax[:]) + u[:,-2]*C_zmax[:])*predfact_zmax\n",
    "\n",
    "        # find u_new for left and right edges using 'predictive' boundary condition\n",
    "        u_nxt[0,:] = (u[0,:]*(1.0-C_xmin[:]) + u[1,:]*C_xmin[:])*predfact_xmin\n",
    "        u_nxt[-1,:] = (u[-1,:]*(1.0-C_xmax[:]) + u[-2,:]*C_xmax[:])*predfact_xmax\n",
    "\n",
    "        # inject source on boundary, for plane wave with frequency freq\n",
    "        #if i+1<nt+10:\n",
    "            #u_nxt[:,0] = src[i+1]*0.1\n",
    "            #u_nxt[:,0] = np.sin(np.pi*i*dt*2*freq)*0.1\n",
    "        # inject source entry for this step at the source point\n",
    "        if i+1<ns:\n",
    "            u_nxt[sx,sz] = src[i+1] #*dtdx2*(c[sx,sz]**2)\n",
    "    \n",
    "        # shift wavefields for next time-step\n",
    "        u_prv[:,:] = u[:,:]\n",
    "        u[:,:] = u_nxt[:,:]\n",
    "    \n",
    "        # fill in values at receivers\n",
    "        r[:,i] = u[:,rz]\n",
    "\n",
    "        if (i+1)%snapshot_gap == 0: # store the current wavefield u on every tenth step\n",
    "            wavefield[int((i+1)/snapshot_gap-1)] = u[:,:]\n",
    "\n",
    "    print('Finished %d time-steps' % (nt))"
   ]
  },
  {
   "cell_type": "code",
   "execution_count": null,
   "metadata": {},
   "outputs": [],
   "source": [
    "propagate()"
   ]
  },
  {
   "cell_type": "markdown",
   "metadata": {},
   "source": [
    "## Plot wavefield at different times"
   ]
  },
  {
   "cell_type": "code",
   "execution_count": null,
   "metadata": {},
   "outputs": [],
   "source": [
    "def plot_snapshot(plot_time,bounds):\n",
    "    plt.figure(figsize=(10,7))\n",
    "    plt.imshow(wavefield[int(plot_time/(dt*snapshot_gap))].T,   # note the wavefield was transposed\n",
    "               vmin=-bounds, vmax=bounds, cmap='RdBu', interpolation='bilinear')\n",
    "    plt.title('Wavefield at about %.2fs' % (plot_time))\n",
    "    plt.colorbar()\n",
    "    plt.xlabel('x gridpoints')\n",
    "    plt.ylabel('z gridpoints')\n",
    "    plt.show()"
   ]
  },
  {
   "cell_type": "code",
   "execution_count": null,
   "metadata": {},
   "outputs": [],
   "source": [
    "plot_snapshot(0.7,0.06)\n",
    "plot_snapshot(1.3,0.06)"
   ]
  },
  {
   "cell_type": "markdown",
   "metadata": {},
   "source": [
    "## Plot data at receivers"
   ]
  },
  {
   "cell_type": "code",
   "execution_count": null,
   "metadata": {
    "scrolled": false
   },
   "outputs": [],
   "source": [
    "def plot_at_receivers(bounds):\n",
    "    plt.figure(figsize=(10,7))\n",
    "    plt.imshow(r.T, cmap='RdBu', interpolation='bilinear', aspect='auto', \n",
    "               vmin=-bounds, vmax=bounds,   # set bounds for colourmap data\n",
    "               extent=(0,nx,time,0))  # set bounds for axes\n",
    "    plt.title('Receiver Data')\n",
    "    plt.colorbar()\n",
    "    plt.xlabel('Receiver number')\n",
    "    plt.ylabel('Time / s')\n",
    "    plt.show()"
   ]
  },
  {
   "cell_type": "code",
   "execution_count": null,
   "metadata": {},
   "outputs": [],
   "source": [
    "plot_at_receivers(0.04)"
   ]
  },
  {
   "cell_type": "markdown",
   "metadata": {},
   "source": [
    "Once everything is incorporated from tasks 1 & 2, the plot above should show several features...\n",
    "1. Direct/head wave –main strong straight lines, reaching vertex near the top of figure\n",
    "2. Reflection from flat interface – weaker curve just underneath\n",
    "3. Refraction – arriving before the direct wave for further offset receivers (beyond 400) on far right\n",
    "4. Diffraction from small square – weaker curve underneath, with top offset right from others, and arriving just after 0.75s\n",
    "5. Very weak reflections from various boundaries (how many can you see? what could you change in the plot to see them better?)\n",
    "6. Some dispersion, particularly noticeable towards bottom-right of the direct arrival (why do you think this happened?)"
   ]
  },
  {
   "cell_type": "markdown",
   "metadata": {},
   "source": [
    "## Make a movie! "
   ]
  },
  {
   "cell_type": "code",
   "execution_count": null,
   "metadata": {},
   "outputs": [],
   "source": [
    "def create_animation(bounds):\n",
    "    fig = plt.figure(figsize=(10,8))\n",
    "\n",
    "    plt.title('Wavefield')\n",
    "    plt.xlabel('x gridpoints')\n",
    "    plt.ylabel('z gridpoints')\n",
    "\n",
    "    n = wavefield.shape[0]\n",
    "    imgs = []\n",
    "    for i in range(n):\n",
    "        if i%20==0:  # show progress every 20 frames\n",
    "            sys.stdout.write('Done %d of %d\\r' % (i+1,n))\n",
    "        img = plt.imshow(wavefield[i].T, vmin=-bounds, vmax=bounds, cmap='RdBu',\n",
    "                         animated=True, interpolation='bilinear')\n",
    "        imgs.append([img])\n",
    "\n",
    "    print('Finished plots for frames, building animation...')\n",
    "\n",
    "    ani = anim.ArtistAnimation(fig, imgs, interval=50, blit=True)\n",
    "\n",
    "    plt.close(fig)  # prevent final frame plot from showing up inline below\n",
    "\n",
    "    return ani"
   ]
  },
  {
   "cell_type": "code",
   "execution_count": null,
   "metadata": {},
   "outputs": [],
   "source": [
    "ani = create_animation(0.05)\n",
    "print('Preparing HTML (takes a little while...)')\n",
    "HTML(ani.to_jshtml())"
   ]
  },
  {
   "cell_type": "code",
   "execution_count": null,
   "metadata": {},
   "outputs": [],
   "source": []
  }
 ],
 "metadata": {
  "kernelspec": {
   "display_name": "Python 3",
   "language": "python",
   "name": "python3"
  },
  "language_info": {
   "codemirror_mode": {
    "name": "ipython",
    "version": 3
   },
   "file_extension": ".py",
   "mimetype": "text/x-python",
   "name": "python",
   "nbconvert_exporter": "python",
   "pygments_lexer": "ipython3",
   "version": "3.5.6"
  }
 },
 "nbformat": 4,
 "nbformat_minor": 2
}
