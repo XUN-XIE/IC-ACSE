{
 "cells": [
  {
   "cell_type": "markdown",
   "metadata": {},
   "source": [
    "# Numerical simulation of the wave equation in 2D using Finite Difference"
   ]
  },
  {
   "cell_type": "markdown",
   "metadata": {},
   "source": [
    "## Import libraries"
   ]
  },
  {
   "cell_type": "code",
   "execution_count": null,
   "metadata": {},
   "outputs": [],
   "source": [
    "%matplotlib inline\n",
    "import numpy as np\n",
    "import matplotlib.pyplot as plt\n",
    "import matplotlib.animation as anim\n",
    "from IPython.display import HTML\n",
    "import sys"
   ]
  },
  {
   "cell_type": "markdown",
   "metadata": {},
   "source": [
    "----\n",
    "\n",
    "## Create domain model properties (i.e. speed of waves), and discretisation grid"
   ]
  },
  {
   "cell_type": "code",
   "execution_count": null,
   "metadata": {},
   "outputs": [],
   "source": [
    "# 501 grid-points along the x-axis, 351 along the z-axis\n",
    "nx = 501\n",
    "nz = 351\n",
    "\n",
    "# start with homogeneous model - same wave-speed everywhere.\n",
    "c = np.full((nx,nz),1500.0)  # Note: 1500m/s is typical acoustic velocity of water\n",
    "\n",
    "# a faster layer, deeper in model, to show reflection of waves when crossing sharp interface\n",
    "#c[:,140:] = 3000.0  # Note: 3000m/s is fairly typical acoustic velocity of sedimentary rock\n",
    "\n",
    "print('Range of speeds:  %.1fm/s to %.1fm/s' % (c.min(),c.max()))"
   ]
  },
  {
   "cell_type": "code",
   "execution_count": null,
   "metadata": {},
   "outputs": [],
   "source": [
    "length = 3500.0 # assign a length to the model in metres\n",
    "\n",
    "dx = length/(nx-1) # calculate the spatial increment between model parameters\n",
    "\n",
    "depth = dx*(nz-1) # calculate the depth from the length and number of x and z gridpoints\n",
    "\n",
    "print('Domain is %d x %d grid-points (%.1fm x %.1fm)' % (nx,nz,length,depth))\n",
    "print('Grid-spacing (dx) is %.2fm' % (dx))"
   ]
  },
  {
   "cell_type": "code",
   "execution_count": null,
   "metadata": {},
   "outputs": [],
   "source": [
    "def plot_model(c):\n",
    "    plt.figure(figsize=(10,6))\n",
    "    plt.imshow(c.T) # plotting the velocity model (note transposed, to orient plot in way we expect)\n",
    "    plt.colorbar()\n",
    "    plt.xlabel('x gridpoints')\n",
    "    plt.ylabel('z gridpoints')\n",
    "    plt.title('Velocity model (m/s)')\n",
    "    plt.show()\n",
    "\n",
    "def plot_slice(c,xgrid):\n",
    "    plt.figure(figsize=(7,6))\n",
    "    plt.plot(c[xgrid,:],range(nz-1,-1,-1))  # note two arrays, 2nd one (range) gets model on x axis\n",
    "    plt.xlabel('propagation speed / m/s')\n",
    "    plt.ylabel('z gridpoints')\n",
    "    plt.title('Vertical slice through model at x-gridpoint=%d' % xgrid)\n",
    "    plt.show()"
   ]
  },
  {
   "cell_type": "code",
   "execution_count": null,
   "metadata": {},
   "outputs": [],
   "source": [
    "plot_model(c)\n",
    "plot_slice(c,225)"
   ]
  },
  {
   "cell_type": "markdown",
   "metadata": {},
   "source": [
    "----\n",
    "## Modelling constraints\n",
    "#### CFL stability condition should be satisfied – the 'Courant number'.\n",
    "\n",
    "The dimensionless Courant number, $C$, gives a measure of how far a signal will travel across a grid-cell (/between grid-points) within one time-step.\n",
    "(Hence why I will very often refer to it as 'the crossing factor'.)\n",
    "\n",
    "The crossing factor is $c$.$\\delta t$/$\\delta x$ for speed $c$, and we want the maximum value of this within the whole domain to satisfy some constraint that depends upon the finite-difference stencil(s) in use when modelling.\n",
    "\n",
    "i.e. we want:$\\quad \\text{max}(c)$.$\\delta t/\\delta x <= C_{max}$, where $\\ C_{max}$ depends on the discretisations.\n",
    "\n",
    "We can turn this around to find the maximum time-step for our model and grid-spacing, given $C_{max}$ for our discretisations:\n",
    "\n",
    "$$\\delta t_{best} = \\frac{C_{max}\\ \\delta x}{\\text{max}(c)}$$\n",
    "\n",
    "#### This spatial stencil (simple 2nd order), with 2nd-order time-stepping, requires the max crossing factor to (usually) be no more than sqrt(1/2)\n",
    "(i.e. can only cross up to 70.7% of a cell in one time-step – we'll use 70% here...)"
   ]
  },
  {
   "cell_type": "code",
   "execution_count": null,
   "metadata": {},
   "outputs": [],
   "source": [
    "courant = 0.70  # set the dimensionless max Courant number for 2nd-order FD grid in space & time"
   ]
  },
  {
   "cell_type": "code",
   "execution_count": null,
   "metadata": {},
   "outputs": [],
   "source": [
    "time = 2.0  # desired length of the simulation in seconds\n",
    "dt = (courant*dx)/c.max()  # define the best time-step by using the max Courant number\n",
    "nt = int(time/dt+0.9999)  # how many steps are needed to cover that time\n",
    "time = nt*dt  # turn that back into exact time for this number of steps\n",
    "print('Time-step = %.5fs  Number of steps = %d  (Total time being modelled: %.5fs)' % (dt,nt,dt*nt))"
   ]
  },
  {
   "cell_type": "markdown",
   "metadata": {},
   "source": [
    "### Create source function (Ricker wavelet with 8Hz peak frequency)"
   ]
  },
  {
   "cell_type": "code",
   "execution_count": null,
   "metadata": {},
   "outputs": [],
   "source": [
    "# want to locate the source in the grid\n",
    "sx = 150\n",
    "sz = 80"
   ]
  },
  {
   "cell_type": "markdown",
   "metadata": {},
   "source": [
    "The Ricker wavelet used here is a function of time that's defined from the second derivate of a Gaussian function (which is $G(t)=\\text{e}^{-a^2 t^2}$).\n",
    "\n",
    "–It's also known as the Mexican hat wavelet, due to its shape when plotted as a function of two variables.\n",
    "\n",
    "It can be written so it is symmetric about time zero, with maximum at that time, ultimately decaying towards zero as $t$$\\rightarrow$$±\\infty$. However, we will shift it in time so that it starts near zero at our time zero.\n",
    "\n",
    "After differentiating above Gaussian, $G(t)$, twice, flipping, then scaling (and before shifting in time), we get: $\\quad R(t) = (1-2a^2 t^2)\\ \\text{e}^{-a^2 t^2}$\n",
    "\n",
    "The peak frequency of the Ricker wavelet is at $f$=$a/\\pi$.\n",
    "\n",
    "The length of the wavelet, in time, before it decays close enough to zero for our purposes, is about $\\frac{2.1}{f}$ (i.e. about $\\frac{1.05}{f}$ seconds each side of the wavelet's central peak)."
   ]
  },
  {
   "cell_type": "code",
   "execution_count": null,
   "metadata": {
    "scrolled": true
   },
   "outputs": [],
   "source": [
    "def create_ricker(freq,dt,ampl):\n",
    "    ts = 2.1/freq  # desired length of wavelet in time is related to peak frequency\n",
    "    ns = int(ts/dt+0.9999)  # figure out how many time-steps are needed to cover that time\n",
    "    ts = ns*dt  # and now turn that back into a time that's exactly the required number of steps\n",
    "    print('Length of wavelet will be %.5f secs (%d steps)' % (ts,ns))\n",
    "    a2 = (freq*np.pi)**2  # a squared (see equation above)\n",
    "    t0 = ts/2 - dt/2  # midpoint time of wavelet\n",
    "    src = np.zeros(ns)\n",
    "    # create Ricker wavelet (see equation above), offset by time t0 (so midpoint of wavelet is at time t=t0)\n",
    "    for i in range(ns):\n",
    "        src[i] = ampl*( (1 - 2*a2*((i*dt-t0)**2)) * np.exp(-a2*((i*dt-t0)**2)) )\n",
    "    print('Endpoint values are: %.6f %.6f' % (src[0],src[-1]))\n",
    "    return src,ns"
   ]
  },
  {
   "cell_type": "code",
   "execution_count": null,
   "metadata": {},
   "outputs": [],
   "source": [
    "freq = 8.0  # let's create an 8Hz Ricker source wavelet\n",
    "src,ns = create_ricker(freq,dt,1.0)"
   ]
  },
  {
   "cell_type": "code",
   "execution_count": null,
   "metadata": {},
   "outputs": [],
   "source": [
    "def plot_source(src):\n",
    "    plt.figure(figsize=(10,6))\n",
    "    plt.plot(src) # plot source wavelet\n",
    "    plt.xlabel('timesteps')\n",
    "    plt.ylabel('amplitude')\n",
    "    plt.title('Source Wavelet (Ricker, peak %.1fHz)' % (freq))\n",
    "    plt.show()"
   ]
  },
  {
   "cell_type": "code",
   "execution_count": null,
   "metadata": {},
   "outputs": [],
   "source": [
    "plot_source(src)"
   ]
  },
  {
   "cell_type": "markdown",
   "metadata": {},
   "source": [
    "### Check that the maximum frequency in the source wavelet can propagate reliably"
   ]
  },
  {
   "cell_type": "markdown",
   "metadata": {},
   "source": [
    "For a simple second-order finite-difference, the minimum wavelength of a signal that we can propagate reliably is about 10 cells."
   ]
  },
  {
   "cell_type": "code",
   "execution_count": null,
   "metadata": {},
   "outputs": [],
   "source": [
    "min_cells_per_wl = 10.0  # minimum of 10 cells per wavelength for reasonably accurate propagation\n",
    "max_freq = c.min()/(min_cells_per_wl*dx) # calculate the max frequency that can be modelled without numerical dispersion\n",
    "print('Maximum reliable propagation frequency is about %.1fHz' % max_freq)"
   ]
  },
  {
   "cell_type": "markdown",
   "metadata": {},
   "source": [
    "#### Want to avoid causing too much dispersion by keeping maximum significant frequency within this limit..."
   ]
  },
  {
   "cell_type": "code",
   "execution_count": null,
   "metadata": {
    "scrolled": false
   },
   "outputs": [],
   "source": [
    "# plot amplitude spectrum of source wavelet\n",
    "def plot_ampl_spect(src):\n",
    "    plt.figure(figsize=(10,6))\n",
    "    plt.magnitude_spectrum(np.append(src,np.zeros(nt-ns)), Fs=1/dt)  # note padding to nt points\n",
    "    plt.title('Amplitude Spectrum')\n",
    "    plt.xlim(0,35)\n",
    "    plt.show()"
   ]
  },
  {
   "cell_type": "code",
   "execution_count": null,
   "metadata": {},
   "outputs": [],
   "source": [
    "plot_ampl_spect(src)"
   ]
  },
  {
   "cell_type": "markdown",
   "metadata": {},
   "source": [
    "----\n",
    "## Create absorbing layers\n",
    "\n",
    "$$\\text{With absorbing layers, the 2nd-order time discretisation for the 2d wave equation becomes:}$$\n",
    "\n",
    "$$(1+q)\\ u^{\\tau+1}(x,z)\\ \\approx \\ \\delta t^2c(x,z)^2\\ \n",
    "\\left(\\frac{\\partial^2 u^\\tau(x,z)}{\\partial x^2}+\\frac{\\partial^2 u^\\tau(x,z)}{\\partial z^2}\\right)+\\ (2-q^2)\\ u^\\tau(x,z)\\ -\\ \n",
    "(1-q)\\ u^{\\tau-1}(x,z)$$\n",
    "\n",
    "$$\\text{Where:}\\quad q\\ =\\ \\alpha \\frac{c(x,z)\\delta t}{\\delta x}\\quad\n",
    "\\text{(note that we've set the grid-spacing to be $\\delta x$ in $z$ direction as well as $x$)}$$"
   ]
  },
  {
   "cell_type": "markdown",
   "metadata": {},
   "source": [
    ">**Task 1:**\n",
    ">\n",
    ">You've already seen the time-discretisation in 1d with absorbing layers, and you've discretised the 2d wave equation for space & time in the previous notebook.\n",
    ">\n",
    ">That means you should now be able to take the equations above and see how you will have to modify the code in the time-stepping (that will be the next task). But before doing that we must first build the absorbing layer coefficients in the same kind of way we did for the 1d case...\n",
    ">\n",
    ">**The array `a` currently gets created in the code cell below so it contains all zeros (one for each gridpoint in the 2d domain). Now create a layer of 60 gridpoints all around the edges of the domain where `a` will contain value 1.0 instead of zero.**  \n",
    ">\n",
    ">**Make the appropriate changes to the code in the time-stepping loop to include the absorption, then try it out.**  \n",
    ">– We saw before that abruptly switching on the absorbing layer like this would produce reflections from where the absorption begins – we need to ramp it up more slowly, just like we did in 1d...\n",
    ">\n",
    ">**As we did with 1d earlier, now have a linear ramp in the 60-gridpoint absorbing layer, so that it goes from zero up to one when it reaches the domain boundary.**  \n",
    ">– This should be a big improvement over the sudden switch-on above.  \n",
    ">– Once you tweak `absfact` up to nearer 0.1 again, you should see less reflection from the domain edges.\n",
    ">\n",
    ">**Change the code again to try a quadratic ramp from zero to one (rather than linear).**  \n",
    ">– As before, you should see this is an improvement over the linear above.  "
   ]
  },
  {
   "cell_type": "code",
   "execution_count": null,
   "metadata": {},
   "outputs": [],
   "source": [
    "# This array will eventually contain the 'q' from the equation given above, but only after\n",
    "# it has been multiplied by the c.dt/dx, and by the scaling factor 'absfact'.\n",
    "# Before then, any values it contains only need to be in range zero to one.\n",
    "\n",
    "a = np.zeros((nx,nz))  # initialise array with zeros\n",
    "\n",
    "\n",
    "# FILL IN CODE HERE TO BUILD ABSORBING LAYERS, AROUND ALL EDGES OF THE DOMAIN (task 1)...\n",
    "\n",
    "\n",
    "\n",
    "\n",
    "\n"
   ]
  },
  {
   "cell_type": "markdown",
   "metadata": {},
   "source": [
    "#### Show the absorption model"
   ]
  },
  {
   "cell_type": "code",
   "execution_count": null,
   "metadata": {},
   "outputs": [],
   "source": [
    "# various plots so you can check your absorption model...\n",
    "\n",
    "def plot_absorbing(a):\n",
    "    plt.figure(figsize=(10,6))\n",
    "    plt.title('Absorption')\n",
    "\n",
    "    plt.imshow(a.T) # plotting the absorption as a 2d colour plot (note transposed, to orient plot in way we expect)\n",
    "    plt.colorbar()\n",
    "    plt.xlabel('x gridpoints')\n",
    "    plt.ylabel('z gridpoints')\n",
    "\n",
    "    plt.show()\n",
    "\n",
    "\n",
    "def plot_absorb_horiz(a,zgrid):\n",
    "    plt.figure(figsize=(8,4))\n",
    "    plt.title('Horizontal x-section at z-gridpoint=%d' % zgrid)\n",
    "\n",
    "    plt.plot(a[:,zgrid])  # horizontal cross-section through absorption, to show const/linear/quadratic nature\n",
    "    plt.xlabel('x gridpoints')\n",
    "    plt.ylabel('absorption coefficient')\n",
    "\n",
    "    plt.show()\n",
    "\n",
    "\n",
    "def plot_absorb_vert(a,xgrid):\n",
    "    plt.figure(figsize=(8,4))\n",
    "    plt.title('Vertical x-section at x-gridpoint=%d' % xgrid)\n",
    "\n",
    "    plt.plot(a[xgrid,:])  # vertical cross-section through absorption, to show const/linear/quadratic nature\n",
    "    plt.xlabel('z gridpoints')\n",
    "    plt.ylabel('absorption coefficient')\n",
    "\n",
    "    plt.show()"
   ]
  },
  {
   "cell_type": "code",
   "execution_count": null,
   "metadata": {},
   "outputs": [],
   "source": [
    "plot_absorbing(a)\n",
    "plot_absorb_horiz(a,200)\n",
    "plot_absorb_vert(a,200)"
   ]
  },
  {
   "cell_type": "markdown",
   "metadata": {},
   "source": [
    "Finish by scaling with velocity and other factors, for direct use in simulation later"
   ]
  },
  {
   "cell_type": "code",
   "execution_count": null,
   "metadata": {},
   "outputs": [],
   "source": [
    "#absfact = 0.0  # to switch off absorbing layer\n",
    "\n",
    "a[:,:] = a[:,:]*c[:,:]*(dt/dx)*absfact"
   ]
  },
  {
   "cell_type": "markdown",
   "metadata": {},
   "source": [
    "## Line of receivers within domain\n",
    "–To detect what crosses a particular horizontal line of the domain (i.e. constant depth) over time"
   ]
  },
  {
   "cell_type": "code",
   "execution_count": null,
   "metadata": {},
   "outputs": [],
   "source": [
    "rz = 70  # put receiver line at depth of seventy cells (just above source point)\n",
    "r = np.zeros((nx,nt))  # an array to store receiver data every step (and to plot later)"
   ]
  },
  {
   "cell_type": "markdown",
   "metadata": {},
   "source": [
    "----\n",
    "# Simulation"
   ]
  },
  {
   "cell_type": "code",
   "execution_count": null,
   "metadata": {},
   "outputs": [],
   "source": [
    "# Initialise arrays for wavefields\n",
    "u = np.zeros((nx,nz)) # current wavefield\n",
    "u_prv = np.zeros((nx,nz)) # old t-1 wavefield\n",
    "u_nxt = np.zeros((nx,nz)) # new t+1 wavefield"
   ]
  },
  {
   "cell_type": "code",
   "execution_count": null,
   "metadata": {},
   "outputs": [],
   "source": [
    "# prepare an array to store wavefield snapshots for plotting\n",
    "snapshot_gap = 10 # set sampling rate used to store wavefield (every 10 timesteps)\n",
    "wavefield = np.zeros((int(nt/snapshot_gap), nx, nz)) # array to store wavefields every 10 timesteps\n",
    "print('Storing %d wavefields (every %dth out of %d)' % (wavefield.shape[0],snapshot_gap,nt))"
   ]
  },
  {
   "cell_type": "code",
   "execution_count": null,
   "metadata": {},
   "outputs": [],
   "source": [
    "# a useful variable – shorthand for something that appears regularly in expressions below\n",
    "dtdx2 = (dt*dt)/(dx*dx)"
   ]
  },
  {
   "cell_type": "code",
   "execution_count": null,
   "metadata": {},
   "outputs": [],
   "source": [
    "u[sx,sz] = src[0]  # inject first source entry into current wavefield\n",
    "\n",
    "\n",
    "# begin time-stepping loop...\n",
    "\n",
    "for i in range(nt):\n",
    "    \n",
    "    if (i+1)%20==0:  # show progress every 20 steps\n",
    "        sys.stdout.write('Done step %d (of %d)\\r' % (i+1,nt))\n",
    "    \n",
    "    \n",
    "    # CHANGE LINE OF CODE BELOW TO INCLUDE ABSORPTION (see task 1)...\n",
    "\n",
    "    # find new wavefield, u_new, throughout domain (apart from edges)\n",
    "    u_nxt[1:-1,1:-1] = ( (2-a[1:-1,1:-1]**2)*u[1:-1,1:-1] - (1-a[1:-1,1:-1])*u_prv[1:-1,1:-1]  \\\n",
    "        + (c[1:-1,1:-1]**2)*dtdx2*(u[:-2,1:-1]+u[2:,1:-1]-4*u[1:-1,1:-1]+u[1:-1,:-2]+u[1:-1,2:]) )  \\\n",
    "                  /  (1+a[1:-1,1:-1])\n",
    "\n",
    "\n",
    "    # inject source entry for this step at the source point\n",
    "    if i+1<ns:\n",
    "        u_nxt[sx,sz] = src[i+1]\n",
    "    \n",
    "    # shift wavefields for next time-step\n",
    "    u_prv[:,:] = u[:,:]\n",
    "    u[:,:] = u_nxt[:,:]\n",
    "    \n",
    "    # fill in values at receivers\n",
    "    r[:,i] = u[:,rz]\n",
    "\n",
    "    if (i+1)%snapshot_gap == 0: # store the current wavefield u on every tenth step\n",
    "        wavefield[int((i+1)/snapshot_gap-1)] = u[:,:]\n",
    "\n",
    "print('Finished %d time-steps' % (nt))"
   ]
  },
  {
   "cell_type": "markdown",
   "metadata": {},
   "source": [
    "## Plot wavefield at different times"
   ]
  },
  {
   "cell_type": "code",
   "execution_count": null,
   "metadata": {},
   "outputs": [],
   "source": [
    "def plot_snapshot(plot_time,bounds):\n",
    "    plt.figure(figsize=(10,7))\n",
    "    plt.imshow(wavefield[int(plot_time/(dt*snapshot_gap))].T,   # note the wavefield was transposed\n",
    "               vmin=-bounds, vmax=bounds, cmap='RdBu', interpolation='bilinear')\n",
    "    plt.title('Wavefield at about %.2fs' % (plot_time))\n",
    "    plt.colorbar()\n",
    "    plt.xlabel('x gridpoints')\n",
    "    plt.ylabel('z gridpoints')\n",
    "    plt.show()"
   ]
  },
  {
   "cell_type": "code",
   "execution_count": null,
   "metadata": {},
   "outputs": [],
   "source": [
    "plot_snapshot(0.7,0.06)\n",
    "plot_snapshot(1.3,0.06)"
   ]
  },
  {
   "cell_type": "markdown",
   "metadata": {},
   "source": [
    "## Plot data at receivers"
   ]
  },
  {
   "cell_type": "code",
   "execution_count": null,
   "metadata": {
    "scrolled": false
   },
   "outputs": [],
   "source": [
    "def plot_at_receivers(bounds):\n",
    "    plt.figure(figsize=(10,7))\n",
    "    plt.imshow(r.T, cmap='RdBu', interpolation='bilinear', aspect='auto', \n",
    "               vmin=-bounds, vmax=bounds,   # set bounds for colourmap data\n",
    "               extent=(0,nx,time,0))  # set bounds for axes\n",
    "    plt.title('Receiver Data')\n",
    "    plt.colorbar()\n",
    "    plt.xlabel('Receiver number')\n",
    "    plt.ylabel('Time / s')\n",
    "    plt.show()"
   ]
  },
  {
   "cell_type": "code",
   "execution_count": null,
   "metadata": {},
   "outputs": [],
   "source": [
    "plot_at_receivers(0.06)"
   ]
  },
  {
   "cell_type": "markdown",
   "metadata": {},
   "source": [
    "## Make a movie! "
   ]
  },
  {
   "cell_type": "code",
   "execution_count": null,
   "metadata": {},
   "outputs": [],
   "source": [
    "def create_animation(bounds):\n",
    "    fig = plt.figure(figsize=(10,8))\n",
    "\n",
    "    plt.title('Wavefield')\n",
    "    plt.xlabel('x gridpoints')\n",
    "    plt.ylabel('z gridpoints')\n",
    "\n",
    "    n = wavefield.shape[0]\n",
    "    imgs = []\n",
    "    for i in range(n):\n",
    "        if i%20==0:  # show progress every 20 frames\n",
    "            sys.stdout.write('Done %d of %d\\r' % (i+1,n))\n",
    "        img = plt.imshow(wavefield[i].T, vmin=-bounds, vmax=bounds, cmap='RdBu',\n",
    "                         animated=True, interpolation='bilinear')\n",
    "        imgs.append([img])\n",
    "\n",
    "    print('Finished plots for frames, building animation...')\n",
    "\n",
    "    ani = anim.ArtistAnimation(fig, imgs, interval=50, blit=True)\n",
    "\n",
    "    plt.close(fig)  # prevent final frame plot from showing up inline below\n",
    "\n",
    "    return ani"
   ]
  },
  {
   "cell_type": "code",
   "execution_count": null,
   "metadata": {},
   "outputs": [],
   "source": [
    "ani = create_animation(0.06)\n",
    "print('Preparing HTML (takes a little while...)')\n",
    "HTML(ani.to_jshtml())"
   ]
  },
  {
   "cell_type": "code",
   "execution_count": null,
   "metadata": {},
   "outputs": [],
   "source": []
  }
 ],
 "metadata": {
  "kernelspec": {
   "display_name": "Python 3",
   "language": "python",
   "name": "python3"
  },
  "language_info": {
   "codemirror_mode": {
    "name": "ipython",
    "version": 3
   },
   "file_extension": ".py",
   "mimetype": "text/x-python",
   "name": "python",
   "nbconvert_exporter": "python",
   "pygments_lexer": "ipython3",
   "version": "3.5.6"
  }
 },
 "nbformat": 4,
 "nbformat_minor": 2
}
