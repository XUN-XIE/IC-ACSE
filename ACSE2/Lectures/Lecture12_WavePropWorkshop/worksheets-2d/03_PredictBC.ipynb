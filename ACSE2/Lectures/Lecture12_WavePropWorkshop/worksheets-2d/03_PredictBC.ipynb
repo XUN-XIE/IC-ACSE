{
 "cells": [
  {
   "cell_type": "markdown",
   "metadata": {},
   "source": [
    "# Numerical simulation of the wave equation in 2D using Finite Difference"
   ]
  },
  {
   "cell_type": "markdown",
   "metadata": {},
   "source": [
    "## Import libraries"
   ]
  },
  {
   "cell_type": "code",
   "execution_count": null,
   "metadata": {},
   "outputs": [],
   "source": [
    "%matplotlib inline\n",
    "import numpy as np\n",
    "import matplotlib.pyplot as plt\n",
    "import matplotlib.animation as anim\n",
    "from IPython.display import HTML\n",
    "import sys"
   ]
  },
  {
   "cell_type": "markdown",
   "metadata": {},
   "source": [
    "----\n",
    "\n",
    "## Create domain model properties (i.e. speed of waves), and discretisation grid"
   ]
  },
  {
   "cell_type": "code",
   "execution_count": null,
   "metadata": {},
   "outputs": [],
   "source": [
    "# 501 grid-points along the x-axis, 351 along the z-axis\n",
    "nx = 501\n",
    "nz = 351\n",
    "\n",
    "# start with homogeneous model - same wave-speed everywhere.\n",
    "c = np.full((nx,nz),1500.0)  # Note: 1500m/s is typical acoustic velocity of water\n",
    "\n",
    "# a faster layer, deeper in model, to show reflection of waves when crossing sharp interface\n",
    "c[:,140:] = 3000.0  # Note: 3000m/s is fairly typical acoustic velocity of sedimentary rock\n",
    "\n",
    "print('Range of speeds:  %.1fm/s to %.1fm/s' % (c.min(),c.max()))"
   ]
  },
  {
   "cell_type": "code",
   "execution_count": null,
   "metadata": {},
   "outputs": [],
   "source": [
    "length = 3500.0 # assign a length to the model in metres\n",
    "\n",
    "dx = length/(nx-1) # calculate the spatial increment between model parameters\n",
    "\n",
    "depth = dx*(nz-1) # calculate the depth from the length and number of x and z gridpoints\n",
    "\n",
    "print('Domain is %d x %d grid-points (%.1fm x %.1fm)' % (nx,nz,length,depth))\n",
    "print('Grid-spacing (dx) is %.2fm' % (dx))"
   ]
  },
  {
   "cell_type": "code",
   "execution_count": null,
   "metadata": {},
   "outputs": [],
   "source": [
    "def plot_model(c):\n",
    "    plt.figure(figsize=(10,6))\n",
    "    plt.imshow(c.T) # plotting the velocity model (note transposed, to orient plot in way we expect)\n",
    "    plt.colorbar()\n",
    "    plt.xlabel('x gridpoints')\n",
    "    plt.ylabel('z gridpoints')\n",
    "    plt.title('Velocity model (m/s)')\n",
    "    plt.show()\n",
    "\n",
    "def plot_slice(c,xgrid):\n",
    "    plt.figure(figsize=(7,6))\n",
    "    plt.plot(c[xgrid,:],range(nz-1,-1,-1))  # note two arrays, 2nd one (range) gets model on x axis\n",
    "    plt.xlabel('propagation speed / m/s')\n",
    "    plt.ylabel('z gridpoints')\n",
    "    plt.title('Vertical slice through model at x-gridpoint=%d' % xgrid)\n",
    "    plt.show()"
   ]
  },
  {
   "cell_type": "code",
   "execution_count": null,
   "metadata": {},
   "outputs": [],
   "source": [
    "plot_model(c)\n",
    "plot_slice(c,200)"
   ]
  },
  {
   "cell_type": "markdown",
   "metadata": {},
   "source": [
    "----\n",
    "## Modelling constraints\n",
    "#### CFL stability condition should be satisfied – the 'Courant number'.\n",
    "\n",
    "The dimensionless Courant number, $C$, gives a measure of how far a signal will travel across a grid-cell (/between grid-points) within one time-step.\n",
    "(Hence why I will very often refer to it as 'the crossing factor'.)\n",
    "\n",
    "The crossing factor is $c$.$\\delta t$/$\\delta x$ for speed $c$, and we want the maximum value of this within the whole domain to satisfy some constraint that depends upon the finite-difference stencil(s) in use when modelling.\n",
    "\n",
    "i.e. we want:$\\quad \\text{max}(c)$.$\\delta t/\\delta x <= C_{max}$, where $\\ C_{max}$ depends on the discretisations.\n",
    "\n",
    "We can turn this around to find the maximum time-step for our model and grid-spacing, given $C_{max}$ for our discretisations:\n",
    "\n",
    "$$\\delta t_{best} = \\frac{C_{max}\\ \\delta x}{\\text{max}(c)}$$\n",
    "\n",
    "#### This spatial stencil (simple 2nd order), with 2nd-order time-stepping, requires the max crossing factor to (usually) be no more than sqrt(1/2)\n",
    "(i.e. can only cross up to 70.7% of a cell in one time-step – we'll use 70% here...)"
   ]
  },
  {
   "cell_type": "code",
   "execution_count": null,
   "metadata": {},
   "outputs": [],
   "source": [
    "courant = 0.70  # set the dimensionless max Courant number for 2nd-order FD grid in space & time"
   ]
  },
  {
   "cell_type": "code",
   "execution_count": null,
   "metadata": {},
   "outputs": [],
   "source": [
    "time = 2.0  # desired length of the simulation in seconds\n",
    "dt = (courant*dx)/c.max()  # define the best time-step by using the max Courant number\n",
    "nt = int(time/dt+0.9999)  # how many steps are needed to cover that time\n",
    "time = nt*dt  # turn that back into exact time for this number of steps\n",
    "print('Time-step = %.5fs  Number of steps = %d  (Total time being modelled: %.5fs)' % (dt,nt,dt*nt))"
   ]
  },
  {
   "cell_type": "markdown",
   "metadata": {},
   "source": [
    "### Create source function (Ricker wavelet with 8Hz peak frequency)"
   ]
  },
  {
   "cell_type": "code",
   "execution_count": null,
   "metadata": {},
   "outputs": [],
   "source": [
    "# want to locate the source in the grid\n",
    "sx = 150\n",
    "sz = 80"
   ]
  },
  {
   "cell_type": "markdown",
   "metadata": {},
   "source": [
    "The Ricker wavelet used here is a function of time that's defined from the second derivate of a Gaussian function (which is $G(t)=\\text{e}^{-a^2 t^2}$).\n",
    "\n",
    "–It's also known as the Mexican hat wavelet, due to its shape when plotted as a function of two variables.\n",
    "\n",
    "It can be written so it is symmetric about time zero, with maximum at that time, ultimately decaying towards zero as $t$$\\rightarrow$$±\\infty$. However, we will shift it in time so that it starts near zero at our time zero.\n",
    "\n",
    "After differentiating above Gaussian, $G(t)$, twice, flipping, then scaling (and before shifting in time), we get: $\\quad R(t) = (1-2a^2 t^2)\\ \\text{e}^{-a^2 t^2}$\n",
    "\n",
    "The peak frequency of the Ricker wavelet is at $f$=$a/\\pi$.\n",
    "\n",
    "The length of the wavelet, in time, before it decays close enough to zero for our purposes, is about $\\frac{2.1}{f}$ (i.e. about $\\frac{1.05}{f}$ seconds each side of the wavelet's central peak)."
   ]
  },
  {
   "cell_type": "code",
   "execution_count": null,
   "metadata": {
    "scrolled": true
   },
   "outputs": [],
   "source": [
    "def create_ricker(freq,dt,ampl):\n",
    "    ts = 2.1/freq  # desired length of wavelet in time is related to peak frequency\n",
    "    ns = int(ts/dt+0.9999)  # figure out how many time-steps are needed to cover that time\n",
    "    ts = ns*dt  # and now turn that back into a time that's exactly the required number of steps\n",
    "    print('Length of wavelet will be %.5f secs (%d steps)' % (ts,ns))\n",
    "    a2 = (freq*np.pi)**2  # a squared (see equation above)\n",
    "    t0 = ts/2 - dt/2  # midpoint time of wavelet\n",
    "    src = np.zeros(ns)\n",
    "    # create Ricker wavelet (see equation above), offset by time t0 (so midpoint of wavelet is at time t=t0)\n",
    "    for i in range(ns):\n",
    "        src[i] = ampl*( (1 - 2*a2*((i*dt-t0)**2)) * np.exp(-a2*((i*dt-t0)**2)) )\n",
    "    print('Endpoint values are: %.6f %.6f' % (src[0],src[-1]))\n",
    "    return src,ns"
   ]
  },
  {
   "cell_type": "code",
   "execution_count": null,
   "metadata": {},
   "outputs": [],
   "source": [
    "freq = 8.0  # let's create an 8Hz Ricker source wavelet\n",
    "src,ns = create_ricker(freq,dt,1.0)"
   ]
  },
  {
   "cell_type": "code",
   "execution_count": null,
   "metadata": {},
   "outputs": [],
   "source": [
    "def plot_source(src):\n",
    "    plt.figure(figsize=(10,6))\n",
    "    plt.plot(src) # plot source wavelet\n",
    "    plt.xlabel('timesteps')\n",
    "    plt.ylabel('amplitude')\n",
    "    plt.title('Source Wavelet (Ricker, peak %.1fHz)' % (freq))\n",
    "    plt.show()"
   ]
  },
  {
   "cell_type": "code",
   "execution_count": null,
   "metadata": {},
   "outputs": [],
   "source": [
    "plot_source(src)"
   ]
  },
  {
   "cell_type": "markdown",
   "metadata": {},
   "source": [
    "### Check that the maximum frequency in the source wavelet can propagate reliably"
   ]
  },
  {
   "cell_type": "markdown",
   "metadata": {},
   "source": [
    "For a simple second-order finite-difference, the minimum wavelength of a signal that we can propagate reliably is about 10 cells."
   ]
  },
  {
   "cell_type": "code",
   "execution_count": null,
   "metadata": {},
   "outputs": [],
   "source": [
    "min_cells_per_wl = 10.0  # minimum of 10 cells per wavelength for reasonably accurate propagation\n",
    "max_freq = c.min()/(min_cells_per_wl*dx) # calculate the max frequency that can be modelled without numerical dispersion\n",
    "print('Maximum reliable propagation frequency is about %.1fHz' % max_freq)"
   ]
  },
  {
   "cell_type": "markdown",
   "metadata": {},
   "source": [
    "#### Want to avoid causing too much dispersion by keeping maximum significant frequency within this limit..."
   ]
  },
  {
   "cell_type": "code",
   "execution_count": null,
   "metadata": {
    "scrolled": false
   },
   "outputs": [],
   "source": [
    "# plot amplitude spectrum of source wavelet\n",
    "def plot_ampl_spect(src):\n",
    "    plt.figure(figsize=(10,6))\n",
    "    plt.magnitude_spectrum(np.append(src,np.zeros(nt-ns)), Fs=1/dt)  # note padding to nt points\n",
    "    plt.title('Amplitude Spectrum')\n",
    "    plt.xlim(0,35)\n",
    "    plt.show()"
   ]
  },
  {
   "cell_type": "code",
   "execution_count": null,
   "metadata": {},
   "outputs": [],
   "source": [
    "plot_ampl_spect(src)"
   ]
  },
  {
   "cell_type": "markdown",
   "metadata": {},
   "source": [
    "----\n",
    "## Create absorbing layers"
   ]
  },
  {
   "cell_type": "code",
   "execution_count": null,
   "metadata": {},
   "outputs": [],
   "source": [
    "# want layer around all edges of the model to be 60 grid-points thick\n",
    "abswid = 60"
   ]
  },
  {
   "cell_type": "markdown",
   "metadata": {},
   "source": [
    "Choose one of the following three absorbing models to try (can comment out other two, if desired...)"
   ]
  },
  {
   "cell_type": "code",
   "execution_count": null,
   "metadata": {},
   "outputs": [],
   "source": [
    "# CONSTANT\n",
    "\n",
    "a = np.zeros((nx,nz))  # initialise array with zeros\n",
    "\n",
    "a[:abswid,:]  = 1.0  # left layer\n",
    "a[-abswid:,:] = 1.0  # right layer\n",
    "\n",
    "a[:,:abswid]  = 1.0  # top layer\n",
    "a[:,-abswid:] = 1.0  # bottom layer\n",
    "\n",
    "a[:,-80:]  = 1.0  # uncomment to make bottom layer 80 grid-points instead of 60\n",
    "\n",
    "absfact = 0.04"
   ]
  },
  {
   "cell_type": "code",
   "execution_count": null,
   "metadata": {},
   "outputs": [],
   "source": [
    "# LINEAR\n",
    "\n",
    "a = np.zeros((nx,nz))  # initialise array with zeros\n",
    "\n",
    "# left and right absorbing layers\n",
    "for i in range(1,abswid+1):\n",
    "    a[abswid-i,:]   = 1.0*i/abswid  # linear increase towards left boundary\n",
    "    a[i-abswid-1,:] = 1.0*i/abswid  # linear increase towards right boundary\n",
    "\n",
    "# top and bottom absorbing layers\n",
    "for i in range(1,abswid+1):\n",
    "    for j in range(nx):\n",
    "        a[j,abswid-i]   = max(a[j,abswid-i],   1.0*i/abswid) # linear increase towards top boundary\n",
    "        a[j,i-abswid-1] = max(a[j,i-abswid-1], 1.0*i/abswid) # linear increase towards bottom boundary\n",
    "\n",
    "# uncomment below to make bottom layer 80 grid-points instead of 60...\n",
    "for i in range(1,81):  # try 80 grid-points in bottom layer\n",
    "    for j in range(nx):\n",
    "        a[j,i-81]   = max(a[j,i-81], 1.0*i/80)  # linear increase towards bottom boundary\n",
    "\n",
    "absfact = 0.08  # without predictive boundary"
   ]
  },
  {
   "cell_type": "code",
   "execution_count": null,
   "metadata": {},
   "outputs": [],
   "source": [
    "# QUADRATIC\n",
    "\n",
    "a = np.zeros((nx,nz))  # initialise array with zeros\n",
    "\n",
    "absw2 = abswid*abswid  # useful shorthand\n",
    "\n",
    "# left and right absorbing layers\n",
    "for i in range(1,abswid+1):\n",
    "    a[abswid-i,:]   = 1.0*i*i/absw2  # quadratic increase towards left boundary\n",
    "    a[i-abswid-1,:] = 1.0*i*i/absw2  # quadratic increase towards right boundary\n",
    "\n",
    "# top and bottom absorbing layers\n",
    "for i in range(1,abswid+1):\n",
    "    for j in range(nx):\n",
    "        a[j,abswid-i]   = max(a[j,abswid-i],   1.0*i*i/absw2)  # quadratic increase towards top boundary\n",
    "        a[j,i-abswid-1] = max(a[j,i-abswid-1], 1.0*i*i/absw2)  # quadratic increase towards bottom boundary\n",
    "\n",
    "\n",
    "# uncomment below to make bottom layer 80 grid-points instead of 60...\n",
    "for i in range(1,81):  # try 80 grid-points in bottom layer\n",
    "    for j in range(nx):\n",
    "        a[j,i-81]   = max(a[j,i-81], 1.0*i*i/(80*80))  # quadratic increase towards bottom boundary\n",
    "\n",
    "        \n",
    "absfact = 0.1  # without predictive boundary"
   ]
  },
  {
   "cell_type": "markdown",
   "metadata": {},
   "source": [
    "#### Show the absorption model"
   ]
  },
  {
   "cell_type": "code",
   "execution_count": null,
   "metadata": {},
   "outputs": [],
   "source": [
    "# various plots so you can check your absorption model...\n",
    "\n",
    "def plot_absorbing(a):\n",
    "    plt.figure(figsize=(10,6))\n",
    "    plt.title('Absorption')\n",
    "\n",
    "    plt.imshow(a.T) # plotting the absorption as a 2d colour plot (note transposed, to orient plot in way we expect)\n",
    "    plt.colorbar()\n",
    "    plt.xlabel('x gridpoints')\n",
    "    plt.ylabel('z gridpoints')\n",
    "\n",
    "    plt.show()\n",
    "\n",
    "\n",
    "def plot_absorb_horiz(a,zgrid):\n",
    "    plt.figure(figsize=(8,4))\n",
    "    plt.title('Horizontal x-section at z-gridpoint=%d' % zgrid)\n",
    "\n",
    "    plt.plot(a[:,zgrid])  # horizontal cross-section through absorption, to show const/linear/quadratic nature\n",
    "    plt.xlabel('x gridpoints')\n",
    "    plt.ylabel('absorption coefficient')\n",
    "\n",
    "    plt.show()\n",
    "\n",
    "\n",
    "def plot_absorb_vert(a,xgrid):\n",
    "    plt.figure(figsize=(8,4))\n",
    "    plt.title('Vertical x-section at x-gridpoint=%d' % xgrid)\n",
    "\n",
    "    plt.plot(a[xgrid,:])  # vertical cross-section through absorption, to show const/linear/quadratic nature\n",
    "    plt.xlabel('z gridpoints')\n",
    "    plt.ylabel('absorption coefficient')\n",
    "\n",
    "    plt.show()"
   ]
  },
  {
   "cell_type": "code",
   "execution_count": null,
   "metadata": {},
   "outputs": [],
   "source": [
    "plot_absorbing(a)\n",
    "plot_absorb_horiz(a,200)\n",
    "plot_absorb_vert(a,200)"
   ]
  },
  {
   "cell_type": "markdown",
   "metadata": {},
   "source": [
    "Finish by scaling with velocity and other factors, for direct use in simulation later"
   ]
  },
  {
   "cell_type": "code",
   "execution_count": null,
   "metadata": {},
   "outputs": [],
   "source": [
    "absfact = 0.0  # comment this when you switch absorbing layers back on\n",
    "\n",
    "a[:,:] = a[:,:]*c[:,:]*(dt/dx)*absfact"
   ]
  },
  {
   "cell_type": "markdown",
   "metadata": {},
   "source": [
    "## Predictive boundary condition"
   ]
  },
  {
   "cell_type": "markdown",
   "metadata": {},
   "source": [
    "We've already seen this works in 1d by predicting what the value will be at the edge point(s) at the next step, given that we know what the current value is at that point, and at the point just inside, and we know that the wave should be propagating out of the domain at some known speed (since we know the model properties).\n",
    "\n",
    "By assuming a simple linear connection between the edge point and the point just inside, and then 'shifting' that line across by the crossing factor (i.e. how far the wave should move during the step), we can 'predict' what the new value should be at the edge point.\n",
    "\n",
    "For the left edge, at $x$=0, this looks like:\n",
    "\n",
    "$$u(0,t+\\delta t)\\ \\approx\\ (1-C_0)\\ u(0,t)\\ +\\ C_0\\ u(\\delta x,t)\\quad\n",
    "\\text{where: }\\ C_0 = \\frac{c(0)\\ \\delta t}{\\delta x}\\ \\text{ is 'crossing factor' near $x$=0}$$\n",
    "\n",
    "And for other edge, at $x$=$L$:\n",
    "\n",
    "$$u(L,t+\\delta t)\\ \\approx\\ (1-C_L)\\ u(L,t)\\ +\\ C_L\\ u(L-\\delta x,t)\\quad\n",
    "\\text{where: }\\ C_L = \\frac{c(L)\\ \\delta t}{\\delta x} \\text{ (i.e. near $x$=$L$)}$$"
   ]
  },
  {
   "cell_type": "markdown",
   "metadata": {},
   "source": [
    "# However...\n",
    "\n",
    "**In 2d the above argument isn't quite correct. –Can you see why not...?**\n",
    "\n",
    "(Answer: the waves may no longer be travelling out of the domain in a direction perpendicular to the boundary.)\n",
    "\n",
    "\n",
    "### But let's just conveniently ignore that and try applying it anyway... :)\n",
    "\n",
    "We now have four edges to apply the boundary condition, so...\n",
    "\n",
    "For the left edge, at $x$=0, this looks like:\n",
    "\n",
    "$$u(0,z,t+\\delta t)\\ \\approx\\ (1-C_{xmin}(z))\\ u(0,z,t)\\ +\\ C_{xmin}(z)\\ u(\\delta x,z,t)\\quad\n",
    "\\text{where: }\\ C_{xmin}(z) = \\frac{c(0,z)\\ \\delta t}{\\delta x}$$\n",
    "\n",
    "And for right edge, at $x$=$L$:\n",
    "\n",
    "$$u(L,z,t+\\delta t)\\ \\approx\\ (1-C_{xmax}(z))\\ u(L,z,t)\\ +\\ C_{xmax}(z)\\ u(L-\\delta x,z,t)\\quad\n",
    "\\text{where: }\\ C_{xmax}(z) = \\frac{c(L,z)\\ \\delta t}{\\delta x}$$\n",
    "\n",
    "And similar equations for top and bottom."
   ]
  },
  {
   "cell_type": "markdown",
   "metadata": {},
   "source": [
    ">**Task 1:**\n",
    ">\n",
    ">**Write out the similar equations for top and bottom edges.**\n",
    ">\n",
    ">**Use the four expressions for $C_{xmin}$, $C_{xmax}$, $C_{zmin}$, $C_{zmax}$, to give values to four 1d arrays, `C_xmin`, `C_xmax`, `C_zmin`, `C_zmax`, which will be the crossing factors along each of the four edges of the domain.**\n",
    ">\n",
    ">**Go to the code cell containing the time-stepping, and fill in code where indicated that uses these four arrays, along with the four approximation equations, to set values for `u_nxt` at the edges of the domain.**  \n",
    ">\n",
    ">**When you have it working:**  \n",
    ">– how do the remaining reflections from the boundaries compare with before having any type of absorbing boundary at all?  \n",
    ">– how do they compare with the remaining reflections that you saw from the absorbing layer?  \n",
    ">\n",
    ">**Switch back on the absorbing layers (comment out the `absfact = 0.0` line in the code cell just above).**  \n",
    ">– when you run it all again, how does it compare now?\n",
    ">\n",
    ">**Now that the predictive boundary is absorbing some of the wavefield at the boundary, we can reduce the strength of the absorbing layers by reducing `absfact`...**  \n",
    ">– Try halving its value –does that reduce the reflections?  \n",
    ">– Perhaps try to tweak it even more yourself.  \n",
    ">– Can you think of more things we could try which might help to 'balance' the two types of absorbing boundaries?"
   ]
  },
  {
   "cell_type": "code",
   "execution_count": null,
   "metadata": {},
   "outputs": [],
   "source": [
    "# FILL IN CODE HERE TO CREATE FOUR 1d ARRAYS C_xmin, C_xmax, C_zmin, C_zmax, and fill them\n",
    "# with the crossing factors at the four corresponding edges of the domain (task 1)...\n",
    "\n",
    "\n",
    "\n",
    "\n",
    "\n",
    "\n",
    "# Also added factors below, which allow some tweaking when using predictive along with absorbing layers\n",
    "# (you can control the amount of predictive at each edge separately by altering the factors below)\n",
    "\n",
    "# for use without absorbing layers:\n",
    "predfact_zmin = 1.0\n",
    "predfact_zmax = 1.0\n",
    "predfact_xmin = 1.0\n",
    "predfact_xmax = 1.0\n",
    "\n",
    "# for use with absorbing layers:\n",
    "#predfact_zmin = 0.99\n",
    "#predfact_zmax = 0.98\n",
    "#predfact_xmin = 0.99\n",
    "#predfact_xmax = 0.99\n",
    "\n",
    "# to switch off predictive boundaries:\n",
    "#predfact_zmin = 0.0\n",
    "#predfact_zmax = 0.0\n",
    "#predfact_xmin = 0.0\n",
    "#predfact_zmax = 0.0"
   ]
  },
  {
   "cell_type": "markdown",
   "metadata": {},
   "source": [
    "## Line of receivers within domain\n",
    "–To detect what crosses a particular horizontal line of the domain (i.e. constant depth) over time"
   ]
  },
  {
   "cell_type": "code",
   "execution_count": null,
   "metadata": {},
   "outputs": [],
   "source": [
    "rz = 70  # put receiver line at depth of seventy cells (just above source point)\n",
    "r = np.zeros((nx,nt))  # an array to store receiver data every step (and to plot later)"
   ]
  },
  {
   "cell_type": "markdown",
   "metadata": {},
   "source": [
    "----\n",
    "# Simulation"
   ]
  },
  {
   "cell_type": "code",
   "execution_count": null,
   "metadata": {},
   "outputs": [],
   "source": [
    "# Initialise arrays for wavefields\n",
    "u = np.zeros((nx,nz)) # current wavefield\n",
    "u_prv = np.zeros((nx,nz)) # old t-1 wavefield\n",
    "u_nxt = np.zeros((nx,nz)) # new t+1 wavefield"
   ]
  },
  {
   "cell_type": "code",
   "execution_count": null,
   "metadata": {},
   "outputs": [],
   "source": [
    "# prepare an array to store wavefield snapshots for plotting\n",
    "snapshot_gap = 10 # set sampling rate used to store wavefield (every 10 timesteps)\n",
    "wavefield = np.zeros((int(nt/snapshot_gap), nx, nz)) # array to store wavefields every 10 timesteps\n",
    "print('Storing %d wavefields (every %dth out of %d)' % (wavefield.shape[0],snapshot_gap,nt))"
   ]
  },
  {
   "cell_type": "code",
   "execution_count": null,
   "metadata": {},
   "outputs": [],
   "source": [
    "# a useful variable – shorthand for something that appears regularly in expressions below\n",
    "dtdx2 = (dt*dt)/(dx*dx)"
   ]
  },
  {
   "cell_type": "code",
   "execution_count": null,
   "metadata": {},
   "outputs": [],
   "source": [
    "def propagate():\n",
    "\n",
    "    # make sure everything starts off zero\n",
    "    u[:] = 0.0\n",
    "    u_prv[:] = 0.0\n",
    "\n",
    "    # inject first source entry into current wavefield\n",
    "    u[sx,sz] = src[0]\n",
    "\n",
    "    # begin time-stepping loop...\n",
    "\n",
    "    for i in range(nt):\n",
    "    \n",
    "        if (i+1)%20==0:  # show progress every 20 steps\n",
    "            sys.stdout.write('Done step %d (of %d)\\r' % (i+1,nt))\n",
    "    \n",
    "        # find new wavefield, u_nxt, throughout domain (apart from edges)\n",
    "        u_nxt[1:-1,1:-1] = ( (2-a[1:-1,1:-1]**2)*u[1:-1,1:-1] - u_prv[1:-1,1:-1]*(1-a[1:-1,1:-1]) \\\n",
    "                           + (c[1:-1,1:-1]**2) * dtdx2 * \\\n",
    "                                (-4*u[1:-1,1:-1]+u[:-2,1:-1]+u[2:,1:-1]+u[1:-1,:-2]+u[1:-1,2:]) ) \\\n",
    "                         / (1+a[1:-1,1:-1])\n",
    "\n",
    "\n",
    "        # FILL IN CODE HERE FOR PREDICTIVE BOUNDARY CONDITIONS TO SET u_nxt ALONG THE 4 EDGES OF DOMAIN (task 1)...\n",
    "\n",
    "\n",
    "\n",
    "\n",
    "        # inject source entry for this step at the source point\n",
    "        if i+1<ns:\n",
    "            u_nxt[sx,sz] = src[i+1]\n",
    "    \n",
    "        # shift wavefields for next time-step\n",
    "        u_prv[:,:] = u[:,:]\n",
    "        u[:,:] = u_nxt[:,:]\n",
    "    \n",
    "        # fill in values at receivers\n",
    "        r[:,i] = u[:,rz]\n",
    "    \n",
    "        if (i+1)%snapshot_gap == 0: # store the current wavefield u on every tenth step\n",
    "            wavefield[int((i+1)/snapshot_gap-1)] = u[:,:]\n",
    "\n",
    "    print('Finished %d time-steps' % (nt))"
   ]
  },
  {
   "cell_type": "code",
   "execution_count": null,
   "metadata": {},
   "outputs": [],
   "source": [
    "propagate()"
   ]
  },
  {
   "cell_type": "markdown",
   "metadata": {},
   "source": [
    "## Plot wavefield at different times"
   ]
  },
  {
   "cell_type": "code",
   "execution_count": null,
   "metadata": {},
   "outputs": [],
   "source": [
    "def plot_snapshot(plot_time,bounds):\n",
    "    plt.figure(figsize=(10,7))\n",
    "    plt.imshow(wavefield[int(plot_time/(dt*snapshot_gap))].T,   # note the wavefield was transposed\n",
    "               vmin=-bounds, vmax=bounds, cmap='RdBu', interpolation='bilinear')\n",
    "    plt.title('Wavefield at about %.2fs' % (plot_time))\n",
    "    plt.colorbar()\n",
    "    plt.xlabel('x gridpoints')\n",
    "    plt.ylabel('z gridpoints')\n",
    "    plt.show()"
   ]
  },
  {
   "cell_type": "code",
   "execution_count": null,
   "metadata": {},
   "outputs": [],
   "source": [
    "plot_snapshot(0.7,0.06)\n",
    "plot_snapshot(1.3,0.06)"
   ]
  },
  {
   "cell_type": "markdown",
   "metadata": {},
   "source": [
    "## Plot data at receivers"
   ]
  },
  {
   "cell_type": "code",
   "execution_count": null,
   "metadata": {
    "scrolled": false
   },
   "outputs": [],
   "source": [
    "def plot_at_receivers(bounds):\n",
    "    plt.figure(figsize=(10,7))\n",
    "    plt.imshow(r.T, cmap='RdBu', interpolation='bilinear', aspect='auto', \n",
    "               vmin=-bounds, vmax=bounds,   # set bounds for colourmap data\n",
    "               extent=(0,nx,time,0))  # set bounds for axes\n",
    "    plt.title('Receiver Data')\n",
    "    plt.colorbar()\n",
    "    plt.xlabel('Receiver number')\n",
    "    plt.ylabel('Time / s')\n",
    "    plt.show()"
   ]
  },
  {
   "cell_type": "code",
   "execution_count": null,
   "metadata": {},
   "outputs": [],
   "source": [
    "plot_at_receivers(0.06)"
   ]
  },
  {
   "cell_type": "markdown",
   "metadata": {},
   "source": [
    "## Make a movie! "
   ]
  },
  {
   "cell_type": "code",
   "execution_count": null,
   "metadata": {},
   "outputs": [],
   "source": [
    "def create_animation(bounds):\n",
    "    fig = plt.figure(figsize=(10,8))\n",
    "\n",
    "    plt.title('Wavefield')\n",
    "    plt.xlabel('x gridpoints')\n",
    "    plt.ylabel('z gridpoints')\n",
    "\n",
    "    n = wavefield.shape[0]\n",
    "    imgs = []\n",
    "    for i in range(n):\n",
    "        if i%20==0:  # show progress every 20 frames\n",
    "            sys.stdout.write('Done %d of %d\\r' % (i+1,n))\n",
    "        img = plt.imshow(wavefield[i].T, vmin=-bounds, vmax=bounds, cmap='RdBu',\n",
    "                         animated=True, interpolation='bilinear')\n",
    "        imgs.append([img])\n",
    "\n",
    "    print('Finished plots for frames, building animation...')\n",
    "\n",
    "    ani = anim.ArtistAnimation(fig, imgs, interval=50, blit=True)\n",
    "\n",
    "    plt.close(fig)  # prevent final frame plot from showing up inline below\n",
    "\n",
    "    return ani"
   ]
  },
  {
   "cell_type": "code",
   "execution_count": null,
   "metadata": {},
   "outputs": [],
   "source": [
    "ani = create_animation(0.06)\n",
    "print('Preparing HTML (takes a little while...)')\n",
    "HTML(ani.to_jshtml())"
   ]
  },
  {
   "cell_type": "code",
   "execution_count": null,
   "metadata": {},
   "outputs": [],
   "source": []
  }
 ],
 "metadata": {
  "kernelspec": {
   "display_name": "Python 3",
   "language": "python",
   "name": "python3"
  },
  "language_info": {
   "codemirror_mode": {
    "name": "ipython",
    "version": 3
   },
   "file_extension": ".py",
   "mimetype": "text/x-python",
   "name": "python",
   "nbconvert_exporter": "python",
   "pygments_lexer": "ipython3",
   "version": "3.5.6"
  }
 },
 "nbformat": 4,
 "nbformat_minor": 2
}
