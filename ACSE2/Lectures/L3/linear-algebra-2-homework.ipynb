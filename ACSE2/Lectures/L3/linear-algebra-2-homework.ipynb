{
 "cells": [
  {
   "cell_type": "markdown",
   "metadata": {},
   "source": [
    "# ACSE-2  <a class=\"tocSkip\">\n",
    "\n",
    "## More linear algebra and its applications <a class=\"tocSkip\">\n",
    "    \n",
    "### Homework Exercises <a class=\"tocSkip\">"
   ]
  },
  {
   "cell_type": "markdown",
   "metadata": {
    "toc": true
   },
   "source": [
    "<h1>Table of Contents<span class=\"tocSkip\"></span></h1>\n",
    "<div class=\"toc\"><ul class=\"toc-item\"><li><span><a href=\"#Homework\" data-toc-modified-id=\"Homework-1\"><span class=\"toc-item-num\">1&nbsp;&nbsp;</span>Homework</a></span><ul class=\"toc-item\"><li><span><a href=\"#Homework---Fibonacci-matrix\" data-toc-modified-id=\"Homework---Fibonacci-matrix-1.1\"><span class=\"toc-item-num\">1.1&nbsp;&nbsp;</span>Homework - Fibonacci matrix</a></span></li><li><span><a href=\"#Homework-$2\\times-2$-example-from-class\" data-toc-modified-id=\"Homework-$2\\times-2$-example-from-class-1.2\"><span class=\"toc-item-num\">1.2&nbsp;&nbsp;</span>Homework $2\\times 2$ example from class</a></span></li><li><span><a href=\"#Homework---eigenvalues-of-the-MSD-system\" data-toc-modified-id=\"Homework---eigenvalues-of-the-MSD-system-1.3\"><span class=\"toc-item-num\">1.3&nbsp;&nbsp;</span>Homework - eigenvalues of the MSD system</a></span></li><li><span><a href=\"#Homework---eigenvectors-of-the-MSD-system-[**]\" data-toc-modified-id=\"Homework---eigenvectors-of-the-MSD-system-[**]-1.4\"><span class=\"toc-item-num\">1.4&nbsp;&nbsp;</span>Homework - eigenvectors of the MSD system [**]</a></span></li><li><span><a href=\"#Homework---stability-of-forward-Euler-applied-to-the-MSD-problem\" data-toc-modified-id=\"Homework---stability-of-forward-Euler-applied-to-the-MSD-problem-1.5\"><span class=\"toc-item-num\">1.5&nbsp;&nbsp;</span>Homework - stability of forward Euler applied to the MSD problem</a></span></li><li><span><a href=\"#Homework---the-double-pendulum-[*]\" data-toc-modified-id=\"Homework---the-double-pendulum-[*]-1.6\"><span class=\"toc-item-num\">1.6&nbsp;&nbsp;</span>Homework - the double pendulum [*]</a></span><ul class=\"toc-item\"><li><span><a href=\"#Solution---the-double-pendulum\" data-toc-modified-id=\"Solution---the-double-pendulum-1.6.1\"><span class=\"toc-item-num\">1.6.1&nbsp;&nbsp;</span>Solution - the double pendulum</a></span></li></ul></li><li><span><a href=\"#Homework---the-triple-pendulum-[*]\" data-toc-modified-id=\"Homework---the-triple-pendulum-[*]-1.7\"><span class=\"toc-item-num\">1.7&nbsp;&nbsp;</span>Homework - the triple pendulum [*]</a></span></li></ul></li></ul></div>"
   ]
  },
  {
   "cell_type": "code",
   "execution_count": 21,
   "metadata": {},
   "outputs": [],
   "source": [
    "%matplotlib inline\n",
    "%precision 16\n",
    "import numpy as np\n",
    "import matplotlib.pyplot as plt\n",
    "import scipy.linalg as sl"
   ]
  },
  {
   "cell_type": "markdown",
   "metadata": {},
   "source": [
    "# Homework"
   ]
  },
  {
   "cell_type": "markdown",
   "metadata": {},
   "source": [
    "## Homework - Fibonacci matrix\n",
    "\n",
    "The Fibonacci matrix is defined as\n",
    "\n",
    "$$Q = \\begin{pmatrix}\n",
    "1 & 1\\\\\n",
    "1 & 0\n",
    "\\end{pmatrix}$$\n",
    "\n",
    "Compute by hand the eigenvalues and eigenvectors of the $Q$ matrix.\n",
    "\n",
    "Check numerically that you can use these to form a diagonalization of $Q$.\n",
    "\n",
    "We will make use of this matrix and its diagonalisation in lecture 4."
   ]
  },
  {
   "cell_type": "markdown",
   "metadata": {},
   "source": [
    "## Homework $2\\times 2$ example from class\n",
    "\n",
    "From the lecture consider the $2\\times 2$ problem\n",
    "\n",
    "\n",
    "$$\\dot{\\boldsymbol{x}}(t) = A\\boldsymbol{x}$$\n",
    "\n",
    "where\n",
    "\n",
    "$$\\boldsymbol{x}(t) = \n",
    "\\begin{pmatrix}\n",
    "x_1(t)\\\\\n",
    "x_2(t)\n",
    "\\end{pmatrix}$$\n",
    "\n",
    "and \n",
    "\n",
    "$$A = \n",
    "\\begin{pmatrix}\n",
    "-1 & 3 \\\\\n",
    "3 & -1\n",
    "\\end{pmatrix}\n",
    "$$\n",
    "\n",
    "Show that the solution is given by\n",
    "\n",
    "\\begin{align*}\n",
    "\\boldsymbol{x}(t) &= \\exp(tA) \\boldsymbol{C}\n",
    " = \\frac{1}{2}(C_1+C_2)\n",
    "\\begin{pmatrix}\n",
    "1 \\\\\n",
    "1\n",
    "\\end{pmatrix}\\exp(2t)+\n",
    "\\frac{1}{2}(C_2-C_1)\n",
    "\\begin{pmatrix}\n",
    "-1 \\\\\n",
    "1\n",
    "\\end{pmatrix}\\exp(-4t)\n",
    "\\end{align*}\n",
    "\n",
    "Hint: You will need to start by the eigenvalues and eigenvectors of $A$.\n",
    "\n",
    "For the case with initial condition\n",
    "\n",
    "\n",
    "$$\\boldsymbol{x}(0)=\n",
    "\\begin{pmatrix}\n",
    "0.1 \\\\\n",
    "0\n",
    "\\end{pmatrix}\n",
    "$$\n",
    "\n",
    "compute and plot the exact solution as well as a numerical solution using forward Euler over the interval $t\\in[0,1]$.\n",
    "\n",
    "You should find that the solution(s) tend(s) to $\\pm$ infinity for large times, depending on the signs of the initial conditions.\n",
    "\n",
    "Looking at the form of the solution, what initial conditions lead to a solution which tends to zero as time increases? Does the numerical solution agree with this qualitative behaviour (especially in the case of selecting too large a time step size)?"
   ]
  },
  {
   "cell_type": "markdown",
   "metadata": {},
   "source": [
    "## Homework - eigenvalues of the MSD system\n",
    "\n",
    "Find the eigenvalues of the matrix that corresponds to the MSD matrix from the lecture:\n",
    "\n",
    "$$\n",
    "\\begin{pmatrix}\n",
    "0 & 1\\\\\n",
    "-\\omega_0^2 & -2\\zeta\\omega_0\n",
    "\\end{pmatrix}.$$"
   ]
  },
  {
   "cell_type": "markdown",
   "metadata": {},
   "source": [
    "## Homework - eigenvectors of the MSD system [**]\n",
    "\n",
    "Work out expressions for the eigenvectors of the system."
   ]
  },
  {
   "cell_type": "markdown",
   "metadata": {},
   "source": [
    "## Homework - stability of forward Euler applied to the MSD problem\n",
    "\n",
    "We're going to implement and test a solver for the general system of ODEs in the form\n",
    "\n",
    "$$\\frac{d\\boldsymbol{y}}{dt} = f(\\boldsymbol{y})$$\n",
    "\n",
    "and test it using the MSD problem from the lecture.\n",
    "\n",
    "In this case we can write a function for the RHS function in the form\n",
    "\n",
    "```Python\n",
    "def f_msd(t, u):\n",
    "    \"\"\" RHS function for mass-spring-damper problem.\n",
    "    \n",
    "    u for MSD is the vector [x, v]\n",
    "    \"\"\"\n",
    "    f = np.zeros_like(u)\n",
    "    f[0] = u[1]\n",
    "    f[1] = -2.*zeta*om0*u[1] - om0**2 * u[0]\n",
    "# NB. could write this as A*u with\n",
    "# A = np.matrix([[0, 1], [-om0**2, -2*zeta*om0]])\n",
    "    return f\n",
    "```\n",
    "\n",
    "Implement a forward Euler time-stepping function and test it against the implementation from the lecture.\n",
    "\n",
    "Hint:  your solution might look something like (you need to fill in some gaps):\n",
    "\n",
    "```Python\n",
    "def forward_euler(f, u0, t0, t_max, dt):\n",
    "    \"\"\" Forward Euler time-stepper.\n",
    "    f = f(t,y) is the RHS function.\n",
    "    u0 is the initial condition.\n",
    "    t0 is the initial time; t_max is the end time.\n",
    "    dt is the time step size.\n",
    "    \"\"\" \n",
    "    u = np.array(u0)\n",
    "    t = np.array(t0)\n",
    "    u_all = [u0]\n",
    "    t_all = [t0]\n",
    "    while t < t_max:\n",
    "        u = ........\n",
    "        u_all.append(u)\n",
    "        t = ........\n",
    "        t_all.append(t)\n",
    "    return np.array(u_all), np.array(t_all)\n",
    "```\n",
    "\n",
    "\n",
    "Consider the following physical and numerical parameters\n",
    "\n",
    "$$\\omega_0=1,\\quad x_0=1,\\quad v_0=0, \\quad t_0=0, \\quad t_f=20 $$\n",
    "\n",
    "To finish off the selection of parameters consider three cases:\n",
    "\n",
    "\n",
    "1. $$\\Delta t = 0.05, \\quad \\zeta = 0.05$$\n",
    "\n",
    "\n",
    "2. $$\\Delta t = 0.2, \\quad \\zeta = 0.05$$\n",
    "\n",
    "\n",
    "3. $$\\Delta t = 0.2, \\quad \\zeta = 0.2$$\n",
    "\n",
    "\n",
    "What qualitative different in solutions do you observe in the three cases?"
   ]
  },
  {
   "cell_type": "markdown",
   "metadata": {},
   "source": [
    "## Homework - the double pendulum [*]\n",
    "\n",
    "Take a look at <https://en.wikipedia.org/wiki/Double_pendulum>\n",
    "\n",
    "<img src=\"./figures/1000px-Double-compound-pendulum-dimensioned.svg.png\" width=300x>\n",
    "\n",
    "Image: <https://commons.wikimedia.org/wiki/File:Double-compound-pendulum-dimensioned.svg>\n",
    "\n",
    "Note that the equations listed in this Wikipedia page are in terms of coordinates (actually the angles) giving the midpoints of assumed unit length rods - other places you look may have these lengths (and the masses at the ends of the rods) flexible and the equations be in terms of coordinates giving the actual locations of the ends of the rods - they should all ultimately give the same answer!\n",
    "\n",
    "See if you can formulate the problem using the coupled ODEs described on this page (for the derivatives of $\\theta_1$, $\\theta_2$, $p_{\\theta_1}$ and $p_{\\theta_2}$ - don't worry too much what these latter two quantities are physically).\n",
    "\n",
    "You can attempt with forward Euler, but I suggest you use `scipy.integrate.solve_ivp` like we did for the more complex examples in the lecture.\n",
    "\n",
    "Note that to plot correctly, depending on how you go about things, you may need to think about how to turn the two angles into appropriate $x$ and $y$ coordinates."
   ]
  },
  {
   "cell_type": "markdown",
   "metadata": {},
   "source": [
    "## Homework - the triple pendulum [*]\n",
    "\n",
    "Take a look at this video\n",
    "\n",
    "<http://i.imgur.com/r6FZfxr.gifv>\n",
    "\n",
    "and the discussion here\n",
    "<https://www.reddit.com/r/mathpics/comments/4nd5h1/41_triple_pendulums_with_very_slightly_different/>\n",
    "\n",
    "and for a Python implmentation of a system of $n$ coupled pendula - using [Kane's method](https://docs.sympy.org/dev/modules/physics/mechanics/kane.html) take a look through the supplemental notebook in this directory."
   ]
  }
 ],
 "metadata": {
  "celltoolbar": "Slideshow",
  "kernelspec": {
   "display_name": "Python 3",
   "language": "python",
   "name": "python3"
  },
  "language_info": {
   "codemirror_mode": {
    "name": "ipython",
    "version": 3
   },
   "file_extension": ".py",
   "mimetype": "text/x-python",
   "name": "python",
   "nbconvert_exporter": "python",
   "pygments_lexer": "ipython3",
   "version": "3.7.3"
  },
  "latex_envs": {
   "LaTeX_envs_menu_present": true,
   "autoclose": true,
   "autocomplete": true,
   "bibliofile": "biblio.bib",
   "cite_by": "apalike",
   "current_citInitial": 1,
   "eqLabelWithNumbers": true,
   "eqNumInitial": 1,
   "hotkeys": {
    "equation": "Ctrl-E",
    "itemize": "Ctrl-I"
   },
   "labels_anchors": false,
   "latex_user_defs": false,
   "report_style_numbering": false,
   "user_envs_cfg": true
  },
  "toc": {
   "base_numbering": 1,
   "nav_menu": {},
   "number_sections": true,
   "sideBar": true,
   "skip_h1_title": false,
   "title_cell": "Table of Contents",
   "title_sidebar": "Contents",
   "toc_cell": true,
   "toc_position": {},
   "toc_section_display": true,
   "toc_window_display": false
  }
 },
 "nbformat": 4,
 "nbformat_minor": 1
}
