{
 "cells": [
  {
   "cell_type": "markdown",
   "metadata": {
    "slideshow": {
     "slide_type": "slide"
    }
   },
   "source": [
    "# ACSE-2  <a class=\"tocSkip\">\n",
    "\n",
    "# Modelling Dynamical Processes <a class=\"tocSkip\">"
   ]
  },
  {
   "cell_type": "markdown",
   "metadata": {},
   "source": [
    "# Some introductory comments <a class=\"tocSkip\">"
   ]
  },
  {
   "cell_type": "markdown",
   "metadata": {
    "toc": true
   },
   "source": [
    "<h1>Table of Contents<span class=\"tocSkip\"></span></h1>\n",
    "<div class=\"toc\"><ul class=\"toc-item\"><li><span><a href=\"#Lecturers:\" data-toc-modified-id=\"Lecturers:-1\"><span class=\"toc-item-num\">1&nbsp;&nbsp;</span>Lecturers:</a></span></li><li><span><a href=\"#My-contact-details\" data-toc-modified-id=\"My-contact-details-2\"><span class=\"toc-item-num\">2&nbsp;&nbsp;</span>My contact details</a></span></li><li><span><a href=\"#Aims-of-this-module\" data-toc-modified-id=\"Aims-of-this-module-3\"><span class=\"toc-item-num\">3&nbsp;&nbsp;</span>Aims of this module</a></span></li><li><span><a href=\"#Lecture-plan\" data-toc-modified-id=\"Lecture-plan-4\"><span class=\"toc-item-num\">4&nbsp;&nbsp;</span>Lecture plan</a></span></li><li><span><a href=\"#Assessment\" data-toc-modified-id=\"Assessment-5\"><span class=\"toc-item-num\">5&nbsp;&nbsp;</span>Assessment</a></span></li><li><span><a href=\"#Using-Jupyer-Hub-(if-you-want---not-necessary-or-expected)\" data-toc-modified-id=\"Using-Jupyer-Hub-(if-you-want---not-necessary-or-expected)-6\"><span class=\"toc-item-num\">6&nbsp;&nbsp;</span>Using Jupyer Hub (if you want - not necessary or expected)</a></span></li></ul></div>"
   ]
  },
  {
   "cell_type": "markdown",
   "metadata": {},
   "source": [
    "# Lecturers:\n",
    "\n",
    "1. Saskia Goes - module coordinator\n",
    "\n",
    "\n",
    "2. Matt Piggott\n",
    "\n",
    "\n",
    "3. Stephen Neethling\n",
    "\n",
    "\n",
    "4. Adrian Umpleby"
   ]
  },
  {
   "cell_type": "markdown",
   "metadata": {
    "collapsed": true,
    "slideshow": {
     "slide_type": "slide"
    }
   },
   "source": [
    "# My contact details\n",
    "\n",
    "\n",
    "* Lecturer:  Matt Piggott\n",
    "\n",
    "\n",
    "* Email address: m.d.piggott@imperial.ac.uk\n",
    "\n",
    "\n",
    "* Office: RSM 4.82\n",
    "\n",
    "\n",
    "* I'm also on Slack\n"
   ]
  },
  {
   "cell_type": "markdown",
   "metadata": {
    "slideshow": {
     "slide_type": "slide"
    }
   },
   "source": [
    "# Aims of this module\n",
    "\n",
    "To introduce some of the mathematical under-pinning essentials and physical equations for the modelling of a range of dynamic processes."
   ]
  },
  {
   "cell_type": "markdown",
   "metadata": {
    "slideshow": {
     "slide_type": "slide"
    }
   },
   "source": [
    "# Lecture plan\n",
    "\n",
    "\n",
    "Generally: Morning 9-12 lectures;  Afternoons 2-5 workshops\n",
    "\n",
    "<br>\n",
    "\n",
    "*Week 1:*\n",
    "\n",
    "\n",
    "1. *Piggott* - Introduction to (mathematical/numerical) modelling \n",
    "\n",
    "\n",
    "2. *Piggott* - Linear algebra I\n",
    "\n",
    "\n",
    "3. *Piggott* - Linear algebra II and ordinary differential equations\n",
    "\n",
    "\n",
    "4. *Piggott* - How do we know if a model is right?\n",
    "\n",
    "\n",
    "5. *Goes* - Vector & tensor calculus\n",
    "\n",
    "<br>\n",
    "\n",
    "*Week 2:*\n",
    "\n",
    "\n",
    "6. *Goes* - Stress principles\n",
    "\n",
    "\n",
    "7. *Goes* - Kinematics & strain\n",
    "\n",
    "\n",
    "8. *Goes* - Rheology & conservation equations\n",
    "\n",
    "\n",
    "9. *Neethling* - Dimensional analysis, partial differntial equations and instabilities\n",
    "\n",
    "\n",
    "10. *Neethling* - Potential flow\n",
    "\n",
    "<br>\n",
    "\n",
    "*Week 3:*\n",
    "\n",
    "\n",
    "11. *Neethling/Goes* - Fluid flow\n",
    "\n",
    "\n",
    "12. *Umpleby* - Wave propagation\n",
    "\n",
    "\n",
    "<br>\n",
    "\n",
    "Coursework: current plan is to set this on Nov 12th, with submission 9am on 18 Nov, but this will be confirmed. To allow \n"
   ]
  },
  {
   "cell_type": "markdown",
   "metadata": {},
   "source": [
    "# Assessment\n",
    "\n",
    "\n",
    "- 50% coursework (based on the latter 1/3 of the module)\n",
    "\n",
    "\n",
    "\n",
    "- 50% examination (based more on the first 2/3s of the material) in January 2020\n"
   ]
  },
  {
   "cell_type": "markdown",
   "metadata": {},
   "source": [
    "# Using Jupyer Hub (if you want - not necessary or expected)\n",
    "\n",
    "Note that a new Jupyter service has been setup for this module. As its new you will have a clean filespace and will need to follow the instructrions under ACSE-1 top setup onedrive etc.\n",
    "\n",
    "<https://acse2-jhub.westeurope.cloudapp.azure.com/>\n",
    "    \n",
    "    \n",
    "I have developed the notebooks entirely on my Windows laptop, but Tim has checked that the notebooks all run on Jupyter Hub. It's up to you which you choose to use."
   ]
  },
  {
   "cell_type": "code",
   "execution_count": null,
   "metadata": {},
   "outputs": [],
   "source": []
  }
 ],
 "metadata": {
  "celltoolbar": "Slideshow",
  "kernelspec": {
   "display_name": "Python 3",
   "language": "python",
   "name": "python3"
  },
  "language_info": {
   "codemirror_mode": {
    "name": "ipython",
    "version": 3
   },
   "file_extension": ".py",
   "mimetype": "text/x-python",
   "name": "python",
   "nbconvert_exporter": "python",
   "pygments_lexer": "ipython3",
   "version": "3.7.3"
  },
  "toc": {
   "base_numbering": 1,
   "nav_menu": {},
   "number_sections": true,
   "sideBar": true,
   "skip_h1_title": false,
   "title_cell": "Table of Contents",
   "title_sidebar": "Contents",
   "toc_cell": true,
   "toc_position": {},
   "toc_section_display": true,
   "toc_window_display": false
  }
 },
 "nbformat": 4,
 "nbformat_minor": 1
}
