{
 "cells": [
  {
   "cell_type": "code",
   "execution_count": 1,
   "metadata": {},
   "outputs": [],
   "source": [
    "import numpy\n",
    "import matplotlib.pyplot as plt\n",
    "\n",
    "%matplotlib inline"
   ]
  },
  {
   "cell_type": "markdown",
   "metadata": {},
   "source": [
    "Calculate and plot analytical solutions to the 1-D steady state advection-diffusion equation for the transport of heat, with constant temperature boundary conditions at z=0 and z=L.\n",
    "\n",
    "$$\\kappa {\\frac {\\partial ^2 T}{\\partial z^2}}+ v_z\\frac{\\partial T}{\\partial z} = 0$$\n",
    "\n",
    "where:\n",
    "\n",
    "* $T$ is temperature (in $^{\\circ}$C)\n",
    "* $z$ is depth (in m)\n",
    "* $\\kappa$ is thermal diffusivity (in m$^2$/s)\n",
    "* $v_z$ vertical velocity (in m/s)"
   ]
  },
  {
   "cell_type": "markdown",
   "metadata": {},
   "source": [
    "Step 1: Set parameters to values applicable to Earth's crust"
   ]
  },
  {
   "cell_type": "code",
   "execution_count": 6,
   "metadata": {},
   "outputs": [],
   "source": [
    "# Thermal diffusivity for rocks (m^2/s)\n",
    "kap=1e-6\n",
    "\n",
    "# Depth range from surface to 30 km depth, in small steps\n",
    "dz = 0.2e3\n",
    "zz = numpy.arange(0, 30e3, dz)\n",
    "nz = zz.size\n",
    "LL = numpy.amax(zz)\n",
    "\n",
    "# A range of vertical advection velocity values\n",
    "yr2sec=3600.*24.*365.25\n",
    "nv = 2\n",
    "vz = numpy.zeros(nv)\n",
    "# 2 mm/yr\n",
    "vz[0]=2e-3/yr2sec\n",
    "# 1 mm/yr\n",
    "vz[1]=1e-3/yr2sec\n",
    "vzcm = vz*1e2*yr2sec\n",
    "\n",
    "# Boundary conditions:\n",
    "# constant surface temperature and temperature at base of the domain \n",
    "T0=0            # surface temperature of 0 oC\n",
    "TL=500          # temperature at zmax=L of 500 oC"
   ]
  },
  {
   "cell_type": "markdown",
   "metadata": {},
   "source": [
    "Step 2: Compute and plot temperature solutions for the range of advection velocities"
   ]
  },
  {
   "cell_type": "code",
   "execution_count": 7,
   "metadata": {},
   "outputs": [
    {
     "data": {
      "image/png": "[encoded data removed]",
      "text/plain": [
       "<Figure size 432x288 with 1 Axes>"
      ]
     },
     "metadata": {
      "needs_background": "light"
     },
     "output_type": "display_data"
    }
   ],
   "source": [
    "# Initialise set up for figure\n",
    "tempfig, ax= plt.subplots(1)\n",
    "tempfig.suptitle(\"Temperatures vs Depth\")\n",
    "linecol=['k-','b-','c-','g-','y-','r-','m']\n",
    "ax.set_ylim(LL, 0)\n",
    "plt.xlabel(\"Temperature $^{\\circ}$C\")\n",
    "plt.ylabel(\"Depth (m)\")\n",
    "\n",
    "# Determine temperatures for each advection velocities\n",
    "# and add line to figure\n",
    "for iv in range(nv):\n",
    "    # initialise temperature\n",
    "    Tzz=numpy.zeros(nz)\n",
    "    # calculate temperature for this vz\n",
    "    cc=-1.*vz[iv]/kap\n",
    "    prefac=TL/(1.-numpy.exp(cc*LL))\n",
    "    Tzz=prefac*(1.-numpy.exp(cc*zz))\n",
    "    plt.plot(Tzz,zz,linecol[iv],label=str(\"{:.2f}\".format(vzcm[iv])))\n",
    "plt.legend(title='vz (cm/yr)')\n",
    "plt.show()\n"
   ]
  },
  {
   "cell_type": "markdown",
   "metadata": {},
   "source": [
    "Step 3: Calculate Peclet numbers for these solutions"
   ]
  },
  {
   "cell_type": "code",
   "execution_count": 8,
   "metadata": {},
   "outputs": [
    {
     "name": "stdout",
     "output_type": "stream",
     "text": [
      "Advection velocity:  [0.2 0.1] cm/yr\n",
      "Peclet number:  [1.889 0.944]\n"
     ]
    }
   ],
   "source": [
    "Pecletno=vz*LL/kap\n",
    "with numpy.printoptions(precision=3, suppress=True):\n",
    "    print('Advection velocity: ',vz*100*yr2sec, 'cm/yr')\n",
    "    print('Peclet number: ',Pecletno)"
   ]
  },
  {
   "cell_type": "markdown",
   "metadata": {},
   "source": [
    "Things you could try yourself:\n",
    "* Evaluate how the profile and Peclet number change with advection velocity. At what velocity does the solution become essentially conductive?\n",
    "* Add a heat production term (e.g. A = 0.4 $\\mu$W/m$^3$)\n",
    "* Find solution for boundary conditions: $T$($z$=0)=0 $^{\\circ}$C and $\\partial T/\\partial z$($z$=0)=20$^{\\circ}$C/km and plot for different values of $v_z$."
   ]
  }
 ],
 "metadata": {
  "kernelspec": {
   "display_name": "Python 3",
   "language": "python",
   "name": "python3"
  },
  "language_info": {
   "codemirror_mode": {
    "name": "ipython",
    "version": 3
   },
   "file_extension": ".py",
   "mimetype": "text/x-python",
   "name": "python",
   "nbconvert_exporter": "python",
   "pygments_lexer": "ipython3",
   "version": "3.7.4"
  }
 },
 "nbformat": 4,
 "nbformat_minor": 2
}
