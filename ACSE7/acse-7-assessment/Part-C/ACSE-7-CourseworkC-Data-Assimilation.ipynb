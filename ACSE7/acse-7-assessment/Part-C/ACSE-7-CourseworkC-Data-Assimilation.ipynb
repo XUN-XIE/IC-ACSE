{
 "cells": [
  {
   "cell_type": "markdown",
   "metadata": {},
   "source": [
    "# ACSE 7 Data Assimilation assessment\n",
    "\n",
    "_Expected completion time:_\n",
    "- Part I: less than 30 minutes\n",
    "- Part II: less than 2 hours 30 minutes\n",
    "\n",
    "The forced one-dimensional viscous Burgers' equation occurs frequently in fluid dynamics and acoustics. In form it is very similar to the Navier-Stokes equations you saw in ACSE-3,\n",
    "\n",
    "$$ \\frac{\\partial u}{\\partial t} +u\\frac{\\partial u}{\\partial z} = \\nu \\frac{\\partial^2 u}{\\partial z^2} +r(z).$$\n",
    "\n",
    "Here $u$ is the variable of interest, $z$ is the independent variable representing space in the domain and $r(z)$ is a given forcing term. For numerical convenience it is also common to write the advective term $u\\frac{\\partial u}{\\partial z}$ in a conservative form,\n",
    "$$ \\frac{\\partial u}{\\partial t} +\\frac{1}{2}\\frac{\\partial u^2}{\\partial z} = \\nu \\frac{\\partial^2 u}{\\partial z^2} +r(z).$$\n",
    "\n",
    "You have been provided with observational data of $u$ for a number of time levels at $z=5$ and $z=-5$ from a Burger's model system in a periodic domain of period 20. In the region $[-10, 10]$ $r(z)$ takes the form $100\\sin\\left(\\frac{3t}{8}\\right)\\exp(-100z^2)$."
   ]
  },
  {
   "cell_type": "markdown",
   "metadata": {},
   "source": [
    "## Part I\n",
    "\n",
    "Consider the following potential data assimilation strategies:\n",
    "\n",
    "- Multiple 4D-Var assimilation events\n",
    "- Multiple OI assimilation events\n",
    "- A single OI assimilation\n",
    "- A single 4D-Var assimilation\n",
    "- Multiple iterations of the ordinary Kalman filter\n",
    "- Multiple 3D-Var assimialtion events\n",
    "\n",
    "Place the six possible strategies in order from most appropriate to least appropriate in order to generate an accurate forcast at the time $t=100$. For each strategy include a _short_ (i.e one paragraph or less) explanation of why you have placed it where you have."
   ]
  },
  {
   "cell_type": "markdown",
   "metadata": {},
   "source": [
    "#### Insert answer here\n",
    "\n",
    "Most appropriate\n",
    "\n",
    "  1. Multiple 4D-Var assimilation events. As with the 3D-Var method iwhen compared with OI, 4D-Var turns the Kalman Filter into a logically consistant problem which includes the nonlinearities present in the real world, and which can be attacked by existing optimization techniques.\n",
    "  Meanwhile, the multiple method can make the analysis more stable compared to single method\n",
    "  2. A single 4D-Var assimilation. Compared to Kalman filter, 4D-Var turns the Kalman Filter into a logically consistant problem which includes the nonlinearities present in the real world, and which can be attacked by existing optimization techniques\n",
    "  3. Multiple iterations of the ordinary Kalman filter. This has considered time in modelling comparing with 3D-Var assimilation and OI assimilation.\n",
    "  4. Multiple 3D-Var assimilation events. 3D-Var can define a (potentially) nonlinear *observation operator* as a function mapping the state variable values into the observation space\n",
    "  5. Multiple OI assimilation events. multiple method can make the analysis more stable compared to single method\n",
    "  6. A single OI assimilation. It can only represent linear relationship between the observation data and state vector\n",
    "  \n",
    "Least appropriate"
   ]
  },
  {
   "cell_type": "markdown",
   "metadata": {},
   "source": [
    "## Part II\n",
    "\n",
    "You may assume that the observations are independent, with Gaussian errors with standard deviation 0.05 (at $z=-5$ ) and 0.1 (at $z=5$). The supplied observational data and background error covariance matrix can be loaded using the following code block:"
   ]
  },
  {
   "cell_type": "code",
   "execution_count": 19,
   "metadata": {},
   "outputs": [
    {
     "name": "stdout",
     "output_type": "stream",
     "text": [
      "(80, 2)\n"
     ]
    }
   ],
   "source": [
    "# observations data is in array form y[timelevel, location]\n",
    "# where location 0 is z=-5 and location 1 is z=5\n",
    "#\n",
    "# The actual time value is stored in the t_obs array\n",
    "\n",
    "import numpy as np\n",
    "data = np.load('burgers_observations.npz')\n",
    "t_obs = data['t_obs']\n",
    "y = data['y']\n",
    "print(y.shape)\n",
    "# B is the (sparse) background error covariance matrix\n",
    "\n",
    "def generate_B_matrix(z):\n",
    "    B = np.empty([len(z), len(z)])\n",
    "    \n",
    "    for _ in range(len(z)):\n",
    "        B[_, :] = 0.2**2*np.exp(-4*(z[_]-z)**2)*((z[_]-z)**2<=4)\n",
    "    return B"
   ]
  },
  {
   "cell_type": "markdown",
   "metadata": {},
   "source": [
    "- Implement your best data assimilation strategy to provide a forecast at $t=100$ for an initial background at $t=0$ of $u=1$ (i.e $x_b$=1) using the observations, background error covariance matrix and observation statistices provided. \n",
    "- Write a short (i.e three paragraph or less) description of your method, and of any potential issues that it will not be able to cope with.\n",
    "\n",
    "For your convenience, you may use the following forecast model, or write your own.\n"
   ]
  },
  {
   "cell_type": "code",
   "execution_count": 20,
   "metadata": {
    "scrolled": true
   },
   "outputs": [],
   "source": [
    "%matplotlib inline\n",
    "import numpy as np\n",
    "import matplotlib.pyplot as plt\n",
    "from scipy.linalg import inv\n",
    "\n",
    "z = np.linspace(-10, 10, 61)\n",
    "dz = z[1]-z[0]\n",
    "u = np.full(z.shape, 1.0)\n",
    "nu = 0.4\n",
    "dt = 0.05\n",
    "\n",
    "B = generate_B_matrix(z)\n",
    "\n",
    "## Use forward Euler for the (nonlinear) advection  and Crank-Nicolson for diffusion\n",
    "def rhs(U, dt, t):\n",
    "    out = np.empty(U.shape)\n",
    "    out[0] = U[0]-0.5*dt/dz*(U[1]**2-U[-1]**2-nu*(U[-1]-2*U[0]+U[1])/dz)\n",
    "    out[1:-1] = U[1:-1]-0.5*dt/dz*(U[2:]**2-U[:-2]**2-nu*(U[:-2]-2*U[1:-1]+U[2:])/dz)\n",
    "    out[-1] = U[-1]-0.5*dt/dz*(U[0]**2-U[-2]**2-nu*(U[-2]-2*U[-1]+U[0])/dz)\n",
    "    \n",
    "    return out+dt*10*np.sin(.375*np.pi*(t+0.5*dt))*np.exp(-100*z**2)\n",
    "\n",
    "def lhs_matrix(u, dt):\n",
    "    mat = np.eye(u.shape[0])\n",
    "    mat[0,-1] -= 0.5*dt*nu/dz**2\n",
    "    mat[0, 0] += dt*nu/dz**2\n",
    "    mat[0, 1] -= 0.5*dt*nu/dz**2\n",
    "    for _ in range(1, u.shape[0]-1):\n",
    "        mat[_, _-1] -= 0.5*dt*nu/dz**2\n",
    "        mat[_, _] += dt*nu/dz**2\n",
    "        mat[_, _+1] -= 0.5*dt*nu/dz**2\n",
    "    mat[-1,-2] -= 0.5*dt*nu/dz**2\n",
    "    mat[-1, -1] += dt*nu/dz**2\n",
    "    mat[-1, 0] -= 0.5*dt*nu/dz**2\n",
    "    return mat\n",
    "\n",
    "def burgers_equation(u0, dt, t_final):\n",
    "    t = 0.0\n",
    "    u = u0\n",
    "    out = [u0]\n",
    "    mat = lhs_matrix(u0, dt)\n",
    "    matinv = inv(mat)\n",
    "    while t<t_final:\n",
    "        for _ in range(10):\n",
    "            u = matinv.dot(rhs(u, dt, t))\n",
    "            t += dt\n",
    "        out.append(u)\n",
    "    return out"
   ]
  },
  {
   "cell_type": "code",
   "execution_count": 21,
   "metadata": {},
   "outputs": [],
   "source": [
    "## Add new code cells as needed"
   ]
  },
  {
   "cell_type": "code",
   "execution_count": 22,
   "metadata": {
    "scrolled": true
   },
   "outputs": [
    {
     "data": {
      "image/png": "[encoded data removed]",
      "text/plain": [
       "<Figure size 432x288 with 1 Axes>"
      ]
     },
     "metadata": {
      "needs_background": "light"
     },
     "output_type": "display_data"
    }
   ],
   "source": [
    "x = burgers_equation(u, dt, 100)\n",
    "plt.plot(z, x[-1]);"
   ]
  },
  {
   "cell_type": "code",
   "execution_count": 23,
   "metadata": {},
   "outputs": [],
   "source": [
    "# number of places we need to record\n",
    "num_u = 61\n",
    "u0 = u\n",
    "\n",
    "\n",
    "nt = 100 / (10 * dt) + 1 + 1\n",
    "nt = int(nt)\n",
    "\n",
    "# compute the inverse of matrix B\n",
    "Binv = inv(B)\n",
    "\n",
    "# construct matrix R\n",
    "R = np.zeros((y.shape[1],y.shape[1]))\n",
    "R[0,0] = 0.05 ** 2\n",
    "R[1,1] = 0.1 ** 2\n",
    "\n",
    "# construct operator h\n",
    "h = np.zeros((y.shape[1], z.size))\n",
    "\n",
    "for i in range(5):\n",
    "    h[0,13+i] = 0.2  # centered on z = -5\n",
    "    h[1,43+i] = 0.2  # centered on z = 5\n",
    "# h[0,15] = 0.00000001  # z = -5\n",
    "# h[1,45] = 0.00000001 # z = 5\n",
    "\n",
    "# compute u_t, here denoted by x\n",
    "x = burgers_equation(u0, dt, 100)\n",
    "x = np.array(x)\n",
    "u_b = np.ones(x.shape[1])"
   ]
  },
  {
   "cell_type": "markdown",
   "metadata": {},
   "source": [
    "### Adjoint model\n",
    "PDE MODEL:\n",
    "$$ \\frac{\\partial u}{\\partial t} +\\frac{1}{2}\\frac{\\partial u^2}{\\partial z} = \\nu \\frac{\\partial^2 u}{\\partial z^2} +r(z).$$\n",
    "\n",
    "First, substitute $u \\rightarrow  u+\\delta u$ and collect all the terms involving one copy of $\\delta u$ to build our tangent linear model\n",
    "\n",
    "$$  \\frac{\\partial (u+\\delta u)}{\\partial t} +\\frac{1}{2}\\frac{\\partial (u+\\delta u)^2}{\\partial z} = \\nu \\frac{\\partial^2 (u+\\delta u)}{\\partial z^2} +r(z)\n",
    "$$\n",
    "\n",
    "$$  \\frac{\\partial u}{\\partial t}+\\frac{\\partial \\delta u}{\\partial t}+\\frac{1}{2}(\\frac{\\partial u^2}{\\partial z}+\\frac{\\partial 2(u\\delta u)}{\\partial z}+\\frac{\\partial (\\delta u)^2}{\\partial z}) = \\nu \\frac{\\partial^2 u}{\\partial z^2}+\\nu \\frac{\\partial^2 (\\delta u)}{\\partial z^2} +r(z)\n",
    "$$\n",
    "\n",
    "i.e.\n",
    "\n",
    "$$\n",
    "\\frac{\\partial (u\\delta u)}{\\partial z} = u\\frac{\\partial \\delta u}{\\partial z} + \\delta u\\frac{\\partial u}{\\partial z}\n",
    "$$ "
   ]
  },
  {
   "cell_type": "markdown",
   "metadata": {},
   "source": [
    "This truns up in the continuous cost function in an integral, so can integrate by parts\n",
    "\n",
    "$$ \\int\\lambda(\\frac{\\partial \\delta u}{\\partial t}+ \\frac{\\partial (u\\delta u)}{\\partial z}- \\nu \\frac{\\partial^2 \\delta u}{\\partial z^2})d\\Omega dt\n",
    "$$\n",
    "\n",
    "$$ \\int\\delta u(\\frac{\\partial \\lambda}{\\partial t}+ \\frac{\\partial (u\\lambda)}{\\partial z}- \\nu \\frac{\\partial^2 \\lambda}{\\partial z^2})d\\Omega dt\n",
    "$$"
   ]
  },
  {
   "cell_type": "markdown",
   "metadata": {},
   "source": [
    "This gives us our continuous adjoint equation\n",
    "\n",
    "$$\n",
    "\\frac{\\partial \\lambda}{\\partial t}= -\\frac{\\partial (u\\lambda)}{\\partial z}+ \\nu \\frac{\\partial^2 \\lambda}{\\partial z^2}\n",
    "$$\n",
    "\n",
    "we are going to integrate this backwards in time\n",
    "\n",
    "$$\n",
    "\\lambda_{k} = \\lambda_{k+1} - \\Delta t( -\\frac{\\partial (u_{k+1}\\lambda_{k+1})}{\\partial z}+ \\nu \\frac{\\partial^2 \\lambda_{k+1}}{\\partial z^2})\n",
    "$$\n",
    "\n",
    "Now for space(the nasties part)\n",
    "\n",
    "$$\n",
    "u_{k+1}^{i} = u_{k}^{i} + \\Delta t \\left[ -\\frac{1}{2}\\frac{(u_{k}^{i+1})^2-(u_{k}^{i-1})^2}{2\\Delta z} + \\nu \\frac{u_{k}^{i+1} -2u_{k}^{i} +u_{k}^{i-1}}{\\Delta z^2} \\right]\n",
    "$$\n",
    "\n",
    "Play the linearization trick for each of the individual $u_{k}^{i}$\n",
    "\n",
    "$$\n",
    "\\delta u_{k+1}^{i} = \\delta u_{k}^{i} + \\Delta t \\left[ -u_{k}^{i} \\frac{\\delta u_{k}^{i+1}-\\delta u_{k}^{i-1}}{2\\Delta z} - \\delta u_{k}^{i}\\frac{ u_{k}^{i+1}- u_{k}^{i-1}}{2\\Delta z} +\\nu \\frac{\\delta u_{k}^{i+1} -2 \\delta u_{k}^{i} +\\delta u_{k}^{i-1}}{\\Delta z^2}  \\right]\n",
    "$$"
   ]
  },
  {
   "cell_type": "markdown",
   "metadata": {},
   "source": [
    "Now having picked our numbering, we can actually write down the form of our matrix\n",
    "\n",
    "$$\n",
    "M = \\left[\n",
    "\\begin{matrix}\n",
    " 1-\\frac{u_{k}^1 \\Delta t}{2\\Delta z}-\\frac{2\\nu\\Delta t}{\\Delta z^2}    & -\\frac{u_{k}^{0} \\Delta t} {2\\Delta z}+\\frac{\\nu\\Delta t}{\\Delta z^2}   & 0  & \\cdots   & \\cdots & 0      \\\\\n",
    " \\frac{\\Delta t u_{k}^1}{2\\Delta z}+\\frac{\\Delta t \\nu}{\\Delta z^2}      & 1-\\frac{(u_{k}^2 - u_{k}^0) \\Delta t}{2\\Delta z}-\\frac{2\\nu\\Delta t}{\\Delta z^2}  & -\\frac{u_{k}^{1} \\Delta t} {2\\Delta z}+\\frac{\\nu\\Delta t}{\\Delta z^2}  & 0   & \\ddots & 0      \\\\\n",
    " 0 &\\frac{\\Delta t u_{k}^2}{2\\Delta z}+\\frac{\\Delta t \\nu}{\\Delta z^2}      & 1-\\frac{(u_{k}^3 - u_{k}^1) \\Delta t}{2\\Delta z}-\\frac{2\\nu\\Delta t}{\\Delta z^2}  & -\\frac{u_{k}^{2} \\Delta t} {2\\Delta z}+\\frac{\\nu\\Delta t}{\\Delta z^2}    & \\ddots & 0      \\\\\n",
    " \\vdots & \\ddots & \\ddots & \\ddots  & \\ddots  & \\vdots \\\\\n",
    "  \\vdots & \\ddots &  \\frac{\\Delta t u_{k}^{n-3}}{2\\Delta z}+\\frac{\\Delta t \\nu}{\\Delta z^2}      & 1-\\frac{(u_{k}^{n-2} - u_{k}^{n-4}) \\Delta t}{2\\Delta z}-\\frac{2\\nu\\Delta t}{\\Delta z^2}  & -\\frac{u_{k}^{n-3} \\Delta t} {2\\Delta z}+\\frac{\\nu\\Delta t}{\\Delta z^2} & 0\\\\\n",
    " \\vdots & \\ddots & 0 & \\frac{\\Delta t u_{k}^{n-2}}{2\\Delta z}+\\frac{\\Delta t \\nu}{\\Delta z^2}      & 1-\\frac{(u_{k}^{n-1} - u_{k}^{n-3}) \\Delta t}{2\\Delta z}-\\frac{2\\nu\\Delta t}{\\Delta z^2}  & -\\frac{u_{k}^{n-2} \\Delta t} {2\\Delta z}+\\frac{\\nu\\Delta t}{\\Delta z^2} \\\\\n",
    "  0  & \\cdots & \\cdots & 0 &\\frac{\\Delta t u_{k}^{n-1}}{2\\Delta z}+\\frac{\\Delta t \\nu}{\\Delta z^2} & 1+\\frac{u_{k}^{n-2} \\Delta t}{2\\Delta z}-\\frac{2\\nu\\Delta t}{\\Delta z^2} \n",
    "\\end{matrix}\n",
    "\\right]\n",
    "$$"
   ]
  },
  {
   "cell_type": "code",
   "execution_count": 24,
   "metadata": {},
   "outputs": [],
   "source": [
    "# compute last lamda\n",
    "lamdaN = h.T @ np.linalg.inv(R) @ (y[-1,:] - h @ x[-1])\n",
    "\n",
    "# construct M\n",
    "M = np.zeros((z.size,z.size))\n",
    "M = np.eye(z.size)\n",
    "for i in range(z.size-1):\n",
    "    M[i,i+1] = dt * nu / dz**2\n",
    "    M[i+1,i] = dt * nu / dz**2\n",
    "\n",
    "for i in range(z.size):\n",
    "    M[i,i] = - 2 * dt * nu / dz**2"
   ]
  },
  {
   "cell_type": "code",
   "execution_count": 25,
   "metadata": {},
   "outputs": [],
   "source": [
    "# modified adjoint_model function\n",
    "def adjoint_model(x, y, h):\n",
    "    \"\"\"\n",
    "    x : result of burgers equation\n",
    "    \"\"\"\n",
    "    lamda = h.T @ np.linalg.inv(R) @ (y[-1,:] - h @ x[-1])\n",
    "    nt = y.shape[0]\n",
    "    for t in range(1, int(nt)):\n",
    "        tmp = M.copy()\n",
    "        for i in range(z.size-1):\n",
    "            tmp[i,i+1] -= dt*x[-t-1,i] / 2 / dz\n",
    "            tmp[i+1,i] += dt*x[-t-1,i + 1] / 2 / dz\n",
    "        for i in range(1,z.size-1):\n",
    "            tmp[i,i] = (x[-t-1,i+1] - x[-t-1,i-1]) * dt / 2 / dz\n",
    "        tmp[0,0] += x[-t-1,1] * dt / 2 / dz\n",
    "        tmp[-1,-1] += x[-t-1,-2] * dt / 2 / dz\n",
    "        \n",
    "        lamda = tmp.T @ lamda - h.T @ np.linalg.inv(R) @ (y[-t-1,:] - h @ x[-t-1])\n",
    "        \n",
    "    return lamda"
   ]
  },
  {
   "cell_type": "code",
   "execution_count": 26,
   "metadata": {},
   "outputs": [],
   "source": [
    "### Define the 4DVar cost function\n",
    "\n",
    "# modified cost function\n",
    "def j(x0, y, h):\n",
    "    x = burgers_equation(u0, dt, 100)\n",
    "    x = np.array(x)\n",
    "    j_b0 = 0.5*(x0-x_b).dot(Binv.dot((x0-x_b)))\n",
    "    j_b = j_b0\n",
    "    for _ in range(80):\n",
    "        j_b += 0.5*np.sum((y[_,:] - h @ x[_]).T@np.linalg.inv(R) @ (y[_,:] - h @ x[_]))\n",
    "    return j_b\n",
    "\n",
    "### And the function giving the gradient with respect to x_0\n",
    "\n",
    "# modified derivative of cost function\n",
    "def jac(x0, y, h):\n",
    "    x = burgers_equation(u0, dt, 100)\n",
    "    x = np.array(x)\n",
    "    jac= Binv.dot(x0-x_b) + adjoint_model(x, y, h)\n",
    "    return jac"
   ]
  },
  {
   "cell_type": "code",
   "execution_count": 27,
   "metadata": {
    "scrolled": false
   },
   "outputs": [
    {
     "name": "stdout",
     "output_type": "stream",
     "text": [
      "Cost function for $x_b$ 4048.51607227356\n",
      "Cost function for $x_a$ 4048.51607227356\n"
     ]
    },
    {
     "data": {
      "text/plain": [
       "<matplotlib.legend.Legend at 0x1021794350>"
      ]
     },
     "execution_count": 27,
     "metadata": {},
     "output_type": "execute_result"
    },
    {
     "data": {
      "image/png": "[encoded data removed]",
      "text/plain": [
       "<Figure size 432x288 with 1 Axes>"
      ]
     },
     "metadata": {
      "needs_background": "light"
     },
     "output_type": "display_data"
    }
   ],
   "source": [
    "%matplotlib inline\n",
    "from matplotlib import pyplot as p\n",
    "\n",
    "# 4D var implementation for a diffusion problem with swarth observational data\n",
    "from scipy.optimize.linesearch import line_search_armijo as line_search\n",
    "\n",
    "### iterate with a basic linesearch to minimise the cost function and generate the \n",
    "### analysis state.\n",
    "\n",
    "x_a = x_b.copy()\n",
    "j0 = j(x_a, y, h)\n",
    "for _ in range(100):\n",
    "    pk = -jac(x_a, y, h)\n",
    "    res = line_search(j, x_a, pk, -pk, j0, args=(y, h), alpha0=1)\n",
    "    x_a += res[0]*pk\n",
    "    j0 = res[2]\n",
    "    if res[0]<0.000001:\n",
    "        break\n",
    "\n",
    "### Now plot some figures\n",
    "\n",
    "print('Cost function for $x_b$', j(x_b, y, h))\n",
    "print('Cost function for $x_a$', j(x_a, y, h))\n",
    "\n",
    "# compute the analysis output updated by our model\n",
    "x_f = burgers_equation(x_a,dt,100)\n",
    "\n",
    "fig = p.figure()\n",
    "ax = fig.add_subplot(111)\n",
    "ax.plot(z,x_b,'-r',label='$x_{b}$background guess')\n",
    "ax.plot(z,x_f[-1],'+g',label='$x_{a}$ final analysis')\n",
    "ax.plot(z,x[-1],'b',label='$x_{t}$ true state')\n",
    "ax.set_xlabel('z/m')\n",
    "ax.legend()"
   ]
  },
  {
   "cell_type": "code",
   "execution_count": null,
   "metadata": {},
   "outputs": [],
   "source": []
  },
  {
   "cell_type": "code",
   "execution_count": null,
   "metadata": {},
   "outputs": [],
   "source": []
  }
 ],
 "metadata": {
  "kernelspec": {
   "display_name": "Python 3",
   "language": "python",
   "name": "python3"
  },
  "language_info": {
   "codemirror_mode": {
    "name": "ipython",
    "version": 3
   },
   "file_extension": ".py",
   "mimetype": "text/x-python",
   "name": "python",
   "nbconvert_exporter": "python",
   "pygments_lexer": "ipython3",
   "version": "3.7.4"
  },
  "toc": {
   "base_numbering": 1,
   "nav_menu": {},
   "number_sections": false,
   "sideBar": true,
   "skip_h1_title": false,
   "title_cell": "Table of Contents",
   "title_sidebar": "Contents",
   "toc_cell": false,
   "toc_position": {
    "height": "calc(100% - 180px)",
    "left": "10px",
    "top": "150px",
    "width": "320px"
   },
   "toc_section_display": true,
   "toc_window_display": false
  }
 },
 "nbformat": 4,
 "nbformat_minor": 4
}
