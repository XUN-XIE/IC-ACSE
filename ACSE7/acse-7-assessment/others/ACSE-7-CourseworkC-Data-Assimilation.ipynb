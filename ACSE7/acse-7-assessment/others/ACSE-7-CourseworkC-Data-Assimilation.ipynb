{
 "cells": [
  {
   "cell_type": "markdown",
   "metadata": {},
   "source": [
    "# ACSE 7 Data Assimilation assessment\n",
    "\n",
    "_Expected completion time:_\n",
    "- Part I: less than 30 minutes\n",
    "- Part II: less than 2 hours 30 minutes\n",
    "\n",
    "The forced one-dimensional viscous Burgers' equation occurs frequently in fluid dynamics and acoustics. In form it is very similar to the Navier-Stokes equations you saw in ACSE-3,\n",
    "\n",
    "$$ \\frac{\\partial u}{\\partial t} +u\\frac{\\partial u}{\\partial z} = \\nu \\frac{\\partial^2 u}{\\partial z^2} +r(z).$$\n",
    "\n",
    "Here $u$ is the variable of interest, $z$ is the independent variable representing space in the domain and $r(z)$ is a given forcing term. For numerical convenience it is also common to write the advective term $u\\frac{\\partial u}{\\partial z}$ in a conservative form,\n",
    "$$ \\frac{\\partial u}{\\partial t} +\\frac{1}{2}\\frac{\\partial u^2}{\\partial z} = \\nu \\frac{\\partial^2 u}{\\partial z^2} +r(z).$$\n",
    "\n",
    "You have been provided with observational data of $u$ for a number of time levels at $z=5$ and $z=-5$ from a Burger's model system in a periodic domain of period 20. In the region $[-10, 10]$ $r(z)$ takes the form $100\\sin\\left(\\frac{3t}{8}\\right)\\exp(-100z^2)$."
   ]
  },
  {
   "cell_type": "markdown",
   "metadata": {},
   "source": [
    "## Part I\n",
    "\n",
    "Consider the following potential data assimilation strategies:\n",
    "\n",
    "- Multiple 4D-Var assimilation events\n",
    "- Multiple OI assimilation events\n",
    "- A single OI assimilation\n",
    "- A single 4D-Var assimilation\n",
    "- Multiple iterations of the ordinary Kalman filter\n",
    "- Multiple 3D-Var assimialtion events\n",
    "\n",
    "Place the six possible strategies in order from most appropriate to least appropriate in order to generate an accurate forcast at the time $t=100$. For each strategy include a _short_ (i.e one paragraph or less) explanation of why you have placed it where you have."
   ]
  },
  {
   "cell_type": "markdown",
   "metadata": {},
   "source": [
    "#### Insert answer here\n",
    "\n",
    "Most appropriate\n",
    "  1. Multiple 4D-Var assimilation events:compared with single 4D-Var OI， single method is less accurate. Because multiple events can split the time domain into several sections( or windows),and in each section we can assimilate data and the process of assimilating is not affected by the former section. So multiple events is more accurate than single event.\n",
    "  2. A single 4D-Var assimilation: 4D-Var turns the Kalman Filter into a logically consistant problem which includes the nonlinearities present in the real world, and which can be attacked by existing optimization techniques.4D-Var can solves the nolinear problem campared with Kalman Filter.**And in this coursework the Burgers' equation with force item is a nonlinear PDE, so using 4D-Var is more accurate than Kalman Filter.**\n",
    "  3. Multiple iterations of the ordinary Kalman filter:compared with 3D-Var, Kalman filter takes timesteps into account.\n",
    "  4. Multiple 3D-Var assimialtion events: In 3D-Var there is no data selection, all available data are used simultaneously, and the cost function os minimized using global minimization algorithms and as a result it makes unnecessary many of the simplifying approximation required by OI. So it more accurate than OI method. \n",
    "  5. Multiple OI assimilation events： compared with 3D-Var, OI assimilation is the least appropriate,because by OI method requires the introduction of a number of approximations,and local solutions of the analysis,grid points by grid points. It also requires selection of only the stations cloest to the grid point being analyzed.\n",
    "  6. A single OI assimilation：compared with multiple OI， single method is less accurate. Because multiple events can split the time domain into several sections( or windows),and in each section we can assimilate data and the process of assimilating is not affected by the former section. So multiple events is more accurate than single event.Finally, compared with other methods OI assimilation is the least appropriate,because by OI method requires the introduction of a number of approximations,and local solutions of the analysis,grid points by grid points. It also requires selection of only the stations cloest to the grid point being analyzed.\n",
    "  \n",
    "Least appropriate"
   ]
  },
  {
   "cell_type": "markdown",
   "metadata": {},
   "source": [
    "<!--  $x_t + u\\cdot\\nabla x = 4*k \\nabla^2 x^2$ -->"
   ]
  },
  {
   "cell_type": "markdown",
   "metadata": {},
   "source": [
    "## Part II\n",
    "\n",
    "You may assume that the observations are independent, with Gaussian errors with standard deviation 0.05 (at $z=-3$ ) and 0.1 (at $z=3$). The supplied observational data and background error covariance matrix can be loaded using the following code block:"
   ]
  },
  {
   "cell_type": "code",
   "execution_count": 1,
   "metadata": {},
   "outputs": [],
   "source": [
    "# observations data is in array form y[timelevel, location]\n",
    "# where location 0 is z=-5 and location 1 is z=5\n",
    "#\n",
    "# The actual time value is stored in the t_obs array\n",
    "\n",
    "import numpy as np\n",
    "data = np.load('burgers_observations.npz')\n",
    "t_obs = data['t_obs']\n",
    "y = data['y']\n",
    "\n",
    "# B is the (sparse) background error covariance matrix\n",
    "\n",
    "def generate_B_matrix(z):\n",
    "    B = np.empty([len(z), len(z)])\n",
    "    \n",
    "    for _ in range(len(z)):\n",
    "        B[_, :] = 0.2**2*np.exp(-4*(z[_]-z)**2)*((z[_]-z)**2<=4)\n",
    "    return B"
   ]
  },
  {
   "cell_type": "code",
   "execution_count": 2,
   "metadata": {
    "jupyter": {
     "source_hidden": true
    }
   },
   "outputs": [
    {
     "name": "stdout",
     "output_type": "stream",
     "text": [
      "[ 0  1  2  3  4  5  6  7  8  9 10 11 12 13 14 15 16 17 18 19 20 21 22 23\n",
      " 24 25 26 27 28 29 30 31 32 33 34 35 36 37 38 39 40 41 42 43 44 45 46 47\n",
      " 48 49 50 51 52 53 54 55 56 57 58 59 60 61 62 63 64 65 66 67 68 69 70 71\n",
      " 72 73 74 75 76 77 78 79]\n"
     ]
    }
   ],
   "source": [
    "print(t_obs)"
   ]
  },
  {
   "cell_type": "markdown",
   "metadata": {},
   "source": [
    "- Implement your best data assimilation strategy to provide a forecast at $t=100$ for an initial background at $t=0$ of $u=1$ (i.e $x_b$=1) using the observations, background error covariance matrix and observation statistices provided. \n",
    "- Write a short (i.e three paragraph or less) description of your method, and of any potential issues that it will not be able to cope with.\n",
    "\n",
    "For your convenience, you may use the following forecast model, or write your own.\n"
   ]
  },
  {
   "cell_type": "code",
   "execution_count": 3,
   "metadata": {
    "scrolled": true
   },
   "outputs": [
    {
     "data": {
      "image/png": "[encoded data removed]",
      "text/plain": [
       "<Figure size 432x288 with 1 Axes>"
      ]
     },
     "metadata": {
      "needs_background": "light"
     },
     "output_type": "display_data"
    }
   ],
   "source": [
    "%matplotlib inline\n",
    "import numpy as np\n",
    "import matplotlib.pyplot as plt\n",
    "from scipy.linalg import inv\n",
    "\n",
    "z = np.linspace(-10, 10, 61)\n",
    "dz = z[1]-z[0]\n",
    "u = np.full(z.shape, 1.0)\n",
    "# print(u)\n",
    "nu = 0.4\n",
    "dt = 0.05\n",
    "\n",
    "B = generate_B_matrix(z)\n",
    "\n",
    "## Use forward Euler for the (nonlinear) advection  and Crank-Nicolson for diffusion\n",
    "def rhs(U, dt, t):\n",
    "    out = np.empty(U.shape)\n",
    "    out[0] = U[0]-0.5*dt/dz*(U[1]**2-U[-1]**2-nu*(U[-1]-2*U[0]+U[1])/dz)\n",
    "    out[1:-1] = U[1:-1]-0.5*dt/dz*(U[2:]**2-U[:-2]**2-nu*(U[:-2]-2*U[1:-1]+U[2:])/dz)\n",
    "    out[-1] = U[-1]-0.5*dt/dz*(U[0]**2-U[-2]**2-nu*(U[-2]-2*U[-1]+U[0])/dz)\n",
    "    \n",
    "    return out+dt*10*np.sin(.375*np.pi*(t+0.5*dt))*np.exp(-100*z**2)\n",
    "\n",
    "def lhs_matrix(u, dt):\n",
    "    mat = np.eye(u.shape[0])\n",
    "    mat[0,-1] -= 0.5*dt*nu/dz**2\n",
    "    mat[0, 0] += dt*nu/dz**2\n",
    "    mat[0, 1] -= 0.5*dt*nu/dz**2\n",
    "    for _ in range(1, u.shape[0]-1):\n",
    "        mat[_, _-1] -= 0.5*dt*nu/dz**2\n",
    "        mat[_, _] += dt*nu/dz**2\n",
    "        mat[_, _+1] -= 0.5*dt*nu/dz**2\n",
    "    mat[-1,-2] -= 0.5*dt*nu/dz**2\n",
    "    mat[-1, -1] += dt*nu/dz**2\n",
    "    mat[-1, 0] -= 0.5*dt*nu/dz**2\n",
    "    return mat\n",
    "\n",
    "def burgers_equation(u0, dt, t_final):\n",
    "    t = 0.0\n",
    "    u = u0\n",
    "    out = [u0]\n",
    "    mat = lhs_matrix(u0, dt)\n",
    "    matinv = inv(mat)\n",
    "    while t<t_final:\n",
    "        for _ in range(10):\n",
    "            u = matinv.dot(rhs(u, dt, t))\n",
    "            t += dt\n",
    "        out.append(u)\n",
    "    return out\n",
    "\n",
    "data = burgers_equation(u, dt, 100)\n",
    "plt.plot(z, data[-1]);"
   ]
  },
  {
   "cell_type": "markdown",
   "metadata": {},
   "source": [
    "### Adjoint model\n",
    "PDE MODEL:\n",
    "$$ \\frac{\\partial u}{\\partial t} +\\frac{1}{2}\\frac{\\partial u^2}{\\partial z} = \\nu \\frac{\\partial^2 u}{\\partial z^2} +r(z).$$"
   ]
  },
  {
   "cell_type": "markdown",
   "metadata": {},
   "source": [
    "First substitute $u \\rightarrow  u+\\delta u$, then we get:\n",
    "$$  \\frac{\\partial (u+\\delta u)}{\\partial t} +\\frac{1}{2}\\frac{\\partial (u+\\delta u)^2}{\\partial z} = \\nu \\frac{\\partial^2 (u+\\delta u)}{\\partial z^2} +r(z)\n",
    "$$"
   ]
  },
  {
   "cell_type": "markdown",
   "metadata": {},
   "source": [
    "$$  \\frac{\\partial u}{\\partial t}+\\frac{\\partial \\delta u}{\\partial t}+\\frac{1}{2}(\\frac{\\partial u^2}{\\partial z}+\\frac{\\partial 2(u\\delta u)}{\\partial z}+\\frac{\\partial (\\delta u)^2}{\\partial z}) = \\nu \\frac{\\partial^2 u}{\\partial z^2}+\\nu \\frac{\\partial^2 (\\delta u)}{\\partial z^2} +r(z)\n",
    "$$"
   ]
  },
  {
   "cell_type": "markdown",
   "metadata": {},
   "source": [
    "Simplifying the equation, we can get:\n",
    "$$  \\frac{\\partial \\delta u}{\\partial t} + \\frac{\\partial (u\\delta u)}{\\partial z}= \\nu \\frac{\\partial^2 \\delta u}{\\partial z^2}\n",
    "$$"
   ]
  },
  {
   "cell_type": "markdown",
   "metadata": {},
   "source": [
    "$$\n",
    "\\frac{\\partial (u\\delta u)}{\\partial z} = u\\frac{\\partial \\delta u}{\\partial z} + \\delta u\\frac{\\partial u}{\\partial z}\n",
    "$$ "
   ]
  },
  {
   "cell_type": "markdown",
   "metadata": {},
   "source": [
    "This turn into the continuous cost function in an integral:\n",
    "$$ \\int\\lambda(\\frac{\\partial \\delta u}{\\partial t}+ \\frac{\\partial (u\\delta u)}{\\partial z}- \\nu \\frac{\\partial^2 \\delta u}{\\partial z^2})d\\Omega dt\n",
    "$$"
   ]
  },
  {
   "cell_type": "markdown",
   "metadata": {},
   "source": [
    "$$ \\int\\delta u(\\frac{\\partial \\lambda}{\\partial t}+ \\frac{\\partial (u\\lambda)}{\\partial z}- \\nu \\frac{\\partial^2 \\lambda}{\\partial z^2})d\\Omega dt\n",
    "$$"
   ]
  },
  {
   "cell_type": "markdown",
   "metadata": {},
   "source": [
    "So we can get continuous adjoint equation:\n",
    "$$\n",
    "\\frac{\\partial \\lambda}{\\partial t}= -\\frac{\\partial (u\\lambda)}{\\partial z}+ \\nu \\frac{\\partial^2 \\lambda}{\\partial z^2}\n",
    "$$"
   ]
  },
  {
   "cell_type": "markdown",
   "metadata": {},
   "source": [
    "Discretizing in time (backward order):\n",
    "$$\n",
    "\\lambda_{k} = \\lambda_{k+1} - \\Delta t( -\\frac{\\partial (u_{k+1}\\lambda_{k+1})}{\\partial z}+ \\nu \\frac{\\partial^2 \\lambda_{k+1}}{\\partial z^2})\n",
    "$$"
   ]
  },
  {
   "cell_type": "markdown",
   "metadata": {},
   "source": [
    "Discretizing in space:\n",
    "$$\n",
    "u_{k+1}^{i} = u_{k}^{i} + \\Delta t \\left[ -\\frac{1}{2}\\frac{(u_{k}^{i+1})^2-(u_{k}^{i-1})^2}{2\\Delta z} + \\nu \\frac{u_{k}^{i+1} -2u_{k}^{i} +u_{k}^{i-1}}{\\Delta z^2} \\right]\n",
    "$$"
   ]
  },
  {
   "cell_type": "markdown",
   "metadata": {},
   "source": [
    "Playing the linearization trick again, we can get:\n",
    "$$\n",
    "\\delta u_{k+1}^{i} = \\delta u_{k}^{i} + \\Delta t \\left[ -u_{k}^{i} \\frac{\\delta u_{k}^{i+1}-\\delta u_{k}^{i-1}}{2\\Delta z} - \\delta u_{k}^{i}\\frac{ u_{k}^{i+1}- u_{k}^{i-1}}{2\\Delta z} +\\nu \\frac{\\delta u_{k}^{i+1} -2 \\delta u_{k}^{i} +\\delta u_{k}^{i-1}}{\\Delta z^2}  \\right]\n",
    "$$"
   ]
  },
  {
   "cell_type": "markdown",
   "metadata": {},
   "source": [
    "From the equation above, we can get the tangent linear model $u_{k+1} = M u_{k} $:"
   ]
  },
  {
   "cell_type": "markdown",
   "metadata": {},
   "source": [
    "$$\n",
    "M = \\left[\n",
    "\\begin{matrix}\n",
    " 1-\\frac{u_{k}^1 \\Delta t}{2\\Delta z}-\\frac{2\\nu\\Delta t}{\\Delta z^2}    & -\\frac{u_{k}^{0} \\Delta t} {2\\Delta z}+\\frac{\\nu\\Delta t}{\\Delta z^2}   & 0  & 0   & \\cdots & 0      \\\\\n",
    " \\frac{\\Delta t u_{k}^1}{2\\Delta z}+\\frac{\\Delta t \\nu}{\\Delta z^2}      & 1-\\frac{(u_{k}^2 - u_{k}^0) \\Delta t}{2\\Delta z}-\\frac{2\\nu\\Delta t}{\\Delta z^2}  & -\\frac{u_{k}^{1} \\Delta t} {2\\Delta z}+\\frac{\\nu\\Delta t}{\\Delta z^2}  & 0   & \\cdots & 0      \\\\\n",
    " 0 &\\frac{\\Delta t u_{k}^2}{2\\Delta z}+\\frac{\\Delta t \\nu}{\\Delta z^2}      & 1-\\frac{(u_{k}^3 - u_{k}^1) \\Delta t}{2\\Delta z}-\\frac{2\\nu\\Delta t}{\\Delta z^2}  & -\\frac{u_{k}^{2} \\Delta t} {2\\Delta z}+\\frac{\\nu\\Delta t}{\\Delta z^2}    & \\cdots & 0      \\\\\n",
    " \\cdots & \\ddots & \\ddots & \\ddots  & \\ddots  & \\cdots \\\\\n",
    "  0  & 0    & 0 &0 &\\frac{\\Delta t u_{k}^{n-1}}{2\\Delta z}+\\frac{\\Delta t \\nu}{\\Delta z^2} & 1+\\frac{u_{k}^{n-2} \\Delta t}{2\\Delta z}-\\frac{2\\nu\\Delta t}{\\Delta z^2} \n",
    "\\end{matrix}\n",
    "\\right]\n",
    "$$"
   ]
  },
  {
   "cell_type": "code",
   "execution_count": 50,
   "metadata": {},
   "outputs": [
    {
     "name": "stdout",
     "output_type": "stream",
     "text": [
      "202\n"
     ]
    }
   ],
   "source": [
    "num_u = 61\n",
    "u0 = u\n",
    "\n",
    "nt = 100 / (10 * dt) + 1 + 1\n",
    "nt = int(nt)\n",
    "print(nt)\n",
    "Binv = inv(B)\n",
    "\n",
    "# construct matrix R\n",
    "R = np.zeros((y.shape[1],y.shape[1]))\n",
    "R[0,0] = 0.05 ** 2\n",
    "R[1,1] = 0.1 ** 2\n",
    "\n",
    "# construct h\n",
    "h = np.zeros((y.shape[1], z.size))\n",
    "\n",
    "h[0,15] = 1  # z = -5\n",
    "h[1,45] = 1 # z = 5\n",
    "\n",
    "\n",
    "\n",
    "x = burgers_equation(u0, dt, 100)\n",
    "x = np.array(x)\n",
    "x_b = np.ones(x.shape[1])\n",
    "lamdaN = h.T @ np.linalg.inv(R) @ (y[-1,:] - h @ x[-1])\n",
    "\n",
    "# construct M\n",
    "M = np.zeros((z.size,z.size))\n",
    "M = np.eye(z.size)\n",
    "for i in range(z.size-1):\n",
    "    M[i,i+1] = dt * nu / dz**2\n",
    "    M[i+1,i] = dt * nu / dz**2\n",
    "\n",
    "for i in range(z.size):\n",
    "    M[i,i] = - 2 * dt * nu / dz**2\n"
   ]
  },
  {
   "cell_type": "code",
   "execution_count": 51,
   "metadata": {},
   "outputs": [],
   "source": [
    "# 求 lambdas ，拉格朗日乘数\n",
    "def adjoint_model(x, y, h):\n",
    "    \"\"\"\n",
    "    x : result of burgers equation\n",
    "    \"\"\"\n",
    "    lamda = h.T @ np.linalg.inv(R) @ (y[-1,:] - h @ x[-1])\n",
    "    nt = y.shape[0]\n",
    "    for t in range(1, int(nt)):\n",
    "        tmp = M.copy()\n",
    "        for i in range(z.size-1):\n",
    "            tmp[i,i+1] -= dt*x[-t-1,i] / 2 / dz\n",
    "            tmp[i+1,i] += dt*x[-t-1,i + 1] / 2 / dz\n",
    "        for i in range(1,z.size-1):\n",
    "            tmp[i,i] = (x[-t-1,i+1] - x[-t-1,i-1]) * dt / 2 / dz\n",
    "        tmp[0,0] += x[-t-1,1] * dt / 2 / dz\n",
    "        tmp[-1,-1] += x[-t-1,-2] * dt / 2 / dz\n",
    "        \n",
    "        lamda = tmp.T @ lamda - h.T @ np.linalg.inv(R) @ (y[-t-1,:] - h @ x[-t-1])\n",
    "        \n",
    "    return lamda"
   ]
  },
  {
   "cell_type": "code",
   "execution_count": 52,
   "metadata": {},
   "outputs": [],
   "source": [
    "### Define the 4DVar cost function\n",
    "\n",
    "def j(x0, y, h):\n",
    "    x = burgers_equation(u0, dt, 100)\n",
    "    x = np.array(x)\n",
    "    j_b0 = 0.5*(x0-x_b).dot(Binv.dot((x0-x_b)))\n",
    "    j_b = j_b0\n",
    "    for _ in range(80):\n",
    "        j_b += 0.5*np.sum((y[_,:] - h @ x[_]).T@np.linalg.inv(R) @ (y[_,:] - h @ x[_]))\n",
    "    return j_b\n",
    "\n",
    "### And the function giving the gradient with respect to x_0\n",
    "\n",
    "def jac(x0, y, h):\n",
    "    x = burgers_equation(u0, dt, 100)\n",
    "    x = np.array(x)\n",
    "    jac= Binv.dot(x0-x_b) + adjoint_model(x, y, h)\n",
    "    return jac"
   ]
  },
  {
   "cell_type": "code",
   "execution_count": 53,
   "metadata": {},
   "outputs": [],
   "source": [
    "%matplotlib inline\n",
    "from matplotlib import pyplot as p"
   ]
  },
  {
   "cell_type": "code",
   "execution_count": 54,
   "metadata": {},
   "outputs": [
    {
     "name": "stdout",
     "output_type": "stream",
     "text": [
      "[ 1.77688396e-08  3.47920076e-07 -1.82071835e-06 -3.06986032e-05\n",
      " -8.80466412e-05 -3.74627550e-04 -1.55137666e-03  3.37680313e-03\n",
      "  4.45089922e-03 -2.64691448e-03  1.22360492e-01 -8.99059455e-03\n",
      " -3.35509286e+00 -1.28186936e+00  4.27112233e+00 -9.85584722e+01\n",
      "  9.96199947e-01 -9.24548440e-02 -7.33040696e-02 -1.99529374e-05\n",
      "  3.33288031e-04  4.29721092e-06  1.07574976e-06  7.04544213e-07\n",
      " -9.75252880e-08 -4.41821359e-09 -2.60726752e-12  1.69033130e-10\n",
      "  1.54833279e-09  1.25823872e-08  3.40198586e-08  5.63442200e-08\n",
      " -8.34989903e-07 -6.85610762e-06 -4.68985475e-06  8.94447904e-05\n",
      "  6.06693273e-04  4.74143681e-04 -2.50918105e-03  7.02098592e-04\n",
      " -4.28044525e-02 -1.28582847e-01  2.16917144e-01 -1.01011858e+01\n",
      " -1.76425599e+01  3.17298298e+01 -1.17272076e+01 -1.39310618e-01\n",
      "  1.59551033e-03 -4.32216009e-04 -4.58072051e-05  9.59853319e-07\n",
      "  1.94824013e-07  3.91007418e-08  4.89935503e-08  3.33924647e-09\n",
      "  7.11019054e-11 -4.24748093e-11 -1.14229745e-12  1.38672453e-14\n",
      "  5.14479560e-16]\n",
      "2.1074334385009873e-13\n",
      "[1. 1. 1. 1. 1. 1. 1. 1. 1. 1. 1. 1. 1. 1. 1. 1. 1. 1. 1. 1. 1. 1. 1. 1.\n",
      " 1. 1. 1. 1. 1. 1. 1. 1. 1. 1. 1. 1. 1. 1. 1. 1. 1. 1. 1. 1. 1. 1. 1. 1.\n",
      " 1. 1. 1. 1. 1. 1. 1. 1. 1. 1. 1. 1. 1.]\n",
      "Cost function for $x_b$ 4245.537792514874\n",
      "Cost function for $x_a$ 4245.537792514874\n"
     ]
    },
    {
     "data": {
      "text/plain": [
       "<matplotlib.legend.Legend at 0x133167390>"
      ]
     },
     "execution_count": 54,
     "metadata": {},
     "output_type": "execute_result"
    },
    {
     "data": {
      "image/png": "[encoded data removed]",
      "text/plain": [
       "<Figure size 432x288 with 1 Axes>"
      ]
     },
     "metadata": {
      "needs_background": "light"
     },
     "output_type": "display_data"
    }
   ],
   "source": [
    "# 4D var implementation for a diffusion problem with swarth observational data\n",
    "from scipy.optimize.linesearch import line_search_armijo as line_search\n",
    "\n",
    "### iterate with a basic linesearch to minimise the cost function and generate the \n",
    "### analysis state.\n",
    "\n",
    "x_a = x_b.copy()\n",
    "j0 = j(x_a, y, h)\n",
    "for _ in range(100):\n",
    "    pk = -jac(x_a, y, h)\n",
    "    print(pk)\n",
    "    res = line_search(j, x_a, pk, -pk, j0, args=(y, h), alpha0=1)\n",
    "    print(res[0])\n",
    "    x_a += res[0]*pk\n",
    "    j0 = res[2]\n",
    "    if res[0]<0.001:\n",
    "        break\n",
    "print(x_a)\n",
    "\n",
    "j0 = jac(x_b, y, h)\n",
    "\n",
    "### Now plot some figures\n",
    "\n",
    "print('Cost function for $x_b$', j(x_b, y, h))\n",
    "print('Cost function for $x_a$', j(x_a, y, h))\n",
    "\n",
    "\n",
    "x_f = burgers_equation(x_a,dt,100)\n",
    "\n",
    "fig = p.figure()\n",
    "ax = fig.add_subplot(111)\n",
    "ax.plot(z,x_b,'-r',label='$x_{b}$background guess')\n",
    "ax.plot(z,x_f[-1],'+g',label='$x_{a}$ final analysis')\n",
    "ax.plot(z,x[-1],'b',label='$x_{t}$ true state')\n",
    "ax.set_xlabel('z/m')\n",
    "ax.legend()\n",
    "\n",
    "\n"
   ]
  },
  {
   "cell_type": "markdown",
   "metadata": {},
   "source": []
  }
 ],
 "metadata": {
  "kernelspec": {
   "display_name": "Python 3",
   "language": "python",
   "name": "python3"
  },
  "language_info": {
   "codemirror_mode": {
    "name": "ipython",
    "version": 3
   },
   "file_extension": ".py",
   "mimetype": "text/x-python",
   "name": "python",
   "nbconvert_exporter": "python",
   "pygments_lexer": "ipython3",
   "version": "3.7.3"
  },
  "toc": {
   "base_numbering": 1,
   "nav_menu": {},
   "number_sections": false,
   "sideBar": true,
   "skip_h1_title": false,
   "title_cell": "Table of Contents",
   "title_sidebar": "Contents",
   "toc_cell": false,
   "toc_position": {
    "height": "calc(100% - 180px)",
    "left": "10px",
    "top": "150px",
    "width": "320px"
   },
   "toc_section_display": true,
   "toc_window_display": false
  }
 },
 "nbformat": 4,
 "nbformat_minor": 4
}
