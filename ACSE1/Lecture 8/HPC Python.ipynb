{
 "cells": [
  {
   "cell_type": "markdown",
   "metadata": {},
   "source": [
    "# High performance Python\n",
    "\n",
    "## Lots of additional methods for optimizing Python applications\n",
    "\n",
    "### Profiling\n",
    "* timeit: https://docs.python.org/3/library/timeit.html\n",
    "* cprofile: https://docs.python.org/3/library/profile.html\n",
    "* Bokeh: https://bokeh.pydata.org/en/latest/index.html\n",
    "\n",
    "### JIT(Just In Time) and DSL's(Language)\n",
    "* Firedrake: https://firedrakeproject.org/\n",
    "* FENICS: https://fenicsproject.org/\n",
    "* numba: https://numba.pydata.org/\n",
    "\n",
    "### Libraries\n",
    "* Can wrap compiled libraries for Python using ctypes\n",
    "* Numpy: https://numpy.org/\n",
    "* SciPy: https://www.scipy.org/\n",
    "*petsc4py\n",
    "\n",
    "### Other tricks\n",
    "* Memoization: https://www.python-course.eu/python3_memoization.php\n",
    "\n",
    "### Parallel\n",
    "* Dask: https://dask.org/\n",
    "* MPI: https://pypi.org/project/mpi4py/\n",
    "* numexpr: https://github.com/pydata/numexpr\n",
    "* pycuda: https://developer.nvidia.com/pycuda\n",
    "* cupy: https://cupy.chainer.org/\n",
    "* pyopencl: https://mathema.tician.de/software/pyopencl/\n",
    "\n",
    "### Machine behaviour\n",
    "* pytorch: https://pytorch.org/\n",
    "* tensorflow: https://www.tensorflow.org/\n",
    "\n",
    "- loopy\n"
   ]
  },
  {
   "cell_type": "code",
   "execution_count": null,
   "metadata": {},
   "outputs": [],
   "source": []
  }
 ],
 "metadata": {
  "kernelspec": {
   "display_name": "Python 3",
   "language": "python",
   "name": "python3"
  },
  "language_info": {
   "codemirror_mode": {
    "name": "ipython",
    "version": 3
   },
   "file_extension": ".py",
   "mimetype": "text/x-python",
   "name": "python",
   "nbconvert_exporter": "python",
   "pygments_lexer": "ipython3",
   "version": "3.7.3"
  }
 },
 "nbformat": 4,
 "nbformat_minor": 4
}
