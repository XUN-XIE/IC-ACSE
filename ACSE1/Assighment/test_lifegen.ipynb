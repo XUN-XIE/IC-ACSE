{
 "cells": [
  {
   "cell_type": "code",
   "execution_count": 4,
   "metadata": {},
   "outputs": [
    {
     "name": "stdout",
     "output_type": "stream",
     "text": [
      "\u001b[1m============================= test session starts ==============================\u001b[0m\n",
      "platform darwin -- Python 3.7.3, pytest-5.0.1, py-1.8.0, pluggy-0.12.0\n",
      "rootdir: /Users/xiexun/OneDrive - Imperial College London/ACSE/ACSE-1/lectures/Assighment\n",
      "plugins: openfiles-0.3.2, arraydiff-0.3, doctestplus-0.3.0, remotedata-0.3.1\n",
      "collected 4 items                                                              \u001b[0m\n",
      "\n",
      "test_automata.py \u001b[32m.\u001b[0m\u001b[32m.\u001b[0m\u001b[32m.\u001b[0m\u001b[32m.\u001b[0m\u001b[36m                                                    [100%]\u001b[0m\n",
      "\n",
      "\u001b[32m\u001b[1m========================== 4 passed in 166.90 seconds ==========================\u001b[0m\n"
     ]
    }
   ],
   "source": [
    "import pytest\n",
    "\n",
    "!python -m pytest --doctest-modules test_automata.py"
   ]
  },
  {
   "cell_type": "code",
   "execution_count": 5,
   "metadata": {},
   "outputs": [
    {
     "name": "stdout",
     "output_type": "stream",
     "text": [
      "************* Module automata\n",
      "automata.py:48:0: R0914: Too many local variables (17/15) (too-many-locals)\n",
      "automata.py:68:4: R1702: Too many nested blocks (6/5) (too-many-nested-blocks)\n",
      "automata.py:102:4: R1702: Too many nested blocks (6/5) (too-many-nested-blocks)\n",
      "automata.py:48:0: R0912: Too many branches (20/12) (too-many-branches)\n",
      "automata.py:135:0: R0914: Too many local variables (21/15) (too-many-locals)\n",
      "automata.py:153:4: R1702: Too many nested blocks (6/5) (too-many-nested-blocks)\n",
      "automata.py:153:4: R1702: Too many nested blocks (6/5) (too-many-nested-blocks)\n",
      "automata.py:135:0: R0912: Too many branches (24/12) (too-many-branches)\n",
      "automata.py:135:0: R0915: Too many statements (57/50) (too-many-statements)\n",
      "\n",
      "------------------------------------------------------------------\n",
      "Your code has been rated at 9.47/10 (previous run: 9.47/10, +0.00)\n",
      "\n"
     ]
    }
   ],
   "source": [
    "import automata\n",
    "\n",
    "!pylint automata.py"
   ]
  },
  {
   "cell_type": "code",
   "execution_count": 6,
   "metadata": {},
   "outputs": [
    {
     "name": "stdout",
     "output_type": "stream",
     "text": [
      "\n",
      "--------------------------------------------------------------------\n",
      "Your code has been rated at 10.00/10 (previous run: 10.00/10, +0.00)\n",
      "\n"
     ]
    }
   ],
   "source": [
    "!pylint test_automata.py"
   ]
  },
  {
   "cell_type": "code",
   "execution_count": null,
   "metadata": {},
   "outputs": [],
   "source": []
  }
 ],
 "metadata": {
  "kernelspec": {
   "display_name": "Python 3",
   "language": "python",
   "name": "python3"
  },
  "language_info": {
   "codemirror_mode": {
    "name": "ipython",
    "version": 3
   },
   "file_extension": ".py",
   "mimetype": "text/x-python",
   "name": "python",
   "nbconvert_exporter": "python",
   "pygments_lexer": "ipython3",
   "version": "3.7.3"
  }
 },
 "nbformat": 4,
 "nbformat_minor": 4
}
