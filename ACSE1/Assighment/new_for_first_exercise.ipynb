{
 "cells": [
  {
   "cell_type": "code",
   "execution_count": 9,
   "metadata": {},
   "outputs": [],
   "source": [
    "import numpy as np\n",
    "def Abl(field):\n",
    "    while np.max(field) >= 4:\n",
    "        # find the highest pile\n",
    "        toohigh = field >= 4\n",
    "\n",
    "        # decrease piles\n",
    "        field[toohigh] -= 4\n",
    "    \n",
    "        # increase piles\n",
    "        field[1:,:][toohigh[:-1,:]] += 1\n",
    "        field[:-1,:][toohigh[1:,:]] += 1\n",
    "        field[:,1:][toohigh[:,:-1]] += 1\n",
    "        field[:,:-1][toohigh[:,1:]] += 1\n",
    "\n",
    "        # reset the overspill\n",
    "        field[0,:] = 0\n",
    "        field[-1:,:] = 0\n",
    "        field[:,0] = 0\n",
    "        field[:,-1] = 0\n",
    "\n",
    "    \n",
    "    \n",
    "    return field\n",
    "    "
   ]
  },
  {
   "cell_type": "code",
   "execution_count": null,
   "metadata": {},
   "outputs": [],
   "source": [
    "#old method for solve problem\n",
    "def sandpile(initial_state)\n",
    "    matrix = initial_state\n",
    "    length = matrix.shape[0]\n",
    "    matrix_tem = np.zeros((length+2, length+2))\n",
    "\n",
    "    for i in range(length):\n",
    "        for j in range(length):\n",
    "            matrix_tem[i+1][j+1] = matrix[i][j]\n",
    "\n",
    "    matrix = matrix_tem\n",
    "    length = matrix.shape[0]\n",
    "\n",
    "    while matrix[1:-1, 1:-1].max() >= 4:\n",
    "        for i in range(1, length - 1):\n",
    "            for j in range(1, length - 1):\n",
    "                if matrix[i][j] >= 4:\n",
    "                    matrix[i][j] -= 4\n",
    "                    matrix[i + 1][j] += 1\n",
    "                    matrix[i][j + 1] += 1\n",
    "                    matrix[i - 1][j] += 1\n",
    "                    matrix[i][j - 1] += 1\n",
    "\n",
    "    matrix = matrix[1:-1, 1:-1]\n",
    "    return matrix\n"
   ]
  },
  {
   "cell_type": "code",
   "execution_count": 11,
   "metadata": {},
   "outputs": [],
   "source": [
    "def sandpile(initial_state):\n",
    "    \"\"\"\n",
    "    Generate final state for Abelian Sandpile.\n",
    "    Parameters\n",
    "    ----------\n",
    "    initial_state : array_like or list of lists\n",
    "        Initial 2d state of grid in an array of integers.\n",
    "    Returns\n",
    "    -------\n",
    "    numpy.ndarray\n",
    "         Final state of grid in array of integers.\n",
    "    \"\"\"\n",
    "    \n",
    "    matrix = initial_state\n",
    "    ilen = matrix.shape[0]\n",
    "    jlen = matrix.shape[1]\n",
    "    matrix_tem = np.zeros((ilen+2, jlen+2))\n",
    "\n",
    "    for i in range(ilen):\n",
    "        for j in range(jlen):\n",
    "            matrix_tem[i+1][j+1] = matrix[i][j]\n",
    "            \n",
    "    matrix = matrix_tem\n",
    "\n",
    "    while matrix[1:-1, 1:-1].max() >= 4:\n",
    "        boolhigh = matrix >= 4\n",
    "        matrix[boolhigh] -= 4\n",
    "        \n",
    "        matrix[:-1,:][boolhigh[1:,:]] += 1\n",
    "        matrix[1:,:][boolhigh[:-1,:]] += 1\n",
    "        matrix[:,:-1][boolhigh[:,1:]] += 1\n",
    "        matrix[:,1:][boolhigh[:,:-1]] += 1\n",
    "        \n",
    "        matrix[0, :] = 0\n",
    "        matrix[:, -1] = 0\n",
    "        matrix[-1, :] = 0\n",
    "        matrix[:, 0] = 0\n",
    "        \n",
    "    return matrix[1:-1, 1:-1]\n",
    "    "
   ]
  },
  {
   "cell_type": "code",
   "execution_count": 12,
   "metadata": {},
   "outputs": [
    {
     "ename": "KeyboardInterrupt",
     "evalue": "",
     "output_type": "error",
     "traceback": [
      "\u001b[0;31m---------------------------------------------------------------------------\u001b[0m",
      "\u001b[0;31mKeyboardInterrupt\u001b[0m                         Traceback (most recent call last)",
      "\u001b[0;32m<ipython-input-12-af8210840f7f>\u001b[0m in \u001b[0;36m<module>\u001b[0;34m\u001b[0m\n\u001b[1;32m      1\u001b[0m \u001b[0;31m# Generate random initial state.\u001b[0m\u001b[0;34m\u001b[0m\u001b[0;34m\u001b[0m\u001b[0;34m\u001b[0m\u001b[0m\n\u001b[1;32m      2\u001b[0m \u001b[0mX\u001b[0m \u001b[0;34m=\u001b[0m \u001b[0mnp\u001b[0m\u001b[0;34m.\u001b[0m\u001b[0mrandom\u001b[0m\u001b[0;34m.\u001b[0m\u001b[0mrandint\u001b[0m\u001b[0;34m(\u001b[0m\u001b[0;36m0\u001b[0m\u001b[0;34m,\u001b[0m \u001b[0;36m6\u001b[0m\u001b[0;34m,\u001b[0m \u001b[0;34m(\u001b[0m\u001b[0;36m1024\u001b[0m\u001b[0;34m,\u001b[0m \u001b[0;36m1024\u001b[0m\u001b[0;34m)\u001b[0m\u001b[0;34m)\u001b[0m \u001b[0;31m# call module.\u001b[0m\u001b[0;34m\u001b[0m\u001b[0;34m\u001b[0m\u001b[0m\n\u001b[0;32m----> 3\u001b[0;31m \u001b[0mZ\u001b[0m \u001b[0;34m=\u001b[0m \u001b[0msandpile\u001b[0m\u001b[0;34m(\u001b[0m\u001b[0mX\u001b[0m\u001b[0;34m)\u001b[0m\u001b[0;34m\u001b[0m\u001b[0;34m\u001b[0m\u001b[0m\n\u001b[0m\u001b[1;32m      4\u001b[0m \u001b[0mX\u001b[0m\u001b[0;34m\u001b[0m\u001b[0;34m\u001b[0m\u001b[0m\n",
      "\u001b[0;32m<ipython-input-11-d2b8f8c205d7>\u001b[0m in \u001b[0;36msandpile\u001b[0;34m(initial_state)\u001b[0m\n\u001b[1;32m     27\u001b[0m         \u001b[0mmatrix\u001b[0m\u001b[0;34m[\u001b[0m\u001b[0mboolhigh\u001b[0m\u001b[0;34m]\u001b[0m \u001b[0;34m-=\u001b[0m \u001b[0;36m4\u001b[0m\u001b[0;34m\u001b[0m\u001b[0;34m\u001b[0m\u001b[0m\n\u001b[1;32m     28\u001b[0m \u001b[0;34m\u001b[0m\u001b[0m\n\u001b[0;32m---> 29\u001b[0;31m         \u001b[0mmatrix\u001b[0m\u001b[0;34m[\u001b[0m\u001b[0;34m:\u001b[0m\u001b[0;34m-\u001b[0m\u001b[0;36m1\u001b[0m\u001b[0;34m,\u001b[0m\u001b[0;34m:\u001b[0m\u001b[0;34m]\u001b[0m\u001b[0;34m[\u001b[0m\u001b[0mboolhigh\u001b[0m\u001b[0;34m[\u001b[0m\u001b[0;36m1\u001b[0m\u001b[0;34m:\u001b[0m\u001b[0;34m,\u001b[0m\u001b[0;34m:\u001b[0m\u001b[0;34m]\u001b[0m\u001b[0;34m]\u001b[0m \u001b[0;34m+=\u001b[0m \u001b[0;36m1\u001b[0m\u001b[0;34m\u001b[0m\u001b[0;34m\u001b[0m\u001b[0m\n\u001b[0m\u001b[1;32m     30\u001b[0m         \u001b[0mmatrix\u001b[0m\u001b[0;34m[\u001b[0m\u001b[0;36m1\u001b[0m\u001b[0;34m:\u001b[0m\u001b[0;34m,\u001b[0m\u001b[0;34m:\u001b[0m\u001b[0;34m]\u001b[0m\u001b[0;34m[\u001b[0m\u001b[0mboolhigh\u001b[0m\u001b[0;34m[\u001b[0m\u001b[0;34m:\u001b[0m\u001b[0;34m-\u001b[0m\u001b[0;36m1\u001b[0m\u001b[0;34m,\u001b[0m\u001b[0;34m:\u001b[0m\u001b[0;34m]\u001b[0m\u001b[0;34m]\u001b[0m \u001b[0;34m+=\u001b[0m \u001b[0;36m1\u001b[0m\u001b[0;34m\u001b[0m\u001b[0;34m\u001b[0m\u001b[0m\n\u001b[1;32m     31\u001b[0m         \u001b[0mmatrix\u001b[0m\u001b[0;34m[\u001b[0m\u001b[0;34m:\u001b[0m\u001b[0;34m,\u001b[0m\u001b[0;34m:\u001b[0m\u001b[0;34m-\u001b[0m\u001b[0;36m1\u001b[0m\u001b[0;34m]\u001b[0m\u001b[0;34m[\u001b[0m\u001b[0mboolhigh\u001b[0m\u001b[0;34m[\u001b[0m\u001b[0;34m:\u001b[0m\u001b[0;34m,\u001b[0m\u001b[0;36m1\u001b[0m\u001b[0;34m:\u001b[0m\u001b[0;34m]\u001b[0m\u001b[0;34m]\u001b[0m \u001b[0;34m+=\u001b[0m \u001b[0;36m1\u001b[0m\u001b[0;34m\u001b[0m\u001b[0;34m\u001b[0m\u001b[0m\n",
      "\u001b[0;31mKeyboardInterrupt\u001b[0m: "
     ]
    }
   ],
   "source": [
    "# Generate random initial state.\n",
    "X = np.random.randint(0, 6, (1024, 1024)) # call module.\n",
    "Z = sandpile(X)\n",
    "X"
   ]
  },
  {
   "cell_type": "code",
   "execution_count": 6,
   "metadata": {},
   "outputs": [],
   "source": [
    "import numpy as np\n",
    "\n",
    "def sandpile(initial_state):\n",
    "    \"\"\"\n",
    "    Generate final state for Abelian Sandpile.\n",
    "    Parameters\n",
    "    ----------\n",
    "    initial_state : array_like or list of lists\n",
    "        Initial 2d state of grid in an array of integers.\n",
    "    Returns\n",
    "    -------\n",
    "    numpy.ndarray\n",
    "         Final state of grid in array of integers.\n",
    "    \"\"\"\n",
    "    \n",
    "    matrix = initial_state\n",
    "    ilen = matrix.shape[0]\n",
    "    jlen = matrix.shape[1]\n",
    "    matrix_tem = np.zeros((ilen+2, jlen+2))\n",
    "\n",
    "    for i in range(ilen):\n",
    "        for j in range(jlen):\n",
    "            matrix_tem[i+1][j+1] = matrix[i][j]\n",
    "            \n",
    "    matrix = matrix_tem\n",
    "\n",
    "    while matrix[1:-1, 1:-1].max() >= 4:\n",
    "        boolhigh = matrix >= 4\n",
    "        print(boolhigh)\n",
    "        matrix[boolhigh] -= 4\n",
    "        \n",
    "        matrix[:-1,:][boolhigh[1:,:]] += 1\n",
    "        matrix[1:,:][boolhigh[:-1,:]] += 1\n",
    "        matrix[:,:-1][boolhigh[:,1:]] += 1\n",
    "        matrix[:,1:][boolhigh[:,:-1]] += 1\n",
    "        \n",
    "    return matrix[1:-1, 1:-1]\n",
    "   "
   ]
  },
  {
   "cell_type": "code",
   "execution_count": 7,
   "metadata": {},
   "outputs": [
    {
     "name": "stdout",
     "output_type": "stream",
     "text": [
      "[[False False False False False False]\n",
      " [False False False False False False]\n",
      " [False  True False False False False]\n",
      " [False False False False  True False]\n",
      " [False False  True False False False]\n",
      " [False False False False False False]]\n",
      "[[False False False False False False]\n",
      " [False  True False False False False]\n",
      " [False False  True False False False]\n",
      " [False False False  True False False]\n",
      " [False False False False False False]\n",
      " [False False False False False False]]\n",
      "[[False False False False False False]\n",
      " [False False False False False False]\n",
      " [False False False  True False False]\n",
      " [False False  True False False False]\n",
      " [False False False  True False False]\n",
      " [False False False False False False]]\n"
     ]
    }
   ],
   "source": [
    "X = np.random.randint(0, 6, (4, 4)) # call module.\n",
    "Z = sandpile(X)"
   ]
  },
  {
   "cell_type": "code",
   "execution_count": 8,
   "metadata": {},
   "outputs": [
    {
     "data": {
      "text/plain": [
       "array([[0., 2., 1., 1.],\n",
       "       [3., 2., 0., 3.],\n",
       "       [3., 0., 3., 1.],\n",
       "       [2., 2., 0., 3.]])"
      ]
     },
     "execution_count": 8,
     "metadata": {},
     "output_type": "execute_result"
    }
   ],
   "source": [
    "Z"
   ]
  },
  {
   "cell_type": "code",
   "execution_count": null,
   "metadata": {},
   "outputs": [],
   "source": []
  }
 ],
 "metadata": {
  "kernelspec": {
   "display_name": "Python 3",
   "language": "python",
   "name": "python3"
  },
  "language_info": {
   "codemirror_mode": {
    "name": "ipython",
    "version": 3
   },
   "file_extension": ".py",
   "mimetype": "text/x-python",
   "name": "python",
   "nbconvert_exporter": "python",
   "pygments_lexer": "ipython3",
   "version": "3.7.3"
  }
 },
 "nbformat": 4,
 "nbformat_minor": 4
}
