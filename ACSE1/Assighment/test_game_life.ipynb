{
 "cells": [
  {
   "cell_type": "code",
   "execution_count": 3,
   "metadata": {},
   "outputs": [
    {
     "name": "stdout",
     "output_type": "stream",
     "text": [
      "\u001b[1m============================= test session starts ==============================\u001b[0m\n",
      "platform darwin -- Python 3.7.3, pytest-5.0.1, py-1.8.0, pluggy-0.12.0\n",
      "rootdir: /Users/xiexun/OneDrive - Imperial College London/ACSE/ACSE-1/lectures/Assighment\n",
      "plugins: openfiles-0.3.2, arraydiff-0.3, doctestplus-0.3.0, remotedata-0.3.1\n",
      "collected 4 items                                                              \u001b[0m\n",
      "\n",
      "test_automata.py \u001b[32m.\u001b[0m\u001b[32m.\u001b[0m\u001b[32m.\u001b[0m\u001b[31mF\u001b[0m\u001b[36m                                                    [100%]\u001b[0m\n",
      "\n",
      "=================================== FAILURES ===================================\n",
      "\u001b[31m\u001b[1m_________________________________ test_lifegen _________________________________\u001b[0m\n",
      "\n",
      "\u001b[1m    def test_lifegen():\u001b[0m\n",
      "\u001b[1m        '''\u001b[0m\n",
      "\u001b[1m        function for test for game of life in generic condition\u001b[0m\n",
      "\u001b[1m        '''\u001b[0m\n",
      "\u001b[1m        # example from life Figure 3\u001b[0m\n",
      "\u001b[1m        lis = [0 for i in range(25)]\u001b[0m\n",
      "\u001b[1m        lis[11] = lis[12] = lis[13] = 1\u001b[0m\n",
      "\u001b[1m        init = np.array(lis)\u001b[0m\n",
      "\u001b[1m    \u001b[0m\n",
      "\u001b[1m        lis2 = [0 for i in range(25)]\u001b[0m\n",
      "\u001b[1m        lis2[7] = lis2[12] = lis2[17] = 1\u001b[0m\n",
      "\u001b[1m        final = np.array(lis2)\u001b[0m\n",
      "\u001b[1m    \u001b[0m\n",
      "\u001b[1m        enviroment = {2, 3}\u001b[0m\n",
      "\u001b[1m        fertility = {3}\u001b[0m\n",
      "\u001b[1m    \u001b[0m\n",
      "\u001b[1m        matrix = np.zeros((25, 25))\u001b[0m\n",
      "\u001b[1m        for i in range(25):\u001b[0m\n",
      "\u001b[1m            matrix[i][i] = 1\u001b[0m\n",
      "\u001b[1m    \u001b[0m\n",
      "\u001b[1m        for i in range(25):\u001b[0m\n",
      "\u001b[1m            for j in range(25):\u001b[0m\n",
      "\u001b[1m                diff = i - j\u001b[0m\n",
      "\u001b[1m                if diff in {-1, 1, -5, 5, -6, 6, -4, 4}:\u001b[0m\n",
      "\u001b[1m                    matrix[i][j] = 1\u001b[0m\n",
      "\u001b[1m        #print(matrix)\u001b[0m\n",
      "\u001b[1m        # print(init)\u001b[0m\n",
      "\u001b[1m    \u001b[0m\n",
      "\u001b[1m        print(automata.life_generic(matrix, init, 1, enviroment, fertility))\u001b[0m\n",
      "\u001b[1m        final = final == 1\u001b[0m\n",
      "\u001b[1m        print(final)\u001b[0m\n",
      "\u001b[1m>       assert (automata.life_generic(matrix, init, 1, enviroment, fertility) == final).all()\u001b[0m\n",
      "\u001b[1m\u001b[31mE       assert False\u001b[0m\n",
      "\u001b[1m\u001b[31mE        +  where False = <built-in method all of numpy.ndarray object at 0x11dfb4df0>()\u001b[0m\n",
      "\u001b[1m\u001b[31mE        +    where <built-in method all of numpy.ndarray object at 0x11dfb4df0> = array([False,...False, False]) == array([False, ...False, False])\u001b[0m\n",
      "\u001b[1m\u001b[31mE             Use -v to get the full diff.all\u001b[0m\n",
      "\n",
      "\u001b[1m\u001b[31mtest_automata.py\u001b[0m:126: AssertionError\n",
      "----------------------------- Captured stdout call -----------------------------\n",
      "[False False False False False False False  True False False False  True\n",
      "  True  True False False False  True False False False False False False\n",
      " False]\n",
      "[False False False False False False False  True False False False False\n",
      "  True False False False False  True False False False False False False\n",
      " False]\n",
      "\u001b[33m=============================== warnings summary ===============================\u001b[0m\n",
      "/Users/xiexun/anaconda3/lib/python3.7/site-packages/parso/python/tree.py:46\n",
      "  /Users/xiexun/anaconda3/lib/python3.7/site-packages/parso/python/tree.py:46: DeprecationWarning: Using or importing the ABCs from 'collections' instead of from 'collections.abc' is deprecated, and in 3.8 it will stop working\n",
      "    from collections import Mapping\n",
      "\n",
      "-- Docs: https://docs.pytest.org/en/latest/warnings.html\n",
      "\u001b[31m\u001b[1m================ 1 failed, 3 passed, 1 warnings in 1.84 seconds ================\u001b[0m\n"
     ]
    }
   ],
   "source": [
    "import pytest\n",
    "\n",
    "!python -m pytest --doctest-modules test_automata.py "
   ]
  },
  {
   "cell_type": "code",
   "execution_count": 3,
   "metadata": {},
   "outputs": [
    {
     "name": "stdout",
     "output_type": "stream",
     "text": [
      "[[2 2 1 3 1 2 3 2 1 0 5 3 3 2]\n",
      " [5 2 0 1 2 5 0 4 1 0 3 3 2 0]\n",
      " [2 5 2 2 1 2 5 4 2 5 4 3 4 0]\n",
      " [1 0 3 1 4 1 1 0 5 0 0 1 3 1]\n",
      " [5 0 4 0 2 1 1 3 3 3 4 3 5 5]\n",
      " [5 5 3 4 4 1 4 4 1 4 2 3 3 2]\n",
      " [4 4 2 4 0 2 1 5 0 1 0 0 1 4]\n",
      " [5 2 2 4 0 0 2 1 2 2 3 2 1 1]\n",
      " [5 4 2 1 2 0 3 3 0 1 4 1 3 3]\n",
      " [2 4 4 4 0 2 5 0 0 3 3 5 0 2]\n",
      " [0 0 0 1 1 1 4 4 1 1 5 2 1 5]\n",
      " [0 0 2 1 5 1 2 4 1 1 2 2 1 1]\n",
      " [1 5 4 2 3 4 1 1 4 5 5 5 2 5]\n",
      " [2 2 3 5 3 2 2 3 4 1 3 2 0 5]]\n",
      "5\n",
      "[[0. 0. 0. 0. 0. 0. 0. 0. 0. 0. 0. 0. 0. 0. 0. 0. 0. 0.]\n",
      " [0. 5. 4. 4. 4. 5. 5. 1. 1. 3. 2. 2. 3. 2. 4. 3. 0. 0.]\n",
      " [0. 5. 2. 2. 1. 3. 1. 2. 3. 2. 1. 0. 5. 3. 3. 2. 1. 0.]\n",
      " [0. 2. 5. 2. 0. 1. 2. 5. 0. 4. 1. 0. 3. 3. 2. 0. 4. 0.]\n",
      " [0. 5. 2. 5. 2. 2. 1. 2. 5. 4. 2. 5. 4. 3. 4. 0. 5. 0.]\n",
      " [0. 1. 1. 0. 3. 1. 4. 1. 1. 0. 5. 0. 0. 1. 3. 1. 5. 0.]\n",
      " [0. 4. 5. 0. 4. 0. 2. 1. 1. 3. 3. 3. 4. 3. 5. 5. 5. 0.]\n",
      " [0. 4. 5. 5. 3. 4. 4. 1. 4. 4. 1. 4. 2. 3. 3. 2. 5. 0.]\n",
      " [0. 5. 4. 4. 2. 4. 0. 2. 1. 5. 0. 1. 0. 0. 1. 4. 4. 0.]\n",
      " [0. 4. 5. 2. 2. 4. 0. 0. 2. 1. 2. 2. 3. 2. 1. 1. 2. 0.]\n",
      " [0. 1. 5. 4. 2. 1. 2. 0. 3. 3. 0. 1. 4. 1. 3. 3. 5. 0.]\n",
      " [0. 5. 2. 4. 4. 4. 0. 2. 5. 0. 0. 3. 3. 5. 0. 2. 1. 0.]\n",
      " [0. 2. 0. 0. 0. 1. 1. 1. 4. 4. 1. 1. 5. 2. 1. 5. 3. 0.]\n",
      " [0. 2. 0. 0. 2. 1. 5. 1. 2. 4. 1. 1. 2. 2. 1. 1. 5. 0.]\n",
      " [0. 1. 1. 5. 4. 2. 3. 4. 1. 1. 4. 5. 5. 5. 2. 5. 3. 0.]\n",
      " [0. 3. 2. 2. 3. 5. 3. 2. 2. 3. 4. 1. 3. 2. 0. 5. 3. 0.]\n",
      " [0. 5. 3. 0. 4. 4. 5. 1. 1. 3. 3. 2. 5. 5. 3. 5. 5. 0.]\n",
      " [0. 0. 0. 0. 0. 0. 0. 0. 0. 0. 0. 0. 0. 0. 0. 0. 0. 0.]]\n"
     ]
    }
   ],
   "source": [
    "import numpy\n",
    "import automata\n",
    "# Generate random initial state.\n",
    "X = numpy.random.randint(0, 6, (16, 16)) # call module.\n",
    "print(X[1:-1,1:-1])\n",
    "print(X.max())\n",
    "Z = automata.sandpile(X)"
   ]
  },
  {
   "cell_type": "code",
   "execution_count": null,
   "metadata": {},
   "outputs": [],
   "source": [
    "import numpy as np\n",
    "x = np.zeros((5,5))\n",
    "x[2][1] = 1\n",
    "x[2][2] = 1\n",
    "x[2][3] = 1\n",
    "print(x)\n",
    "\n",
    "'''\n",
    "print(x.sum())\n",
    "sum = x.sum()\n",
    "x = x.astype(int)\n",
    "print(x)\n",
    "if sum == 3:\n",
    "  \n",
    "    x[0,0] = 1\n",
    "print(x)\n",
    "'''\n",
    "\n",
    "import automata\n",
    "out = automata.life(x,1, False)\n",
    "type(out)\n",
    "print(out)"
   ]
  },
  {
   "cell_type": "code",
   "execution_count": null,
   "metadata": {},
   "outputs": [],
   "source": [
    "for i in range(1):\n",
    "    print('a')"
   ]
  },
  {
   "cell_type": "code",
   "execution_count": null,
   "metadata": {},
   "outputs": [],
   "source": [
    "x"
   ]
  },
  {
   "cell_type": "code",
   "execution_count": null,
   "metadata": {},
   "outputs": [],
   "source": [
    "x[0:3,1:4].sum() == 3"
   ]
  },
  {
   "cell_type": "code",
   "execution_count": null,
   "metadata": {},
   "outputs": [],
   "source": [
    "x[1][2]=1"
   ]
  },
  {
   "cell_type": "code",
   "execution_count": null,
   "metadata": {},
   "outputs": [],
   "source": [
    "x"
   ]
  },
  {
   "cell_type": "code",
   "execution_count": null,
   "metadata": {},
   "outputs": [],
   "source": []
  },
  {
   "cell_type": "code",
   "execution_count": null,
   "metadata": {},
   "outputs": [],
   "source": []
  },
  {
   "cell_type": "code",
   "execution_count": null,
   "metadata": {},
   "outputs": [],
   "source": []
  },
  {
   "cell_type": "code",
   "execution_count": 21,
   "metadata": {},
   "outputs": [
    {
     "name": "stdout",
     "output_type": "stream",
     "text": [
      "[[0. 0. 0. 0. 0.]\n",
      " [0. 1. 1. 1. 0.]\n",
      " [0. 0. 0. 1. 0.]\n",
      " [0. 0. 1. 0. 0.]\n",
      " [0. 0. 0. 0. 0.]]\n",
      "[[0. 0. 1. 1. 1.]\n",
      " [0. 0. 0. 0. 1.]\n",
      " [0. 0. 0. 1. 0.]\n",
      " [0. 0. 0. 0. 0.]\n",
      " [0. 0. 0. 0. 0.]]\n",
      "[[0 0 1 1 1]\n",
      " [0 0 0 0 1]\n",
      " [0 0 0 1 0]\n",
      " [0 0 0 0 0]\n",
      " [0 0 0 0 0]]\n",
      "True\n",
      "[[False False  True  True  True]\n",
      " [False False False False  True]\n",
      " [False False False  True False]\n",
      " [False False False False False]\n",
      " [False False False False False]]\n"
     ]
    },
    {
     "data": {
      "text/plain": [
       "'\\na = automata.life(init_mat, 1)\\n#final_mat = final_mat == 1\\n#print(a)\\n#print(final_mat)\\n#(a == final_mat).all()\\n\\nb = automata.life(init_mat2, 4, True)\\nfinal_mat2 = final_mat2 == 1\\nprint(b)\\nprint(init_mat2)\\nprint(final_mat2)\\n(b == final_mat2).all()\\n'"
      ]
     },
     "execution_count": 21,
     "metadata": {},
     "output_type": "execute_result"
    }
   ],
   "source": [
    "import automata\n",
    "import numpy as np\n",
    "'''\n",
    "init_mat = np.zeros((5,5))\n",
    "init_mat[2,1:4] = 1\n",
    "\n",
    "final_mat = np.zeros((5,5))\n",
    "final_mat[1:4,2] = 1\n",
    "print(init_mat)\n",
    "print(final_mat)\n",
    "init_mat = init_mat == 1\n",
    "print(init_mat)\n",
    "init_mat = init_mat.astype(int)\n",
    "print(init_mat)\n",
    "'''\n",
    "init_mat2 = np.zeros((5,5))\n",
    "init_mat2[1,1:4] = 1\n",
    "init_mat2[2][3] = 1\n",
    "init_mat2[3][2] = 1\n",
    "\n",
    "final_mat2 = np.zeros((5,5))\n",
    "final_mat2[0,2:] = 1\n",
    "final_mat2[1][-1] = 1\n",
    "final_mat2[2][-2] = 1\n",
    "print(init_mat2)\n",
    "print(final_mat2)\n",
    "b = automata.life(init_mat2, 4, True)\n",
    "print(b.astype(int))\n",
    "print((b.astype(int) == final_mat2).all())\n",
    "print(automata.life(init_mat2, 4, True))\n",
    "'''\n",
    "a = automata.life(init_mat, 1)\n",
    "#final_mat = final_mat == 1\n",
    "#print(a)\n",
    "#print(final_mat)\n",
    "#(a == final_mat).all()\n",
    "\n",
    "b = automata.life(init_mat2, 4, True)\n",
    "final_mat2 = final_mat2 == 1\n",
    "print(b)\n",
    "print(init_mat2)\n",
    "print(final_mat2)\n",
    "(b == final_mat2).all()\n",
    "'''"
   ]
  },
  {
   "cell_type": "code",
   "execution_count": 3,
   "metadata": {},
   "outputs": [
    {
     "data": {
      "text/plain": [
       "True"
      ]
     },
     "execution_count": 3,
     "metadata": {},
     "output_type": "execute_result"
    }
   ],
   "source": [
    "(a == final_mat).all()"
   ]
  },
  {
   "cell_type": "code",
   "execution_count": null,
   "metadata": {},
   "outputs": [],
   "source": []
  }
 ],
 "metadata": {
  "kernelspec": {
   "display_name": "Python 3",
   "language": "python",
   "name": "python3"
  },
  "language_info": {
   "codemirror_mode": {
    "name": "ipython",
    "version": 3
   },
   "file_extension": ".py",
   "mimetype": "text/x-python",
   "name": "python",
   "nbconvert_exporter": "python",
   "pygments_lexer": "ipython3",
   "version": "3.7.3"
  }
 },
 "nbformat": 4,
 "nbformat_minor": 4
}
