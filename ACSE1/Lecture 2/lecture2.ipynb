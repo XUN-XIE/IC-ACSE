{
 "cells": [
  {
   "cell_type": "code",
   "execution_count": 101,
   "metadata": {},
   "outputs": [],
   "source": [
    "from lecture import *"
   ]
  },
  {
   "cell_type": "markdown",
   "metadata": {
    "nbpresent": {
     "id": "82db8e87-ce21-4456-a53a-3f54a2fee020"
    },
    "slideshow": {
     "slide_type": "slide"
    }
   },
   "source": [
    "# Introduction to programming in Python\n",
    "\n",
    "# Lecture 2"
   ]
  },
  {
   "cell_type": "markdown",
   "metadata": {
    "nbpresent": {
     "id": "c9ae4148-a67c-4845-91ec-d17016071d1f"
    },
    "slideshow": {
     "slide_type": "slide"
    }
   },
   "source": [
    "Learning objectives:\n",
    "\n",
    "* Know how to modify elements in a list.\n",
    "* Be able iterate through different combinations of lists.\n",
    "* Know how to use a *tuple* to store data elements and understand how it differs from a *list*.\n",
    "* Know the difference between a locally-scoped and globally-scoped variables.\n",
    "* Be able to use an *if* statement to execute some code blocks conditionally.\n",
    "* Learn how to compute using [Numerical Python (*NumPy*)](http://www.numpy.org/).\n",
    "* Know how to handle multidimensional arrays."
   ]
  },
  {
   "cell_type": "markdown",
   "metadata": {
    "nbpresent": {
     "id": "f2af93fa-2e4b-46f7-b762-cf6df11749f8"
    },
    "slideshow": {
     "slide_type": "slide"
    }
   },
   "source": [
    "# Changing elements in a list\n",
    "Say we want to add $2$ to all the numbers in a list:"
   ]
  },
  {
   "cell_type": "code",
   "execution_count": 102,
   "metadata": {
    "nbpresent": {
     "id": "4f4e8e71-aebe-4191-9f6f-f456945d3e9f"
    },
    "slideshow": {
     "slide_type": "fragment"
    }
   },
   "outputs": [
    {
     "name": "stdout",
     "output_type": "stream",
     "text": [
      "[-1, 1, 10]\n"
     ]
    }
   ],
   "source": [
    "v = [-1, 1, 10]\n",
    "for e in v:\n",
    "    e=e+2\n",
    "print(v)"
   ]
  },
  {
   "cell_type": "markdown",
   "metadata": {
    "nbpresent": {
     "id": "1e66489c-88c3-4112-b9d1-37eb8b1970a3"
    },
    "slideshow": {
     "slide_type": "subslide"
    }
   },
   "source": [
    "We can see that the list *v* is unaltered! The reason for this is that inside the loop, *e* is an ordinary (int) variable. At the start of the iteration *e* is assigned a *copy* of the next element in the list. Inside the loop we can change *e* but *v* itself is unaltered. If we want to change *v* we have to use an index to access and modify its elements:"
   ]
  },
  {
   "cell_type": "code",
   "execution_count": 103,
   "metadata": {
    "nbpresent": {
     "id": "06618fed-61ff-443d-b1f2-0777a4719338"
    },
    "slideshow": {
     "slide_type": "fragment"
    }
   },
   "outputs": [
    {
     "name": "stdout",
     "output_type": "stream",
     "text": [
      "[-1, 4, 10]\n"
     ]
    }
   ],
   "source": [
    "v[1] = 4 # assign 4 to 2nd element (index 1) in v\n",
    "print(v)"
   ]
  },
  {
   "cell_type": "markdown",
   "metadata": {
    "nbpresent": {
     "id": "7ede01a3-9bb3-4a8a-9aa0-a31f76e8b424"
    },
    "slideshow": {
     "slide_type": "subslide"
    }
   },
   "source": [
    "To add 2 to all values we need a *for* loop over indices:"
   ]
  },
  {
   "cell_type": "code",
   "execution_count": 104,
   "metadata": {
    "nbpresent": {
     "id": "0358d409-1512-43e9-a94b-147ca8d61701"
    },
    "slideshow": {
     "slide_type": "fragment"
    }
   },
   "outputs": [
    {
     "name": "stdout",
     "output_type": "stream",
     "text": [
      "[1, 6, 12]\n"
     ]
    }
   ],
   "source": [
    "for i in range(len(v)):\n",
    "    v[i] = v[i] + 2\n",
    "print(v)"
   ]
  },
  {
   "cell_type": "markdown",
   "metadata": {
    "nbpresent": {
     "id": "e6d3aa98-dde7-4c7e-ae3d-a077d553fb3d"
    }
   },
   "source": [
    "## Exercise 2.1: Create a list and modify it.\n",
    "* Create a list of all integers in the range -10 to 10 (call the list *vector* for testing purposes).\n",
    "* Write a loop to multiple each element of the list by 2."
   ]
  },
  {
   "cell_type": "code",
   "execution_count": 105,
   "metadata": {
    "nbpresent": {
     "id": "8183a872-d8d8-4a55-a14e-fd98afa3ecfc"
    }
   },
   "outputs": [
    {
     "name": "stdout",
     "output_type": "stream",
     "text": [
      "[-20, -18, -16, -14, -12, -10, -8, -6, -4, -2, 0, 2, 4, 6, 8, 10, 12, 14, 16, 18, 20]\n"
     ]
    }
   ],
   "source": [
    "vector = [i for i in range(-10,11)]\n",
    "for i in range(len(vector)):\n",
    "    vector[i] *= 2\n",
    "print(vector)"
   ]
  },
  {
   "cell_type": "code",
   "execution_count": 106,
   "metadata": {
    "nbpresent": {
     "id": "1d0a4d7c-b292-486a-b84e-61c3a65b5c4e"
    }
   },
   "outputs": [
    {
     "name": "stdout",
     "output_type": "stream",
     "text": [
      "~~~~~~~~~~~~~~~~~~~~~~~~~~~~~~~~~~~~~~~~~~~~~~~~~~~~~~~~~~~~~~~~~~~~~\n",
      "Running tests\n",
      "\n",
      "---------------------------------------------------------------------\n",
      "Test summary\n",
      "    Passed: 2\n",
      "    Failed: 0\n",
      "[ooooooooook] 100.0% passed\n",
      "\n"
     ]
    },
    {
     "data": {
      "text/plain": [
       "{'passed': 2, 'failed': 0, 'locked': 0}"
      ]
     },
     "execution_count": 106,
     "metadata": {},
     "output_type": "execute_result"
    }
   ],
   "source": [
    "ok.grade('question-2_1')"
   ]
  },
  {
   "cell_type": "markdown",
   "metadata": {
    "nbpresent": {
     "id": "19cc8075-dfee-473f-912e-ec504dcde2f0"
    },
    "slideshow": {
     "slide_type": "slide"
    }
   },
   "source": [
    "## Traversing multiple lists simultaneously - *zip(list1, list2, ...)*\n",
    "Consider how we can loop over elements in both Cdegrees and Fdegrees at the same time. One approach would be to use list indices:"
   ]
  },
  {
   "cell_type": "code",
   "execution_count": 107,
   "metadata": {
    "nbpresent": {
     "id": "6c699b8c-adcb-4a73-a1fa-b3c9bd61e2d6"
    },
    "slideshow": {
     "slide_type": "fragment"
    }
   },
   "outputs": [
    {
     "name": "stdout",
     "output_type": "stream",
     "text": [
      "-20 -4.0\n",
      "-15 5.0\n",
      "-10 14.0\n",
      "-5 23.0\n",
      "0 32.0\n",
      "5 41.0\n",
      "10 50.0\n",
      "15 59.0\n",
      "20 68.0\n",
      "25 77.0\n",
      "30 86.0\n",
      "35 95.0\n",
      "40 104.0\n"
     ]
    }
   ],
   "source": [
    "# First we have to recreate the data from the previous lecture\n",
    "Cdegrees = [deg for deg in range(-20, 41, 5)]\n",
    "Fdegrees = [(9/5)*deg + 32 for deg in Cdegrees]\n",
    "\n",
    "for i in range(len(Cdegrees)):\n",
    "    print(Cdegrees[i], Fdegrees[i])"
   ]
  },
  {
   "cell_type": "markdown",
   "metadata": {
    "nbpresent": {
     "id": "f3a61755-9040-4250-bddf-09ba66d940ad"
    },
    "slideshow": {
     "slide_type": "subslide"
    }
   },
   "source": [
    "An alternative construct (regarded as more ”Pythonic”) uses the *zip* function:"
   ]
  },
  {
   "cell_type": "code",
   "execution_count": 108,
   "metadata": {
    "nbpresent": {
     "id": "a3b3c9c8-b797-4bcb-8af0-301a0c2e81c1"
    },
    "slideshow": {
     "slide_type": "fragment"
    }
   },
   "outputs": [
    {
     "name": "stdout",
     "output_type": "stream",
     "text": [
      "-20 -4.0\n",
      "-15 5.0\n",
      "-10 14.0\n",
      "-5 23.0\n",
      "0 32.0\n",
      "5 41.0\n",
      "10 50.0\n",
      "15 59.0\n",
      "20 68.0\n",
      "25 77.0\n",
      "30 86.0\n",
      "35 95.0\n",
      "40 104.0\n"
     ]
    }
   ],
   "source": [
    "for C, F in zip(Cdegrees, Fdegrees):\n",
    "    print(C, F)"
   ]
  },
  {
   "cell_type": "markdown",
   "metadata": {
    "nbpresent": {
     "id": "c38f5999-bdd5-4eba-b8b7-036d6883f1ff"
    },
    "slideshow": {
     "slide_type": "subslide"
    }
   },
   "source": [
    "Another example with three lists:"
   ]
  },
  {
   "cell_type": "code",
   "execution_count": 109,
   "metadata": {
    "nbpresent": {
     "id": "dfad409b-2ca3-4c4c-9578-4a3dfb1f1949"
    },
    "slideshow": {
     "slide_type": "fragment"
    }
   },
   "outputs": [
    {
     "name": "stdout",
     "output_type": "stream",
     "text": [
      "3 1.5 9.1\n",
      "6 1 3\n",
      "1 0 2\n"
     ]
    }
   ],
   "source": [
    "l1 = [3, 6, 1]; l2 = [1.5, 1, 0]; l3 = [9.1, 3, 2]\n",
    "for e1, e2, e3 in zip(l1, l2, l3):\n",
    "    print(e1, e2, e3)"
   ]
  },
  {
   "cell_type": "markdown",
   "metadata": {
    "nbpresent": {
     "id": "87213cfd-ba47-4fab-88e8-917cd5c5f183"
    },
    "slideshow": {
     "slide_type": "subslide"
    }
   },
   "source": [
    "If the lists are of unequal length then the loop stops when the end of the shortest list is reached. Experiment with this:"
   ]
  },
  {
   "cell_type": "code",
   "execution_count": 110,
   "metadata": {
    "nbpresent": {
     "id": "720d5ba3-4001-4abe-8956-a125c1f35845"
    },
    "slideshow": {
     "slide_type": "fragment"
    }
   },
   "outputs": [
    {
     "name": "stdout",
     "output_type": "stream",
     "text": [
      "3 1.5 9.1\n",
      "6 1 3\n",
      "1 0 2\n",
      "4 7 0\n"
     ]
    }
   ],
   "source": [
    "l1 = [3, 6, 1, 4, 6]; l2 = [1.5, 1, 0, 7]; l3 = [9.1, 3, 2, 0, 9]\n",
    "for e1, e2, e3 in zip(l1, l2, l3):\n",
    "    print(e1, e2, e3)"
   ]
  },
  {
   "cell_type": "markdown",
   "metadata": {
    "nbpresent": {
     "id": "8ab146b4-7ec7-45b3-88a4-49860f5b6cc6"
    },
    "slideshow": {
     "slide_type": "slide"
    }
   },
   "source": [
    "## Nested lists: list of lists\n",
    "A *list* can contain **any** object, including another *list*. To illustrate this, consider how to store the conversion table as a single Python list rather than two separate lists."
   ]
  },
  {
   "cell_type": "code",
   "execution_count": 111,
   "metadata": {
    "nbpresent": {
     "id": "a6fcd4d1-9f61-4b3b-8ec3-12843952ec20"
    },
    "slideshow": {
     "slide_type": "fragment"
    }
   },
   "outputs": [
    {
     "name": "stdout",
     "output_type": "stream",
     "text": [
      "table1 =  [range(-20, 41, 5), [-4.0, 5.0, 14.0, 23.0, 32.0, 41.0, 50.0, 59.0, 68.0, 77.0, 86.0, 95.0, 104.0]]\n",
      "table1[0] =  range(-20, 41, 5)\n",
      "table1[1] =  [-4.0, 5.0, 14.0, 23.0, 32.0, 41.0, 50.0, 59.0, 68.0, 77.0, 86.0, 95.0, 104.0]\n",
      "table1[1][3] =  23.0\n"
     ]
    }
   ],
   "source": [
    "Cdegrees = range(-20, 41, 5)\n",
    "Fdegrees = [(9.0/5)*C + 32 for C in Cdegrees]\n",
    "table1 = [Cdegrees, Fdegrees]  # List of two lists\n",
    "print(\"table1 = \", table1)\n",
    "print(\"table1[0] = \", table1[0])\n",
    "print(\"table1[1] = \", table1[1])\n",
    "print(\"table1[1][3] = \", table1[1][3])"
   ]
  },
  {
   "cell_type": "markdown",
   "metadata": {
    "nbpresent": {
     "id": "89a35110-151d-4836-8dde-76da53991134"
    },
    "slideshow": {
     "slide_type": "subslide"
    }
   },
   "source": [
    "This gives us a table of two rows. How do we create a table of columns instead:"
   ]
  },
  {
   "cell_type": "code",
   "execution_count": 112,
   "metadata": {
    "nbpresent": {
     "id": "950a8775-cf1b-4b7b-a571-b79406b0f1e5"
    },
    "slideshow": {
     "slide_type": "fragment"
    }
   },
   "outputs": [
    {
     "name": "stdout",
     "output_type": "stream",
     "text": [
      "[[-20, -4.0], [-15, 5.0], [-10, 14.0], [-5, 23.0], [0, 32.0], [5, 41.0], [10, 50.0], [15, 59.0], [20, 68.0], [25, 77.0], [30, 86.0], [35, 95.0], [40, 104.0]]\n"
     ]
    }
   ],
   "source": [
    "table2 = []\n",
    "for C, F in zip(Cdegrees, Fdegrees):\n",
    "    row = [C, F]\n",
    "    table2.append(row)\n",
    "print(table2)"
   ]
  },
  {
   "cell_type": "markdown",
   "metadata": {
    "nbpresent": {
     "id": "51044f5c-75c9-4bdc-be04-0c8953317416"
    },
    "slideshow": {
     "slide_type": "subslide"
    }
   },
   "source": [
    "We can use list comprehension to do this more elegantly:"
   ]
  },
  {
   "cell_type": "code",
   "execution_count": 113,
   "metadata": {
    "nbpresent": {
     "id": "c747c897-af59-46a2-b52f-de9dcd1b7762"
    },
    "slideshow": {
     "slide_type": "fragment"
    }
   },
   "outputs": [
    {
     "name": "stdout",
     "output_type": "stream",
     "text": [
      "[[-20, -4.0], [-15, 5.0], [-10, 14.0], [-5, 23.0], [0, 32.0], [5, 41.0], [10, 50.0], [15, 59.0], [20, 68.0], [25, 77.0], [30, 86.0], [35, 95.0], [40, 104.0]]\n"
     ]
    }
   ],
   "source": [
    "table2 = [[C, F] for C, F in zip(Cdegrees, Fdegrees)]\n",
    "print(table2)"
   ]
  },
  {
   "cell_type": "markdown",
   "metadata": {
    "nbpresent": {
     "id": "b7dd1233-53f8-43ed-ba94-fbca4f4def19"
    },
    "slideshow": {
     "slide_type": "subslide"
    }
   },
   "source": [
    "And you can loop through this list as before:"
   ]
  },
  {
   "cell_type": "code",
   "execution_count": 114,
   "metadata": {
    "nbpresent": {
     "id": "3eeeb7bf-67f7-49bc-88a3-11ccff9a3a6d"
    },
    "slideshow": {
     "slide_type": "fragment"
    }
   },
   "outputs": [
    {
     "name": "stdout",
     "output_type": "stream",
     "text": [
      "-20 -4.0\n",
      "-15 5.0\n",
      "-10 14.0\n",
      "-5 23.0\n",
      "0 32.0\n",
      "5 41.0\n",
      "10 50.0\n",
      "15 59.0\n",
      "20 68.0\n",
      "25 77.0\n",
      "30 86.0\n",
      "35 95.0\n",
      "40 104.0\n"
     ]
    }
   ],
   "source": [
    "for C, F in table2:\n",
    "    print(C, F)"
   ]
  },
  {
   "cell_type": "markdown",
   "metadata": {
    "nbpresent": {
     "id": "0fc837cc-fdec-435c-8ccf-a22a7a743a0d"
    },
    "slideshow": {
     "slide_type": "slide"
    }
   },
   "source": [
    "## Tuples: lists that cannot be changed\n",
    "Tuples are **constant** lists, i.e. you can use them in much the same way as lists except you cannot modify them. They are an example of an [**immutable**](http://en.wikipedia.org/wiki/Immutable_object) type."
   ]
  },
  {
   "cell_type": "code",
   "execution_count": 115,
   "metadata": {
    "nbpresent": {
     "id": "0095674c-61c3-4972-a8dd-47a223010482"
    },
    "slideshow": {
     "slide_type": "fragment"
    }
   },
   "outputs": [],
   "source": [
    "t = (2, 4, 6, 'temp.pdf')               # Define a tuple.\n",
    "t =  2, 4, 6, 'temp.pdf'                # Can skip parenthesis as it is assumed in this context."
   ]
  },
  {
   "cell_type": "markdown",
   "metadata": {
    "nbpresent": {
     "id": "032624f9-fdc9-488f-881c-9a1329ca393c"
    },
    "slideshow": {
     "slide_type": "subslide"
    }
   },
   "source": [
    "Let's see what happens when we try to modify the tuple like we did with a list:"
   ]
  },
  {
   "cell_type": "markdown",
   "metadata": {
    "nbpresent": {
     "id": "56f3d86e-714a-4475-8540-605cf08aadcd"
    },
    "slideshow": {
     "slide_type": "fragment"
    }
   },
   "source": [
    "```python\n",
    "t[1] = -1\n",
    "\n",
    "---------------------------------------------------------------------------\n",
    "TypeError                                 Traceback (most recent call last)\n",
    "<ipython-input-3-593c03edf054> in <module>()\n",
    "----> 1 t[1] = -1\n",
    "\n",
    "TypeError: 'tuple' object does not support item assignment```"
   ]
  },
  {
   "cell_type": "markdown",
   "metadata": {
    "nbpresent": {
     "id": "dfdb2267-7c95-466a-8bc4-9ebddd4bfd23"
    },
    "slideshow": {
     "slide_type": "subslide"
    }
   },
   "source": [
    "```python\n",
    "t.append(0)\n",
    "\n",
    "---------------------------------------------------------------------------\n",
    "AttributeError                            Traceback (most recent call last)\n",
    "<ipython-input-19-78592bf72d62> in <module>()\n",
    "----> 1 t.append(0)\n",
    "\n",
    "AttributeError: 'tuple' object has no attribute 'append'```"
   ]
  },
  {
   "cell_type": "markdown",
   "metadata": {
    "nbpresent": {
     "id": "58223f11-d1d1-4857-850b-8d0749d15fc9"
    },
    "slideshow": {
     "slide_type": "subslide"
    }
   },
   "source": [
    "```python\n",
    "del t[1]\n",
    "\n",
    "---------------------------------------------------------------------------\n",
    "TypeError                                 Traceback (most recent call last)\n",
    "<ipython-input-20-0193a527a912> in <module>()\n",
    "----> 1 del t[1]\n",
    "\n",
    "TypeError: 'tuple' object doesn't support item deletion```"
   ]
  },
  {
   "cell_type": "markdown",
   "metadata": {
    "nbpresent": {
     "id": "6786d3d8-b078-416b-9ea0-4da6945520bd"
    },
    "slideshow": {
     "slide_type": "subslide"
    }
   },
   "source": [
    "However, we can use the tuple to compose a new tuple:"
   ]
  },
  {
   "cell_type": "code",
   "execution_count": 116,
   "metadata": {
    "nbpresent": {
     "id": "a1b2cfa3-a234-4439-bd21-d717ff867609"
    },
    "slideshow": {
     "slide_type": "fragment"
    }
   },
   "outputs": [
    {
     "name": "stdout",
     "output_type": "stream",
     "text": [
      "(2, 4, 6, 'temp.pdf', -1.0, -2.0)\n"
     ]
    }
   ],
   "source": [
    "t = t + (-1.0, -2.0)\n",
    "print(t)"
   ]
  },
  {
   "cell_type": "markdown",
   "metadata": {
    "nbpresent": {
     "id": "fde43ef7-d6f0-4e00-93c6-0d1df9df3854"
    },
    "slideshow": {
     "slide_type": "subslide"
    }
   },
   "source": [
    "So, why would we use tuples when lists have more functionality?\n",
    "\n",
    "* Tuples are constant and thus protected against accidental changes.\n",
    "* Tuples are faster than lists.\n",
    "* Tuples are widely used in Python software (so you need to know about tuples to understand other people's code!)\n",
    "* Tuples (but not lists) can be used as keys in dictionaries (more about dictionaries later)."
   ]
  },
  {
   "cell_type": "markdown",
   "metadata": {
    "nbpresent": {
     "id": "490e889a-3913-458b-8370-2fb16070b37d"
    },
    "slideshow": {
     "slide_type": "slide"
    }
   },
   "source": [
    "## Exercise 2.2: Make a table (a list of lists) of function values\n",
    "* Write a loop that evaluates the expression $y(t) = v_0 t − 0.5gt^2$ for 11 evenly spaced values ranging from 0, to $2v_0/g$ (remember that dividing a range into n intervals results in n+1 values!) You can assume that $v_0 = 1$, $g=9.81 ms^{-2}$.\n",
    "* Store the time values and displacement ($y$) values as a nested list, i.e.\n",
    "```python\n",
    "tlist = [t0, t1, t2, ...]\n",
    "ylist = [y0, y1, y2, ...]\n",
    "displacement = [tlist, ylist]\n",
    "```\n",
    "* Use the variable names tlist, ylist and displacement as illustrated above example for testing purposes."
   ]
  },
  {
   "cell_type": "code",
   "execution_count": 117,
   "metadata": {
    "nbpresent": {
     "id": "270a3317-0720-4cb3-8a81-083445ec3330"
    },
    "slideshow": {
     "slide_type": "subslide"
    }
   },
   "outputs": [],
   "source": [
    "v0 = 1\n",
    "g = 9.81\n",
    "\n",
    "step = 2*v0/g/10\n",
    "tlist = [i*step for i in range(11)]\n",
    "ylist = [v0*t-0.5*g*t**2 for t in tlist]\n",
    "displacement = [tlist, ylist]"
   ]
  },
  {
   "cell_type": "code",
   "execution_count": 118,
   "metadata": {
    "nbpresent": {
     "id": "4a1ad97a-50a1-4a52-83ea-a240da7bce2c"
    }
   },
   "outputs": [
    {
     "name": "stdout",
     "output_type": "stream",
     "text": [
      "~~~~~~~~~~~~~~~~~~~~~~~~~~~~~~~~~~~~~~~~~~~~~~~~~~~~~~~~~~~~~~~~~~~~~\n",
      "Running tests\n",
      "\n",
      "---------------------------------------------------------------------\n",
      "Test summary\n",
      "    Passed: 9\n",
      "    Failed: 0\n",
      "[ooooooooook] 100.0% passed\n",
      "\n"
     ]
    },
    {
     "data": {
      "text/plain": [
       "{'passed': 9, 'failed': 0, 'locked': 0}"
      ]
     },
     "execution_count": 118,
     "metadata": {},
     "output_type": "execute_result"
    }
   ],
   "source": [
    "ok.grade('question-2_2')"
   ]
  },
  {
   "cell_type": "markdown",
   "metadata": {
    "nbpresent": {
     "id": "e5c7ed02-153d-409a-a595-93528696a35e"
    },
    "slideshow": {
     "slide_type": "slide"
    }
   },
   "source": [
    "## The *if* construct\n",
    "Consider this simple example:"
   ]
  },
  {
   "cell_type": "code",
   "execution_count": 119,
   "metadata": {
    "nbpresent": {
     "id": "b3ce7c44-884a-4602-94b1-e647ddf5ac88"
    },
    "slideshow": {
     "slide_type": "fragment"
    }
   },
   "outputs": [
    {
     "name": "stdout",
     "output_type": "stream",
     "text": [
      "0 1.0 0\n"
     ]
    }
   ],
   "source": [
    "from math import sin, pi\n",
    "\n",
    "def f(x):\n",
    "    if 0 <= x <= pi:\n",
    "        return sin(x)\n",
    "    else:\n",
    "        return 0\n",
    "print(f(-pi/2), f(pi/2), f(3*pi/2))"
   ]
  },
  {
   "cell_type": "markdown",
   "metadata": {
    "nbpresent": {
     "id": "3abe0d4c-8b40-4710-8198-c60707fe67a5"
    },
    "slideshow": {
     "slide_type": "subslide"
    }
   },
   "source": [
    "Sometimes it is clearer to write this as an *inline* statement:"
   ]
  },
  {
   "cell_type": "code",
   "execution_count": 120,
   "metadata": {
    "nbpresent": {
     "id": "1f47e475-25a2-4a5b-89dd-7f66d2f4b30f"
    },
    "slideshow": {
     "slide_type": "fragment"
    }
   },
   "outputs": [
    {
     "name": "stdout",
     "output_type": "stream",
     "text": [
      "0 1.0 0\n"
     ]
    }
   ],
   "source": [
    "def f(x):\n",
    "    return (sin(x) if 0 <= x <= pi else 0)\n",
    "print(f(-pi/2), f(pi/2), f(3*pi/2))"
   ]
  },
  {
   "cell_type": "markdown",
   "metadata": {
    "nbpresent": {
     "id": "8f2b5db4-b6d4-460e-a902-a8cbc99fef87"
    },
    "slideshow": {
     "slide_type": "subslide"
    }
   },
   "source": [
    "In general (the *else* block can be skipped if there are no statements to be executed when False) we can put together multiple conditions. Only the first condition that is True is executed.\n",
    "\n",
    "```\n",
    "if condition1:\n",
    "    <block of statements, executed if condition1 is True>\n",
    "elif condition2:\n",
    "    <block of statements>\n",
    "elif condition3:\n",
    "    <block of statements>\n",
    "else:\n",
    "    <block of statements>\n",
    "    \n",
    "<next statement of the program>\n",
    "```"
   ]
  },
  {
   "cell_type": "markdown",
   "metadata": {
    "nbpresent": {
     "id": "27c74d2e-711a-4130-85e1-a16a5983c101"
    },
    "slideshow": {
     "slide_type": "slide"
    }
   },
   "source": [
    "## Exercise 2.3: Express a step function as a Python function\n",
    "The following \"step\" function is known as the Heaviside function and\n",
    "is widely used in mathematics:\n",
    "$$H(x)=\\begin{cases}0, & \\text{if $x<0$}.\\\\\\\\\n",
    "1, & \\text{if $x\\ge 0$}.\\end{cases}$$\n",
    "Write a Python function heaviside(x) that computes H(x)."
   ]
  },
  {
   "cell_type": "code",
   "execution_count": 121,
   "metadata": {
    "nbpresent": {
     "id": "110a818c-1c96-43cb-811b-47340d649582"
    },
    "slideshow": {
     "slide_type": "subslide"
    }
   },
   "outputs": [],
   "source": [
    "def heaviside(x):\n",
    "    return 0 if x < 0 else 1"
   ]
  },
  {
   "cell_type": "code",
   "execution_count": 122,
   "metadata": {
    "nbpresent": {
     "id": "176d53da-c726-4205-bf4a-1c50f7f24111"
    }
   },
   "outputs": [
    {
     "name": "stdout",
     "output_type": "stream",
     "text": [
      "~~~~~~~~~~~~~~~~~~~~~~~~~~~~~~~~~~~~~~~~~~~~~~~~~~~~~~~~~~~~~~~~~~~~~\n",
      "Running tests\n",
      "\n",
      "---------------------------------------------------------------------\n",
      "Test summary\n",
      "    Passed: 5\n",
      "    Failed: 0\n",
      "[ooooooooook] 100.0% passed\n",
      "\n"
     ]
    },
    {
     "data": {
      "text/plain": [
       "{'passed': 5, 'failed': 0, 'locked': 0}"
      ]
     },
     "execution_count": 122,
     "metadata": {},
     "output_type": "execute_result"
    }
   ],
   "source": [
    "ok.grade('question-2_3')"
   ]
  },
  {
   "cell_type": "markdown",
   "metadata": {},
   "source": [
    "## Exercise 2.4: Implement the factorial function\n",
    "\n",
    "The factorial of $n$, written as $n!$, is defined as\n",
    "\n",
    "$$n! = n(n − 1)(n − 2) \\cdots 2 \\cdot 1,$$\n",
    "\n",
    "with the special cases\n",
    "\n",
    "$$1! = 1,$$ $$0! = 1.$$\n",
    "\n",
    "For example, $4! = 4 \\cdot 3 \\cdot 2 \\cdot 1 = 24$, and $2! = 2 \\cdot 1 = 2$.\n",
    "\n",
    "Implement your own factorial function to calculate $n!$. Return 1 immediately if $n$ is 1 or 0, otherwise use a loop to compute $n!$. You can use Pythons own [math.factorial(x)](https://docs.python.org/3/library/math.html) to check your code."
   ]
  },
  {
   "cell_type": "code",
   "execution_count": 123,
   "metadata": {},
   "outputs": [],
   "source": [
    "# Uncomment and complete this code - keep the names the same for testing purposes. \n",
    "\n",
    "def my_factorial(n):\n",
    "    if n == 0:\n",
    "        return 1\n",
    "    return n * my_factorial(n-1)"
   ]
  },
  {
   "cell_type": "code",
   "execution_count": 124,
   "metadata": {},
   "outputs": [
    {
     "name": "stdout",
     "output_type": "stream",
     "text": [
      "~~~~~~~~~~~~~~~~~~~~~~~~~~~~~~~~~~~~~~~~~~~~~~~~~~~~~~~~~~~~~~~~~~~~~\n",
      "Running tests\n",
      "\n",
      "---------------------------------------------------------------------\n",
      "Test summary\n",
      "    Passed: 5\n",
      "    Failed: 0\n",
      "[ooooooooook] 100.0% passed\n",
      "\n"
     ]
    },
    {
     "data": {
      "text/plain": [
       "{'passed': 5, 'failed': 0, 'locked': 0}"
      ]
     },
     "execution_count": 124,
     "metadata": {},
     "output_type": "execute_result"
    }
   ],
   "source": [
    "ok.grade('question-2_4')"
   ]
  },
  {
   "cell_type": "markdown",
   "metadata": {},
   "source": [
    "## Exercise 2.5: Compute the length of a path\n",
    "\n",
    "Some object is moving along a path in the plane. At $n$ points of time we have recorded the corresponding $(x, y)$ positions of the object:\n",
    "$(x_0, y_0), (x_1, y_1), \\ldots, (x_{n-1}, y_{n-1})$. The total length $L$ of the path from $(x_0, y_0)$ to $(x_{n-1}, y_{n-1})$ is the sum of all the individual line segments $(x_{i-1}, y_{i-1})$ to $(x_i, y_i)$, $i = 1, \\ldots, n-1$:\n",
    "\n",
    "$$L = \\sum_{i=1}^{n-1}{\\sqrt{(x_i - x_{i-1})^2 + (y_i - y_{i-1})^2}}.$$\n",
    "\n",
    "Create a function *pathlength(x, y)* for computing $L$ according to the formula. The arguments $x$ and $y$ are two lists that hold all the $x_0, \\ldots, x_{n-1}$ and $y_0, \\ldots, y_{n-1}$ coordinates, respectively. Test the function on a triangular path with the four points (1, 1), (2, 1), (1, 2), and (1, 1)."
   ]
  },
  {
   "cell_type": "code",
   "execution_count": 125,
   "metadata": {},
   "outputs": [],
   "source": [
    "# Uncomment and complete this code - keep the names the same for testing purposes. \n",
    "import math\n",
    "\n",
    "def path_length(x, y):\n",
    "    \n",
    "    suml = 0\n",
    "    for i in range(1, len(x)):\n",
    "        element1 = x[i] - x[i-1]\n",
    "        element2 = y[i] - y[i-1]\n",
    "        suml += math.sqrt(element1**2 + element2**2)\n",
    "        \n",
    "    return suml"
   ]
  },
  {
   "cell_type": "code",
   "execution_count": 126,
   "metadata": {},
   "outputs": [
    {
     "name": "stdout",
     "output_type": "stream",
     "text": [
      "~~~~~~~~~~~~~~~~~~~~~~~~~~~~~~~~~~~~~~~~~~~~~~~~~~~~~~~~~~~~~~~~~~~~~\n",
      "Running tests\n",
      "\n",
      "---------------------------------------------------------------------\n",
      "Test summary\n",
      "    Passed: 4\n",
      "    Failed: 0\n",
      "[ooooooooook] 100.0% passed\n",
      "\n"
     ]
    },
    {
     "data": {
      "text/plain": [
       "{'passed': 4, 'failed': 0, 'locked': 0}"
      ]
     },
     "execution_count": 126,
     "metadata": {},
     "output_type": "execute_result"
    }
   ],
   "source": [
    "ok.grade('question-2_5')"
   ]
  },
  {
   "cell_type": "markdown",
   "metadata": {},
   "source": [
    "## Exercise 2.6: Approximate $\\pi$\n",
    "\n",
    "As you know the circumference of a circle is given by $2 \\pi r$ where $r$ is the radius of the cirlce.  $\\pi$ is therefore the circumference of a circle with $r= \\frac{1}{2}$.\n",
    "\n",
    "We can approximate this circumference by a many-sided polygon through points on the circle. The sum of the lengths of the sides of the polygon will approximate the circumference.\n",
    "\n",
    "Firstly compute $n+1$ points around a circle according to the formulae:\n",
    "\n",
    "$ x_i = \\frac{1}{2} \\cos(\\frac{2 \\pi i}{n}),   y_i = \\frac{1}{2} \\sin(\\frac{2 \\pi i}{n}),   i = 0 \\cdots n$\n",
    "\n",
    "Then use your `path_length` function from the previous question to approximate $\\pi$.  Name your function for estimating $\\pi$ `approx_pi` for testing purposes."
   ]
  },
  {
   "cell_type": "code",
   "execution_count": 127,
   "metadata": {},
   "outputs": [],
   "source": [
    "# Uncomment and complete this code - keep the names the same for testing purposes. \n",
    "import math\n",
    "\n",
    "def approx_pi(n):\n",
    "    x = [0.5*math.cos(2*math.pi*i/n) for i in range(n+1)]\n",
    "    y = [0.5*math.sin(2*math.pi*i/n) for i in range(n+1)]\n",
    "    \n",
    "    return path_length(x, y)\n",
    "    \n",
    "    "
   ]
  },
  {
   "cell_type": "code",
   "execution_count": 128,
   "metadata": {},
   "outputs": [
    {
     "name": "stdout",
     "output_type": "stream",
     "text": [
      "~~~~~~~~~~~~~~~~~~~~~~~~~~~~~~~~~~~~~~~~~~~~~~~~~~~~~~~~~~~~~~~~~~~~~\n",
      "Running tests\n",
      "\n",
      "---------------------------------------------------------------------\n",
      "Test summary\n",
      "    Passed: 2\n",
      "    Failed: 0\n",
      "[ooooooooook] 100.0% passed\n",
      "\n"
     ]
    },
    {
     "data": {
      "text/plain": [
       "{'passed': 2, 'failed': 0, 'locked': 0}"
      ]
     },
     "execution_count": 128,
     "metadata": {},
     "output_type": "execute_result"
    }
   ],
   "source": [
    "ok.grade('question-2_6')"
   ]
  },
  {
   "cell_type": "markdown",
   "metadata": {},
   "source": [
    "## Exercise 2.7: Make a list of prime numbers\n",
    "\n",
    "Define a function called `prime_list` that lists all the prime numbers up to a given $n$.  \n",
    "\n",
    "Save all the prime numbers up to $100$ in a list called `myprimes`.\n",
    "\n",
    "Hint: google the Sieve of Eratosthenes.\n"
   ]
  },
  {
   "cell_type": "code",
   "execution_count": 129,
   "metadata": {},
   "outputs": [],
   "source": [
    "# Uncomment and complete this code - keep the names the same for testing purposes. \n",
    "\n",
    "def remove_com(integer, minimal):\n",
    "    for num in integer:\n",
    "        if num == minimal:\n",
    "            pass\n",
    "            \n",
    "        else:\n",
    "            if num % minimal == 0:\n",
    "                integer.remove(num)\n",
    "                \n",
    "    return integer\n",
    "\n",
    "def prime_list(n):\n",
    "    integer = [i for i in range(1,n+1)]\n",
    "    integer.remove(1)\n",
    "    \n",
    "\n",
    "    index = 0\n",
    "    while index < len(integer):\n",
    "        minimal = integer[index]\n",
    "        integer = remove_com(integer, minimal)\n",
    "        index += 1\n",
    "    \n",
    "    return integer\n",
    "        \n",
    "    \n",
    "\n",
    "\n",
    "myprimes = prime_list(100)"
   ]
  },
  {
   "cell_type": "code",
   "execution_count": 130,
   "metadata": {},
   "outputs": [
    {
     "name": "stdout",
     "output_type": "stream",
     "text": [
      "~~~~~~~~~~~~~~~~~~~~~~~~~~~~~~~~~~~~~~~~~~~~~~~~~~~~~~~~~~~~~~~~~~~~~\n",
      "Running tests\n",
      "\n",
      "---------------------------------------------------------------------\n",
      "Test summary\n",
      "    Passed: 2\n",
      "    Failed: 0\n",
      "[ooooooooook] 100.0% passed\n",
      "\n"
     ]
    },
    {
     "data": {
      "text/plain": [
       "{'passed': 2, 'failed': 0, 'locked': 0}"
      ]
     },
     "execution_count": 130,
     "metadata": {},
     "output_type": "execute_result"
    }
   ],
   "source": [
    "ok.grade('question-2_7')"
   ]
  },
  {
   "cell_type": "markdown",
   "metadata": {
    "slideshow": {
     "slide_type": "slide"
    }
   },
   "source": []
  },
  {
   "cell_type": "markdown",
   "metadata": {
    "slideshow": {
     "slide_type": "slide"
    }
   },
   "source": [
    "## Vectors and arrays\n",
    "\n",
    "You have known **vectors** since high school mathematics, *e.g.*, point $(x,y)$ in the plane, point $(x,y,z)$ in space. In general, we can describe a vector $v$ as an $n$-tuple of numbers: $v=(v_0,\\ldots,v_{n-1})$. One way to store vectors in Python is by using *lists*: $v_i$ is stored as *v[i]*."
   ]
  },
  {
   "cell_type": "markdown",
   "metadata": {
    "slideshow": {
     "slide_type": "subslide"
    }
   },
   "source": [
    "**Arrays** are a generalization of vectors where we can have multiple indices: $A_{i,j}$, $A_{i,j,k}$. In Python code this is represented as a nested list (see previous lecture), accessed as *A[i][j]*, *A[i][j][k]*.\n",
    "\n",
    "Example: table of numbers, one index for the row, one for the column\n",
    "$$\n",
    "\\left\\lbrack\\begin{array}{cccc}\n",
    "0 & 12 & -1 & 5q\n",
    "-1 & -1 & -1 & 0\\cr\n",
    "11 & 5 & 5 & -2\n",
    "\\end{array}\\right\\rbrack\n",
    "\\hspace{1cm}\n",
    "A =\n",
    "\\left\\lbrack\\begin{array}{ccc}\n",
    "A_{0,0} & \\cdots &  A_{0,n-1}\\cr\n",
    "\\vdots & \\ddots &  \\vdots\\cr\n",
    "A_{m-1,0} & \\cdots & A_{m-1,n-1}\n",
    "\\end{array}\\right\\rbrack\n",
    "$$\n",
    "The number of indices in an array is the *rank* or *number of dimensions*. Using these terms, a vector can be described as a one-dimensional array, or rank 1 array."
   ]
  },
  {
   "cell_type": "markdown",
   "metadata": {
    "slideshow": {
     "slide_type": "subslide"
    }
   },
   "source": [
    "In practice, we use [Numerical Python (*NumPy*)](http://www.numpy.org/) arrays instead of lists to represent mathematical arrays because it is **much** faster for large arrays.\n",
    "\n",
    "Let's consider an example where we store $(x,y)$ points along a curve in Python lists and numpy arrays:"
   ]
  },
  {
   "cell_type": "code",
   "execution_count": 131,
   "metadata": {
    "slideshow": {
     "slide_type": "subslide"
    }
   },
   "outputs": [],
   "source": [
    "# Sample function\n",
    "def f(x):\n",
    "    return x**3\n",
    "\n",
    "# Generate n points in [0,1]\n",
    "n = 5\n",
    "dx = 1.0/(n-1) # x spacing\n",
    "\n",
    "X = [i*dx for i in range(n)] # Python lists\n",
    "Y = [f(x) for x in X]\n",
    "\n",
    "# Turn these Python lists into Numerical Python (NumPy) arrays:\n",
    "import numpy as np\n",
    "x2 = np.array(X)\n",
    "y2 = np.array(Y)"
   ]
  },
  {
   "cell_type": "markdown",
   "metadata": {
    "slideshow": {
     "slide_type": "subslide"
    }
   },
   "source": [
    "Instead of first making lists with $x$ and $y = f (x)$ data, and then turning lists into arrays, we can make NumPy arrays\n",
    "directly:"
   ]
  },
  {
   "cell_type": "code",
   "execution_count": 132,
   "metadata": {
    "slideshow": {
     "slide_type": "fragment"
    }
   },
   "outputs": [],
   "source": [
    "n = 5                     # number of points\n",
    "x2 = np.linspace(0, 1, n)    # generates n points between 0 and 1\n",
    "y2 = np.zeros(n)             # n zeros (float data type by default)\n",
    "for i in range(n):     \n",
    "    y2[i] = f(x2[i])"
   ]
  },
  {
   "cell_type": "markdown",
   "metadata": {
    "slideshow": {
     "slide_type": "subslide"
    }
   },
   "source": [
    "List comprehensions create lists, not arrays, but we can do:"
   ]
  },
  {
   "cell_type": "code",
   "execution_count": 133,
   "metadata": {
    "slideshow": {
     "slide_type": "fragment"
    }
   },
   "outputs": [],
   "source": [
    "y2 = np.array([f(xi) for xi in x2]) # list -> array"
   ]
  },
  {
   "cell_type": "markdown",
   "metadata": {
    "slideshow": {
     "slide_type": "slide"
    }
   },
   "source": [
    "### When and where to use NumPy arrays\n",
    "\n",
    "* Python lists can hold any sequence of any Python objects, however, NumPy arrays can only hold objects of the same type.\n",
    "* Arrays are most efficient when the elements are of basic number types (*float*, *int*, *complex*).\n",
    "* In that case, arrays are stored efficiently in the computer's memory and we can compute very efficiently with the array elements.\n",
    "* Mathematical operations on whole arrays can be done without loops in Python. For example,"
   ]
  },
  {
   "cell_type": "code",
   "execution_count": 134,
   "metadata": {
    "slideshow": {
     "slide_type": "subslide"
    }
   },
   "outputs": [],
   "source": [
    "import math\n",
    "\n",
    "x = np.linspace(0, 2, 10001)\n",
    "y = np.zeros(10001)\n",
    "for i in range(len(x)):\n",
    "    y[i] = math.sin(x[i])"
   ]
  },
  {
   "cell_type": "markdown",
   "metadata": {
    "slideshow": {
     "slide_type": "fragment"
    }
   },
   "source": [
    "can be coded as"
   ]
  },
  {
   "cell_type": "code",
   "execution_count": 135,
   "metadata": {
    "slideshow": {
     "slide_type": "fragment"
    }
   },
   "outputs": [],
   "source": [
    "y = np.sin(x)"
   ]
  },
  {
   "cell_type": "markdown",
   "metadata": {
    "slideshow": {
     "slide_type": "subslide"
    }
   },
   "source": [
    "In the latter case the loop over all elements is now performed in a very efficient C function.\n",
    "\n",
    "Operations on whole arrays, instead of using Python *for*-loops, is called vectorization and is a very **convenient**, **efficient** and therefore important programming technique to master."
   ]
  },
  {
   "cell_type": "markdown",
   "metadata": {
    "slideshow": {
     "slide_type": "subslide"
    }
   },
   "source": [
    "Let's consider a simple vectorisation example: a loop to compute $x$ coordinates (*x2*) and $y=f(x)$ coordinates (*y2*) along a function curve:"
   ]
  },
  {
   "cell_type": "code",
   "execution_count": 136,
   "metadata": {
    "slideshow": {
     "slide_type": "fragment"
    }
   },
   "outputs": [],
   "source": [
    "x2 = np.linspace(0, 1, n)\n",
    "y2 = np.zeros(n)\n",
    "for i in range(n):\n",
    "    y2[i] = f(x2[i])"
   ]
  },
  {
   "cell_type": "markdown",
   "metadata": {
    "slideshow": {
     "slide_type": "fragment"
    }
   },
   "source": [
    "This computation can be replaced by:"
   ]
  },
  {
   "cell_type": "code",
   "execution_count": 137,
   "metadata": {
    "slideshow": {
     "slide_type": "fragment"
    }
   },
   "outputs": [],
   "source": [
    "x2 = np.linspace(0, 1, n)\n",
    "y2 = f(x2)"
   ]
  },
  {
   "cell_type": "markdown",
   "metadata": {
    "slideshow": {
     "slide_type": "subslide"
    }
   },
   "source": [
    "The advantage of this approach is:\n",
    "\n",
    "* There is no need to allocate space for y2 (via the NumPy *zeros* function).\n",
    "* There is no need for a loop.\n",
    "* It is *much* faster."
   ]
  },
  {
   "cell_type": "markdown",
   "metadata": {
    "slideshow": {
     "slide_type": "slide"
    }
   },
   "source": [
    "## How vectorised functions work\n",
    "Consider the function"
   ]
  },
  {
   "cell_type": "code",
   "execution_count": 138,
   "metadata": {
    "slideshow": {
     "slide_type": "fragment"
    }
   },
   "outputs": [],
   "source": [
    "def f(x):\n",
    "    return x**3"
   ]
  },
  {
   "cell_type": "markdown",
   "metadata": {
    "slideshow": {
     "slide_type": "subslide"
    }
   },
   "source": [
    "$f(x)$ is intended for a number $x$, *i.e.* a *scalar*. So what happens when we call *f(x2)*, where *x2* is an NumPy array? **The function simply evaluates $x^3$ for an array x**. NumPy supports arithmetic operations on arrays, which correspond to the equivalent operations on each element, *e.g.*:"
   ]
  },
  {
   "cell_type": "code",
   "execution_count": 139,
   "metadata": {
    "slideshow": {
     "slide_type": "fragment"
    }
   },
   "outputs": [
    {
     "data": {
      "text/plain": [
       "array([0.00000000e+00, 6.66600003e-05, 1.33306669e-04, ...,\n",
       "       2.45252956e-01, 2.45252960e-01, 2.45252961e-01])"
      ]
     },
     "execution_count": 139,
     "metadata": {},
     "output_type": "execute_result"
    }
   ],
   "source": [
    "x**3                # x[i]**3 forr all i\n",
    "np.cos(x)              # cos(x[i]) for all i\n",
    "x**3 + x*np.cos(x)     # x[i]**3 + x[i]*cos(x[i]) for all i\n",
    "x/3*np.exp(-x*0.5)     # x[i]/3*exp(-x[i]*0.5) for all i "
   ]
  },
  {
   "cell_type": "markdown",
   "metadata": {
    "slideshow": {
     "slide_type": "subslide"
    }
   },
   "source": [
    "In each of these cases a highly optimised C function is actually called to evaluate the expression. In this example, the *cos* function called for an *array* is imported from *numpy* rather than from the *math* module which only acts on scalars.\n",
    "\n",
    "Notes:\n",
    "\n",
    "* Functions that can operate on arrays are called **vectorized functions**.\n",
    "* Vectorization is the process of turning a non-vectorized expression/algorithm into a vectorized expression/algorithm.\n",
    "* Mathematical functions in Python automatically work for both scalar and array (vector) arguments, *i.e.* no vectorization is needed by the programmer.\n"
   ]
  },
  {
   "cell_type": "markdown",
   "metadata": {
    "slideshow": {
     "slide_type": "slide"
    }
   },
   "source": [
    "### Watch out for references Vs. copies of arrays!\n",
    "Consider this code:"
   ]
  },
  {
   "cell_type": "code",
   "execution_count": 140,
   "metadata": {
    "slideshow": {
     "slide_type": "fragment"
    }
   },
   "outputs": [
    {
     "name": "stdout",
     "output_type": "stream",
     "text": [
      "42.0\n"
     ]
    }
   ],
   "source": [
    "a=x\n",
    "a[-1] = 42\n",
    "print(x[-1])"
   ]
  },
  {
   "cell_type": "markdown",
   "metadata": {
    "slideshow": {
     "slide_type": "subslide"
    }
   },
   "source": [
    "Notice what happened here - we changed a value in *a* but the corresponding value in *x* was also changed! This is because *a* refers to the same array as *x*. If you really want a seperate copy of *x* then we have to make an explicit copy:"
   ]
  },
  {
   "cell_type": "code",
   "execution_count": 141,
   "metadata": {
    "slideshow": {
     "slide_type": "fragment"
    }
   },
   "outputs": [],
   "source": [
    "a = x.copy()"
   ]
  },
  {
   "cell_type": "markdown",
   "metadata": {
    "slideshow": {
     "slide_type": "slide"
    }
   },
   "source": [
    "## Exercise 2.8: Fill lists and arrays with function values\n",
    "\n",
    "A function with many applications in science is defined as:\n",
    "\n",
    "$$h(x) = \\frac{1}{\\sqrt{2\\pi}}\\exp(-0.5x^2)$$\n",
    "\n",
    "* Implement the above formula as a Python function. Call the function *h* and it should take just one argument, *x*.\n",
    "* Create a NumPy array (call it $x$) that has 9 uniformly spaced points in [−4, 4].\n",
    "* Create a second NumPy array (call it $y$) with the function $h(x)$."
   ]
  },
  {
   "cell_type": "code",
   "execution_count": 142,
   "metadata": {},
   "outputs": [],
   "source": [
    "import numpy as np\n",
    "import math\n",
    "\n",
    "x = np.array(np.linspace(-4, 4, 9))\n",
    "\n",
    "def h(x):\n",
    "    return np.exp( -0.5 * x **2) / math.sqrt(math.pi * 2)\n",
    "\n",
    "y = h(x)"
   ]
  },
  {
   "cell_type": "code",
   "execution_count": 143,
   "metadata": {},
   "outputs": [
    {
     "name": "stdout",
     "output_type": "stream",
     "text": [
      "~~~~~~~~~~~~~~~~~~~~~~~~~~~~~~~~~~~~~~~~~~~~~~~~~~~~~~~~~~~~~~~~~~~~~\n",
      "Running tests\n",
      "\n",
      "---------------------------------------------------------------------\n",
      "Test summary\n",
      "    Passed: 6\n",
      "    Failed: 0\n",
      "[ooooooooook] 100.0% passed\n",
      "\n"
     ]
    },
    {
     "data": {
      "text/plain": [
       "{'passed': 6, 'failed': 0, 'locked': 0}"
      ]
     },
     "execution_count": 143,
     "metadata": {},
     "output_type": "execute_result"
    }
   ],
   "source": [
    "ok.grade('question-2_8')"
   ]
  },
  {
   "cell_type": "markdown",
   "metadata": {
    "slideshow": {
     "slide_type": "slide"
    }
   },
   "source": [
    "## Generalised array indexing\n",
    "We can select a slice of an array using *a[start:stop:inc]*, where the slice *start:stop:inc* implies a set of indices starting from *start*, up to *stop* in increments of *inc*. In fact, any integer list or array can be used to indicate a set of indices:"
   ]
  },
  {
   "cell_type": "code",
   "execution_count": 144,
   "metadata": {
    "slideshow": {
     "slide_type": "fragment"
    }
   },
   "outputs": [
    {
     "name": "stdout",
     "output_type": "stream",
     "text": [
      "[1. 2. 3. 4. 5. 6. 7. 8.]\n"
     ]
    }
   ],
   "source": [
    "a = np.linspace(1, 8, 8)\n",
    "print(a)"
   ]
  },
  {
   "cell_type": "code",
   "execution_count": 145,
   "metadata": {
    "slideshow": {
     "slide_type": "subslide"
    }
   },
   "outputs": [
    {
     "name": "stdout",
     "output_type": "stream",
     "text": [
      "[ 1. 10.  3.  4.  5.  6. 10. 10.]\n"
     ]
    }
   ],
   "source": [
    "a[[1,6,7]] = 10 # i.e. set the elements with indicies 1,6, and 7 in the list to 10.\n",
    "print(a)"
   ]
  },
  {
   "cell_type": "code",
   "execution_count": 146,
   "metadata": {
    "slideshow": {
     "slide_type": "fragment"
    }
   },
   "outputs": [
    {
     "name": "stdout",
     "output_type": "stream",
     "text": [
      "[ 1. 10. -2.  4.  5. -2. 10. 10.]\n"
     ]
    }
   ],
   "source": [
    "a[range(2,8,3)] = -2   # same as a[2:8:3] = -2\n",
    "print(a)"
   ]
  },
  {
   "cell_type": "markdown",
   "metadata": {
    "slideshow": {
     "slide_type": "subslide"
    }
   },
   "source": [
    "Even boolean expressions can also be used to select part of an array(!)"
   ]
  },
  {
   "cell_type": "code",
   "execution_count": 147,
   "metadata": {
    "slideshow": {
     "slide_type": "fragment"
    }
   },
   "outputs": [
    {
     "name": "stdout",
     "output_type": "stream",
     "text": [
      "[-2. -2.]\n"
     ]
    }
   ],
   "source": [
    "print(a[a < 0]) # pick out all negative elements"
   ]
  },
  {
   "cell_type": "code",
   "execution_count": 148,
   "metadata": {
    "slideshow": {
     "slide_type": "fragment"
    }
   },
   "outputs": [
    {
     "name": "stdout",
     "output_type": "stream",
     "text": [
      "[ 1. 10. 10.  4.  5. 10. 10. 10.]\n"
     ]
    }
   ],
   "source": [
    "a[a < 0] = a.max() # if a[i]<0, set a[i]=10\n",
    "print(a)"
   ]
  },
  {
   "cell_type": "markdown",
   "metadata": {
    "slideshow": {
     "slide_type": "slide"
    }
   },
   "source": [
    "## Exercise 2.9: Explore array slicing\n",
    "\n",
    "* Create a NumPy array called *w* with 31 uniformly spaced values ranging from 0 to 3.\n",
    "* Using array slicing, create a NumPy array called *wbits* that starts from the $4^{th}$ element of *w*, excludes the final element of *w* and selects every $3^{rd}$ element."
   ]
  },
  {
   "cell_type": "code",
   "execution_count": 149,
   "metadata": {},
   "outputs": [],
   "source": [
    "import numpy as np\n",
    "\n",
    "w = np.array(np.linspace(0,3,31))\n",
    "\n",
    "wbits = w[3:-2]\n",
    "wbits = wbits[::3]"
   ]
  },
  {
   "cell_type": "code",
   "execution_count": 150,
   "metadata": {},
   "outputs": [
    {
     "name": "stdout",
     "output_type": "stream",
     "text": [
      "~~~~~~~~~~~~~~~~~~~~~~~~~~~~~~~~~~~~~~~~~~~~~~~~~~~~~~~~~~~~~~~~~~~~~\n",
      "Running tests\n",
      "\n",
      "---------------------------------------------------------------------\n",
      "Test summary\n",
      "    Passed: 2\n",
      "    Failed: 0\n",
      "[ooooooooook] 100.0% passed\n",
      "\n"
     ]
    },
    {
     "data": {
      "text/plain": [
       "{'passed': 2, 'failed': 0, 'locked': 0}"
      ]
     },
     "execution_count": 150,
     "metadata": {},
     "output_type": "execute_result"
    }
   ],
   "source": [
    "ok.grade('question-2_9')"
   ]
  },
  {
   "cell_type": "markdown",
   "metadata": {
    "slideshow": {
     "slide_type": "slide"
    }
   },
   "source": [
    "## 2D arrays\n",
    "When we have a table of numbers,\n",
    "\n",
    "$$\n",
    "\\left\\lbrack\\begin{array}{cccc}\n",
    "0 & 12 & -1 & 5\\cr\n",
    "-1 & -1 & -1 & 0\\cr\n",
    "11 & 5 & 5 & -2\n",
    "\\end{array}\\right\\rbrack\n",
    "$$\n",
    "\n",
    "(*i.e.* a *matrix*) it is natural to use a two-dimensional array $A_{i,j}$ with one index for the rows and one for the columns:\n",
    "\n",
    "$$\n",
    "A = \n",
    "\\left\\lbrack\\begin{array}{ccc}\n",
    "A_{0,0} & \\cdots &  A_{0,n-1}\\cr\n",
    "\\vdots & \\ddots &  \\vdots\\cr\n",
    "A_{m-1,0} & \\cdots & A_{m-1,n-1}\n",
    "\\end{array}\\right\\rbrack\n",
    "$$\n",
    "\n",
    "Let's recreate this array using NumPy:"
   ]
  },
  {
   "cell_type": "code",
   "execution_count": 151,
   "metadata": {
    "slideshow": {
     "slide_type": "subslide"
    }
   },
   "outputs": [
    {
     "name": "stdout",
     "output_type": "stream",
     "text": [
      "[[ 0. 12. -1.  5.]\n",
      " [-1. -1. -1.  0.]\n",
      " [11.  5.  5. -2.]]\n"
     ]
    }
   ],
   "source": [
    "A = np.zeros((3,4))\n",
    "A[0,0] = 0\n",
    "A[1,0] = -1\n",
    "A[2,0] = 11\n",
    "\n",
    "A[0,1] = 12\n",
    "A[1,1] = -1\n",
    "A[2,1] = 5\n",
    "\n",
    "A[0,2] = -1\n",
    "A[1,2] = -1\n",
    "A[2,2] = 5\n",
    "\n",
    "# we can also use the same syntax that we used for nested lists\n",
    "\n",
    "A[0][3] = 5\n",
    "A[1][3] = 0\n",
    "A[2][3] = -2\n",
    "\n",
    "print(A)"
   ]
  },
  {
   "cell_type": "markdown",
   "metadata": {
    "slideshow": {
     "slide_type": "subslide"
    }
   },
   "source": [
    "Next let's convert a nested list from a previous example into a 2D array:"
   ]
  },
  {
   "cell_type": "code",
   "execution_count": 152,
   "metadata": {
    "slideshow": {
     "slide_type": "fragment"
    }
   },
   "outputs": [
    {
     "name": "stdout",
     "output_type": "stream",
     "text": [
      "[[0, 32.0], [10, 50.0], [20, 68.0], [30, 86.0], [40, 104.0], [50, 122.0], [60, 140.0], [70, 158.0], [80, 176.0], [90, 194.0], [100, 212.0]]\n"
     ]
    }
   ],
   "source": [
    "Cdegrees = range(0, 101, 10)\n",
    "Fdegrees = [9./5*C + 32 for C in Cdegrees]\n",
    "table = [[C, F] for C, F in zip(Cdegrees, Fdegrees)]\n",
    "print(table)"
   ]
  },
  {
   "cell_type": "code",
   "execution_count": 153,
   "metadata": {
    "slideshow": {
     "slide_type": "subslide"
    }
   },
   "outputs": [
    {
     "name": "stdout",
     "output_type": "stream",
     "text": [
      "[[  0.  32.]\n",
      " [ 10.  50.]\n",
      " [ 20.  68.]\n",
      " [ 30.  86.]\n",
      " [ 40. 104.]\n",
      " [ 50. 122.]\n",
      " [ 60. 140.]\n",
      " [ 70. 158.]\n",
      " [ 80. 176.]\n",
      " [ 90. 194.]\n",
      " [100. 212.]]\n"
     ]
    }
   ],
   "source": [
    "# Convert this into a NumPy array:\n",
    "table2 = np.array(table)\n",
    "print(table2)"
   ]
  },
  {
   "cell_type": "markdown",
   "metadata": {
    "slideshow": {
     "slide_type": "subslide"
    }
   },
   "source": [
    "To see the number of elements in each dimension:"
   ]
  },
  {
   "cell_type": "code",
   "execution_count": 154,
   "metadata": {
    "slideshow": {
     "slide_type": "fragment"
    }
   },
   "outputs": [
    {
     "name": "stdout",
     "output_type": "stream",
     "text": [
      "(11, 2)\n"
     ]
    }
   ],
   "source": [
    "print(table2.shape)"
   ]
  },
  {
   "cell_type": "markdown",
   "metadata": {
    "slideshow": {
     "slide_type": "fragment"
    }
   },
   "source": [
    "*i.e.* 11 rows and 2 columns."
   ]
  },
  {
   "cell_type": "markdown",
   "metadata": {
    "slideshow": {
     "slide_type": "subslide"
    }
   },
   "source": [
    "Let's write a loop over all array elements of A:"
   ]
  },
  {
   "cell_type": "code",
   "execution_count": 155,
   "metadata": {
    "slideshow": {
     "slide_type": "fragment"
    }
   },
   "outputs": [
    {
     "name": "stdout",
     "output_type": "stream",
     "text": [
      "table2[0,0] = 0\n",
      "table2[0,1] = 32\n",
      "table2[1,0] = 10\n",
      "table2[1,1] = 50\n",
      "table2[2,0] = 20\n",
      "table2[2,1] = 68\n",
      "table2[3,0] = 30\n",
      "table2[3,1] = 86\n",
      "table2[4,0] = 40\n",
      "table2[4,1] = 104\n",
      "table2[5,0] = 50\n",
      "table2[5,1] = 122\n",
      "table2[6,0] = 60\n",
      "table2[6,1] = 140\n",
      "table2[7,0] = 70\n",
      "table2[7,1] = 158\n",
      "table2[8,0] = 80\n",
      "table2[8,1] = 176\n",
      "table2[9,0] = 90\n",
      "table2[9,1] = 194\n",
      "table2[10,0] = 100\n",
      "table2[10,1] = 212\n"
     ]
    }
   ],
   "source": [
    "for i in range(table2.shape[0]):\n",
    "    for j in range(table2.shape[1]):\n",
    "        print('table2[%d,%d] = %g' % (i, j, table2[i,j]))"
   ]
  },
  {
   "cell_type": "markdown",
   "metadata": {
    "slideshow": {
     "slide_type": "subslide"
    }
   },
   "source": [
    "Alternatively:"
   ]
  },
  {
   "cell_type": "code",
   "execution_count": 156,
   "metadata": {
    "slideshow": {
     "slide_type": "fragment"
    }
   },
   "outputs": [
    {
     "name": "stdout",
     "output_type": "stream",
     "text": [
      "index (0, 0) has value 0\n",
      "index (0, 1) has value 32\n",
      "index (1, 0) has value 10\n",
      "index (1, 1) has value 50\n",
      "index (2, 0) has value 20\n",
      "index (2, 1) has value 68\n",
      "index (3, 0) has value 30\n",
      "index (3, 1) has value 86\n",
      "index (4, 0) has value 40\n",
      "index (4, 1) has value 104\n",
      "index (5, 0) has value 50\n",
      "index (5, 1) has value 122\n",
      "index (6, 0) has value 60\n",
      "index (6, 1) has value 140\n",
      "index (7, 0) has value 70\n",
      "index (7, 1) has value 158\n",
      "index (8, 0) has value 80\n",
      "index (8, 1) has value 176\n",
      "index (9, 0) has value 90\n",
      "index (9, 1) has value 194\n",
      "index (10, 0) has value 100\n",
      "index (10, 1) has value 212\n"
     ]
    }
   ],
   "source": [
    "for index_tuple, value in np.ndenumerate(table2):\n",
    "    print('index %s has value %g' % (index_tuple, table2[index_tuple]))"
   ]
  },
  {
   "cell_type": "markdown",
   "metadata": {
    "slideshow": {
     "slide_type": "subslide"
    }
   },
   "source": [
    "We can also extract slices from multi-dimensional arrays as before. For example, extract the second column:"
   ]
  },
  {
   "cell_type": "code",
   "execution_count": 157,
   "metadata": {
    "slideshow": {
     "slide_type": "fragment"
    }
   },
   "outputs": [
    {
     "name": "stdout",
     "output_type": "stream",
     "text": [
      "[ 32.  50.  68.  86. 104. 122. 140. 158. 176. 194. 212.]\n"
     ]
    }
   ],
   "source": [
    "print(table2[:, 1]) # 2nd column (index 1)"
   ]
  },
  {
   "cell_type": "markdown",
   "metadata": {
    "slideshow": {
     "slide_type": "subslide"
    }
   },
   "source": [
    "Play with this more complicated example:"
   ]
  },
  {
   "cell_type": "code",
   "execution_count": 158,
   "metadata": {
    "slideshow": {
     "slide_type": "fragment"
    }
   },
   "outputs": [
    {
     "name": "stdout",
     "output_type": "stream",
     "text": [
      "[[ 1.  2.  3.  4.  5.  6.]\n",
      " [ 7.  8.  9. 10. 11. 12.]\n",
      " [13. 14. 15. 16. 17. 18.]\n",
      " [19. 20. 21. 22. 23. 24.]\n",
      " [25. 26. 27. 28. 29. 30.]]\n"
     ]
    }
   ],
   "source": [
    "t = np.linspace(1, 30, 30).reshape(5, 6)\n",
    "print(t)"
   ]
  },
  {
   "cell_type": "code",
   "execution_count": 159,
   "metadata": {
    "slideshow": {
     "slide_type": "fragment"
    }
   },
   "outputs": [
    {
     "name": "stdout",
     "output_type": "stream",
     "text": [
      "[[ 9. 10. 11. 12.]\n",
      " [21. 22. 23. 24.]]\n"
     ]
    }
   ],
   "source": [
    "print(t[1:-1:2, 2:])"
   ]
  },
  {
   "cell_type": "markdown",
   "metadata": {
    "slideshow": {
     "slide_type": "slide"
    }
   },
   "source": [
    "## Exercise 2.10: Implement matrix-vector multiplication\n",
    "A matrix $\\mathbf{A}$ and a vector $\\mathbf{b}$, represented in Python as a 2D array and a 1D array respectively, are given by:\n",
    "\n",
    "$$\n",
    "\\mathbf{A} = \\left\\lbrack\\begin{array}{ccc}\n",
    "0 & 12 & -1\\cr\n",
    "-1 & -1 & -1\\cr\n",
    "11 & 5 & 5\n",
    "\\end{array}\\right\\rbrack\n",
    "$$\n",
    "\n",
    "$$\n",
    "\\mathbf{b} = \\left\\lbrack\\begin{array}{c}\n",
    "-2\\cr\n",
    "1\\cr\n",
    "7\n",
    "\\end{array}\\right\\rbrack\n",
    "$$\n",
    "\n",
    "Multiplying a matrix by a vector results in another vector $\\mathbf{c}$, whose components are defined by the general rule\n",
    "\n",
    "$$\\mathbf{c}_i = \\sum_j\\mathbf{A}_{i,j}\\mathbf{b}_j$$\n",
    "\n",
    "* Define $\\mathbf{A}$ and $\\mathbf{b}$ as NumPy arrays\n",
    "* Write a function called `multiply` that takes two arguments, a matrix and a vector in the form of NumPy arrays, and returns a NumPy array containing their product.\n",
    "* Call this function on $\\mathbf{A}$ and $\\mathbf{b}$, and store the result in a variable $c$."
   ]
  },
  {
   "cell_type": "code",
   "execution_count": 160,
   "metadata": {},
   "outputs": [],
   "source": [
    "import numpy as np\n",
    "\n",
    "A = np.array([\n",
    "    [0,12,-1],\n",
    "    [-1,-1,-1],\n",
    "    [11,5,5]\n",
    "])\n",
    "b = np.array([\n",
    "    [-2],\n",
    "    [1],\n",
    "    [7]\n",
    "])\n",
    "\n",
    "def multiply(matrix, vector):\n",
    "    new = np.zeros((vector.shape[0],vector.shape[1]))\n",
    "    \n",
    "    for i in range(matrix.shape[0]):\n",
    "        new[i] = 0\n",
    "        for j in range(matrix.shape[1]):\n",
    "            new[i] += matrix[i][j] * vector[j]\n",
    "            \n",
    "    return new\n",
    "\n",
    "c = multiply(A, b)\n",
    "b = b.transpose()\n",
    "c = c.transpose()"
   ]
  },
  {
   "cell_type": "code",
   "execution_count": 161,
   "metadata": {},
   "outputs": [
    {
     "name": "stdout",
     "output_type": "stream",
     "text": [
      "~~~~~~~~~~~~~~~~~~~~~~~~~~~~~~~~~~~~~~~~~~~~~~~~~~~~~~~~~~~~~~~~~~~~~\n",
      "Running tests\n",
      "\n",
      "---------------------------------------------------------------------\n",
      "Test summary\n",
      "    Passed: 6\n",
      "    Failed: 0\n",
      "[ooooooooook] 100.0% passed\n",
      "\n"
     ]
    },
    {
     "data": {
      "text/plain": [
       "{'passed': 6, 'failed': 0, 'locked': 0}"
      ]
     },
     "execution_count": 161,
     "metadata": {},
     "output_type": "execute_result"
    }
   ],
   "source": [
    "ok.grade('question-2_10')"
   ]
  },
  {
   "cell_type": "markdown",
   "metadata": {},
   "source": [
    "## Exercise 2.11: Vectorised function\n",
    "\n",
    "Let $A_{33}$ be the two-dimensional array\n",
    "$$\n",
    "\\mathbf{A_{33}} = \\left\\lbrack\\begin{array}{ccc}\n",
    "0 & 12 & -1\\cr\n",
    "-1 & -1 & -1\\cr\n",
    "11 & 5 & 5\n",
    "\\end{array}\\right\\rbrack\n",
    "$$\n",
    "\n",
    "Implement and apply the function\n",
    "$$\n",
    "f(x) = x^3 + xe^x + 1\n",
    "$$\n",
    "to each element in $A_{33}$. Then calculate the result of the array expression ${A_{33}}^3 + A_{33}e^{A_{33}} + 1$, and demonstrate that the end result of the two methods are the same."
   ]
  },
  {
   "cell_type": "code",
   "execution_count": 162,
   "metadata": {},
   "outputs": [],
   "source": [
    "def f_cubic(A):\n",
    "    return A**3 + A * np.exp(A) + 1"
   ]
  },
  {
   "cell_type": "code",
   "execution_count": 163,
   "metadata": {},
   "outputs": [
    {
     "name": "stdout",
     "output_type": "stream",
     "text": [
      "~~~~~~~~~~~~~~~~~~~~~~~~~~~~~~~~~~~~~~~~~~~~~~~~~~~~~~~~~~~~~~~~~~~~~\n",
      "Running tests\n",
      "\n",
      "---------------------------------------------------------------------\n",
      "Test summary\n",
      "    Passed: 3\n",
      "    Failed: 0\n",
      "[ooooooooook] 100.0% passed\n",
      "\n"
     ]
    },
    {
     "data": {
      "text/plain": [
       "{'passed': 3, 'failed': 0, 'locked': 0}"
      ]
     },
     "execution_count": 163,
     "metadata": {},
     "output_type": "execute_result"
    }
   ],
   "source": [
    "ok.grade('question-2_11')"
   ]
  },
  {
   "cell_type": "markdown",
   "metadata": {},
   "source": [
    "## Exercise 2.12: Implement matrix-matrix multiplication\n",
    "\n",
    "Similarly to Exercise 4.3 (where a matrix is multiplied by a vector), the general rule for multiplying a $n \\times m$ matrix $\\mathbf{A}$ by a $m \\times p$ matrix $\\mathbf{B}$ results in a $n \\times p$ matrix $\\mathbf{C}$, whose components are defined by the general rule\n",
    "\n",
    "$$\\mathbf{C}_{i,j} = \\sum^m_{k=1}\\mathbf{A}_{i,k}\\mathbf{B}_{k,j}$$\n",
    "\n",
    "Again let $\\mathbf{A}$ be the two-dimensional array\n",
    "\n",
    "$$\n",
    "\\mathbf{A} = \\left\\lbrack\\begin{array}{ccc}\n",
    "0 & 12 & -1\\cr\n",
    "-1 & -1 & -1\\cr\n",
    "11 & 5 & 5\n",
    "\\end{array}\\right\\rbrack\n",
    "$$\n",
    "\n",
    "and let $\\mathbf{B}$ be the two-dimensional array\n",
    "\n",
    "$$\n",
    "\\mathbf{B} = \\left\\lbrack\\begin{array}{ccc}\n",
    "-2 & 1 & 7\\cr\n",
    "3 & 0 & 6\\cr\n",
    "2 & 3 & 5\n",
    "\\end{array}\\right\\rbrack\n",
    "$$\n",
    "\n",
    "Define `A` and `B` as NumPy arrays, and write a function `f_mult` which multiplies them together using the above rule to create a the NumPy array called `C`."
   ]
  },
  {
   "cell_type": "code",
   "execution_count": 164,
   "metadata": {},
   "outputs": [],
   "source": [
    "import numpy as np\n",
    "\n",
    "A = np.array([\n",
    "    [0,12,-1],\n",
    "    [-1,-1,-1],\n",
    "    [11,5,5]\n",
    "])\n",
    "\n",
    "B = np.array([\n",
    "    [-2,1,7],\n",
    "    [3,0,6],\n",
    "    [2,3,5]\n",
    "])\n",
    "\n",
    "def f_mult(A,B):\n",
    "    if A.shape[1] != B.shape[0]:\n",
    "        raise RunTimeError(\"A should be have the same number of columns as B has rows\")\n",
    "    C = np.zeros([A.shape[0],B.shape[1]])\n",
    "    \n",
    "    for j in range(B.shape[1]):\n",
    "        \n",
    "        for i in range(A.shape[0]):\n",
    "            C[i][j] = 0\n",
    "            for k in range(A.shape[1]):\n",
    "\n",
    "                C[i][j] += A[i][k] * B[k][j]\n",
    "            \n",
    "    return C\n",
    "\n",
    "C = f_mult(A, B)\n"
   ]
  },
  {
   "cell_type": "code",
   "execution_count": 165,
   "metadata": {},
   "outputs": [
    {
     "name": "stdout",
     "output_type": "stream",
     "text": [
      "~~~~~~~~~~~~~~~~~~~~~~~~~~~~~~~~~~~~~~~~~~~~~~~~~~~~~~~~~~~~~~~~~~~~~\n",
      "Running tests\n",
      "\n",
      "---------------------------------------------------------------------\n",
      "Test summary\n",
      "    Passed: 2\n",
      "    Failed: 0\n",
      "[ooooooooook] 100.0% passed\n",
      "\n"
     ]
    },
    {
     "data": {
      "text/plain": [
       "{'passed': 2, 'failed': 0, 'locked': 0}"
      ]
     },
     "execution_count": 165,
     "metadata": {},
     "output_type": "execute_result"
    }
   ],
   "source": [
    "ok.grade('question-2_12')"
   ]
  },
  {
   "cell_type": "markdown",
   "metadata": {},
   "source": [
    "## Exercise 2.13: 2D array slicing\n",
    "\n",
    "\n",
    "* Create a 1D NumPy array called `odd` with all of the odd numbers from 1 to 55\n",
    "* Create a 2D NumPy array called `odd_sq` with all of the odd numbers from 1 to 55 in a matrix with 4 rows and 7 columns\n",
    "* Using array slicing, create a 2D NumPy array called, `odd_bits`, that starts from the $2^{nd}$ column of `odd_sq` and selects every other column, of only the $2^{nd}$ and $3^{rd}$ rows of `odd_sq`"
   ]
  },
  {
   "cell_type": "code",
   "execution_count": 166,
   "metadata": {},
   "outputs": [],
   "source": [
    "import numpy as np\n",
    "\n",
    "odd = np.array([i for i in range(1,56,2)])\n",
    "odd_sq = odd.reshape(4,7)\n",
    "\n",
    "odd_bits = odd_sq[1:3, 1::2]"
   ]
  },
  {
   "cell_type": "code",
   "execution_count": 167,
   "metadata": {},
   "outputs": [
    {
     "name": "stdout",
     "output_type": "stream",
     "text": [
      "~~~~~~~~~~~~~~~~~~~~~~~~~~~~~~~~~~~~~~~~~~~~~~~~~~~~~~~~~~~~~~~~~~~~~\n",
      "Running tests\n",
      "\n",
      "---------------------------------------------------------------------\n",
      "Test summary\n",
      "    Passed: 3\n",
      "    Failed: 0\n",
      "[ooooooooook] 100.0% passed\n",
      "\n"
     ]
    },
    {
     "data": {
      "text/plain": [
       "{'passed': 3, 'failed': 0, 'locked': 0}"
      ]
     },
     "execution_count": 167,
     "metadata": {},
     "output_type": "execute_result"
    }
   ],
   "source": [
    "ok.grade('question-2_13')"
   ]
  },
  {
   "cell_type": "code",
   "execution_count": 168,
   "metadata": {},
   "outputs": [
    {
     "name": "stdout",
     "output_type": "stream",
     "text": [
      "~~~~~~~~~~~~~~~~~~~~~~~~~~~~~~~~~~~~~~~~~~~~~~~~~~~~~~~~~~~~~~~~~~~~~\n",
      "Scoring tests\n",
      "\n",
      "---------------------------------------------------------------------\n",
      "question 2.1\n",
      "    Passed: 1\n",
      "    Failed: 0\n",
      "[ooooooooook] 100.0% passed\n",
      "\n",
      "---------------------------------------------------------------------\n",
      "question 2.2\n",
      "    Passed: 1\n",
      "    Failed: 0\n",
      "[ooooooooook] 100.0% passed\n",
      "\n",
      "---------------------------------------------------------------------\n",
      "question 2.3\n",
      "    Passed: 1\n",
      "    Failed: 0\n",
      "[ooooooooook] 100.0% passed\n",
      "\n",
      "---------------------------------------------------------------------\n",
      "question 2.4\n",
      "    Passed: 1\n",
      "    Failed: 0\n",
      "[ooooooooook] 100.0% passed\n",
      "\n",
      "---------------------------------------------------------------------\n",
      "question 2.5\n",
      "    Passed: 1\n",
      "    Failed: 0\n",
      "[ooooooooook] 100.0% passed\n",
      "\n",
      "---------------------------------------------------------------------\n",
      "question 2.6\n",
      "    Passed: 1\n",
      "    Failed: 0\n",
      "[ooooooooook] 100.0% passed\n",
      "\n",
      "---------------------------------------------------------------------\n",
      "question 2.7\n",
      "    Passed: 1\n",
      "    Failed: 0\n",
      "[ooooooooook] 100.0% passed\n",
      "\n",
      "---------------------------------------------------------------------\n",
      "question 2.8\n",
      "    Passed: 3\n",
      "    Failed: 0\n",
      "[ooooooooook] 100.0% passed\n",
      "\n",
      "---------------------------------------------------------------------\n",
      "question 2.9\n",
      "    Passed: 1\n",
      "    Failed: 0\n",
      "[ooooooooook] 100.0% passed\n",
      "\n",
      "---------------------------------------------------------------------\n",
      "question 2.10\n",
      "    Passed: 2\n",
      "    Failed: 0\n",
      "[ooooooooook] 100.0% passed\n",
      "\n",
      "---------------------------------------------------------------------\n",
      "question 2.11\n",
      "    Passed: 1\n",
      "    Failed: 0\n",
      "[ooooooooook] 100.0% passed\n",
      "\n",
      "---------------------------------------------------------------------\n",
      "question 2.12\n",
      "    Passed: 1\n",
      "    Failed: 0\n",
      "[ooooooooook] 100.0% passed\n",
      "\n",
      "---------------------------------------------------------------------\n",
      "question 2.13\n",
      "    Passed: 1\n",
      "    Failed: 0\n",
      "[ooooooooook] 100.0% passed\n",
      "\n",
      "---------------------------------------------------------------------\n",
      "Point breakdown\n",
      "    question 2.1: 1.0/1\n",
      "    question 2.2: 1.0/1\n",
      "    question 2.3: 1.0/1\n",
      "    question 2.4: 1.0/1\n",
      "    question 2.5: 1.0/1\n",
      "    question 2.6: 1.0/1\n",
      "    question 2.7: 1.0/1\n",
      "    question 2.8: 1.0/1\n",
      "    question 2.9: 1.0/1\n",
      "    question 2.10: 1.0/1\n",
      "    question 2.11: 1.0/1\n",
      "    question 2.12: 1.0/1\n",
      "    question 2.13: 1.0/1\n",
      "\n",
      "Score:\n",
      "    Total: 13.0\n",
      "\n"
     ]
    },
    {
     "data": {
      "text/plain": [
       "{'Total': 13.0}"
      ]
     },
     "execution_count": 168,
     "metadata": {},
     "output_type": "execute_result"
    }
   ],
   "source": [
    "ok.score()"
   ]
  },
  {
   "cell_type": "code",
   "execution_count": null,
   "metadata": {},
   "outputs": [],
   "source": []
  }
 ],
 "metadata": {
  "kernelspec": {
   "display_name": "Python 3",
   "language": "python",
   "name": "python3"
  },
  "language_info": {
   "codemirror_mode": {
    "name": "ipython",
    "version": 3
   },
   "file_extension": ".py",
   "mimetype": "text/x-python",
   "name": "python",
   "nbconvert_exporter": "python",
   "pygments_lexer": "ipython3",
   "version": "3.6.8"
  }
 },
 "nbformat": 4,
 "nbformat_minor": 1
}
