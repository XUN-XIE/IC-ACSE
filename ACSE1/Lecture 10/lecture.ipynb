{
 "cells": [
  {
   "cell_type": "markdown",
   "metadata": {
    "toc": true
   },
   "source": [
    "<h1>Table of Contents<span class=\"tocSkip\"></span></h1>\n",
    "<div class=\"toc\"><ul class=\"toc-item\"><li><span><a href=\"#Code-Testing\" data-toc-modified-id=\"Code-Testing-1\"><span class=\"toc-item-num\">1&nbsp;&nbsp;</span>Code Testing</a></span><ul class=\"toc-item\"><li><span><a href=\"#What-is-a-test?\" data-toc-modified-id=\"What-is-a-test?-1.1\"><span class=\"toc-item-num\">1.1&nbsp;&nbsp;</span>What is a test?</a></span></li></ul></li><li><span><a href=\"#Test-Driven-Development\" data-toc-modified-id=\"Test-Driven-Development-2\"><span class=\"toc-item-num\">2&nbsp;&nbsp;</span>Test Driven Development</a></span></li><li><span><a href=\"#Ways-to-implement-and-run-tests\" data-toc-modified-id=\"Ways-to-implement-and-run-tests-3\"><span class=\"toc-item-num\">3&nbsp;&nbsp;</span>Ways to implement and run tests</a></span><ul class=\"toc-item\"><li><span><a href=\"#The-doctest-module\" data-toc-modified-id=\"The-doctest-module-3.1\"><span class=\"toc-item-num\">3.1&nbsp;&nbsp;</span>The <code>doctest</code> module</a></span></li><li><span><a href=\"#The-unittest-module\" data-toc-modified-id=\"The-unittest-module-3.2\"><span class=\"toc-item-num\">3.2&nbsp;&nbsp;</span>The <code>unittest</code> module</a></span></li><li><span><a href=\"#Pytest\" data-toc-modified-id=\"Pytest-3.3\"><span class=\"toc-item-num\">3.3&nbsp;&nbsp;</span>Pytest</a></span></li><li><span><a href=\"#Code-coverage.\" data-toc-modified-id=\"Code-coverage.-3.4\"><span class=\"toc-item-num\">3.4&nbsp;&nbsp;</span>Code coverage.</a></span></li><li><span><a href=\"#The-many-sorts-of-test\" data-toc-modified-id=\"The-many-sorts-of-test-3.5\"><span class=\"toc-item-num\">3.5&nbsp;&nbsp;</span>The many sorts of test</a></span></li></ul></li><li><span><a href=\"#Automated-Continuous-integration\" data-toc-modified-id=\"Automated-Continuous-integration-4\"><span class=\"toc-item-num\">4&nbsp;&nbsp;</span>Automated Continuous integration</a></span><ul class=\"toc-item\"><li><span><a href=\"#Travis-CI\" data-toc-modified-id=\"Travis-CI-4.1\"><span class=\"toc-item-num\">4.1&nbsp;&nbsp;</span>Travis CI</a></span></li><li><span><a href=\"#Extending-CI-tests\" data-toc-modified-id=\"Extending-CI-tests-4.2\"><span class=\"toc-item-num\">4.2&nbsp;&nbsp;</span>Extending CI tests</a></span></li></ul></li><li><span><a href=\"#Testing-and-the-GitHub-flow-workflow\" data-toc-modified-id=\"Testing-and-the-GitHub-flow-workflow-5\"><span class=\"toc-item-num\">5&nbsp;&nbsp;</span>Testing and the GitHub flow workflow</a></span><ul class=\"toc-item\"><li><span><a href=\"#Doing-good-code-reviews:\" data-toc-modified-id=\"Doing-good-code-reviews:-5.1\"><span class=\"toc-item-num\">5.1&nbsp;&nbsp;</span>Doing good code reviews:</a></span></li></ul></li><li><span><a href=\"#Automatic-documentation\" data-toc-modified-id=\"Automatic-documentation-6\"><span class=\"toc-item-num\">6&nbsp;&nbsp;</span>Automatic documentation</a></span><ul class=\"toc-item\"><li><span><a href=\"#Sphinx\" data-toc-modified-id=\"Sphinx-6.1\"><span class=\"toc-item-num\">6.1&nbsp;&nbsp;</span>Sphinx</a></span></li></ul></li><li><span><a href=\"#Sandboxing-&amp;-virtual-environments\" data-toc-modified-id=\"Sandboxing-&amp;-virtual-environments-7\"><span class=\"toc-item-num\">7&nbsp;&nbsp;</span>Sandboxing &amp; virtual environments</a></span></li><li><span><a href=\"#Further-Reading\" data-toc-modified-id=\"Further-Reading-8\"><span class=\"toc-item-num\">8&nbsp;&nbsp;</span>Further Reading</a></span></li></ul></div>"
   ]
  },
  {
   "cell_type": "markdown",
   "metadata": {
    "slideshow": {
     "slide_type": "slide"
    }
   },
   "source": [
    "# Automated Testing, Continuous Integration and Automatic documentation\n",
    "\n",
    "#### 15th October 2019 - Version 2.2.1"
   ]
  },
  {
   "cell_type": "markdown",
   "metadata": {
    "slideshow": {
     "slide_type": "slide"
    }
   },
   "source": [
    "<div class= info>\n",
    "  \n",
    "Yesterday we covered:\n",
    " - Python scripts, modules and packages\n",
    " - The VS Code IDE\n",
    " - The second assessed exercise\n",
    "  \n",
    "In this lecture we will cover:\n",
    " - **Software Code Testing**:\n",
    "   * Automated testing frameworks (50 minutes)\n",
    "   * Continous Integration & Workflows (40 minutes)\n",
    " - **Automatic Documentation Generation** (30 minutes)\n",
    " - **Python Virtual Environments** (20 minutes)\n",
    "\n",
    "</div>"
   ]
  },
  {
   "cell_type": "markdown",
   "metadata": {},
   "source": [
    "<div class= warn>\n",
    "\n",
    "<h4>Contact details:</h4>\n",
    "\n",
    "<ul><li>Dr. James Percival</li>\n",
    "    <li> 4.85 RSM building</li>\n",
    "    <li> email: j.percival@imperial.ac.uk</li>\n",
    "    <li> Slack: <code>@James Percival</code> in #ACSE1 & #General or DM me.</li>\n",
    "</ul>\n",
    "\n",
    "</div>"
   ]
  },
  {
   "cell_type": "markdown",
   "metadata": {},
   "source": [
    "#### By the end of this lecture you should:\n",
    " - Understand the basics of code testing and ways to automate it.\n",
    " - Understand the different sorts of test.\n",
    " - Have experience of Continuous Integration via Travis-ci.com\n",
    " - Know how & why to use a Python Virtual Environment\n",
    " - Have seen how to use Sphinx to generate software documentation from docstrings\n",
    " "
   ]
  },
  {
   "cell_type": "markdown",
   "metadata": {
    "slideshow": {
     "slide_type": "slide"
    }
   },
   "source": [
    "## Code Testing\n",
    "\n",
    "When writing software, especially scientific software, a key question is whether the code is correct, and provably correct.\n",
    "\n",
    "How do we check something for correctness? We test.\n",
    "\n",
    "### What is a test?\n",
    "\n",
    "The simplest kind of test is the ad hoc kind you run when hacking about with code. If I have created a new function `add(x, y)` which adds together two numbers and returns the result, then it might be a good idea to try something like\n",
    "```python\n",
    "print(add(1, 0) == 1)\n",
    "print(add(1, 1) == 2)\n",
    "```\n",
    "This can't catch every possible mode of failure. For example, an `add` defined function like\n",
    "```python\n",
    "def add(x, y):\n",
    "    return x**2+y**2\n",
    "```\n",
    "would pass both the tests given above, despite not being returning `x+y`.\n",
    "\n",
    "The examples above are both examples of \"testing to pass\", in that we have written a statement we expect to return true, and will be happy if it does so. One important thing to check is that operations you expect to raise an exception error actually do so (i.e. testing to fail). There are usually ways of writing a test to fail as a test to pass if needed. E.g. for a `divide` operator:\n"
   ]
  },
  {
   "cell_type": "code",
   "execution_count": null,
   "metadata": {},
   "outputs": [],
   "source": [
    "def divide(x, y):\n",
    "    \"\"\"return x divided by y.\"\"\"\n",
    "    return x/y\n",
    "\n",
    "\n",
    "## Check we get an error when dividing by zero.\n",
    "try:\n",
    "    divide(1, 0)\n",
    "    print(False)\n",
    "except ZeroDivisionError:\n",
    "    print(True)"
   ]
  },
  {
   "cell_type": "markdown",
   "metadata": {},
   "source": [
    "By writing our tests like this we can use a statemnt like `assert X` to turn the test from raising an exception if when it does what we want into raising an exception if it doesn't."
   ]
  },
  {
   "cell_type": "markdown",
   "metadata": {},
   "source": [
    "## Test Driven Development\n",
    "\n",
    "The most extreme version of this philosopy is strict Test Driven Development (TDD), sometimes also called \"Red-Green\" testing. Here the idea is that when implementing new code *first* you write a test, ensuring that it fails (red), then *second* you write just enough code to pass the test you've writen (green). Finally you [refactor]() (i.e. rewrite) any code you believe can be improved (simplified or speeded up), _while ensuring that your existing tests pass or are fixed_. \n",
    "\n",
    "This is intended to be an iterative process, so once you are done with one test, you move on to the next. Let's have an example, pushing things as far as they can go:\n",
    "\n",
    "__Problem__: Write a function that returns the repeated elements in a list.\n",
    "\n",
    "So, first, we write a test.\n",
    "\n",
    "```python\n",
    "assert(f([0, 1, 1]) == 1)\n",
    "```\n",
    "\n",
    "Does it fail on a do nothing implementation?"
   ]
  },
  {
   "cell_type": "code",
   "execution_count": null,
   "metadata": {},
   "outputs": [],
   "source": [
    "def f(x):\n",
    "    \"\"\"Return the repeated elements in a list.\"\"\"\n",
    "    pass\n",
    "\n",
    "\n",
    "print(f([0, 1, 1]) == 1)"
   ]
  },
  {
   "cell_type": "markdown",
   "metadata": {},
   "source": [
    "Ok, our test is failing, let's actually write some code. A quick way to catch repeated elements is to use a set."
   ]
  },
  {
   "cell_type": "code",
<<<<<<< HEAD
   "execution_count": 5,
=======
   "execution_count": null,
>>>>>>> 0f32f9302586f743da61c2bccd116a3585bc7308
   "metadata": {},
   "outputs": [],
   "source": [
    "def f(x):\n",
    "    \"\"\"Return the repeated elements in a list.\"\"\"\n",
    "    vals = set()\n",
    "    for _ in x:\n",
    "        if _ in vals:\n",
    "            return _\n",
    "        else:\n",
    "            vals.add(_)\n",
    "\n",
    "\n",
    "print(f([0, 1, 1]) == 1)"
   ]
  },
  {
   "cell_type": "markdown",
   "metadata": {},
   "source": [
    "Our test is now passing. There's no old code to improve, so we either write another test, or move on. Let's try having a couple of repeated elements\n",
    "```python\n",
    "f([0,1,1,0]) == [0,1]\n",
    "```"
   ]
  },
  {
   "cell_type": "code",
<<<<<<< HEAD
   "execution_count": 10,
   "metadata": {},
   "outputs": [
    {
     "name": "stdout",
     "output_type": "stream",
     "text": [
      "True\n",
      "False\n",
      "1\n",
      "Help on method_descriptor:\n",
      "\n",
      "add(...)\n",
      "    Add an element to a set.\n",
      "    \n",
      "    This has no effect if the element is already present.\n",
      "\n"
     ]
    }
   ],
=======
   "execution_count": null,
   "metadata": {},
   "outputs": [],
>>>>>>> 0f32f9302586f743da61c2bccd116a3585bc7308
   "source": [
    "\n",
    "print(f([0, 1, 1]) == 1)\n",
    "print(f([0,1,1,0]) == [0,1])\n",
    "print(f([0, 1, 1]))\n",
    "help(set.add)"
   ]
  },
  {
   "cell_type": "code",
<<<<<<< HEAD
   "execution_count": 12,
   "metadata": {},
   "outputs": [
    {
     "name": "stdout",
     "output_type": "stream",
     "text": [
      "False\n",
      "True\n",
      "[1]\n"
     ]
    }
   ],
=======
   "execution_count": null,
   "metadata": {},
   "outputs": [],
>>>>>>> 0f32f9302586f743da61c2bccd116a3585bc7308
   "source": [
    "def f(x):\n",
    "    \"\"\"Return the repeated elements in a list.\"\"\"\n",
    "    vals = set()\n",
    "    out = []\n",
    "    for _ in x:\n",
    "        if _ in vals:\n",
    "            out.append(_)\n",
    "        else:\n",
    "            vals.add(_)\n",
    "    return sorted(out)\n",
    "\n",
    "\n",
    "print(f([0, 1, 1]) == 1)\n",
    "print(f([0, 1, 1, 0]) == [0, 1])\n",
    "print(f([0, 1, 1]))"
   ]
  },
  {
   "cell_type": "markdown",
   "metadata": {},
   "source": [
    "We've broken the first test. But it's actually the test which is bad, so we'll fix it."
   ]
  },
  {
   "cell_type": "code",
   "execution_count": null,
   "metadata": {},
   "outputs": [],
   "source": [
    "print(f([0, 1, 1]) == [1])\n",
    "print(f([0, 1, 1, 0]) == [0,1])"
   ]
  },
  {
   "cell_type": "markdown",
   "metadata": {},
   "source": [
    "Ok. Another iteration. What about if an element turns up 3 times?"
   ]
  },
  {
   "cell_type": "code",
   "execution_count": null,
   "metadata": {},
   "outputs": [],
   "source": [
    "print(f([0, 1, 1, 0, 0]) == [0, 1])\n",
    "print(f([0, 1, 1, 0, 0]))"
   ]
  },
  {
   "cell_type": "code",
   "execution_count": null,
   "metadata": {},
   "outputs": [],
   "source": [
    "def f(x):\n",
    "    \"\"\"Return the set of repeated elements in a list.\"\"\"\n",
    "    vals = set()\n",
    "    out = set()\n",
    "    for _ in x:\n",
    "        if _ in vals:\n",
    "            out.add(_)\n",
    "        else:\n",
    "            vals.add(_)\n",
    "    return out\n",
    "\n",
    "\n",
    "print(f([0, 1, 1]) == set([1]))\n",
    "print(f([0, 1, 1, 0]) == set([0, 1]))\n",
    "print(f([0, 1, 1, 0, 0]) == set([0, 1]))"
   ]
  },
  {
   "cell_type": "markdown",
   "metadata": {},
   "source": [
    "And so on. At some point you run out of tests to set and the code is finished."
   ]
  },
  {
   "cell_type": "markdown",
   "metadata": {},
   "source": [
    "<div class=exercise>\n",
    "\n",
    "<h4>Exercise One</h4>\n",
    "\n",
    "\n",
    "Try and write your own attempt at TTD for the following problems:\n",
    "\n",
    "<ol>\n",
    "    <li> Write an implementation of a <a href=\"https://en.wikipedia.org/wiki/Fizz_buzz\">fizz buzz</a> function. Fizz Buzz is a children's game, where players count up from one around a circle. \n",
    "    <ul>\n",
    "        <li> However, any number divisible by 3 is replaced by the word \"<i>fizz</i>\".</li>\n",
    "        <li> Any number divisible by 5 is replaced by the word \"<i>buzz</i>\". </li>\n",
    "        <li> Numbers divisible by both become \"<i>fizz buzz</i>\".</li>\n",
    "    </ul>\n",
    "    Players who say the worng thing lose the game. Writing a program to generate the first <it>n</it> integers in fizz buzz encoding has sometimes been used as an interview question for programmers.\n",
    "\n",
    "  <p>Your function should accept an integer, $x$, and return either $x$, <code>'fizz'</code>, <code>'buzz'</code> or <code>'fizz buzz'</code> according to the rules above.</p></li>\n",
    "  \n",
    "  <br>\n",
    "  \n",
    " Remember, in TTD <it>first</it> you write a test for an aspect of the function, then you write the code to solve it.\n",
    "  \n",
    "<li>Write a program to put the elements of an $n$ dimensional <code>numpy</code> array, $X$, into order of size.\n",
    "    <ul>\n",
    "        <li> The code should have output $Y$ with <code>Y[i,...]&lt;[j,...]</code> for all <code>i&lt;j</code>.</li>\n",
    "        <li> The code should have output $Y$ with <code>Y[k,i..]&lt;[k,j,..]</code> for all <code>i&lt;j</code> and fixed k</li>\n",
    "        <li> And so on.</li>\n",
    "        <li> Note that this means when written in the form\n",
    "<p><code> [[..[x_1, .., x_n], [x_n+1, .., x_2n], .., x_N]]</code></p>\n",
    "we have <code>x_n&lt; x_n+i</code> for all <code>i&gt;0</code>.</li>\n",
    "    </ul></li>\n",
    "\n",
    "<li>Write a function to accept or reject a string as a candidate for a password based on the following criteria:\n",
    "    <ul>\n",
    "        <li> The string is between 8 and 1024 characters long.</li>\n",
    "        <li> The string contains a number</li>\n",
    "        <li> The string contains a capital letter</li>\n",
    "        <li> The string contains none of the following characters: <code>@&lt;&gt;!</code></li>\n",
    "    </ul>\n",
    "</li></ol>\n",
    "\n",
    "Write only enough new code to satisfy each test you write, and to fix your previous tests, before moving on to another test stage. Once the test passes, remember to have a look at your code to see if anything can be refactored.\n",
    "\n",
    "The goal here is to concentrate on the TDD process, not on the code itself, but for completeness, [model answers](https://msc-acse.github.io/ACSE-1/lectures/lecture10-solutions.html) are available.\n",
    "    \n",
    "</div>"
   ]
  },
  {
   "cell_type": "code",
   "execution_count": 16,
   "metadata": {},
   "outputs": [
    {
     "name": "stdout",
     "output_type": "stream",
     "text": [
      "True\n",
      "True\n",
      "True\n",
      "True\n"
     ]
    }
   ],
   "source": [
    "def fizz_buzz(x):\n",
    "    if x % 3 == 0 and x % 5 != 0:\n",
    "        return 'fizz'\n",
    "    if x % 3 != 0 and x % 5 == 0:\n",
    "        return 'buzz'\n",
    "    if x % 3 == 0 and x % 5 == 0:\n",
    "        return 'fizz buzz'\n",
    "    return x\n",
    "\n",
    "print(fizz_buzz(1) == 1)\n",
    "print(fizz_buzz(3) == 'fizz')\n",
    "print(fizz_buzz(15) == 'fizz buzz')\n",
    "print(fizz_buzz(20) == 'buzz')"
   ]
  },
  {
   "cell_type": "code",
   "execution_count": 25,
   "metadata": {},
   "outputs": [
    {
     "data": {
      "text/plain": [
       "'\\nimport numpy as np\\na = np.array([[3,2],[2,3]])\\na = a.flatten()\\nprint(a)\\na = sorted(a)\\nprint(a)\\n'"
      ]
     },
     "execution_count": 25,
     "metadata": {},
     "output_type": "execute_result"
    }
   ],
   "source": [
    "def order_mat(mat):\n",
    "    oneD = mat.flatten()\n",
    "    \n",
    "    oneD = sorted(oneD)\n",
    "    \n",
    "    row_len = mat.shape[0]\n",
    "    col_len = mat.shape[1]\n",
    "    \n",
    "    new = np.zeros((row_len,col_len))\n",
    "    for i in range(row_len):\n",
    "        for j in range(col_len):\n",
    "            new[i][j] = oneD[i*col_len+j]\n",
    "    \n",
    "    return new\n",
    "'''\n",
    "import numpy as np\n",
    "a = np.array([[3,2],[2,3]])\n",
    "a = a.flatten()\n",
    "print(a)\n",
    "a = sorted(a)\n",
    "print(a)\n",
    "'''"
   ]
  },
  {
   "cell_type": "code",
   "execution_count": 26,
   "metadata": {},
   "outputs": [
    {
     "name": "stdout",
     "output_type": "stream",
     "text": [
      "[[ True  True  True]\n",
      " [ True  True  True]\n",
      " [ True  True  True]]\n"
     ]
    }
   ],
   "source": [
    "tested = np.array([[4,6,3],[1,45,8],[74,2,6]])\n",
    "print(order_mat(tested) == np.array([[1,2,3],[4,6,6],[8,45,74]]))"
   ]
  },
  {
   "cell_type": "code",
   "execution_count": null,
   "metadata": {},
   "outputs": [],
   "source": [
    "def detect(char):\n",
    "    if len(char) < 8 or len(char  > 1024):\n",
    "        return None\n",
    "    if"
   ]
  },
  {
   "cell_type": "markdown",
   "metadata": {},
   "source": [
    "At this point you can hopefully see that \n",
    "1. TDD is a fine ideal for correct software engineering\n",
    "2. No sane person would write all their tests at that level of detail and in that order all the time.\n",
    "\n",
    "However, there are still some very important ideas to pull out of the paradigm:\n",
    "\n",
    "1. Make sure your tests can fail if things go wrong.\n",
    "2. Consider both the usual and the (obvious) corner cases.\n",
    "3. Each bug you fix is a missing test you might need to add."
   ]
  },
  {
   "cell_type": "markdown",
   "metadata": {},
   "source": [
    "## Ways to implement and run tests"
   ]
  },
  {
   "cell_type": "markdown",
   "metadata": {},
   "source": [
    "Lets have a slighly more concrete example. We'll look for solutions to the quadratic equation\n",
    "$$ ax^2 + bx + c =0,$$\n",
    "where $x$ is a real number. The formula for solutions is\n",
    "$$ x=\\frac{-b \\pm \\sqrt{b^2-4ac}}{2a}.$$\n",
    "Now to write some code in a module file"
   ]
  },
  {
   "cell_type": "code",
<<<<<<< HEAD
   "execution_count": 27,
=======
   "execution_count": null,
>>>>>>> 0f32f9302586f743da61c2bccd116a3585bc7308
   "metadata": {
    "slideshow": {
     "slide_type": "subslide"
    }
   },
   "outputs": [],
   "source": [
    "import numpy as np # for the sqrt function\n",
    "\n",
    "def solve_quadratic(a,b,c):\n",
    "    \"\"\"Solve a quadratic equation ax^2+bx+c=0 in the reals\"\"\"\n",
    "    if 0<b**2-4.0*a*c:\n",
    "        # two solutions\n",
    "        return ((-b-np.sqrt(b**2-4.0*a*c))/(2.0*a),(-b+np.sqrt(b**2-4.0*a*c))/(2.0*a))\n",
    "    elif 0==b**2-4.0*a*c:\n",
    "        # one solution\n",
    "        return -b/(2.0*a)\n",
    "    else:\n",
    "        # no solutions\n",
    "        return None"
   ]
  },
  {
   "cell_type": "markdown",
   "metadata": {
    "slideshow": {
     "slide_type": "subslide"
    }
   },
   "source": [
    "We can try some ad hoc tests, like we might run like coding the function:"
   ]
  },
  {
   "cell_type": "code",
<<<<<<< HEAD
   "execution_count": 28,
   "metadata": {},
   "outputs": [
    {
     "data": {
      "text/plain": [
       "True"
      ]
     },
     "execution_count": 28,
     "metadata": {},
     "output_type": "execute_result"
    }
   ],
=======
   "execution_count": null,
   "metadata": {},
   "outputs": [],
>>>>>>> 0f32f9302586f743da61c2bccd116a3585bc7308
   "source": [
    "# solve x^2-1=0\n",
    "solve_quadratic(1, 0, -1)==(-1.0, 1.0)"
   ]
  },
  {
   "cell_type": "code",
<<<<<<< HEAD
   "execution_count": 29,
=======
   "execution_count": null,
>>>>>>> 0f32f9302586f743da61c2bccd116a3585bc7308
   "metadata": {
    "slideshow": {
     "slide_type": "fragment"
    }
   },
<<<<<<< HEAD
   "outputs": [
    {
     "data": {
      "text/plain": [
       "True"
      ]
     },
     "execution_count": 29,
     "metadata": {},
     "output_type": "execute_result"
    }
   ],
=======
   "outputs": [],
>>>>>>> 0f32f9302586f743da61c2bccd116a3585bc7308
   "source": [
    "solve_quadratic(1, 0, 0)==(0.0)"
   ]
  },
  {
   "cell_type": "code",
<<<<<<< HEAD
   "execution_count": 30,
=======
   "execution_count": null,
>>>>>>> 0f32f9302586f743da61c2bccd116a3585bc7308
   "metadata": {
    "slideshow": {
     "slide_type": "fragment"
    }
   },
<<<<<<< HEAD
   "outputs": [
    {
     "data": {
      "text/plain": [
       "True"
      ]
     },
     "execution_count": 30,
     "metadata": {},
     "output_type": "execute_result"
    }
   ],
=======
   "outputs": [],
>>>>>>> 0f32f9302586f743da61c2bccd116a3585bc7308
   "source": [
    "solve_quadratic(1, 0, 1) is None"
   ]
  },
  {
   "cell_type": "markdown",
   "metadata": {
    "slideshow": {
     "slide_type": "slide"
    }
   },
   "source": [
    "On the other hand, humans are lazy and forgetful, so we want to make running tests when the code changes as easy as possible. We could just roll the tests into a single function, and use the `assert` statement, so that it throws an exception if anything goes wrong."
   ]
  },
  {
   "cell_type": "code",
<<<<<<< HEAD
   "execution_count": 31,
   "metadata": {},
   "outputs": [
    {
     "data": {
      "text/plain": [
       "'Tests pass'"
      ]
     },
     "execution_count": 31,
     "metadata": {},
     "output_type": "execute_result"
    }
   ],
=======
   "execution_count": null,
   "metadata": {},
   "outputs": [],
>>>>>>> 0f32f9302586f743da61c2bccd116a3585bc7308
   "source": [
    "def test_solve_quadratic():\n",
    "    \n",
    "    assert solve_quadratic(1,0,-1)==(-1.0,1.0)\n",
    "    assert solve_quadratic(1,0,0)==(0.0)\n",
    "    assert solve_quadratic(1,0,1) is None\n",
    "    \n",
    "    return 'Tests pass'\n",
    "    \n",
    "test_solve_quadratic()"
   ]
  },
  {
   "cell_type": "code",
<<<<<<< HEAD
   "execution_count": 32,
=======
   "execution_count": null,
>>>>>>> 0f32f9302586f743da61c2bccd116a3585bc7308
   "metadata": {
    "slideshow": {
     "slide_type": "subslide"
    }
   },
<<<<<<< HEAD
   "outputs": [
    {
     "data": {
      "text/plain": [
       "'Tests pass'"
      ]
     },
     "execution_count": 32,
     "metadata": {},
     "output_type": "execute_result"
    }
   ],
=======
   "outputs": [],
>>>>>>> 0f32f9302586f743da61c2bccd116a3585bc7308
   "source": [
    "test_solve_quadratic()"
   ]
  },
  {
   "cell_type": "markdown",
   "metadata": {},
   "source": [
    "but we can do better. There are a number of ways of automating the testing process, so that it \"just happpens\" without requring the programmer to do things\n",
    "\n",
    "### The `doctest` module\n",
    "\n",
    "The module [doctest](https://docs.python.org/2/library/doctest.html), from the standard Python library, provides a simple way to include code which is both a test and documentation of an example of the use of your code.\n",
    "\n",
    "To write a test, one simply copies the input and output that one would see _in the vanilla python interpreter_ pretty much identically into a docstring, whether for a function or module.\n",
    "\n",
    "\n",
    "\n",
    "_docstring_\\__test.py:_\n",
    "```python\n",
    "import doctest\n",
    "\n",
    "def mean(x):\n",
    "    \"\"\"Mean of a list of numbers.\n",
    "    \n",
    "    >>> mean([1, 5, 9)\n",
    "    5\n",
    "    \n",
    "    \"\"\"\n",
    "    return sum(x)/len(x)\n",
    "\n",
    "if __name__ == \"__main__\":\n",
    "    import doctest\n",
    "    doctest.testmod()\n",
    "\n",
    "```\n",
    "\n",
    "In this case we can run the test by calling the module as a script:\n",
    "```bash\n",
    "python3 -m docstring_test\n",
    "```"
   ]
  },
  {
   "cell_type": "markdown",
   "metadata": {},
   "source": [
    "If the test suceeds it silently returns a successful exit code. If the test fails (e.g. we replace the out put of 5.0 in the example) then an error message is printed, looking like the following:\n",
    "\n",
    "```bash\n",
    "**********************************************************************\n",
    "File \"docstring_test.py\", line 6, in __main__.mean\n",
    "Failed example:\n",
    "    mean([1, 5, 9])\n",
    "Expected:\n",
    "    3.0\n",
    "Got:\n",
    "    5.0\n",
    "**********************************************************************\n",
    "1 items had failures:\n",
    "   1 of   1 in __main__.mean\n",
    "***Test Failed*** 1 failures.\n",
    "```\n",
    "\n",
    "Doctests can also be run in Python on plain text files as\n",
    "\n",
    "```python\n",
    "import doctest\n",
    "doctest.testfile(\"example.txt\")\n",
    "```\n",
    "or from the command line as\n",
    "\n",
    "```bash\n",
    "python -m doctest example.txt\n",
    "```\n",
    "\n",
    "In fact, you can use the same syntax to skip cluttering up your code with the `if __name__ == \"__main__\":` block in your python modules."
   ]
  },
  {
   "cell_type": "markdown",
   "metadata": {},
   "source": [
    "<div class= exercise>\n",
    "\n",
    "<h4>Exercise Two:</h4>\n",
    "\n",
    "<p>Write some tests using the doctest module inside your own module or script.</p>\n",
    "\n",
    "<ol>\n",
    "    <li> First write some tests which pass.</li>\n",
    "    <li> Next write some tests which do not pass.</li>\n",
    "    <li> Swap your work with another student (why not use github?).</li>\n",
    "    <li> Fix their failing tests, either by editing the code or changing the tests.</li>\n",
    "</ol>\n",
    "\n",
    "<p>You can use some of the modules you wrote earlier in the course, or else write some new code.</p>\n",
    "\n",
    "</div>"
   ]
  },
  {
   "cell_type": "code",
   "execution_count": 41,
   "metadata": {},
   "outputs": [],
   "source": [
    "def test1():\n",
    "    '''\n",
    "    \n",
    "    '''\n",
    "    pass\n",
    "\n",
    "def test2(x):\n",
    "    '''\n",
    "    Failed example:\n",
    "    input x = [1,2,3]\n",
    "    \n",
    "    Expected: 6\n",
    "    \n",
    "    Wrong:2\n",
    "    '''\n",
    "    return sum(x)\n",
    "\n",
    "if __name__ == '__main__':\n",
    "    import doctest\n",
    "    '''\n",
    "    print(test1())\n",
    "    x = [4,5,6]\n",
    "    print(test2(x))\n",
    "    '''\n",
    "    doctest.testmod()\n",
    "#help(doctest.testmod)    "
   ]
  },
  {
   "cell_type": "markdown",
   "metadata": {
    "slideshow": {
     "slide_type": "slide"
    }
   },
   "source": [
    "### The `unittest` module\n",
    "\n",
    "It's still useful to automate things a bit more, so that we can run a wider range of tests. Python provides an inbuilt `unittest` module, which (with some work) can be used to build a test framework. It introduces the basic concept of the three stages of a test:\n",
    "1. Set up. We create anything which must already exist for a test to make sense.\n",
    "2. Running. The test itself operates\n",
    "3. Tear down. We clean up anything which won't get dealt with automatically"
   ]
  },
  {
   "cell_type": "markdown",
   "metadata": {
    "slideshow": {
     "slide_type": "subslide"
    }
   },
   "source": [
    "The file `unittest_example.py` contains the following code\n",
    "\n",
    "```python\n",
    "import unittest\n",
    "\n",
    "import numpy as np # for the sqrt function\n",
    "\n",
    "def solve_quadratic(a,b,c):\n",
    "    \"\"\"Solve a quadratic equation ax^2+bx+c=0 in the reals\"\"\"\n",
    "    if 0<b**2-4.0*a*c:\n",
    "        # two solutions\n",
    "        return ((-b-np.sqrt(b**2-4.0*a*c))/(2.0*a),(-b+np.sqrt(b**2-4.0*a*c))/(2.0*a))\n",
    "    elif 0==b**2-4.0*a*c:\n",
    "        # one solution\n",
    "        return -b/(2.0*a)\n",
    "    else:\n",
    "        # no solutions\n",
    "        return None\n",
    "\n",
    "class TestSolveQuadratic(unittest.TestCase):\n",
    "    def test_solve_quadratic(self):\n",
    "    \n",
    "        self.assertEqual(foo.solve_quadratic(1,0,-1), (-1.0,1.0))\n",
    "        self.assertEqual(foo.solve_quadratic(1,0,0), 0.0 )\n",
    "        self.assertEqual(foo.solve_quadratic(1,0,1), None)\n",
    "   \n",
    "unittest.main()\n",
    "```\n",
    "\n",
    "Running the test using the syntax\n",
    "\n",
    "```bash\n",
    "python3 unittest_example.py\n",
    "```\n",
    "\n",
    "gives the output\n",
    "\n",
    "```bash  \n",
    ".\n",
    "----------------------------------------------------------------------\n",
    "Ran 1 test in 0.000s\n",
    "\n",
    "OK\n",
    "```"
   ]
  },
  {
   "cell_type": "markdown",
   "metadata": {},
   "source": [
    "<div class= exercise>\n",
    "\n",
    "<h4>Exercise Three:</h4>\n",
    "\n",
    "Try this yourself by writing a unittest using the `unittest` module. Try breaking and then fixing the test.\n",
    "\n",
    "</div>"
   ]
  },
  {
   "cell_type": "code",
   "execution_count": 48,
   "metadata": {},
   "outputs": [
    {
     "name": "stderr",
     "output_type": "stream",
     "text": [
      "E\n",
      "======================================================================\n",
      "ERROR: /Users/xiexun/Library/Jupyter/runtime/kernel-5de4610d-b04b-4005-b701-4daf6f916b3b (unittest.loader._FailedTest)\n",
      "----------------------------------------------------------------------\n",
      "AttributeError: module '__main__' has no attribute '/Users/xiexun/Library/Jupyter/runtime/kernel-5de4610d-b04b-4005-b701-4daf6f916b3b'\n",
      "\n",
      "----------------------------------------------------------------------\n",
      "Ran 1 test in 0.001s\n",
      "\n",
      "FAILED (errors=1)\n"
     ]
    },
    {
     "ename": "SystemExit",
     "evalue": "True",
     "output_type": "error",
     "traceback": [
      "An exception has occurred, use %tb to see the full traceback.\n",
      "\u001b[0;31mSystemExit\u001b[0m\u001b[0;31m:\u001b[0m True\n"
     ]
    },
    {
     "name": "stderr",
     "output_type": "stream",
     "text": [
      "/Users/xiexun/anaconda3/lib/python3.7/site-packages/IPython/core/interactiveshell.py:3333: UserWarning: To exit: use 'exit', 'quit', or Ctrl-D.\n",
      "  warn(\"To exit: use 'exit', 'quit', or Ctrl-D.\", stacklevel=1)\n"
     ]
    }
   ],
   "source": [
    "import unittest\n",
    "import foo\n",
    "\n",
    "def fizz_buzz(x):\n",
    "    if x % 3 == 0 and x % 5 != 0:\n",
    "        return 'fizz'\n",
    "    if x % 3 != 0 and x % 5 == 0:\n",
    "        return 'buzz'\n",
    "    if x % 3 == 0 and x % 5 == 0:\n",
    "        return 'fizz buzz'\n",
    "    return x\n",
    "\n",
    "\n",
    "class TestFizzBuzz(unittest.TestCase):\n",
    "    def test_fizz_buzz(self):\n",
    "        \n",
    "        self.assertEqual(foo.fizz_buzz(1), 1)\n",
    "        self.assertEqual(foo.fizz_buzz(3), 'fizz')\n",
    "        self.assertEqual(foo.fizz_buzz(15), 'fizz buzz')\n",
    "        self.assertEqual(foo.fizz_buzz(20), 'buzz')\n",
    "unittest.main()"
   ]
  },
  {
   "cell_type": "markdown",
   "metadata": {
    "slideshow": {
     "slide_type": "slide"
    }
   },
   "source": [
    "### Pytest\n",
    "\n",
    "The `pytest` package (not included in a default Python installation) simplifies the actions of writing tests even further, as well as providing a more informative interface. Pytest can be installed with\n",
    "```bash\n",
    "pip install pytest\n",
    "```\n",
    "which also adds a tool of the same name which can be run from the command line. This tool can be used to run both `doctest`s, (add the `--doctest-modules`) and unit tests based on the unit test module (just leave out the `unittest.main()`), as well as tests in its own format.\n",
    "\n",
    "We have created a [GitHub repository](https://github.com/jrper/CI) in which the file `pytest_example.py` contains the following code\n",
    "\n",
    "```python\n",
    "\n",
    "def test_solve_quadratic():\n",
    "    \n",
    "    assert foo.solve_quadratic(1,0,-1)==(-1.0,1.0)\n",
    "    assert foo.solve_quadratic(1,0,0)==0.0\n",
    "    assert foo.solve_quadratic(1,0,1) is None\n",
    "    \n",
    "```\n",
    "\n",
    "while the `foo.py` module contains our `solve_quadratic` function. We can run the pytest tests as well as the others using the following syntax:\n",
    "\n",
    "```bash\n",
    "python -m pytest --doctest-modules pytest_example.py docstring_test.py unittest_example.py\n",
    "```"
   ]
  },
  {
   "cell_type": "markdown",
   "metadata": {},
   "source": [
    "<div class= exercise>\n",
    "\n",
    "<h4>Exercise Four:</h4>\n",
    "\n",
    "<ul>\n",
    "    <li>Clone <a href=\"https://github.com/jrper/CI\">the repository</a> using git, install <code>pytest</code> using `pip` or `conda` and run the tests.</li>\n",
    "    <li>Try breaking some of the tests by editting the <code>.py</code> files.</li>\n",
    "    <li>Write your own pytest test for some of your code.</li>\n",
    "</ul>\n",
    "\n",
    "</div>"
   ]
  },
  {
   "cell_type": "code",
   "execution_count": 57,
   "metadata": {},
   "outputs": [
    {
     "name": "stdout",
     "output_type": "stream",
     "text": [
      "\u001b[1m============================= test session starts ==============================\u001b[0m\n",
      "platform darwin -- Python 3.7.3, pytest-5.0.1, py-1.8.0, pluggy-0.12.0\n",
      "rootdir: /Users/xiexun/OneDrive - Imperial College London/ACSE/ACSE-1/lectures/Lecture 10\n",
      "plugins: openfiles-0.3.2, arraydiff-0.3, doctestplus-0.3.0, remotedata-0.3.1\n",
      "collected 3 items                                                              \u001b[0m\n",
      "\n",
      "pytest_example.py \u001b[32m.\u001b[0m\u001b[36m                                                      [ 33%]\u001b[0m\n",
      "docstring_test.py \u001b[32m.\u001b[0m\u001b[36m                                                      [ 66%]\u001b[0m\n",
      "unittest_example.py \u001b[32m.\u001b[0m\u001b[36m                                                    [100%]\u001b[0m\n",
      "\n",
      "\u001b[32m\u001b[1m=========================== 3 passed in 0.02 seconds ===========================\u001b[0m\n"
     ]
    }
   ],
   "source": [
    "import pytest\n",
    "import foo\n",
    "\n",
    "def test_solve_quadratic():\n",
    "    \n",
    "    assert foo.solve_quadratic(1,0,-1)==(-1.0,1.0)\n",
    "    assert foo.solve_quadratic(1,0,0)==0.0\n",
    "    assert foo.solve_quadratic(1,0,1) is None\n",
    "\n",
    "test_solve_quadratic()\n",
    "!python -m pytest --doctest-modules pytest_example.py docstring_test.py unittest_example.py"
   ]
  },
  {
   "cell_type": "markdown",
   "metadata": {},
   "source": [
    "### Code coverage.\n",
    "\n",
    "In general, it is best practice to ensure that your tests exercise every line of your code at least once. This is especially true for interpretted languages like Python, which only checks the syntax of a file (i.e its \"grammar\") when it is first loaded, but doesn't check that the meaning makes sense.\n",
    "\n",
    "That means you can write code like the following in a module file and it will load without error\n",
    "\n",
    "__example.py:__\n",
    "```python\n",
    "def f(x):\n",
    "    return y\n",
    "```\n",
    "\n",
    "but trying to actually run it will error out, in this case with a NameError.\n",
    "\n",
    "```python\n",
    "import example\n",
    "example.f(1)\n",
    "```\n",
    "\n",
    "returns\n",
    "```\n",
    "NameError: name 'y' is not defined\n",
    "```\n",
    "\n",
    "There is a Python package, `pytest-cov`, which adds coverage information to `pytest`. Once installed with `pip`, coverage information can be collected for a package or module called `mycoolproject` by calling `pytest` as \n",
    "\n",
    "```\n",
    "python -m pytest --cov=mycoolproject .\n",
    "```\n",
    "\n",
    "This will generate output like\n",
    "```bash\n",
    "---------- coverage: platform darwin, python 3.6.8-final-0 -----------\n",
    "Name                               Stmts   Miss  Cover\n",
    "------------------------------------------------------\n",
    "mycoolproject/__init__.py              4      0   100%\n",
    "mycoolproject/analysis.py             33     24    27%\n",
    "mycoolproject/live.py                 58     40    31%\n",
    "mycoolproject/tests/test_example.py   11      1    91%\n",
    "mycoolproject/validator.py            11      0   100%\n",
    "------------------------------------------------------\n",
    "TOTAL                                117     65    56%\n",
    "```\n",
    "\n",
    "Note that while 100% code coverage is useful, it only means that the code has been run, not that every possible code logic branch has been tested. It is a useful, but neither necessary nor sufficient clue to healthy code.\n"
   ]
  },
  {
   "cell_type": "code",
   "execution_count": 59,
   "metadata": {},
   "outputs": [
    {
     "name": "stdout",
     "output_type": "stream",
     "text": [
      "\u001b[31mERROR: usage: pytest.py [options] [file_or_dir] [file_or_dir] [...]\n",
      "pytest.py: error: unrecognized arguments: --cov=mycoolproject\n",
      "  inifile: None\n",
      "  rootdir: /Users/xiexun/OneDrive - Imperial College London/ACSE/ACSE-1/lectures/Lecture 10\n",
      "\u001b[0m\n"
     ]
    }
   ],
   "source": [
    "!python -m pytest --cov=mycoolproject"
   ]
  },
  {
   "cell_type": "markdown",
   "metadata": {},
   "source": [
    "### The many sorts of test\n",
    "\n",
    "When developing software, opportunities (and often the need) to test appear at many different levels, and these families have developed their own names.\n",
    "\n",
    "#### Unit tests\n",
    "\n",
    "Unit tests are small and (ideally) quick tests which verify the behaviour of a single programming \"unit\" (i.e. a module or function). Thus they ensure that the unit satisfies the \"contract\" it makes in isolation.\n",
    "\n",
    "Since the function is tested by itself, rather than on the job, inputs must be \"mocked up\" (i.e. hardcoded at compile time, or replaced with trivial substitutes) to generate known outputs and external dependencies may be replaced with \"test stubs\" which short circuit to quickly give the information needed by the unit being tested. The `unittest` module defines a useful class for this, called `unittest.Mock`. It also provides some other helpful functions. \n",
    "\n",
    "#### Integration tests\n",
    "\n",
    "Tests which combine multiple program units together and confirm that the interaction proceeds as expected. This might mean chaining multiple functions you write together, or using the real external dependencies rather than the fakes you generated for your unit tests. Integration tests tend exercise more code at once, but are slower to run and can be difficult to write effectively\n",
    "\n",
    "#### Feature/Functionality tests\n",
    "\n",
    "Tests which confirm an entire feature is working successfully as a whole, effectively interacting with your software as a user would. For numerical codes, this often involves analytic solutions and/or using simple \"toy\" problems which are well understood and have nice solutions. For more general software, it might even involve testing human interaction to make sure that GUIs are clear and robust.\n",
    "\n",
    "#### Regression tests\n",
    "\n",
    "Tests which check that fixed bugs stay fixed. I.e. that introducing a new change does not break the existing functionality. The tests may be at the level of the unit, integration or features. If bug reports have a minimal example attached, then this can provide the basis for useful examples for regression testing (this is a form of \"red-green\" testing similar to test driven development)."
   ]
  },
  {
   "cell_type": "markdown",
   "metadata": {
    "slideshow": {
     "slide_type": "slide"
    }
   },
   "source": [
    "## Automated Continuous integration\n",
    "\n",
    "Once you have tests, you want to make sure that any public changes to the code don't break them. For code held under version control, this means that you ideally want to rerun your test suite on all new public merges, to ensure that the code installs and runs successfully on a clean system. Continous integration (CI) and Continuous Delivery (CD) frameworks tie together version control repositories and test suites so that this happens automatically whenever a commit to production code (i.e. your _master_ branch) is proposed, or even whenever any change is commited anywhere in the repository.\n",
    "\n",
    "The goal is to first ensure that the production branch always works, so that pure users can trust they will always be able to use it securely. Meanwhile, developers can feel safe in repeatedly merging changes to and from the master version and knowing whether their code works or not. At its furthest, under the doctrine of Extreme Programming (XP), this might mean work can merged multiple times a day by every developer among moderately sized teams.\n",
    "\n",
    "XP workflows stress the following points:\n",
    "\n",
    " - Merge back to master frequently (i.e keep feature changes small and atomic )\n",
    " - Automate the software build\n",
    " - Automate the testing framework"
   ]
  },
  {
   "cell_type": "markdown",
   "metadata": {
    "slideshow": {
     "slide_type": "subslide"
    }
   },
   "source": [
    "\n",
    "### Travis CI\n",
    "\n",
    "As with test frameworks, a large number of CI/CD solutions exist. We will introduce a web-based framework called [Travis CI](https://travis-ci.com/), which interacts nicely with GitHub.\n",
    "\n",
    "A Travis build is configured from a file called `.travis.yml` stored in the root directory of the Github repository. This is another example of a YAML file, similar to the `environment.yml` file used for `conda` dependencies. [In this case](https://github.com/jrper/CI), the file looks like\n",
    "\n",
    "```yml\n",
    "language: python\n",
    "python:\n",
    "  - \"3.7\"\n",
    "# command to install dependencies\n",
    "install:\n",
    "  - pip install -r requirements.txt\n",
    "  - pip install .\n",
    "# command to run tests\n",
    "script: pytest pytest_example.py\n",
    "```"
   ]
  },
  {
   "cell_type": "markdown",
   "metadata": {
    "slideshow": {
     "slide_type": "subslide"
    }
   },
   "source": [
    "Here the first block says that we're using Python as our language of choice,and thus that Travis needs to create a Linux virtual machine capable of running (and testing) Python code. The second line gives a list of Python vetsions to support (in this case just the latest, 3.7). The `install` block then gives a list of linux shell commands to make a clean build and install of our software. For this repository, our `requirements.txt` file contains only one line:\n",
    "\n",
    "_requirements.txt_:\n",
    "```txt\n",
    "numpy>=1.13.0\n",
    "```\n",
    "\n",
    "Remember this says that we need a version of `numpy` at 1.13.0 or a more recent one. Finally the freeform `script` block runs our tests.\n",
    "\n",
    "When Travis finishes building the code and running the tests it contacts GitHub and adds a green tick (success) or red cross(failure) beside the commit when it appears. Optionally, by modifying your settings on Github, one can make a passing result a condition to merge a pull request into the _master_ branch (or others). For collaborative projects, this is often a good idea, since then at least you know that *something* works, and don't have to deal with colleagues (or yourself) accidentally breaking the master branch."
   ]
  },
  {
   "cell_type": "markdown",
   "metadata": {
    "slideshow": {
     "slide_type": "subslide"
    }
   },
   "source": [
    "<div class=info>\n",
    "\n",
    "#### Information\n",
    "\n",
    "Apart from Travis, many other CI/CD frameworks exist, e.g.\n",
    "\n",
    " - [Jenkins](https://jenkins.io), an free, open source CI tool which you can run on your own machine. Popular with Java developers.\n",
    " - [Buildbot](https://buildbot.net) - Another self-run CI tool, written and configured with Python.\n",
    " - [Azure Pipelines](https://azure.microsoft.com/en-gb/services/devops/pipelines/) -  A cloud system like Travis, this time run by Microsoft\n",
    " \n",
    "These all require their own setup files, which have many of the same concepts, but different syntax. For example, Azure Pipelines uses a file called `azure-pipelines.yml`, which looks like\n",
    "\n",
    "```yml\n",
    "trigger:\n",
    "- master\n",
    "\n",
    "pool:\n",
    "  vmImage: 'ubuntu-latest'\n",
    "\n",
    "steps:\n",
    "# set the python version to use\n",
    "- task: UsePythonVersion@0\n",
    "  displayName: \n",
    "  inputs:\n",
    "    versionSpec: '3.6'\n",
    "\n",
    "# Script sections run bash scripts \n",
    "- script: |\n",
    "    python -m pip install --upgrade pip setuptools wheel\n",
    "    pip install pytest pytest-cov\n",
    "    pip install -r requirements.txt\n",
    "  displayName: 'Install dependencies'\n",
    "\n",
    "\n",
    "# here's the actual test\n",
    "- script: PYTHONPATH=$(System.DefaultWorkingDirectory) pytest quaternions_acse --junitxml=junit/test-results.xml --cov=quaternions_acse --cov-report=xml --cov-report=html\n",
    "  displayName: 'Run pytest'\n",
    "```\n",
    "\n",
    "As you can see, this is very similar to the `.travis.yml` file above, but with a few different headings. The biggest difference is that Pipelines allows easy Windows VM builds in addition to runs on Linux.\n",
    "\n",
    "In general, which CI framework to use is rarely a true choice. Businesses and existing projects will have picked and offer support for one, and expect you to play nicely with it. Meanwhile for personal projects people want minimum effort, minimum cost solutions. On these two metrics Travis and Jenkins score highly.\n",
    "\n",
    "</div>"
   ]
  },
  {
   "cell_type": "markdown",
   "metadata": {
    "slideshow": {
     "slide_type": "subslide"
    }
   },
   "source": [
    "<div class= exercise>\n",
    "\n",
    "<h4>Exercise Five:</h4>\n",
    "\n",
    "Try this yourself:\n",
    "\n",
    "<ol>\n",
    "    <li> Fork the <a href=\"https://github.com/jrper/CI\">repository</a> on Github.com</li>\n",
    "    <li> Log into <a href=\"https://travis-ci.com\"> Travis</a> </li>\n",
    "    <li> Add the Travis GitHub app to your new repository.</li>\n",
    "    <li> Trigger a build, (or add a new commit for one to start automatically).</li>\n",
    "    <li> Add some commits to your fork to break and fix the tests.</li>\n",
    "</ol>\n",
    "\n",
    "</div>"
   ]
  },
  {
   "cell_type": "markdown",
   "metadata": {},
   "source": [
    "### Extending CI tests\n",
    "\n",
    "There are several things that can be added into the automated CI testing by editting the `.travis.yml` file:\n",
    "- Check coding Standards :- Test for `pep8`/`pylint` errors by running the tools on the code. Both tools return a failing error code by default if they detect any issues with the code base, which means they can easily be hooked into the test framework. \n",
    "- Documentation Standards :- If any pre-generated manuals/reference pdfs are created, make sure that they are up to date with the code. We can do this by rerunning the documentation tool and make sure it gives the same answer as the one in the repository.\n",
    "- Check examples :- Any examples provided should ideally be included in tests, especially for production code. This is easy for docstrings (use doctests), but for longer tests, you might have to build simplified feature testing copies, which will finish quicker.\n",
    "- Add tools (such as `pytest-cov`) to check [code coverage](https://en.wikipedia.org/wiki/Code_coverage)."
   ]
  },
  {
   "cell_type": "markdown",
   "metadata": {},
   "source": [
    "## Testing and the GitHub flow workflow\n",
    "\n",
    "When you've created a repository with a cool name, a sensible licence and some rules for how to contribute, you need to get round to actually writing some code. When adding new features, it is very easy to break existing ones, either through deliberate acts of evil (these are rare), or accidentally (this is really common). Testing is one way to avoid these problems (particularly if you [enable test checking on pull requests](https://help.github.com/en/articles/enabling-required-status-checks). Another way is to make use of the GitHub collaboration features to always practise [code review](https://github.com/features/code-review/), so that no new code is placed into the \"production\" system until someone other than the original author has examined it. These two methods complement each other, since diligent computers can catch systematic errors (i.e. bugs), while intelligent humans catch stylistic or strategic errors.\n",
    "\n",
    "The GitHub flow can be summarised as:\n",
    "\n",
    "1. New work is written in `git` branches or under a GitHub fork of the original repository.\n",
    "```bash\n",
    "git fetch\n",
    "git checkout -b feature_branch origin/master\n",
    "# do some work\n",
    "git add my_new_file.py my_old_file.py\n",
    "git commit -m \"Add the ability to frotz your foobar.\"\n",
    "# repeat as necessary.\n",
    "git push --set-upstream origin feature_branch\n",
    "```\n",
    "2. These branches are kept up-to-date with the main GitHub production branch.\n",
    "```bash\n",
    "git fetch\n",
    "git merge origin/master\n",
    "## if there are conflicts\n",
    "git mergetool\n",
    "git commit\n",
    "### otherwise carry on working\n",
    "git push\n",
    "```\n",
    "3. When a \"unit\" of work is finished, the work is `git push`ed to github (in the branch\\fork, rather than direct to master) and a [pull request]() is opened to inform collaborators with sufficient permission that there is new work to examine.\n",
    "4. Another member of the team/organization looks at the new code and checks that:\n",
    " - it does not appear malicious.\n",
    " - it matches the project code and community standards.\n",
    " - it does what it is described as doing\n",
    " - the code is tested suitably, and doesn't break anything\n",
    "5. If these standards are met, the change is merged into the target branch (often the project `master`), otherwise the author of the new work is requested to make changes until they are.\n",
    "\n",
    "\n",
    "<div class= exercise>\n",
    "\n",
    "<h4>Exercise Six:</h4>\n",
    "\n",
    "<ol>\n",
    "    <li> Upload a file to a fellow student's repository in a branch (they might need to [invite you as a collaborator](https://help.github.com/en/articles/inviting-collaborators-to-a-personal-repository)) </li>\n",
    "    <li> Raise a pull request for it. </li>\n",
    "    <li> Try and include some Markdown in your pull request message. </li>\n",
    "</ol>\n",
    "</div>\n",
    "\n",
    "<div class=interlude>\n",
    "    \n",
    "#### Interlude: Workflows\n",
    "\n",
    "In many ways git is closer to a toolkit to build your own version control system, rather than a pure version control system itself. As such, there are many different ways to use it. Atlassian, the developers of GitHub competitor Bitbucket have a nice, comprehensive [tutorial](https://www.atlassian.com/git/tutorials/comparing-workflows) comparing four different styles\n",
    "\n",
    " - A centralized workflow, using one true repository (e.g. Github) and all working in the same master branch. Advantages include that it's little work to transition from existing centralized control system such as SVN. The biggest disadvantage is it's easy to cause severe conflicts, and scales badly as team sizes increase.\n",
    " - Feature branches, in which each new feature is developed in its own git branch (possibly by several people). This minimises conflicts by keeping teams small, but risks open source projects diverging without strong leadership.\n",
    " - Gitflow. Yhis is *not* the same as the Github flow above. It also keeps a \"master\" or \"release\" branch, but goes to special efforts to keep that branch's history clean.\n",
    " - The forking workflow. Web repositories like github have an interface allowing you to [split off](https://help.github.com/en/articles/fork-a-repo) (\"fork\") your own web copy to do with as you wish. Changes there can be merged back into the original repository via pull requests, without needing any formal permissions or controls.\n",
    " \n",
    "When starting a new project it is worth reading up on workflows and deciding which one to use. There will be opportunities to experiment during the group projects.\n",
    "    \n",
    "**End of interlude**\n",
    "\n",
    "</div>\n",
    "\n",
    "### Doing good code reviews:\n",
    "\n",
    "Code reviews are/can be hard work. Doing *good* code reviews is even harder. There are several things to keep in mind:\n",
    "\n",
    "- What does the pull request claim to do? Are you sure it does it?\n",
    "- Is new code placed somewhere you would expect it to be?\n",
    "- Are there suitable tests, examples and documentation for new features?\n",
    "- What are the project coding standards? Does anything in the submission break them? As much as possible this should be addressed by code linting and automated code testing.\n",
    "\n",
    "##### Pair Programming\n",
    "\n",
    "One method to both practise critiquing code and to improve the standard of code written is [pair programming](https://en.wikipedia.org/wiki/Pair_programming). Here two coders sit together at one computer, planning to write code to solve a specific problem. One programmer 'drives' by controlling the keyboard and mouse, while the other 'navigates' by watching the screen.\n",
    "\n",
    "As the driver:\n",
    " - Concentrate on the lowest level, the \"words on the page\" of variables etc.\n",
    " - Tell the navigator what you're doing and why.\n",
    " - Keep typing.\n",
    " \n",
    "As the navigator:\n",
    " - Concentrate on the higher level strategy, \"what functions/loops do we need?\".\n",
    " - Point out mistakes being made, or coming up.\n",
    " - Point out alternatives you know about.\n",
    " - Ask questions, say what you know.\n",
    " - Look up relevant information\n",
    " - Don't check your emails!\n",
    " \n",
    "Above all, keep on topic and keep talking.\n",
    " \n",
    " There are lots of successful pairing patterns:\n",
    " - Driver - Instructor: when the navigator is generally more experienced.\n",
    " - Demonstrator - Student: when the driver is generally more experienced.\n",
    " - Collaborative Learning: when both driver and navigator are novices.\n",
    " - Meeting of minds: When both driver and learner are experts.\n",
    " \n",
    " One final note, don't try group coding with many more people than two people.\n",
    " \n",
    " > \"A camel is a horse designed by a committee.\" \n",
    " > _attributed to Sir Alec Issigonis_\n",
    " \n",
    "<div class=\"exercise\">\n",
    "    \n",
    "#### Exercise Seven: Pair Programming\n",
    "\n",
    "Find a partner and prepare to try paired programming to write some Python. There are several exercises, so be the driver at some points and the navigator at others. It's ok if you don't get the entire code finished, concentrate on the interaction with your partner.</p>\n",
    "\n",
    " - Write a script to find all the proper divisors of an integer and so find pairs of [amicable numbers](https://en.wikipedia.org/wiki/Amicable_numbers). The proper factors of a number are numbers other than itself which it divides by exactly (e.g. the proper divisors of 6 are 1, 2, and 3. Two numbers $n$ and $m$ are an amicable pair if the sum of the factors of $n$ is $m$ and the sum of the factors of $m$ is $n$. Since the sum of the factors of $6$ is $6$, it is a special kind of amicable number called a [perfect number](https://en.wikipedia.org/wiki/Perfect_number).\n",
    "\n",
    "For testing, the first amicable pairs are `(220, 284)` and `(1184, 1210)`.\n",
    "\n",
    "*Tips:*\n",
    " - You saw on Monday how to find the <i>prime</i> factors of a number, but you need to extend this to get every factor.\n",
    " - You should only use each factor once when summing. There is a Python datatype which only stores unique entries.\n",
    "\n",
    "<li><p>Write a script to list the names of the numbers from 0 to 100, as strings, in alphabetical order.</p>\n",
    "\n",
    "<p>For testing purposes, an acceptable answer for the numbers from 0 up to 5 is</p>\n",
    "\n",
    "<p><code>['five', 'four', 'one', 'three', 'two', 'zero']</code></p>\n",
    "\n",
    "<p><i>Tips:</i>\n",
    "<ul>\n",
    "<li> In theory you could do this all by hand, but loops will mean writing less code, and will work better when someone asks you to do it from 0-1,000,000</li>\n",
    "<li> The numbers from 0-19 are irregular, but from 21-99 you can often form a string like <code>'%s-%s'5(tens[2], ones[1])</code>, e.g. <code>'twenty-one'</code>.</li>\n",
    "<li> Dictionaries let you look up a string from a number, see for example the card name code which you PEP8 cleaned on Monday.</li>\n",
    "\n",
    "Write a script to turn a `.png` image upside down. Add a linear gradient in transparancy from bottom to top.\n",
    "\n",
    "<i>Tips:</i>\n",
    " - `matplotlib.pyplot` has a function `imread`, which can read `.png` files into an array.</li>\n",
    " - The [RGBA colourspace](https://en.wikipedia.org/wiki/RGBA_color_space) array format stores the [alpha channel](https://en.wikipedia.org/wiki/Alpha_compositing) value in the last index of the last dimension of the data.</li>\n",
    "</ul></p>\n",
    "\n",
    "</li>\n",
    "</ol>\n",
    "\n",
    "Model answers are available for the <a href=https://msc-acse.github.io/ACSE-1/lectures/lecture10-solutions.html#exercise4>amicable number</a>, <a href=https://msc-acse.github.io/ACSE-1/lectures/lecture10-solutions.html#exercise5>alphabetized numbers</a> and  <a href=\"https://msc-acse.github.io/ACSE-1/lectures/lecture10-solutions.html#exercise6\">inverted image</a> problems.\n",
    "\n",
    "</div>"
   ]
  },
  {
   "cell_type": "code",
   "execution_count": null,
   "metadata": {},
   "outputs": [],
   "source": []
  },
  {
   "cell_type": "code",
   "execution_count": null,
   "metadata": {},
   "outputs": [],
   "source": []
  },
  {
   "cell_type": "code",
   "execution_count": null,
   "metadata": {},
   "outputs": [],
   "source": []
  },
  {
   "cell_type": "markdown",
   "metadata": {},
   "source": [
    "## Automatic documentation\n",
    "\n",
    "Documentation is written for three broad groups of people:\n",
    "\n",
    "1. Users (\"I don't care how it does it, I care what it does.\")\n",
    "1. User-Developers (\"I build what I need.\")\n",
    "1. Developers (\"I make it, but I don't use it.\")\n",
    "\n",
    "These individuals have different needs from the documentation you provide to them. Users want to know what software can do, and how to run it for their own problems. Developers need to understand how code works, but not necessarily what it's intended for in a wider sense. User-developers need to understand both sides. Commercial software is generally written by pure developers, but a lot of scientific software (and many other small projects) is written by user-developers.\n",
    "\n",
    "For all groups, the most important piece of documentation in Python is the docstring, since it remains with the code it applies to, and connects to the Python online help. For developers & user-developers, additional comments in the body of the source text may also be useful, however users will probably never choose to look there.\n",
    "\n",
    "Although it is now generally acknowledged that the best place for living documentation is in the source code, near where it applies, since this gives the best probability of developers updating it when they changes, it is still useful to maintain a proper (electronic) manual or write-up0, both for ease of reference, and to give a general project overview.\n",
    "\n",
    "Several tools have been developed to close this gap by automatically collating comments and function call signatures from the source code and converting it into a human readable document to label as a \"manual\". Perhaps the most famous open source, cross-language documentation tool is [Doxygen](http://www.doxygen.nl). However we'll look further at a tool called [Sphinx](), which originated in the Python community and is the tool of choice on several large Python projects including SciPy, Django and [Python itself](https://docs.python.org/3/about.html) \n",
    "\n",
    "### Sphinx\n",
    "\n",
    "You can install the core Sphinx documentation generation tools with the command\n",
    "\n",
    "```bash\n",
    "pip install sphinx\n",
    "```\n",
    "\n",
    "Sphinx works by converting [reStructured text](http://docutils.sourceforge.net/docs/user/rst/quickstart.html), whether inside docstrings or in special files into HTML pages or PDF files.\n",
    "\n",
    "The simplest use pattern is probably to use the automatic scanning tools to collect together all the docstrings into an index of APIs.\n",
    "\n",
    "This requires creating two files, the first containing the configuration options for the Sphinx toosl, and the second containing a skeleton reStructured text file into which to slot the generated documentation:\n",
    "\n",
    "_`docs/conf.py`_:\n",
    "\n",
    "```python\n",
    "import sys\n",
    "import os\n",
    "\n",
    "## We're working in the ./docs directory, but need the package root in the path\n",
    "## This command appends the directory one level up, in a cross-platform way. \n",
    "sys.path.insert(0, os.path.abspath(os.sep.join((os.curdir, '..'))))\n",
    "\n",
    "project = 'MyCoolProject'\n",
    "extensions = ['sphinx.ext.autodoc',\n",
    "              'sphinx.ext.napoleon',\n",
    "              'sphinx.ext.mathjax']\n",
    "source_suffix = '.rst'\n",
    "master_doc = 'index'\n",
    "exclude_patterns = ['_build']\n",
    "autoclass_content = \"both\"\n",
    "```\n",
    "\n",
    "_`docs/index.rst`_:\n",
    "\n",
    "```rst\n",
    "#############\n",
    "mycoolproject\n",
    "#############\n",
    "\n",
    "\n",
    "A heading\n",
    "---------\n",
    "\n",
    "This is just example text, perhaps with mathematics like :math:`x^2`, **bold text** and *italics*.\n",
    "It might also include citations [1]_ inline references to functions like :func:`my_func` or even whole code blocks::\n",
    "\n",
    "    def my_example(a, b):\n",
    "        \"\"\"Do something!\"\"\"\n",
    "        return a**b+1\n",
    "\n",
    ".. automodule:: mycoolproject\n",
    "  :members:\n",
    "  \n",
    "  \n",
    ".. rubric:: References\n",
    "[1] http://www.sphinx-doc.org/en/master/usage/restructuredtext/basics.html#citations\n",
    "```\n",
    "\n",
    "\n",
    "With this setup we can build a `html` version of the documentation with the command\n",
    "\n",
    "```bash\n",
    "sphinx-build -b html docs docs/html\n",
    "```\n",
    "\n",
    "<div class=warn>\n",
    "    \n",
    "<h4>Warning</h4>\n",
    "\n",
    "Microsoft Windows uses `\\` as the separator symbol between levels in the directory tree. Meanwhile Linux and Mac OSX use `/`. This makes it almost impossible for human-readable notes to give paths that work on both sets of computers (it's a lot easier for Python code, just use `os.sep` from the `os` module. In this section I use the \\*nix standard of `/` in the write-up, to match the Sphinx documentation. Please remember to convert in your head on a Windows computer.\n",
    "\n",
    "</div>\n",
    "\n",
    "If this is successful, you should be able to open `./docs/html/index.html` to see documentation automatically generated from the docstrings in your project. Sphinx also supports other output formats (for example LaTeX) with the `-b` flag. A recipe to generate a `pdf` manual on a suitably configured system is\n",
    "\n",
    "```bash\n",
    "sphinx-build -b latex docs .\n",
    "pdflatex MyCoolProject.tex\n",
    "pdflatex MyCoolProject.tex\n",
    "```\n",
    "\n",
    "which will generate `MyCoolProject.pdf`. We run LaTeX twice to ensure that references and citations (including the index) are set correctly. \n",
    "\n",
    "\n",
    "<div class=exercise>\n",
    "\n",
    "<h4> Exercise Eight: Autodocumenting your module</h4>\n",
    "\n",
    "<ul><li> Use <code>pip</code> or <code>conda</code> to install <code>sphinx</code> on your computer. </li>\n",
    "<li> Create a <code>docs</code> directory inside your module and add <code>conf.py</code> and <code>index.rst</code> files based on the ones given above.</li>\n",
    "<li> Run <code>sphinx-build</code> to generate <code>html</code> documentation for your project.</li>\n",
    "<li> Try editting the <code>index.rst</code> file to add more text.</li></ul>\n",
    "    \n",
    "</div>\n",
    "\n",
    "<div class=interlude>\n",
    "    \n",
    "#### Interlude: GUIs\n",
    "\n",
    "There exist a number of GUI Toolkits compatible with Python, including [TK](https://docs.python.org/3/library/tk.html), [GTK+](https://python-gtk-3-tutorial.readthedocs.io/en/latest/) and [QT5](https://www.riverbankcomputing.com/static/Docs/PyQt5/). We'll give an example of the use of the last one, since it interacts well with Anaconda.\n",
    "\n",
    "The following requires the `pyqt` package.\n",
    "\n",
    "```python\n",
    "from qtpy import QtWidgets, QtCore\n",
    "import sys\n",
    "\n",
    "class MainWindow(QtWidgets.QMainWindow):\n",
    "    \n",
    "    def __init__(self, parent=None):\n",
    "\n",
    "        super().__init__()\n",
    "        self.setWindowTitle(\"Hello world!\")\n",
    "        \n",
    "        widget = QtWidgets.QWidget()\n",
    "        self.setCentralWidget(widget)\n",
    "\n",
    "        layout = QtWidgets.QVBoxLayout(self)\n",
    "        widget.setLayout(layout)\n",
    "        \n",
    "        self.label = QtWidgets.QLabel(\"A qt GUI\", self)\n",
    "        self.label.setAlignment(QtCore.Qt.AlignCenter)\n",
    "        layout.addWidget(self.label)\n",
    "        \n",
    "        self.greet_button = QtWidgets.QPushButton(\"Greet\", self)\n",
    "        self.greet_button.clicked.connect(self.greet)\n",
    "        layout.addWidget(self.greet_button)\n",
    "        \n",
    "        self.close_button = QtWidgets.QPushButton(\"Close\", self)\n",
    "        self.close_button.clicked.connect(self.close)\n",
    "        layout.addWidget(self.close_button)\n",
    "        \n",
    "    def greet(self, widget, callback_data=None):\n",
    "        print(\"Greetings!\")\n",
    "        \n",
    "    def quit(self):\n",
    "        self.app.exit()\n",
    "        \n",
    "app = QtWidgets.QApplication(sys.argv)\n",
    "win = MainWindow(app)\n",
    "win.show()\n",
    "\n",
    "if __name__ == \"__main__\":\n",
    "    sys.exit(app.exec_())\n",
    "```\n",
    "\n",
    "When run, this script creates a basic windoxbox, with two buttons. The \"Greet\" button directs a greeting to your console, the \"Close\" button closes the window. Although small, this toy example demonstrates the use of Python to generate and control a widget, and can easily be extended.\n",
    "\n",
    "**End of interlude**\n",
    "\n",
    "</div>"
   ]
  },
  {
   "cell_type": "markdown",
   "metadata": {},
   "source": [
    "## Sandboxing & virtual environments\n",
    "\n",
    "Yesterday we discussed how to wrap python code up into a package, and with its own name and version number. There are several situations in which it can be useful to \"[sandbox](https://docs.python.org/3.6/library/venv.html)\" code into its own space so that other package installations cannot interfere with it, and so that it cannot interfere with them.\n",
    "\n",
    " - Sometimes packages have mutually incompatible version dependencies, e.g. package A only works with version 1.1 of package B, while package C needs version 1.2\n",
    " - Sometimes packages have the same name, but do different things, creating a namespace clash.\n",
    " - Sometimes you need a clean environment to test your package dependencies to write your `requirements.txt` file.\n",
    " \n",
    "Python comes with an [inbuilt library](https://docs.python.org/3.6/library/venv.html) called `venv` which can be used to create so-called \"virtual environments\". Inside a virtual environment, only the packages and tools you explicitly choose copy across to are available, at the version numbers you request. This gives a quick, easy access to a \"clean\" system, be it for testing, or to run mutually incompatible software.\n",
    "\n",
    "To create a new `venv` environment you can run a command like\n",
    "```bash\n",
    "python -m venv foo\n",
    "```\n",
    "or, on systems with both Python 2 and Python available,\n",
    "```bash\n",
    "python3 -m venv foo\n",
    "```\n",
    "\n",
    "This will create a new directory `./foo/` containing the files relevant to that virtual environment. To start the environment on Windows run\n",
    "```bash\n",
    "foo\\Scripts\\activate.bat\n",
    "```\n",
    "or on unix shell like systems\n",
    "```bash\n",
    "source foo/bin/activate\n",
    "```\n",
    "\n",
    "To turn it off again, run\n",
    "```bash\n",
    ".\\foo\\Scripts\\deactivate.bat\n",
    "```\n",
    "on Windows or just type\n",
    "```bash\n",
    "deactivate\n",
    "```\n",
    "on most other shells.\n",
    "\n",
    "\n",
    "##### Building a `requirements.txt` file using `venv`\n",
    "\n",
    "Switching to a `venv` environment is one way to build up a short list of required packages for a new project. You can start up a blank enivronment and then try to build and run your code. If a dependency is missing, this should fail with an `ImportError` message\n",
    "\n",
    "```\n",
    "Traceback (most recent call last):\n",
    "   File \"<string>\", line 1, in <module>\n",
    "   File \"/tmp/pip-ukwnrb23-build/setup.py\", line 5, in <module>\n",
    "     from numpy import get_include\n",
    "   ImportError: No module named 'numpy'\n",
    "```\n",
    "\n",
    "Ideally you will then be able to recognise the missing dependency (in this case `numpy`) and fix it by running a command like `pip install numpy`. After repeating as needed to fix any further requirements you can generate a `requirements.txt` compatible list of your Python environment (with the command `pip freeze`, this also lists the currently installed version)."
   ]
  },
  {
   "cell_type": "markdown",
   "metadata": {},
   "source": [
    "<div class= exercise>\n",
    "\n",
    "#### Exercise Nine: Make a `venv`\n",
    "<p>Create your own <code>venv</code> environment, giving it a name of your choice. Activate it. Note the difference it makes to your command prompt.</p>\n",
    "\n",
    "<p>Double check the installed package list using <code>pip list</code>. Install a package into the virtual environment (such as <code>matplotlib</code>) using <code>pip</code>. Check that the list of installed packages inside the environment changes.</p>\n",
    "\n",
    "<p>Install the package you wrote into your virtual environment. </p>\n",
    "\n",
    "</div>"
   ]
  },
  {
   "cell_type": "markdown",
   "metadata": {},
   "source": [
    "<div class= info>\n",
    "\n",
    "<h4> In this lecture we learned:</h4>\n",
    "\n",
    "<ul>\n",
    "    <li>How to write a formal test</li>\n",
    "    <li>The basics of Test Driven Development</li>\n",
    "    <li>To use automated testing using testing frameworks and py.test</li>\n",
    "    <li>To apply Continuous Integration using Travis</li>\n",
    "    <li>Documentation via Sphinx</li>\n",
    "    <li>Python Virtual Environments</li>\n",
    "</ul>\n",
    "\n",
    "Next lecture Thursday 2pm with Tim Greaves.\n",
    "\n",
    "</div>"
   ]
  },
  {
   "cell_type": "markdown",
   "metadata": {},
   "source": [
    "## Further Reading\n",
    "\n",
    "- The Python documentaion on [unittest](https://docs.python.org/3/library/unittest.html) and [doctest](https://docs.python.org/3/library/doctest.html).\n",
    "- The Pytest [documentation](https://pytest.readthedocs.io/en/latest/).\n",
    "- A software carpentry [lecture](https://intermediate-and-advanced-software-carpentry.readthedocs.io/en/latest/testing-python.html) on testing.\n",
    "- [Travis-ci.com tutorials](https://docs.travis-ci.com).\n",
    "- The Python documentation page on [venv](https://docs.python.org/3.6/library/venv.html)\n",
    "- A much fuller [Sphinx tutorial](https://pythonhosted.org/an_example_pypi_project/sphinx.html)"
   ]
  },
  {
   "cell_type": "code",
   "execution_count": 16,
   "metadata": {},
   "outputs": [
    {
     "data": {
      "text/html": [
       "<style>\n",
       "div.warn {    \n",
       "    background-color: #fcf2f2;\n",
       "    border-color: #dFb5b4;\n",
       "    border-top: 0px;\n",
       "    border-left: 5px solid #dfb5b4;\n",
       "    padding: 0.5em;\n",
       "    }\n",
       "\n",
       "div.exercise {    \n",
       "    background-color: #B0E0E6;\n",
       "    border-color: #B0E0E6;\n",
       "    border-left: 5px solid #1E90FF;\n",
       "    padding: 0.5em;\n",
       "    }\n",
       "\n",
       "div.info {    \n",
       "    background-color: #F5F5DC;\n",
       "    border-color: #F5F5DC;\n",
       "    border-top: 0px;\n",
       "    border-left: 5px solid #DAA520;\n",
       "    padding: 0.5em;\n",
       "    }\n",
       "\n",
       "div.interlude {    \n",
       "    background-color: #E6E6FA;\n",
       "    border-color: #E6E6FA;\n",
       "    border-top: 0px;\n",
       "    border-left: 5px solid #4B0082;\n",
       "    padding: 0.5em;\n",
       "    }\n",
       "    \n",
       "div.assessment {    \n",
       "    background-color: #98FB98;\n",
       "    border-color: #228B22;\n",
       "    border-top: 0px;\n",
       "    border-left: 5px solid #228B22;\n",
       "    padding: 0.5em;\n",
       "    }\n",
       "\n",
       " </style>\n"
      ],
      "text/plain": [
       "<IPython.core.display.HTML object>"
      ]
     },
     "execution_count": 16,
     "metadata": {},
     "output_type": "execute_result"
    }
   ],
   "source": [
    "# This cell sets the css styles for the rest of the notebook.\n",
    "# Unless you are particlarly interested in that kind of thing, you can safely ignore it\n",
    "\n",
    "from IPython.core.display import HTML\n",
    "\n",
    "def css_styling():\n",
    "    styles = \"\"\"<style>\n",
    "div.warn {    \n",
    "    background-color: #fcf2f2;\n",
    "    border-color: #dFb5b4;\n",
    "    border-top: 0px;\n",
    "    border-left: 5px solid #dfb5b4;\n",
    "    padding: 0.5em;\n",
    "    }\n",
    "\n",
    "div.exercise {    \n",
    "    background-color: #B0E0E6;\n",
    "    border-color: #B0E0E6;\n",
    "    border-left: 5px solid #1E90FF;\n",
    "    padding: 0.5em;\n",
    "    }\n",
    "\n",
    "div.info {    \n",
    "    background-color: #F5F5DC;\n",
    "    border-color: #F5F5DC;\n",
    "    border-top: 0px;\n",
    "    border-left: 5px solid #DAA520;\n",
    "    padding: 0.5em;\n",
    "    }\n",
    "\n",
    "div.interlude {    \n",
    "    background-color: #E6E6FA;\n",
    "    border-color: #E6E6FA;\n",
    "    border-top: 0px;\n",
    "    border-left: 5px solid #4B0082;\n",
    "    padding: 0.5em;\n",
    "    }\n",
    "    \n",
    "div.assessment {    \n",
    "    background-color: #98FB98;\n",
    "    border-color: #228B22;\n",
    "    border-top: 0px;\n",
    "    border-left: 5px solid #228B22;\n",
    "    padding: 0.5em;\n",
    "    }\n",
    "\n",
    " </style>\n",
    "\"\"\"\n",
    "    return HTML(styles)\n",
    "css_styling()"
   ]
  },
  {
   "cell_type": "code",
   "execution_count": null,
   "metadata": {},
   "outputs": [],
   "source": []
  }
 ],
 "metadata": {
  "kernelspec": {
   "display_name": "Python 3",
   "language": "python",
   "name": "python3"
  },
  "language_info": {
   "codemirror_mode": {
    "name": "ipython",
    "version": 3
   },
   "file_extension": ".py",
   "mimetype": "text/x-python",
   "name": "python",
   "nbconvert_exporter": "python",
   "pygments_lexer": "ipython3",
   "version": "3.7.3"
  },
  "toc": {
   "base_numbering": 1,
   "nav_menu": {},
   "number_sections": true,
   "sideBar": true,
   "skip_h1_title": true,
   "title_cell": "Table of Contents",
   "title_sidebar": "Contents",
   "toc_cell": true,
   "toc_position": {},
   "toc_section_display": true,
   "toc_window_display": true
  }
 },
 "nbformat": 4,
 "nbformat_minor": 4
}
