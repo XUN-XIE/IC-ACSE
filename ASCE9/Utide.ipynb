{
 "cells": [
  {
   "cell_type": "code",
   "execution_count": 1,
   "metadata": {},
   "outputs": [],
   "source": [
    "import numpy as np\n",
    "from scipy.io import loadmat\n",
    "import matplotlib.pyplot as plt\n",
    "import utide"
   ]
  },
  {
   "cell_type": "code",
   "execution_count": 2,
   "metadata": {},
   "outputs": [],
   "source": [
    "m1 = loadmat(\"./Data/1/t1\")"
   ]
  },
  {
   "cell_type": "code",
   "execution_count": 19,
   "metadata": {},
   "outputs": [
    {
     "data": {
      "text/plain": [
       "array([[    900,    1800,    2700, ..., 5355000, 5355900, 5356800]],\n",
       "      dtype=int32)"
      ]
     },
     "execution_count": 19,
     "metadata": {},
     "output_type": "execute_result"
    }
   ],
   "source": [
    "m1[\"t1\"]"
   ]
  },
  {
   "cell_type": "code",
   "execution_count": 4,
   "metadata": {},
   "outputs": [
    {
     "data": {
      "text/plain": [
       "{'__header__': b'MATLAB 5.0 MAT-file, Platform: PCWIN64, Created on: Fri May 13 17:44:15 2016',\n",
       " '__version__': '1.0',\n",
       " '__globals__': [],\n",
       " 't1': array([[    900,    1800,    2700, ..., 5355000, 5355900, 5356800]],\n",
       "       dtype=int32)}"
      ]
     },
     "execution_count": 4,
     "metadata": {},
     "output_type": "execute_result"
    }
   ],
   "source": [
    "m1"
   ]
  },
  {
   "cell_type": "code",
   "execution_count": 5,
   "metadata": {},
   "outputs": [],
   "source": [
    "v1 = loadmat(\"./Data/1/v1\")"
   ]
  },
  {
   "cell_type": "code",
   "execution_count": 6,
   "metadata": {},
   "outputs": [
    {
     "data": {
      "text/plain": [
       "{'__header__': b'MATLAB 5.0 MAT-file, Platform: PCWIN64, Created on: Fri May 13 17:44:15 2016',\n",
       " '__version__': '1.0',\n",
       " '__globals__': [],\n",
       " 'v1': array([[ 3.0385111e-14-2.3689434e-15j,  5.2217337e-14-4.6933824e-15j,\n",
       "          3.3002539e-11-2.5679178e-11j, ...,\n",
       "          3.4714399e-01+3.5771832e-02j,  5.0936630e-02+8.6331846e-03j,\n",
       "         -2.6901432e-01-4.7730377e-02j]])}"
      ]
     },
     "execution_count": 6,
     "metadata": {},
     "output_type": "execute_result"
    }
   ],
   "source": [
    "v1"
   ]
  },
  {
   "cell_type": "code",
   "execution_count": 14,
   "metadata": {},
   "outputs": [
    {
     "data": {
      "text/plain": [
       "(1, 5952)"
      ]
     },
     "execution_count": 14,
     "metadata": {},
     "output_type": "execute_result"
    }
   ],
   "source": [
    "v1['v1'].shape"
   ]
  },
  {
   "cell_type": "code",
   "execution_count": 22,
   "metadata": {},
   "outputs": [
    {
     "data": {
      "text/plain": [
       "5760"
      ]
     },
     "execution_count": 22,
     "metadata": {},
     "output_type": "execute_result"
    }
   ],
   "source": [
    "5760"
   ]
  },
  {
   "cell_type": "code",
   "execution_count": 23,
   "metadata": {},
   "outputs": [],
   "source": [
    "m2 = loadmat(\"./Data/1/t2\")"
   ]
  },
  {
   "cell_type": "code",
   "execution_count": 29,
   "metadata": {},
   "outputs": [
    {
     "data": {
      "text/plain": [
       "array([ 173700,  174600,  175500, ..., 5355000, 5355900, 5356800],\n",
       "      dtype=int32)"
      ]
     },
     "execution_count": 29,
     "metadata": {},
     "output_type": "execute_result"
    }
   ],
   "source": [
    "m2['t2'][0,192:]"
   ]
  },
  {
   "cell_type": "code",
   "execution_count": null,
   "metadata": {},
   "outputs": [],
   "source": []
  },
  {
   "cell_type": "code",
   "execution_count": null,
   "metadata": {},
   "outputs": [],
   "source": []
  },
  {
   "cell_type": "code",
   "execution_count": null,
   "metadata": {},
   "outputs": [],
   "source": []
  },
  {
   "cell_type": "code",
   "execution_count": null,
   "metadata": {},
   "outputs": [],
   "source": []
  },
  {
   "cell_type": "code",
   "execution_count": 25,
   "metadata": {},
   "outputs": [],
   "source": [
    "def read_data(base_path):\n",
    "    name = [\"t1\", \"t2\", \"t3\", \"t4\", \"v1\", \"v2\", \"v3\", \"v4\"]\n",
    "    data = []\n",
    "    for i in name:\n",
    "        path = base_path + i + \".mat\"\n",
    "        tmp = loadmat(path)\n",
    "        tmp_data = tmp[i]\n",
    "        \n",
    "        data.append(tmp_data.reshape(-1))\n",
    "    \n",
    "    return data"
   ]
  },
  {
   "cell_type": "code",
   "execution_count": 26,
   "metadata": {},
   "outputs": [],
   "source": [
    "data = read_data(\"./Data/1/\")"
   ]
  },
  {
   "cell_type": "code",
   "execution_count": null,
   "metadata": {},
   "outputs": [],
   "source": []
  },
  {
   "cell_type": "code",
   "execution_count": 27,
   "metadata": {},
   "outputs": [
    {
     "name": "stdout",
     "output_type": "stream",
     "text": [
      "solve: matrix prep ... solution ... diagnostics ... done.\n"
     ]
    }
   ],
   "source": [
    "bunch1_1 = utide.solve(data[0], data[4], lat=30)"
   ]
  },
  {
   "cell_type": "code",
   "execution_count": 28,
   "metadata": {},
   "outputs": [
    {
     "name": "stdout",
     "output_type": "stream",
     "text": [
      "prep/calcs ... done.\n"
     ]
    }
   ],
   "source": [
    "tide = utide.reconstruct(data[0], bunch1_1)"
   ]
  },
  {
   "cell_type": "code",
   "execution_count": 29,
   "metadata": {},
   "outputs": [
    {
     "data": {
      "text/plain": [
       "{'t_in': array([    900,    1800,    2700, ..., 5355000, 5355900, 5356800],\n",
       "       dtype=int32),\n",
       " 'epoch': 'python',\n",
       " 'constit': None,\n",
       " 'min_SNR': 2,\n",
       " 'min_PE': 0,\n",
       " 't_mpl': array([    900,    1800,    2700, ..., 5355000, 5355900, 5356800],\n",
       "       dtype=int32),\n",
       " 'h': array([633.86066412, 633.86067445, 633.86068478, ..., 633.92212208,\n",
       "        633.92213241, 633.92214274])}"
      ]
     },
     "execution_count": 29,
     "metadata": {},
     "output_type": "execute_result"
    }
   ],
   "source": [
    "tide"
   ]
  },
  {
   "cell_type": "code",
   "execution_count": 57,
   "metadata": {},
   "outputs": [],
   "source": [
    "comb_t = loadmat(\"./Sampling/combn_hour.mat\")"
   ]
  },
  {
   "cell_type": "code",
   "execution_count": 58,
   "metadata": {},
   "outputs": [
    {
     "data": {
      "text/plain": [
       "array([[13, 13],\n",
       "       [14, 10],\n",
       "       [ 2,  9],\n",
       "       ...,\n",
       "       [ 6,  8],\n",
       "       [15,  5],\n",
       "       [ 1, 10]], dtype=uint8)"
      ]
     },
     "execution_count": 58,
     "metadata": {},
     "output_type": "execute_result"
    }
   ],
   "source": [
    "comb_t['combn']"
   ]
  },
  {
   "cell_type": "code",
   "execution_count": 59,
   "metadata": {},
   "outputs": [
    {
     "data": {
      "text/plain": [
       "(2184, 2)"
      ]
     },
     "execution_count": 59,
     "metadata": {},
     "output_type": "execute_result"
    }
   ],
   "source": [
    "comb_t['combn'].shape"
   ]
  },
  {
   "cell_type": "code",
   "execution_count": 30,
   "metadata": {},
   "outputs": [],
   "source": [
    "constitue = loadmat(\"./UTide/ut_constants.mat\")"
   ]
  },
  {
   "cell_type": "code",
   "execution_count": 32,
   "metadata": {},
   "outputs": [
    {
     "data": {
      "text/plain": [
       "dict_keys(['__header__', '__version__', '__globals__', 'const', 'sat', 'shallow', 'ut_version'])"
      ]
     },
     "execution_count": 32,
     "metadata": {},
     "output_type": "execute_result"
    }
   ],
   "source": [
    "constitue.keys()"
   ]
  },
  {
   "cell_type": "code",
   "execution_count": 46,
   "metadata": {},
   "outputs": [
    {
     "data": {
      "text/plain": [
       "array(['Z0  ', 'SA  ', 'SSA ', 'MSM ', 'MM  ', 'MSF ', 'MF  ', 'ALP1',\n",
       "       '2Q1 ', 'SIG1', 'Q1  ', 'RHO1', 'O1  ', 'TAU1', 'BET1', 'NO1 ',\n",
       "       'CHI1', 'PI1 ', 'P1  ', 'S1  ', 'K1  ', 'PSI1', 'PHI1', 'THE1',\n",
       "       'J1  ', '2PO1', 'SO1 ', 'OO1 ', 'UPS1', 'ST36', '2NS2', 'ST37',\n",
       "       'ST1 ', 'OQ2 ', 'EPS2', 'ST2 ', 'ST3 ', 'O2  ', '2N2 ', 'MU2 ',\n",
       "       'SNK2', 'N2  ', 'NU2 ', 'ST4 ', 'OP2 ', 'GAM2', 'H1  ', 'M2  ',\n",
       "       'H2  ', 'MKS2', 'ST5 ', 'ST6 ', 'LDA2', 'L2  ', '2SK2', 'T2  ',\n",
       "       'S2  ', 'R2  ', 'K2  ', 'MSN2', 'ETA2', 'ST7 ', '2SM2', 'ST38',\n",
       "       'SKM2', '2SN2', 'NO3 ', 'MO3 ', 'M3  ', 'NK3 ', 'SO3 ', 'MK3 ',\n",
       "       'SP3 ', 'SK3 ', 'ST8 ', 'N4  ', '3MS4', 'ST39', 'MN4 ', 'ST9 ',\n",
       "       'ST40', 'M4  ', 'ST10', 'SN4 ', 'KN4 ', 'MS4 ', 'MK4 ', 'SL4 ',\n",
       "       'S4  ', 'SK4 ', 'MNO5', '2MO5', '3MP5', 'MNK5', '2MP5', '2MK5',\n",
       "       'MSK5', '3KM5', '2SK5', 'ST11', '2NM6', 'ST12', '2MN6', 'ST13',\n",
       "       'ST41', 'M6  ', 'MSN6', 'MKN6', 'ST42', '2MS6', '2MK6', 'NSK6',\n",
       "       '2SM6', 'MSK6', 'S6  ', 'ST14', 'ST15', 'M7  ', 'ST16', '3MK7',\n",
       "       'ST17', 'ST18', '3MN8', 'ST19', 'M8  ', 'ST20', 'ST21', '3MS8',\n",
       "       '3MK8', 'ST22', 'ST23', 'ST24', 'ST25', 'ST26', '4MK9', 'ST27',\n",
       "       'ST28', 'M10 ', 'ST29', 'ST30', 'ST31', 'ST32', 'ST33', 'M12 ',\n",
       "       'ST34', 'ST35'], dtype='<U4')"
      ]
     },
     "execution_count": 46,
     "metadata": {},
     "output_type": "execute_result"
    }
   ],
   "source": [
    "constitue[\"const\"][0][0][0]"
   ]
  },
  {
   "cell_type": "code",
   "execution_count": 54,
   "metadata": {},
   "outputs": [
    {
     "data": {
      "text/plain": [
       "13"
      ]
     },
     "execution_count": 54,
     "metadata": {},
     "output_type": "execute_result"
    }
   ],
   "source": [
    "len(constitue[\"const\"][0][0])"
   ]
  },
  {
   "cell_type": "code",
   "execution_count": null,
   "metadata": {},
   "outputs": [],
   "source": []
  },
  {
   "cell_type": "code",
   "execution_count": null,
   "metadata": {},
   "outputs": [],
   "source": []
  }
 ],
 "metadata": {
  "kernelspec": {
   "display_name": "Python 3",
   "language": "python",
   "name": "python3"
  },
  "language_info": {
   "codemirror_mode": {
    "name": "ipython",
    "version": 3
   },
   "file_extension": ".py",
   "mimetype": "text/x-python",
   "name": "python",
   "nbconvert_exporter": "python",
   "pygments_lexer": "ipython3",
   "version": "3.7.6"
  }
 },
 "nbformat": 4,
 "nbformat_minor": 4
}
