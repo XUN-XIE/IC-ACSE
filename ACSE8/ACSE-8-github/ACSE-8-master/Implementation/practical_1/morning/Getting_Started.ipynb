{
 "cells": [
  {
   "cell_type": "markdown",
   "metadata": {
    "colab_type": "text",
    "id": "n4fcdzt1L0fL"
   },
   "source": [
    "# Getting Started\n",
    "\n",
    "Prior to the first session make sure you can run the following commands in a [Colab](https://colab.research.google.com/) instance.\n",
    "\n",
    "You will need to register for a Google Account (Make a throwaway account if you do not want google to have your data).  \n",
    "\n",
    "Register on the Kaggle Platform (required for Mini-Project): [Link](https://www.kaggle.com)\n",
    "\n",
    "If you are unable to access Colab/Kaggle due to your location, get in touch with Navjot as soon as possible to make alternate arrangements for yourself. \n",
    "\n",
    "## Mounting your google drive\n",
    "\n",
    "You can use google drive to store and access files e.g. storing and loading data from numpy or CSV files.  \n",
    "Use the following command to mount your GDrive and access your files."
   ]
  },
  {
   "cell_type": "code",
   "execution_count": 1,
   "metadata": {
    "colab": {
     "base_uri": "https://localhost:8080/",
     "height": 127
    },
    "colab_type": "code",
    "id": "ydOU6YpVLaow",
    "outputId": "d06e6bc5-0fb3-42e5-9784-e965ca81278e"
   },
   "outputs": [
    {
     "ename": "ModuleNotFoundError",
     "evalue": "No module named 'google'",
     "output_type": "error",
     "traceback": [
      "\u001b[0;31m---------------------------------------------------------------------------\u001b[0m",
      "\u001b[0;31mModuleNotFoundError\u001b[0m                       Traceback (most recent call last)",
      "\u001b[0;32m<ipython-input-1-9a9a89271754>\u001b[0m in \u001b[0;36m<module>\u001b[0;34m\u001b[0m\n\u001b[0;32m----> 1\u001b[0;31m \u001b[0;32mfrom\u001b[0m \u001b[0mgoogle\u001b[0m\u001b[0;34m.\u001b[0m\u001b[0mcolab\u001b[0m \u001b[0;32mimport\u001b[0m \u001b[0mdrive\u001b[0m\u001b[0;34m\u001b[0m\u001b[0;34m\u001b[0m\u001b[0m\n\u001b[0m\u001b[1;32m      2\u001b[0m \u001b[0mdrive\u001b[0m\u001b[0;34m.\u001b[0m\u001b[0mmount\u001b[0m\u001b[0;34m(\u001b[0m\u001b[0;34m'/content/gdrive/'\u001b[0m\u001b[0;34m)\u001b[0m\u001b[0;34m\u001b[0m\u001b[0;34m\u001b[0m\u001b[0m\n",
      "\u001b[0;31mModuleNotFoundError\u001b[0m: No module named 'google'"
     ]
    }
   ],
   "source": [
    "from google.colab import drive\n",
    "drive.mount('/content/gdrive/')"
   ]
  },
  {
   "cell_type": "markdown",
   "metadata": {
    "colab_type": "text",
    "id": "DL-fBcjpMwhd"
   },
   "source": [
    "## Using the GPU\n",
    "\n",
    "Google Colab enables us to obtain free GPU computing resources.  \n",
    "You can switch the runtime of Google Colab from CPU to GPU based via the ```toolbar```:  \n",
    "\n",
    "Commands:\n",
    "```Runtime -> Change Runtime Type -> Hardware Accelerator -> GPU```"
   ]
  },
  {
   "cell_type": "code",
   "execution_count": 5,
   "metadata": {
    "colab": {
     "base_uri": "https://localhost:8080/",
     "height": 35
    },
    "colab_type": "code",
    "id": "0mUJobaLLh-7",
    "outputId": "15cc2f72-0769-4092-d671-fb8185954c15"
   },
   "outputs": [
    {
     "name": "stdout",
     "output_type": "stream",
     "text": [
      "No GPU available!\n"
     ]
    }
   ],
   "source": [
    "import torch\n",
    "\n",
    "device = 'cpu'\n",
    "if torch.cuda.device_count() > 0 and torch.cuda.is_available():\n",
    "    print(\"Cuda installed! Running on GPU!\")\n",
    "    device = 'cuda'\n",
    "else:\n",
    "    print(\"No GPU available!\")"
   ]
  },
  {
   "cell_type": "markdown",
   "metadata": {
    "colab_type": "text",
    "id": "6twj4vhbNTUu"
   },
   "source": [
    "## Using Git Repositories\n",
    "\n",
    "You can clone into Git repositories as well!\n",
    "(You can even commit to Git Repositories via ```File -> Save a copy in Github```)\n",
    "Use the ```%cd [directory]``` jupyter cell-magic to access the folder."
   ]
  },
  {
   "cell_type": "code",
   "execution_count": 6,
   "metadata": {
    "colab": {
     "base_uri": "https://localhost:8080/",
     "height": 161
    },
    "colab_type": "code",
    "id": "7kj2vi0tLvf4",
    "outputId": "1bdf391a-c89e-456f-e32b-95c27f355ee9"
   },
   "outputs": [
    {
     "name": "stdout",
     "output_type": "stream",
     "text": [
      "Cloning into 'awesome-machine-learning'...\n",
      "remote: Enumerating objects: 54, done.\u001b[K\n",
      "remote: Counting objects: 100% (54/54), done.\u001b[K\n",
      "remote: Compressing objects: 100% (46/46), done.\u001b[K\n",
      "remote: Total 3017 (delta 28), reused 20 (delta 8), pack-reused 2963\u001b[K\n",
      "Receiving objects: 100% (3017/3017), 1.57 MiB | 13.95 MiB/s, done.\n",
      "Resolving deltas: 100% (1431/1431), done.\n",
      "/content/awesome-machine-learning\n"
     ]
    }
   ],
   "source": [
    "!git clone https://github.com/josephmisiti/awesome-machine-learning\n",
    "%cd awesome-machine-learning"
   ]
  },
  {
   "cell_type": "code",
   "execution_count": 8,
   "metadata": {
    "colab": {
     "base_uri": "https://localhost:8080/",
     "height": 53
    },
    "colab_type": "code",
    "id": "54y12WxZOmpz",
    "outputId": "7e740215-0dfc-49f0-8f63-28606c85d208"
   },
   "outputs": [
    {
     "name": "stdout",
     "output_type": "stream",
     "text": [
      "blogs.md  courses.md  meetups.md\tREADME.md\n",
      "books.md  LICENSE     ml-curriculum.md\tscripts\n"
     ]
    }
   ],
   "source": [
    "!ls"
   ]
  },
  {
   "cell_type": "markdown",
   "metadata": {
    "colab_type": "text",
    "id": "MSq4G3kpPcBJ"
   },
   "source": [
    "## Saving and Storing Colab Notebooks Locally\n",
    "\n",
    "Google Colab (should) store the notebooks automatically but it can never hurt to save and store - locally - your work.\n",
    "\n",
    "```File -> Save ```\n",
    "\n",
    "### Downloading the .ipynb file\n",
    "\n",
    "```File -> Download .ipynb ```"
   ]
  },
  {
   "cell_type": "code",
   "execution_count": 0,
   "metadata": {
    "colab": {},
    "colab_type": "code",
    "id": "ElDDvjGpQmcS"
   },
   "outputs": [],
   "source": []
  }
 ],
 "metadata": {
  "colab": {
   "collapsed_sections": [],
   "name": "Getting-Started.ipynb",
   "provenance": [],
   "version": "0.3.2"
  },
  "kernelspec": {
   "display_name": "Python 3",
   "language": "python",
   "name": "python3"
  },
  "language_info": {
   "codemirror_mode": {
    "name": "ipython",
    "version": 3
   },
   "file_extension": ".py",
   "mimetype": "text/x-python",
   "name": "python",
   "nbconvert_exporter": "python",
   "pygments_lexer": "ipython3",
   "version": "3.8.1"
  }
 },
 "nbformat": 4,
 "nbformat_minor": 1
}
