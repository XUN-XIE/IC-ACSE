{
 "cells": [
  {
   "cell_type": "code",
   "execution_count": 1,
   "metadata": {},
   "outputs": [
    {
     "name": "stdout",
     "output_type": "stream",
     "text": [
      "Populating the interactive namespace from numpy and matplotlib\n"
     ]
    }
   ],
   "source": [
    "%pylab inline\n",
    "import pandas as pd"
   ]
  },
  {
   "cell_type": "markdown",
   "metadata": {
    "slideshow": {
     "slide_type": "slide"
    }
   },
   "source": [
    "# ACSE Module 8 - Afternoon Session 1:\n",
    "----\n",
    "# Datasets, Baselines, k-Nearest-Neighbors, PCA"
   ]
  },
  {
   "cell_type": "markdown",
   "metadata": {
    "slideshow": {
     "slide_type": "slide"
    }
   },
   "source": [
    "In the following exercise you will explore a number of datasets, investigate their complexity and implement a simple baseline classifier for each of them.\n",
    "\n",
    "For each of the datasets in the list the following items:\n",
    "- Type of Data\n",
    "- Number of Training Examples / Test Examples\n",
    "- Task Type (Classification, Regression, ...)\n",
    "\n",
    "Datasets: \n",
    "- [Iris](http://archive.ics.uci.edu/ml/datasets/iris)\n",
    "- [Titanic Survivors](https://www.kaggle.com/c/titanic)\n",
    "- [MNIST](http://yann.lecun.com/exdb/mnist/)\n",
    "- [Fashion-MNIST](https://github.com/zalandoresearch/fashion-mnist)\n",
    "- [CIFAR10, CIFAR100](https://www.cs.toronto.edu/~kriz/cifar.html)\n",
    "- [SVHN](http://ufldl.stanford.edu/housenumbers/)\n",
    "- [ILSVC](http://www.image-net.org/challenges/LSVRC/2014/)\n",
    "- [MSCOCO-18](http://cocodataset.org/#home)\n",
    "\n",
    "For the [MNIST](http://yann.lecun.com/exdb/mnist/) and [Fashion-MNIST](https://github.com/zalandoresearch/fashion-mnist) Dataset perform the following:\n",
    "1. Load the datasets from ```torchvision.datasets```\n",
    "2. Perform a two-component PCA and visualize the datapoints with class-labels as colors\n",
    "    - No need to roll your own PCA for this. Just use ```sklearn.decomposition.PCA```\n",
    "    - Compare the datasets in the lower-dimensional space, what do you observe?\n",
    "3. Read about the \"Curse of dimensionality\" Chapter 6 [here](https://homes.cs.washington.edu/~pedrod/papers/cacm12.pdf) \n",
    "4. k-Means and k-Nearest Neighbor techniques are often confused:\n",
    "    - What are their main difference?\n",
    "    - What do you have to be careful with in the case of k-NN? Think about high-dimensional data such as images.\n",
    "5. Use a k-Nearest-Neighbor classifier ```sklearn.neighbors.KNeighborsClassifier```to create a baseline for each dataset.\n",
    "    - Given that you've read chapter 6 in (3), propose a way to improve k-NN for image datasets and apply.\n",
    "6. Do the results of the baseline reflect your findings of investigating the lower-dimensional space of images?\n",
    "7. Use the [Embedding Projector](https://projector.tensorflow.org/) to investigate the PCA space of MNIST.\n",
    "    - Is PCA able to seperate the classes? Does PCA capture any other features of the data?\n",
    "    - Bonus: Read about t-SNE, an unsupervised clustering method, [here](https://distill.pub/2016/misread-tsne/) and perform the same excercise in the projector using t-SNE, how does t-SNE compare against PCA?\n"
   ]
  },
  {
   "cell_type": "markdown",
   "metadata": {
    "slideshow": {
     "slide_type": "slide"
    }
   },
   "source": [
    "### Loading MNIST and Fashion-MNIST"
   ]
  },
  {
   "cell_type": "code",
   "execution_count": null,
   "metadata": {},
   "outputs": [
    {
     "name": "stdout",
     "output_type": "stream",
     "text": [
      "Downloading http://yann.lecun.com/exdb/mnist/train-images-idx3-ubyte.gz to ./mnist/MNIST/raw/train-images-idx3-ubyte.gz\n"
     ]
    },
    {
     "data": {
      "application/vnd.jupyter.widget-view+json": {
       "model_id": "e454b45a9b5847438bd4fe7b69c9b9db",
       "version_major": 2,
       "version_minor": 0
      },
      "text/plain": [
       "HBox(children=(FloatProgress(value=1.0, bar_style='info', max=1.0), HTML(value='')))"
      ]
     },
     "metadata": {},
     "output_type": "display_data"
    }
   ],
   "source": [
    "from torchvision.datasets import MNIST, FashionMNIST\n",
    "\n",
    "mnist = MNIST(\"./mnist\", download=True, train=True)\n",
    "fashion_mnist = FashionMNIST(\"./fmnist\", download=True, train=True)\n",
    "\n",
    "\n",
    "mnist_test = MNIST(\"./mnist\", download=True, train=False)\n",
    "fashion_mnist_test = FashionMNIST(\"./fmnist\", download=True, train=False)"
   ]
  },
  {
   "cell_type": "markdown",
   "metadata": {},
   "source": [
    "### Create a PCA of MNIST and Fashion-MNIST"
   ]
  },
  {
   "cell_type": "code",
   "execution_count": 3,
   "metadata": {},
   "outputs": [
    {
     "ename": "NameError",
     "evalue": "name 'mnist' is not defined",
     "output_type": "error",
     "traceback": [
      "\u001b[0;31m---------------------------------------------------------------------------\u001b[0m",
      "\u001b[0;31mNameError\u001b[0m                                 Traceback (most recent call last)",
      "\u001b[0;32m<ipython-input-3-b8fae9c4222f>\u001b[0m in \u001b[0;36m<module>\u001b[0;34m\u001b[0m\n\u001b[1;32m      2\u001b[0m \u001b[0;34m\u001b[0m\u001b[0m\n\u001b[1;32m      3\u001b[0m \u001b[0mfig\u001b[0m\u001b[0;34m,\u001b[0m \u001b[0maxarr\u001b[0m \u001b[0;34m=\u001b[0m \u001b[0mplt\u001b[0m\u001b[0;34m.\u001b[0m\u001b[0msubplots\u001b[0m\u001b[0;34m(\u001b[0m\u001b[0;36m1\u001b[0m\u001b[0;34m,\u001b[0m \u001b[0;36m2\u001b[0m\u001b[0;34m,\u001b[0m \u001b[0mfigsize\u001b[0m\u001b[0;34m=\u001b[0m\u001b[0;34m(\u001b[0m\u001b[0;36m12\u001b[0m\u001b[0;34m,\u001b[0m \u001b[0;36m6\u001b[0m\u001b[0;34m)\u001b[0m\u001b[0;34m)\u001b[0m\u001b[0;34m\u001b[0m\u001b[0;34m\u001b[0m\u001b[0m\n\u001b[0;32m----> 4\u001b[0;31m \u001b[0;32mfor\u001b[0m \u001b[0max\u001b[0m\u001b[0;34m,\u001b[0m \u001b[0mdataset\u001b[0m\u001b[0;34m,\u001b[0m \u001b[0mX\u001b[0m\u001b[0;34m,\u001b[0m \u001b[0my\u001b[0m \u001b[0;32min\u001b[0m \u001b[0mzip\u001b[0m\u001b[0;34m(\u001b[0m\u001b[0maxarr\u001b[0m\u001b[0;34m,\u001b[0m \u001b[0;34m[\u001b[0m\u001b[0;34m\"MNIST\"\u001b[0m\u001b[0;34m,\u001b[0m \u001b[0;34m\"FashionMNIST\"\u001b[0m\u001b[0;34m]\u001b[0m\u001b[0;34m,\u001b[0m \u001b[0;34m[\u001b[0m\u001b[0mmnist\u001b[0m\u001b[0;34m.\u001b[0m\u001b[0mtrain_data\u001b[0m\u001b[0;34m,\u001b[0m \u001b[0mfashion_mnist\u001b[0m\u001b[0;34m.\u001b[0m\u001b[0mtrain_data\u001b[0m\u001b[0;34m]\u001b[0m\u001b[0;34m,\u001b[0m \u001b[0;34m[\u001b[0m\u001b[0mmnist\u001b[0m\u001b[0;34m.\u001b[0m\u001b[0mtrain_labels\u001b[0m\u001b[0;34m,\u001b[0m \u001b[0mfashion_mnist\u001b[0m\u001b[0;34m.\u001b[0m\u001b[0mtrain_labels\u001b[0m\u001b[0;34m]\u001b[0m\u001b[0;34m)\u001b[0m\u001b[0;34m:\u001b[0m\u001b[0;34m\u001b[0m\u001b[0;34m\u001b[0m\u001b[0m\n\u001b[0m\u001b[1;32m      5\u001b[0m     \u001b[0mpca_model\u001b[0m \u001b[0;34m=\u001b[0m \u001b[0mPCA\u001b[0m\u001b[0;34m(\u001b[0m\u001b[0mn_components\u001b[0m\u001b[0;34m=\u001b[0m\u001b[0;36m2\u001b[0m\u001b[0;34m,\u001b[0m \u001b[0mrandom_state\u001b[0m\u001b[0;34m=\u001b[0m\u001b[0;36m0\u001b[0m\u001b[0;34m)\u001b[0m\u001b[0;34m\u001b[0m\u001b[0;34m\u001b[0m\u001b[0m\n\u001b[1;32m      6\u001b[0m     \u001b[0mX_pca\u001b[0m \u001b[0;34m=\u001b[0m \u001b[0mpca_model\u001b[0m\u001b[0;34m.\u001b[0m\u001b[0mfit_transform\u001b[0m\u001b[0;34m(\u001b[0m\u001b[0mX\u001b[0m\u001b[0;34m.\u001b[0m\u001b[0mview\u001b[0m\u001b[0;34m(\u001b[0m\u001b[0;34m-\u001b[0m\u001b[0;36m1\u001b[0m\u001b[0;34m,\u001b[0m \u001b[0;36m28\u001b[0m\u001b[0;34m*\u001b[0m\u001b[0;36m28\u001b[0m\u001b[0;34m)\u001b[0m\u001b[0;34m)\u001b[0m\u001b[0;34m\u001b[0m\u001b[0;34m\u001b[0m\u001b[0m\n",
      "\u001b[0;31mNameError\u001b[0m: name 'mnist' is not defined"
     ]
    },
    {
     "data": {
      "image/png": "[encoded data removed]",
      "text/plain": [
       "<Figure size 864x432 with 2 Axes>"
      ]
     },
     "metadata": {
      "needs_background": "light"
     },
     "output_type": "display_data"
    }
   ],
   "source": [
    "from sklearn.decomposition import PCA\n",
    "\n",
    "fig, axarr = plt.subplots(1, 2, figsize=(12, 6))\n",
    "for ax, dataset, X, y in zip(axarr, [\"MNIST\", \"FashionMNIST\"], [mnist.train_data, fashion_mnist.train_data], [mnist.train_labels, fashion_mnist.train_labels]):\n",
    "    pca_model = PCA(n_components=2, random_state=0)\n",
    "    X_pca = pca_model.fit_transform(X.view(-1, 28*28))\n",
    "    ax.scatter(X_pca[::10, 0], X_pca[::10, 1], c=y[::10], s=10)\n",
    "    ax.set_title(dataset)"
   ]
  },
  {
   "cell_type": "markdown",
   "metadata": {},
   "source": [
    "### Create a k-NN Baseline Classifier"
   ]
  },
  {
   "cell_type": "code",
   "execution_count": 18,
   "metadata": {},
   "outputs": [
    {
     "name": "stdout",
     "output_type": "stream",
     "text": [
      "Fitting PCA(copy=True, iterated_power='auto', n_components=10, random_state=0,\n",
      "  svd_solver='auto', tol=0.0, whiten=False)\n",
      "Fitting KNeighborsClassifier(algorithm='auto', leaf_size=30, metric='minkowski',\n",
      "           metric_params=None, n_jobs=-1, n_neighbors=4, p=2,\n",
      "           weights='distance')\n",
      "Evaluating KNeighborsClassifier(algorithm='auto', leaf_size=30, metric='minkowski',\n",
      "           metric_params=None, n_jobs=-1, n_neighbors=4, p=2,\n",
      "           weights='distance')\n",
      "MNIST Test accuracy: 0.9289\n",
      "Fitting PCA(copy=True, iterated_power='auto', n_components=10, random_state=0,\n",
      "  svd_solver='auto', tol=0.0, whiten=False)\n",
      "Fitting KNeighborsClassifier(algorithm='auto', leaf_size=30, metric='minkowski',\n",
      "           metric_params=None, n_jobs=-1, n_neighbors=4, p=2,\n",
      "           weights='distance')\n",
      "Evaluating KNeighborsClassifier(algorithm='auto', leaf_size=30, metric='minkowski',\n",
      "           metric_params=None, n_jobs=-1, n_neighbors=4, p=2,\n",
      "           weights='distance')\n",
      "FashionMNIST Test accuracy: 0.8039\n"
     ]
    }
   ],
   "source": [
    "from sklearn.neighbors import KNeighborsClassifier\n",
    "\n",
    "for dataset, X_train, y_train, X_test, y_test in zip([\"MNIST\", \"FashionMNIST\"], \n",
    "                                                     [mnist.train_data, fashion_mnist.train_data], \n",
    "                                                     [mnist.train_labels, fashion_mnist.train_labels],\n",
    "                                                     [mnist_test.test_data, fashion_mnist_test.test_data], \n",
    "                                                     [mnist_test.test_labels, fashion_mnist_test.test_labels]):\n",
    "\n",
    "    X_train = X_train.reshape(-1, 784)\n",
    "    X_test = X_test.reshape(-1, 784)\n",
    "\n",
    "    transformer = PCA(n_components=10, random_state=0)\n",
    "    print(\"Fitting\", transformer)\n",
    "    transformer.fit(X_train)\n",
    "    X_train = transformer.transform(X_train)\n",
    "    X_test = transformer.transform(X_test)\n",
    "    \n",
    "    clf = KNeighborsClassifier(n_neighbors=4, weights='distance', n_jobs=-1)\n",
    "    print('Fitting', clf)\n",
    "    clf.fit(X_train, y_train)\n",
    "    print('Evaluating', clf)\n",
    "\n",
    "    test_score = clf.score(X_test, y_test)\n",
    "    print(dataset+' Test accuracy:', test_score)"
   ]
  },
  {
   "cell_type": "markdown",
   "metadata": {},
   "source": [
    "---"
   ]
  },
  {
   "cell_type": "code",
   "execution_count": null,
   "metadata": {},
   "outputs": [],
   "source": []
  }
 ],
 "metadata": {
  "kernelspec": {
   "display_name": "Python 3",
   "language": "python",
   "name": "python3"
  },
  "language_info": {
   "codemirror_mode": {
    "name": "ipython",
    "version": 3
   },
   "file_extension": ".py",
   "mimetype": "text/x-python",
   "name": "python",
   "nbconvert_exporter": "python",
   "pygments_lexer": "ipython3",
   "version": "3.7.6"
  }
 },
 "nbformat": 4,
 "nbformat_minor": 4
}
