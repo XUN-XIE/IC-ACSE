{
 "cells": [
  {
   "cell_type": "code",
   "execution_count": 6,
   "metadata": {},
   "outputs": [
    {
     "name": "stdout",
     "output_type": "stream",
     "text": [
      "Populating the interactive namespace from numpy and matplotlib\n"
     ]
    }
   ],
   "source": [
    "%pylab inline\n",
    "import pandas as pd"
   ]
  },
  {
   "cell_type": "markdown",
   "metadata": {
    "slideshow": {
     "slide_type": "slide"
    }
   },
   "source": [
    "# ACSCE Module 8 - Afternoon Session 1:\n",
    "----\n",
    "# Datasets, Baselines, k-Nearest-Neighbors, PCA"
   ]
  },
  {
   "cell_type": "markdown",
   "metadata": {
    "slideshow": {
     "slide_type": "slide"
    }
   },
   "source": [
    "In the following exercise you will explore a number of datasets, investigate their complexity and implement a simple baseline classifier for each of them.\n",
    "\n",
    "For each of the datasets in the list the following items:\n",
    "- Type of Data\n",
    "- Number of Training Examples / Test Examples\n",
    "- Task Type (Classification, Regression, ...)\n",
    "\n",
    "Datasets: \n",
    "- [Iris](http://archive.ics.uci.edu/ml/datasets/iris)\n",
    "- [Titanic Survivors](https://www.kaggle.com/c/titanic)\n",
    "- [MNIST](http://yann.lecun.com/exdb/mnist/)\n",
    "- [Fashion-MNIST](https://github.com/zalandoresearch/fashion-mnist)\n",
    "- [CIFAR10, CIFAR100](https://www.cs.toronto.edu/~kriz/cifar.html)\n",
    "- [SVHN](http://ufldl.stanford.edu/housenumbers/)\n",
    "- [ILSVC](http://www.image-net.org/challenges/LSVRC/2014/)\n",
    "- [MSCOCO-18](http://cocodataset.org/#home)\n",
    "\n",
    "For the [MNIST](http://yann.lecun.com/exdb/mnist/) and [Fashion-MNIST](https://github.com/zalandoresearch/fashion-mnist) Dataset perform the following:\n",
    "1. Load the datasets from ```torchvision.datasets```\n",
    "2. Perform a two-component PCA and visualize the datapoints with class-labels as colors\n",
    "    - No need to roll your own PCA for this. Just use ```sklearn.decomposition.PCA```\n",
    "    - Compare the datasets in the lower-dimensional space, what do you observe?\n",
    "3. Read about the \"Curse of dimensionality\" Chapter 6 [here](https://homes.cs.washington.edu/~pedrod/papers/cacm12.pdf) \n",
    "4. k-Means and k-Nearest Neighbor techniques are often confused:\n",
    "    - What are their main difference?\n",
    "    - What do you have to be careful with in the case of k-NN? Think about high-dimensional data such as images.\n",
    "5. Use a k-Nearest-Neighbor classifier ```sklearn.neighbors.KNeighborsClassifier```to create a baseline for each dataset.\n",
    "    - Given that you've read chapter 6 in (3), propose a way to improve k-NN for image datasets and apply.\n",
    "6. Do the results of the baseline reflect your findings of investigating the lower-dimensional space of images?\n",
    "7. Use the [Embedding Projector](https://projector.tensorflow.org/) to investigate the PCA space of MNIST.\n",
    "    - Is PCA able to seperate the classes? Does PCA capture any other features of the data?\n",
    "    - Bonus: Read about t-SNE, an unsupervised clustering method, [here](https://distill.pub/2016/misread-tsne/) and perform the same excercise in the projector using t-SNE, how does t-SNE compare against PCA?\n"
   ]
  },
  {
   "cell_type": "markdown",
   "metadata": {
    "slideshow": {
     "slide_type": "slide"
    }
   },
   "source": [
    "## Loading MNIST and Fashion-MNIST"
   ]
  },
  {
   "cell_type": "markdown",
   "metadata": {},
   "source": [
    "### Create a PCA of MNIST and Fashion-MNIST"
   ]
  },
  {
   "cell_type": "markdown",
   "metadata": {},
   "source": [
    "### Create a k-NN Baseline Classifier for MNIST and Fashion-MNIST"
   ]
  },
  {
   "cell_type": "markdown",
   "metadata": {},
   "source": [
    "---"
   ]
  },
  {
   "cell_type": "code",
   "execution_count": null,
   "metadata": {},
   "outputs": [],
   "source": []
  }
 ],
 "metadata": {
  "kernelspec": {
   "display_name": "Python [conda env:dlenv]",
   "language": "python",
   "name": "conda-env-dlenv-py"
  },
  "language_info": {
   "codemirror_mode": {
    "name": "ipython",
    "version": 3
   },
   "file_extension": ".py",
   "mimetype": "text/x-python",
   "name": "python",
   "nbconvert_exporter": "python",
   "pygments_lexer": "ipython3",
   "version": "3.6.5"
  }
 },
 "nbformat": 4,
 "nbformat_minor": 2
}
