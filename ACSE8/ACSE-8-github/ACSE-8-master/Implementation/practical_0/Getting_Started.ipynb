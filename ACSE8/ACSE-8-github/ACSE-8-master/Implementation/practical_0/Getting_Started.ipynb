{
 "cells": [
  {
   "cell_type": "markdown",
   "metadata": {
    "colab_type": "text",
    "id": "n4fcdzt1L0fL"
   },
   "source": [
    "# Getting Started\n",
    "\n",
    "Prior to the first session make sure you can run the following commands in a [Colab](https://colab.research.google.com/) instance.  \n",
    "\n",
    "You will need to register for a Google Account (Make a throwaway account if you do not want google to have your data).  \n",
    "\n",
    "Register on the Kaggle Platform (required for Mini-Project): [Link](https://www.kaggle.com)\n",
    "\n",
    "## Mounting your google drive\n",
    "\n",
    "You can use google drive to store and access files e.g. storing and loading data from numpy or CSV files.  \n",
    "Use the following command to mount your GDrive and access your files."
   ]
  },
  {
   "cell_type": "code",
   "execution_count": 7,
   "metadata": {
    "colab": {
     "base_uri": "https://localhost:8080/",
     "height": 127
    },
    "colab_type": "code",
    "id": "ydOU6YpVLaow",
    "outputId": "d06e6bc5-0fb3-42e5-9784-e965ca81278e"
   },
   "outputs": [
    {
     "name": "stdout",
     "output_type": "stream",
     "text": [
      "Go to this URL in a browser: https://accounts.google.com/o/oauth2/auth?client_id=947318989803-6bn6qk8qdgf4n4g3pfee6491hc0brc4i.apps.googleusercontent.com&redirect_uri=urn%3Aietf%3Awg%3Aoauth%3A2.0%3Aoob&scope=email%20https%3A%2F%2Fwww.googleapis.com%2Fauth%2Fdocs.test%20https%3A%2F%2Fwww.googleapis.com%2Fauth%2Fdrive%20https%3A%2F%2Fwww.googleapis.com%2Fauth%2Fdrive.photos.readonly%20https%3A%2F%2Fwww.googleapis.com%2Fauth%2Fpeopleapi.readonly&response_type=code\n",
      "\n",
      "Enter your authorization code:\n",
      "··········\n",
      "Mounted at /content/gdrive/\n"
     ]
    }
   ],
   "source": [
    "from google.colab import drive\n",
    "drive.mount('/content/gdrive/')"
   ]
  },
  {
   "cell_type": "markdown",
   "metadata": {
    "colab_type": "text",
    "id": "DL-fBcjpMwhd"
   },
   "source": [
    "## Using the GPU\n",
    "\n",
    "Google Colab enables us to obtain free GPU computing resources.  \n",
    "You can switch the runtime of Google Colab from CPU to GPU based via the ```toolbar```:  \n",
    "\n",
    "Commands:\n",
    "```Runtime -> Change Runtime Type -> Hardware Accelerator -> GPU```"
   ]
  },
  {
   "cell_type": "code",
   "execution_count": 5,
   "metadata": {
    "colab": {
     "base_uri": "https://localhost:8080/",
     "height": 35
    },
    "colab_type": "code",
    "id": "0mUJobaLLh-7",
    "outputId": "15cc2f72-0769-4092-d671-fb8185954c15"
   },
   "outputs": [
    {
     "name": "stdout",
     "output_type": "stream",
     "text": [
      "No GPU available!\n"
     ]
    }
   ],
   "source": [
    "import torch\n",
    "\n",
    "device = 'cpu'\n",
    "if torch.cuda.device_count() > 0 and torch.cuda.is_available():\n",
    "    print(\"Cuda installed! Running on GPU!\")\n",
    "    device = 'cuda'\n",
    "else:\n",
    "    print(\"No GPU available!\")"
   ]
  },
  {
   "cell_type": "markdown",
   "metadata": {
    "colab_type": "text",
    "id": "6twj4vhbNTUu"
   },
   "source": [
    "## Using Git Repositories\n",
    "\n",
    "You can clone into Git repositories as well!\n",
    "(You can even commit to Git Repositories via ```File -> Save a copy in Github```)\n",
    "Use the ```%cd [directory]``` jupyter cell-magic to access the folder."
   ]
  },
  {
   "cell_type": "code",
   "execution_count": 6,
   "metadata": {
    "colab": {
     "base_uri": "https://localhost:8080/",
     "height": 161
    },
    "colab_type": "code",
    "id": "7kj2vi0tLvf4",
    "outputId": "1bdf391a-c89e-456f-e32b-95c27f355ee9"
   },
   "outputs": [
    {
     "name": "stdout",
     "output_type": "stream",
     "text": [
      "Cloning into 'awesome-machine-learning'...\n",
      "remote: Enumerating objects: 54, done.\u001b[K\n",
      "remote: Counting objects: 100% (54/54), done.\u001b[K\n",
      "remote: Compressing objects: 100% (46/46), done.\u001b[K\n",
      "remote: Total 3017 (delta 28), reused 20 (delta 8), pack-reused 2963\u001b[K\n",
      "Receiving objects: 100% (3017/3017), 1.57 MiB | 13.95 MiB/s, done.\n",
      "Resolving deltas: 100% (1431/1431), done.\n",
      "/content/awesome-machine-learning\n"
     ]
    }
   ],
   "source": [
    "!git clone https://github.com/josephmisiti/awesome-machine-learning\n",
    "%cd awesome-machine-learning"
   ]
  },
  {
   "cell_type": "code",
   "execution_count": 8,
   "metadata": {
    "colab": {
     "base_uri": "https://localhost:8080/",
     "height": 53
    },
    "colab_type": "code",
    "id": "54y12WxZOmpz",
    "outputId": "7e740215-0dfc-49f0-8f63-28606c85d208"
   },
   "outputs": [
    {
     "name": "stdout",
     "output_type": "stream",
     "text": [
      "blogs.md  courses.md  meetups.md\tREADME.md\n",
      "books.md  LICENSE     ml-curriculum.md\tscripts\n"
     ]
    }
   ],
   "source": [
    "!ls"
   ]
  },
  {
   "cell_type": "markdown",
   "metadata": {
    "colab_type": "text",
    "id": "MSq4G3kpPcBJ"
   },
   "source": [
    "## Saving and Storing Colab Notebooks Locally\n",
    "\n",
    "Google Colab (should) store the notebooks automatically but it can never hurt to save and store - locally - your work.\n",
    "\n",
    "```File -> Save ```\n",
    "\n",
    "### Downloading the .ipynb file\n",
    "\n",
    "```File -> Download .ipynb ```"
   ]
  },
  {
   "cell_type": "code",
   "execution_count": null,
   "metadata": {
    "colab": {},
    "colab_type": "code",
    "id": "ElDDvjGpQmcS"
   },
   "outputs": [],
   "source": []
  }
 ],
 "metadata": {
  "colab": {
   "collapsed_sections": [],
   "name": "Getting-Started.ipynb",
   "provenance": [],
   "version": "0.3.2"
  },
  "kernelspec": {
   "display_name": "Python 3",
   "language": "python",
   "name": "python3"
  },
  "language_info": {
   "codemirror_mode": {
    "name": "ipython",
    "version": 3
   },
   "file_extension": ".py",
   "mimetype": "text/x-python",
   "name": "python",
   "nbconvert_exporter": "python",
   "pygments_lexer": "ipython3",
   "version": "3.7.6"
  }
 },
 "nbformat": 4,
 "nbformat_minor": 4
}
