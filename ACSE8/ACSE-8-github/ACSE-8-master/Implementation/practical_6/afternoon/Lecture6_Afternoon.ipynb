{
 "cells": [
  {
   "cell_type": "code",
   "execution_count": 1,
   "metadata": {
    "colab": {
     "base_uri": "https://localhost:8080/",
     "height": 442
    },
    "colab_type": "code",
    "id": "MujZxGrEIvhF",
    "outputId": "90cfac51-dbdf-48d7-9d24-763b263ae0fa"
   },
   "outputs": [
    {
     "name": "stdout",
     "output_type": "stream",
     "text": [
      "Requirement already satisfied: livelossplot in /Users/xiexun/opt/anaconda3/lib/python3.7/site-packages (0.5.0)\n",
      "Requirement already satisfied: ipython in /Users/xiexun/opt/anaconda3/lib/python3.7/site-packages (from livelossplot) (7.12.0)\n",
      "Requirement already satisfied: matplotlib; python_version >= \"3.6\" in /Users/xiexun/opt/anaconda3/lib/python3.7/site-packages (from livelossplot) (3.1.3)\n",
      "Requirement already satisfied: setuptools>=18.5 in /Users/xiexun/opt/anaconda3/lib/python3.7/site-packages (from ipython->livelossplot) (46.0.0.post20200309)\n",
      "Requirement already satisfied: pygments in /Users/xiexun/opt/anaconda3/lib/python3.7/site-packages (from ipython->livelossplot) (2.5.2)\n",
      "Requirement already satisfied: prompt-toolkit!=3.0.0,!=3.0.1,<3.1.0,>=2.0.0 in /Users/xiexun/opt/anaconda3/lib/python3.7/site-packages (from ipython->livelossplot) (3.0.3)\n",
      "Requirement already satisfied: jedi>=0.10 in /Users/xiexun/opt/anaconda3/lib/python3.7/site-packages (from ipython->livelossplot) (0.14.1)\n",
      "Requirement already satisfied: backcall in /Users/xiexun/opt/anaconda3/lib/python3.7/site-packages (from ipython->livelossplot) (0.1.0)\n",
      "Requirement already satisfied: pexpect; sys_platform != \"win32\" in /Users/xiexun/opt/anaconda3/lib/python3.7/site-packages (from ipython->livelossplot) (4.8.0)\n",
      "Requirement already satisfied: traitlets>=4.2 in /Users/xiexun/opt/anaconda3/lib/python3.7/site-packages (from ipython->livelossplot) (4.3.3)\n",
      "Requirement already satisfied: appnope; sys_platform == \"darwin\" in /Users/xiexun/opt/anaconda3/lib/python3.7/site-packages (from ipython->livelossplot) (0.1.0)\n",
      "Requirement already satisfied: decorator in /Users/xiexun/opt/anaconda3/lib/python3.7/site-packages (from ipython->livelossplot) (4.4.1)\n",
      "Requirement already satisfied: pickleshare in /Users/xiexun/opt/anaconda3/lib/python3.7/site-packages (from ipython->livelossplot) (0.7.5)\n",
      "Requirement already satisfied: cycler>=0.10 in /Users/xiexun/opt/anaconda3/lib/python3.7/site-packages (from matplotlib; python_version >= \"3.6\"->livelossplot) (0.10.0)\n",
      "Requirement already satisfied: numpy>=1.11 in /Users/xiexun/opt/anaconda3/lib/python3.7/site-packages (from matplotlib; python_version >= \"3.6\"->livelossplot) (1.18.1)\n",
      "Requirement already satisfied: kiwisolver>=1.0.1 in /Users/xiexun/opt/anaconda3/lib/python3.7/site-packages (from matplotlib; python_version >= \"3.6\"->livelossplot) (1.1.0)\n",
      "Requirement already satisfied: pyparsing!=2.0.4,!=2.1.2,!=2.1.6,>=2.0.1 in /Users/xiexun/opt/anaconda3/lib/python3.7/site-packages (from matplotlib; python_version >= \"3.6\"->livelossplot) (2.4.6)\n",
      "Requirement already satisfied: python-dateutil>=2.1 in /Users/xiexun/opt/anaconda3/lib/python3.7/site-packages (from matplotlib; python_version >= \"3.6\"->livelossplot) (2.8.1)\n",
      "Requirement already satisfied: wcwidth in /Users/xiexun/opt/anaconda3/lib/python3.7/site-packages (from prompt-toolkit!=3.0.0,!=3.0.1,<3.1.0,>=2.0.0->ipython->livelossplot) (0.1.8)\n",
      "Requirement already satisfied: parso>=0.5.0 in /Users/xiexun/opt/anaconda3/lib/python3.7/site-packages (from jedi>=0.10->ipython->livelossplot) (0.5.2)\n",
      "Requirement already satisfied: ptyprocess>=0.5 in /Users/xiexun/opt/anaconda3/lib/python3.7/site-packages (from pexpect; sys_platform != \"win32\"->ipython->livelossplot) (0.6.0)\n",
      "Requirement already satisfied: ipython-genutils in /Users/xiexun/opt/anaconda3/lib/python3.7/site-packages (from traitlets>=4.2->ipython->livelossplot) (0.2.0)\n",
      "Requirement already satisfied: six in /Users/xiexun/opt/anaconda3/lib/python3.7/site-packages (from traitlets>=4.2->ipython->livelossplot) (1.14.0)\n"
     ]
    }
   ],
   "source": [
    "!pip install livelossplot"
   ]
  },
  {
   "cell_type": "markdown",
   "metadata": {
    "colab_type": "text",
    "id": "kbiktUOBhU9h"
   },
   "source": [
    "# ACSE-8 Afternoon 6 Exercise"
   ]
  },
  {
   "cell_type": "markdown",
   "metadata": {
    "colab_type": "text",
    "id": "H61RBEfAj8kr"
   },
   "source": [
    "We do not have any exercises planned for Autoencoders/GANs. \n",
    "\n",
    "Feel free to use this afternoon to continue to work on your coursework submission due on Monday. \n",
    "\n",
    "If you have finished the coursework and are looking for another challenge, here's a code Olivier referenced in his RNN class. In the following code (adapted from [here](https://machinetalk.org/2019/02/08/text-generation-with-pytorch/)), we will train a model to generate text _in the style of_ the Harry Potter books. For this, we have provided you a text file _harry.txt_ which contains the full text of the first book - _Harry Potter and the Sorcerer's Stone_ (yes, unfortunately it is the American version).\n"
   ]
  },
  {
   "cell_type": "markdown",
   "metadata": {
    "colab_type": "text",
    "id": "HGnxQhSBkxmM"
   },
   "source": [
    "First, we define our imports and some parameters."
   ]
  },
  {
   "cell_type": "code",
   "execution_count": null,
   "metadata": {
    "colab": {},
    "colab_type": "code",
    "id": "HKbrp3IthSxg"
   },
   "outputs": [],
   "source": [
    "import torch\n",
    "import torch.nn as nn\n",
    "import torch.nn.functional as F\n",
    "\n",
    "import numpy as np\n",
    "from collections import Counter\n",
    "import os\n",
    "from argparse import Namespace\n",
    "\n",
    "\n",
    "flags = Namespace(\n",
    "    train_file='harry.txt',\n",
    "    seq_size=32,\n",
    "    batch_size=16,\n",
    "    embedding_size=64,\n",
    "    lstm_size=64,\n",
    "    gradients_norm=5,\n",
    "    initial_words=['I', 'am'],\n",
    "    predict_top_k=5,\n",
    "    checkpoint_path='checkpoint',\n",
    ")"
   ]
  },
  {
   "cell_type": "markdown",
   "metadata": {
    "colab_type": "text",
    "id": "Kj3_-Kc8k1V8"
   },
   "source": [
    "Next, we define some helper functions, first to load data from file,"
   ]
  },
  {
   "cell_type": "code",
   "execution_count": null,
   "metadata": {
    "colab": {},
    "colab_type": "code",
    "id": "AnkoH00BIxFl"
   },
   "outputs": [],
   "source": [
    "def get_data_from_file(train_file, batch_size, seq_size):\n",
    "    with open(train_file, 'r', encoding='utf-8', errors='ignore') as f:\n",
    "        text = f.read()\n",
    "    text = text.split()\n",
    "\n",
    "    word_counts = Counter(text)\n",
    "    sorted_vocab = sorted(word_counts, key=word_counts.get, reverse=True)\n",
    "    int_to_vocab = {k: w for k, w in enumerate(sorted_vocab)}\n",
    "    vocab_to_int = {w: k for k, w in int_to_vocab.items()}\n",
    "    n_vocab = len(int_to_vocab)\n",
    "\n",
    "    print('Vocabulary size', n_vocab)\n",
    "\n",
    "    int_text = [vocab_to_int[w] for w in text]\n",
    "    num_batches = int(len(int_text) / (seq_size * batch_size))\n",
    "    in_text = int_text[:num_batches * batch_size * seq_size]\n",
    "    out_text = np.zeros_like(in_text)\n",
    "    out_text[:-1] = in_text[1:]\n",
    "    out_text[-1] = in_text[0]\n",
    "    in_text = np.reshape(in_text, (batch_size, -1))\n",
    "    out_text = np.reshape(out_text, (batch_size, -1))\n",
    "    return int_to_vocab, vocab_to_int, n_vocab, in_text, out_text"
   ]
  },
  {
   "cell_type": "markdown",
   "metadata": {
    "colab_type": "text",
    "id": "mbvrQjMok7p4"
   },
   "source": [
    "...and the next one to divide the data into batches:"
   ]
  },
  {
   "cell_type": "code",
   "execution_count": null,
   "metadata": {
    "colab": {},
    "colab_type": "code",
    "id": "mpkhgs6PI-PR"
   },
   "outputs": [],
   "source": [
    "def get_batches(in_text, out_text, batch_size, seq_size):\n",
    "    num_batches = np.prod(in_text.shape) // (seq_size * batch_size)\n",
    "    for i in range(0, num_batches * seq_size, seq_size):\n",
    "        yield in_text[:, i:i+seq_size], out_text[:, i:i+seq_size]"
   ]
  },
  {
   "cell_type": "markdown",
   "metadata": {
    "colab_type": "text",
    "id": "zWWBT6N9loqD"
   },
   "source": [
    "Now we define the RNN. [Look here](https://pytorch.org/tutorials/beginner/nlp/word_embeddings_tutorial.html) for an understanding of what an Embedding is and what it is doing for us here. "
   ]
  },
  {
   "cell_type": "code",
   "execution_count": null,
   "metadata": {
    "colab": {},
    "colab_type": "code",
    "id": "PdJgQtCCJAA9"
   },
   "outputs": [],
   "source": [
    "class RNNModule(nn.Module):\n",
    "    def __init__(self, n_vocab, embedding_size, lstm_size):\n",
    "        super(RNNModule, self).__init__()\n",
    "        self.lstm_size = lstm_size\n",
    "        self.embedding = nn.Embedding(n_vocab, embedding_size)\n",
    "        self.lstm = nn.LSTM(embedding_size,\n",
    "                            lstm_size,\n",
    "                            batch_first=True)\n",
    "        self.dense = nn.Linear(lstm_size, n_vocab)\n",
    "\n",
    "    def forward(self, x, prev_state):\n",
    "        embed = self.embedding(x)\n",
    "        output, state = self.lstm(embed, prev_state)\n",
    "        logits = self.dense(output)\n",
    "\n",
    "        return logits, state\n",
    "\n",
    "    def zero_state(self, batch_size):\n",
    "        return (torch.zeros(1, batch_size, self.lstm_size),\n",
    "                torch.zeros(1, batch_size, self.lstm_size))"
   ]
  },
  {
   "cell_type": "markdown",
   "metadata": {
    "colab_type": "text",
    "id": "otSZWUGenQ0G"
   },
   "source": [
    "Some (last minute) hyperparameters:"
   ]
  },
  {
   "cell_type": "code",
   "execution_count": null,
   "metadata": {
    "colab": {},
    "colab_type": "code",
    "id": "tmi17ye9JG2T"
   },
   "outputs": [],
   "source": [
    "def get_loss_and_train_op(net, lr=0.001):\n",
    "    criterion = nn.CrossEntropyLoss()\n",
    "    optimizer = torch.optim.Adam(net.parameters(), lr=lr)\n",
    "\n",
    "    return criterion, optimizer"
   ]
  },
  {
   "cell_type": "markdown",
   "metadata": {
    "colab_type": "text",
    "id": "9cGTqWAMr3T-"
   },
   "source": [
    "Some housekeeping before we get started (the embedding size and lstm size are good targets for hyperparameter optimisation later)"
   ]
  },
  {
   "cell_type": "code",
   "execution_count": 29,
   "metadata": {
    "colab": {
     "base_uri": "https://localhost:8080/",
     "height": 55
    },
    "colab_type": "code",
    "id": "RS8hKzkpJNCl",
    "outputId": "23d30cd8-c328-48e6-8b50-c8aaf67985fd"
   },
   "outputs": [
    {
     "name": "stdout",
     "output_type": "stream",
     "text": [
      "Vocabulary size 11895\n"
     ]
    }
   ],
   "source": [
    "\n",
    "device = torch.device('cuda' if torch.cuda.is_available() else 'cpu')\n",
    "int_to_vocab, vocab_to_int, n_vocab, in_text, out_text = get_data_from_file(\n",
    "    flags.train_file, flags.batch_size, flags.seq_size)\n",
    "\n",
    "net = RNNModule(n_vocab, flags.embedding_size, flags.lstm_size)\n",
    "\n",
    "net = net.to(device)\n",
    "\n",
    "criterion, optimizer = get_loss_and_train_op(net, 0.01)\n",
    "\n",
    "iteration = 0"
   ]
  },
  {
   "cell_type": "markdown",
   "metadata": {
    "colab_type": "text",
    "id": "nWE63wZEul1X"
   },
   "source": [
    "Finally we are ready to start training."
   ]
  },
  {
   "cell_type": "code",
   "execution_count": 36,
   "metadata": {
    "colab": {
     "base_uri": "https://localhost:8080/",
     "height": 381
    },
    "colab_type": "code",
    "id": "tTstvnw5Khqj",
    "outputId": "facd4687-409c-4566-b23c-de2df6bd8a58"
   },
   "outputs": [
    {
     "data": {
      "image/png": "[encoded data removed]",
      "text/plain": [
       "<Figure size 864x576 with 1 Axes>"
      ]
     },
     "metadata": {
      "needs_background": "light",
      "tags": []
     },
     "output_type": "display_data"
    },
    {
     "name": "stdout",
     "output_type": "stream",
     "text": [
      "Loss\n",
      "\tloss             \t (min:    1.620, max:    8.836, cur:    1.620)\n"
     ]
    }
   ],
   "source": [
    "from livelossplot import PlotLosses\n",
    "\n",
    "liveloss = PlotLosses()\n",
    "logs = {}\n",
    "for e in range(50):\n",
    "        batches = get_batches(in_text, out_text, flags.batch_size, flags.seq_size)\n",
    "        state_h, state_c = net.zero_state(flags.batch_size)\n",
    "        \n",
    "        # Transfer data to GPU\n",
    "        state_h = state_h.to(device)\n",
    "        state_c = state_c.to(device)\n",
    "        for x, y in batches:\n",
    "            iteration += 1\n",
    "            \n",
    "            # Tell it we are in training mode\n",
    "            net.train()\n",
    "\n",
    "            # Reset all gradients\n",
    "            optimizer.zero_grad()\n",
    "\n",
    "            # Transfer data to GPU\n",
    "            x = torch.tensor(x).to(device)\n",
    "            y = torch.tensor(y).to(device)\n",
    "\n",
    "            logits, (state_h, state_c) = net(x, (state_h, state_c))\n",
    "            loss = criterion(logits.transpose(1, 2), y)\n",
    "\n",
    "            state_h = state_h.detach()\n",
    "            state_c = state_c.detach()\n",
    "\n",
    "            loss_value = loss.item()\n",
    "\n",
    "            # Perform back-propagation\n",
    "            loss.backward()\n",
    "\n",
    "            _ = torch.nn.utils.clip_grad_norm_(\n",
    "                net.parameters(), flags.gradients_norm)\n",
    "\n",
    "            # Update the network's parameters\n",
    "            optimizer.step()\n",
    "\n",
    "        logs['loss'] = loss_value\n",
    "        liveloss.update(logs)\n",
    "        liveloss.draw()"
   ]
  },
  {
   "cell_type": "markdown",
   "metadata": {
    "colab_type": "text",
    "id": "Rn2Rs3MxwZ3e"
   },
   "source": [
    "With the model trained, we can finally get to the best part: Generating text! This function samples from the output distribution of our trained model to generate text. Try it out yourself in the next cell. "
   ]
  },
  {
   "cell_type": "code",
   "execution_count": null,
   "metadata": {
    "colab": {},
    "colab_type": "code",
    "id": "UHpCS-buN02V"
   },
   "outputs": [],
   "source": [
    "from textwrap import fill\n",
    "\n",
    "\n",
    "def predict(device, net, words, n_vocab, vocab_to_int, int_to_vocab, top_k=5):\n",
    "    net.eval()\n",
    "\n",
    "    state_h, state_c = net.zero_state(1)\n",
    "    state_h = state_h.to(device)\n",
    "    state_c = state_c.to(device)\n",
    "    for w in words:\n",
    "        ix = torch.tensor([[vocab_to_int[w]]]).to(device)\n",
    "        output, (state_h, state_c) = net(ix, (state_h, state_c))\n",
    "\n",
    "    _, top_ix = torch.topk(output[0], k=top_k)\n",
    "    choices = top_ix.tolist()\n",
    "    choice = np.random.choice(choices[0]) # Could be improved\n",
    "\n",
    "    words.append(int_to_vocab[choice])\n",
    "\n",
    "    for _ in range(100):\n",
    "        ix = torch.tensor([[choice]]).to(device)\n",
    "        output, (state_h, state_c) = net(ix, (state_h, state_c))\n",
    "\n",
    "        _, top_ix = torch.topk(output[0], k=top_k)\n",
    "        choices = top_ix.tolist()\n",
    "        choice = np.random.choice(choices[0]) # Could be improved\n",
    "        words.append(int_to_vocab[choice])\n",
    "\n",
    "    print(fill(' '.join(words), 100))"
   ]
  },
  {
   "cell_type": "markdown",
   "metadata": {
    "colab_type": "text",
    "id": "R_KIEmBpxEEE"
   },
   "source": [
    "Here comes the fun. Enter any two \"seed words\" in the next cell to get the model to generate some text starting with those words. \n",
    "\n",
    "You might notice that the initial model does not produce very good text. Here's some things that could be improved:\n",
    " - The sampling bit of the predict function in the above cell doesn't seem to be doing a great job at sampling from the posterior distribution. Can you improve it? (Remember: You don't need to retrain to see improvements from this)\n",
    " - Using the final value of the loss to guide you, can you find better values for the embedding size/lstm size hyperparameters above?"
   ]
  },
  {
   "cell_type": "code",
   "execution_count": 54,
   "metadata": {
    "colab": {
     "base_uri": "https://localhost:8080/",
     "height": 143
    },
    "colab_type": "code",
    "id": "HwmOmTMFdVzn",
    "outputId": "89e3acf5-dcae-4b39-e83f-b35f9faea8d7"
   },
   "outputs": [
    {
     "name": "stdout",
     "output_type": "stream",
     "text": [
      "Lord Voldemort got out, clapped loudest. by one, and then came pelting out onto their way through\n",
      "the barrier. It yelled in her mouth, perhaps Hogwarts. The old man pulled the other day were\n",
      "learning old enough, passed Professor McGonagall was still safe. toward himself on it and he was\n",
      "looking forward through his eyes. \"A note wasn't much space from being corridors with one of their\n",
      "men was guarding three of them started to drift Hagrid's jacket and an empty except Harry had gone\n",
      "only joking, I never told them what this wasn't inside all as your family's one of the red-haired\n"
     ]
    }
   ],
   "source": [
    "predict(device, net, [\"Lord\", \"Voldemort\"], n_vocab, vocab_to_int, int_to_vocab)"
   ]
  },
  {
   "cell_type": "code",
   "execution_count": null,
   "metadata": {
    "colab": {},
    "colab_type": "code",
    "id": "18kthR-8dbkm"
   },
   "outputs": [],
   "source": []
  }
 ],
 "metadata": {
  "colab": {
   "name": "Lecture6-Afternoon.ipynb",
   "provenance": []
  },
  "kernelspec": {
   "display_name": "Python 3",
   "language": "python",
   "name": "python3"
  },
  "language_info": {
   "codemirror_mode": {
    "name": "ipython",
    "version": 3
   },
   "file_extension": ".py",
   "mimetype": "text/x-python",
   "name": "python",
   "nbconvert_exporter": "python",
   "pygments_lexer": "ipython3",
   "version": "3.7.6"
  }
 },
 "nbformat": 4,
 "nbformat_minor": 4
}
