{
 "cells": [
  {
   "cell_type": "code",
   "execution_count": null,
   "metadata": {
    "colab": {
     "base_uri": "https://localhost:8080/",
     "height": 476
    },
    "colab_type": "code",
    "id": "LL3vQPYkhzOy",
    "outputId": "a7cf0663-205f-4f3e-a6d6-a04897f0f49a"
   },
   "outputs": [
    {
     "name": "stdout",
     "output_type": "stream",
     "text": [
      "Requirement already satisfied: pycm in /usr/local/lib/python3.6/dist-packages (2.6)\n",
      "Requirement already satisfied: livelossplot in /usr/local/lib/python3.6/dist-packages (0.5.0)\n",
      "Requirement already satisfied: torchvision in /usr/local/lib/python3.6/dist-packages (0.6.0+cu101)\n",
      "Requirement already satisfied: art>=1.8 in /usr/local/lib/python3.6/dist-packages (from pycm) (4.6)\n",
      "Requirement already satisfied: numpy>=1.9.0 in /usr/local/lib/python3.6/dist-packages (from pycm) (1.18.3)\n",
      "Requirement already satisfied: ipython in /usr/local/lib/python3.6/dist-packages (from livelossplot) (5.5.0)\n",
      "Requirement already satisfied: matplotlib; python_version >= \"3.6\" in /usr/local/lib/python3.6/dist-packages (from livelossplot) (3.2.1)\n",
      "Requirement already satisfied: pillow>=4.1.1 in /usr/local/lib/python3.6/dist-packages (from torchvision) (7.0.0)\n",
      "Requirement already satisfied: torch==1.5.0 in /usr/local/lib/python3.6/dist-packages (from torchvision) (1.5.0+cu101)\n",
      "Requirement already satisfied: decorator in /usr/local/lib/python3.6/dist-packages (from ipython->livelossplot) (4.4.2)\n",
      "Requirement already satisfied: pygments in /usr/local/lib/python3.6/dist-packages (from ipython->livelossplot) (2.1.3)\n",
      "Requirement already satisfied: pexpect; sys_platform != \"win32\" in /usr/local/lib/python3.6/dist-packages (from ipython->livelossplot) (4.8.0)\n",
      "Requirement already satisfied: simplegeneric>0.8 in /usr/local/lib/python3.6/dist-packages (from ipython->livelossplot) (0.8.1)\n",
      "Requirement already satisfied: traitlets>=4.2 in /usr/local/lib/python3.6/dist-packages (from ipython->livelossplot) (4.3.3)\n",
      "Requirement already satisfied: prompt-toolkit<2.0.0,>=1.0.4 in /usr/local/lib/python3.6/dist-packages (from ipython->livelossplot) (1.0.18)\n",
      "Requirement already satisfied: pickleshare in /usr/local/lib/python3.6/dist-packages (from ipython->livelossplot) (0.7.5)\n",
      "Requirement already satisfied: setuptools>=18.5 in /usr/local/lib/python3.6/dist-packages (from ipython->livelossplot) (46.1.3)\n",
      "Requirement already satisfied: kiwisolver>=1.0.1 in /usr/local/lib/python3.6/dist-packages (from matplotlib; python_version >= \"3.6\"->livelossplot) (1.2.0)\n",
      "Requirement already satisfied: pyparsing!=2.0.4,!=2.1.2,!=2.1.6,>=2.0.1 in /usr/local/lib/python3.6/dist-packages (from matplotlib; python_version >= \"3.6\"->livelossplot) (2.4.7)\n",
      "Requirement already satisfied: cycler>=0.10 in /usr/local/lib/python3.6/dist-packages (from matplotlib; python_version >= \"3.6\"->livelossplot) (0.10.0)\n",
      "Requirement already satisfied: python-dateutil>=2.1 in /usr/local/lib/python3.6/dist-packages (from matplotlib; python_version >= \"3.6\"->livelossplot) (2.8.1)\n",
      "Requirement already satisfied: future in /usr/local/lib/python3.6/dist-packages (from torch==1.5.0->torchvision) (0.16.0)\n",
      "Requirement already satisfied: ptyprocess>=0.5 in /usr/local/lib/python3.6/dist-packages (from pexpect; sys_platform != \"win32\"->ipython->livelossplot) (0.6.0)\n",
      "Requirement already satisfied: six in /usr/local/lib/python3.6/dist-packages (from traitlets>=4.2->ipython->livelossplot) (1.12.0)\n",
      "Requirement already satisfied: ipython-genutils in /usr/local/lib/python3.6/dist-packages (from traitlets>=4.2->ipython->livelossplot) (0.2.0)\n",
      "Requirement already satisfied: wcwidth in /usr/local/lib/python3.6/dist-packages (from prompt-toolkit<2.0.0,>=1.0.4->ipython->livelossplot) (0.1.9)\n",
      "Populating the interactive namespace from numpy and matplotlib\n"
     ]
    }
   ],
   "source": [
    "!pip install pycm livelossplot torchvision\n",
    "%pylab inline"
   ]
  },
  {
   "cell_type": "markdown",
   "metadata": {
    "colab_type": "text",
    "id": "En9dBOn0hzPL"
   },
   "source": [
    "# ACSE Module 8 - Practical - Morning Session 3:\n",
    "----\n",
    "# Training Deep Neural Networks - Crossvalidation"
   ]
  },
  {
   "cell_type": "markdown",
   "metadata": {
    "colab_type": "text",
    "id": "rGURJ5EBhzPO"
   },
   "source": [
    "In this exercise you will use cross-validation to estimate the hyperparameters of a deep-neural network trained on the MNIST dataset and create predictions on the MNIST datasets public test set."
   ]
  },
  {
   "cell_type": "markdown",
   "metadata": {
    "colab_type": "text",
    "id": "MXJ6R5CBhzPQ"
   },
   "source": [
    "#### A few imports before we get started"
   ]
  },
  {
   "cell_type": "code",
   "execution_count": null,
   "metadata": {
    "colab": {
     "base_uri": "https://localhost:8080/",
     "height": 34
    },
    "colab_type": "code",
    "id": "5-tUzUV2hzPU",
    "outputId": "8b14a7b2-4525-4824-9cc1-decd221d84d6"
   },
   "outputs": [
    {
     "name": "stdout",
     "output_type": "stream",
     "text": [
      "Cuda installed! Running on GPU!\n"
     ]
    }
   ],
   "source": [
    "from sklearn.metrics import accuracy_score\n",
    "from sklearn.model_selection import StratifiedShuffleSplit\n",
    "\n",
    "from livelossplot import PlotLosses\n",
    "from pycm import *\n",
    "\n",
    "import torch\n",
    "import torch.nn as nn\n",
    "import torch.nn.functional as F\n",
    "from torch.utils.data import TensorDataset, DataLoader\n",
    "import torchvision.transforms as transforms\n",
    "from torchvision.datasets import MNIST\n",
    "\n",
    "\n",
    "def set_seed(seed):\n",
    "    \"\"\"\n",
    "    Use this to set ALL the random seeds to a fixed value and take out any randomness from cuda kernels\n",
    "    \"\"\"\n",
    "    random.seed(seed)\n",
    "    np.random.seed(seed)\n",
    "    torch.manual_seed(seed)\n",
    "    torch.cuda.manual_seed_all(seed)\n",
    "\n",
    "    torch.backends.cudnn.benchmark = False  ## uses the inbuilt cudnn auto-tuner to find the fastest convolution algorithms.\n",
    "    torch.backends.cudnn.enabled   = False  ## does not enable the inbuilt cudnn deep learning library for training neural networks\n",
    "\n",
    "    return True\n",
    "\n",
    "device = 'cpu'\n",
    "if torch.cuda.device_count() > 0 and torch.cuda.is_available(): ## run on GPUs if available\n",
    "    print(\"Cuda installed! Running on GPU!\")\n",
    "    device = 'cuda'\n",
    "else:\n",
    "    print(\"No GPU available!\")"
   ]
  },
  {
   "cell_type": "markdown",
   "metadata": {
    "colab_type": "text",
    "id": "6tLRNHc8GOfR"
   },
   "source": [
    "### Mounting the google drive for later storage"
   ]
  },
  {
   "cell_type": "code",
   "execution_count": null,
   "metadata": {
    "colab": {
     "base_uri": "https://localhost:8080/",
     "height": 34
    },
    "colab_type": "code",
    "id": "Dg3oP6GHGOsX",
    "outputId": "fdc25aba-aa1b-4ebe-ee73-a94dad0738c0"
   },
   "outputs": [
    {
     "name": "stdout",
     "output_type": "stream",
     "text": [
      "Drive already mounted at /content/gdrive/; to attempt to forcibly remount, call drive.mount(\"/content/gdrive/\", force_remount=True).\n"
     ]
    }
   ],
   "source": [
    "from google.colab import drive\n",
    "drive.mount('/content/gdrive/')"
   ]
  },
  {
   "cell_type": "markdown",
   "metadata": {
    "colab_type": "text",
    "id": "y_UioFmvFIDw"
   },
   "source": [
    "### The MNIST Dataset - Hello World of Deep-Learning"
   ]
  },
  {
   "cell_type": "code",
   "execution_count": null,
   "metadata": {
    "colab": {},
    "colab_type": "code",
    "id": "3K-yVuQvhzPs"
   },
   "outputs": [],
   "source": [
    "mnist_train = MNIST(\"./\", download=True, train=True) ## download the training data to the curernt working directory\n",
    "mnist_test = MNIST(\"./\", download=True, train=False) ## download the test data to the curernt working directory"
   ]
  },
  {
   "cell_type": "markdown",
   "metadata": {
    "colab_type": "text",
    "id": "ZIKWFh11AK_Y"
   },
   "source": [
    "### Instantiate and create a ```StratifiedShuffleSplit``` using sklearn.\n",
    "1. Create a ```sklearn.model_selection.StratifiedShuffleSplit``` object with 1-split and a test-size of 10%.\n",
    "2. Get the training and validation indices from the shuffel-split "
   ]
  },
  {
   "cell_type": "code",
   "execution_count": null,
   "metadata": {
    "colab": {
     "base_uri": "https://localhost:8080/",
     "height": 85
    },
    "colab_type": "code",
    "id": "5zHKxYrY_15l",
    "outputId": "1b7682d0-962b-4759-a441-129c211f3b02"
   },
   "outputs": [
    {
     "name": "stderr",
     "output_type": "stream",
     "text": [
      "/usr/local/lib/python3.6/dist-packages/torchvision/datasets/mnist.py:55: UserWarning: train_data has been renamed data\n",
      "  warnings.warn(\"train_data has been renamed data\")\n",
      "/usr/local/lib/python3.6/dist-packages/torchvision/datasets/mnist.py:45: UserWarning: train_labels has been renamed targets\n",
      "  warnings.warn(\"train_labels has been renamed targets\")\n"
     ]
    }
   ],
   "source": [
    "shuffler = StratifiedShuffleSplit(n_splits=1, test_size=0.1, random_state=42).split(mnist_train.train_data, mnist_train.train_labels)\n",
    "indices = [(train_idx, validation_idx) for train_idx, validation_idx in shuffler][0]"
   ]
  },
  {
   "cell_type": "markdown",
   "metadata": {
    "colab_type": "text",
    "id": "euZacTUtALq7"
   },
   "source": [
    "### Splitting and normalize the data\n",
    "The original mnist data is given in gray-scale values between 0 and 255.\n",
    "You will need to write a normalisation method that takes in a ```torch.Tensor``` and performs normalisation.\n",
    "The mean of MNIST is 0.1307 and it's standard deviation is 0.3081 (after division by 255).\n",
    "\n",
    "Finally, torch likes all categorical data to be in a ```.long()``` format.\n",
    "Therefore\n"
   ]
  },
  {
   "cell_type": "code",
   "execution_count": null,
   "metadata": {
    "colab": {},
    "colab_type": "code",
    "id": "BY7_QOdPIDXm"
   },
   "outputs": [],
   "source": [
    "def apply_normalization(X):\n",
    "  X /= 255. ## normalize pixel values to the range 0 to 1. Pixel values are often unsigned integers in the range between 0 and 255.\n",
    "  X -= 0.1307 ## mean of the pixel values in this data set is 0.1307\n",
    "  X /= 0.3081 ## variance of the pixel values in this dataset is 0.3081\n",
    "  return X  \n",
    "  ## NB: scaling by 255 may not be necessary as subtracting the mean and diving by the variance standardizes the data"
   ]
  },
  {
   "cell_type": "code",
   "execution_count": null,
   "metadata": {
    "colab": {
     "base_uri": "https://localhost:8080/",
     "height": 153
    },
    "colab_type": "code",
    "id": "C33RJWTM_12w",
    "outputId": "e9077428-6478-4d97-c2a8-30066b75ca70"
   },
   "outputs": [
    {
     "name": "stderr",
     "output_type": "stream",
     "text": [
      "/usr/local/lib/python3.6/dist-packages/torchvision/datasets/mnist.py:55: UserWarning: train_data has been renamed data\n",
      "  warnings.warn(\"train_data has been renamed data\")\n",
      "/usr/local/lib/python3.6/dist-packages/torchvision/datasets/mnist.py:45: UserWarning: train_labels has been renamed targets\n",
      "  warnings.warn(\"train_labels has been renamed targets\")\n",
      "/usr/local/lib/python3.6/dist-packages/torchvision/datasets/mnist.py:60: UserWarning: test_data has been renamed data\n",
      "  warnings.warn(\"test_data has been renamed data\")\n",
      "/usr/local/lib/python3.6/dist-packages/torchvision/datasets/mnist.py:50: UserWarning: test_labels has been renamed targets\n",
      "  warnings.warn(\"test_labels has been renamed targets\")\n"
     ]
    }
   ],
   "source": [
    "X_train, y_train = apply_normalization(mnist_train.train_data[indices[0]].float()), mnist_train.train_labels[indices[0]]\n",
    "X_val, y_val = apply_normalization(mnist_train.train_data[indices[1]].float()), mnist_train.train_labels[indices[1]]\n",
    "X_test, y_test =  apply_normalization(mnist_test.test_data.float()), mnist_test.test_labels"
   ]
  },
  {
   "cell_type": "markdown",
   "metadata": {
    "colab_type": "text",
    "id": "RM9owG-yAMLv"
   },
   "source": [
    "### Instantiate a ```torch.utils.data.TensorDataset``` for training, validation and test data"
   ]
  },
  {
   "cell_type": "code",
   "execution_count": null,
   "metadata": {
    "colab": {},
    "colab_type": "code",
    "id": "9IjL4N-P_1zV"
   },
   "outputs": [],
   "source": [
    "mnist_train = TensorDataset(X_train, y_train.long())\n",
    "mnist_validate = TensorDataset(X_val, y_val.long())\n",
    "mnist_test = TensorDataset(X_test, y_test.long())"
   ]
  },
  {
   "cell_type": "markdown",
   "metadata": {
    "colab_type": "text",
    "id": "LZ2qMRUGAEUA"
   },
   "source": [
    "Let's visualise an example of the images and check whether the data is normalised properly (compute .mean() and .std() on the training set.)"
   ]
  },
  {
   "cell_type": "code",
   "execution_count": null,
   "metadata": {
    "colab": {
     "base_uri": "https://localhost:8080/",
     "height": 282
    },
    "colab_type": "code",
    "id": "JVlMiRAmoh0O",
    "outputId": "3db74c0b-2ce2-40c3-9f9e-5d59e9790879"
   },
   "outputs": [
    {
     "name": "stdout",
     "output_type": "stream",
     "text": [
      "tensor(9.8159e-05) tensor(1.0003)\n"
     ]
    },
    {
     "data": {
      "image/png": "[encoded data removed]",
      "text/plain": [
       "<Figure size 432x288 with 1 Axes>"
      ]
     },
     "metadata": {
      "needs_background": "light",
      "tags": []
     },
     "output_type": "display_data"
    }
   ],
   "source": [
    "plt.imshow(X_train[0])\n",
    "print(X_train.mean(), X_train.std())"
   ]
  },
  {
   "cell_type": "markdown",
   "metadata": {
    "colab_type": "text",
    "id": "pQScGYoWSZtj"
   },
   "source": [
    "### Create a SimpleNet as a ```nn.Module```\n",
    "Create a simple feed-forward neural network with the following architecture:\n",
    "- Input Layer: 28*28 neurons\n",
    "- Hidden Layer: 25 neurons\n",
    "- Output Layer: 10 neurons\n",
    "- Hidden Layer Activation: ReLU\n",
    "- Output Layer Activation: None\n"
   ]
  },
  {
   "cell_type": "code",
   "execution_count": null,
   "metadata": {
    "colab": {},
    "colab_type": "code",
    "id": "OPxocj_ihzP2"
   },
   "outputs": [],
   "source": [
    "class SimpleNet(nn.Module):\n",
    "    def __init__(self):\n",
    "        super(SimpleNet, self).__init__()\n",
    "        self.linear_1 = nn.Linear(28*28, 25) ## 28*28 gives the number of features in the dataset. This becomes the number of units in the input layer \n",
    "        self.linear_2 = nn.Linear(25, 10) ## the output layer has 10 neurons since we have 10 classess for this example\n",
    "        self.activation = nn.ReLU()\n",
    "        \n",
    "    def forward(self, x):\n",
    "        z1 = self.linear_1(x)\n",
    "        a1 = self.activation(z1)\n",
    "        z2 = self.linear_2(a1)\n",
    "        return z2"
   ]
  },
  {
   "cell_type": "markdown",
   "metadata": {
    "colab_type": "text",
    "id": "3TYLEVrsANtX"
   },
   "source": [
    "### Sanity checks on our SimpleNet\n"
   ]
  },
  {
   "cell_type": "code",
   "execution_count": null,
   "metadata": {
    "colab": {
     "base_uri": "https://localhost:8080/",
     "height": 68
    },
    "colab_type": "code",
    "id": "cPxBHE2MhzQA",
    "outputId": "aa47f7a5-bb96-4b4a-985a-59fa17c9b805"
   },
   "outputs": [
    {
     "name": "stdout",
     "output_type": "stream",
     "text": [
      "tensor([[-2.3760, -2.1125, -2.5396, -2.5107, -2.2058, -2.1840, -1.9660, -2.3674,\n",
      "         -2.7726, -2.2345]], device='cuda:0', grad_fn=<LogSoftmaxBackward>)\n",
      "tensor([6], device='cuda:0')\n"
     ]
    }
   ],
   "source": [
    "model = SimpleNet().to(device) ## .to(device) loads the model on the device, i.e GPUs in this example\n",
    "criterion = nn.CrossEntropyLoss()\n",
    "\n",
    "X_ = X_train[0].view(-1, 28*28).to(device) ## .view(-1,28*28) creates a view of the tensor without copying the data. This is faster and more memory efficient than reshaping. \n",
    "## the dimension of -1 implies that the actual value for this dimension will be inferred so that the number of elements in the view matches the original number of elements.\n",
    "\n",
    "y_ = torch.zeros((1)).to(device).long() ## .to(device) loads the tensor to the current device in use, i.e the GPUs\n",
    "a2 = model(X_) ## a2 = z2 in this case since SimpleNet is returning z2\n",
    "loss = criterion(a2, y_) ## the loss criterion CrossEntropyLoss(), combines nn.LogSoftMax and nn.NLLLoss so it is essentially computing the loss between the non_linear transform of z2 and the label y_\n",
    "y_pred = F.log_softmax(a2, dim=1).max(1)[1] ## gives the predicted value as the maximum probability value index based on the log_softmax operation on a2\n",
    "\n",
    "print(F.log_softmax(a2, dim=1))\n",
    "print(y_pred)"
   ]
  },
  {
   "cell_type": "markdown",
   "metadata": {
    "colab_type": "text",
    "id": "bcFPI8XKAOtl"
   },
   "source": [
    "### Create simple train function\n",
    "\n",
    "The function should perform the following tasks:\n",
    "1. Set the model into training mode\n",
    "2. Iterate over all the mini-batches\n",
    "3. Send the batches to the GPU / CPU\n",
    "4. Zero all the gradients\n",
    "5. Perform the forward-pass\n",
    "6. Compute the loss\n",
    "7. Perform the backward-pass\n",
    "8. Keep a running measure of training loss and accuracy\n",
    "9. Perform a step of gradient-descent\n",
    "10. Once done with all batches, return average training loss and accuracy"
   ]
  },
  {
   "cell_type": "code",
   "execution_count": null,
   "metadata": {
    "colab": {},
    "colab_type": "code",
    "id": "FRrehKxjhzQQ"
   },
   "outputs": [],
   "source": [
    "def train(model, optimizer, criterion, data_loader):\n",
    "    model.train() ## the model is in the training mode so the parameters(weights)to be optimised will be updatad at each step\n",
    "    train_loss, train_accuracy = 0, 0\n",
    "    for X, y in data_loader:\n",
    "        X, y = X.to(device), y.to(device)\n",
    "        optimizer.zero_grad()\n",
    "        a2 = model(X.view(-1, 28*28))\n",
    "        loss = criterion(a2, y)\n",
    "        loss.backward()\n",
    "        train_loss += loss*X.size(0)\n",
    "        y_pred = F.log_softmax(a2, dim=1).max(1)[1]\n",
    "        train_accuracy += accuracy_score(y.cpu().numpy(), y_pred.detach().cpu().numpy())*X.size(0) ## .cpu cpoies the tensor to the cpu to evaluate the accuracy score since it is a scikitlearn metric which does not run on GPUs\n",
    "        optimizer.step()  \n",
    "        \n",
    "    return train_loss/len(data_loader.dataset), train_accuracy/len(data_loader.dataset)  ## loss and accuracy calculated give the total for all batches and must be divided by the number of batch size to give the average values."
   ]
  },
  {
   "cell_type": "markdown",
   "metadata": {
    "colab_type": "text",
    "id": "9ZyumfW0AQDE"
   },
   "source": [
    "### Create simple validate function\n",
    "\n",
    "The function should perform the following tasks:\n",
    "1. Set the model into evaluation mode\n",
    "2. Iterate over all the mini-batches\n",
    "3. Send the batches to the GPU / CPU\n",
    "5. Perform the forward-pass\n",
    "6. Compute the loss\n",
    "8. Keep a running measure of validation loss and accuracy\n",
    "10. Once done with all batches, return average validation loss and accuracy"
   ]
  },
  {
   "cell_type": "code",
   "execution_count": null,
   "metadata": {
    "colab": {},
    "colab_type": "code",
    "id": "Br0jvB7-hzQZ"
   },
   "outputs": [],
   "source": [
    "def validate(model, criterion, data_loader):\n",
    "    model.eval() ## model is set to evaluation mode to freeze the parameters and ensure weights are not updated at each step so that the trained model is used to evaluate the validation loss\n",
    "    validation_loss, validation_accuracy = 0., 0.\n",
    "    for X, y in data_loader:\n",
    "        with torch.no_grad():\n",
    "            X, y = X.to(device), y.to(device)\n",
    "            a2 = model(X.view(-1, 28*28))\n",
    "            loss = criterion(a2, y)\n",
    "            validation_loss += loss*X.size(0)\n",
    "            y_pred = F.log_softmax(a2, dim=1).max(1)[1]\n",
    "            validation_accuracy += accuracy_score(y.cpu().numpy(), y_pred.cpu().numpy())*X.size(0)\n",
    "            \n",
    "    return validation_loss/len(data_loader.dataset), validation_accuracy/len(data_loader.dataset)"
   ]
  },
  {
   "cell_type": "markdown",
   "metadata": {
    "colab_type": "text",
    "id": "i_pehihNAQ9E"
   },
   "source": [
    " ### Set the hyperparameters of your model\n",
    "- Seed: 42\n",
    "- learning rate: 1e-2\n",
    "- Optimizer: SGD\n",
    "- momentum: 0.9\n",
    "- Number of Epochs: 30\n",
    "- Batchsize: 64\n",
    "- Test Batch Size (no effect on training apart from time): 1000\n",
    "- Shuffle the training set every epoch: Yes"
   ]
  },
  {
   "cell_type": "code",
   "execution_count": null,
   "metadata": {
    "colab": {},
    "colab_type": "code",
    "id": "Zvp3L6IGhzQj"
   },
   "outputs": [],
   "source": [
    "seed = 42\n",
    "lr = 1e-2\n",
    "momentum = 0.9\n",
    "batch_size = 64\n",
    "test_batch_size = 1000\n",
    "n_epochs = 30"
   ]
  },
  {
   "cell_type": "markdown",
   "metadata": {
    "colab_type": "text",
    "id": "-QgnLf8fJ8nG"
   },
   "source": [
    "### Instantiate our model, optimizer and loss function\n",
    "Set the random number generator seed using ```set_seed``` to make everything reproducible.\n",
    "As a criterion use a sensible loss for the multi-class classification problem."
   ]
  },
  {
   "cell_type": "code",
   "execution_count": null,
   "metadata": {
    "colab": {},
    "colab_type": "code",
    "id": "6fKO9Q-sJ8uW"
   },
   "outputs": [],
   "source": [
    "set_seed(seed)\n",
    "model = SimpleNet().to(device)\n",
    "optimizer = torch.optim.SGD(model.parameters(), lr=lr, momentum=momentum)\n",
    "criterion = nn.CrossEntropyLoss()"
   ]
  },
  {
   "cell_type": "markdown",
   "metadata": {
    "colab_type": "text",
    "id": "ZfBaeCSiASt7"
   },
   "source": [
    "### Create dataloaders for the training, validation and test data"
   ]
  },
  {
   "cell_type": "code",
   "execution_count": null,
   "metadata": {
    "colab": {},
    "colab_type": "code",
    "id": "1OkfIQO5ATUM"
   },
   "outputs": [],
   "source": [
    "train_loader = DataLoader(mnist_train, batch_size=batch_size, shuffle=True, num_workers=0) ## num_workers=0 implies that the main process should retrieve the data. If num_workers=2 for example, 2 other workers will put data into the RAM instead of the main process.\n",
    "validation_loader = DataLoader(mnist_validate, batch_size=test_batch_size, shuffle=False, num_workers=0)\n",
    "test_loader = DataLoader(mnist_test, batch_size=test_batch_size, shuffle=False, num_workers=0)"
   ]
  },
  {
   "cell_type": "markdown",
   "metadata": {
    "colab_type": "text",
    "id": "NMEpCuC1EEFw"
   },
   "source": [
    "### Perform the training of the network and validation\n",
    "Here we provide you with a method to visualize both training and validation loss while training your networks."
   ]
  },
  {
   "cell_type": "code",
   "execution_count": null,
   "metadata": {
    "colab": {
     "base_uri": "https://localhost:8080/",
     "height": 428
    },
    "colab_type": "code",
    "id": "w9txG8N2hzQt",
    "outputId": "70ee5382-6134-4651-9c54-a1591e381503"
   },
   "outputs": [
    {
     "data": {
      "image/png": "[encoded data removed]",
      "text/plain": [
       "<Figure size 864x576 with 2 Axes>"
      ]
     },
     "metadata": {
      "needs_background": "light",
      "tags": []
     },
     "output_type": "display_data"
    },
    {
     "name": "stdout",
     "output_type": "stream",
     "text": [
      "accuracy\n",
      "\ttraining         \t (min:    0.905, max:    0.987, cur:    0.987)\n",
      "\tvalidation       \t (min:    0.940, max:    0.961, cur:    0.957)\n",
      "log loss\n",
      "\ttraining         \t (min:    0.040, max:    0.324, cur:    0.040)\n",
      "\tvalidation       \t (min:    0.141, max:    0.211, cur:    0.202)\n"
     ]
    }
   ],
   "source": [
    "liveloss = PlotLosses()\n",
    "for epoch in range(30):\n",
    "    logs = {}\n",
    "    train_loss, train_accuracy = train(model, optimizer, criterion, train_loader)\n",
    "\n",
    "    logs['' + 'log loss'] = train_loss.item()\n",
    "    logs['' + 'accuracy'] = train_accuracy.item()\n",
    "    \n",
    "    validation_loss, validation_accuracy = validate(model, criterion, validation_loader)\n",
    "    logs['val_' + 'log loss'] = validation_loss.item()\n",
    "    logs['val_' + 'accuracy'] = validation_accuracy.item()\n",
    "    \n",
    "    liveloss.update(logs)\n",
    "    liveloss.draw()"
   ]
  },
  {
   "cell_type": "markdown",
   "metadata": {
    "colab_type": "text",
    "id": "5kPt1sm8Mm_q"
   },
   "source": [
    "It seems the model isn't doing very well. Maybe we can do better.\n",
    "Run a grid search over the momentum value, use the following: momentum = [0.1, 0.5, 0.9]\n",
    "and run the model on the full training set with the best value for the momentum parameter."
   ]
  },
  {
   "cell_type": "code",
   "execution_count": null,
   "metadata": {
    "colab": {},
    "colab_type": "code",
    "id": "cVIuIJuTM2Ro"
   },
   "outputs": [],
   "source": [
    "def train_model(momentum):\n",
    "  set_seed(seed)\n",
    "  model = SimpleNet().to(device)\n",
    "  optimizer = torch.optim.SGD(model.parameters(), lr=lr, momentum=momentum)\n",
    "  criterion = nn.CrossEntropyLoss()\n",
    "  \n",
    "  train_loader = DataLoader(mnist_train, batch_size=batch_size, shuffle=True, num_workers=0)\n",
    "  validation_loader = DataLoader(mnist_validate, batch_size=test_batch_size, shuffle=False, num_workers=0)\n",
    "  test_loader = DataLoader(mnist_test, batch_size=test_batch_size, shuffle=False, num_workers=0)\n",
    "  \n",
    "  liveloss = PlotLosses()\n",
    "  for epoch in range(30):\n",
    "      logs = {}\n",
    "      train_loss, train_accuracy = train(model, optimizer, criterion, train_loader)\n",
    "\n",
    "      logs['' + 'log loss'] = train_loss.item()\n",
    "      logs['' + 'accuracy'] = train_accuracy.item()\n",
    "\n",
    "      validation_loss, validation_accuracy = validate(model, criterion, validation_loader)\n",
    "      logs['val_' + 'log loss'] = validation_loss.item()\n",
    "      logs['val_' + 'accuracy'] = validation_accuracy.item()\n",
    "\n",
    "      liveloss.update(logs)\n",
    "      liveloss.draw()\n",
    "      \n",
    "  return True"
   ]
  },
  {
   "cell_type": "code",
   "execution_count": null,
   "metadata": {
    "colab": {
     "base_uri": "https://localhost:8080/",
     "height": 445
    },
    "colab_type": "code",
    "id": "0G3oP1vPNE2O",
    "outputId": "ffff7f32-7013-4809-e4a2-fb5cce0300f6"
   },
   "outputs": [
    {
     "data": {
      "image/png": "[encoded data removed]",
      "text/plain": [
       "<Figure size 864x576 with 2 Axes>"
      ]
     },
     "metadata": {
      "needs_background": "light",
      "tags": []
     },
     "output_type": "display_data"
    },
    {
     "name": "stdout",
     "output_type": "stream",
     "text": [
      "accuracy\n",
      "\ttraining         \t (min:    0.844, max:    0.987, cur:    0.974)\n",
      "\tvalidation       \t (min:    0.903, max:    0.961, cur:    0.959)\n",
      "log loss\n",
      "\ttraining         \t (min:    0.040, max:    0.613, cur:    0.091)\n",
      "\tvalidation       \t (min:    0.141, max:    0.355, cur:    0.141)\n"
     ]
    },
    {
     "data": {
      "text/plain": [
       "True"
      ]
     },
     "execution_count": 19,
     "metadata": {
      "tags": []
     },
     "output_type": "execute_result"
    }
   ],
   "source": [
    "train_model(0.1)"
   ]
  },
  {
   "cell_type": "code",
   "execution_count": null,
   "metadata": {
    "colab": {
     "base_uri": "https://localhost:8080/",
     "height": 445
    },
    "colab_type": "code",
    "id": "EA9rn-x3NFEP",
    "outputId": "fab7a2bd-4106-48af-94c6-df66282a4b12"
   },
   "outputs": [
    {
     "data": {
      "image/png": "[encoded data removed]",
      "text/plain": [
       "<Figure size 864x576 with 2 Axes>"
      ]
     },
     "metadata": {
      "needs_background": "light",
      "tags": []
     },
     "output_type": "display_data"
    },
    {
     "name": "stdout",
     "output_type": "stream",
     "text": [
      "accuracy\n",
      "\ttraining         \t (min:    0.844, max:    0.987, cur:    0.980)\n",
      "\tvalidation       \t (min:    0.903, max:    0.961, cur:    0.961)\n",
      "log loss\n",
      "\ttraining         \t (min:    0.040, max:    0.613, cur:    0.069)\n",
      "\tvalidation       \t (min:    0.136, max:    0.355, cur:    0.137)\n"
     ]
    },
    {
     "data": {
      "text/plain": [
       "True"
      ]
     },
     "execution_count": 20,
     "metadata": {
      "tags": []
     },
     "output_type": "execute_result"
    }
   ],
   "source": [
    "train_model(0.5)"
   ]
  },
  {
   "cell_type": "code",
   "execution_count": null,
   "metadata": {
    "colab": {
     "base_uri": "https://localhost:8080/",
     "height": 445
    },
    "colab_type": "code",
    "id": "82leJRKPNFOk",
    "outputId": "2f24e29a-ea58-41d6-cc1e-64ed9b0bdbc7"
   },
   "outputs": [
    {
     "data": {
      "image/png": "[encoded data removed]",
      "text/plain": [
       "<Figure size 864x576 with 2 Axes>"
      ]
     },
     "metadata": {
      "needs_background": "light",
      "tags": []
     },
     "output_type": "display_data"
    },
    {
     "name": "stdout",
     "output_type": "stream",
     "text": [
      "accuracy\n",
      "\ttraining         \t (min:    0.844, max:    0.987, cur:    0.987)\n",
      "\tvalidation       \t (min:    0.903, max:    0.961, cur:    0.957)\n",
      "log loss\n",
      "\ttraining         \t (min:    0.040, max:    0.613, cur:    0.040)\n",
      "\tvalidation       \t (min:    0.136, max:    0.355, cur:    0.202)\n"
     ]
    },
    {
     "data": {
      "text/plain": [
       "True"
      ]
     },
     "execution_count": 21,
     "metadata": {
      "tags": []
     },
     "output_type": "execute_result"
    }
   ],
   "source": [
    "train_model(0.9)"
   ]
  },
  {
   "cell_type": "code",
   "execution_count": null,
   "metadata": {
    "colab": {},
    "colab_type": "code",
    "id": "Tpq0M6qGOTy0"
   },
   "outputs": [],
   "source": [
    "best_momentum = 0.5"
   ]
  },
  {
   "cell_type": "markdown",
   "metadata": {
    "colab_type": "text",
    "id": "biyWFx8tAW9G"
   },
   "source": [
    "### Implement an evaluate method\n",
    "This method performs the same as validate but doesn't report losses, but simply returns all predictions on a given dataset (training, validation, test-set)"
   ]
  },
  {
   "cell_type": "code",
   "execution_count": null,
   "metadata": {
    "colab": {},
    "colab_type": "code",
    "id": "1-MaI8F1hzQ7"
   },
   "outputs": [],
   "source": [
    "def evaluate(model, data_loader):\n",
    "    model.eval()\n",
    "    ys, y_preds = [], []\n",
    "    for X, y in data_loader:\n",
    "        with torch.no_grad():\n",
    "            X, y = X.to(device), y.to(device)\n",
    "            a2 = model(X.view(-1, 28*28))\n",
    "            y_pred = F.log_softmax(a2, dim=1).max(1)[1]\n",
    "            ys.append(y.cpu().numpy())\n",
    "            y_preds.append(y_pred.cpu().numpy())\n",
    "    \n",
    "      \n",
    "    return np.concatenate(y_preds, 0),  np.concatenate(ys, 0) ## concatenate the labels of each batch into a single list\n",
    "\n",
    "y_pred, y_gt = evaluate(model, validation_loader)"
   ]
  },
  {
   "cell_type": "markdown",
   "metadata": {
    "colab_type": "text",
    "id": "keGazNqkAXw9"
   },
   "source": [
    "### Plotting a confusion matrix\n",
    "\n",
    "We can use a confusion matrix to diagnose problems in our models.\n",
    "We may see for example that our model confuses 9's for 4's quite often."
   ]
  },
  {
   "cell_type": "code",
   "execution_count": null,
   "metadata": {
    "colab": {
     "base_uri": "https://localhost:8080/",
     "height": 1000
    },
    "colab_type": "code",
    "id": "SWtJhZnDhzRE",
    "outputId": "eddf9a0a-8f1a-4a23-c6ad-d3334ec455f9"
   },
   "outputs": [
    {
     "name": "stdout",
     "output_type": "stream",
     "text": [
      "Predict   0         1         2         3         4         5         6         7         8         9         \n",
      "Actual\n",
      "0         584       1         1         0         0         1         1         0         3         1         \n",
      "\n",
      "1         0         667       2         1         0         0         0         0         2         2         \n",
      "\n",
      "2         1         13        564       2         1         0         5         6         3         1         \n",
      "\n",
      "3         2         2         7         577       0         14        0         2         7         2         \n",
      "\n",
      "4         1         1         5         1         562       1         1         1         3         8         \n",
      "\n",
      "5         1         0         0         6         2         521       3         0         7         2         \n",
      "\n",
      "6         8         0         1         0         9         2         571       0         1         0         \n",
      "\n",
      "7         3         5         5         5         2         2         0         592       1         12        \n",
      "\n",
      "8         3         6         3         5         3         8         6         0         547       4         \n",
      "\n",
      "9         5         2         0         0         10        4         0         8         9         557       \n",
      "\n",
      "\n",
      "\n",
      "\n",
      "\n",
      "Overall Statistics : \n",
      "\n",
      "95% CI                                                            (0.95187,0.96213)\n",
      "ACC Macro                                                         0.9914\n",
      "ARI                                                               0.90765\n",
      "AUNP                                                              0.97612\n",
      "AUNU                                                              0.97597\n",
      "Bennett S                                                         0.95222\n",
      "CBA                                                               0.94812\n",
      "CSI                                                               0.91354\n",
      "Chi-Squared                                                       48954.92787\n",
      "Chi-Squared DF                                                    81\n",
      "Conditional Entropy                                               0.35439\n",
      "Cramer V                                                          0.95214\n",
      "Cross Entropy                                                     3.32018\n",
      "F1 Macro                                                          0.95667\n",
      "F1 Micro                                                          0.957\n",
      "FNR Macro                                                         0.04329\n",
      "FNR Micro                                                         0.043\n",
      "FPR Macro                                                         0.00478\n",
      "FPR Micro                                                         0.00478\n",
      "Gwet AC1                                                          0.95222\n",
      "Hamming Loss                                                      0.043\n",
      "Joint Entropy                                                     3.67426\n",
      "KL Divergence                                                     0.00032\n",
      "Kappa                                                             0.95221\n",
      "Kappa 95% CI                                                      (0.9465,0.95791)\n",
      "Kappa No Prevalence                                               0.914\n",
      "Kappa Standard Error                                              0.00291\n",
      "Kappa Unbiased                                                    0.95221\n",
      "Lambda A                                                          0.95156\n",
      "Lambda B                                                          0.95135\n",
      "Mutual Information                                                2.96509\n",
      "NIR                                                               0.11233\n",
      "Overall ACC                                                       0.957\n",
      "Overall CEN                                                       0.0808\n",
      "Overall J                                                         (9.17177,0.91718)\n",
      "Overall MCC                                                       0.95223\n",
      "Overall MCEN                                                      0.13645\n",
      "Overall RACC                                                      0.1003\n",
      "Overall RACCU                                                     0.10031\n",
      "P-Value                                                           None\n",
      "PPV Macro                                                         0.95682\n",
      "PPV Micro                                                         0.957\n",
      "Pearson C                                                         0.94383\n",
      "Phi-Squared                                                       8.15915\n",
      "RCI                                                               0.89313\n",
      "RR                                                                600.0\n",
      "Reference Entropy                                                 3.31987\n",
      "Response Entropy                                                  3.31948\n",
      "SOA1(Landis & Koch)                                               Almost Perfect\n",
      "SOA2(Fleiss)                                                      Excellent\n",
      "SOA3(Altman)                                                      Very Good\n",
      "SOA4(Cicchetti)                                                   Excellent\n",
      "SOA5(Cramer)                                                      Very Strong\n",
      "SOA6(Matthews)                                                    Very Strong\n",
      "Scott PI                                                          0.95221\n",
      "Standard Error                                                    0.00262\n",
      "TNR Macro                                                         0.99522\n",
      "TNR Micro                                                         0.99522\n",
      "TPR Macro                                                         0.95671\n",
      "TPR Micro                                                         0.957\n",
      "Zero-one Loss                                                     258\n",
      "\n",
      "Class Statistics :\n",
      "\n",
      "Classes                                                           0             1             2             3             4             5             6             7             8             9             \n",
      "ACC(Accuracy)                                                     0.99467       0.99383       0.99067       0.99067       0.99183       0.99117       0.99383       0.99133       0.98767       0.98833       \n",
      "AGF(Adjusted F-score)                                             0.98952       0.99033       0.97135       0.96978       0.97806       0.97637       0.98112       0.97165       0.96394       0.96522       \n",
      "AGM(Adjusted geometric mean)                                      0.99317       0.99311       0.98244       0.98159       0.98635       0.98546       0.98842       0.98276       0.9778        0.97861       \n",
      "AM(Difference between automatic and manual classification)        16            23            -8            -16           5             11            -5            -18           -2            -6            \n",
      "AUC(Area under the ROC curve)                                     0.99102       0.99199       0.97093       0.96878       0.97867       0.9777        0.98078       0.97051       0.9642        0.96511       \n",
      "AUCI(AUC value interpretation)                                    Excellent     Excellent     Excellent     Excellent     Excellent     Excellent     Excellent     Excellent     Excellent     Excellent     \n",
      "AUPR(Area under the PR curve)                                     0.97351       0.97329       0.95275       0.95389       0.95824       0.95169       0.96863       0.95813       0.93665       0.9409        \n",
      "BCD(Bray-Curtis dissimilarity)                                    0.00133       0.00192       0.00067       0.00133       0.00042       0.00092       0.00042       0.0015        0.00017       0.0005        \n",
      "BM(Informedness or bookmaker informedness)                        0.98205       0.98398       0.94187       0.93756       0.95734       0.95539       0.96157       0.94101       0.92839       0.93021       \n",
      "CEN(Confusion entropy)                                            0.05505       0.05254       0.08914       0.08565       0.07947       0.08802       0.05921       0.07877       0.1193        0.1066        \n",
      "DOR(Diagnostic odds ratio)                                        16376.33333   16821.10476   3950.9375     4301.05417    5098.6835     4206.76488    9163.19048    5328.99496    2150.8136     2461.15214    \n",
      "DP(Discriminant power)                                            2.32342       2.32984       1.98296       2.00329       2.04403       1.99799       2.18439       2.05461       1.83736       1.86963       \n",
      "DPI(Discriminant power interpretation)                            Fair          Fair          Limited       Fair          Fair          Limited       Fair          Fair          Limited       Limited       \n",
      "ERR(Error rate)                                                   0.00533       0.00617       0.00933       0.00933       0.00817       0.00883       0.00617       0.00867       0.01233       0.01167       \n",
      "F0.5(F0.5 score)                                                  0.96561       0.96332       0.95658       0.96135       0.95578       0.9459        0.97109       0.96637       0.93761       0.94375       \n",
      "F1(F1 score - harmonic mean of precision and sensitivity)         0.97333       0.97301       0.9527        0.95372       0.95823       0.9516        0.96862       0.95793       0.93664       0.94088       \n",
      "F2(F2 score)                                                      0.98118       0.98291       0.94886       0.94621       0.96068       0.95737       0.96616       0.94963       0.93568       0.93803       \n",
      "FDR(False discovery rate)                                         0.03947       0.04304       0.04082       0.0335        0.04584       0.05787       0.02726       0.02791       0.06175       0.05433       \n",
      "FN(False negative/miss/type 2 error)                              8             7             32            36            22            21            21            35            38            38            \n",
      "FNR(Miss rate or false negative rate)                             0.01351       0.01039       0.05369       0.05873       0.03767       0.03875       0.03547       0.05582       0.06496       0.06387       \n",
      "FOR(False omission rate)                                          0.00148       0.00132       0.00591       0.00666       0.00407       0.00386       0.00388       0.00649       0.00701       0.00702       \n",
      "FP(False positive/type 1 error/false alarm)                       24            30            24            20            27            32            16            17            36            32            \n",
      "FPR(Fall-out or false positive rate)                              0.00444       0.00563       0.00444       0.00371       0.00499       0.00586       0.00296       0.00316       0.00665       0.00592       \n",
      "G(G-measure geometric mean of precision and sensitivity)          0.97342       0.97315       0.95272       0.9538        0.95824       0.95165       0.96863       0.95803       0.93665       0.94089       \n",
      "GI(Gini index)                                                    0.98205       0.98398       0.94187       0.93756       0.95734       0.95539       0.96157       0.94101       0.92839       0.93021       \n",
      "GM(G-mean geometric mean of specificity and sensitivity)          0.99101       0.99199       0.97062       0.96839       0.97854       0.97756       0.98065       0.97015       0.96376       0.96467       \n",
      "IBA(Index of balanced accuracy)                                   0.9732        0.97936       0.89571       0.88619       0.92623       0.9242        0.93041       0.89163       0.87467       0.87667       \n",
      "ICSI(Individual classification success index)                     0.94701       0.94657       0.90549       0.90777       0.91649       0.90339       0.93727       0.91626       0.87329       0.88181       \n",
      "IS(Information score)                                             3.28319       3.09067       3.27146       3.24184       3.29322       3.3826        3.30142       3.21758       3.2665        3.25341       \n",
      "J(Jaccard index)                                                  0.94805       0.94744       0.90968       0.91153       0.9198        0.90767       0.93914       0.91925       0.88084       0.88836       \n",
      "LS(Lift score)                                                    9.73506       8.51892       9.65621       9.46002       9.80301       10.42953      9.85888       9.30225       9.62308       9.53617       \n",
      "MCC(Matthews correlation coefficient)                             0.97048       0.96971       0.94755       0.94863       0.95371       0.9468        0.96521       0.95322       0.92981       0.93442       \n",
      "MCCI(Matthews correlation coefficient interpretation)             Very Strong   Very Strong   Very Strong   Very Strong   Very Strong   Very Strong   Very Strong   Very Strong   Very Strong   Very Strong   \n",
      "MCEN(Modified confusion entropy)                                  0.09525       0.09019       0.15002       0.14389       0.13448       0.14728       0.10088       0.13297       0.19834       0.17674       \n",
      "MK(Markedness)                                                    0.95904       0.95564       0.95327       0.95984       0.95009       0.93828       0.96886       0.96559       0.93124       0.93865       \n",
      "N(Condition negative)                                             5408          5326          5404          5387          5416          5458          5408          5373          5415          5405          \n",
      "NLR(Negative likelihood ratio)                                    0.01357       0.01044       0.05393       0.05895       0.03786       0.03897       0.03558       0.056         0.06539       0.06425       \n",
      "NLRI(Negative likelihood ratio interpretation)                    Good          Good          Good          Good          Good          Good          Good          Good          Good          Good          \n",
      "NPV(Negative predictive value)                                    0.99852       0.99868       0.99409       0.99334       0.99593       0.99614       0.99612       0.99351       0.99299       0.99298       \n",
      "OC(Overlap coefficient)                                           0.98649       0.98961       0.95918       0.9665        0.96233       0.96125       0.97274       0.97209       0.93825       0.94567       \n",
      "OOC(Otsuka-Ochiai coefficient)                                    0.97342       0.97315       0.95272       0.9538        0.95824       0.95165       0.96863       0.95803       0.93665       0.94089       \n",
      "OP(Optimized precision)                                           0.99009       0.99144       0.9653        0.96227       0.97513       0.97435       0.97726       0.9642        0.95743       0.95831       \n",
      "P(Condition positive or support)                                  592           674           596           613           584           542           592           627           585           595           \n",
      "PLR(Positive likelihood ratio)                                    222.28829     175.68952     213.07718     253.53173     193.03602     163.95399     326.01014     298.41599     140.64601     158.11896     \n",
      "PLRI(Positive likelihood ratio interpretation)                    Good          Good          Good          Good          Good          Good          Good          Good          Good          Good          \n",
      "POP(Population)                                                   6000          6000          6000          6000          6000          6000          6000          6000          6000          6000          \n",
      "PPV(Precision or positive predictive value)                       0.96053       0.95696       0.95918       0.9665        0.95416       0.94213       0.97274       0.97209       0.93825       0.94567       \n",
      "PRE(Prevalence)                                                   0.09867       0.11233       0.09933       0.10217       0.09733       0.09033       0.09867       0.1045        0.0975        0.09917       \n",
      "Q(Yule Q - coefficient of colligation)                            0.99988       0.99988       0.99949       0.99954       0.99961       0.99952       0.99978       0.99962       0.99907       0.99919       \n",
      "QI(Yule Q interpretation)                                         Strong        Strong        Strong        Strong        Strong        Strong        Strong        Strong        Strong        Strong        \n",
      "RACC(Random accuracy)                                             0.01          0.01305       0.00973       0.01017       0.00955       0.00833       0.00965       0.01061       0.00947       0.00973       \n",
      "RACCU(Random accuracy unbiased)                                   0.01          0.01305       0.00974       0.01017       0.00956       0.00833       0.00965       0.01061       0.00947       0.00974       \n",
      "TN(True negative/correct rejection)                               5384          5296          5380          5367          5389          5426          5392          5356          5379          5373          \n",
      "TNR(Specificity or true negative rate)                            0.99556       0.99437       0.99556       0.99629       0.99501       0.99414       0.99704       0.99684       0.99335       0.99408       \n",
      "TON(Test outcome negative)                                        5392          5303          5412          5403          5411          5447          5413          5391          5417          5411          \n",
      "TOP(Test outcome positive)                                        608           697           588           597           589           553           587           609           583           589           \n",
      "TP(True positive/hit)                                             584           667           564           577           562           521           571           592           547           557           \n",
      "TPR(Sensitivity, recall, hit rate, or true positive rate)         0.98649       0.98961       0.94631       0.94127       0.96233       0.96125       0.96453       0.94418       0.93504       0.93613       \n",
      "Y(Youden index)                                                   0.98205       0.98398       0.94187       0.93756       0.95734       0.95539       0.96157       0.94101       0.92839       0.93021       \n",
      "dInd(Distance index)                                              0.01422       0.01181       0.05387       0.05884       0.038         0.03919       0.0356        0.05591       0.0653        0.06414       \n",
      "sInd(Similarity index)                                            0.98994       0.99165       0.9619        0.95839       0.97313       0.97229       0.97483       0.96046       0.95383       0.95465       \n",
      "\n"
     ]
    },
    {
     "name": "stderr",
     "output_type": "stream",
     "text": [
      "/usr/local/lib/python3.6/dist-packages/pycm/pycm_obj.py:192: RuntimeWarning: The confusion matrix is a high dimension matrix and won't be demonstrated properly.\n",
      "If confusion matrix has too many zeros (sparse matrix) you can set `sparse` flag to True in printing functions otherwise by using save_csv method to save the confusion matrix in csv format you'll have better demonstration.\n",
      "  warn(CLASS_NUMBER_WARNING, RuntimeWarning)\n"
     ]
    }
   ],
   "source": [
    "cm = ConfusionMatrix(actual_vector=y_gt, predict_vector=y_pred) ## Create the confusion matrix from Data. ConfusionMatrix is a class derived from the pycm library\n",
    "print(cm)\n",
    "## the rows of the confusion matrix give the number of the instances in the actual class that were wrongly predicted."
   ]
  },
  {
   "cell_type": "code",
   "execution_count": null,
   "metadata": {
    "colab": {
     "base_uri": "https://localhost:8080/",
     "height": 316
    },
    "colab_type": "code",
    "id": "I1MHKIDsiaQ1",
    "outputId": "0d53df57-439b-405c-8880-a2fa72fe7be8"
   },
   "outputs": [
    {
     "name": "stderr",
     "output_type": "stream",
     "text": [
      "/usr/local/lib/python3.6/dist-packages/statsmodels/tools/_testing.py:19: FutureWarning: pandas.util.testing is deprecated. Use the functions in the public API at pandas.testing instead.\n",
      "  import pandas.util.testing as tm\n"
     ]
    },
    {
     "data": {
      "text/plain": [
       "<matplotlib.axes._subplots.AxesSubplot at 0x7f873f5c7a58>"
      ]
     },
     "execution_count": 25,
     "metadata": {
      "tags": []
     },
     "output_type": "execute_result"
    },
    {
     "data": {
      "image/png": "[encoded data removed]",
      "text/plain": [
       "<Figure size 432x288 with 2 Axes>"
      ]
     },
     "metadata": {
      "needs_background": "light",
      "tags": []
     },
     "output_type": "display_data"
    }
   ],
   "source": [
    "import seaborn as sns\n",
    "\n",
    "def to_raw_matrix(cm):\n",
    "    plt_cm = []\n",
    "    for i in cm.classes :\n",
    "        row=[]\n",
    "        for j in cm.classes:\n",
    "            row.append(cm.table[i][j])\n",
    "        plt_cm.append(row)\n",
    "    plt_cm = np.array(plt_cm)\n",
    "    return plt_cm\n",
    "\n",
    "rcm = to_raw_matrix(cm) #store the confusion matrix values\n",
    "rcm = rcm/np.sum(rcm) #normalize the confusion matrix values\n",
    "\n",
    "sns.heatmap(rcm, cmap=\"Blues\")"
   ]
  },
  {
   "cell_type": "markdown",
   "metadata": {
    "colab_type": "text",
    "id": "2-OG3gAcE2mr"
   },
   "source": [
    "### Given that you estimated your hyperparameters, train your model on the full dataset and evaluate on the test set"
   ]
  },
  {
   "cell_type": "code",
   "execution_count": null,
   "metadata": {
    "colab": {
     "base_uri": "https://localhost:8080/",
     "height": 428
    },
    "colab_type": "code",
    "id": "hsHixVU5hzRS",
    "outputId": "a0bf20db-4513-4ab8-c815-90f9a894ddb9"
   },
   "outputs": [
    {
     "data": {
      "image/png": "[encoded data removed]",
      "text/plain": [
       "<Figure size 864x576 with 2 Axes>"
      ]
     },
     "metadata": {
      "needs_background": "light",
      "tags": []
     },
     "output_type": "display_data"
    },
    {
     "name": "stdout",
     "output_type": "stream",
     "text": [
      "accuracy\n",
      "\taccuracy         \t (min:    0.873, max:    0.979, cur:    0.979)\n",
      "log loss\n",
      "\tlog loss         \t (min:    0.071, max:    0.471, cur:    0.071)\n",
      "Avg. Test Loss: 0.116  Avg. Test Accuracy: 0.966\n",
      "\n"
     ]
    }
   ],
   "source": [
    "mnist_train = MNIST(\"./\", download=True, train=True)\n",
    "\n",
    "X_train, y_train = apply_normalization(mnist_train.train_data.float()), mnist_train.train_labels\n",
    "mnist_train = TensorDataset(X_train, y_train)\n",
    "train_loader = DataLoader(mnist_train, batch_size=batch_size, shuffle=True, num_workers=4)\n",
    "\n",
    "set_seed(seed)\n",
    "model = SimpleNet().to(device)\n",
    "optimizer = torch.optim.SGD(model.parameters(), lr=lr, momentum=best_momentum)\n",
    "criterion = nn.CrossEntropyLoss()\n",
    "\n",
    "liveloss = PlotLosses()\n",
    "for epoch in range(n_epochs):\n",
    "    logs = {}\n",
    "    train_loss, train_accuracy = train(model, optimizer, criterion, train_loader)\n",
    "\n",
    "    logs['' + 'log loss'] = train_loss.item()\n",
    "    logs['' + 'accuracy'] = train_accuracy.item()\n",
    "    liveloss.update(logs)\n",
    "    liveloss.draw()\n",
    "\n",
    "test_loss, test_accuracy = validate(model, criterion, test_loader)    \n",
    "print(\"Avg. Test Loss: %1.3f\" % test_loss.item(), \" Avg. Test Accuracy: %1.3f\" % test_accuracy.item())\n",
    "print(\"\")"
   ]
  },
  {
   "cell_type": "markdown",
   "metadata": {
    "colab_type": "text",
    "id": "QefvYkcIAaWH"
   },
   "source": [
    "### Storing and loading models - Pytorch State-Dicts"
   ]
  },
  {
   "cell_type": "markdown",
   "metadata": {
    "colab_type": "text",
    "id": "6db2OqwdAb7V"
   },
   "source": [
    "Pytorch stores all the parameters of models and optimizers, their weights and biases in an easy to read dictionary called a \"state-dict\".\n",
    "When we store models and optimizers, we store the state-dict.  \n",
    "Together with the model definition we can then restore the model to it's state when we stored it to disk.\n",
    "Let's look at the contents of the state-dict of both our optimizer and our model:"
   ]
  },
  {
   "cell_type": "code",
   "execution_count": null,
   "metadata": {
    "colab": {
     "base_uri": "https://localhost:8080/",
     "height": 1000
    },
    "colab_type": "code",
    "id": "YzY_uubq_uqM",
    "outputId": "f4643ecc-7702-42b8-bc0d-20335ff95c4f"
   },
   "outputs": [
    {
     "name": "stdout",
     "output_type": "stream",
     "text": [
      "Model's state_dict:\n",
      "linear_1.weight \t torch.Size([25, 784])\n",
      "linear_1.bias \t torch.Size([25])\n",
      "linear_2.weight \t torch.Size([10, 25])\n",
      "linear_2.bias \t torch.Size([10])\n",
      "Optimizer's state_dict:\n",
      "state \t {140219146352248: {'momentum_buffer': tensor([[-0.0009, -0.0009, -0.0009,  ..., -0.0009, -0.0009, -0.0009],\n",
      "        [ 0.0048,  0.0048,  0.0048,  ...,  0.0048,  0.0048,  0.0048],\n",
      "        [ 0.0005,  0.0005,  0.0005,  ...,  0.0005,  0.0005,  0.0005],\n",
      "        ...,\n",
      "        [ 0.0019,  0.0019,  0.0019,  ...,  0.0019,  0.0019,  0.0019],\n",
      "        [ 0.0085,  0.0085,  0.0085,  ...,  0.0085,  0.0085,  0.0085],\n",
      "        [-0.0044, -0.0044, -0.0044,  ..., -0.0044, -0.0044, -0.0044]],\n",
      "       device='cuda:0')}, 140218841719072: {'momentum_buffer': tensor([ 0.0021, -0.0114, -0.0012, -0.0071,  0.0160,  0.0030,  0.0135,  0.0018,\n",
      "         0.0129,  0.0009, -0.0012, -0.0048,  0.0074,  0.0069,  0.0032, -0.0020,\n",
      "        -0.0019,  0.0067, -0.0065,  0.0068, -0.0130,  0.0017, -0.0045, -0.0200,\n",
      "         0.0105], device='cuda:0')}, 140218841720440: {'momentum_buffer': tensor([[ 2.5768e-04,  4.7375e-04,  1.9037e-02,  1.4173e-02,  1.0935e-03,\n",
      "         -2.0624e-03,  5.2303e-03,  1.1449e-02,  1.3799e-02,  7.2796e-03,\n",
      "          1.0708e-02,  6.7234e-03, -2.0129e-03,  1.5940e-02,  5.2041e-03,\n",
      "         -9.1214e-03,  2.2282e-02, -2.0242e-04, -6.7783e-03,  5.4408e-03,\n",
      "          6.2655e-03, -2.6694e-03,  1.6745e-02,  6.3041e-04,  1.0659e-02],\n",
      "        [ 3.4428e-03, -1.4152e-03, -2.6345e-03, -1.0923e-02,  3.1306e-04,\n",
      "         -5.7733e-03,  3.4694e-03, -4.8755e-03, -1.2045e-02,  2.5996e-03,\n",
      "          1.0992e-03, -6.9887e-03,  1.2155e-03, -5.8057e-03, -1.8391e-02,\n",
      "         -1.0578e-03, -4.6527e-03, -2.3566e-03,  2.3091e-03,  2.7772e-03,\n",
      "          8.8973e-04,  4.0573e-04, -6.7676e-03, -2.7071e-03, -5.0763e-03],\n",
      "        [-1.0440e-03, -2.7794e-02, -1.1553e-02, -5.2302e-02, -4.0456e-02,\n",
      "          4.7931e-03, -7.2878e-02, -1.5796e-01,  4.1566e-03, -3.0534e-02,\n",
      "         -3.6707e-02, -8.0024e-02, -3.0395e-02, -4.4624e-02, -8.8925e-02,\n",
      "         -6.6846e-02, -1.8612e-02, -3.7595e-02, -1.0849e-02, -5.1073e-02,\n",
      "         -6.7265e-02,  5.8069e-04, -4.9463e-02, -1.5812e-01, -6.8464e-02],\n",
      "        [ 1.0114e-02,  2.1617e-03,  6.7612e-03,  3.1569e-02,  4.3320e-03,\n",
      "          3.0715e-02,  3.2798e-02,  3.3962e-02,  6.8038e-03,  2.3387e-02,\n",
      "          4.2692e-03,  7.1521e-03,  1.9994e-02,  1.5632e-02,  6.9980e-02,\n",
      "          4.1885e-02,  8.7527e-03,  2.0523e-02,  2.5994e-02,  1.8838e-02,\n",
      "          1.0327e-02,  2.9458e-02,  2.1264e-02,  1.9484e-02,  3.6627e-02],\n",
      "        [ 6.3366e-04,  1.8581e-02,  4.2333e-02,  3.9270e-02,  8.9754e-03,\n",
      "          4.5923e-02,  2.5181e-02,  4.5699e-02,  8.8565e-02,  7.3461e-02,\n",
      "          2.3615e-02,  2.7136e-03,  3.6782e-02,  4.8296e-02,  1.0705e-01,\n",
      "          2.6797e-04,  7.5819e-02,  9.3679e-02,  1.0048e-02,  7.7554e-02,\n",
      "          1.6546e-02,  1.3695e-02,  7.4944e-02,  3.6890e-02,  5.4838e-02],\n",
      "        [-1.6082e-02,  2.5571e-03, -1.0761e-02,  3.7337e-02,  2.5333e-02,\n",
      "         -1.5002e-02,  2.0564e-02,  9.5186e-02, -1.7061e-02, -5.3146e-03,\n",
      "          7.7939e-03,  5.5913e-02,  7.1201e-03,  1.9634e-03,  2.3779e-02,\n",
      "          2.0074e-02, -3.4912e-03,  5.8280e-03, -2.3561e-02, -1.4508e-02,\n",
      "          3.2506e-02, -3.4180e-02,  3.0799e-02,  1.1129e-01,  6.2930e-03],\n",
      "        [ 9.7094e-05,  2.2773e-03,  3.8169e-03, -1.8549e-02, -1.8788e-03,\n",
      "         -1.6663e-03, -7.7835e-04,  1.0080e-03, -8.1195e-03, -1.5715e-02,\n",
      "          3.1957e-04, -2.6807e-03, -6.5575e-03, -1.5005e-04, -2.1026e-02,\n",
      "         -9.6395e-03, -8.0176e-03, -1.3663e-02, -3.0920e-04, -2.2077e-03,\n",
      "          7.2062e-04, -3.3085e-03, -1.4533e-02, -5.2771e-03, -4.1307e-03],\n",
      "        [ 5.6945e-03,  1.4909e-02,  9.8355e-04, -1.2991e-02,  1.2659e-03,\n",
      "         -1.0251e-02, -1.0339e-02, -6.4526e-04,  7.3437e-03, -9.8336e-03,\n",
      "          5.3432e-03,  8.0020e-03,  2.1654e-03,  1.0161e-03,  4.4853e-03,\n",
      "          3.4293e-03, -1.9083e-03,  3.0230e-04,  4.2061e-03,  1.3719e-02,\n",
      "          2.0553e-04, -5.1620e-04, -1.3861e-02,  1.2382e-02,  5.4769e-04],\n",
      "        [-7.4175e-04, -5.7313e-02,  1.0566e-02, -4.5015e-02, -7.2871e-04,\n",
      "          1.1924e-02, -9.8140e-02, -7.2744e-02, -5.6639e-02, -2.6309e-02,\n",
      "         -5.1921e-02, -3.8639e-04, -1.9937e-02,  8.1559e-03, -5.8550e-02,\n",
      "          8.2608e-03,  9.4103e-03, -5.0437e-04, -1.9995e-02, -8.4274e-02,\n",
      "         -5.5000e-02,  1.1986e-03,  1.1368e-02, -2.6892e-02, -5.0077e-02],\n",
      "        [-2.3719e-03,  4.5563e-02, -5.8549e-02,  1.7433e-02,  1.7511e-03,\n",
      "         -5.8600e-02,  9.4893e-02,  4.8922e-02, -2.6804e-02, -1.9021e-02,\n",
      "          3.5481e-02,  9.5755e-03, -8.3745e-03, -4.0423e-02, -2.3610e-02,\n",
      "          1.2747e-02, -7.9582e-02, -6.6011e-02,  1.8934e-02,  3.3735e-02,\n",
      "          5.4806e-02, -4.6645e-03, -7.0495e-02,  1.2323e-02,  1.8783e-02]],\n",
      "       device='cuda:0')}, 140218841721088: {'momentum_buffer': tensor([ 1.2376e-03, -1.7722e-05, -1.5054e-02,  6.7017e-03,  1.3506e-02,\n",
      "         4.5552e-03, -2.6054e-03,  6.2072e-04, -5.3736e-03, -3.5708e-03],\n",
      "       device='cuda:0')}}\n",
      "param_groups \t [{'lr': 0.01, 'momentum': 0.5, 'dampening': 0, 'weight_decay': 0, 'nesterov': False, 'params': [140219146352248, 140218841719072, 140218841720440, 140218841721088]}]\n"
     ]
    }
   ],
   "source": [
    "# Print model's state_dict\n",
    "print(\"Model's state_dict:\")\n",
    "for param_tensor in model.state_dict():\n",
    "    print(param_tensor, \"\\t\", model.state_dict()[param_tensor].size())\n",
    "\n",
    "# Print optimizer's state_dict\n",
    "print(\"Optimizer's state_dict:\")\n",
    "for var_name in optimizer.state_dict():\n",
    "    print(var_name, \"\\t\", optimizer.state_dict()[var_name])\n",
    "\n",
    "## print(model) can also be used to print-out the layers of the model sequentially. However, this does not produce a visualization."
   ]
  },
  {
   "cell_type": "markdown",
   "metadata": {
    "colab_type": "text",
    "id": "EjiWkU_TGJgK"
   },
   "source": [
    "### Storing models to disk\n",
    "From colab (and locally) we can store models to disk using ```torch.save``` and passing both a models state_dict() and a path where to store it."
   ]
  },
  {
   "cell_type": "code",
   "execution_count": null,
   "metadata": {
    "colab": {
     "base_uri": "https://localhost:8080/",
     "height": 34
    },
    "colab_type": "code",
    "id": "gjOcO8oxGJt0",
    "outputId": "7bcbb1e6-def1-4cf8-fa2f-c174627500b0"
   },
   "outputs": [
    {
     "name": "stdout",
     "output_type": "stream",
     "text": [
      "mkdir: cannot create directory ‘/content/gdrive/My Drive/models’: File exists\n"
     ]
    }
   ],
   "source": [
    "!mkdir '/content/gdrive/My Drive/models'  ## create the director for storing the model\n",
    "\n",
    "model_save_name = 'simplenet_mnist_classifier.pt' ## .pt and .pth are common file extensions for saving models in pytorch\n",
    "path = F\"/content/gdrive/My Drive/models/{model_save_name}\" \n",
    "torch.save(model.state_dict(), path)"
   ]
  },
  {
   "cell_type": "markdown",
   "metadata": {
    "colab_type": "text",
    "id": "_OiqJ0HOF6hq"
   },
   "source": [
    "### Loading models from checkpoints\n",
    "Finally, we can restore models from the saved ```state_dict```'s and do a number of things such as:\n",
    "1. Continue training (given we stored the optimizer as well)\n",
    "2. Make predictions from our model\n",
    "3. Perform inspections of our model\n",
    "4. Use our model in ensembles \n",
    "5. ...\n",
    "\n",
    "By default a loaded model is put into ```.train()``` mode. So be careful when using networks that behave different depending on training and test time e.g. dropout regularized networks or batch-normalized networks."
   ]
  },
  {
   "cell_type": "code",
   "execution_count": null,
   "metadata": {
    "colab": {
     "base_uri": "https://localhost:8080/",
     "height": 51
    },
    "colab_type": "code",
    "id": "8t4FzhqVF6vh",
    "outputId": "d4252ab8-e6a3-48e3-8c91-989198883874"
   },
   "outputs": [
    {
     "name": "stdout",
     "output_type": "stream",
     "text": [
      "Avg. Test Loss: 0.116  Avg. Test Accuracy: 0.966\n",
      "\n"
     ]
    }
   ],
   "source": [
    "model = SimpleNet().to(device) ## creates an instance of the model\n",
    "model.load_state_dict(torch.load(path)) ## loads the parameters of the model in path. state_dict is a dictionary object that maps each layer in the model to its trainable parameters (weights and biases).\n",
    "model.eval()\n",
    "\n",
    "test_loss, test_accuracy = validate(model, criterion, test_loader)    \n",
    "print(\"Avg. Test Loss: %1.3f\" % test_loss.item(), \" Avg. Test Accuracy: %1.3f\" % test_accuracy.item())\n",
    "print(\"\")"
   ]
  },
  {
   "cell_type": "markdown",
   "metadata": {
    "colab_type": "text",
    "id": "uhSLXauWHmZ2"
   },
   "source": [
    "Our model performs exactly the same as before storing it to disk."
   ]
  },
  {
   "cell_type": "code",
   "execution_count": null,
   "metadata": {
    "colab": {},
    "colab_type": "code",
    "id": "DV5_Nma1HhNj"
   },
   "outputs": [],
   "source": []
  }
 ],
 "metadata": {
  "accelerator": "GPU",
  "colab": {
   "collapsed_sections": [],
   "name": "Morning_Session_3_MNIST_Neural_Networks_Regularization_Cross_Validation_Solutions.ipynb",
   "provenance": []
  },
  "kernelspec": {
   "display_name": "Python 3",
   "language": "python",
   "name": "python3"
  },
  "language_info": {
   "codemirror_mode": {
    "name": "ipython",
    "version": 3
   },
   "file_extension": ".py",
   "mimetype": "text/x-python",
   "name": "python",
   "nbconvert_exporter": "python",
   "pygments_lexer": "ipython3",
   "version": "3.7.6"
  }
 },
 "nbformat": 4,
 "nbformat_minor": 4
}
