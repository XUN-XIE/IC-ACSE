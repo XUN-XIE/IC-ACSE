{
 "cells": [
  {
   "cell_type": "markdown",
   "metadata": {
    "slideshow": {
     "slide_type": "slide"
    }
   },
   "source": [
    "\n",
    "# Project 2: Armageddon - Atmospheric entry and disruption of asteroids\n",
    "\n",
    "[Gareth Collins](http://www.imperial.ac.uk/people/g.collins)\n"
   ]
  },
  {
   "cell_type": "markdown",
   "metadata": {
    "slideshow": {
     "slide_type": "notes"
    }
   },
   "source": [
    "## Synopsis:\n",
    "\n",
    "Asteroids entering Earth’s atmosphere are subject to extreme drag forces that decelerate, heat and disrupt the space rocks. The fate of an asteroid is a complex function of its initial mass, speed, trajectory angle and internal strength. \n",
    "\n",
    "[Asteroids](https://en.wikipedia.org/wiki/Asteroid) 10-100 m in diameter can penetrate deep into Earth’s atmosphere and disrupt catastrophically, generating an atmospheric disturbance ([airburst](https://en.wikipedia.org/wiki/Air_burst)) that can cause [damage on the ground](https://www.youtube.com/watch?v=tq02C_3FvFo). Such an event occurred over the city of [Chelyabinsk](https://en.wikipedia.org/wiki/Chelyabinsk_meteor) in Russia, in 2013, releasing energy equivalent to about 520 [kilotons of TNT](https://en.wikipedia.org/wiki/TNT_equivalent) (1 kt TNT is equivalent to $4.184 \\times 10^{12}$ J), and injuring thousands of people ([Popova et al., 2013](http://doi.org/10.1126/science.1242642); [Brown et al., 2013](http://doi.org/10.1038/nature12741)). An even larger event occurred over [Tunguska](https://en.wikipedia.org/wiki/Tunguska_event), an unpopulated area in Siberia, in 1908. \n",
    "\n",
    "<img src=\"images/chelyabinsk.png\" width=\"640\">\n",
    "\n",
    "The purpose of this exercise is to develop a fast numerical simulator to predict the fate of asteroids entering Earth’s atmosphere for the purposes of hazard assessment.\n"
   ]
  },
  {
   "cell_type": "markdown",
   "metadata": {
    "slideshow": {
     "slide_type": "notes"
    }
   },
   "source": [
    "## Problem definition\n",
    "\n",
    "### Basic equations\n",
    "\n",
    "The dynamics of an asteroid in Earth’s atmosphere is governed by a coupled set of ordinary differential equations:\n",
    "\n",
    "\n",
    "<table width=\"600\">\n",
    "    <tbody>\n",
    "        <tr style=\"background-color: #FFFFFF;\">\n",
    "            <td><img src=\"images/variables.png\" width=\"220\"> </td>\n",
    "            <td>\n",
    "\\begin{aligned} \n",
    "\\frac{dv}{dt} & = \\frac{-C_D\\rho_a A v^2}{2 m} + g \\sin \\theta \\\\\n",
    "\\frac{dm}{dt} & = \\frac{-C_H\\rho_a A v^3}{2 Q} \\\\\n",
    "\\frac{d\\theta}{dt} & = \\frac{g\\cos\\theta}{v} - \\frac{C_L\\rho_a A v}{2 m} - \\frac{v\\cos\\theta}{R_P + z} \\\\\n",
    "\\frac{dz}{dt} & = -v\\sin\\theta \\\\\n",
    "\\frac{dx}{dt} & = \\frac{v\\cos\\theta}{1 + z/R_P}\n",
    "\\end{aligned}\n",
    "            </td>\n",
    "        </tr>\n",
    "    </tbody>\n",
    "</table>\n",
    "\n",
    "In these equations, $v$, $m$, and $A$ are the asteroid (aka meteoroid) speed (along trajectory), mass and cross-sectional area, respectively. $\\theta$ is the meteoroid trajectory angle to the horizontal (in radians), $x$ is the downrange distance of the meteoroid from its entry position, $z$ is the altitude and $t$ is time; $C_D$ is the drag coefficient, $\\rho_a$ is the atmospheric density (a function of altitude ), $C_H$ is an ablation efficiency coefficient, $Q$ is the specific heat of ablation; $C_L$ is a lift coefficient; and $R_P$ is the planetary radius. All terms use MKS units.\n"
   ]
  },
  {
   "cell_type": "markdown",
   "metadata": {
    "slideshow": {
     "slide_type": "notes"
    }
   },
   "source": [
    "### Asteroid break-up and spreading\n",
    "\n",
    "It is common to assume (for simplicity) that, prior to break-up, the radius (and cross-sectional area) of the asteroid remains constant; that is, any mass-loss by **ablation** does not change the cross-sectional area of the asteroid. We will further assume a spherical asteroid. \n",
    "\n",
    "A commonly used criterion for the break-up of an asteroid in the atmosphere is when the ram pressure of the air interacting with the asteroid $\\rho_a v^2$ first exceeds the strength of the asteroid $Y$.\n",
    "\n",
    "$$\\rho_a v^2 = Y$$\n",
    "\n",
    "Should break-up occur, the asteroid deforms and spreads laterally as it continues its passage through the atmosphere. As a result its radius and cross-sectional area increase, but the asteroid density is assumed to remain constant (often referred to as 'pancaking'). It is conventional to define the cross-sectional area of the expanding asteroid as $A = \\pi r^2$ (i.e., assuming a circular cross-section), for use in the above equations. \n",
    "\n",
    "Several models for the radial spreading rate $\\frac{dr}{dt}$ have been proposed. In the simplest model, the fragmented asteroid’s spreading rate is related to its along trajectory speed [(Hills and Goda, 1993)](http://doi.org/10.1086/116499):\n",
    "\n",
    "$$ \\frac{dr}{dt} = \\left[\\frac{7}{2}\\alpha\\frac{\\rho_a}{\\rho_m}\\right]^{1/2} v$$\n",
    "\n",
    "Where $r$ is the asteroid radius, $\\rho_m$ is the asteroid density (assumed constant) and $\\alpha$ is a spreading coefficient, often taken to be 0.3. \n",
    "\n",
    "Note that fragmentation and spreading **ceases** ($\\frac{dr}{dt} = 0$) when the ram pressure drops back below the strength of the asteroid $\\rho_a v^2 < Y$.\n"
   ]
  },
  {
   "cell_type": "markdown",
   "metadata": {
    "slideshow": {
     "slide_type": "notes"
    }
   },
   "source": [
    "### A typical solution\n",
    "\n",
    "The figure below shows a typical solution to the above set of equations for an impact airburst scenario. The kinetic energy loss per unit height, which is a good approximation for the energy transferred to the atmosphere as heat (and is often referred to as the energy deposited per km altitude), is shown as a function of altitude. \n",
    "\n",
    "<img src=\"images/airburst.png\" width=\"640\">\n",
    "\n",
    "In this scenario the asteroid experiences breakup at approximately 48-km altitude (denoted by the star), before spreading and decelerating rapidly until an altitude of approximately 15 km at which point the **energy loss per unit height** is **maximum**. This point is often considered to be the **burst altitude**. The total kinetic energy lost by the asteroid at this point is a good estimate of the airburst energy (i.e., the total energy deposited into the atmosphere) for hazard analysis.\n",
    "\n",
    "Impact scenarios with a burst altitude well (>5 km) above the surface can be considered to be **airburst events** and are unlikely to form a sizable crater on the ground. In such cases, even if a substantial fraction of the original asteroid survives to the ground it will be decelerated to a very small fraction of its initial speed.\n",
    "\n",
    "Impact scenarios with a burst altitude below the surface (i.e., peak energy deposition per unit height is not reached before the asteroid strikes the ground) will form a sizable impact crater on the ground and can be considered as a **cratering event** (although a sizable proportion of the original kinetic energy of the asteroid may be transferred to the air).\n",
    "\n",
    "Between these scenarios is a complex regime where a **low altitude airburst combined with a substantial crater-forming event** is likely. This regime is not well understood.\n"
   ]
  },
  {
   "cell_type": "markdown",
   "metadata": {
    "slideshow": {
     "slide_type": "slide"
    }
   },
   "source": [
    "## Challenge\n",
    "\n",
    "Your task is to develop a Python program to solve this system of equations. In the following, we describe the functionality that we would like you to incorporate into your program, in increasing order of complexity and decreasing order of reward. \n",
    "\n",
    "### Core functionality\n",
    "\n",
    "Write a function that takes the following inputs\n",
    "\n",
    "* Asteroid radius (m)\n",
    "* Asteroid speed (m/s)\n",
    "* Asteroid density (kg/m$^3$)\n",
    "* Asteroid strength (Pa)\n",
    "* Asteroid trajectory angle (degrees)\n",
    "* Solution **output** timestep (s)\n",
    "\n",
    "and returns a Pandas dataframe with the following columns:\n",
    "\n",
    "* Time (s), altitude (m), horizontal position (m), speed (m/s), mass (kg), radius (m), kinetic energy loss per unit height (kt/km)\n",
    "\n",
    "and a dictionary of outcomes:\n",
    "\n",
    "* Whether the scenario is an airburst or a cratering event\n",
    "* The peak kinetic energy loss per unit height in kt per km (airburst)\n",
    "* The burst altitude in m (airburst)\n",
    "* The total kinetic energy loss at burst in kt (airburst)\n",
    "* The mass (kg) and speed (m/s) of the remnant of the asteroid that strikes the ground (cratering)\n",
    "* The time (s) that the remnant of the asteroid that strikes the ground (cratering)\n",
    "\n",
    "As you will see from the code-stubs that you are provided with in your repository, we have defined a class `Planet` that includes all coefficients in the model. By default these should be set to the values given in Table 1 below. Please retain this structure to your code as access to this class is required for the scoring system. \n",
    "\n",
    "To achieve the core functionality, you can assume that atmospheric density is defined by a simple exponential relationship: \n",
    "\n",
    "$$\n",
    "\\rho_a = \\rho_0 e^{-z/H}, \n",
    "$$\n",
    "\n",
    "where $\\rho_0$ is the air density at the ground, $z$ is altitude and $H$ is the atmospheric scale height.\n",
    "\n",
    "You should develop a simple interface for a User to interact with your tool (e.g., jupyter notebook, command-line arguments or example python scripts) and documented functionality to produce simple graphical output of the evolution of the asteroid in the atmosphere (e.g., plots of mass, speed, energy, etc., as a function of altitude or time).\n",
    "\n",
    "Note that the initial alitude $z_0$ must be an optional input parameter to your tool, with a recommended value of 100 km. \n",
    "\n",
    "Note that the time step of the **output** must be an input parameter to your tool; however, the numerical integration time step and/or solver tolerance is up to you as you seek to find the best compromise between solution accuracy and expediency. Your results dataframe must return your simulation output at the User-specified time interval.\n"
   ]
  },
  {
   "cell_type": "markdown",
   "metadata": {
    "slideshow": {
     "slide_type": "skip"
    }
   },
   "source": [
    "You can assume the following value for coefficients\n",
    "\n",
    "| Symbol |   Description    | Units/Value |\n",
    "|:------:|:----------------:|:-----------:|\n",
    "| $C_D$  |    Drag coefficient  |     1      |\n",
    "| $C_H$  | Heat Transfer coef.   |     0.1     |\n",
    "| $Q$    | Heat of ablation (J/kg) |   $10^7$    |\n",
    "| $C_L$  |    Lift coefficient    |  $10^{-3}$  |\n",
    "| $\\alpha$ | Dispersion coefficient | 0.3 |\n",
    "| $\\rho_0$ | Air density at zero altitude (kg/m$^3$) | 1.2 |\n",
    "| $H$  | Atmospheric scale height (m) |  8000  | \n",
    "| $R_P$ | Planet radius (Earth; m) | 6371,000 |\n",
    "| $x_0$ | Initial $x$-position (m) | 0. |\n",
    "| $z_0$ | Initial $z$-position (m) | 100,000. |\n",
    "\n"
   ]
  },
  {
   "cell_type": "markdown",
   "metadata": {
    "slideshow": {
     "slide_type": "slide"
    }
   },
   "source": [
    "### Extension Functionality\n",
    "\n",
    "Additional credit will be given if your software demonstrates the following optional extended capabilities:\n",
    "\n",
    "* Ability to use a tabulated atmospheric density profile instead of an exponential atmosphere (a tabulated atmospheric profile for Earth is provided in [here](data/AltitudeDensityTable.csv)).\n",
    "\n",
    "* Ability to apply the model to Mars using the following equation of state for Mars' atmosphere:\n",
    "\\begin{aligned} \n",
    "p & = 0.699 \\exp(-0.00009 z) \\\\\n",
    "T & = 249.7 - 0.00222 z , \\, \\text{for} \\, z \\geq 7000 \\\\\n",
    "T & = 242.1 - 0.000998 z , \\, \\text{for} \\, z \\lt 7000 \\\\\n",
    "\\rho & = \\frac{p}{0.1921T} \\\\\n",
    "\\end{aligned}\n",
    "Note that in these equations $\\rho$ is the atmospheric density in kg m$^{-3}$, $p$ is the pressure in kPa, $T$ is the temperature in K and $z$ is the altitude in m.\n",
    "\n",
    "* Ability to determine asteroid parameters (e.g., strength and radius) that best fit an observed energy deposition curve. As an example, you can use the energy deposition curve inferred for the Chelyabinsk event (available [here](data/ChelyabinskEnergyAltitude.csv)). Note that in this data file energy is given in units of [kilotons of TNT](https://en.wikipedia.org/wiki/TNT_equivalent), where 1 kt TNT is equivalent to $4.184 \\times 10^{12}$ J. Note also that the density 3300 kg/m$^3$, impact angle (18.3 degrees to horizontal) and entry velocity (19.2 km/s) are well known from observations ([Popova et al., 2013](http://doi.org/10.1126/science.1242642)). \n",
    "\n",
    "* Ability to perform an ensemble of simulations with **probability distributions as inputs** and **return the distribution of burst altitude**. The cumulative probability distribution to use for each input parameter is:\n",
    "    * Radius: $$P(>r) = \\frac{r-r_{min}}{r_{max}-r_{min}} ,$$\n",
    "where $r_{min}$ and $r_{max}$ are User-specified.\n",
    "    * Angle: $$P(>\\theta) = \\cos^2\\theta .$$\n",
    "    * Strength: $$P(>Y) = \\frac{\\log{(Y/Y_{min})}}{\\log{(Y_{max}/Y_{min})}} ,$$\n",
    "where $Y_{min} = 1$ kPa and $Y_{max} = 10$ MPa.\n",
    "    * Velocity (at infinity): $$P(>v) = \\text{erf}\\left(\\frac{v}{a\\sqrt{2}}\\right)-\\frac{v}{a}\\exp\\left\\{\\frac{-v^2}{2 a^2}\\right\\}\\sqrt{\\frac{2}{\\pi}} ,$$ where $a = 11$ km s$^{-1}$. Note that impact velocity is then computed from $$v_i = \\sqrt{v_{esc}^2 + v^2},$$ where $v_{esc}$ is the target planet's escape velocity ($v_{esc} = 11.2$ km s$^{-1}$ for Earth).\n",
    "    * Density: $$P(>\\rho) = \\frac{1}{2}\\left[1 + \\text{erf} \\left( \\frac{\\rho-\\rho_m}{\\sigma_\\rho\\sqrt{2}} \\right) \\right] ,$$\n",
    "where $\\rho_m = 3000$ kg m$^{-3}$ $\\sigma_\\rho = 1000$ kg m$^{-3}$."
   ]
  },
  {
   "cell_type": "markdown",
   "metadata": {
    "slideshow": {
     "slide_type": "slide"
    }
   },
   "source": [
    "## Assessment\n",
    "\n",
    "The **deadline** for software submission is **Friday 13th December, 12:00 noon**.\n",
    "\n",
    "### Software (70 marks)\n",
    "\n",
    "Your software will be assessed primarily on functionality (**30/70 marks**), performance (**20/70 marks**) and sustainability (**20/70 marks**).\n",
    "\n",
    "Functionality (**30 marks**): Your software will be scored based on its ability to perform a number of automated tests. These are:\n",
    "\n",
    "1. A comparison between your software output and an analytical solution (**5 marks**). The analytical solution is derived with the simplifying assumptions of exponential atmosphere ($\\rho_a = \\rho_0 e^{-z/H}$), no gravitational acceleration ($g=0$), a flat planet ($R_p = \\infty$), no lift ($C_L = 0$), no mass change owing to ablation ($\\frac{dm}{dt}=0$) and no fragmentation ($\\sigma_0 = \\infty$, $\\frac{dr}{dt}=0$). Note that you should derive this analytical solution and incorporate this into your test framework. An initial altitude of $z_0 = 100,000$ m will be used for this test.\n",
    "\n",
    "2. Correct solution for six sets of asteroid parameters (**15 marks**). Quality of the solution will be based on the error in burst altitude and peak energy deposition rate, as well as solution variables as a function of time. An initial altitude of $z_0 = 100,000$ m will be used for each of these tests.  The following six scenarios will be tested:\n",
    "    * Four impacts on Earth with different impactor parameters (from within a realistic distribution) and assuming an exponential atmosphere.\n",
    "    * The same impact on Earth as one of the above scenarios, using the tabulated terrestrial atmosphere provided.\n",
    "    * The same impact as another of the above scenarios but on Mars, using the equation of state for Mars' atmosphere provided.\n",
    "    \n",
    "\n",
    "3. The distribution of burst altitudes obtained given distributions of input parameters (**10 marks**). \n",
    "    * Radius\n",
    "    * Angle\n",
    "    * Strength\n",
    "    * Velocity\n",
    "    * Density\n",
    "\n",
    "This family of tests will include five tests with a distribution in each individual parameter (above) and another four tests where multiple parameter distributions are included at the same time, with each test including an additional parameter in the order above (i.e., the first multi-parameter test will be radius and angle; the last will be all of the variables). The fiducial scenario for this exercise will be: $r=10$ m; $\\theta = 45^\\circ$; $Y = 10^5$ Pa; $v_i = 21,000$ m s$^{-1}$; $\\rho = 3000$ kg m$^{-3}$. Parameters not varied will take these values. The shape of the distribution should be set as per these instructions, but the type of sampling and the number of samples employed is up to you. You are free to define your own initial altitude for the ensemble analysis to improve efficiency if you wish.\n",
    "    \n",
    "Performance (**20 marks**): The time of completion of each of the tests in parts 2 and 3 above will be used to measure the performance of your tool, both to calculate a single scenario and to calculate and synthesise an ensemble of outcomes.\n",
    "\n",
    "Sustainability (**20 marks**): As with all software projects, you should employ all the elements of best practice in software development that you have learned so far. A GitHub repository will be created for your project to host your software. The quality and sustainability of your software and its documentation will be assessed based on your final repository and how it evolves during the week. Specific attention will be given to the following elements:\n",
    "\n",
    "1. Installation and usage instructions\n",
    "2. Documentation (in HTML / PDF format). Note that a template SPHINX documentation framework has been provided for you as a starting point for your documentation.\n",
    "3. Coding style\n",
    "4. Quality and coverage of automatic testing framework\n",
    "5. General repository usage\n",
    "6. Licensing\n",
    "\n",
    "Please refer to the ACSE-4 handbook for more information about the assessment of software quality."
   ]
  },
  {
   "cell_type": "markdown",
   "metadata": {
    "collapsed": true,
    "slideshow": {
     "slide_type": "slide"
    }
   },
   "source": [
    "### Presentation (20 marks)\n",
    "\n",
    "On Friday afternoon, you must demonstrate your software to staff during a 90 minute interactive session. Each assessor will ask you to demonstrate one of the following five elements of your software. Up to four marks will be awarded for each element assessed. Note that elements (1)-(3) are considered part of the core functionality; elements (4) and (5) are extention features that will be assessed if you have completed them.\n",
    "\n",
    "1. A brief description of your solution algorithm, including ODE solving routine.\n",
    "2. A brief demonstration of how a User would interact with your software and the graphical output provided by your software.\n",
    "3. A quantification of the accuracy of your numerical solution for two cases, with and without fragmentation, for User-specified input parameters. It is up to you to design an appropriate demonstration of accuracy, but this could take the form of a plot of error vs. timestep size or error vs. solver tolerance, depending on your solution algorithm. \n",
    "4. A demonstration of how to use your software to determine the impactor parameters (asteroid size & strength) for the Chelyabinsk airburst, by fitting your model solutions of kinetic energy loss per unit height vs. altitude to the inferred energy deposition curve.\n",
    "5. A demonstration of functionality to perform a statistical ensemble; that is, to take probability distributions of each parameter as inputs and return outcomes as probability distributions.\n"
   ]
  },
  {
   "cell_type": "markdown",
   "metadata": {
    "slideshow": {
     "slide_type": "slide"
    }
   },
   "source": [
    "### Teamwork (peer assessment; 10 marks)\n",
    "\n",
    "After the presentations, you will complete a self-evaluation of your group's performance. This will inform the teamwork component of your mark. Please refer to the ACSE-4 guidelines for more information about the assessment of teamwork."
   ]
  },
  {
   "cell_type": "markdown",
   "metadata": {
    "slideshow": {
     "slide_type": "slide"
    }
   },
   "source": [
    "## Technical requirements\n",
    "* You should use the assigned GitHub repository exclusively for your project\n",
    "* Your software must be written in Python 3.7\n",
    "* You can import anything from the standard python 3.7 libraries as well as numpy, matplotlib, scipy, mpltools and sympy\n",
    "* For solving the ODEs you **must write your own ODE solution algorithm**. You can make use of any of your own implementations of algorithms that you have learned in ACSE 3, however you are not permitted to use the in-built ODE solvers in scipy (e.g., `odeint`, `solve_ivp`).\n",
    "* You are not allowed to import any other python packages (if in doubt, please query with the Module Coordinator)\n",
    "* You can assume that Users of your software will have pytest installed, so this does not need to be part of your repository\n",
    "* You should use Travis and the GitHub flow for any automated testing that you implement\n",
    "* You do not need to make a Graphical User Interface for your software: the program can be run in the command line or in a Python 3.7 environment\n"
   ]
  }
 ],
 "metadata": {
  "celltoolbar": "Slideshow",
  "hide_input": false,
  "kernelspec": {
   "display_name": "Python 3",
   "language": "python",
   "name": "python3"
  },
  "language_info": {
   "codemirror_mode": {
    "name": "ipython",
    "version": 3
   },
   "file_extension": ".py",
   "mimetype": "text/x-python",
   "name": "python",
   "nbconvert_exporter": "python",
   "pygments_lexer": "ipython3",
   "version": "3.7.3"
  },
  "toc": {
   "base_numbering": 1,
   "nav_menu": {},
   "number_sections": true,
   "sideBar": true,
   "skip_h1_title": false,
   "title_cell": "Table of Contents",
   "title_sidebar": "Contents",
   "toc_cell": false,
   "toc_position": {},
   "toc_section_display": true,
   "toc_window_display": false
  }
 },
 "nbformat": 4,
 "nbformat_minor": 1
}
