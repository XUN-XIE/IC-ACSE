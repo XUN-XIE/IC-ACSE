{
 "cells": [
  {
   "cell_type": "code",
   "execution_count": 1,
   "metadata": {},
   "outputs": [],
   "source": [
    "import armageddon as ar\n",
    "import numpy as np\n",
    "import pandas as pd\n",
    "earth = ar.Planet()"
   ]
  },
  {
   "cell_type": "code",
   "execution_count": 2,
   "metadata": {},
   "outputs": [],
   "source": [
    "from mpl_toolkits.mplot3d import Axes3D\n",
    "import matplotlib.pyplot as plt\n",
    "\n",
    "def plot(t, v, m, theta, z, x, r):\n",
    "    energy = 0.5*m*v**2\n",
    "    energy_z = energy.diff()/z.diff()\n",
    "    fig = plt.figure(figsize=(15,12))\n",
    "    plt.subplot(331)\n",
    "    plt.plot(t,v) # v-t\n",
    "    plt.title(\"v-t\")\n",
    "    plt.subplot(332)\n",
    "    plt.plot(t,m) # m-t\n",
    "    plt.title(\"m-t\")\n",
    "    plt.subplot(333)\n",
    "    plt.plot(t,theta) # theta-t\n",
    "    plt.title(\"$theta-t$\")\n",
    "    plt.subplot(334)\n",
    "    plt.plot(t,z) # z-t\n",
    "    plt.axhline(y=0,ls=\":\",c=\"r\")\n",
    "    plt.title(\"z-t\")\n",
    "    plt.subplot(335)\n",
    "    plt.plot(t,x) # x-t\n",
    "    plt.title(\"x-t\")\n",
    "    plt.subplot(336)\n",
    "    plt.plot(t,r) # r-t\n",
    "    plt.title(\"r-t\")\n",
    "    plt.subplot(337)\n",
    "    plt.plot(z,v) # v-z\n",
    "    plt.title(\"v-z\")\n",
    "    plt.subplot(338)\n",
    "    plt.plot(energy_z/(4.184E12), z) # Energy-z\n",
    "    plt.title(\"Energy-z\")\n",
    "    plt.subplot(339)\n",
    "    plt.plot(x,z) # z-x\n",
    "    plt.title(\"Trace\")\n",
    "    plt.show()"
   ]
  },
  {
   "cell_type": "code",
   "execution_count": 3,
   "metadata": {},
   "outputs": [],
   "source": [
    "from scipy.integrate import odeint\n",
    "\n",
    "def solve_atmospheric_odeint_entry(radius, velocity, density, strength, angle, init_altitude=100e3, dt=0.05, radians=False):\n",
    "    if not radians:\n",
    "        angle = angle * np.pi / 180\n",
    "    t = np.arange(0, 500+dt, dt)\n",
    "    init_state = (velocity, density * 4 / 3 * np.pi * (radius**3),\n",
    "                angle, init_altitude, 0., radius)\n",
    "    P1 = odeint(earth.dmove_odeint, init_state, t, args=([strength, density],))\n",
    "    result_df = pd.DataFrame({'velocity': P1[:, 0], 'mass': P1[:, 1], 'angle': P1[:, 2]*180/np.pi,\n",
    "                              'altitude': P1[:, 3], 'distance': P1[:, 4], 'radius': P1[:, 5],\n",
    "                              'time': t}, index=range(len(P1)))\n",
    "    return result_df"
   ]
  },
  {
   "cell_type": "code",
   "execution_count": 4,
   "metadata": {},
   "outputs": [],
   "source": [
    "def diff(result1, result2):\n",
    "    # absolute(a - b) <= (atol + rtol * absolute(b))\n",
    "    # rtol=1e-05, atol=1e-08\n",
    "    for col in result1.columns:\n",
    "        same = np.allclose(result1[col], result2[col])\n",
    "        v = np.sum(result1[col] - result2[col]) / len(result1[col])\n",
    "        print(\"%10s\\tdiff:%.10f\\tAccepted:%s\"  % (col, v, same))"
   ]
  },
  {
   "cell_type": "code",
   "execution_count": 5,
   "metadata": {},
   "outputs": [
    {
     "name": "stderr",
     "output_type": "stream",
     "text": [
      "G:\\ACSE\\acse-4\\project2\\acse-4-armageddon-didymos\\armageddon\\solver.py:434: RuntimeWarning: invalid value encountered in double_scalars\n",
      "  f[0] = -(self.Cd*rhoa*A*(u[0])**2)/(2*(u[1])) + self.g*np.sin(u[2])\n",
      "G:\\ACSE\\acse-4\\project2\\acse-4-armageddon-didymos\\armageddon\\solver.py:434: RuntimeWarning: invalid value encountered in sin\n",
      "  f[0] = -(self.Cd*rhoa*A*(u[0])**2)/(2*(u[1])) + self.g*np.sin(u[2])\n",
      "G:\\ACSE\\acse-4\\project2\\acse-4-armageddon-didymos\\armageddon\\solver.py:435: RuntimeWarning: invalid value encountered in double_scalars\n",
      "  f[1] = -(self.Ch*rhoa*A*(u[0])**3)/(2*self.Q)\n",
      "G:\\ACSE\\acse-4\\project2\\acse-4-armageddon-didymos\\armageddon\\solver.py:436: RuntimeWarning: invalid value encountered in cos\n",
      "  f[2] = self.g*np.cos(u[2])/(u[0]) - self.Cl*rhoa*A*(u[0])/(2*(u[1])) - u[0]*np.cos(u[2])/(self.Rp+u[3])\n",
      "G:\\ACSE\\acse-4\\project2\\acse-4-armageddon-didymos\\armageddon\\solver.py:436: RuntimeWarning: invalid value encountered in double_scalars\n",
      "  f[2] = self.g*np.cos(u[2])/(u[0]) - self.Cl*rhoa*A*(u[0])/(2*(u[1])) - u[0]*np.cos(u[2])/(self.Rp+u[3])\n",
      "G:\\ACSE\\acse-4\\project2\\acse-4-armageddon-didymos\\armageddon\\solver.py:437: RuntimeWarning: invalid value encountered in sin\n",
      "  f[3] = -u[0]*np.sin(u[2])\n",
      "G:\\ACSE\\acse-4\\project2\\acse-4-armageddon-didymos\\armageddon\\solver.py:438: RuntimeWarning: invalid value encountered in cos\n",
      "  f[4] = u[0]*np.cos(u[2])/(1 + u[3]/self.Rp)\n",
      "G:\\ACSE\\acse-4\\project2\\acse-4-armageddon-didymos\\armageddon\\solver.py:441: RuntimeWarning: invalid value encountered in double_scalars\n",
      "  if rhoa*u[0]**2 >= strength:\n"
     ]
    },
    {
     "name": "stdout",
     "output_type": "stream",
     "text": [
      "  velocity\tdiff:71828612495155788804397872640497413601099776.0000000000\tAccepted:False\n",
      "      mass\tdiff:-1210635071174578028931547624277171458718870213206601884551852263886426779488667382980258189989150183205954918027362304.0000000000\tAccepted:False\n",
      "     angle\tdiff:98999553715162144.0000000000\tAccepted:False\n",
      "  altitude\tdiff:-3350674913348568481792.0000000000\tAccepted:False\n",
      "  distance\tdiff:-3140277324496240640000.0000000000\tAccepted:False\n",
      "    radius\tdiff:inf\tAccepted:False\n",
      "      time\tdiff:0.0000000000\tAccepted:True\n"
     ]
    },
    {
     "name": "stderr",
     "output_type": "stream",
     "text": [
      "C:\\Users\\whynot\\Anaconda3\\lib\\site-packages\\scipy\\integrate\\odepack.py:247: ODEintWarning: Excess work done on this call (perhaps wrong Dfun type). Run with full_output = 1 to get quantitative information.\n",
      "  warnings.warn(warning_msg, ODEintWarning)\n"
     ]
    }
   ],
   "source": [
    "input_data1 = {'radius': 1.,\n",
    "              'velocity': 1.0e5,\n",
    "              'density': 3000.,\n",
    "              'strength': 1e32,\n",
    "              'angle': 30.0,\n",
    "              'init_altitude':100e3,\n",
    "              'dt': 0.05,\n",
    "              'radians': False }\n",
    "# numerical\n",
    "result1 = earth.solve_atmospheric_entry(**input_data1)\n",
    "# plot(result1.time, result1.velocity, result1.mass, result1.angle, result1.altitude, result1.distance, result1.radius)\n",
    "# scipy_odeint\n",
    "result2 = solve_atmospheric_odeint_entry(**input_data1)\n",
    "# plot(result2.time, result2.velocity, result2.mass, result2.angle, result2.altitude, result2.distance, result2.radius)\n",
    "diff(result1, result2)"
   ]
  },
  {
   "cell_type": "code",
   "execution_count": 6,
   "metadata": {},
   "outputs": [
    {
     "name": "stdout",
     "output_type": "stream",
     "text": [
      "  velocity\tdiff:-0.0240277412\tAccepted:False\n",
      "      mass\tdiff:-20.9392586546\tAccepted:False\n",
      "     angle\tdiff:0.0003052005\tAccepted:False\n",
      "  altitude\tdiff:8.2905119298\tAccepted:False\n",
      "  distance\tdiff:-6.7113923306\tAccepted:False\n",
      "    radius\tdiff:0.0693441280\tAccepted:False\n",
      "      time\tdiff:0.0000000000\tAccepted:True\n"
     ]
    }
   ],
   "source": [
    "input_data2 = {'radius': 10.,\n",
    "              'velocity': 21e3,\n",
    "              'density': 3000.,\n",
    "              'strength': 1e5,\n",
    "              'angle': 45.0,\n",
    "              'init_altitude':100e3,\n",
    "              'dt': 0.05,\n",
    "              'radians': False }\n",
    "# numerical\n",
    "result1 = earth.solve_atmospheric_entry(**input_data2)\n",
    "# plot(result1.time, result1.velocity, result1.mass, result1.angle, result1.altitude, result1.distance, result1.radius)\n",
    "# scipy_odeint\n",
    "result2 = solve_atmospheric_odeint_entry(**input_data2)\n",
    "# plot(result2.time, result2.velocity, result2.mass, result2.angle, result2.altitude, result2.distance, result2.radius)\n",
    "diff(result1, result2)"
   ]
  },
  {
   "cell_type": "code",
   "execution_count": 7,
   "metadata": {},
   "outputs": [
    {
     "name": "stdout",
     "output_type": "stream",
     "text": [
      "  velocity\tdiff:0.2113345986\tAccepted:False\n",
      "      mass\tdiff:-16.1806990484\tAccepted:False\n",
      "     angle\tdiff:-0.0063701181\tAccepted:False\n",
      "  altitude\tdiff:-79.3627330857\tAccepted:False\n",
      "  distance\tdiff:25.4619993409\tAccepted:False\n",
      "    radius\tdiff:-0.2331391234\tAccepted:False\n",
      "      time\tdiff:0.0000000000\tAccepted:True\n"
     ]
    }
   ],
   "source": [
    "input_data3 = {'radius': 5.,\n",
    "              'velocity': 11e3,\n",
    "              'density': 3000.,\n",
    "              'strength': 1e7,\n",
    "              'angle': 60.0,\n",
    "              'init_altitude':100e3,\n",
    "              'dt': 0.05,\n",
    "              'radians': False }\n",
    "# numerical\n",
    "result1 = earth.solve_atmospheric_entry(**input_data3)\n",
    "# plot(result1.time, result1.velocity, result1.mass, result1.angle, result1.altitude, result1.distance, result1.radius)\n",
    "# scipy_odeint\n",
    "result2 = solve_atmospheric_odeint_entry(**input_data3)\n",
    "# plot(result2.time, result2.velocity, result2.mass, result2.angle, result2.altitude, result2.distance, result2.radius)\n",
    "diff(result1, result2)"
   ]
  },
  {
   "cell_type": "code",
   "execution_count": 8,
   "metadata": {},
   "outputs": [
    {
     "name": "stdout",
     "output_type": "stream",
     "text": [
      "  velocity\tdiff:0.5092650839\tAccepted:False\n",
      "      mass\tdiff:-663.5436007990\tAccepted:False\n",
      "     angle\tdiff:-0.0087460555\tAccepted:False\n",
      "  altitude\tdiff:-201.9930245426\tAccepted:False\n",
      "  distance\tdiff:69.6166774390\tAccepted:False\n",
      "    radius\tdiff:-1.0571556264\tAccepted:False\n",
      "      time\tdiff:0.0000000000\tAccepted:True\n"
     ]
    }
   ],
   "source": [
    "input_data4 = {'radius': 15.,\n",
    "              'velocity': 4e3,\n",
    "              'density': 3000.,\n",
    "              'strength': 1e7,\n",
    "              'angle': 65.0,\n",
    "              'init_altitude':100e3,\n",
    "              'dt': 0.05,\n",
    "              'radians': False }\n",
    "# numerical\n",
    "result1 = earth.solve_atmospheric_entry(**input_data4)\n",
    "# plot(result1.time, result1.velocity, result1.mass, result1.angle, result1.altitude, result1.distance, result1.radius)\n",
    "# scipy_odeint\n",
    "result2 = solve_atmospheric_odeint_entry(**input_data4)\n",
    "# plot(result2.time, result2.velocity, result2.mass, result2.angle, result2.altitude, result2.distance, result2.radius)\n",
    "diff(result1, result2)"
   ]
  },
  {
   "cell_type": "code",
   "execution_count": 9,
   "metadata": {},
   "outputs": [
    {
     "name": "stdout",
     "output_type": "stream",
     "text": [
      "  velocity\tdiff:-0.0000008733\tAccepted:True\n",
      "      mass\tdiff:0.3376021265\tAccepted:True\n",
      "     angle\tdiff:0.0000002952\tAccepted:True\n",
      "  altitude\tdiff:-0.0005836034\tAccepted:False\n",
      "  distance\tdiff:0.0030578887\tAccepted:True\n",
      "    radius\tdiff:0.0000000000\tAccepted:True\n",
      "      time\tdiff:0.0000000000\tAccepted:True\n"
     ]
    }
   ],
   "source": [
    "input_data5 = {'radius': 15.,\n",
    "              'velocity': 16e3,\n",
    "              'density': 3000.,\n",
    "              'strength': 1e10,\n",
    "              'angle': 20.0,\n",
    "              'init_altitude':100e3,\n",
    "              'dt': 0.05,\n",
    "              'radians': False }\n",
    "# numerical\n",
    "result1 = earth.solve_atmospheric_entry(**input_data5)\n",
    "# plot(result1.time, result1.velocity, result1.mass, result1.angle, result1.altitude, result1.distance, result1.radius)\n",
    "# scipy_odeint\n",
    "result2 = solve_atmospheric_odeint_entry(**input_data5)\n",
    "# plot(result2.time, result2.velocity, result2.mass, result2.angle, result2.altitude, result2.distance, result2.radius)\n",
    "diff(result1, result2)"
   ]
  },
  {
   "cell_type": "code",
   "execution_count": 10,
   "metadata": {},
   "outputs": [
    {
     "name": "stdout",
     "output_type": "stream",
     "text": [
      "  velocity\tdiff:-0.0000035989\tAccepted:True\n",
      "      mass\tdiff:-1.3436324095\tAccepted:True\n",
      "     angle\tdiff:0.0000001773\tAccepted:True\n",
      "  altitude\tdiff:0.0007005316\tAccepted:True\n",
      "  distance\tdiff:-0.0010098399\tAccepted:True\n",
      "    radius\tdiff:-0.0000084170\tAccepted:True\n",
      "      time\tdiff:0.0000000000\tAccepted:True\n"
     ]
    }
   ],
   "source": [
    "input_data6 = {'radius': 15.,\n",
    "              'velocity': 16e3,\n",
    "              'density': 3000.,\n",
    "              'strength': 1e2,\n",
    "              'angle': 20.0,\n",
    "              'init_altitude':100e3,\n",
    "              'dt': 0.05,\n",
    "              'radians': False }\n",
    "# numerical\n",
    "result1 = earth.solve_atmospheric_entry(**input_data6)\n",
    "# plot(result1.time, result1.velocity, result1.mass, result1.angle, result1.altitude, result1.distance, result1.radius)\n",
    "# scipy_odeint\n",
    "result2 = solve_atmospheric_odeint_entry(**input_data6)\n",
    "# plot(result2.time, result2.velocity, result2.mass, result2.angle, result2.altitude, result2.distance, result2.radius)\n",
    "diff(result1, result2)"
   ]
  },
  {
   "cell_type": "code",
   "execution_count": 11,
   "metadata": {},
   "outputs": [
    {
     "name": "stdout",
     "output_type": "stream",
     "text": [
      "  velocity\tdiff:-0.0000008733\tAccepted:True\n",
      "      mass\tdiff:0.3376021265\tAccepted:True\n",
      "     angle\tdiff:0.0000002952\tAccepted:True\n",
      "  altitude\tdiff:-0.0005836034\tAccepted:False\n",
      "  distance\tdiff:0.0030578887\tAccepted:True\n",
      "    radius\tdiff:0.0000000000\tAccepted:True\n",
      "      time\tdiff:0.0000000000\tAccepted:True\n"
     ]
    }
   ],
   "source": [
    "input_data7 = {'radius': 15.,\n",
    "              'velocity': 16e3,\n",
    "              'density': 3000.,\n",
    "              'strength': 1e20,\n",
    "              'angle': 20.0,\n",
    "              'init_altitude':100e3,\n",
    "              'dt': 0.05,\n",
    "              'radians': False }\n",
    "# numerical\n",
    "result1 = earth.solve_atmospheric_entry(**input_data7)\n",
    "# plot(result1.time, result1.velocity, result1.mass, result1.angle, result1.altitude, result1.distance, result1.radius)\n",
    "# scipy_odeint\n",
    "result2 = solve_atmospheric_odeint_entry(**input_data7)\n",
    "# plot(result2.time, result2.velocity, result2.mass, result2.angle, result2.altitude, result2.distance, result2.radius)\n",
    "diff(result1, result2)"
   ]
  },
  {
   "cell_type": "code",
   "execution_count": 12,
   "metadata": {},
   "outputs": [
    {
     "name": "stdout",
     "output_type": "stream",
     "text": [
      "  velocity\tdiff:-0.0000055169\tAccepted:True\n",
      "      mass\tdiff:-6.5006270261\tAccepted:True\n",
      "     angle\tdiff:0.0000001966\tAccepted:True\n",
      "  altitude\tdiff:0.0018918296\tAccepted:False\n",
      "  distance\tdiff:-0.0016955530\tAccepted:True\n",
      "    radius\tdiff:-0.0000395266\tAccepted:True\n",
      "      time\tdiff:0.0000000000\tAccepted:True\n"
     ]
    }
   ],
   "source": [
    "input_data8 = {'radius': 15.,\n",
    "              'velocity': 16e3,\n",
    "              'density': 3000.,\n",
    "              'strength': 1e2,\n",
    "              'angle': 45.0,\n",
    "              'init_altitude':100e3,\n",
    "              'dt': 0.05,\n",
    "              'radians': False }\n",
    "# numerical\n",
    "result1 = earth.solve_atmospheric_entry(**input_data8)\n",
    "# plot(result1.time, result1.velocity, result1.mass, result1.angle, result1.altitude, result1.distance, result1.radius)\n",
    "# scipy_odeint\n",
    "result2 = solve_atmospheric_odeint_entry(**input_data8)\n",
    "# plot(result2.time, result2.velocity, result2.mass, result2.angle, result2.altitude, result2.distance, result2.radius)\n",
    "diff(result1, result2)"
   ]
  },
  {
   "cell_type": "code",
   "execution_count": 13,
   "metadata": {},
   "outputs": [
    {
     "name": "stdout",
     "output_type": "stream",
     "text": [
      "  velocity\tdiff:-0.0000072067\tAccepted:True\n",
      "      mass\tdiff:-1.6772816835\tAccepted:True\n",
      "     angle\tdiff:0.0000002823\tAccepted:True\n",
      "  altitude\tdiff:0.0013518413\tAccepted:True\n",
      "  distance\tdiff:-0.0024997011\tAccepted:True\n",
      "    radius\tdiff:-0.0000184639\tAccepted:True\n",
      "      time\tdiff:0.0000000000\tAccepted:True\n"
     ]
    }
   ],
   "source": [
    "input_data9 = {'radius': 15.,\n",
    "              'velocity': 20e3,\n",
    "              'density': 3000.,\n",
    "              'strength': 1e2,\n",
    "              'angle': 20.0,\n",
    "              'init_altitude':100e3,\n",
    "              'dt': 0.05,\n",
    "              'radians': False }\n",
    "# numerical\n",
    "result1 = earth.solve_atmospheric_entry(**input_data9)\n",
    "# plot(result1.time, result1.velocity, result1.mass, result1.angle, result1.altitude, result1.distance, result1.radius)\n",
    "# scipy_odeint\n",
    "result2 = solve_atmospheric_odeint_entry(**input_data9)\n",
    "# plot(result2.time, result2.velocity, result2.mass, result2.angle, result2.altitude, result2.distance, result2.radius)\n",
    "diff(result1, result2)"
   ]
  },
  {
   "cell_type": "code",
   "execution_count": 14,
   "metadata": {},
   "outputs": [
    {
     "name": "stdout",
     "output_type": "stream",
     "text": [
      "  velocity\tdiff:-0.0000020629\tAccepted:True\n",
      "      mass\tdiff:-0.0036788803\tAccepted:True\n",
      "     angle\tdiff:0.0000001174\tAccepted:True\n",
      "  altitude\tdiff:-0.0000569962\tAccepted:False\n",
      "  distance\tdiff:-0.0000674309\tAccepted:True\n",
      "    radius\tdiff:0.0000014304\tAccepted:True\n",
      "      time\tdiff:0.0000000000\tAccepted:True\n"
     ]
    }
   ],
   "source": [
    "input_data10 = {'radius': 15.,\n",
    "              'velocity': 10e3,\n",
    "              'density': 3000.,\n",
    "              'strength': 1e2,\n",
    "              'angle': 20.0,\n",
    "              'init_altitude':100e3,\n",
    "              'dt': 0.05,\n",
    "              'radians': False }\n",
    "# numerical\n",
    "result1 = earth.solve_atmospheric_entry(**input_data10)\n",
    "# plot(result1.time, result1.velocity, result1.mass, result1.angle, result1.altitude, result1.distance, result1.radius)\n",
    "# scipy_odeint\n",
    "result2 = solve_atmospheric_odeint_entry(**input_data10)\n",
    "# plot(result2.time, result2.velocity, result2.mass, result2.angle, result2.altitude, result2.distance, result2.radius)\n",
    "diff(result1, result2)"
   ]
  },
  {
   "cell_type": "code",
   "execution_count": 15,
   "metadata": {},
   "outputs": [
    {
     "name": "stdout",
     "output_type": "stream",
     "text": [
      "  velocity\tdiff:-0.0000034102\tAccepted:True\n",
      "      mass\tdiff:-0.3072656646\tAccepted:True\n",
      "     angle\tdiff:0.0000001161\tAccepted:True\n",
      "  altitude\tdiff:0.0006016995\tAccepted:True\n",
      "  distance\tdiff:-0.0006739047\tAccepted:True\n",
      "    radius\tdiff:-0.0000044764\tAccepted:True\n",
      "      time\tdiff:0.0000000000\tAccepted:True\n"
     ]
    }
   ],
   "source": [
    "input_data11 = {'radius': 10.,\n",
    "              'velocity': 16e3,\n",
    "              'density': 3000.,\n",
    "              'strength': 1e2,\n",
    "              'angle': 20.0,\n",
    "              'init_altitude':100e3,\n",
    "              'dt': 0.05,\n",
    "              'radians': False }\n",
    "# numerical\n",
    "result1 = earth.solve_atmospheric_entry(**input_data11)\n",
    "# plot(result1.time, result1.velocity, result1.mass, result1.angle, result1.altitude, result1.distance, result1.radius)\n",
    "# scipy_odeint\n",
    "result2 = solve_atmospheric_odeint_entry(**input_data11)\n",
    "# plot(result2.time, result2.velocity, result2.mass, result2.angle, result2.altitude, result2.distance, result2.radius)\n",
    "diff(result1, result2)"
   ]
  },
  {
   "cell_type": "code",
   "execution_count": 24,
   "metadata": {},
   "outputs": [
    {
     "name": "stdout",
     "output_type": "stream",
     "text": [
      "  velocity\tdiff:0.0014611494\tAccepted:False\n",
      "      mass\tdiff:-7.4368007837\tAccepted:True\n",
      "     angle\tdiff:-0.0000241469\tAccepted:True\n",
      "  altitude\tdiff:-0.4951970394\tAccepted:False\n",
      "  distance\tdiff:0.0224324135\tAccepted:True\n",
      "    radius\tdiff:-0.0079950538\tAccepted:False\n",
      "      time\tdiff:0.0000000000\tAccepted:True\n"
     ]
    }
   ],
   "source": [
    "input_data12 = {'radius': 10.,\n",
    "              'velocity': 21e3,\n",
    "              'density': 3000.,\n",
    "              'strength': 1e3,\n",
    "              'angle': 45.0,\n",
    "              'init_altitude':100e3,\n",
    "              'dt': 0.05,\n",
    "              'radians': False }\n",
    "# numerical\n",
    "result1 = earth.solve_atmospheric_entry(**input_data12)\n",
    "# plot(result1.time, result1.velocity, result1.mass, result1.angle, result1.altitude, result1.distance, result1.radius)\n",
    "# scipy_odeint\n",
    "result2 = solve_atmospheric_odeint_entry(**input_data12)\n",
    "# plot(result2.time, result2.velocity, result2.mass, result2.angle, result2.altitude, result2.distance, result2.radius)\n",
    "diff(result1, result2)"
   ]
  },
  {
   "cell_type": "code",
   "execution_count": 29,
   "metadata": {},
   "outputs": [
    {
     "name": "stdout",
     "output_type": "stream",
     "text": [
      "  velocity\tdiff:-0.0000124460\tAccepted:True\n",
      "      mass\tdiff:-0.6873679761\tAccepted:True\n",
      "     angle\tdiff:0.0000003567\tAccepted:True\n",
      "  altitude\tdiff:0.0032205026\tAccepted:False\n",
      "  distance\tdiff:-0.0022908955\tAccepted:True\n",
      "    radius\tdiff:0.0000000000\tAccepted:True\n",
      "      time\tdiff:0.0000000000\tAccepted:True\n"
     ]
    }
   ],
   "source": [
    "input_data13 = {'radius': 10.,\n",
    "              'velocity': 21e3,\n",
    "              'density': 3000.,\n",
    "              'strength': 1e18,\n",
    "              'angle': 45.0,\n",
    "              'init_altitude':100e3,\n",
    "              'dt': 0.05,\n",
    "              'radians': False }\n",
    "# numerical\n",
    "result1 = earth.solve_atmospheric_entry(**input_data13)\n",
    "# plot(result1.time, result1.velocity, result1.mass, result1.angle, result1.altitude, result1.distance, result1.radius)\n",
    "# scipy_odeint\n",
    "result2 = solve_atmospheric_odeint_entry(**input_data13)\n",
    "# plot(result2.time, result2.velocity, result2.mass, result2.angle, result2.altitude, result2.distance, result2.radius)\n",
    "diff(result1, result2)"
   ]
  }
 ],
 "metadata": {
  "kernelspec": {
   "display_name": "Python 3",
   "language": "python",
   "name": "python3"
  },
  "language_info": {
   "codemirror_mode": {
    "name": "ipython",
    "version": 3
   },
   "file_extension": ".py",
   "mimetype": "text/x-python",
   "name": "python",
   "nbconvert_exporter": "python",
   "pygments_lexer": "ipython3",
   "version": "3.7.3"
  }
 },
 "nbformat": 4,
 "nbformat_minor": 2
}
