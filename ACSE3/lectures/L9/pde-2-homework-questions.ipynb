{
 "cells": [
  {
   "cell_type": "markdown",
   "metadata": {
    "slideshow": {
     "slide_type": "slide"
    }
   },
   "source": [
    "# ACSE-3 (Numerical Methods) <a class=\"tocSkip\">\n",
    "\n",
    "## Lecture 9: Partial Differential Equations (PDEs) 2 <a class=\"tocSkip\">\n",
    "    \n",
    "### Homework exercises <a class=\"tocSkip\">"
   ]
  },
  {
   "cell_type": "markdown",
   "metadata": {
    "toc": true
   },
   "source": [
    "<h1>Table of Contents<span class=\"tocSkip\"></span></h1>\n",
    "<div class=\"toc\"><ul class=\"toc-item\"><li><span><a href=\"#Homework\" data-toc-modified-id=\"Homework-1\"><span class=\"toc-item-num\">1&nbsp;&nbsp;</span>Homework</a></span><ul class=\"toc-item\"><li><span><a href=\"#Homework---Comparing-linear-solvers-(Jacobi-vs-Gauss-Seidel)\" data-toc-modified-id=\"Homework---Comparing-linear-solvers-(Jacobi-vs-Gauss-Seidel)-1.1\"><span class=\"toc-item-num\">1.1&nbsp;&nbsp;</span>Homework - Comparing linear solvers (Jacobi vs Gauss-Seidel)</a></span></li><li><span><a href=\"#Homework---matrix-based-solvers-[$\\star\\star$---not-really-any-question-here,-just-read-through-solution-for-interest]\" data-toc-modified-id=\"Homework---matrix-based-solvers-[$\\star\\star$---not-really-any-question-here,-just-read-through-solution-for-interest]-1.2\"><span class=\"toc-item-num\">1.2&nbsp;&nbsp;</span>Homework - matrix based solvers [$\\star\\star$ - not really any question here, just read through solution for interest]</a></span><ul class=\"toc-item\"><li><span><a href=\"#Imposing-boundary-conditions\" data-toc-modified-id=\"Imposing-boundary-conditions-1.2.1\"><span class=\"toc-item-num\">1.2.1&nbsp;&nbsp;</span>Imposing boundary conditions</a></span></li></ul></li><li><span><a href=\"#Homework---A-case-with-a-non-zero-RHS-and-homogeneous-Dirichlet-BCs\" data-toc-modified-id=\"Homework---A-case-with-a-non-zero-RHS-and-homogeneous-Dirichlet-BCs-1.3\"><span class=\"toc-item-num\">1.3&nbsp;&nbsp;</span>Homework - A case with a non-zero RHS and homogeneous Dirichlet BCs</a></span></li><li><span><a href=\"#Homework---A-case-with-a-non-zero-RHS-and-inhomogeneous-Dirichlet-BCs\" data-toc-modified-id=\"Homework---A-case-with-a-non-zero-RHS-and-inhomogeneous-Dirichlet-BCs-1.4\"><span class=\"toc-item-num\">1.4&nbsp;&nbsp;</span>Homework - A case with a non-zero RHS and inhomogeneous Dirichlet BCs</a></span></li><li><span><a href=\"#Homework---Alternative-solver-methods-for-Navier-Stokes-[$\\star\\star\\star$]\" data-toc-modified-id=\"Homework---Alternative-solver-methods-for-Navier-Stokes-[$\\star\\star\\star$]-1.5\"><span class=\"toc-item-num\">1.5&nbsp;&nbsp;</span>Homework - Alternative solver methods for Navier-Stokes [$\\star\\star\\star$]</a></span></li></ul></li></ul></div>"
   ]
  },
  {
   "cell_type": "code",
   "execution_count": 1,
   "metadata": {},
   "outputs": [],
   "source": [
    "%precision 3\n",
    "%matplotlib inline\n",
    "import numpy as np\n",
    "import matplotlib.pyplot as plt\n",
    "import scipy.linalg as sl\n",
    "import scipy.sparse as sp\n",
    "import scipy.sparse.linalg as spla\n",
    "# the following allows us to plot triangles indicating convergence order\n",
    "from mpltools import annotation\n",
    "# as we're in 2D we will be doing some 3D plotting\n",
    "from mpl_toolkits.mplot3d import Axes3D\n",
    "# and using some colormaps\n",
    "from matplotlib import cm\n",
    "# and we will create some animations!\n",
    "import matplotlib.animation as animation\n",
    "from IPython.display import HTML\n",
    "from pprint import pprint"
   ]
  },
  {
   "cell_type": "markdown",
   "metadata": {},
   "source": [
    "# Homework\n"
   ]
  },
  {
   "cell_type": "markdown",
   "metadata": {},
   "source": [
    "## Homework - Comparing linear solvers (Jacobi vs Gauss-Seidel)\n",
    "\n",
    "In the lecture we considered the problem \n",
    "\n",
    "$$ \\frac{\\partial^2 c}{\\partial x^2} + \\frac{\\partial^2 c}{\\partial y^2} \\equiv \\nabla^2 c = f, $$\n",
    "\n",
    "with an analytical solution which was chosen such that its Laplacian is zero (i.e. $f\\equiv 0$)\n",
    "\n",
    "$$ c_{\\text{exact}}(x,y) =\\frac{\\sin(2\\pi x)\\sinh(2\\pi y)}{\\sinh(2\\pi)},$$\n",
    "\n",
    "and we used the value of this exact solution to define Dirichlet BCs for our problem.\n",
    "\n",
    "The difference between the Jacobi solver we used in the lecture and Gauss-Seidel is that with G-S we make use of updated solution values as soon as they are available - we don't wait until the next iteration to make use of them. We saw in L3 that this approach can lead to faster convergence (in terms of the number of  required iterations - of course not overall if each iteration costs a different amount).\n",
    "\n",
    "We can write the iterative scheme in the Gauss-Seidel case as:\n",
    "\n",
    "$$ c^{n+1}_{i,j} = \\frac{1}{4}\\left(c^{n}_{i+1,j}  + c_{i-1,j}^{n+1} + c^{n}_{i,j+1} + c^{n+1}_{i,j-1} - \\Delta x^2 f_{i,j} \\right), $$\n",
    "\n",
    "where we have made an assumption on the order we perform the update in $i$ and $j$, i.e. for a given $i,j$ we assume we have already visiting and updated the values at the $i-1$ and the $j-1$ locations.\n",
    "\n",
    "Write some code to compare the number of iterations and overall time to solve the above Poisson problem with Dirichlet BCs  to a given tolerance using our vectorised Jacobi code from the lecture, as well as non-vectorised versions of Jacobi and Gauss-Seidel. \n",
    "\n",
    "In order to compute timings you could turn these three solvers into functions and use `%timeit` as we have done in previous homeworks."
   ]
  },
  {
   "cell_type": "markdown",
   "metadata": {},
   "source": [
    "## Homework - matrix based solvers [$\\star\\star$ - not really any question here, just read through solution for interest]\n",
    "\n",
    "Alternatively (to open up a wider range of solver options) we can cast the problem is the matrix form\n",
    "\n",
    "$$A\\boldsymbol{C} = \\boldsymbol{b},$$\n",
    "\n",
    "and solve with standard methods such as Gaussian elimination or conjugate gradients (we will see that for the Laplace operator $A$ is symmetric positive definite).\n",
    "\n",
    "The first step for constructing the matrix-vector multiplication on the LHS is to assume a numbering which allows us to reshape the $N_x\\times N_y$ unknowns making up \n",
    "\n",
    "$$\\boldsymbol{c} = \\{c_{ij}\\}, \\;\\;\\;\\;\\; i=0,\\ldots, N_x-1,\\;\\;\\;\\; j=0,\\ldots, N_y-1,$$  \n",
    "\n",
    "into an $N_xN_y \\times 1$ column vector \n",
    "\n",
    "$$\\boldsymbol{C} = \\{C_{k}\\}, \\;\\;\\;\\;\\; k=0,\\ldots, N_x\\times N_y-1.$$\n",
    "\n",
    "There are several ways we can go back and forth between these numberings in Python - read the docs on `reshape`, `flatten`, `ravel`:\n",
    "\n",
    "(note that these implement what is called [*row major ordering*](https://en.wikipedia.org/wiki/Row-_and_column-major_order))"
   ]
  },
  {
   "cell_type": "markdown",
   "metadata": {},
   "source": [
    "# So notice that exploiting the sparsity of the matrix is vitally important for overall algorithm efficiency."
   ]
  },
  {
   "cell_type": "code",
   "execution_count": 6,
   "metadata": {},
   "outputs": [
    {
     "name": "stdout",
     "output_type": "stream",
     "text": [
      "array([[1, 2, 3],\n",
      "       [4, 5, 6]])\n",
      "array([1, 2, 3, 4, 5, 6])\n",
      "array([1, 2, 3, 4, 5, 6])\n",
      "array([1, 2, 3, 4, 5, 6])\n",
      "\n",
      "\n",
      "array([1, 2, 3, 4, 5, 6])\n",
      "array([[1, 2, 3],\n",
      "       [4, 5, 6]])\n",
      "\n",
      "\n",
      "array([1, 2, 3, 4, 5, 6])\n",
      "array([1, 4, 2, 5, 3, 6])\n"
     ]
    }
   ],
   "source": [
    "a = np.array([[1,2,3],[4,5,6]])\n",
    "pprint(a)\n",
    "pprint(a.ravel())\n",
    "pprint(a.flatten())\n",
    "pprint(a.reshape(-1))\n",
    "\n",
    "print('\\n')\n",
    "# this is how we can go back again\n",
    "a2 = a.ravel()\n",
    "pprint(a2)\n",
    "pprint(a2.reshape(np.shape(a)))\n",
    "\n",
    "print('\\n')\n",
    "# this shows that \"C ordering\" is the default row-major behaviour we will use\n",
    "pprint(a.ravel(order='C'))\n",
    "# and this shows that \"Fortran ordering\" is column-major\n",
    "pprint(a.ravel(order='F'))"
   ]
  },
  {
   "cell_type": "markdown",
   "metadata": {},
   "source": [
    "### Imposing boundary conditions\n",
    "\n",
    "\n",
    "1. The simplest approach to applying Dirichlet BCs would be to replace the corresponding row of the matrix with a 1 on the diagonal, zero in all other row entries and set the Dirichlet BC value in the corresponding row of the RHS matrix. The problem with this approach is that it destroys the symmetry of the LHS matrix which we can exploit in solvers (and indeed which is a requirement for the use of certain solvers) - this is because we have edited the row, but can't similarly edit the corresponding column without messing up the discretisation for other nodes.\n",
    "\n",
    "\n",
    "2. The second approach is to leave the row unchanged but set a very large number on the diagonal, and set this large number multiplied by our Dirichlet BC value in the corresponding row of the RHS matrix. This is sometimes called the *big spring* method.\n",
    "\n",
    "\n",
    "3. And finally *Lifting*, which we do below, which involves removing the rows and columns corresponding to the boundary nodes from the discretisation matrix."
   ]
  },
  {
   "cell_type": "markdown",
   "metadata": {},
   "source": [
    "## Homework - A case with a non-zero RHS and homogeneous Dirichlet BCs\n",
    "\n",
    "Let's consider now a Poisson problem with a non-zero RHS and zero Dirichlet BCs.\n",
    "\n",
    "Our PDEs is\n",
    "$$ \\frac{\\partial^2 c}{\\partial x^2} + \\frac{\\partial^2 c}{\\partial y^2} \\equiv \\nabla^2 c = f, $$\n",
    "\n",
    "with exact solution that is constructed to take the value zero on all boundaries:\n",
    "\n",
    "$$ c_{\\text{exact}}(x,y) = x^2 (1 - x)\\sin(\\pi y). $$\n",
    "\n",
    "We can easily evaluate the Laplacian of this function to give us the RHS function:\n",
    "\n",
    "$$ f = \\sin(\\pi y)  ( 2 - 6 x - (\\pi x)^2  (1 - x) ). $$\n",
    "\n",
    "Solve this problem using one of your solvers from above."
   ]
  },
  {
   "cell_type": "markdown",
   "metadata": {},
   "source": [
    "## Homework - A case with a non-zero RHS and inhomogeneous Dirichlet BCs\n",
    "\n",
    "Consider now a case with\n",
    "\n",
    "$$ c_{\\text{exact}}(x,y) = \\exp\\left(x + \\frac{y}{2}\\right), $$\n",
    "\n",
    "which is non-zero on the boundaries, and hence this same function can be used to specify Dirichlet BCS.\n",
    "\n",
    "We can easily evaluate the Laplacian of this function to give us the RHS function:\n",
    "\n",
    "$$ f = \\frac{5}{4}\\exp\\left(x + \\frac{y}{2}\\right). $$\n",
    "\n",
    "Solve this problem using one of your solvers."
   ]
  },
  {
   "cell_type": "markdown",
   "metadata": {},
   "source": [
    "## Homework - Alternative solver methods for Navier-Stokes [$\\star\\star\\star$]\n",
    "\n",
    "In the lecture a major cost of our Navier-Stokes solver is the solution of the pressure Poisson equation within the pressure projection method.\n",
    "\n",
    "Try updating our CFD solver from lecture to use an LU based matrix solver for pressure instead.\n",
    "\n",
    "You will need to consider several things here:\n",
    "\n",
    "\n",
    "1. The imposition of homogeneous Neumann BCs in the generation of the discretisation matrix $A$.\n",
    "\n",
    "\n",
    "2. The imposition of the pressure level node in the generation of the discretisation matrix $A$ (I suggest for simplicity you use the big spring method here).\n",
    "\n",
    "<br>\n",
    "\n",
    "**Important comments on performance optimisation** \n",
    "\n",
    "Now while simple our Jacobi solver from the lecture actually performs quite well for our lid driven cavity case. Firstly, as considered above, as the solve is fully vectorised that means that each iteration is very efficient. Secondly, as we are solving this problem to steady state we need to do a lot of time step where things don't change much from one to the next. This is an advantage for the iterative solvers utilised within each time step: starting the Jacobi iteration using an initial guess from the previous time level means that we can minimise the number of iterations required to converge. Indeed for the lid-driven cavity we observe that while for early time levels we have to use a large number of iterations, for much of latter parts of the solve Jacobi only requires a single iteration to converge, this is because the pressure is not changing by very much between time levels.  **For a fully time-dependent problem a simple solver like Jacobi is not viable**, the ability to start from a reasonable initial guess (from the previous time level) and simply the overall size of the problem, points to an optimal solution being a **matrix based iterative solver such a preconditioned CG**."
   ]
  },
  {
   "cell_type": "code",
   "execution_count": null,
   "metadata": {},
   "outputs": [],
   "source": []
  }
 ],
 "metadata": {
  "celltoolbar": "Slideshow",
  "kernelspec": {
   "display_name": "Python 3",
   "language": "python",
   "name": "python3"
  },
  "language_info": {
   "codemirror_mode": {
    "name": "ipython",
    "version": 3
   },
   "file_extension": ".py",
   "mimetype": "text/x-python",
   "name": "python",
   "nbconvert_exporter": "python",
   "pygments_lexer": "ipython3",
   "version": "3.7.3"
  },
  "latex_envs": {
   "LaTeX_envs_menu_present": true,
   "autoclose": false,
   "autocomplete": true,
   "bibliofile": "biblio.bib",
   "cite_by": "apalike",
   "current_citInitial": 1,
   "eqLabelWithNumbers": true,
   "eqNumInitial": 1,
   "hotkeys": {
    "equation": "Ctrl-E",
    "itemize": "Ctrl-I"
   },
   "labels_anchors": false,
   "latex_user_defs": false,
   "report_style_numbering": false,
   "user_envs_cfg": false
  },
  "toc": {
   "base_numbering": "1",
   "nav_menu": {},
   "number_sections": true,
   "sideBar": true,
   "skip_h1_title": false,
   "title_cell": "Table of Contents",
   "title_sidebar": "Contents",
   "toc_cell": true,
   "toc_position": {},
   "toc_section_display": true,
   "toc_window_display": false
  }
 },
 "nbformat": 4,
 "nbformat_minor": 4
}
