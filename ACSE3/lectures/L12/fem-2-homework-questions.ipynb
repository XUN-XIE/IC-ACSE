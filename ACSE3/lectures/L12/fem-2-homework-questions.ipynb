{
 "cells": [
  {
   "cell_type": "markdown",
   "metadata": {
    "slideshow": {
     "slide_type": "slide"
    }
   },
   "source": [
    "# ACSE-3 (Numerical Methods) <a class=\"tocSkip\">\n",
    "\n",
    "## Lecture 12: Finite element methods (FEM) 2 <a class=\"tocSkip\">\n",
    "    \n",
    "### Homework exercises <a class=\"tocSkip\">"
   ]
  },
  {
   "cell_type": "markdown",
   "metadata": {
    "toc": true
   },
   "source": [
    "<h1>Table of Contents<span class=\"tocSkip\"></span></h1>\n",
    "<div class=\"toc\"><ul class=\"toc-item\"><li><span><a href=\"#Homework\" data-toc-modified-id=\"Homework-1\"><span class=\"toc-item-num\">1&nbsp;&nbsp;</span>Homework</a></span><ul class=\"toc-item\"><li><span><a href=\"#Homework---Compare-solution-to-diffusion-with-homogeneous-vs-Dirichlet-BCs\" data-toc-modified-id=\"Homework---Compare-solution-to-diffusion-with-homogeneous-vs-Dirichlet-BCs-1.1\"><span class=\"toc-item-num\">1.1&nbsp;&nbsp;</span>Homework - Compare solution to diffusion with homogeneous vs Dirichlet BCs</a></span></li><li><span><a href=\"#Homework---Laplacian-smoothing\" data-toc-modified-id=\"Homework---Laplacian-smoothing-1.2\"><span class=\"toc-item-num\">1.2&nbsp;&nbsp;</span>Homework - Laplacian smoothing</a></span></li></ul></li></ul></div>"
   ]
  },
  {
   "cell_type": "code",
   "execution_count": 148,
   "metadata": {},
   "outputs": [],
   "source": [
    "%precision 3\n",
    "%matplotlib inline\n",
    "import numpy as np\n",
    "import matplotlib.pyplot as plt\n",
    "import scipy.linalg as sl\n",
    "import scipy.sparse as sp\n",
    "import scipy.sparse.linalg as spla\n",
    "# the following allows us to plot triangles indicating convergence order\n",
    "from mpltools import annotation\n",
    "# as we're in 2D we will be doing some 3D plotting\n",
    "from mpl_toolkits.mplot3d import Axes3D\n",
    "# and using some colormaps\n",
    "from matplotlib import cm\n",
    "# and we will create some animations!\n",
    "import matplotlib.animation as animation\n",
    "from IPython.display import HTML\n",
    "from pprint import pprint"
   ]
  },
  {
   "cell_type": "markdown",
   "metadata": {},
   "source": [
    "# Homework\n"
   ]
  },
  {
   "cell_type": "markdown",
   "metadata": {},
   "source": [
    "## Homework - Compare solution to diffusion with homogeneous vs Dirichlet BCs \n",
    "\n",
    "Use our 1D FEM based time-dependent diffusion solver to investigate the long time solution behaviour (i.e. what steady state does the solution tend to) for the diffusion problem in the cases of homogeneous Neumann and homogeneous Dirichlet boundary conditions. You can use the same Gaussian like initial condition from lecture.\n",
    "\n",
    "Write some code to compute the area under the solution curve over the domain (i.e. the integral of the solution) in both cases and plot the evolution of this integral as a function of time - what do you notice?"
   ]
  },
  {
   "cell_type": "markdown",
   "metadata": {},
   "source": [
    "## Homework - Laplacian smoothing\n",
    "\n",
    "Consider the following mesh."
   ]
  },
  {
   "cell_type": "code",
   "execution_count": 110,
   "metadata": {},
   "outputs": [
    {
     "data": {
      "text/plain": [
       "[<matplotlib.lines.Line2D at 0x2b29c7d2d68>]"
      ]
     },
     "execution_count": 110,
     "metadata": {},
     "output_type": "execute_result"
    },
    {
     "data": {
      "image/png": "[encoded data removed]",
      "text/plain": [
       "<Figure size 360x360 with 1 Axes>"
      ]
     },
     "metadata": {},
     "output_type": "display_data"
    }
   ],
   "source": [
    "from scipy.spatial import Delaunay\n",
    "\n",
    "points = np.array([[0.2,0.4],[0.2,0.7], [0.4,0.4], [0.8,0.6]])\n",
    "# add corners\n",
    "points = np.concatenate((points,[[0, 0], [0, 1], [1, 0], [1, 1]]))\n",
    "\n",
    "tri = Delaunay(points, incremental=True)\n",
    "fig = plt.figure(figsize=(5, 5))\n",
    "ax1 = fig.add_subplot(111)\n",
    "\n",
    "ax1.triplot(points[:, 0], points[:, 1], tri.simplices)\n",
    "ax1.plot(points[:, 0], points[:, 1], 'o')"
   ]
  },
  {
   "cell_type": "markdown",
   "metadata": {},
   "source": [
    "Write some code to implement [\"Laplacian smoothing\"](https://en.wikipedia.org/wiki/Laplacian_smoothing). \n",
    "\n",
    "This is an algorithm whereby every vertex of the mesh is visited in turn and its location is relocated to the mean of the locations of the vertices that are connected to it. This process is iterated until convergence. The idea is that this returns a mesh with improved mesh quality (NB. what we mean by quality is a somewhat complex issues but for our purposes we will consider triangles closer to equilateral to be of better quality).\n",
    "\n",
    "Write a version of this mesh smoother that maintains the locations of the vertices at the four corners (i.e. so that the underlying \"geometry\" is maintained).\n",
    "\n",
    "Also since we really do not want elements to go inverted (for vertices to pass through element faces), add an \"under-relaxation\" parameter that can help with robustness, but does mean we need more iterations. This means that rather than accepting the newly computed location, we choose a new location that is the weighted sum of the current and new positions - for a complex mesh (as in the next part of question) you may need to use a lot of under-relaxation in order to get a good result.\n",
    "\n",
    "Once this works, test it out on a mesh generated using a Delaunay method (as above) generated from 20 random vertices arranged within the unit square (the use of random points will most likely lead to a \"nasty\" mesh with elements far from equilateral).  As in the first example add 4 corners which you maintain in their original locations in order to preserve a square geometry."
   ]
  }
 ],
 "metadata": {
  "celltoolbar": "Slideshow",
  "kernelspec": {
   "display_name": "Python 3",
   "language": "python",
   "name": "python3"
  },
  "language_info": {
   "codemirror_mode": {
    "name": "ipython",
    "version": 3
   },
   "file_extension": ".py",
   "mimetype": "text/x-python",
   "name": "python",
   "nbconvert_exporter": "python",
   "pygments_lexer": "ipython3",
   "version": "3.7.3"
  },
  "latex_envs": {
   "LaTeX_envs_menu_present": true,
   "autoclose": false,
   "autocomplete": true,
   "bibliofile": "biblio.bib",
   "cite_by": "apalike",
   "current_citInitial": 1,
   "eqLabelWithNumbers": true,
   "eqNumInitial": 1,
   "hotkeys": {
    "equation": "Ctrl-E",
    "itemize": "Ctrl-I"
   },
   "labels_anchors": false,
   "latex_user_defs": false,
   "report_style_numbering": false,
   "user_envs_cfg": false
  },
  "toc": {
   "base_numbering": "1",
   "nav_menu": {},
   "number_sections": true,
   "sideBar": true,
   "skip_h1_title": false,
   "title_cell": "Table of Contents",
   "title_sidebar": "Contents",
   "toc_cell": true,
   "toc_position": {},
   "toc_section_display": true,
   "toc_window_display": false
  }
 },
 "nbformat": 4,
 "nbformat_minor": 1
}
