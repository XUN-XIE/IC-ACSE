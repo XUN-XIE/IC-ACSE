{
 "cells": [
  {
   "cell_type": "markdown",
   "metadata": {
    "slideshow": {
     "slide_type": "slide"
    }
   },
   "source": [
    "# ACSE-3 (Numerical Methods) <a class=\"tocSkip\">\n",
    "\n",
    "## Lecture 11: Finite element methods (FEM) 1 <a class=\"tocSkip\">\n",
    "    \n",
    "### Homework exercises <a class=\"tocSkip\">"
   ]
  },
  {
   "cell_type": "markdown",
   "metadata": {
    "toc": true
   },
   "source": [
    "<h1>Table of Contents<span class=\"tocSkip\"></span></h1>\n",
    "<div class=\"toc\"><ul class=\"toc-item\"><li><span><a href=\"#Homework\" data-toc-modified-id=\"Homework-1\"><span class=\"toc-item-num\">1&nbsp;&nbsp;</span>Homework</a></span><ul class=\"toc-item\"><li><span><a href=\"#Homework---Solving-on-a-non-uniform-mesh\" data-toc-modified-id=\"Homework---Solving-on-a-non-uniform-mesh-1.1\"><span class=\"toc-item-num\">1.1&nbsp;&nbsp;</span>Homework - Solving on a non-uniform mesh</a></span></li><li><span><a href=\"#Homework---A-BVP-with-an-inhomogeneous-RHS-and-inhomogeneous-Dirichlet-BCs\" data-toc-modified-id=\"Homework---A-BVP-with-an-inhomogeneous-RHS-and-inhomogeneous-Dirichlet-BCs-1.2\"><span class=\"toc-item-num\">1.2&nbsp;&nbsp;</span>Homework - A BVP with an inhomogeneous RHS and inhomogeneous Dirichlet BCs</a></span></li><li><span><a href=\"#Homework---Another-BVP-with-a-slightly-more-complex-RHS\" data-toc-modified-id=\"Homework---Another-BVP-with-a-slightly-more-complex-RHS-1.3\"><span class=\"toc-item-num\">1.3&nbsp;&nbsp;</span>Homework - Another BVP with a slightly more complex RHS</a></span></li><li><span><a href=\"#Homework---A-more-complex-BVP-(method-of-manufactured-solutions)\" data-toc-modified-id=\"Homework---A-more-complex-BVP-(method-of-manufactured-solutions)-1.4\"><span class=\"toc-item-num\">1.4&nbsp;&nbsp;</span>Homework - A more complex BVP (method of manufactured solutions)</a></span></li><li><span><a href=\"#Homework---A-problem-with-non-constant-coefficients-[$\\star\\star$]\" data-toc-modified-id=\"Homework---A-problem-with-non-constant-coefficients-[$\\star\\star$]-1.5\"><span class=\"toc-item-num\">1.5&nbsp;&nbsp;</span>Homework - A problem with non-constant coefficients [$\\star\\star$]</a></span></li><li><span><a href=\"#Homework---Approximation-using-a-discontinuous-function-[$\\star$]\" data-toc-modified-id=\"Homework---Approximation-using-a-discontinuous-function-[$\\star$]-1.6\"><span class=\"toc-item-num\">1.6&nbsp;&nbsp;</span>Homework - Approximation using a discontinuous function [$\\star$]</a></span></li><li><span><a href=\"#Homework---Errors-in-function-approximation-[$\\star$]\" data-toc-modified-id=\"Homework---Errors-in-function-approximation-[$\\star$]-1.7\"><span class=\"toc-item-num\">1.7&nbsp;&nbsp;</span>Homework - Errors in function approximation [$\\star$]</a></span></li></ul></li></ul></div>"
   ]
  },
  {
   "cell_type": "code",
   "execution_count": 3,
   "metadata": {},
   "outputs": [],
   "source": [
    "%precision 3\n",
    "%matplotlib inline\n",
    "import numpy as np\n",
    "import matplotlib.pyplot as plt\n",
    "import scipy.linalg as sl\n",
    "import scipy.sparse as sp\n",
    "import scipy.sparse.linalg as spla\n",
    "# the following allows us to plot triangles indicating convergence order\n",
    "from mpltools import annotation\n",
    "# as we're in 2D we will be doing some 3D plotting\n",
    "from mpl_toolkits.mplot3d import Axes3D\n",
    "# and using some colormaps\n",
    "from matplotlib import cm\n",
    "# and we will create some animations!\n",
    "import matplotlib.animation as animation\n",
    "from IPython.display import HTML\n",
    "from pprint import pprint"
   ]
  },
  {
   "cell_type": "code",
   "execution_count": 4,
   "metadata": {},
   "outputs": [],
   "source": [
    "# some useful function from the lecture\n",
    "\n",
    "def hat_function(i, x_nodes):\n",
    "    \"\"\" Top hat basis function at node i.\n",
    "    Returns a function for later use in quadrature rules.\n",
    "    \"\"\"\n",
    "    assert(i>=0 and i<=len(x_nodes)-1)\n",
    "    dx = np.diff(x_nodes)\n",
    "    if i==0:\n",
    "        hat = lambda x: np.select([ x<=x_nodes[i+1] ], [ (x_nodes[i+1] - x)/dx[i] ] ,0.0)\n",
    "    elif i==len(x_nodes)-1:\n",
    "        hat = lambda x: np.select([ x>=x_nodes[i-1] ], [ (x - x_nodes[i-1])/dx[i-1] ] ,0.0)\n",
    "    else:\n",
    "        hat = lambda x: np.select(\n",
    "                [ np.all([[x>=x_nodes[i-1]],[x<=x_nodes[i]]], axis=0)[0],  \n",
    "                  np.all([[x>=x_nodes[i]],[x<=x_nodes[i+1]]], axis=0)[0]] ,\n",
    "                [ (x-x_nodes[i-1])/dx[i-1], (x_nodes[i+1]-x)/dx[i] ] ,0.0)\n",
    "    return hat\n",
    "\n",
    "def hat_function_deriv(i, x_nodes):\n",
    "    \"\"\" Top hat basis function derivative at node i.\n",
    "    Returns a function for later use in quadrature rules.\n",
    "    \"\"\"\n",
    "    assert(i>=0 and i<=len(x_nodes)-1)\n",
    "    dx = np.diff(x_nodes)\n",
    "    if i==0:\n",
    "        hat = lambda x: np.select([ x<=x_nodes[i+1] ], [ -1/dx[i] ] ,0.0)\n",
    "    elif i==len(x_nodes)-1:\n",
    "        hat = lambda x: np.select([ x>=x_nodes[i-1] ], [ 1/dx[i-1] ] ,0.0)\n",
    "    else:\n",
    "        hat = lambda x: np.select(\n",
    "                [ np.all([[x>=x_nodes[i-1]],[x<=x_nodes[i]]], axis=0)[0],  \n",
    "                  np.all([[x>=x_nodes[i]],[x<=x_nodes[i+1]]], axis=0)[0]] ,\n",
    "                [ 1/dx[i-1], -1/dx[i] ] ,0.0)\n",
    "    return hat\n",
    "\n",
    "def mass_matrix(x):\n",
    "    dx = np.diff(x)\n",
    "    M = np.zeros((len(x), len(x)))\n",
    "    M[1:-1,1:-1] = np.diag(dx[:-1]/3  +  dx[1:]/3 , k=0) \n",
    "    M += np.diag(dx/6   , k=-1) + np.diag(dx/6   , k=1)\n",
    "    M[0,0] = dx[0]/3\n",
    "    M[-1,-1] = dx[-1]/3\n",
    "    return M\n",
    "\n",
    "\n",
    "# don't need the composite version of Simpson's rule here - want the version\n",
    "# that is able to integrate over a single interval and evaluates the function\n",
    "# at the two end points as well as the mid point\n",
    "def simpsons_rule(a, b, function, number_intervals=10):\n",
    "    \"\"\" Function to evaluate Simpson's rule. \n",
    "    \n",
    "    Note that this implementation takes the function as an argument, \n",
    "    and evaluates this at the midpoint of subintervals in addition to the \n",
    "    end point. Hence additional information is generated and used through \n",
    "    additional function evaluations. \n",
    "    \n",
    "    This is different to the function/implementation available with SciPy  \n",
    "    where discrete data only is passed to the function. \n",
    "    \n",
    "    Bear this in mind when comparing results - there will be a factor of two\n",
    "    in the definition of \"n\" we need to be careful about!\n",
    "    \n",
    "    Also note that this version of the function performs redundant function \n",
    "    evaluations - see the **composite** implementation below.\n",
    "    \"\"\"\n",
    "\n",
    "    interval_size = (b - a)/number_intervals\n",
    "\n",
    "    assert interval_size > 0\n",
    "    assert type(number_intervals) == int\n",
    "\n",
    "    I_S = 0.0\n",
    "\n",
    "    # Loop to valuate Simpson's formula over each interval \n",
    "    for i in range(number_intervals):\n",
    "        # Find a, c, and b\n",
    "        this_bin_start = a + interval_size * (i)\n",
    "        this_bin_mid = this_bin_start + interval_size/2\n",
    "        this_bin_end = this_bin_start + interval_size\n",
    "        # Calculate the rule and add to running total.\n",
    "        I_S += (interval_size/6) * (function(this_bin_start) +\n",
    "                                  4 * function(this_bin_mid) + function(this_bin_end))\n",
    "\n",
    "    # Return our running total result\n",
    "    return I_S\n",
    "\n",
    "def simpsons_composite_rule(a, b, function, number_intervals=10):\n",
    "    \"\"\"Function to evaluate the composite Simpson's rule only using\n",
    "    function evaluations at (number_intervals + 1) points.\n",
    "    \n",
    "    This implementation requires that the number of subintervals (number_intervals) be even\n",
    "    \"\"\"\n",
    "    assert number_intervals % 2 == 0, \"number_intervals is not even\"\n",
    "\n",
    "    interval_size = (b - a) / number_intervals\n",
    "    # start with the two end member values\n",
    "    I_cS2 = function(a) + function(b)\n",
    "\n",
    "    # add in those terms with a coefficient of 4\n",
    "    for i in range(1, number_intervals, 2):\n",
    "        I_cS2 += 4 * function(a + i * interval_size)\n",
    "\n",
    "    # and those terms with a coefficient of 2\n",
    "    for i in range(2, number_intervals-1, 2):\n",
    "        I_cS2 += 2 * function(a + i * interval_size)\n",
    "\n",
    "    return I_cS2 * (interval_size / 3.0)"
   ]
  },
  {
   "cell_type": "markdown",
   "metadata": {},
   "source": [
    "# Homework\n"
   ]
  },
  {
   "cell_type": "markdown",
   "metadata": {},
   "source": [
    "## Homework - Solving on a non-uniform mesh\n",
    "\n",
    "We saw that for the initial BVP problem we considere in the class (homogeneous Dirichlet conditions with $f\\equiv 1$) that the solution we obtained with exact (to round-off) at the nodes.\n",
    "\n",
    "Confirm that this exactness is no longer true on a non-uniform mesh - try perturbing our internal nodes (i.e. keep the boundaries where they should be!)  a small random amount."
   ]
  },
  {
   "cell_type": "code",
   "execution_count": 22,
   "metadata": {},
   "outputs": [
    {
     "data": {
      "text/plain": [
       "0.0012437889471390443"
      ]
     },
     "execution_count": 22,
     "metadata": {},
     "output_type": "execute_result"
    }
   ],
   "source": [
    "a = np.random.normal(0,0.005,8)\n",
    "a.mean()"
   ]
  },
  {
   "cell_type": "code",
   "execution_count": 23,
   "metadata": {},
   "outputs": [
    {
     "name": "stdout",
     "output_type": "stream",
     "text": [
      "[[18.186004   -9.36371331  0.          0.          0.          0.\n",
      "   0.          0.        ]\n",
      " [-9.36371331 18.38797912 -9.02426581  0.          0.          0.\n",
      "   0.          0.        ]\n",
      " [ 0.         -9.02426581 17.25168201 -8.22741621  0.          0.\n",
      "   0.          0.        ]\n",
      " [ 0.          0.         -8.22741621 17.90542187 -9.67800566  0.\n",
      "   0.          0.        ]\n",
      " [ 0.          0.          0.         -9.67800566 18.70977401 -9.03176835\n",
      "   0.          0.        ]\n",
      " [ 0.          0.          0.          0.         -9.03176835 17.78615775\n",
      "  -8.75438941  0.        ]\n",
      " [ 0.          0.          0.          0.          0.         -8.75438941\n",
      "  17.75498819 -9.00059878]\n",
      " [ 0.          0.          0.          0.          0.          0.\n",
      "  -9.00059878 18.24968053]]\n"
     ]
    }
   ],
   "source": [
    "# let's discretise and solve our problem using hte FEM\n",
    "\n",
    "def f(x):\n",
    "    return 1.0\n",
    "\n",
    "def u_exact(x):\n",
    "    return -0.5*x*(x-1)\n",
    "\n",
    "N_elements_CG = 9\n",
    "N_nodes_CG = N_elements_CG + 1\n",
    "\n",
    "x_nodes = np.linspace(0, 1 , N_nodes_CG )\n",
    "a = np.random.normal(0,0.005,8)\n",
    "x_nodes[1:-1] += a\n",
    "dx = np.diff(x_nodes)\n",
    "\n",
    "# space to store our discretisaton matrices\n",
    "K = np.zeros((N_nodes_CG -2 , N_nodes_CG -2 ))\n",
    "\n",
    "# we only need the internal entries of the A defined above in this case\n",
    "K = np.diag(1. / dx[:-1]  +  1. / dx[1:] , k=0) \\\n",
    "    - np.diag(1. / dx[1:-1]   , k=-1) \\\n",
    "    - np.diag(1. / dx[1:-1]   , k=1)\n",
    "\n",
    "# print out K to show that we've lost the first and last rows/columns compared to the previous K we printed\n",
    "print(K)\n",
    "\n",
    "# form RHS vector by integrating function f multiplied by basis function\n",
    "# loop over internal nodes\n",
    "RHS = np.zeros(N_nodes_CG - 2)\n",
    "for node in range(1, N_nodes_CG - 1):\n",
    "    # and integrate our function multiplied by the corresponding cts basis function  \n",
    "    phi_i = hat_function(node, x_nodes)\n",
    "    integrand = lambda x : f(x) * phi_i(x)\n",
    "    # simpsons with number intervals = 2 can integrate this exactly\n",
    "    RHS[node-1] = simpsons_rule(x_nodes[node-1], x_nodes[node+1], integrand, 2 )\n",
    "\n",
    "u = sl.solve(K,RHS)"
   ]
  },
  {
   "cell_type": "code",
   "execution_count": 24,
   "metadata": {},
   "outputs": [
    {
     "name": "stdout",
     "output_type": "stream",
     "text": [
      "error (RMS at nodes only) =  0.000985902339254941\n"
     ]
    },
    {
     "data": {
      "image/png": "[encoded data removed]",
      "text/plain": [
       "<Figure size 576x432 with 1 Axes>"
      ]
     },
     "metadata": {
      "needs_background": "light"
     },
     "output_type": "display_data"
    }
   ],
   "source": [
    "# plot the exact and our numerical solution and print out the RMS error\n",
    "fig = plt.figure(figsize=(8, 6))\n",
    "ax1 = fig.add_subplot(111)\n",
    "ax1.set_xlabel('$x$', fontsize=16)\n",
    "ax1.set_ylabel('$u(x)$', fontsize=16)\n",
    "ax1.set_title('Steady state diffusion solve', fontsize=16)\n",
    "ax1.plot(x_nodes[1:-1], u, 'bo-', label='FE solution')\n",
    "x_fine = np.linspace(0, 1, 1000)\n",
    "ax1.plot(x_fine, -0.5*x_fine*(x_fine-1), 'k-', label='exact solution')\n",
    "ax1.legend(loc='best', fontsize=16);\n",
    "\n",
    "print('error (RMS at nodes only) = ', \n",
    "      sl.norm(u - (-0.5*x_nodes[1:-1]*(x_nodes[1:-1]-1)) )\n",
    "      /np.sqrt(len(u)) )"
   ]
  },
  {
   "cell_type": "markdown",
   "metadata": {},
   "source": [
    "## Homework - A BVP with an inhomogeneous RHS and inhomogeneous Dirichlet BCs\n",
    "\n",
    "Consider the problem \n",
    "\n",
    "$$-u'' = f, $$\n",
    "\n",
    "with\n",
    "\n",
    "$$ f \\equiv -1,$$\n",
    "\n",
    "and BCs\n",
    "\n",
    "$$u(0)=0, \\;\\;\\;\\; u(1)=1.$$\n",
    "\n",
    "First derive the exact solution (integrate up twice and use the BCs to fix the constants of integration), and then use this solution to verify an appropriately implemented FEM solution."
   ]
  },
  {
   "cell_type": "markdown",
   "metadata": {},
   "source": [
    "u = 0.5*x**2 + 0.5*x"
   ]
  },
  {
   "cell_type": "code",
   "execution_count": 26,
   "metadata": {},
   "outputs": [
    {
     "name": "stdout",
     "output_type": "stream",
     "text": [
      "error (RMS at nodes only) =  1.0686797729075024e-16\n"
     ]
    },
    {
     "data": {
      "image/png": "[encoded data removed]",
      "text/plain": [
       "<Figure size 576x432 with 1 Axes>"
      ]
     },
     "metadata": {
      "needs_background": "light"
     },
     "output_type": "display_data"
    }
   ],
   "source": [
    "uL = 0.\n",
    "uR = 1.\n",
    "\n",
    "def f(x):\n",
    "    return -1.\n",
    "\n",
    "def u_exact(x):\n",
    "    return 0.5*(x**2+x)\n",
    "\n",
    "\n",
    "N_elements_CG = 11\n",
    "N_nodes_CG = N_elements_CG + 1\n",
    "\n",
    "x_nodes = np.linspace(0, 1 , N_nodes_CG )\n",
    "dx = np.diff(x_nodes)\n",
    "# space to store our discretisaton matrices\n",
    "K = np.zeros((N_nodes_CG - 2, N_nodes_CG - 2))\n",
    "RHS = np.zeros(N_nodes_CG - 2)\n",
    "\n",
    "K = np.diag(1. / dx[:-1]  +  1. / dx[1:] , k=0) \\\n",
    "    - np.diag(1. / dx[1:-1]   , k=-1) \\\n",
    "    - np.diag(1. / dx[1:-1]   , k=1)\n",
    "\n",
    "# form RHS vector by integrating function f multiplied by basis function\n",
    "# loop over internal nodes\n",
    "for node in range(1, N_nodes_CG - 1):\n",
    "    # and integrate our function multiplied by the corresponding cts basis function  \n",
    "    phi_i = hat_function(node, x_nodes)\n",
    "    integrand = lambda x : f(x) * phi_i(x)\n",
    "    # simpsons with number intervals = 2 can integrate this exactly\n",
    "    RHS[node-1] = simpsons_rule(x_nodes[node-1], x_nodes[node+1], integrand, 2 )\n",
    "\n",
    "    \n",
    "# Add in the extra entries due to the inhomogeneous BCs\n",
    "\n",
    "# At the left the integral is only non-zero when phi_i and phi_0 both have\n",
    "# support - this only occurs over the first element when i=1 (remembering that i=0\n",
    "# isn't in our trial space. The integrand is then\n",
    "# uL multiplied by the derivative of \\phi_1 in the first cell (1/dx[0])\n",
    "# multiplied by the derivative of \\phi_0 in the first cell (-1/dx[0]).\n",
    "# This is a constant, and hence to do the integral we just need to \n",
    "# multiply by the size of the cell (dx[0]):\n",
    "RHS[0] = RHS[0] - (uL * 1/dx[0] * (-1/dx[0]))*dx[0]\n",
    "# and similarly for the RHS\n",
    "RHS[-1] = RHS[-1] - (uR * (-1/dx[-1]) * (1/dx[-1]))*dx[-1]\n",
    "\n",
    "u = sl.solve(K,RHS)\n",
    "\n",
    "fig = plt.figure(figsize=(8, 6))\n",
    "ax1 = fig.add_subplot(111)\n",
    "ax1.set_xlabel('$x$', fontsize=16)\n",
    "ax1.set_ylabel('$u(x)$', fontsize=16)\n",
    "ax1.set_title('Steady state diffusion solve', fontsize=16)\n",
    "ax1.plot(x_nodes[1:-1], u, 'bo-', label='FE solution')\n",
    "x_fine = np.linspace(0, 1, 1000)\n",
    "ax1.plot(x_fine, u_exact(x_fine), 'k-', label='exact solution')\n",
    "ax1.legend(loc='best', fontsize=16);\n",
    "\n",
    "print('error (RMS at nodes only) = ', \n",
    "      sl.norm(u - u_exact(x_nodes[1:-1]) )\n",
    "      /np.sqrt(len(u)) )"
   ]
  },
  {
   "cell_type": "markdown",
   "metadata": {},
   "source": [
    "## Homework - Another BVP with a slightly more complex RHS\n",
    "\n",
    "Consider the problem\n",
    "\n",
    "$$u'' = x \\;\\;\\;\\;\\;\\;\\text{or}\\;\\;\\; -u'' = -x.$$\n",
    "\n",
    "Integrate up twice to obtain the exact solution with two arbitrary constants of integration.\n",
    "\n",
    "Consider the domain and use the the boundary conditions\n",
    "\n",
    "$$u(0) = 0, \\;\\;\\;\\;\\;\\; u(1)=1,$$\n",
    "\n",
    "to fix the values of the two constants in your exact solution.\n",
    "\n",
    "Solve the problem using the finite element method and compare with your exact solution."
   ]
  },
  {
   "cell_type": "code",
   "execution_count": 28,
   "metadata": {},
   "outputs": [
    {
     "name": "stdout",
     "output_type": "stream",
     "text": [
      "error (RMS at nodes only) =  2.9060631111760165e-16\n"
     ]
    },
    {
     "data": {
      "image/png": "[encoded data removed]",
      "text/plain": [
       "<Figure size 576x432 with 1 Axes>"
      ]
     },
     "metadata": {
      "needs_background": "light"
     },
     "output_type": "display_data"
    }
   ],
   "source": [
    "uL = 0.\n",
    "uR = 1.\n",
    "\n",
    "def f(x):\n",
    "    return -x\n",
    "\n",
    "def u_exact(x):\n",
    "    return (x**3)/6. + (5./6.)*x\n",
    "\n",
    "\n",
    "N_elements_CG = 11\n",
    "N_nodes_CG = N_elements_CG + 1\n",
    "\n",
    "x_nodes = np.linspace(0, 1 , N_nodes_CG )\n",
    "dx = np.diff(x_nodes)\n",
    "# space to store our discretisaton matrices\n",
    "K = np.zeros((N_nodes_CG - 2, N_nodes_CG - 2))\n",
    "RHS = np.zeros(N_nodes_CG - 2)\n",
    "\n",
    "K = np.diag(1. / dx[:-1]  +  1. / dx[1:] , k=0) \\\n",
    "    - np.diag(1. / dx[1:-1]   , k=-1) \\\n",
    "    - np.diag(1. / dx[1:-1]   , k=1)\n",
    "\n",
    "# form RHS vector by integrating function f multiplied by basis function\n",
    "# loop over internal nodes\n",
    "for node in range(1, N_nodes_CG - 1):\n",
    "    # and integrate our function multiplied by the corresponding cts basis function  \n",
    "    phi_i = hat_function(node, x_nodes)\n",
    "    integrand = lambda x : f(x) * phi_i(x)\n",
    "    # simpsons with number intervals = 2 can integrate this exactly\n",
    "    RHS[node-1] = simpsons_rule(x_nodes[node-1], x_nodes[node+1], integrand, 2 )\n",
    "\n",
    "    \n",
    "# Add in the extra entries due to the inhomogeneous BCs\n",
    "\n",
    "# At the left the integral is only non-zero when phi_i and phi_0 both have\n",
    "# support - this only occurs over the first element when i=1 (remembering that i=0\n",
    "# isn't in our trial space. The integrand is then\n",
    "# uL multiplied by the derivative of \\phi_1 in the first cell (1/dx[0])\n",
    "# multiplied by the derivative of \\phi_0 in the first cell (-1/dx[0]).\n",
    "# This is a constant, and hence to do the integral we just need to \n",
    "# multiply by the size of the cell (dx[0]):\n",
    "RHS[0] = RHS[0] - (uL * 1/dx[0] * (-1/dx[0]))*dx[0]\n",
    "# and similarly for the RHS\n",
    "RHS[-1] = RHS[-1] - (uR * (-1/dx[-1]) * (1/dx[-1]))*dx[-1]\n",
    "\n",
    "u = sl.solve(K,RHS)\n",
    "\n",
    "fig = plt.figure(figsize=(8, 6))\n",
    "ax1 = fig.add_subplot(111)\n",
    "ax1.set_xlabel('$x$', fontsize=16)\n",
    "ax1.set_ylabel('$u(x)$', fontsize=16)\n",
    "ax1.set_title('Steady state diffusion solve', fontsize=16)\n",
    "ax1.plot(x_nodes[1:-1], u, 'bo-', label='FE solution')\n",
    "x_fine = np.linspace(0, 1, 1000)\n",
    "ax1.plot(x_fine, u_exact(x_fine), 'k-', label='exact solution')\n",
    "ax1.legend(loc='best', fontsize=16);\n",
    "\n",
    "print('error (RMS at nodes only) = ', \n",
    "      sl.norm(u - u_exact(x_nodes[1:-1]) )\n",
    "      /np.sqrt(len(u)) )"
   ]
  },
  {
   "cell_type": "markdown",
   "metadata": {},
   "source": [
    "## Homework - A more complex BVP (method of manufactured solutions)\n",
    "\n",
    "Consider the solution function\n",
    "\n",
    "$$ u(x) = -6 x + x^3 + \\frac{5}{\\sin(1)}\\sin(x). $$\n",
    "\n",
    "Verify that $u(0)=0$ and $u(1)=0$ for this function.\n",
    "\n",
    "Compute\n",
    "\n",
    "$$ f := u'' + u.$$\n",
    "\n",
    "Solve the problem \n",
    "\n",
    "$$ u'' + u = f,$$\n",
    "\n",
    "with the $f$ you've calculated on the interval $[0,1]$, with homogeneous Dirichlet BCs.\n",
    "\n",
    "\n",
    "If you computed $f$ correctly, and implemented your solver correctly, you should be able to demonstrate convergence to the exact solution we started with.\n",
    "\n",
    "[Hint: the solver for this problem involve use of the discretisation matrix $A$ we've used muiltupled times for simple BVPs, along with the mass matrix $M$].\n"
   ]
  },
  {
   "cell_type": "code",
   "execution_count": 31,
   "metadata": {},
   "outputs": [
    {
     "name": "stdout",
     "output_type": "stream",
     "text": [
      "error (RMS) =  1.6532517164756132e-05\n"
     ]
    },
    {
     "data": {
      "image/png": "[encoded data removed]",
      "text/plain": [
       "<Figure size 576x432 with 1 Axes>"
      ]
     },
     "metadata": {
      "needs_background": "light"
     },
     "output_type": "display_data"
    }
   ],
   "source": [
    "uL = 0.\n",
    "uR = 0.\n",
    "\n",
    "def f(x):\n",
    "    return x**3\n",
    "\n",
    "def u_exact(x):\n",
    "    return -6*x + x**3 + 5*np.sin(x)/np.sin(1)\n",
    "\n",
    "\n",
    "N_elements_CG = 11\n",
    "N_nodes_CG = N_elements_CG + 1\n",
    "\n",
    "x_nodes = np.linspace(0, 1 , N_nodes_CG )\n",
    "dx = np.diff(x_nodes)\n",
    "# space to store our discretisaton matrices\n",
    "K = np.zeros((N_nodes_CG - 2, N_nodes_CG - 2))\n",
    "Mass = np.zeros((N_nodes_CG - 2, N_nodes_CG - 2))\n",
    "RHS = np.zeros(N_nodes_CG - 2)\n",
    "\n",
    "# construct mass matrix\n",
    "Mass_full = mass_matrix(x_nodes)\n",
    "# we don't want the full mass matrix for this problem with Dirichlet conditions\n",
    "# so just grab the internal bit\n",
    "Mass = Mass_full[1:-1,1:-1]\n",
    "\n",
    "# construct discretisation matrix for second deriv\n",
    "K = np.diag(1. / dx[:-1]  +  1. / dx[1:] , k=0) \\\n",
    "    - np.diag(1. / dx[1:-1]   , k=-1) \\\n",
    "    - np.diag(1. / dx[1:-1]   , k=1)\n",
    "\n",
    "# form RHS vector by integrating function f multiplied by basis function\n",
    "# loop over internal nodes\n",
    "for node in range(1, N_nodes_CG - 1):\n",
    "    # and integrate our function multiplied by the corresponding cts basis function  \n",
    "    phi_i = hat_function(node, x_nodes)\n",
    "    integrand = lambda x : f(x) * phi_i(x)\n",
    "    # we need a higher number of intervals to do this accurately with non-uniform mesh\n",
    "    # but trivial if we split the integrals over each individual element ( as we would\n",
    "    # with assembly of course)\n",
    "    RHS[node-1] = simpsons_rule(x_nodes[node-1], x_nodes[node+1], integrand, 2 )\n",
    "\n",
    "    \n",
    "# Add in the extra entries due to the inhomogeneous Dirichlet BCs\n",
    "\n",
    "# At the left the integral is only non-zero when phi_i and phi_0 both have\n",
    "# support - this only occurs over the first element. The integrand is then\n",
    "# uL multiplied by the derivative of \\phi_1 in the first cell (1/dx[0])\n",
    "# multiplied by the derivative of \\phi_0 in the first cell (-1/dx[0]).\n",
    "# This is a constant, and hence to do the integral we just need to \n",
    "# multiply by the size of the cell (dx[0]):\n",
    "RHS[0] = RHS[0] - (uL * 1/dx[0] * (-1/dx[0]))*dx[0]\n",
    "# and similarly for the RHS\n",
    "RHS[-1] = RHS[-1] - (uR * (-1/dx[-1]) * (1/dx[-1]))*dx[-1]\n",
    "\n",
    "Disc = -K + Mass         ##################!!!!!!!!!!!!!!!!?????????????????????\n",
    "u = sl.solve(Disc, RHS)\n",
    "\n",
    "fig = plt.figure(figsize=(8, 6))\n",
    "ax1 = fig.add_subplot(111)\n",
    "ax1.set_xlabel('$x$', fontsize=16)\n",
    "ax1.set_ylabel('$u(x)$', fontsize=16)\n",
    "ax1.set_title('Steady state diffusion solve', fontsize=16)\n",
    "ax1.plot(x_nodes[1:-1], u, 'bo-', label='FE solution')\n",
    "x_fine = np.linspace(0, 1, 1000)\n",
    "ax1.plot(x_fine, u_exact(x_fine), 'k-', label='exact solution')\n",
    "ax1.legend(loc='best', fontsize=16);\n",
    "\n",
    "print('error (RMS) = ', \n",
    "      sl.norm(u - u_exact(x_nodes[1:-1]) )\n",
    "      /np.sqrt(len(u)) )"
   ]
  },
  {
   "cell_type": "markdown",
   "metadata": {},
   "source": [
    "## Homework - A problem with non-constant coefficients [$\\star\\star$]\n",
    "\n",
    "The next step in complexity is thinking about how we would go about solving problems with non-constant coefficients.\n",
    "\n",
    "The added complexity here is that we need to incorporate the variation of coefficients when we compute the entries of the LHS discretisation matrices\n",
    "\n",
    "For example consider the general diffusion like problem\n",
    "\n",
    "$$ -(au')' = f, $$\n",
    "\n",
    "where $a\\equiv a(x)$ is a potentially non-constant diffusion coefficient.\n",
    "\n",
    "Consider diffusion of heat in a bar where $f(x)$ represents a hear source and $a(x)$ represents the heat conductivity.\n",
    "\n",
    "Suppose we are in the interval $I=[0,1]$ with the completely general [*Robin boundary conditions*](https://en.wikipedia.org/wiki/Robin_boundary_condition)\n",
    "\n",
    "$$ au'(0) = C_L\\,(u(0) - g_L), \\;\\;\\;\\;\\; au'(1) = C_R\\,(u(1) - g_R).$$\n",
    "\n",
    "The parameters $C_L$ and $C_R$ can be used to control the relative contributions of the Dirichlet and Neumann conditions, with $g_L$ and $g_R$ the applied value of the BC.  For example, in the limit of $C$ being small we recover a homogeneous Neumann condition (and we are free to choose the $C$'s to be zero of course), and in the large limit we approximate a Dirichlet BC.  Note that this means if we implement a general solver with these Robin BC, through the choice of $C$ very large or very small (or actually zero), we approximate the implementation of these BCs.\n",
    "\n",
    "Try developing a solver for this case and apply it to a problem where the diffusivity is given by\n",
    "\n",
    "$$ a(x) = 0.1(1 - 0.5x),$$\n",
    "\n",
    "the source by\n",
    "\n",
    "$$ f(x) = 10(x - 0.6)^4,$$\n",
    "\n",
    "and with the BCs\n",
    "\n",
    "$$u(0) = -1, \\;\\;\\;\\;\\; u'(1) = 0.$$"
   ]
  },
  {
   "cell_type": "code",
   "execution_count": null,
   "metadata": {},
   "outputs": [],
   "source": [
    "def u_exact(x):\n",
    "    return \n",
    "    \n",
    "def f(x):\n",
    "    return 10*(x-0.6)**4"
   ]
  },
  {
   "cell_type": "markdown",
   "metadata": {},
   "source": [
    "## Homework - Approximation using a discontinuous function [$\\star$]\n",
    "\n",
    "We saw in the lecture how to approximate a given function using a p/w linear **continuous** function via $L^2$ projection (which involved deriving the system with the mass matrix and solving for the weights in our expansion in terms of the basis functions).\n",
    "\n",
    "We can generalise this to a case where we approximate our given function with a p/w linear **discontinuous** function.  This essentially means that instead of having one unknown at every node, we actually have two, each of which \"belongs\" to the element either side of the mesh vertex.\n",
    "\n",
    "We thus have more degrees of freedom to solve for (so we expect an improved solution), and need to think about the appropriate set of test functions to use to obtain the appropriately sizes square discrete system to solve.  To do this we simply split our basis functions so each of them is only half of the hat function.\n",
    "\n",
    "Suggest you take a look at my solution and try to follow what is going on."
   ]
  },
  {
   "cell_type": "markdown",
   "metadata": {},
   "source": [
    "## Homework - Errors in function approximation [$\\star$]\n",
    "\n",
    "Now compute the $L^2$ norms of the errors in the three different approximations from the previous question."
   ]
  }
 ],
 "metadata": {
  "celltoolbar": "Slideshow",
  "kernelspec": {
   "display_name": "Python 3",
   "language": "python",
   "name": "python3"
  },
  "language_info": {
   "codemirror_mode": {
    "name": "ipython",
    "version": 3
   },
   "file_extension": ".py",
   "mimetype": "text/x-python",
   "name": "python",
   "nbconvert_exporter": "python",
   "pygments_lexer": "ipython3",
   "version": "3.7.3"
  },
  "latex_envs": {
   "LaTeX_envs_menu_present": true,
   "autoclose": false,
   "autocomplete": true,
   "bibliofile": "biblio.bib",
   "cite_by": "apalike",
   "current_citInitial": 1,
   "eqLabelWithNumbers": true,
   "eqNumInitial": 1,
   "hotkeys": {
    "equation": "Ctrl-E",
    "itemize": "Ctrl-I"
   },
   "labels_anchors": false,
   "latex_user_defs": false,
   "report_style_numbering": false,
   "user_envs_cfg": false
  },
  "toc": {
   "base_numbering": "1",
   "nav_menu": {},
   "number_sections": true,
   "sideBar": true,
   "skip_h1_title": false,
   "title_cell": "Table of Contents",
   "title_sidebar": "Contents",
   "toc_cell": true,
   "toc_position": {},
   "toc_section_display": true,
   "toc_window_display": false
  }
 },
 "nbformat": 4,
 "nbformat_minor": 4
}
