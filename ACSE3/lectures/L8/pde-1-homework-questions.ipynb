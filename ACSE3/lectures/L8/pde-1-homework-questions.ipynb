{
 "cells": [
  {
   "cell_type": "markdown",
   "metadata": {
    "slideshow": {
     "slide_type": "slide"
    }
   },
   "source": [
    "# ACSE-3 (Numerical Methods) <a class=\"tocSkip\">\n",
    "\n",
    "## Lecture 8: Partial Differential Equations (PDEs) 1 <a class=\"tocSkip\">\n",
    "    \n",
    "### Homework exercises - solutions <a class=\"tocSkip\">"
   ]
  },
  {
   "cell_type": "markdown",
   "metadata": {
    "toc": true
   },
   "source": [
    "<h1>Table of Contents<span class=\"tocSkip\"></span></h1>\n",
    "<div class=\"toc\"><ul class=\"toc-item\"><li><span><a href=\"#Homework\" data-toc-modified-id=\"Homework-1\"><span class=\"toc-item-num\">1&nbsp;&nbsp;</span>Homework</a></span><ul class=\"toc-item\"><li><span><a href=\"#Homework---Stability-study-for-advection-diffusion-using-FTCS\" data-toc-modified-id=\"Homework---Stability-study-for-advection-diffusion-using-FTCS-1.1\"><span class=\"toc-item-num\">1.1&nbsp;&nbsp;</span>Homework - Stability study for advection-diffusion using FTCS</a></span></li><li><span><a href=\"#Homework---An-analytical-solution-to-advection-diffusion\" data-toc-modified-id=\"Homework---An-analytical-solution-to-advection-diffusion-1.2\"><span class=\"toc-item-num\">1.2&nbsp;&nbsp;</span>Homework - An analytical solution to advection-diffusion</a></span><ul class=\"toc-item\"><li><span><a href=\"#Solution---An-analytical-solution-to-advection-diffusion\" data-toc-modified-id=\"Solution---An-analytical-solution-to-advection-diffusion-1.2.1\"><span class=\"toc-item-num\">1.2.1&nbsp;&nbsp;</span>Solution - An analytical solution to advection-diffusion</a></span></li></ul></li><li><span><a href=\"#Homework---Pure-advection---impact-of-time-step\" data-toc-modified-id=\"Homework---Pure-advection---impact-of-time-step-1.3\"><span class=\"toc-item-num\">1.3&nbsp;&nbsp;</span>Homework - Pure advection - impact of time step</a></span><ul class=\"toc-item\"><li><span><a href=\"#Solution---Pure-advection---impact-of-time-step\" data-toc-modified-id=\"Solution---Pure-advection---impact-of-time-step-1.3.1\"><span class=\"toc-item-num\">1.3.1&nbsp;&nbsp;</span>Solution - Pure advection - impact of time step</a></span></li></ul></li></ul></li></ul></div>"
   ]
  },
  {
   "cell_type": "code",
   "execution_count": 1,
   "metadata": {},
   "outputs": [],
   "source": [
    "%matplotlib inline\n",
    "import numpy as np\n",
    "import matplotlib.pyplot as plt\n",
    "from pprint import pprint\n",
    "# the following allows us to plot triangles indicating convergence order\n",
    "from mpltools import annotation"
   ]
  },
  {
   "cell_type": "markdown",
   "metadata": {},
   "source": [
    "# Homework\n"
   ]
  },
  {
   "cell_type": "markdown",
   "metadata": {},
   "source": [
    "## Homework - Stability study for advection-diffusion using FTCS\n",
    "\n",
    "Play around with the example from the lecture in the section \"Stability study for advection-diffusion\". In particular play around with the physical and numerical parameters and investigate further the interplay between these, the locations of eigenvalues in the complex plane, and the observed stability of the numerical solver."
   ]
  },
  {
   "cell_type": "markdown",
   "metadata": {},
   "source": [
    "## Homework - An analytical solution to advection-diffusion\n",
    "\n",
    "An exact solution to the advection-diffusion equation is given by\n",
    "\n",
    "\n",
    "$$ c(x,t) = \\frac{1}{\\sqrt{4\\pi \\, \\kappa \\,t}}\\exp\\left  (-\\frac{(x-Ut)^2}{4\\kappa \\, t}\\right).$$\n",
    "\n",
    "\n",
    "1. Note that this holds in an infinite domain - we can make use of it only as long as our numerical solution is far away from boundaries, or in a periodic domain as long as the solution behaviour does not start to encroach on itself.\n",
    "\n",
    "\n",
    "2. The initial condition that this solution corresponds to is a [Dirac-delta function](https://en.wikipedia.org/wiki/Dirac_delta_function). We clearly can't represent this on our mesh as it has infinitesimal thickness - all sorts of problems would arise if we tried to. But what we can do is assume that our simulation starts at some $t>0$ and initialise our problem with the corresponding exact solution (which for $t>0$ is a Gaussian and for sufficiently large times can be represented on our mesh).\n",
    "\n",
    "\n",
    "Write a function to evaluate this exact analytical solution and use it to initialise a simulation and plot a comparison between the exact and analytical solution at later times.\n",
    "\n",
    "I suggest you use periodic boundary conditions (e.g. your starting point could be our function from the lecture `solve_adv_diff_Gaussian2`).\n",
    "\n",
    "First try selecting some appropriate physical and numerical parameters such that you have a stable solution and avoid boundaries. Then try refining the spatial and temporal mesh to see if your solution gets closer to the exact solution."
   ]
  },
  {
   "cell_type": "markdown",
   "metadata": {},
   "source": [
    "## Homework - Pure advection - impact of time step\n",
    "\n",
    "Write a solver for a pure advection problem in a periodic domain using forward Euler with upwind differences in space and with a Gaussian initial condition.\n",
    "\n",
    "First test that it works/fails based on the CFL condition.\n",
    "\n",
    "Then update the solver such that it selects the timestep automatically to satisfy a user-defined target Courant number, e.g. look to enforce a Courant number of 0.8."
   ]
  }
 ],
 "metadata": {
  "celltoolbar": "Slideshow",
  "kernelspec": {
   "display_name": "Python 3",
   "language": "python",
   "name": "python3"
  },
  "language_info": {
   "codemirror_mode": {
    "name": "ipython",
    "version": 3
   },
   "file_extension": ".py",
   "mimetype": "text/x-python",
   "name": "python",
   "nbconvert_exporter": "python",
   "pygments_lexer": "ipython3",
   "version": "3.7.3"
  },
  "latex_envs": {
   "LaTeX_envs_menu_present": true,
   "autoclose": false,
   "autocomplete": true,
   "bibliofile": "biblio.bib",
   "cite_by": "apalike",
   "current_citInitial": 1,
   "eqLabelWithNumbers": true,
   "eqNumInitial": 1,
   "hotkeys": {
    "equation": "Ctrl-E",
    "itemize": "Ctrl-I"
   },
   "labels_anchors": false,
   "latex_user_defs": false,
   "report_style_numbering": false,
   "user_envs_cfg": false
  },
  "toc": {
   "base_numbering": "1",
   "nav_menu": {},
   "number_sections": true,
   "sideBar": true,
   "skip_h1_title": false,
   "title_cell": "Table of Contents",
   "title_sidebar": "Contents",
   "toc_cell": true,
   "toc_position": {},
   "toc_section_display": true,
   "toc_window_display": false
  }
 },
 "nbformat": 4,
 "nbformat_minor": 1
}
