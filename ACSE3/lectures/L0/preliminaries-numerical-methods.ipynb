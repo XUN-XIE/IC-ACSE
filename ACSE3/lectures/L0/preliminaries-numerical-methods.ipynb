{
 "cells": [
  {
   "cell_type": "markdown",
   "metadata": {
    "slideshow": {
     "slide_type": "slide"
    }
   },
   "source": [
    "# ACSE-3 (Numerical Methods) <a class=\"tocSkip\">\n",
    "\n",
    "## Some brief preliminaries and introductory comments <a class=\"tocSkip\">"
   ]
  },
  {
   "cell_type": "markdown",
   "metadata": {
    "toc": true
   },
   "source": [
    "<h1>Table of Contents<span class=\"tocSkip\"></span></h1>\n",
    "<div class=\"toc\"><ul class=\"toc-item\"><li><span><a href=\"#House-keeping\" data-toc-modified-id=\"House-keeping-1\"><span class=\"toc-item-num\">1&nbsp;&nbsp;</span>House-keeping</a></span></li><li><span><a href=\"#Learning-objectives-for-module\" data-toc-modified-id=\"Learning-objectives-for-module-2\"><span class=\"toc-item-num\">2&nbsp;&nbsp;</span>Learning objectives for module</a></span></li><li><span><a href=\"#Teaching-philosophy\" data-toc-modified-id=\"Teaching-philosophy-3\"><span class=\"toc-item-num\">3&nbsp;&nbsp;</span>Teaching philosophy</a></span><ul class=\"toc-item\"><li><span><a href=\"#Core-vs-optional-/-advanced-topics\" data-toc-modified-id=\"Core-vs-optional-/-advanced-topics-3.1\"><span class=\"toc-item-num\">3.1&nbsp;&nbsp;</span>Core vs optional / advanced topics</a></span></li></ul></li><li><span><a href=\"#Lecture-plan\" data-toc-modified-id=\"Lecture-plan-4\"><span class=\"toc-item-num\">4&nbsp;&nbsp;</span>Lecture plan</a></span></li><li><span><a href=\"#Textbooks-and-other-resources\" data-toc-modified-id=\"Textbooks-and-other-resources-5\"><span class=\"toc-item-num\">5&nbsp;&nbsp;</span>Textbooks and other resources</a></span></li><li><span><a href=\"#Assessment\" data-toc-modified-id=\"Assessment-6\"><span class=\"toc-item-num\">6&nbsp;&nbsp;</span>Assessment</a></span></li></ul></div>"
   ]
  },
  {
   "cell_type": "markdown",
   "metadata": {
    "collapsed": true,
    "slideshow": {
     "slide_type": "slide"
    }
   },
   "source": [
    "# House-keeping\n",
    "\n",
    "\n",
    "* Lecturer:  Matt Piggott\n",
    "\n",
    "\n",
    "* Email address: m.d.piggott@imperial.ac.uk\n",
    "\n",
    "\n",
    "* Office: RSM 4.82\n"
   ]
  },
  {
   "cell_type": "markdown",
   "metadata": {
    "slideshow": {
     "slide_type": "slide"
    }
   },
   "source": [
    "# Learning objectives for module\n",
    "\n",
    "\n",
    "* Appreciate some of the key concepts from numerical analysis, e.g. stability, convergence, order of accuracy etc.\n",
    "\n",
    "\n",
    "* Learn best practice in the solution of equations - e.g. code verification and validation, error analysis and control.\n",
    "\n",
    "\n",
    "* Learn about some of the key methods used to solve linear and nonlinear algebraic systems of equations, ordinary differential equation systems, and partial differential equation systems.\n",
    "\n",
    "\n",
    "* Practice the development of numerical methods in Python from first principles, as well as the use of Python libraries such as Scipy and Firedrake."
   ]
  },
  {
   "cell_type": "markdown",
   "metadata": {},
   "source": [
    "# Teaching philosophy\n",
    "\n",
    "This module sits at the interface of: \n",
    "\n",
    "\n",
    "1. applied science/engineering - we are ultimately motivated by the need to understand numerical methods designed to solve real world problems; \n",
    "\n",
    "\n",
    "2. mathematics - we need to pose our real world problems mathematically, and also use mathematics to derive algorithms/methods and establish properties which govern their strengths/weaknesses and optimal usage;\n",
    "\n",
    "\n",
    "3. computing - we need to be able to implement our developed algorithms in code (or call libraries which already contain their implementation), and apply them in anger to our problems.\n",
    "\n",
    "\n",
    "You all come to this module (and course) with a **range of backgrounds**: for many of you almost all of this module with be new, but some of you will have done an introductory course with a title such as \"numerical methods\", \"numerical analysis\", \"computational physics\", \"scientific computing\", ...\n",
    "\n",
    "\n",
    "To cater for this range of backgrounds, in this module we will start every topic assuming very little prior knowledge - generally just some familiarity with linear algebra and differential equations. However, to keep things interesting for those of you that do know some of this material we will try to progress reasonably rapidly to methods and results that are of real value to complex real world problems, and also move on to some more advanced topics.\n",
    "\n",
    "\n",
    "**We won't have time to cover all of the material provided in each notebook within the lecture time**. The rest should be considered as providing you with structured guidance for your **private study** (remember each module has a significant amount of expected \"independent study time\"). \n",
    "\n",
    "\n",
    "If you do not manage to reach the end of a lecture, even in this independent study time, or don't follow some of the mathematical content, **don't worry**. The key learning objectives for you are to understand the general ideas and concepts, how to formulate and solve problems, the \"best practice\" usage guidance associated with different types of method, and how to implement some of the methods we encounter either in our own code, or via calls to appropriate Python libraries.\n",
    "\n",
    "\n",
    "**Regarding the mathematical content**. Some mathematical background is given in places, this is intended to \"stretch you\" (i.e. to develop your mathematical knowledge and confidence) and to aid in your general understanding. However, for some of you some of this material may seem quite advanced. If this is the case for you then please **do not be disheartened**, just ignore this material. It's far more important that you **understand the \"big picture\" and are able to \"apply techniques\"**, it's far less important you understand the mathematical underpinning or are able to \"prove results\". \n",
    "\n",
    "I'm very happy to discuss concerns, as well as to provide guidance on **potential research projects** which make use of some of these methods in real applications, or indeed develop some of the methods themselves."
   ]
  },
  {
   "cell_type": "markdown",
   "metadata": {},
   "source": [
    "## Core vs optional / advanced topics\n",
    "\n",
    "To help you focus your finite time, I will add \"[$\\star$]\" to sections/exercises that can be considered optional - I include them for completeness in the notebooks, but if you're struggling for time you can completely ignore these parts.\n",
    "\n",
    "I may skim over them briefly in the lecture but I full-well expect not to have the time to cover these sections - if you do take a look at them feel free to ask questions, e.g. via Slack.\n",
    "\n",
    "In addition I will use \"[$\\star\\star$]\" to indicate sections/exercises that are optional because they are advanced/difficult."
   ]
  },
  {
   "cell_type": "markdown",
   "metadata": {
    "slideshow": {
     "slide_type": "slide"
    }
   },
   "source": [
    "# Lecture plan\n",
    "\n",
    "1. Mon 18 Nov. Interpolation and curve-fitting\n",
    "\n",
    "2. Tue 19 Nov. Numerical integration (or quadrature)\n",
    "\n",
    "3. Thu 21 Nov. Numerical linear solvers (e.g. Gaussian elimination)\n",
    "\n",
    "4. Fri 22 Nov. Nonlinear solvers (e.g. Newton's method)\n",
    "\n",
    "5. Mon 25 Nov. ODEs 1 (simple time-stepping schemes; stability\n",
    "\n",
    "6. Tue 26 Nov. ODEs 2 (more advanced time-steppers - Runge-Kutta and linear multistep methods)\n",
    "\n",
    "7. Thu 28 Nov. Numerical differentiation and BVPs (finite differences; shooting method)\n",
    "\n",
    "8. Fri 29 Nov. PDEs 1 (1D problems; advection and diffusion; stability)\n",
    "\n",
    "9. Mon 02 Dec. PDEs 2 (2D problems; incompressible computational fluid dynamics (CFD))\n",
    "\n",
    "10. Tue 03 Dec. FVM (finite volume methods; hyperbolic PDEs and compressible CFD)\n",
    "\n",
    "11. Thu 05 Dec. FEM 1 (finite element methods; weak forms, assembly and implementation)\n",
    "\n",
    "12. Fri 06 Dec. FEM 2 (finite element methods; 2D problems and computational fluid dynamics)\n",
    "\n"
   ]
  },
  {
   "cell_type": "markdown",
   "metadata": {},
   "source": [
    "# Textbooks and other resources\n",
    "\n",
    "The lecture material presented in this module is self-contained. The following represent some resources for additional reading.  Additional links to supporting web pages will also be given throughout.\n",
    "\n",
    "If you'd like additional suggestions just ask.\n",
    "\n",
    "\n",
    "* Practical Numerical Methods with Python, Lorena Barba, Ian Hawke and Bernard Knaepen [A MOOC with IPython Notebooks available at: https://github.com/numerical-mooc/numerical-mooc/wiki]\n",
    "\n",
    "\n",
    "* Numerical Methods in Engineering with Python 3, 3rd Edition, Jaan Kiusalaas\n",
    "\n",
    "\n",
    "* Fundamentals of Engineering Numerical Analysis, 2nd Edition, Parviz Moin\n",
    "\n",
    "\n",
    "* A First Course in the Numerical Analysis of Differential Equations, 2nd Edition, Arieh Iserles\n",
    "\n",
    "\n",
    "* Numerical Linear Algebra, Lloyd N. Trefethen and David Bau III \n",
    "\n",
    "\n",
    "* Finite Difference Methods for Ordinary and Partial Differential Equations: Steady-State and Time-dependent Problems, Randall LeVeque\n",
    "\n",
    "\n",
    "* Finite Volume Methods for Hyperbolic Problems, Randall LeVeque\n",
    "\n",
    "\n",
    "* Finite Elements and Fast Iterative Solvers: with Applications in Incompressible Fluid Dynamics, 2nd Edition, Howard Elman, David Silvester and Andy Wathen\n",
    "\n",
    "\n",
    "* Computational Methods for Fluid Dynamics, 3rd Edition, Joel Ferziger and Milovan Peric\n"
   ]
  },
  {
   "cell_type": "markdown",
   "metadata": {},
   "source": [
    "# Assessment\n",
    "\n",
    "\n",
    "- This module will be assessed via a piece of coursework.\n",
    "\n",
    "\n",
    "- The coursework definition and your submissions will both be in the form of Jupyter notebooks.\n",
    "\n",
    "\n",
    "- The format and content of the coursework will not be too dissimilar to the homework that accompanies every lecture. "
   ]
  }
 ],
 "metadata": {
  "celltoolbar": "Slideshow",
  "kernelspec": {
   "display_name": "Python 3",
   "language": "python",
   "name": "python3"
  },
  "language_info": {
   "codemirror_mode": {
    "name": "ipython",
    "version": 3
   },
   "file_extension": ".py",
   "mimetype": "text/x-python",
   "name": "python",
   "nbconvert_exporter": "python",
   "pygments_lexer": "ipython3",
   "version": "3.7.3"
  },
  "toc": {
   "base_numbering": 1,
   "nav_menu": {},
   "number_sections": true,
   "sideBar": true,
   "skip_h1_title": false,
   "title_cell": "Table of Contents",
   "title_sidebar": "Contents",
   "toc_cell": true,
   "toc_position": {},
   "toc_section_display": true,
   "toc_window_display": false
  }
 },
 "nbformat": 4,
 "nbformat_minor": 1
}
