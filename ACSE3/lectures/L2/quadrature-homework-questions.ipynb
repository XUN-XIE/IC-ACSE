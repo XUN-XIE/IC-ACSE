{
 "cells": [
  {
   "cell_type": "markdown",
   "metadata": {
    "slideshow": {
     "slide_type": "slide"
    }
   },
   "source": [
    "# ACSE-3 (Numerical Methods) <a class=\"tocSkip\">\n",
    "\n",
    "## Lecture 2: Numerical Integration (or Quadrature) <a class=\"tocSkip\">\n",
    "    \n",
    "###  Homework Exercises - Solutions<a class=\"tocSkip\">"
   ]
  },
  {
   "cell_type": "markdown",
   "metadata": {
    "toc": true
   },
   "source": [
    "<h1>Table of Contents<span class=\"tocSkip\"></span></h1>\n",
    "<div class=\"toc\"><ul class=\"toc-item\"><li><span><a href=\"#Homework\" data-toc-modified-id=\"Homework-1\"><span class=\"toc-item-num\">1&nbsp;&nbsp;</span>Homework</a></span><ul class=\"toc-item\"><li><span><a href=\"#Homework---Implement-the-composite-version-of-the-trapezoidal-rule\" data-toc-modified-id=\"Homework---Implement-the-composite-version-of-the-trapezoidal-rule-1.1\"><span class=\"toc-item-num\">1.1&nbsp;&nbsp;</span>Homework - Implement the composite version of the trapezoidal rule</a></span></li><li><span><a href=\"#Homework---Implement-Weddle's-rule\" data-toc-modified-id=\"Homework---Implement-Weddle's-rule-1.2\"><span class=\"toc-item-num\">1.2&nbsp;&nbsp;</span>Homework - Implement Weddle's rule</a></span></li><li><span><a href=\"#Homework---Midpoint-rule-error-[$\\star$]\" data-toc-modified-id=\"Homework---Midpoint-rule-error-[$\\star$]-1.3\"><span class=\"toc-item-num\">1.3&nbsp;&nbsp;</span>Homework - Midpoint rule error [$\\star$]</a></span></li><li><span><a href=\"#Homework---Derive-Simpson's-rule-as-quadratic-fit-[$\\star$]\" data-toc-modified-id=\"Homework---Derive-Simpson's-rule-as-quadratic-fit-[$\\star$]-1.4\"><span class=\"toc-item-num\">1.4&nbsp;&nbsp;</span>Homework - Derive Simpson's rule as quadratic fit [$\\star$]</a></span></li><li><span><a href=\"#Homework---Open-vs-closed-Newton-Cotes-[$\\star$]\" data-toc-modified-id=\"Homework---Open-vs-closed-Newton-Cotes-[$\\star$]-1.5\"><span class=\"toc-item-num\">1.5&nbsp;&nbsp;</span>Homework - Open vs closed Newton-Cotes [$\\star$]</a></span></li><li><span><a href=\"#Homework---Implement-adaptive-quadrature-[$\\star\\star$]\" data-toc-modified-id=\"Homework---Implement-adaptive-quadrature-[$\\star\\star$]-1.6\"><span class=\"toc-item-num\">1.6&nbsp;&nbsp;</span>Homework - Implement adaptive quadrature [$\\star\\star$]</a></span></li><li><span><a href=\"#Homework---Implement-a-&quot;composite&quot;-version-of-Gauss-Legendre-quadrature-[$\\star\\star$]\" data-toc-modified-id=\"Homework---Implement-a-&quot;composite&quot;-version-of-Gauss-Legendre-quadrature-[$\\star\\star$]-1.7\"><span class=\"toc-item-num\">1.7&nbsp;&nbsp;</span>Homework - Implement a \"composite\" version of Gauss-Legendre quadrature [$\\star\\star$]</a></span></li></ul></li></ul></div>"
   ]
  },
  {
   "cell_type": "code",
   "execution_count": 3,
   "metadata": {},
   "outputs": [],
   "source": [
    "%matplotlib inline\n",
    "import numpy as np\n",
    "import matplotlib.pyplot as plt\n",
    "# the following allows us to plot triangles indicating convergence order\n",
    "from mpltools import annotation\n",
    "# we're going to be using some SciPy in-built integration routines\n",
    "import scipy.integrate as si\n",
    "\n",
    "# font sizes for plots\n",
    "plt.rcParams['font.size'] = 12\n",
    "plt.rcParams['font.family'] = 'sans-serif'\n",
    "plt.rcParams['font.sans-serif'] = ['Arial', 'Dejavu Sans']"
   ]
  },
  {
   "cell_type": "markdown",
   "metadata": {},
   "source": [
    "# Homework"
   ]
  },
  {
   "cell_type": "markdown",
   "metadata": {},
   "source": [
    "## Homework - Implement the composite version of the trapezoidal rule\n",
    "\n",
    "In the lecture we implemented the naive version of the trapezoidal rule over multiple subintervals - we noted that this implementation has redundant function evaluations.\n",
    "\n",
    "Implement a composite version based upon the discussion in the lecture which minimises function evaluations and test it against the function `trapezoidal_rule`.\n",
    "\n",
    "Think about how you can make the *verification* of your new code against the one from the Lecture as rigorous as possible."
   ]
  },
  {
   "cell_type": "code",
   "execution_count": null,
   "metadata": {},
   "outputs": [],
   "source": [
    "def f(x):\n",
    "    return np.sin(x)\n",
    "\n",
    "def trapezoidal_rule(f, a, b, interval_number=10):\n",
    "    interval_size = (b-a) / interval_number\n",
    "    \n",
    "    xi = np.linspace(a, b, interval_number + 1)\n",
    "    \n",
    "    I_x = f(xi) * 2\n",
    "    I_x[0] -= f(xi[0])\n",
    "    I_x[-1] -= f(xi[-1])\n",
    "    I = np.sum(I_x) * interval_size / 2\n",
    "    \n",
    "    return I\n",
    "\n",
    "interval_numver = [2,4,8,16,32,64,100,1000]\n",
    "area = np.zeros(interval_numver)\n",
    "for i, num in enumerate(interval_numver):\n",
    "    area[i] = trapezoidal_rule(f, 0., np.pi, interval_number=num)\n",
    "    error[i] = np.abs(2 - area[i])\n",
    "    print('the approximation is {:f}, the corrsponding error is {:f}'.format(area[i], error[i]))\n"
   ]
  },
  {
   "cell_type": "markdown",
   "metadata": {},
   "source": [
    "## Homework - Implement Weddle's rule\n",
    "\n",
    "As explained in the lecture, we can implement Weddle's rule using appropriate calls to the `simpsons_composite_rule` function.\n",
    "\n",
    "Do this and try to recreate the convergence plot from the lecture:\n",
    "\n",
    "<img src=\"./figures/weddle_convergence.png\" width=500x>\n",
    "\n"
   ]
  },
  {
   "cell_type": "code",
   "execution_count": 11,
   "metadata": {},
   "outputs": [],
   "source": [
    "def simpsons_rule(a, b, function, number_intervals=10):\n",
    "    \"\"\" Function to evaluate Simpson's rule. \n",
    "    \n",
    "    Note that this implementation takes the function as an argument, \n",
    "    and evaluates this at the midpoint of subintervals in addition to the \n",
    "    end point. Hence additional information is generated and used through \n",
    "    additional function evaluations. \n",
    "    \n",
    "    This is different to the function/implementation available with SciPy  \n",
    "    where discrete data only is passed to the function. \n",
    "    \n",
    "    Bear this in mind when comparing results - there will be a factor of two\n",
    "    in the definition of \"n\" we need to be careful about!\n",
    "    \n",
    "    Also note that this version of the function performs redundant function \n",
    "    evaluations - see the **composite** implementation below.\n",
    "    \"\"\"\n",
    "\n",
    "    interval_size = (b - a)/number_intervals\n",
    "\n",
    "    assert interval_size > 0\n",
    "    assert type(number_intervals) == int\n",
    "\n",
    "    I_S = 0.0\n",
    "\n",
    "    # Loop to valuate Simpson's formula over each interval \n",
    "    for i in range(number_intervals):\n",
    "        # Find a, c, and b\n",
    "        this_bin_start = a + interval_size * (i)\n",
    "        this_bin_mid = this_bin_start + interval_size/2\n",
    "        this_bin_end = this_bin_start + interval_size\n",
    "        # Calculate the rule and add to running total.\n",
    "        I_S += (interval_size/6) * (function(this_bin_start) +\n",
    "                                  4 * function(this_bin_mid) + function(this_bin_end))\n",
    "\n",
    "    # Return our running total result\n",
    "    return I_S"
   ]
  },
  {
   "cell_type": "code",
   "execution_count": 12,
   "metadata": {},
   "outputs": [
    {
     "name": "stdout",
     "output_type": "stream",
     "text": [
      "Area 2    for Simpson = 1.9985707318238357 (error = 1.429268176e-03)\n",
      "Area 4    for Simpson = 1.9999831309459855 (error = 1.686905401e-05)\n",
      "Area 8    for Simpson = 1.9999997524545721 (error = 2.475454279e-07)\n",
      "Area 16   for Simpson = 1.9999999961908446 (error = 3.809155436e-09)\n",
      "Area 32   for Simpson = 1.9999999999407072 (error = 5.929279290e-11)\n",
      "Area 100  for Simpson = 1.9999999999999376 (error = 6.239453398e-14)\n",
      "Area 1000 for Simpson = 1.9999999999999991 (error = 8.881784197e-16)\n",
      "Area 2    for Simpson = 2.0045597549844207 (error = 4.559754984e-03)\n",
      "Area 4    for Simpson = 2.0002691699483877 (error = 2.691699484e-04)\n",
      "Area 8    for Simpson = 2.0000165910479355 (error = 1.659104794e-05)\n",
      "Area 16   for Simpson = 2.0000010333694127 (error = 1.033369413e-06)\n",
      "Area 32   for Simpson = 2.0000000645300018 (error = 6.453000179e-08)\n",
      "Area 100  for Simpson = 2.0000000006764709 (error = 6.764708793e-10)\n",
      "Area 1000 for Simpson = 2.0000000000000679 (error = 6.794564911e-14)\n"
     ]
    },
    {
     "ename": "NameError",
     "evalue": "name 'interval_sizes_T' is not defined",
     "output_type": "error",
     "traceback": [
      "\u001b[0;31m---------------------------------------------------------------------------\u001b[0m",
      "\u001b[0;31mNameError\u001b[0m                                 Traceback (most recent call last)",
      "\u001b[0;32m<ipython-input-12-e0064ac810c4>\u001b[0m in \u001b[0;36m<module>\u001b[0;34m\u001b[0m\n\u001b[1;32m     62\u001b[0m \u001b[0max1\u001b[0m\u001b[0;34m.\u001b[0m\u001b[0mloglog\u001b[0m\u001b[0;34m(\u001b[0m\u001b[0minterval_sizes_S\u001b[0m\u001b[0;34m,\u001b[0m \u001b[0merrors_S\u001b[0m\u001b[0;34m,\u001b[0m \u001b[0;34m'ro-'\u001b[0m\u001b[0;34m,\u001b[0m \u001b[0mlw\u001b[0m\u001b[0;34m=\u001b[0m\u001b[0;36m2\u001b[0m\u001b[0;34m,\u001b[0m \u001b[0mlabel\u001b[0m\u001b[0;34m=\u001b[0m\u001b[0;34m'Simpson'\u001b[0m\u001b[0;34m)\u001b[0m\u001b[0;34m\u001b[0m\u001b[0;34m\u001b[0m\u001b[0m\n\u001b[1;32m     63\u001b[0m \u001b[0;34m\u001b[0m\u001b[0m\n\u001b[0;32m---> 64\u001b[0;31m \u001b[0max1\u001b[0m\u001b[0;34m.\u001b[0m\u001b[0mloglog\u001b[0m\u001b[0;34m(\u001b[0m\u001b[0minterval_sizes_T\u001b[0m\u001b[0;34m,\u001b[0m \u001b[0merrors_T\u001b[0m\u001b[0;34m,\u001b[0m \u001b[0;34m'bo-'\u001b[0m\u001b[0;34m,\u001b[0m \u001b[0mlw\u001b[0m\u001b[0;34m=\u001b[0m\u001b[0;36m2\u001b[0m\u001b[0;34m,\u001b[0m \u001b[0mlabel\u001b[0m\u001b[0;34m=\u001b[0m\u001b[0;34m'Trapezoidal'\u001b[0m\u001b[0;34m)\u001b[0m\u001b[0;34m\u001b[0m\u001b[0;34m\u001b[0m\u001b[0m\n\u001b[0m\u001b[1;32m     65\u001b[0m \u001b[0max1\u001b[0m\u001b[0;34m.\u001b[0m\u001b[0mloglog\u001b[0m\u001b[0;34m(\u001b[0m\u001b[0minterval_sizes_M\u001b[0m\u001b[0;34m,\u001b[0m \u001b[0merrors_M\u001b[0m\u001b[0;34m,\u001b[0m \u001b[0;34m'ko-'\u001b[0m\u001b[0;34m,\u001b[0m \u001b[0mlw\u001b[0m\u001b[0;34m=\u001b[0m\u001b[0;36m2\u001b[0m\u001b[0;34m,\u001b[0m \u001b[0mlabel\u001b[0m\u001b[0;34m=\u001b[0m\u001b[0;34m'Midpoint'\u001b[0m\u001b[0;34m)\u001b[0m\u001b[0;34m\u001b[0m\u001b[0;34m\u001b[0m\u001b[0m\n\u001b[1;32m     66\u001b[0m \u001b[0max1\u001b[0m\u001b[0;34m.\u001b[0m\u001b[0mset_xlabel\u001b[0m\u001b[0;34m(\u001b[0m\u001b[0;34m'log(number_intervals)'\u001b[0m\u001b[0;34m,\u001b[0m \u001b[0mfontsize\u001b[0m\u001b[0;34m=\u001b[0m\u001b[0;36m16\u001b[0m\u001b[0;34m)\u001b[0m\u001b[0;34m\u001b[0m\u001b[0;34m\u001b[0m\u001b[0m\n",
      "\u001b[0;31mNameError\u001b[0m: name 'interval_sizes_T' is not defined"
     ]
    },
    {
     "data": {
      "image/png": "[encoded data removed]",
      "text/plain": [
       "<Figure size 504x504 with 1 Axes>"
      ]
     },
     "metadata": {
      "needs_background": "light"
     },
     "output_type": "display_data"
    }
   ],
   "source": [
    "def f(x):\n",
    "    \"\"\"The function we wish to integrate\"\"\"\n",
    "    return np.sin(x)\n",
    "\n",
    "def simpsons_composite_rule(a, b, function, number_intervals=10):\n",
    "    \"\"\"Function to evaluate the composite Simpson's rule only using\n",
    "    function evaluations at (number_intervals + 1) points.\n",
    "    \n",
    "    This implementation requires that the number of subintervals (number_intervals) be even\n",
    "    \"\"\"\n",
    "    assert number_intervals % 2 == 0, \"number_intervals is not even\"\n",
    "\n",
    "    interval_size = (b - a) / number_intervals\n",
    "    # start with the two end member values\n",
    "    I_cS2 = function(a) + function(b)\n",
    "\n",
    "    # add in those terms with a coefficient of 4\n",
    "    for i in range(1, number_intervals, 2):\n",
    "        I_cS2 += 4 * function(a + i * interval_size)\n",
    "\n",
    "    # and those terms with a coefficient of 2\n",
    "    for i in range(2, number_intervals-1, 2):\n",
    "        I_cS2 += 2 * function(a + i * interval_size)\n",
    "\n",
    "    return I_cS2 * (interval_size / 3.0)\n",
    "\n",
    "def weddle_rule(a, b, f, interval_number=10):\n",
    "    interval_size = (b - a) / interval_number\n",
    "    \n",
    "    assert interval_number % 2 == 0\n",
    "    assert b - a > 0\n",
    "    \n",
    "    IS1 = simpsons_composite_rule(a, b, f, interval_number)\n",
    "    IS2 = simpsons_composite_rule(a, b, f, interval_number * 2)\n",
    "    \n",
    "    return IS2 + (IS2 - IS1) / 15\n",
    "\n",
    "\n",
    "\n",
    "    \n",
    "# plot\n",
    "fig = plt.figure(figsize=(7, 7))\n",
    "ax1 = plt.subplot(111)\n",
    "\n",
    "interval_sizes_S = [2, 4, 8, 16, 32, 100, 1000]\n",
    "errors_S = np.zeros_like(interval_sizes_S, dtype='float64')\n",
    "areas_S = np.zeros_like(interval_sizes_S, dtype='float64')\n",
    "for (i, number_intervals) in enumerate(interval_sizes_S):\n",
    "    areas_S[i] = weddle_rule(0, np.pi, f, number_intervals)\n",
    "    errors_S[i] = abs(areas_S[i] - 2)\n",
    "    print('Area {:<4d} for Simpson = {:.16f} (error = {:.9e})'.format(\n",
    "        number_intervals, areas_S[i], errors_S[i]))\n",
    "\n",
    "ax1.loglog(interval_sizes_S, errors_S, 'ro-', lw=2, label='weddle')\n",
    "\n",
    "for (i, number_intervals) in enumerate(interval_sizes_S):\n",
    "    areas_S[i] = simpsons_rule(0, np.pi, f, number_intervals)\n",
    "    errors_S[i] = abs(areas_S[i] - 2)\n",
    "    print('Area {:<4d} for Simpson = {:.16f} (error = {:.9e})'.format(\n",
    "        number_intervals, areas_S[i], errors_S[i]))\n",
    "    \n",
    "ax1.loglog(interval_sizes_S, errors_S, 'ro-', lw=2, label='Simpson')\n",
    "\n",
    "ax1.loglog(interval_sizes_T, errors_T, 'bo-', lw=2, label='Trapezoidal')\n",
    "ax1.loglog(interval_sizes_M, errors_M, 'ko-', lw=2, label='Midpoint')\n",
    "ax1.set_xlabel('log(number_intervals)', fontsize=16)\n",
    "ax1.set_ylabel('log(error)', fontsize=16)\n",
    "ax1.set_title('Quadrature rule convergence', fontsize=16)\n",
    "ax1.legend(loc='best', fontsize=14)\n",
    "\n",
    "annotation.slope_marker((5e1, 2e-4), (-2, 1), invert=True, ax=ax1, \n",
    "                        size_frac=0.25, pad_frac=0.05, text_kwargs = dict(fontsize = 14))\n",
    "annotation.slope_marker((5e1, 5e-9), (-4, 1), invert=True, ax=ax1, \n",
    "                        size_frac=0.25, pad_frac=0.05, text_kwargs = dict(fontsize = 14));\n",
    "annotation.slope_marker((5e1, 5e-9), (-4, 1), invert=True, ax=ax1, \n",
    "                        size_frac=0.25, pad_frac=0.05, text_kwargs = dict(fontsize = 14));"
   ]
  },
  {
   "cell_type": "markdown",
   "metadata": {},
   "source": [
    "## Homework - Midpoint rule error [$\\star$]\n",
    "\n",
    "In class we stated that a bound on the midpoint rule's error is given by\n",
    "\n",
    "$$ \\left| E_M^n \\right| \\le \\frac{(b-a)^3}{24n^2}  \\max_{x\\in[a,b]}\\, \\left| f''(x) \\right|. $$\n",
    "\n",
    "And we noted that for midpoint (and all odd order Newton-Cotes rules including Simpson's rule) we gain an order of precision/accuracy over what we might expect, i.e. here this error bound indicates that the method is second-order accurate\n",
    "and integrates linear polynomials exactly.\n",
    "\n",
    "If we follow the error bound derivation we performed in lecture for the Trapezoidal rule, we would progress by\n",
    "taking $N=0$ (as the midpoint rule is fitting a constant, degree zero, function) and using our Lagrange remainder result to estimate the *interpolation error* over the interval $[a,b]$ as:\n",
    "\n",
    "$$R_0(x) = \\left(x - \\frac{1}{2}(a+b)\\right) {f'(c_x)}.$$\n",
    "\n",
    "Our Midpoint rule quadrature error over a single interval $[a,b]$ could then be estimated via\n",
    "\n",
    "\\begin{align*}\n",
    "E_M \\equiv E_0 = I - I_0 \n",
    "&= \\int_{a}^{b} f\\left ( x \\right )\\, dx - \\int_a^b\\,P_0\\left ( x \\right )\\,dx \\\\[5pt]\n",
    "&= \\int_{a}^{b} f\\left ( x \\right ) - P_0\\left ( x \\right ) \\, dx\\\\[5pt] \n",
    "&= \\int_{a}^{b} R_0\\left ( x \\right )\\, dx.\n",
    "\\end{align*}\n",
    "\n",
    "Substitute in the above expression for $R_0(x)$ and demonstrate that this leading order term in the error expansion is indeed zero.\n",
    "\n",
    "Once you've convinced yourself of this take a look at my derivation of the error bound which involves taking the next order term in the Taylor series expansion about the midpoint of an interval."
   ]
  },
  {
   "cell_type": "markdown",
   "metadata": {},
   "source": [
    "## Homework - Derive Simpson's rule as quadratic fit [$\\star$]\n",
    "\n",
    "We stated in the lecture that:\n",
    "\n",
    "Note that an alternate derivation of the same rule involves fitting a *quadratic function* (i.e. $P_2(x)$ rather than the constant and linear approximations already considered) that interpolates the integral at the two end points of the interval, $a$ and $b$, as well as at the midpoint, $c = \\left ( a+b\\right )/2$, and calculating the integral under that polynomial approximation. We'll come back to this idea a bit later.\n",
    "\n",
    "Take a look also at the Newton-Cotes section of the lecture where we derived the Trapezoidal rule with the choice $N=1$. We arrive at Simpson's (1/3) rule if we repeat this process with $N=2$.\n",
    "\n",
    "Do this.\n",
    "\n",
    "**Hint:** Note that following the derivation of the Trapezoidal rule from lectures you will need to evaluate integrals of the form\n",
    "\n",
    "\\begin{align*}\n",
    "A_0 &= \\int_{x_0}^{x_2}\\, \\ell_0(x)\\, dx \\\\[5pt]\n",
    "& = \\frac{1}{(x_0-x_1)(x_0-x_2)}\\int_{x_0}^{x_2}\\, (x-x_1)(x - x_2) \\, dx.\n",
    "\\end{align*}\n",
    "\n",
    "This integral is much easier to do if you introduce the new variable (i.e. a [change of variables](https://en.wikipedia.org/wiki/Integration_by_substitution)) $\\xi$ such that $d\\xi = dx$ and $\\xi=0$ corresponds to $x_1$, $\\xi = -h$ corresponds to $x_0$ and $\\xi = h$ corresponds to $x_2$. Note therefore that the interval size $x_2-x_0 = 2h$. \n",
    "\n",
    "Your integral then becomes\n",
    "\n",
    "\\begin{align*}\n",
    "A_0 & = \\frac{1}{(x_0-x_1)(x_0-x_2)}\\int_{x_0}^{x_2}\\, (x-x_1)(x - x_2) \\, dx \\\\[5pt]\n",
    "& = \\frac{1}{(-h)(-2h)}\\int_{-h}^{h}\\, \\xi(\\xi - h) \\, d\\xi = \\ldots = \\frac{h}{3}.\n",
    "\\end{align*}\n",
    "\n",
    "Fill in the gaps and do the other integrals to complete the derivation."
   ]
  },
  {
   "cell_type": "markdown",
   "metadata": {},
   "source": [
    "## Homework - Open vs closed Newton-Cotes [$\\star$]\n",
    "\n",
    "Implement an open Newton-Cotes formula and use it to integrate $1/\\sqrt{x}$  from 0 to 1. \n",
    "\n",
    "**Hint:** Check the open formulae here <https://en.wikipedia.org/wiki/Newton%E2%80%93Cotes_formulas#Open_Newton%E2%80%93Cotes_formulas>.  My solution makes use of  Milne's rule which evaluates the function at the appropriate points within each sub-interval, and so uses more function evaluations for a given number of intervals compared to the composite version of Simpson's rule.\n",
    "\n",
    "Compare your solution with a closed scheme such as Simpson's, e.g. by recreating a convergence plot such as that presented in the Lecture.\n",
    "\n",
    "**Hint:**  Note that to avoid divide by zero warning you could define your integrand via something like:\n",
    "`lambda x: 1./(np.maximum(1e-16,np.sqrt(x)))`"
   ]
  },
  {
   "cell_type": "code",
   "execution_count": 14,
   "metadata": {},
   "outputs": [
    {
     "name": "stdout",
     "output_type": "stream",
     "text": [
      "0 1666666666666667.5\n",
      "1 833333333333334.5\n",
      "2 416666666666668.1\n",
      "3 208333333333335.0\n",
      "4 104166666666668.39\n",
      "5 52083333333335.125\n",
      "6 33333333333335.184\n",
      "7 3333333333335.258\n"
     ]
    }
   ],
   "source": [
    "def f(x):\n",
    "    return 1. / np.sqrt(x)\n",
    "\n",
    "a = 0.\n",
    "b = 1.\n",
    "number_intervals = [2,4,8,16,32,64,100,1000]\n",
    "\n",
    "I = np.zeros(len(number_intervals))\n",
    "for i, number_interval in enumerate(number_intervals):\n",
    "    I[i] = simpsons_composite_rule(a, b, lambda x: 1./(np.maximum(1e-16,np.sqrt(x))), number_interval)\n",
    "    print(i, I[i])\n",
    "    "
   ]
  },
  {
   "cell_type": "markdown",
   "metadata": {},
   "source": [
    "## Homework - Implement adaptive quadrature [$\\star\\star$]\n",
    "\n",
    "Based on the algorithm description from the lecture, try to implement an adaptive quadrature algorithm and apply it to our complicated function given in the following cell.\n",
    "\n",
    "**Hint:**  My function and docstring starts\n",
    "\n",
    "```Python\n",
    "def adaptive_simpson_recursive(a, b, function, tol, S):\n",
    "    \"\"\" S is a Simpson rule estimate of the integral over interval [a,b]\n",
    "    This function computes S2 by splitting the current interval in half \n",
    "    and evaluating Simpson's rule over each of the two resulting sub-intervals. \n",
    "    It then evaluates an estimate of the quadrature error over the interval as \n",
    "    (S2-S)/15, and if we have not yet reached the desired error tolerance it \n",
    "    divides the current interval [a,b] in two and applies the same function to \n",
    "    each half: [a,c] and [c,b]. \n",
    "    If an error tolerance has been reached it returns the Weddle estimate for\n",
    "    the integral over [a,b]: S2 + (S2 - S)/15.0.\n",
    "    The function recursively sums the result from each subinterval considered. \n",
    "    `locs' is a global variable that contains all the locations we evaluate the\n",
    "    function at.\n",
    "    \"\"\"\n",
    "```"
   ]
  },
  {
   "cell_type": "code",
   "execution_count": null,
   "metadata": {},
   "outputs": [],
   "source": [
    "# a more complex example (taken from Moin which quotes the exact integral as −0.56681975015)\n",
    "\n",
    "def f(x):\n",
    "    \"\"\"The function we wish to integrate.\n",
    "    \n",
    "    This a more complicated example which has been taken from the book by Moin.\n",
    "    \"\"\"\n",
    "    return (10*np.exp(-50*np.abs(x)) -\n",
    "            (0.01/(np.power(x-0.5, 2) + 0.001)) +\n",
    "            5*np.sin(5*x))\n",
    "\n",
    "# exact solution obtained with (si.quad(f, -1, 1, epsabs=1e-16))\n",
    "# NB. the \"exact\" value given in Moin only to 11 s.f.s: −0.56681975015\n",
    "I_exact = -0.5668197501529302"
   ]
  },
  {
   "cell_type": "markdown",
   "metadata": {},
   "source": [
    "## Homework - Implement a \"composite\" version of Gauss-Legendre quadrature [$\\star\\star$]\n",
    "\n",
    "Implement a \"composite\" version of Gauss-Legendre, i.e. split up the total interval into sub-intervals, apply Gauss-Legendre on each subinterval and sum.\n",
    "\n",
    "Compare this method, for differing degrees, against the composite Simpson rule for our $\\sin$ and more complex function we considered in lecture."
   ]
  }
 ],
 "metadata": {
  "celltoolbar": "Slideshow",
  "kernelspec": {
   "display_name": "Python 3",
   "language": "python",
   "name": "python3"
  },
  "language_info": {
   "codemirror_mode": {
    "name": "ipython",
    "version": 3
   },
   "file_extension": ".py",
   "mimetype": "text/x-python",
   "name": "python",
   "nbconvert_exporter": "python",
   "pygments_lexer": "ipython3",
   "version": "3.7.3"
  },
  "latex_envs": {
   "LaTeX_envs_menu_present": true,
   "autoclose": true,
   "autocomplete": true,
   "bibliofile": "biblio.bib",
   "cite_by": "apalike",
   "current_citInitial": 1,
   "eqLabelWithNumbers": true,
   "eqNumInitial": 1,
   "hotkeys": {
    "equation": "Ctrl-E",
    "itemize": "Ctrl-I"
   },
   "labels_anchors": false,
   "latex_user_defs": false,
   "report_style_numbering": false,
   "user_envs_cfg": true
  },
  "toc": {
   "base_numbering": 1,
   "nav_menu": {},
   "number_sections": true,
   "sideBar": true,
   "skip_h1_title": false,
   "title_cell": "Table of Contents",
   "title_sidebar": "Contents",
   "toc_cell": true,
   "toc_position": {
    "height": "calc(100% - 180px)",
    "left": "10px",
    "top": "150px",
    "width": "513px"
   },
   "toc_section_display": true,
   "toc_window_display": false
  }
 },
 "nbformat": 4,
 "nbformat_minor": 4
}
