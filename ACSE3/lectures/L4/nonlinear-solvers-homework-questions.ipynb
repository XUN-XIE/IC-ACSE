{
 "cells": [
  {
   "cell_type": "markdown",
   "metadata": {
    "slideshow": {
     "slide_type": "slide"
    }
   },
   "source": [
    "# ACSE-3 (Numerical Methods)  <a class=\"tocSkip\">\n",
    "\n",
    "## Lecture 4: Nonlinear Solvers (Root-Finding)  <a class=\"tocSkip\">\n",
    "    \n",
    "###  Homework Exercises <a class=\"tocSkip\">"
   ]
  },
  {
   "cell_type": "markdown",
   "metadata": {
    "toc": true
   },
   "source": [
    "<h1>Table of Contents<span class=\"tocSkip\"></span></h1>\n",
    "<div class=\"toc\"><ul class=\"toc-item\"><li><span><a href=\"#Homework\" data-toc-modified-id=\"Homework-1\"><span class=\"toc-item-num\">1&nbsp;&nbsp;</span>Homework</a></span><ul class=\"toc-item\"><li><span><a href=\"#Homework---Bisection-method\" data-toc-modified-id=\"Homework---Bisection-method-1.1\"><span class=\"toc-item-num\">1.1&nbsp;&nbsp;</span>Homework - Bisection method</a></span></li><li><span><a href=\"#Homework---A-single-function-for-Newton,-Quasi-Newton-and-Secant-methods\" data-toc-modified-id=\"Homework---A-single-function-for-Newton,-Quasi-Newton-and-Secant-methods-1.2\"><span class=\"toc-item-num\">1.2&nbsp;&nbsp;</span>Homework - A single function for Newton, Quasi-Newton and Secant methods</a></span></li><li><span><a href=\"#Homework---Compare-methods-[$\\star$]\" data-toc-modified-id=\"Homework---Compare-methods-[$\\star$]-1.3\"><span class=\"toc-item-num\">1.3&nbsp;&nbsp;</span>Homework - Compare methods [$\\star$]</a></span></li><li><span><a href=\"#Homework---Formulate-and-solve-a-nonlinear-financial-problem\" data-toc-modified-id=\"Homework---Formulate-and-solve-a-nonlinear-financial-problem-1.4\"><span class=\"toc-item-num\">1.4&nbsp;&nbsp;</span>Homework - Formulate and solve a nonlinear financial problem</a></span></li><li><span><a href=\"#Homework---Implement-a-nonlinear-system-solver-[$\\star\\star$]\" data-toc-modified-id=\"Homework---Implement-a-nonlinear-system-solver-[$\\star\\star$]-1.5\"><span class=\"toc-item-num\">1.5&nbsp;&nbsp;</span>Homework - Implement a nonlinear system solver [$\\star\\star$]</a></span></li></ul></li></ul></div>"
   ]
  },
  {
   "cell_type": "code",
   "execution_count": 1,
   "metadata": {},
   "outputs": [],
   "source": [
    "%matplotlib inline\n",
    "import numpy as np\n",
    "import matplotlib.pyplot as plt\n",
    "# the following allows us to plot triangles indicating convergence order\n",
    "from mpltools import annotation\n",
    "# scipy's optimization\n",
    "import scipy.optimize as sop\n",
    "import scipy.linalg as sl\n",
    "\n",
    "from mpl_toolkits.axes_grid1.inset_locator import zoomed_inset_axes\n",
    "from mpl_toolkits.axes_grid1.inset_locator import mark_inset\n",
    "\n",
    "# font sizes for plots\n",
    "plt.rcParams['font.size'] = 12\n",
    "plt.rcParams['font.family'] = 'sans-serif'\n",
    "plt.rcParams['font.sans-serif'] = ['Arial', 'Dejavu Sans']"
   ]
  },
  {
   "cell_type": "markdown",
   "metadata": {},
   "source": [
    "# Homework"
   ]
  },
  {
   "cell_type": "markdown",
   "metadata": {},
   "source": [
    "## Homework - Bisection method\n",
    "\n",
    "Implement the bisection algorithm described in the Lecture - see if you can implement both a stand-alone function and apply it to our two problems (and compare with the Scipy result).  \n",
    "\n",
    "You can base this on the algorithm description in class, or the psuedo-code available here <https://en.wikipedia.org/wiki/Bisection_method#Algorithm>."
   ]
  },
  {
   "cell_type": "code",
   "execution_count": 9,
   "metadata": {},
   "outputs": [
    {
     "name": "stdout",
     "output_type": "stream",
     "text": [
      "sop.bisect(f, a, b) =  0.5671432904109679 \n",
      "\n",
      "self function biscrtion =  (0.567143290390959, 35) \n",
      "\n",
      "sop.bisect(f, a, b) =  2.7903546180675676 \n",
      "\n",
      "self function biscrtion =  (2.790354618082347, 36) \n",
      "\n"
     ]
    }
   ],
   "source": [
    "def bisection(f, a, b, tol):\n",
    "    \"\"\" Function to perform root bracketing on the function f(.)\n",
    "    between a and b, with fixed interval size dx.\n",
    "    Returns the bracket of size dx that contains the root.\n",
    "    \"\"\" \n",
    "    sign_l = np.sign(f(a))\n",
    "    sign_r = np.sign(f(b))\n",
    "    \n",
    "    assert sign_l != sign_r\n",
    "    left = a\n",
    "    right = b\n",
    "    mid = (left + right) / 2.\n",
    "    sign_m = np.sign(f(mid))\n",
    "    delta = right - left\n",
    "    \n",
    "    count = 0\n",
    "    \n",
    "    while delta > tol:\n",
    "        if f(mid) == 0:\n",
    "            return mid\n",
    "        \n",
    "        if sign_l == sign_m:\n",
    "            left = mid\n",
    "            \n",
    "        else:\n",
    "            right = mid\n",
    "        mid = (left + right) / 2.\n",
    "        sign_m = np.sign(f(mid))\n",
    "        delta = right - left\n",
    "        \n",
    "        count += 1\n",
    "\n",
    "    return mid, count\n",
    "\n",
    "# case 1\n",
    "def f(x):\n",
    "    return x - np.exp(-x)\n",
    "\n",
    "a, b = -1., 1.\n",
    "print('sop.bisect(f, a, b) = ',sop.bisect(f, a, b),'\\n')\n",
    "\n",
    "print('self function biscrtion = ', bisection(f, a, b, 1e-10), '\\n')\n",
    "\n",
    "# case 2\n",
    "def f(x):\n",
    "    return 2*x + x*np.sin(x-3) - 5\n",
    "\n",
    "a, b = 0., 5.\n",
    "print('sop.bisect(f, a, b) = ',sop.bisect(f, a, b),'\\n')\n",
    "\n",
    "print('self function biscrtion = ', bisection(f, a, b, 1e-10),'\\n')"
   ]
  },
  {
   "cell_type": "markdown",
   "metadata": {},
   "source": [
    "## Homework - A single function for Newton, Quasi-Newton and Secant methods\n",
    "\n",
    "Use the Newton function from the lecture, but with different definitions of the `dfdx` function so that it actually implements the Newton, Quasi-Newton or Secant method. \n",
    "\n",
    "Test your methods by outputting the $x$ iterations in each case, and compare against iterations from our dedicated quasi-newton and secant functions (you'll need to update these to print out the iterations as well)."
   ]
  },
  {
   "cell_type": "code",
   "execution_count": 17,
   "metadata": {},
   "outputs": [
    {
     "name": "stdout",
     "output_type": "stream",
     "text": [
      "Newton (analytical derivative) used 10 function evaluations\n",
      "(0.5671432904098033, 5)\n",
      "Newton (analytical derivative) used 10 function evaluations\n",
      "(2.7903546180673837, 5)\n"
     ]
    }
   ],
   "source": [
    "def newton(f, x0, dfdx, atol=1.0e-6):\n",
    "    \"\"\" Function to implement the Newton-Raphson method\n",
    "    \n",
    "    f is the function we are trying to find a root of\n",
    "    \n",
    "    and dfdx is another function which return the derivative of f\n",
    "    \"\"\"\n",
    "    x = [x0]\n",
    "    fevals = 0\n",
    "    k=0\n",
    "    while True:\n",
    "        x.append(x[-1] - f(x[-1])/dfdx(x[-1],f))  # two function evaluations (f and dfdx)\n",
    "        fevals += 2\n",
    "        k+=1\n",
    "        if abs(x[-1]-x[-2]) < atol:\n",
    "            print('Newton (analytical derivative) used', fevals, 'function evaluations')\n",
    "            return x[-1],k\n",
    "        \n",
    "        \n",
    "###### case 1\n",
    "def f(x):\n",
    "    return x - np.exp(-x)\n",
    "\n",
    "def dfdx(x, f):\n",
    "    return (f(x+1e-10)-f(x))/1e-10\n",
    "\n",
    "x0 = -1.  # initial guess\n",
    "print(newton(f, x0, dfdx))\n",
    "# print(sop.newton(f, x0, dfdx))\n",
    "\n",
    "\n",
    "###### case 2\n",
    "def f(x):\n",
    "    return 2*x + x*np.sin(x-3) - 5\n",
    "\n",
    "\n",
    "\n",
    "x0 = 0.  # initial guess\n",
    "print(newton(f, x0, dfdx))\n"
   ]
  },
  {
   "cell_type": "markdown",
   "metadata": {},
   "source": [
    "## Homework - Compare methods [$\\star$]\n",
    "\n",
    "Implement stand alone solvers for picard, bisection, newton, quasi-newton and secant, each of which returns the number of function evaluations. Test them against SciPy on several problems from the lecture.\n",
    "\n",
    "Compare the number of function evaluations required to find the root of the problem\n",
    "\n",
    "$$ f(x):= x - \\exp(-x). $$"
   ]
  },
  {
   "cell_type": "markdown",
   "metadata": {},
   "source": [
    "## Homework - Formulate and solve a nonlinear financial problem\n",
    "\n",
    "Assume you invest a lump sum of £10,000 in a savings account. \n",
    "\n",
    "Interest on your savings is calculated (and [*compounded*](https://en.wikipedia.org/wiki/Compound_interest)) monthly at an annual interest rate of 5%. \n",
    "\n",
    "Every month you invest a further £500.  \n",
    "\n",
    "Write a function to calculate the value of your investment as a function of time.\n",
    "\n",
    "You can compare your function against online compound interest calculators, such as that at\n",
    "\n",
    "<a href=\"https://www.thecalculatorsite.com/finance/calculators/compoundinterestcalculator.php\">https://www.thecalculatorsite.com/finance/calculators/compoundinterestcalculator.php</a>\n",
    "\n",
    "\n",
    "[To check your function you could enter into this online calculator £10000 as a base amount, 5% interest, 60 month (or 5 year) calculation period, £500 regular monthly investment, and a monthly compound interval.  You should find an investment balance of £46,978.31 at the end of the period.]\n",
    "\n",
    "\n",
    "Use a nonlinear solver to work out how many years (or months) it would take you to build up £1M in your investment pot!\n",
    "\n",
    "\n",
    "Answer: I make the answer 43.0927 years or 517.1120 months"
   ]
  },
  {
   "cell_type": "code",
   "execution_count": 39,
   "metadata": {},
   "outputs": [
    {
     "data": {
      "text/plain": [
       "[<matplotlib.lines.Line2D at 0x10135cde10>]"
      ]
     },
     "execution_count": 39,
     "metadata": {},
     "output_type": "execute_result"
    },
    {
     "data": {
      "image/png": "[encoded data removed]",
      "text/plain": [
       "<Figure size 432x288 with 1 Axes>"
      ]
     },
     "metadata": {
      "needs_background": "light"
     },
     "output_type": "display_data"
    }
   ],
   "source": [
    "def f(t):\n",
    "    if t == 0 or t <= 0:\n",
    "        return 1e4\n",
    "\n",
    "    return f(t-1)*1.05+500\n",
    "\n",
    "def g(t):\n",
    "    return f(t) - 1e6\n",
    "\n",
    "t = np.arange(100)\n",
    "G = np.zeros_like(t)\n",
    "for i in range(len(G)):\n",
    "    G[i] = g(i)\n",
    "plt.plot(t, G)\n",
    "plt.plot(t, np.zeros_like(t))"
   ]
  },
  {
   "cell_type": "code",
   "execution_count": 40,
   "metadata": {},
   "outputs": [
    {
     "data": {
      "text/plain": [
       "-18771.178663148894"
      ]
     },
     "execution_count": 40,
     "metadata": {},
     "output_type": "execute_result"
    }
   ],
   "source": [
    "g(80)"
   ]
  },
  {
   "cell_type": "code",
   "execution_count": 41,
   "metadata": {},
   "outputs": [
    {
     "data": {
      "text/plain": [
       "30790.26240369375"
      ]
     },
     "execution_count": 41,
     "metadata": {},
     "output_type": "execute_result"
    }
   ],
   "source": [
    "g(81)"
   ]
  },
  {
   "cell_type": "code",
   "execution_count": 42,
   "metadata": {},
   "outputs": [
    {
     "data": {
      "text/plain": [
       "(80.00003051757812, 14)"
      ]
     },
     "execution_count": 42,
     "metadata": {},
     "output_type": "execute_result"
    }
   ],
   "source": [
    "bisection(g , 80, 81, 1e-4)"
   ]
  },
  {
   "cell_type": "markdown",
   "metadata": {},
   "source": [
    "## Homework - Implement a nonlinear system solver [$\\star\\star$]\n",
    "\n",
    "This is Kiusalaas Problem set 4.1, Problem 24.\n",
    "\n",
    "The equations\n",
    "\n",
    "$$\\begin{align*}\n",
    "\\sin x + 3 \\cos x − 2 & = 0 \\\\[5pt]\n",
    "\\cos x − \\sin y + \\frac{1}{5} & = 0\n",
    "\\end{align*}$$\n",
    "\n",
    "have a solution in the vicinity of the point $(x,y)=(1, 1)$ (i.e. you are well advised to use this as your starting point. \n",
    "\n",
    "Based upon the description from the lecture, implement a version of Newton's method that operates on a **system of equations** and use it to find the root of this problem.\n",
    "\n",
    "[You can use a numerical approximation method to calculate the Jacobian and `scipy.linalg.solve` to solve the linear system required to yield the iteration update].\n",
    "\n",
    "You can compare your implementation against the solution obtained in this lecture for scalar cases, and then for systems you could compare against [`scipy.optimize.root`](https://docs.scipy.org/doc/scipy-0.14.0/reference/generated/scipy.optimize.root.html).\n",
    "\n",
    "Answer: $(x,y)=(0.7911678,\\; 1.12673723)$."
   ]
  },
  {
   "cell_type": "code",
   "execution_count": null,
   "metadata": {},
   "outputs": [],
   "source": []
  }
 ],
 "metadata": {
  "celltoolbar": "Slideshow",
  "kernelspec": {
   "display_name": "Python 3",
   "language": "python",
   "name": "python3"
  },
  "language_info": {
   "codemirror_mode": {
    "name": "ipython",
    "version": 3
   },
   "file_extension": ".py",
   "mimetype": "text/x-python",
   "name": "python",
   "nbconvert_exporter": "python",
   "pygments_lexer": "ipython3",
   "version": "3.7.3"
  },
  "latex_envs": {
   "LaTeX_envs_menu_present": true,
   "autoclose": true,
   "autocomplete": false,
   "bibliofile": "biblio.bib",
   "cite_by": "apalike",
   "current_citInitial": 1,
   "eqLabelWithNumbers": true,
   "eqNumInitial": 1,
   "hotkeys": {
    "equation": "Ctrl-E",
    "itemize": "Ctrl-I"
   },
   "labels_anchors": false,
   "latex_user_defs": false,
   "report_style_numbering": false,
   "user_envs_cfg": true
  },
  "toc": {
   "base_numbering": 1,
   "nav_menu": {},
   "number_sections": true,
   "sideBar": true,
   "skip_h1_title": false,
   "title_cell": "Table of Contents",
   "title_sidebar": "Contents",
   "toc_cell": true,
   "toc_position": {},
   "toc_section_display": true,
   "toc_window_display": false
  }
 },
 "nbformat": 4,
 "nbformat_minor": 4
}
